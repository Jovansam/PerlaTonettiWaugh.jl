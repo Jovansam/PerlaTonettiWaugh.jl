{
 "cells": [
  {
   "cell_type": "code",
   "execution_count": null,
   "metadata": {},
   "outputs": [],
   "source": [
    "using Pkg\n",
    "pkg\"activate .\""
   ]
  },
  {
   "cell_type": "code",
   "execution_count": null,
   "metadata": {},
   "outputs": [],
   "source": [
    "using PerlaTonettiWaugh, LinearAlgebra, Plots, BenchmarkTools, Interpolations, QuadGK, DifferentialEquations, BlackBoxOptim, Optim, Dierckx"
   ]
  },
  {
   "cell_type": "markdown",
   "metadata": {},
   "source": [
    "Set up parameters and find the corresponding stationary solution:"
   ]
  },
  {
   "cell_type": "code",
   "execution_count": null,
   "metadata": {},
   "outputs": [],
   "source": [
    "z_min = 0.0 \n",
    "z_max = 5.0\n",
    "M = 1000\n",
    "z_grid = range(z_min, stop = z_max, length = M) # Since we only care about the grid. \n",
    "\n",
    "# Define common objects. \n",
    "d_0 = 5\n",
    "d_T = 2.3701\n",
    "params = (ρ = 0.02, σ = 4.2508, N = 10, θ = 5.1269, γ = 1.00, κ = 0.013, ζ = 1, η = 0, Theta = 1, χ = 1/(2.1868), υ = 0.0593, μ = 0, δ = 0.053) # Baselines per Jesse. \n",
    "δ = params.δ\n",
    "# solve for stationary solution at t = 0\n",
    "params_0 = merge(params, (d = d_0,)) # parameters to be used at t = 0\n",
    "params_T = merge(params, (d = d_T,)) # parameters to be used at t = T\n",
    "\n",
    "stationary_sol_0 = stationary_numerical(params_0, z_grid) # solution at t = 0\n",
    "stationary_sol = stationary_numerical(params_T, z_grid) # solution at t = T\n",
    "\n",
    "Ω_0 = stationary_sol_0.Ω\n",
    "Ω_T = stationary_sol.Ω\n",
    "settings = (z = z_grid, tstops = nothing, Δ_E = 1e-06)\n",
    "\n",
    "println(\"g = $(stationary_sol.g), z_hat = $(stationary_sol.z_hat), Ω = $(stationary_sol.Ω)\")"
   ]
  },
  {
   "cell_type": "markdown",
   "metadata": {
    "scrolled": true
   },
   "source": [
    "Define the objective function:"
   ]
  },
  {
   "cell_type": "code",
   "execution_count": null,
   "metadata": {},
   "outputs": [],
   "source": [
    "function solve_with_candidate(candidate)\n",
    "    candidate = [candidate...] # if candidate is a tuple, convert it to an array\n",
    "    T = candidate[end]\n",
    "    \n",
    "    candidate = [sort(candidate[1:(end-1)]); 0.0] # fix the point at T to be zero\n",
    "    \n",
    "    # construct Ω and E\n",
    "    E_hat_vec_range = candidate[end] - candidate[1]\n",
    "    E_hat_vec_scaled = (candidate .- candidate[1]) ./ E_hat_vec_range .- 1.0 \n",
    "    ts = range(0.0, stop=T, length=length(candidate))\n",
    "    E_hat_interpolation = CubicSplineInterpolation(ts, E_hat_vec_scaled) # might worth trying cubic spline\n",
    "    E_hat(t) = E_hat_interpolation(t)\n",
    "\n",
    "    M = log(Ω_T/Ω_0) / quadgk(E_hat, 0, T)[1]\n",
    "    Ω_derivative(Ω,p,t) = M*E_hat(t)*Ω\n",
    "    Ω_solution = try DifferentialEquations.solve(ODEProblem(Ω_derivative,Ω_0,(0.0, T)), reltol = 1e-15) catch; return Inf end\n",
    "    Ω(t::Float64) = t <= T ? Ω_solution(t) : Ω_solution(T)\n",
    "    E(t::Float64) = M*E_hat(t) + δ\n",
    "\n",
    "    # solve the dynamics and get the resulting entry_residual vector; if solution is not valid, return Inf\n",
    "    return solve_dynamics(params_T, stationary_sol, settings, T, Ω, E; detailed_solution = true)\n",
    "end\n",
    "\n",
    "function evaluate_candidate(candidate)\n",
    "    candidate = [candidate...] # if candidate is a tuple, convert it to an array\n",
    "    T = candidate[end]\n",
    "    candidate = [sort(candidate[1:(end-1)]); 0.0] # fix the point at T to be zero\n",
    "    \n",
    "    # construct Ω and E\n",
    "    E_hat_vec_range = candidate[end] - candidate[1]\n",
    "    E_hat_vec_scaled = (candidate .- candidate[1]) ./ E_hat_vec_range .- 1.0 \n",
    "    ts = range(0.0, stop=T, length=length(candidate))\n",
    "    E_hat_interpolation = Spline1D(ts, E_hat_vec_scaled; k = 3) # cubic spline\n",
    "    \n",
    "    M = log(Ω_T/Ω_0) / integrate(E_hat_interpolation, 0, T)\n",
    "    Ω_derivative(Ω,p,t) = M*E_hat_interpolation(t)*Ω\n",
    "    Ω_solution = try DifferentialEquations.solve(ODEProblem(Ω_derivative,Ω_0,(0.0, T)), reltol = 1e-15) catch; return Inf end\n",
    "    Ω = t -> t <= T ? Ω_solution(t) : Ω_solution(T)\n",
    "    E = t -> M*E_hat_interpolation(t) + δ\n",
    "\n",
    "    # solve the dynamics and get the resulting entry_residual vector; if solution is not valid, return Inf\n",
    "    solved = try solve_dynamics(params_T, stationary_sol, settings, T, Ω, E; detailed_solution = false).results catch; return Inf end\n",
    "    \n",
    "    t = solved.t\n",
    "    entry_residual = solved.entry_residual\n",
    "\n",
    "    # interpolate on returned entry_residual\n",
    "    entry_residual_interpolated = LinearInterpolation(t, entry_residual)\n",
    "\n",
    "    # evaluate entry_residual on entry_residual_nodes, return the norm\n",
    "    entry_residuals_nodes = range(0, stop = T, length = ENTRY_RESIDUALS_NODES_COUNT + 2)\n",
    "    \n",
    "    entry_residuals_vector = entry_residual_interpolated.(entry_residuals_nodes[2:(end-1)])\n",
    "    \n",
    "    return (sqrt(sum(entry_residuals_vector .* WEIGHTS .* entry_residuals_vector)))\n",
    "end"
   ]
  },
  {
   "cell_type": "markdown",
   "metadata": {},
   "source": [
    "Setup for optimizer:"
   ]
  },
  {
   "cell_type": "code",
   "execution_count": null,
   "metadata": {},
   "outputs": [],
   "source": [
    "ENTRY_RESIDUALS_NODES_COUNT = 15\n",
    "E_NODE_COUNT = 15\n",
    "MAX_TIME = 600\n",
    "SOLUTION = [-0.999796577020432; -0.8036317953452055; -0.645518803247465; -0.49798592837781547; -0.3129924179644726; -0.2924929980811199; -0.19484667032438624; -0.10940512894596714; -0.09952048306670645; -0.09391117400750042; -0.04912000885073606; -0.03274479455962143; -0.016461404893110952; -0.011579533358115129; 34.61456648920588]"
   ]
  },
  {
   "cell_type": "markdown",
   "metadata": {},
   "source": [
    "Find optimal `Ω`:"
   ]
  },
  {
   "cell_type": "code",
   "execution_count": null,
   "metadata": {
    "scrolled": true
   },
   "outputs": [],
   "source": [
    "# WEIGHTS = [2; fill(1.5, 3); fill(1, ENTRY_RESIDUALS_NODES_COUNT-4)] # reducing residuals in the beginning helps overall behav.\n",
    "# result2 = optimize(evaluate_candidate, SOLUTION, BFGS(), Optim.Options(time_limit = MAX_TIME, show_trace = true))\n",
    "# SOLUTION = result.minimizer"
   ]
  },
  {
   "cell_type": "markdown",
   "metadata": {},
   "source": [
    "Find the corresponding solution"
   ]
  },
  {
   "cell_type": "code",
   "execution_count": null,
   "metadata": {},
   "outputs": [],
   "source": [
    "# [-0.999796577020432; -0.8036317953452055; -0.645518803247465; -0.49798592837781547; -0.3129924179644726; -0.2924929980811199; -0.19484667032438624; -0.10940512894596714; -0.09952048306670645; -0.09391117400750042; -0.04912000885073606; -0.03274479455962143; -0.016461404893110952; -0.011579533358115129; 34.61456648920588]\n",
    "# gives good solution.\n",
    "solved = solve_with_candidate(SOLUTION)\n",
    "\n",
    "v_t0 = solved.sol.u[1][1:M]\n",
    "v0 = solved.results[:v_0]\n",
    "# save v0 and v_hat_t0\n",
    "v_hat_t0 = map(z -> exp((params.σ-1)*z), z_grid) .* v_t0;\n",
    "\n",
    "solved = solved.results"
   ]
  },
  {
   "cell_type": "markdown",
   "metadata": {},
   "source": [
    "## Plots for Ω and `entry_residuals`"
   ]
  },
  {
   "cell_type": "code",
   "execution_count": null,
   "metadata": {},
   "outputs": [],
   "source": [
    "plot_Ω = plot(solved.t, solved.Ω, label = \"Omega\", lw = 3)\n",
    "plot_residual = plot(solved.t, solved.entry_residual, label = \"entry_residual\", lw = 3)\n",
    "plot(plot_Ω, plot_residual, layout = (2,1))"
   ]
  },
  {
   "cell_type": "markdown",
   "metadata": {},
   "source": [
    "## Primary Plots"
   ]
  },
  {
   "cell_type": "code",
   "execution_count": null,
   "metadata": {},
   "outputs": [],
   "source": [
    "plot1 = plot(solved.t, solved.g, label = \"g\", lw = 3)\n",
    "plot2 = plot(solved.t, solved.z_hat, label = \"z_hat\", lw = 3)\n",
    "plot3 = plot(solved.t, solved.S, label = \"S\", lw = 3)\n",
    "plot4 = plot(solved.t, solved.entry_residual, label = \"entry_residual\", lw = 3)\n",
    "plot(plot1, plot2, plot3, plot4, layout=(2,2))"
   ]
  },
  {
   "cell_type": "markdown",
   "metadata": {},
   "source": [
    "## Static Equations"
   ]
  },
  {
   "cell_type": "code",
   "execution_count": null,
   "metadata": {},
   "outputs": [],
   "source": [
    "plot1 = plot(solved.t, solved.L_tilde, label = \"L_tilde\", lw = 3)\n",
    "plot2 = plot(solved.t, solved.z_bar, label = \"z_bar\", lw = 3)\n",
    "plot3 = plot(solved.t, solved.π_min, label = \"pi_min\", lw = 3)\n",
    "plot4 = plot(solved.t, solved.λ_ii, label = \"lambda_ii\", lw = 3)\n",
    "plot5 = plot(solved.t, solved.c, label = \"c\", lw = 3)\n",
    "plot6 = plot(solved.t, solved.E, label = \"E\", lw = 3)\n",
    "plot7 = plot(solved.t, solved.log_M, label = \"log_M\", lw = 3)\n",
    "plot8 = plot(solved.t, solved.U, label = \"U\", lw = 3)\n",
    "plot9 = plot(z_grid, v_hat_t0, label = \"v_hat at t = 0\", lw = 3)\n",
    "plot(plot1, plot2, plot3, plot4, plot5, plot6, plot7, plot8, layout=(4,2))"
   ]
  },
  {
   "cell_type": "code",
   "execution_count": null,
   "metadata": {},
   "outputs": [],
   "source": [
    "# Can examine the returned data with the Voyager and/or Vegalite\n",
    "using DataVoyager, VegaLite\n",
    "solved |> Voyager()\n",
    "#solved |> @vlplot(:line, x = :t, y = :g, width=400, height=400)"
   ]
  }
 ],
 "metadata": {
  "kernelspec": {
   "display_name": "Julia 1.0.0",
   "language": "julia",
   "name": "julia-1.0"
  },
  "language_info": {
   "file_extension": ".jl",
   "mimetype": "application/julia",
   "name": "julia",
   "version": "1.0.0"
  }
 },
 "nbformat": 4,
 "nbformat_minor": 2
}
