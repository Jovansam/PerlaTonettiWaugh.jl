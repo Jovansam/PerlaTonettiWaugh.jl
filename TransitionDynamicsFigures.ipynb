{
 "cells": [
  {
   "cell_type": "code",
   "execution_count": 2,
   "metadata": {
    "autoscroll": "auto",
    "options": {
     "caption": false,
     "complete": true,
     "display_data": true,
     "display_stream": true,
     "dpi": 200,
     "echo": true,
     "evaluate": true,
     "f_env": null,
     "f_pos": "htpb",
     "f_size": [
      6,
      4
     ],
     "f_spines": true,
     "fig": true,
     "include": true,
     "name": null,
     "option_string": "",
     "results": "verbatim",
     "term": false,
     "wrap": "output"
    }
   },
   "outputs": [],
   "source": [
    "import pandas as pd\n",
    "import matplotlib.pyplot as plt\n",
    "import numpy as np\n",
    "import os as os\n",
    "\n",
    "from mpl_toolkits.axes_grid1.inset_locator import zoomed_inset_axes\n",
    "from mpl_toolkits.axes_grid1.inset_locator import mark_inset"
   ]
  },
  {
   "cell_type": "markdown",
   "metadata": {},
   "source": [
    "Load the transition path computed in [TransitionDynamics.ipynb](https://github.com/jlperla/PerlaTonettiWaugh.jl/blob/master/TransitionDynamics.ipynb)"
   ]
  },
  {
   "cell_type": "code",
   "execution_count": 3,
   "metadata": {
    "autoscroll": "auto",
    "options": {
     "caption": false,
     "complete": true,
     "display_data": true,
     "display_stream": true,
     "dpi": 200,
     "echo": true,
     "evaluate": true,
     "f_env": null,
     "f_pos": "htpb",
     "f_size": [
      6,
      4
     ],
     "f_spines": true,
     "fig": true,
     "include": true,
     "name": null,
     "option_string": "",
     "results": "verbatim",
     "term": false,
     "wrap": "output"
    }
   },
   "outputs": [],
   "source": [
    "output_location = \"data/\"\n",
    "hash_value = \"11368798858269829579\"\n",
    "output_location = output_location + hash_value + \".csv\"\n",
    "df = pd.read_csv(output_location) # front-loaded with stationary \n",
    "fig_path = \"figures/\""
   ]
  },
  {
   "cell_type": "markdown",
   "metadata": {},
   "source": [
    "The main dataframe is front-loaded with the time-0 stationary solution"
   ]
  },
  {
   "cell_type": "code",
   "execution_count": 4,
   "metadata": {
    "autoscroll": "auto",
    "options": {
     "caption": false,
     "complete": true,
     "display_data": true,
     "display_stream": true,
     "dpi": 200,
     "echo": true,
     "evaluate": true,
     "f_env": null,
     "f_pos": "htpb",
     "f_size": [
      6,
      4
     ],
     "f_spines": true,
     "fig": true,
     "include": true,
     "name": null,
     "option_string": "",
     "results": "verbatim",
     "term": false,
     "wrap": "output"
    }
   },
   "outputs": [
    {
     "data": {
      "text/html": [
       "<div>\n",
       "<style scoped>\n",
       "    .dataframe tbody tr th:only-of-type {\n",
       "        vertical-align: middle;\n",
       "    }\n",
       "\n",
       "    .dataframe tbody tr th {\n",
       "        vertical-align: top;\n",
       "    }\n",
       "\n",
       "    .dataframe thead th {\n",
       "        text-align: right;\n",
       "    }\n",
       "</style>\n",
       "<table border=\"1\" class=\"dataframe\">\n",
       "  <thead>\n",
       "    <tr style=\"text-align: right;\">\n",
       "      <th></th>\n",
       "      <th>t</th>\n",
       "      <th>g</th>\n",
       "      <th>z_hat</th>\n",
       "      <th>Ω</th>\n",
       "      <th>E</th>\n",
       "      <th>v_1</th>\n",
       "      <th>L_tilde</th>\n",
       "      <th>entry_residual</th>\n",
       "      <th>λ_ii</th>\n",
       "      <th>S</th>\n",
       "      <th>...</th>\n",
       "      <th>c</th>\n",
       "      <th>π_min</th>\n",
       "      <th>log_M</th>\n",
       "      <th>U</th>\n",
       "      <th>π_rat</th>\n",
       "      <th>L_tilde_a</th>\n",
       "      <th>L_tilde_x</th>\n",
       "      <th>L_tilde_E</th>\n",
       "      <th>w</th>\n",
       "      <th>r</th>\n",
       "    </tr>\n",
       "  </thead>\n",
       "  <tbody>\n",
       "    <tr>\n",
       "      <td>0</td>\n",
       "      <td>-20.00</td>\n",
       "      <td>0.007920</td>\n",
       "      <td>1.988198</td>\n",
       "      <td>0.685242</td>\n",
       "      <td>0.020000</td>\n",
       "      <td>6.866778</td>\n",
       "      <td>0.242265</td>\n",
       "      <td>-1.570299e-12</td>\n",
       "      <td>0.894633</td>\n",
       "      <td>0.165460</td>\n",
       "      <td>...</td>\n",
       "      <td>0.871505</td>\n",
       "      <td>0.258243</td>\n",
       "      <td>-0.158403</td>\n",
       "      <td>12.385290</td>\n",
       "      <td>1.858289</td>\n",
       "      <td>0.113380</td>\n",
       "      <td>0.020842</td>\n",
       "      <td>0.108043</td>\n",
       "      <td>0.786970</td>\n",
       "      <td>0.048258</td>\n",
       "    </tr>\n",
       "    <tr>\n",
       "      <td>1</td>\n",
       "      <td>-15.00</td>\n",
       "      <td>0.007920</td>\n",
       "      <td>1.988198</td>\n",
       "      <td>0.685242</td>\n",
       "      <td>0.020000</td>\n",
       "      <td>6.866778</td>\n",
       "      <td>0.242265</td>\n",
       "      <td>-1.570299e-12</td>\n",
       "      <td>0.894633</td>\n",
       "      <td>0.165460</td>\n",
       "      <td>...</td>\n",
       "      <td>0.871505</td>\n",
       "      <td>0.258243</td>\n",
       "      <td>-0.118803</td>\n",
       "      <td>12.385290</td>\n",
       "      <td>1.858289</td>\n",
       "      <td>0.113380</td>\n",
       "      <td>0.020842</td>\n",
       "      <td>0.108043</td>\n",
       "      <td>0.786970</td>\n",
       "      <td>0.048258</td>\n",
       "    </tr>\n",
       "    <tr>\n",
       "      <td>2</td>\n",
       "      <td>-10.00</td>\n",
       "      <td>0.007920</td>\n",
       "      <td>1.988198</td>\n",
       "      <td>0.685242</td>\n",
       "      <td>0.020000</td>\n",
       "      <td>6.866778</td>\n",
       "      <td>0.242265</td>\n",
       "      <td>-1.570299e-12</td>\n",
       "      <td>0.894633</td>\n",
       "      <td>0.165460</td>\n",
       "      <td>...</td>\n",
       "      <td>0.871505</td>\n",
       "      <td>0.258243</td>\n",
       "      <td>-0.079202</td>\n",
       "      <td>12.385290</td>\n",
       "      <td>1.858289</td>\n",
       "      <td>0.113380</td>\n",
       "      <td>0.020842</td>\n",
       "      <td>0.108043</td>\n",
       "      <td>0.786970</td>\n",
       "      <td>0.048258</td>\n",
       "    </tr>\n",
       "    <tr>\n",
       "      <td>3</td>\n",
       "      <td>-5.00</td>\n",
       "      <td>0.007920</td>\n",
       "      <td>1.988198</td>\n",
       "      <td>0.685242</td>\n",
       "      <td>0.020000</td>\n",
       "      <td>6.866778</td>\n",
       "      <td>0.242265</td>\n",
       "      <td>-1.570299e-12</td>\n",
       "      <td>0.894633</td>\n",
       "      <td>0.165460</td>\n",
       "      <td>...</td>\n",
       "      <td>0.871505</td>\n",
       "      <td>0.258243</td>\n",
       "      <td>-0.039601</td>\n",
       "      <td>12.385290</td>\n",
       "      <td>1.858289</td>\n",
       "      <td>0.113380</td>\n",
       "      <td>0.020842</td>\n",
       "      <td>0.108043</td>\n",
       "      <td>0.786970</td>\n",
       "      <td>0.048258</td>\n",
       "    </tr>\n",
       "    <tr>\n",
       "      <td>4</td>\n",
       "      <td>-1.00</td>\n",
       "      <td>0.007920</td>\n",
       "      <td>1.988198</td>\n",
       "      <td>0.685242</td>\n",
       "      <td>0.020000</td>\n",
       "      <td>6.866778</td>\n",
       "      <td>0.242265</td>\n",
       "      <td>-1.570299e-12</td>\n",
       "      <td>0.894633</td>\n",
       "      <td>0.165460</td>\n",
       "      <td>...</td>\n",
       "      <td>0.871505</td>\n",
       "      <td>0.258243</td>\n",
       "      <td>-0.007920</td>\n",
       "      <td>12.385290</td>\n",
       "      <td>1.858289</td>\n",
       "      <td>0.113380</td>\n",
       "      <td>0.020842</td>\n",
       "      <td>0.108043</td>\n",
       "      <td>0.786970</td>\n",
       "      <td>0.048258</td>\n",
       "    </tr>\n",
       "    <tr>\n",
       "      <td>5</td>\n",
       "      <td>0.00</td>\n",
       "      <td>0.008983</td>\n",
       "      <td>1.875040</td>\n",
       "      <td>0.685242</td>\n",
       "      <td>0.015864</td>\n",
       "      <td>6.866778</td>\n",
       "      <td>0.230633</td>\n",
       "      <td>0.000000e+00</td>\n",
       "      <td>0.860988</td>\n",
       "      <td>0.170765</td>\n",
       "      <td>...</td>\n",
       "      <td>0.900676</td>\n",
       "      <td>0.252346</td>\n",
       "      <td>0.000000</td>\n",
       "      <td>17.428837</td>\n",
       "      <td>1.891829</td>\n",
       "      <td>0.117015</td>\n",
       "      <td>0.027919</td>\n",
       "      <td>0.085699</td>\n",
       "      <td>0.801016</td>\n",
       "      <td>0.047563</td>\n",
       "    </tr>\n",
       "    <tr>\n",
       "      <td>6</td>\n",
       "      <td>0.25</td>\n",
       "      <td>0.008992</td>\n",
       "      <td>1.874884</td>\n",
       "      <td>0.684930</td>\n",
       "      <td>0.015911</td>\n",
       "      <td>6.866778</td>\n",
       "      <td>0.230821</td>\n",
       "      <td>0.000000e+00</td>\n",
       "      <td>0.860960</td>\n",
       "      <td>0.170807</td>\n",
       "      <td>...</td>\n",
       "      <td>0.900280</td>\n",
       "      <td>0.252391</td>\n",
       "      <td>0.002247</td>\n",
       "      <td>17.543673</td>\n",
       "      <td>1.891858</td>\n",
       "      <td>0.116991</td>\n",
       "      <td>0.027918</td>\n",
       "      <td>0.085912</td>\n",
       "      <td>0.800859</td>\n",
       "      <td>0.047582</td>\n",
       "    </tr>\n",
       "    <tr>\n",
       "      <td>7</td>\n",
       "      <td>0.50</td>\n",
       "      <td>0.009000</td>\n",
       "      <td>1.874729</td>\n",
       "      <td>0.684619</td>\n",
       "      <td>0.015957</td>\n",
       "      <td>6.866778</td>\n",
       "      <td>0.231007</td>\n",
       "      <td>0.000000e+00</td>\n",
       "      <td>0.860932</td>\n",
       "      <td>0.170850</td>\n",
       "      <td>...</td>\n",
       "      <td>0.899887</td>\n",
       "      <td>0.252437</td>\n",
       "      <td>0.004496</td>\n",
       "      <td>17.658640</td>\n",
       "      <td>1.891887</td>\n",
       "      <td>0.116967</td>\n",
       "      <td>0.027916</td>\n",
       "      <td>0.086124</td>\n",
       "      <td>0.800703</td>\n",
       "      <td>0.047600</td>\n",
       "    </tr>\n",
       "    <tr>\n",
       "      <td>8</td>\n",
       "      <td>0.75</td>\n",
       "      <td>0.009009</td>\n",
       "      <td>1.874574</td>\n",
       "      <td>0.684309</td>\n",
       "      <td>0.016003</td>\n",
       "      <td>6.866778</td>\n",
       "      <td>0.231192</td>\n",
       "      <td>0.000000e+00</td>\n",
       "      <td>0.860904</td>\n",
       "      <td>0.170892</td>\n",
       "      <td>...</td>\n",
       "      <td>0.899496</td>\n",
       "      <td>0.252482</td>\n",
       "      <td>0.006747</td>\n",
       "      <td>17.773739</td>\n",
       "      <td>1.891916</td>\n",
       "      <td>0.116943</td>\n",
       "      <td>0.027915</td>\n",
       "      <td>0.086334</td>\n",
       "      <td>0.800548</td>\n",
       "      <td>0.047619</td>\n",
       "    </tr>\n",
       "    <tr>\n",
       "      <td>9</td>\n",
       "      <td>1.00</td>\n",
       "      <td>0.009017</td>\n",
       "      <td>1.874419</td>\n",
       "      <td>0.684001</td>\n",
       "      <td>0.016049</td>\n",
       "      <td>6.866778</td>\n",
       "      <td>0.231376</td>\n",
       "      <td>0.000000e+00</td>\n",
       "      <td>0.860876</td>\n",
       "      <td>0.170934</td>\n",
       "      <td>...</td>\n",
       "      <td>0.899108</td>\n",
       "      <td>0.252527</td>\n",
       "      <td>0.009000</td>\n",
       "      <td>17.888968</td>\n",
       "      <td>1.891945</td>\n",
       "      <td>0.116919</td>\n",
       "      <td>0.027914</td>\n",
       "      <td>0.086542</td>\n",
       "      <td>0.800394</td>\n",
       "      <td>0.047638</td>\n",
       "    </tr>\n",
       "  </tbody>\n",
       "</table>\n",
       "<p>10 rows × 21 columns</p>\n",
       "</div>"
      ],
      "text/plain": [
       "       t         g     z_hat         Ω         E       v_1   L_tilde  \\\n",
       "0 -20.00  0.007920  1.988198  0.685242  0.020000  6.866778  0.242265   \n",
       "1 -15.00  0.007920  1.988198  0.685242  0.020000  6.866778  0.242265   \n",
       "2 -10.00  0.007920  1.988198  0.685242  0.020000  6.866778  0.242265   \n",
       "3  -5.00  0.007920  1.988198  0.685242  0.020000  6.866778  0.242265   \n",
       "4  -1.00  0.007920  1.988198  0.685242  0.020000  6.866778  0.242265   \n",
       "5   0.00  0.008983  1.875040  0.685242  0.015864  6.866778  0.230633   \n",
       "6   0.25  0.008992  1.874884  0.684930  0.015911  6.866778  0.230821   \n",
       "7   0.50  0.009000  1.874729  0.684619  0.015957  6.866778  0.231007   \n",
       "8   0.75  0.009009  1.874574  0.684309  0.016003  6.866778  0.231192   \n",
       "9   1.00  0.009017  1.874419  0.684001  0.016049  6.866778  0.231376   \n",
       "\n",
       "   entry_residual      λ_ii         S  ...         c     π_min     log_M  \\\n",
       "0   -1.570299e-12  0.894633  0.165460  ...  0.871505  0.258243 -0.158403   \n",
       "1   -1.570299e-12  0.894633  0.165460  ...  0.871505  0.258243 -0.118803   \n",
       "2   -1.570299e-12  0.894633  0.165460  ...  0.871505  0.258243 -0.079202   \n",
       "3   -1.570299e-12  0.894633  0.165460  ...  0.871505  0.258243 -0.039601   \n",
       "4   -1.570299e-12  0.894633  0.165460  ...  0.871505  0.258243 -0.007920   \n",
       "5    0.000000e+00  0.860988  0.170765  ...  0.900676  0.252346  0.000000   \n",
       "6    0.000000e+00  0.860960  0.170807  ...  0.900280  0.252391  0.002247   \n",
       "7    0.000000e+00  0.860932  0.170850  ...  0.899887  0.252437  0.004496   \n",
       "8    0.000000e+00  0.860904  0.170892  ...  0.899496  0.252482  0.006747   \n",
       "9    0.000000e+00  0.860876  0.170934  ...  0.899108  0.252527  0.009000   \n",
       "\n",
       "           U     π_rat  L_tilde_a  L_tilde_x  L_tilde_E         w         r  \n",
       "0  12.385290  1.858289   0.113380   0.020842   0.108043  0.786970  0.048258  \n",
       "1  12.385290  1.858289   0.113380   0.020842   0.108043  0.786970  0.048258  \n",
       "2  12.385290  1.858289   0.113380   0.020842   0.108043  0.786970  0.048258  \n",
       "3  12.385290  1.858289   0.113380   0.020842   0.108043  0.786970  0.048258  \n",
       "4  12.385290  1.858289   0.113380   0.020842   0.108043  0.786970  0.048258  \n",
       "5  17.428837  1.891829   0.117015   0.027919   0.085699  0.801016  0.047563  \n",
       "6  17.543673  1.891858   0.116991   0.027918   0.085912  0.800859  0.047582  \n",
       "7  17.658640  1.891887   0.116967   0.027916   0.086124  0.800703  0.047600  \n",
       "8  17.773739  1.891916   0.116943   0.027915   0.086334  0.800548  0.047619  \n",
       "9  17.888968  1.891945   0.116919   0.027914   0.086542  0.800394  0.047638  \n",
       "\n",
       "[10 rows x 21 columns]"
      ]
     },
     "execution_count": 4,
     "metadata": {},
     "output_type": "execute_result"
    }
   ],
   "source": [
    "df.head(10)"
   ]
  },
  {
   "cell_type": "markdown",
   "metadata": {},
   "source": [
    "And here is a view of the final observations."
   ]
  },
  {
   "cell_type": "code",
   "execution_count": 5,
   "metadata": {},
   "outputs": [
    {
     "data": {
      "text/html": [
       "<div>\n",
       "<style scoped>\n",
       "    .dataframe tbody tr th:only-of-type {\n",
       "        vertical-align: middle;\n",
       "    }\n",
       "\n",
       "    .dataframe tbody tr th {\n",
       "        vertical-align: top;\n",
       "    }\n",
       "\n",
       "    .dataframe thead th {\n",
       "        text-align: right;\n",
       "    }\n",
       "</style>\n",
       "<table border=\"1\" class=\"dataframe\">\n",
       "  <thead>\n",
       "    <tr style=\"text-align: right;\">\n",
       "      <th></th>\n",
       "      <th>t</th>\n",
       "      <th>g</th>\n",
       "      <th>z_hat</th>\n",
       "      <th>Ω</th>\n",
       "      <th>E</th>\n",
       "      <th>v_1</th>\n",
       "      <th>L_tilde</th>\n",
       "      <th>entry_residual</th>\n",
       "      <th>λ_ii</th>\n",
       "      <th>S</th>\n",
       "      <th>...</th>\n",
       "      <th>c</th>\n",
       "      <th>π_min</th>\n",
       "      <th>log_M</th>\n",
       "      <th>U</th>\n",
       "      <th>π_rat</th>\n",
       "      <th>L_tilde_a</th>\n",
       "      <th>L_tilde_x</th>\n",
       "      <th>L_tilde_E</th>\n",
       "      <th>w</th>\n",
       "      <th>r</th>\n",
       "    </tr>\n",
       "  </thead>\n",
       "  <tbody>\n",
       "    <tr>\n",
       "      <td>166</td>\n",
       "      <td>74.744</td>\n",
       "      <td>0.010256</td>\n",
       "      <td>1.852306</td>\n",
       "      <td>0.650814</td>\n",
       "      <td>0.02</td>\n",
       "      <td>6.866778</td>\n",
       "      <td>0.246063</td>\n",
       "      <td>0.000000e+00</td>\n",
       "      <td>0.856816</td>\n",
       "      <td>0.177114</td>\n",
       "      <td>...</td>\n",
       "      <td>0.863798</td>\n",
       "      <td>0.259105</td>\n",
       "      <td>0.740486</td>\n",
       "      <td>55.281591</td>\n",
       "      <td>1.896171</td>\n",
       "      <td>0.115268</td>\n",
       "      <td>0.02818</td>\n",
       "      <td>0.102614</td>\n",
       "      <td>0.783941</td>\n",
       "      <td>0.050594</td>\n",
       "    </tr>\n",
       "    <tr>\n",
       "      <td>167</td>\n",
       "      <td>74.872</td>\n",
       "      <td>0.010256</td>\n",
       "      <td>1.852306</td>\n",
       "      <td>0.650814</td>\n",
       "      <td>0.02</td>\n",
       "      <td>6.866778</td>\n",
       "      <td>0.246063</td>\n",
       "      <td>0.000000e+00</td>\n",
       "      <td>0.856816</td>\n",
       "      <td>0.177114</td>\n",
       "      <td>...</td>\n",
       "      <td>0.863798</td>\n",
       "      <td>0.259105</td>\n",
       "      <td>0.741799</td>\n",
       "      <td>55.349467</td>\n",
       "      <td>1.896171</td>\n",
       "      <td>0.115268</td>\n",
       "      <td>0.02818</td>\n",
       "      <td>0.102614</td>\n",
       "      <td>0.783941</td>\n",
       "      <td>0.050594</td>\n",
       "    </tr>\n",
       "    <tr>\n",
       "      <td>168</td>\n",
       "      <td>74.936</td>\n",
       "      <td>0.010256</td>\n",
       "      <td>1.852306</td>\n",
       "      <td>0.650814</td>\n",
       "      <td>0.02</td>\n",
       "      <td>6.866778</td>\n",
       "      <td>0.246063</td>\n",
       "      <td>0.000000e+00</td>\n",
       "      <td>0.856816</td>\n",
       "      <td>0.177114</td>\n",
       "      <td>...</td>\n",
       "      <td>0.863798</td>\n",
       "      <td>0.259105</td>\n",
       "      <td>0.742455</td>\n",
       "      <td>55.383408</td>\n",
       "      <td>1.896171</td>\n",
       "      <td>0.115268</td>\n",
       "      <td>0.02818</td>\n",
       "      <td>0.102614</td>\n",
       "      <td>0.783941</td>\n",
       "      <td>0.050594</td>\n",
       "    </tr>\n",
       "    <tr>\n",
       "      <td>169</td>\n",
       "      <td>74.968</td>\n",
       "      <td>0.010256</td>\n",
       "      <td>1.852306</td>\n",
       "      <td>0.650814</td>\n",
       "      <td>0.02</td>\n",
       "      <td>6.866778</td>\n",
       "      <td>0.246063</td>\n",
       "      <td>0.000000e+00</td>\n",
       "      <td>0.856816</td>\n",
       "      <td>0.177114</td>\n",
       "      <td>...</td>\n",
       "      <td>0.863798</td>\n",
       "      <td>0.259105</td>\n",
       "      <td>0.742784</td>\n",
       "      <td>55.400380</td>\n",
       "      <td>1.896171</td>\n",
       "      <td>0.115268</td>\n",
       "      <td>0.02818</td>\n",
       "      <td>0.102614</td>\n",
       "      <td>0.783941</td>\n",
       "      <td>0.050594</td>\n",
       "    </tr>\n",
       "    <tr>\n",
       "      <td>170</td>\n",
       "      <td>74.984</td>\n",
       "      <td>0.010256</td>\n",
       "      <td>1.852306</td>\n",
       "      <td>0.650814</td>\n",
       "      <td>0.02</td>\n",
       "      <td>6.866778</td>\n",
       "      <td>0.246063</td>\n",
       "      <td>0.000000e+00</td>\n",
       "      <td>0.856816</td>\n",
       "      <td>0.177114</td>\n",
       "      <td>...</td>\n",
       "      <td>0.863798</td>\n",
       "      <td>0.259105</td>\n",
       "      <td>0.742948</td>\n",
       "      <td>55.408866</td>\n",
       "      <td>1.896171</td>\n",
       "      <td>0.115268</td>\n",
       "      <td>0.02818</td>\n",
       "      <td>0.102614</td>\n",
       "      <td>0.783941</td>\n",
       "      <td>0.050594</td>\n",
       "    </tr>\n",
       "    <tr>\n",
       "      <td>171</td>\n",
       "      <td>74.992</td>\n",
       "      <td>0.010256</td>\n",
       "      <td>1.852306</td>\n",
       "      <td>0.650814</td>\n",
       "      <td>0.02</td>\n",
       "      <td>6.866778</td>\n",
       "      <td>0.246063</td>\n",
       "      <td>0.000000e+00</td>\n",
       "      <td>0.856816</td>\n",
       "      <td>0.177114</td>\n",
       "      <td>...</td>\n",
       "      <td>0.863798</td>\n",
       "      <td>0.259105</td>\n",
       "      <td>0.743030</td>\n",
       "      <td>55.413109</td>\n",
       "      <td>1.896171</td>\n",
       "      <td>0.115268</td>\n",
       "      <td>0.02818</td>\n",
       "      <td>0.102614</td>\n",
       "      <td>0.783941</td>\n",
       "      <td>0.050594</td>\n",
       "    </tr>\n",
       "    <tr>\n",
       "      <td>172</td>\n",
       "      <td>74.996</td>\n",
       "      <td>0.010256</td>\n",
       "      <td>1.852306</td>\n",
       "      <td>0.650814</td>\n",
       "      <td>0.02</td>\n",
       "      <td>6.866778</td>\n",
       "      <td>0.246063</td>\n",
       "      <td>-2.857714e-11</td>\n",
       "      <td>0.856816</td>\n",
       "      <td>0.177115</td>\n",
       "      <td>...</td>\n",
       "      <td>0.863798</td>\n",
       "      <td>0.259105</td>\n",
       "      <td>0.743071</td>\n",
       "      <td>55.415230</td>\n",
       "      <td>1.896171</td>\n",
       "      <td>0.115269</td>\n",
       "      <td>0.02818</td>\n",
       "      <td>0.102614</td>\n",
       "      <td>0.783941</td>\n",
       "      <td>0.050605</td>\n",
       "    </tr>\n",
       "    <tr>\n",
       "      <td>173</td>\n",
       "      <td>74.998</td>\n",
       "      <td>0.010256</td>\n",
       "      <td>1.852306</td>\n",
       "      <td>0.650814</td>\n",
       "      <td>0.02</td>\n",
       "      <td>6.866778</td>\n",
       "      <td>0.246063</td>\n",
       "      <td>0.000000e+00</td>\n",
       "      <td>0.856816</td>\n",
       "      <td>0.177114</td>\n",
       "      <td>...</td>\n",
       "      <td>0.863798</td>\n",
       "      <td>0.259105</td>\n",
       "      <td>0.743091</td>\n",
       "      <td>55.416291</td>\n",
       "      <td>1.896171</td>\n",
       "      <td>0.115268</td>\n",
       "      <td>0.02818</td>\n",
       "      <td>0.102614</td>\n",
       "      <td>0.783941</td>\n",
       "      <td>0.050594</td>\n",
       "    </tr>\n",
       "    <tr>\n",
       "      <td>174</td>\n",
       "      <td>74.999</td>\n",
       "      <td>0.010256</td>\n",
       "      <td>1.852306</td>\n",
       "      <td>0.650814</td>\n",
       "      <td>0.02</td>\n",
       "      <td>6.866778</td>\n",
       "      <td>0.246063</td>\n",
       "      <td>0.000000e+00</td>\n",
       "      <td>0.856816</td>\n",
       "      <td>0.177114</td>\n",
       "      <td>...</td>\n",
       "      <td>0.863798</td>\n",
       "      <td>0.259105</td>\n",
       "      <td>0.743102</td>\n",
       "      <td>55.416822</td>\n",
       "      <td>1.896171</td>\n",
       "      <td>0.115269</td>\n",
       "      <td>0.02818</td>\n",
       "      <td>0.102614</td>\n",
       "      <td>0.783941</td>\n",
       "      <td>0.050597</td>\n",
       "    </tr>\n",
       "    <tr>\n",
       "      <td>175</td>\n",
       "      <td>75.000</td>\n",
       "      <td>0.010256</td>\n",
       "      <td>1.852306</td>\n",
       "      <td>0.650814</td>\n",
       "      <td>0.02</td>\n",
       "      <td>6.866778</td>\n",
       "      <td>0.246063</td>\n",
       "      <td>6.668088e-11</td>\n",
       "      <td>0.856816</td>\n",
       "      <td>0.177114</td>\n",
       "      <td>...</td>\n",
       "      <td>0.863798</td>\n",
       "      <td>0.259105</td>\n",
       "      <td>0.743112</td>\n",
       "      <td>55.417352</td>\n",
       "      <td>1.896171</td>\n",
       "      <td>0.115269</td>\n",
       "      <td>0.02818</td>\n",
       "      <td>0.102614</td>\n",
       "      <td>0.783941</td>\n",
       "      <td>0.050594</td>\n",
       "    </tr>\n",
       "  </tbody>\n",
       "</table>\n",
       "<p>10 rows × 21 columns</p>\n",
       "</div>"
      ],
      "text/plain": [
       "          t         g     z_hat         Ω     E       v_1   L_tilde  \\\n",
       "166  74.744  0.010256  1.852306  0.650814  0.02  6.866778  0.246063   \n",
       "167  74.872  0.010256  1.852306  0.650814  0.02  6.866778  0.246063   \n",
       "168  74.936  0.010256  1.852306  0.650814  0.02  6.866778  0.246063   \n",
       "169  74.968  0.010256  1.852306  0.650814  0.02  6.866778  0.246063   \n",
       "170  74.984  0.010256  1.852306  0.650814  0.02  6.866778  0.246063   \n",
       "171  74.992  0.010256  1.852306  0.650814  0.02  6.866778  0.246063   \n",
       "172  74.996  0.010256  1.852306  0.650814  0.02  6.866778  0.246063   \n",
       "173  74.998  0.010256  1.852306  0.650814  0.02  6.866778  0.246063   \n",
       "174  74.999  0.010256  1.852306  0.650814  0.02  6.866778  0.246063   \n",
       "175  75.000  0.010256  1.852306  0.650814  0.02  6.866778  0.246063   \n",
       "\n",
       "     entry_residual      λ_ii         S  ...         c     π_min     log_M  \\\n",
       "166    0.000000e+00  0.856816  0.177114  ...  0.863798  0.259105  0.740486   \n",
       "167    0.000000e+00  0.856816  0.177114  ...  0.863798  0.259105  0.741799   \n",
       "168    0.000000e+00  0.856816  0.177114  ...  0.863798  0.259105  0.742455   \n",
       "169    0.000000e+00  0.856816  0.177114  ...  0.863798  0.259105  0.742784   \n",
       "170    0.000000e+00  0.856816  0.177114  ...  0.863798  0.259105  0.742948   \n",
       "171    0.000000e+00  0.856816  0.177114  ...  0.863798  0.259105  0.743030   \n",
       "172   -2.857714e-11  0.856816  0.177115  ...  0.863798  0.259105  0.743071   \n",
       "173    0.000000e+00  0.856816  0.177114  ...  0.863798  0.259105  0.743091   \n",
       "174    0.000000e+00  0.856816  0.177114  ...  0.863798  0.259105  0.743102   \n",
       "175    6.668088e-11  0.856816  0.177114  ...  0.863798  0.259105  0.743112   \n",
       "\n",
       "             U     π_rat  L_tilde_a  L_tilde_x  L_tilde_E         w         r  \n",
       "166  55.281591  1.896171   0.115268    0.02818   0.102614  0.783941  0.050594  \n",
       "167  55.349467  1.896171   0.115268    0.02818   0.102614  0.783941  0.050594  \n",
       "168  55.383408  1.896171   0.115268    0.02818   0.102614  0.783941  0.050594  \n",
       "169  55.400380  1.896171   0.115268    0.02818   0.102614  0.783941  0.050594  \n",
       "170  55.408866  1.896171   0.115268    0.02818   0.102614  0.783941  0.050594  \n",
       "171  55.413109  1.896171   0.115268    0.02818   0.102614  0.783941  0.050594  \n",
       "172  55.415230  1.896171   0.115269    0.02818   0.102614  0.783941  0.050605  \n",
       "173  55.416291  1.896171   0.115268    0.02818   0.102614  0.783941  0.050594  \n",
       "174  55.416822  1.896171   0.115269    0.02818   0.102614  0.783941  0.050597  \n",
       "175  55.417352  1.896171   0.115269    0.02818   0.102614  0.783941  0.050594  \n",
       "\n",
       "[10 rows x 21 columns]"
      ]
     },
     "execution_count": 5,
     "metadata": {},
     "output_type": "execute_result"
    }
   ],
   "source": [
    "df.tail(10)"
   ]
  },
  {
   "cell_type": "markdown",
   "metadata": {},
   "source": [
    "## Plots \n",
    "\n",
    "### Log Level of Consumption"
   ]
  },
  {
   "cell_type": "code",
   "execution_count": 6,
   "metadata": {},
   "outputs": [
    {
     "data": {
      "image/png": "[encoded data removed]",
      "text/plain": [
       "<Figure size 720x504 with 2 Axes>"
      ]
     },
     "metadata": {
      "needs_background": "light"
     },
     "output_type": "display_data"
    }
   ],
   "source": [
    "fig, ax = plt.subplots(figsize = (10,7))\n",
    "\n",
    "before = df.t <= 0\n",
    "after = df.t >= 0\n",
    "\n",
    "ax.plot(df.t, (np.log(df.c) + df.log_M) - (np.log(df.c) + df.log_M).iloc[4] +1, color = \"red\", lw = 5,\n",
    "       label = \"Log Consumption\")\n",
    "\n",
    "ax.plot(df.t, (df.log_M) - (df.log_M).iloc[4] + 1, color = \"k\", ls = \"-.\", alpha = 0.5, lw = 3,\n",
    "       label = \"Log Productivity\")\n",
    "        \n",
    "ax.spines[\"top\"].set_visible(False)\n",
    "ax.spines[\"right\"].set_visible(False)\n",
    "\n",
    "ax.set_ylabel(\"Log Consumption & Productivity\\n Normalized, t-1 = 1\", fontsize = 14) \n",
    "\n",
    "#ax.set_ylim(1-0.06,1+0.25)\n",
    "ax.set_xlim(-20,50)\n",
    "\n",
    "ax.legend(fontsize = 14, frameon = False)\n",
    "\n",
    "axins = zoomed_inset_axes(ax, # The original ax\n",
    "                          1.5, # zoom level\n",
    "                          loc=4, # location\n",
    "                          borderpad=2)  # space around it relative to figure\n",
    "\n",
    "axins.plot(df.t, (np.log(df.c) + df.log_M) - (np.log(df.c) + df.log_M).iloc[4] +1, color = \"red\", lw = 5,\n",
    "       label = \"Log Consumption\")\n",
    "\n",
    "axins.plot(df.t, (df.log_M) - (df.log_M).iloc[4]+1, color = \"k\", ls = \"-.\", alpha = 0.5, lw = 3,\n",
    "       label = \"Log Productivity\")\n",
    "        \n",
    "axins.set_xlim(-5,5)\n",
    "axins.set_ylim(1-0.06,1+0.10)\n",
    "\n",
    "mark_inset(ax, axins, loc1=3, loc2=2, alpha = 0.15)\n",
    "\n",
    "axins.spines[\"top\"].set_visible(False)\n",
    "axins.spines[\"right\"].set_visible(False)\n",
    "\n",
    "plt.savefig(fig_path + \"log_consumption_inset.pdf\", bbox_inches = \"tight\", dip = 3600)\n",
    "\n",
    "plt.show()"
   ]
  },
  {
   "cell_type": "markdown",
   "metadata": {},
   "source": [
    "### Consumption normalized"
   ]
  },
  {
   "cell_type": "code",
   "execution_count": 7,
   "metadata": {
    "autoscroll": "auto",
    "options": {
     "caption": false,
     "complete": true,
     "display_data": true,
     "display_stream": true,
     "dpi": 200,
     "echo": true,
     "evaluate": true,
     "f_env": null,
     "f_pos": "htpb",
     "f_size": [
      6,
      4
     ],
     "f_spines": true,
     "fig": true,
     "include": true,
     "name": null,
     "option_string": "",
     "results": "verbatim",
     "term": false,
     "wrap": "output"
    }
   },
   "outputs": [
    {
     "data": {
      "image/png": "[encoded data removed]",
      "text/plain": [
       "<Figure size 720x504 with 1 Axes>"
      ]
     },
     "metadata": {
      "needs_background": "light"
     },
     "output_type": "display_data"
    }
   ],
   "source": [
    "fig, ax = plt.subplots(figsize = (10,7))\n",
    "\n",
    "before = df.t <= 0\n",
    "after = df.t >= 0\n",
    "\n",
    "ax.plot(df.t, df.c/df.c.iloc[0], color = \"black\", lw = 5,\n",
    "        label = \"Growth Rate\", ls = \"-\", alpha = 0.78)\n",
    "        \n",
    "ax.spines[\"top\"].set_visible(False)\n",
    "ax.spines[\"right\"].set_visible(False)\n",
    "\n",
    "ax.set_ylabel(\"Consumption \\n Normalized, Initial S.S. = 1\", fontsize = 14) \n",
    "\n",
    "ax.set_ylim(0.98,1.04)\n",
    "\n",
    "ax.set_xlim(-20,100)\n",
    "\n",
    "plt.savefig(fig_path + \"consumption.pdf\", bbox_inches = \"tight\", dip = 3600)\n",
    "\n",
    "plt.show()"
   ]
  },
  {
   "cell_type": "code",
   "execution_count": 8,
   "metadata": {},
   "outputs": [
    {
     "name": "stdout",
     "output_type": "stream",
     "text": [
      "Normalized Consumption Prior to Change in d (Relative to Initial SS)\n",
      "1.0\n",
      "\n",
      "Normalized Consumption After Change in d (Relative to Initial SS)\n",
      "1.0335\n",
      "\n",
      "Normalized Consumption At New SS (Relative to Initial SS)\n",
      "0.9912\n"
     ]
    }
   ],
   "source": [
    "print(\"Normalized Consumption Prior to Change in d (Relative to Initial SS)\")\n",
    "print(round((df.c/df.c.iloc[0]).iloc[0],4))\n",
    "print(\"\")\n",
    "print(\"Normalized Consumption After Change in d (Relative to Initial SS)\")\n",
    "print(round((df.c/df.c.iloc[0]).iloc[5],4))\n",
    "print(\"\")\n",
    "print(\"Normalized Consumption At New SS (Relative to Initial SS)\")\n",
    "print(round((df.c/df.c.iloc[0]).iloc[-1],4))"
   ]
  },
  {
   "cell_type": "markdown",
   "metadata": {},
   "source": [
    "### Real Interest Rate"
   ]
  },
  {
   "cell_type": "code",
   "execution_count": 9,
   "metadata": {
    "autoscroll": "auto",
    "options": {
     "caption": false,
     "complete": true,
     "display_data": true,
     "display_stream": true,
     "dpi": 200,
     "echo": true,
     "evaluate": true,
     "f_env": null,
     "f_pos": "htpb",
     "f_size": [
      6,
      4
     ],
     "f_spines": true,
     "fig": true,
     "include": true,
     "name": null,
     "option_string": "",
     "results": "verbatim",
     "term": false,
     "wrap": "output"
    }
   },
   "outputs": [
    {
     "data": {
      "image/png": "[encoded data removed]",
      "text/plain": [
       "<Figure size 720x504 with 1 Axes>"
      ]
     },
     "metadata": {
      "needs_background": "light"
     },
     "output_type": "display_data"
    }
   ],
   "source": [
    "fig, ax = plt.subplots(figsize = (10,7))\n",
    "\n",
    "\n",
    "ax.plot(df.t, 100*(df.r - 0.02), color = \"red\", lw = 5, ls = \"-\")\n",
    "\n",
    "ax.spines[\"top\"].set_visible(False)\n",
    "ax.spines[\"right\"].set_visible(False)\n",
    "\n",
    "ax.set_ylabel(\"Real Interest Rate, rho + g_c\", fontsize = 14) \n",
    "ax.set_xlim(-20,50)\n",
    "ax.set_ylim(2.7,3.2)\n",
    "\n",
    "plt.savefig(fig_path + \"discount_factor.pdf\", bbox_inches = \"tight\", dip = 3600)\n",
    "\n",
    "plt.show()"
   ]
  },
  {
   "cell_type": "markdown",
   "metadata": {},
   "source": [
    "### Productivity Growth"
   ]
  },
  {
   "cell_type": "code",
   "execution_count": 10,
   "metadata": {
    "autoscroll": "auto",
    "options": {
     "caption": false,
     "complete": true,
     "display_data": true,
     "display_stream": true,
     "dpi": 200,
     "echo": true,
     "evaluate": true,
     "f_env": null,
     "f_pos": "htpb",
     "f_size": [
      6,
      4
     ],
     "f_spines": true,
     "fig": true,
     "include": true,
     "name": null,
     "option_string": "",
     "results": "verbatim",
     "term": false,
     "wrap": "output"
    }
   },
   "outputs": [
    {
     "data": {
      "image/png": "[encoded data removed]",
      "text/plain": [
       "<Figure size 720x504 with 1 Axes>"
      ]
     },
     "metadata": {
      "needs_background": "light"
     },
     "output_type": "display_data"
    }
   ],
   "source": [
    "fig, ax = plt.subplots(figsize = (10,7))\n",
    "\n",
    "before = df.t <= 0\n",
    "after = df.t >= 0\n",
    "\n",
    "ax.plot(df.t, 100*(df.g), color = \"red\", lw = 5,\n",
    "        label = \"Growth Rate\", ls = \"-\", alpha = 0.78)\n",
    "\n",
    "ax.spines[\"top\"].set_visible(False)\n",
    "ax.spines[\"right\"].set_visible(False)\n",
    "\n",
    "ax.set_ylabel(\"Productivity Growth\", fontsize = 14) \n",
    "ax.set_xlim(-20,50)\n",
    "ax.set_ylim(0.6,1.10)\n",
    "\n",
    "plt.savefig(fig_path + \"growth.pdf\", bbox_inches = \"tight\", dip = 3600)\n",
    "\n",
    "plt.show()"
   ]
  },
  {
   "cell_type": "code",
   "execution_count": 11,
   "metadata": {},
   "outputs": [
    {
     "name": "stdout",
     "output_type": "stream",
     "text": [
      "Productivity Growth atInitial SS\n",
      "0.00792\n",
      "\n",
      "Productivity Growth at Change in d\n",
      "0.00898\n",
      "\n",
      "Productivity Growth at New SS\n",
      "0.01026\n"
     ]
    }
   ],
   "source": [
    "print(\"Productivity Growth atInitial SS\")\n",
    "print(round(df.g.iloc[0],5))\n",
    "print(\"\")\n",
    "print(\"Productivity Growth at Change in d\")\n",
    "print(round(df.g.iloc[5],5))\n",
    "print(\"\")\n",
    "print(\"Productivity Growth at New SS\")\n",
    "print(round(df.g.iloc[-1],5))"
   ]
  },
  {
   "cell_type": "markdown",
   "metadata": {},
   "source": [
    "\n",
    "### Volume of Trade \n",
    "\n"
   ]
  },
  {
   "cell_type": "code",
   "execution_count": 12,
   "metadata": {
    "autoscroll": "auto",
    "options": {
     "caption": false,
     "complete": true,
     "display_data": true,
     "display_stream": true,
     "dpi": 200,
     "echo": true,
     "evaluate": true,
     "f_env": null,
     "f_pos": "htpb",
     "f_size": [
      6,
      4
     ],
     "f_spines": true,
     "fig": true,
     "include": true,
     "name": null,
     "option_string": "",
     "results": "verbatim",
     "term": false,
     "wrap": "output"
    }
   },
   "outputs": [
    {
     "data": {
      "image/png": "[encoded data removed]",
      "text/plain": [
       "<Figure size 720x504 with 1 Axes>"
      ]
     },
     "metadata": {
      "needs_background": "light"
     },
     "output_type": "display_data"
    }
   ],
   "source": [
    "fig, ax = plt.subplots(figsize = (10,7))\n",
    "\n",
    "before = df.t <= 0\n",
    "after = df.t >= 0\n",
    "\n",
    "ax.plot(df.t, 100*(1-df.λ_ii), color = \"blue\", lw = 5,\n",
    "        label = \"Growth Rate\", ls = \"-\", alpha = 0.78)\n",
    "\n",
    "ax.spines[\"top\"].set_visible(False)\n",
    "ax.spines[\"right\"].set_visible(False)\n",
    "\n",
    "ax.set_ylabel(\"Imports/GDP\", fontsize = 14) \n",
    "ax.set_xlim(-20,50)\n",
    "ax.set_ylim(9,15)\n",
    "\n",
    "plt.savefig(fig_path + \"trade.pdf\", bbox_inches = \"tight\", dip = 3600)\n",
    "\n",
    "plt.show()"
   ]
  },
  {
   "cell_type": "code",
   "execution_count": 13,
   "metadata": {},
   "outputs": [
    {
     "name": "stdout",
     "output_type": "stream",
     "text": [
      "Imports/GDP at Initial SS\n",
      "10.53668\n",
      "\n",
      "Imports/GDP at Change in d\n",
      "13.90122\n",
      "\n",
      "Imports/GDP at New SS\n",
      "14.31838\n"
     ]
    }
   ],
   "source": [
    "print(\"Imports/GDP at Initial SS\")\n",
    "print(round(100*(1-df.λ_ii).iloc[0],5))\n",
    "print(\"\")\n",
    "print(\"Imports/GDP at Change in d\")\n",
    "print(round(100*(1-df.λ_ii).iloc[5],5))\n",
    "print(\"\")\n",
    "print(\"Imports/GDP at New SS\")\n",
    "print(round(100*(1-df.λ_ii).iloc[-1],5))"
   ]
  },
  {
   "cell_type": "markdown",
   "metadata": {},
   "source": [
    "### Domestic Variety "
   ]
  },
  {
   "cell_type": "code",
   "execution_count": 14,
   "metadata": {
    "autoscroll": "auto",
    "options": {
     "caption": false,
     "complete": true,
     "display_data": true,
     "display_stream": true,
     "dpi": 200,
     "echo": true,
     "evaluate": true,
     "f_env": null,
     "f_pos": "htpb",
     "f_size": [
      6,
      4
     ],
     "f_spines": true,
     "fig": true,
     "include": true,
     "name": null,
     "option_string": "",
     "results": "verbatim",
     "term": false,
     "wrap": "output"
    }
   },
   "outputs": [
    {
     "data": {
      "image/png": "[encoded data removed]",
      "text/plain": [
       "<Figure size 720x504 with 1 Axes>"
      ]
     },
     "metadata": {
      "needs_background": "light"
     },
     "output_type": "display_data"
    }
   ],
   "source": [
    "fig, ax = plt.subplots(figsize = (10,7))\n",
    "\n",
    "before = df.t <= 0\n",
    "after = df.t >= 0\n",
    "\n",
    "ax.plot(df.t, df.Ω/df.Ω.iloc[0], color = \"red\", lw = 5,\n",
    "        label = \"\", ls = \"-\")\n",
    "\n",
    "ax.spines[\"top\"].set_visible(False)\n",
    "ax.spines[\"right\"].set_visible(False)\n",
    "\n",
    "ax.set_ylabel(\"Domestic Variety \\n Normalized, Initial S.S. = 1\", fontsize = 14) \n",
    "\n",
    "ax.set_ylim(0.94,1.04)\n",
    "\n",
    "ax.set_xlim(-20,50)\n",
    "\n",
    "plt.savefig(fig_path + \"omega.pdf\", bbox_inches = \"tight\", dip = 3600)\n",
    "\n",
    "plt.show()"
   ]
  },
  {
   "cell_type": "code",
   "execution_count": 15,
   "metadata": {},
   "outputs": [
    {
     "name": "stdout",
     "output_type": "stream",
     "text": [
      "Normalized Variety Prior to Change in d (Relative to Initial SS)\n",
      "1.0\n",
      "\n",
      "Normalized Variety 1+ Period After Change in d (Relative to Initial SS)\n",
      "0.9995\n",
      "\n",
      "Normalized Variety At New SS (Relative to Initial SS)\n",
      "0.9498\n"
     ]
    }
   ],
   "source": [
    "print(\"Normalized Variety Prior to Change in d (Relative to Initial SS)\")\n",
    "print(round((df.Ω/df.Ω.iloc[0]).iloc[0],4))\n",
    "print(\"\")\n",
    "print(\"Normalized Variety 1+ Period After Change in d (Relative to Initial SS)\")\n",
    "print(round((df.Ω/df.Ω.iloc[0]).iloc[6],4))\n",
    "print(\"\")\n",
    "print(\"Normalized Variety At New SS (Relative to Initial SS)\")\n",
    "print(round((df.Ω/df.Ω.iloc[0]).iloc[-1],4))"
   ]
  },
  {
   "cell_type": "markdown",
   "metadata": {},
   "source": [
    "## Reallocation Effects"
   ]
  },
  {
   "cell_type": "code",
   "execution_count": 16,
   "metadata": {},
   "outputs": [
    {
     "data": {
      "image/png": "[encoded data removed]",
      "text/plain": [
       "<Figure size 864x504 with 4 Axes>"
      ]
     },
     "metadata": {
      "needs_background": "light"
     },
     "output_type": "display_data"
    }
   ],
   "source": [
    "fig, ax = plt.subplots(2,2,figsize = (12,7))\n",
    "\n",
    "fig.tight_layout(pad = 6)\n",
    "\n",
    "fig.text(-0.01, 0.5, \"Breakdown of Labor Outside of Production,\\n Percentage Point Change relative to SS\"\n",
    "         , va='center', rotation='vertical',fontsize = 14)\n",
    "\n",
    "############################################################################################################\n",
    "postion = (0,0)\n",
    "\n",
    "ax[postion].plot(df.t, 100*((df.L_tilde_x) - (df.L_tilde_x.iloc[0])), color = \"black\", \n",
    "           lw = 5, ls = \"-.\", alpha = 0.70, label = \"Exporting Costs\")\n",
    "\n",
    "ax[postion].spines[\"top\"].set_visible(False)\n",
    "ax[postion].spines[\"right\"].set_visible(False)\n",
    "\n",
    "ax[postion].set_xlim(-20,50)\n",
    "ax[postion].set_ylim(-1.0,1.0)\n",
    "\n",
    "ax[postion].set_title(\"Exporter Costs\")\n",
    "\n",
    "############################################################################################################\n",
    "\n",
    "postion = (0,1)\n",
    "\n",
    "ax[postion].plot(df.t, 100*((df.L_tilde_a) - (df.L_tilde_a.iloc[0])), color = \"black\",\n",
    "           lw = 5, ls = \"-\", alpha = 0.70, label = \"Adoption Costs\")\n",
    "\n",
    "ax[postion].spines[\"top\"].set_visible(False)\n",
    "ax[postion].spines[\"right\"].set_visible(False)\n",
    "\n",
    "ax[postion].set_xlim(-20,50)\n",
    "ax[postion].set_ylim(-1.0,1.0)\n",
    "ax[postion].set_title(\"Adoption Costs\")\n",
    "\n",
    "############################################################################################################\n",
    "\n",
    "postion = (1,0)\n",
    "\n",
    "ax[postion].plot(df.t, 100*(df.L_tilde_E - df.L_tilde_E.iloc[0]) , color = \"blue\", \n",
    "           lw = 5, ls = \"-\", alpha = 0.70, label = \"Entry Costs\")\n",
    "\n",
    "ax[postion].spines[\"top\"].set_visible(False)\n",
    "ax[postion].spines[\"right\"].set_visible(False)\n",
    "\n",
    "ax[postion].set_xlim(-20,50)\n",
    "ax[postion].set_ylim(-2.5,1.0)\n",
    "\n",
    "ax[postion].set_title(\"Entry Costs\")\n",
    "\n",
    "############################################################################################################\n",
    "\n",
    "postion = (1,1)\n",
    "\n",
    "ax[postion].plot(df.t, 100*(df.L_tilde - df.L_tilde.iloc[0])\n",
    "           , color = \"red\", lw = 5, ls = \"-\", alpha = 0.80, label = \"Total Fixed Costs\")\n",
    "\n",
    "ax[postion].spines[\"top\"].set_visible(False)\n",
    "ax[postion].spines[\"right\"].set_visible(False)\n",
    "\n",
    "ax[postion].set_xlim(-20,50)\n",
    "ax[postion].set_ylim(-1.50,1.0)\n",
    "\n",
    "\n",
    "ax[postion].set_title(\"Total Labor Outside of Production\")\n",
    "\n",
    "############################################################################################################\n",
    "plt.savefig(fig_path + \"fixed_costs.pdf\", bbox_inches = \"tight\", dip = 3600)\n",
    "\n",
    "plt.show()"
   ]
  },
  {
   "cell_type": "markdown",
   "metadata": {},
   "source": [
    "#### Exporter Costs"
   ]
  },
  {
   "cell_type": "code",
   "execution_count": 17,
   "metadata": {},
   "outputs": [
    {
     "name": "stdout",
     "output_type": "stream",
     "text": [
      "Exporter Costs Prior to Change in d (% Change Relative to Initial SS)\n",
      "0.0\n",
      "\n",
      "Exporter Costs Period Change in d  (% Change Relative to Initial SS)\n",
      "0.7077\n",
      "\n",
      "Exporter Costs At New SS  (% Change Relative to Initial SS)\n",
      "0.7338\n"
     ]
    }
   ],
   "source": [
    "cost_measure = 100*((df.L_tilde_x) - (df.L_tilde_x.iloc[0]))\n",
    "\n",
    "print(\"Exporter Costs Prior to Change in d (% Change Relative to Initial SS)\")\n",
    "print(round(cost_measure.iloc[0],4))\n",
    "print(\"\")\n",
    "print(\"Exporter Costs Period Change in d  (% Change Relative to Initial SS)\")\n",
    "print(round(cost_measure.iloc[5],4))\n",
    "print(\"\")\n",
    "print(\"Exporter Costs At New SS  (% Change Relative to Initial SS)\")\n",
    "print(round(cost_measure.iloc[-1],4))"
   ]
  },
  {
   "cell_type": "markdown",
   "metadata": {},
   "source": [
    "#### Adoption Costs"
   ]
  },
  {
   "cell_type": "code",
   "execution_count": 18,
   "metadata": {},
   "outputs": [
    {
     "name": "stdout",
     "output_type": "stream",
     "text": [
      "Adoption Costs Prior to Change in d (% Change Relative to Initial SS)\n",
      "0.0\n",
      "\n",
      "Adoption Costs Period Change in d  (% Change Relative to Initial SS)\n",
      "0.3635\n",
      "\n",
      "Adoption Costs At New SS  (% Change Relative to Initial SS)\n",
      "0.1888\n"
     ]
    }
   ],
   "source": [
    "cost_measure = 100*((df.L_tilde_a) - (df.L_tilde_a.iloc[0]))\n",
    "\n",
    "print(\"Adoption Costs Prior to Change in d (% Change Relative to Initial SS)\")\n",
    "print(round(cost_measure.iloc[0],4))\n",
    "print(\"\")\n",
    "print(\"Adoption Costs Period Change in d  (% Change Relative to Initial SS)\")\n",
    "print(round(cost_measure.iloc[5],4))\n",
    "print(\"\")\n",
    "print(\"Adoption Costs At New SS  (% Change Relative to Initial SS)\")\n",
    "print(round(cost_measure.iloc[-1],4))"
   ]
  },
  {
   "cell_type": "markdown",
   "metadata": {},
   "source": [
    "#### Entry Costs"
   ]
  },
  {
   "cell_type": "code",
   "execution_count": 19,
   "metadata": {},
   "outputs": [
    {
     "name": "stdout",
     "output_type": "stream",
     "text": [
      "Entry Costs Prior to Change in d (% Change Relative to Initial SS)\n",
      "0.0\n",
      "\n",
      "Entry Costs After Change in d  (% Change Relative to Initial SS)\n",
      "-2.2344\n",
      "\n",
      "Entry Costs At New SS  (% Change Relative to Initial SS)\n",
      "-0.5428\n"
     ]
    }
   ],
   "source": [
    "cost_measure = 100*(df.L_tilde_E - df.L_tilde_E.iloc[0])\n",
    "\n",
    "print(\"Entry Costs Prior to Change in d (% Change Relative to Initial SS)\")\n",
    "print(round(cost_measure.iloc[0],4))\n",
    "print(\"\")\n",
    "print(\"Entry Costs After Change in d  (% Change Relative to Initial SS)\")\n",
    "print(round(cost_measure.iloc[5],4))\n",
    "print(\"\")\n",
    "print(\"Entry Costs At New SS  (% Change Relative to Initial SS)\")\n",
    "print(round(cost_measure.iloc[-1],4))"
   ]
  },
  {
   "cell_type": "markdown",
   "metadata": {},
   "source": [
    "#### Total Labor Outside of Production"
   ]
  },
  {
   "cell_type": "code",
   "execution_count": 20,
   "metadata": {},
   "outputs": [
    {
     "name": "stdout",
     "output_type": "stream",
     "text": [
      "Total Labor Outside of Production Prior to Change in d (% Change Relative to Initial SS)\n",
      "0.0\n",
      "\n",
      "Total Labor Outside of Production After Change in d  (% Change Relative to Initial SS)\n",
      "-1.1632\n",
      "\n",
      "Total Labor Outside of Production At New SS  (% Change Relative to Initial SS)\n",
      "0.3798\n"
     ]
    }
   ],
   "source": [
    "cost_measure = 100*(df.L_tilde - df.L_tilde.iloc[0])\n",
    "\n",
    "print(\"Total Labor Outside of Production Prior to Change in d (% Change Relative to Initial SS)\")\n",
    "print(round(cost_measure.iloc[0],4))\n",
    "print(\"\")\n",
    "print(\"Total Labor Outside of Production After Change in d  (% Change Relative to Initial SS)\")\n",
    "print(round(cost_measure.iloc[5],4))\n",
    "print(\"\")\n",
    "print(\"Total Labor Outside of Production At New SS  (% Change Relative to Initial SS)\")\n",
    "print(round(cost_measure.iloc[-1],4))"
   ]
  }
 ],
 "metadata": {
  "hide_input": false,
  "kernel_info": {
   "name": "python3"
  },
  "kernelspec": {
   "display_name": "Python 3",
   "language": "python",
   "name": "python3"
  },
  "language_info": {
   "codemirror_mode": {
    "name": "ipython",
    "version": 3
   },
   "file_extension": ".py",
   "mimetype": "text/x-python",
   "name": "python",
   "nbconvert_exporter": "python",
   "pygments_lexer": "ipython3",
   "version": "3.7.6"
  }
 },
 "nbformat": 4,
 "nbformat_minor": 4
}
