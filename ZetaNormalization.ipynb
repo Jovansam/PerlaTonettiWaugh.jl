{
 "cells": [
  {
   "cell_type": "markdown",
   "metadata": {},
   "source": [
    "Read in parameter values from  [``/parameters/calibration_zeta_0.75.csv``](/parameters/calibration_zeta_0.75.csv) which reads in the values for 0.75 zeta\n",
    "\n",
    "Read in parameter values from  [``/parameters/calibration_zeta_1.25.csv``](/parameters/calibration_zeta_1.25.csv) which reads in the values for 1.25 zeta\n",
    "\n",
    "Read in baseline parameter values from  [``/parameters/calibration_params.csv``](/parameters/calibration_params.csv)"
   ]
  },
  {
   "cell_type": "markdown",
   "metadata": {},
   "source": [
    "## Setup"
   ]
  },
  {
   "cell_type": "code",
   "execution_count": 1,
   "metadata": {},
   "outputs": [],
   "source": [
    "using PerlaTonettiWaugh, Parameters, Suppressor"
   ]
  },
  {
   "cell_type": "code",
   "execution_count": 2,
   "metadata": {},
   "outputs": [],
   "source": [
    "params = load_parameters(\"parameters/calibration_params.csv\")\n",
    "d = params.d_0\n",
    "d_lowered = 1 + 0.90*(d-1)\n",
    "\n",
    "ζ_075 = load_parameters(\"parameters/calibration_zeta_0.75.csv\")\n",
    "ζ_1 = load_parameters(\"parameters/calibration_params.csv\") # baseline \n",
    "ζ_125 = load_parameters(\"parameters/calibration_zeta_1.25.csv\") \n",
    "\n",
    "ζ_075 = merge(ζ_075, (d = d,))\n",
    "ζ_1 = merge(ζ_1, (d = d,))\n",
    "ζ_125 = merge(ζ_125, (d = d,)) \n",
    "\n",
    "ζ_075_lowered = merge(ζ_075, (d = d_lowered,))\n",
    "ζ_1_lowered = merge(ζ_1, (d = d_lowered,)) # baseline\n",
    "ζ_125_lowered = merge(ζ_125, (d = d_lowered,));"
   ]
  },
  {
   "cell_type": "markdown",
   "metadata": {},
   "source": [
    "## Zeta 1"
   ]
  },
  {
   "cell_type": "markdown",
   "metadata": {},
   "source": [
    "### Baseline Allocations"
   ]
  },
  {
   "cell_type": "code",
   "execution_count": 3,
   "metadata": {},
   "outputs": [
    {
     "name": "stdout",
     "output_type": "stream",
     "text": [
      "g = 0.007913401963163308\n",
      "Ω = 0.6805904609927759\n",
      "z_hat = 1.9813268967445312\n",
      "λ_ii = 0.893708728294921\n",
      "c = 0.8706834939103555\n"
     ]
    }
   ],
   "source": [
    "sol_1 = stationary_algebraic(ζ_1, settings_defaults())\n",
    "for key in (:g, :Ω, :z_hat, :λ_ii, :c)\n",
    "    val = sol_1[key]\n",
    "    println(\"$(key) = $(val)\")\n",
    "end"
   ]
  },
  {
   "cell_type": "markdown",
   "metadata": {},
   "source": [
    "### Counterfactual (Lowered) Allocations and Consumption Equivalent"
   ]
  },
  {
   "cell_type": "code",
   "execution_count": 4,
   "metadata": {},
   "outputs": [
    {
     "name": "stdout",
     "output_type": "stream",
     "text": [
      "g = 0.010250822794504864\n",
      "Ω = 0.6459867736680422\n",
      "z_hat = 1.8456817342356477\n",
      "λ_ii = 0.8555713586729671\n",
      "c = 0.8629419672035096\n"
     ]
    }
   ],
   "source": [
    "sol_1_lowered = stationary_algebraic(ζ_1_lowered, settings_defaults())\n",
    "for key in (:g, :Ω, :z_hat, :λ_ii, :c)\n",
    "    val = sol_1_lowered[key]\n",
    "    println(\"$(key) = $(val)\")\n",
    "end"
   ]
  },
  {
   "cell_type": "code",
   "execution_count": 5,
   "metadata": {},
   "outputs": [
    {
     "data": {
      "text/plain": [
       "11.181899506569803"
      ]
     },
     "execution_count": 5,
     "metadata": {},
     "output_type": "execute_result"
    }
   ],
   "source": [
    "ce_1 = 100*consumption_equivalent(sol_1_lowered.U_bar, sol_1.U_bar, ζ_1)"
   ]
  },
  {
   "cell_type": "markdown",
   "metadata": {},
   "source": [
    "### Transition Dynamics and Consumption Equivalent"
   ]
  },
  {
   "cell_type": "code",
   "execution_count": 6,
   "metadata": {},
   "outputs": [],
   "source": [
    "overall_parameters = merge(ζ_1, (d_0 = d, d_T = d_lowered,));\n",
    "settings = settings_defaults()\n",
    "@unpack stationary_T, stationary_0, change_welfare, change_trade = compare_steady_states(overall_parameters, settings);"
   ]
  },
  {
   "cell_type": "code",
   "execution_count": 7,
   "metadata": {},
   "outputs": [
    {
     "data": {
      "text/plain": [
       "true"
      ]
     },
     "execution_count": 7,
     "metadata": {},
     "output_type": "execute_result"
    }
   ],
   "source": [
    "abs(stationary_T.g - sol_1_lowered.g) < 1e-5 && abs(stationary_0.g - sol_1.g) < 1e-5 # check that the grid is close enough"
   ]
  },
  {
   "cell_type": "code",
   "execution_count": 8,
   "metadata": {},
   "outputs": [
    {
     "name": "stdout",
     "output_type": "stream",
     "text": [
      "solving without cache.\n",
      "599.276696 seconds (2.11 G allocations: 720.224 GiB, 28.25% gc time)\n"
     ]
    },
    {
     "data": {
      "text/html": [
       "<table class=\"data-frame\"><thead><tr><th></th><th>t</th><th>g</th><th>z_hat</th><th>Ω</th><th>E</th><th>v_1</th><th>L_tilde</th><th>entry_residual</th></tr><tr><th></th><th>Float64</th><th>Float64</th><th>Float64</th><th>Float64</th><th>Float64</th><th>Float64</th><th>Float64</th><th>Float64</th></tr></thead><tbody><p>176 rows × 21 columns (omitted printing of 13 columns)</p><tr><th>1</th><td>-20.0</td><td>0.00792017</td><td>1.9882</td><td>0.685242</td><td>0.02</td><td>6.86678</td><td>0.242265</td><td>2.08367e-12</td></tr><tr><th>2</th><td>-15.0</td><td>0.00792017</td><td>1.9882</td><td>0.685242</td><td>0.02</td><td>6.86678</td><td>0.242265</td><td>2.08367e-12</td></tr><tr><th>3</th><td>-10.0</td><td>0.00792017</td><td>1.9882</td><td>0.685242</td><td>0.02</td><td>6.86678</td><td>0.242265</td><td>2.08367e-12</td></tr><tr><th>4</th><td>-5.0</td><td>0.00792017</td><td>1.9882</td><td>0.685242</td><td>0.02</td><td>6.86678</td><td>0.242265</td><td>2.08367e-12</td></tr><tr><th>5</th><td>-1.0</td><td>0.00792017</td><td>1.9882</td><td>0.685242</td><td>0.02</td><td>6.86678</td><td>0.242265</td><td>2.08367e-12</td></tr><tr><th>6</th><td>0.0</td><td>0.00903988</td><td>1.87401</td><td>0.685242</td><td>0.0156134</td><td>6.86678</td><td>0.229549</td><td>0.0</td></tr><tr><th>7</th><td>0.25</td><td>0.00904654</td><td>1.87389</td><td>0.684969</td><td>0.0156577</td><td>6.86678</td><td>0.229729</td><td>0.0</td></tr><tr><th>8</th><td>0.5</td><td>0.0090532</td><td>1.87377</td><td>0.684697</td><td>0.0157018</td><td>6.86678</td><td>0.229908</td><td>0.0</td></tr><tr><th>9</th><td>0.75</td><td>0.00905986</td><td>1.87364</td><td>0.684425</td><td>0.0157457</td><td>6.86678</td><td>0.230085</td><td>0.0</td></tr><tr><th>10</th><td>1.0</td><td>0.00906652</td><td>1.87352</td><td>0.684155</td><td>0.0157894</td><td>6.86678</td><td>0.230262</td><td>0.0</td></tr><tr><th>11</th><td>1.25</td><td>0.00907318</td><td>1.8734</td><td>0.683886</td><td>0.0158329</td><td>6.86678</td><td>0.230437</td><td>0.0</td></tr><tr><th>12</th><td>1.5</td><td>0.00907984</td><td>1.87328</td><td>0.683617</td><td>0.0158762</td><td>6.86678</td><td>0.230612</td><td>0.0</td></tr><tr><th>13</th><td>1.75</td><td>0.0090865</td><td>1.87316</td><td>0.68335</td><td>0.0159192</td><td>6.86678</td><td>0.230785</td><td>0.0</td></tr><tr><th>14</th><td>2.0</td><td>0.00909317</td><td>1.87304</td><td>0.683083</td><td>0.0159621</td><td>6.86678</td><td>0.230958</td><td>0.0</td></tr><tr><th>15</th><td>2.25</td><td>0.00909983</td><td>1.87292</td><td>0.682818</td><td>0.0160047</td><td>6.86678</td><td>0.231129</td><td>0.0</td></tr><tr><th>16</th><td>2.5</td><td>0.0091065</td><td>1.8728</td><td>0.682554</td><td>0.0160471</td><td>6.86678</td><td>0.231299</td><td>0.0</td></tr><tr><th>17</th><td>2.75</td><td>0.00911317</td><td>1.87267</td><td>0.68229</td><td>0.0160893</td><td>6.86678</td><td>0.231469</td><td>0.0</td></tr><tr><th>18</th><td>3.0</td><td>0.00911984</td><td>1.87255</td><td>0.682027</td><td>0.0161313</td><td>6.86678</td><td>0.231637</td><td>0.0</td></tr><tr><th>19</th><td>3.25</td><td>0.00912651</td><td>1.87243</td><td>0.681766</td><td>0.016173</td><td>6.86678</td><td>0.231804</td><td>0.0</td></tr><tr><th>20</th><td>3.5</td><td>0.00913318</td><td>1.87231</td><td>0.681505</td><td>0.0162146</td><td>6.86678</td><td>0.231971</td><td>0.0</td></tr><tr><th>21</th><td>3.75</td><td>0.00913985</td><td>1.87219</td><td>0.681245</td><td>0.0162559</td><td>6.86678</td><td>0.232136</td><td>0.0</td></tr><tr><th>22</th><td>4.0</td><td>0.00914653</td><td>1.87207</td><td>0.680987</td><td>0.016297</td><td>6.86678</td><td>0.2323</td><td>0.0</td></tr><tr><th>23</th><td>4.25</td><td>0.00915321</td><td>1.87195</td><td>0.680729</td><td>0.0163379</td><td>6.86678</td><td>0.232464</td><td>0.0</td></tr><tr><th>24</th><td>4.5</td><td>0.00915989</td><td>1.87183</td><td>0.680472</td><td>0.0163786</td><td>6.86678</td><td>0.232626</td><td>0.0</td></tr><tr><th>25</th><td>4.75</td><td>0.00916657</td><td>1.8717</td><td>0.680216</td><td>0.0164191</td><td>6.86678</td><td>0.232787</td><td>0.0</td></tr><tr><th>26</th><td>5.0</td><td>0.00917325</td><td>1.87158</td><td>0.679961</td><td>0.0164593</td><td>6.86678</td><td>0.232947</td><td>0.0</td></tr><tr><th>27</th><td>5.25</td><td>0.00917994</td><td>1.87146</td><td>0.679707</td><td>0.0164993</td><td>6.86678</td><td>0.233106</td><td>0.0</td></tr><tr><th>28</th><td>5.5</td><td>0.00918663</td><td>1.87134</td><td>0.679454</td><td>0.0165391</td><td>6.86678</td><td>0.233265</td><td>0.0</td></tr><tr><th>29</th><td>5.75</td><td>0.00919332</td><td>1.87122</td><td>0.679202</td><td>0.0165787</td><td>6.86678</td><td>0.233422</td><td>0.0</td></tr><tr><th>30</th><td>6.0</td><td>0.00920001</td><td>1.8711</td><td>0.678951</td><td>0.0166181</td><td>6.86678</td><td>0.233578</td><td>0.0</td></tr><tr><th>&vellip;</th><td>&vellip;</td><td>&vellip;</td><td>&vellip;</td><td>&vellip;</td><td>&vellip;</td><td>&vellip;</td><td>&vellip;</td><td>&vellip;</td></tr></tbody></table>"
      ],
      "text/latex": [
       "\\begin{tabular}{r|ccccccccc}\n",
       "\t& t & g & z\\_hat & Ω & E & v\\_1 & L\\_tilde & entry\\_residual & \\\\\n",
       "\t\\hline\n",
       "\t& Float64 & Float64 & Float64 & Float64 & Float64 & Float64 & Float64 & Float64 & \\\\\n",
       "\t\\hline\n",
       "\t1 & -20.0 & 0.00792017 & 1.9882 & 0.685242 & 0.02 & 6.86678 & 0.242265 & 2.08367e-12 & $\\dots$ \\\\\n",
       "\t2 & -15.0 & 0.00792017 & 1.9882 & 0.685242 & 0.02 & 6.86678 & 0.242265 & 2.08367e-12 & $\\dots$ \\\\\n",
       "\t3 & -10.0 & 0.00792017 & 1.9882 & 0.685242 & 0.02 & 6.86678 & 0.242265 & 2.08367e-12 & $\\dots$ \\\\\n",
       "\t4 & -5.0 & 0.00792017 & 1.9882 & 0.685242 & 0.02 & 6.86678 & 0.242265 & 2.08367e-12 & $\\dots$ \\\\\n",
       "\t5 & -1.0 & 0.00792017 & 1.9882 & 0.685242 & 0.02 & 6.86678 & 0.242265 & 2.08367e-12 & $\\dots$ \\\\\n",
       "\t6 & 0.0 & 0.00903988 & 1.87401 & 0.685242 & 0.0156134 & 6.86678 & 0.229549 & 0.0 & $\\dots$ \\\\\n",
       "\t7 & 0.25 & 0.00904654 & 1.87389 & 0.684969 & 0.0156577 & 6.86678 & 0.229729 & 0.0 & $\\dots$ \\\\\n",
       "\t8 & 0.5 & 0.0090532 & 1.87377 & 0.684697 & 0.0157018 & 6.86678 & 0.229908 & 0.0 & $\\dots$ \\\\\n",
       "\t9 & 0.75 & 0.00905986 & 1.87364 & 0.684425 & 0.0157457 & 6.86678 & 0.230085 & 0.0 & $\\dots$ \\\\\n",
       "\t10 & 1.0 & 0.00906652 & 1.87352 & 0.684155 & 0.0157894 & 6.86678 & 0.230262 & 0.0 & $\\dots$ \\\\\n",
       "\t11 & 1.25 & 0.00907318 & 1.8734 & 0.683886 & 0.0158329 & 6.86678 & 0.230437 & 0.0 & $\\dots$ \\\\\n",
       "\t12 & 1.5 & 0.00907984 & 1.87328 & 0.683617 & 0.0158762 & 6.86678 & 0.230612 & 0.0 & $\\dots$ \\\\\n",
       "\t13 & 1.75 & 0.0090865 & 1.87316 & 0.68335 & 0.0159192 & 6.86678 & 0.230785 & 0.0 & $\\dots$ \\\\\n",
       "\t14 & 2.0 & 0.00909317 & 1.87304 & 0.683083 & 0.0159621 & 6.86678 & 0.230958 & 0.0 & $\\dots$ \\\\\n",
       "\t15 & 2.25 & 0.00909983 & 1.87292 & 0.682818 & 0.0160047 & 6.86678 & 0.231129 & 0.0 & $\\dots$ \\\\\n",
       "\t16 & 2.5 & 0.0091065 & 1.8728 & 0.682554 & 0.0160471 & 6.86678 & 0.231299 & 0.0 & $\\dots$ \\\\\n",
       "\t17 & 2.75 & 0.00911317 & 1.87267 & 0.68229 & 0.0160893 & 6.86678 & 0.231469 & 0.0 & $\\dots$ \\\\\n",
       "\t18 & 3.0 & 0.00911984 & 1.87255 & 0.682027 & 0.0161313 & 6.86678 & 0.231637 & 0.0 & $\\dots$ \\\\\n",
       "\t19 & 3.25 & 0.00912651 & 1.87243 & 0.681766 & 0.016173 & 6.86678 & 0.231804 & 0.0 & $\\dots$ \\\\\n",
       "\t20 & 3.5 & 0.00913318 & 1.87231 & 0.681505 & 0.0162146 & 6.86678 & 0.231971 & 0.0 & $\\dots$ \\\\\n",
       "\t21 & 3.75 & 0.00913985 & 1.87219 & 0.681245 & 0.0162559 & 6.86678 & 0.232136 & 0.0 & $\\dots$ \\\\\n",
       "\t22 & 4.0 & 0.00914653 & 1.87207 & 0.680987 & 0.016297 & 6.86678 & 0.2323 & 0.0 & $\\dots$ \\\\\n",
       "\t23 & 4.25 & 0.00915321 & 1.87195 & 0.680729 & 0.0163379 & 6.86678 & 0.232464 & 0.0 & $\\dots$ \\\\\n",
       "\t24 & 4.5 & 0.00915989 & 1.87183 & 0.680472 & 0.0163786 & 6.86678 & 0.232626 & 0.0 & $\\dots$ \\\\\n",
       "\t25 & 4.75 & 0.00916657 & 1.8717 & 0.680216 & 0.0164191 & 6.86678 & 0.232787 & 0.0 & $\\dots$ \\\\\n",
       "\t26 & 5.0 & 0.00917325 & 1.87158 & 0.679961 & 0.0164593 & 6.86678 & 0.232947 & 0.0 & $\\dots$ \\\\\n",
       "\t27 & 5.25 & 0.00917994 & 1.87146 & 0.679707 & 0.0164993 & 6.86678 & 0.233106 & 0.0 & $\\dots$ \\\\\n",
       "\t28 & 5.5 & 0.00918663 & 1.87134 & 0.679454 & 0.0165391 & 6.86678 & 0.233265 & 0.0 & $\\dots$ \\\\\n",
       "\t29 & 5.75 & 0.00919332 & 1.87122 & 0.679202 & 0.0165787 & 6.86678 & 0.233422 & 0.0 & $\\dots$ \\\\\n",
       "\t30 & 6.0 & 0.00920001 & 1.8711 & 0.678951 & 0.0166181 & 6.86678 & 0.233578 & 0.0 & $\\dots$ \\\\\n",
       "\t$\\dots$ & $\\dots$ & $\\dots$ & $\\dots$ & $\\dots$ & $\\dots$ & $\\dots$ & $\\dots$ & $\\dots$ &  \\\\\n",
       "\\end{tabular}\n"
      ],
      "text/plain": [
       "176×21 DataFrames.DataFrame. Omitted printing of 15 columns\n",
       "│ Row │ t       │ g          │ z_hat   │ Ω        │ E         │ v_1     │\n",
       "│     │ \u001b[90mFloat64\u001b[39m │ \u001b[90mFloat64\u001b[39m    │ \u001b[90mFloat64\u001b[39m │ \u001b[90mFloat64\u001b[39m  │ \u001b[90mFloat64\u001b[39m   │ \u001b[90mFloat64\u001b[39m │\n",
       "├─────┼─────────┼────────────┼─────────┼──────────┼───────────┼─────────┤\n",
       "│ 1   │ -20.0   │ 0.00792017 │ 1.9882  │ 0.685242 │ 0.02      │ 6.86678 │\n",
       "│ 2   │ -15.0   │ 0.00792017 │ 1.9882  │ 0.685242 │ 0.02      │ 6.86678 │\n",
       "│ 3   │ -10.0   │ 0.00792017 │ 1.9882  │ 0.685242 │ 0.02      │ 6.86678 │\n",
       "│ 4   │ -5.0    │ 0.00792017 │ 1.9882  │ 0.685242 │ 0.02      │ 6.86678 │\n",
       "│ 5   │ -1.0    │ 0.00792017 │ 1.9882  │ 0.685242 │ 0.02      │ 6.86678 │\n",
       "│ 6   │ 0.0     │ 0.00903988 │ 1.87401 │ 0.685242 │ 0.0156134 │ 6.86678 │\n",
       "│ 7   │ 0.25    │ 0.00904654 │ 1.87389 │ 0.684969 │ 0.0156577 │ 6.86678 │\n",
       "│ 8   │ 0.5     │ 0.0090532  │ 1.87377 │ 0.684697 │ 0.0157018 │ 6.86678 │\n",
       "│ 9   │ 0.75    │ 0.00905986 │ 1.87364 │ 0.684425 │ 0.0157457 │ 6.86678 │\n",
       "│ 10  │ 1.0     │ 0.00906652 │ 1.87352 │ 0.684155 │ 0.0157894 │ 6.86678 │\n",
       "⋮\n",
       "│ 166 │ 74.488  │ 0.0102562  │ 1.85231 │ 0.650814 │ 0.02      │ 6.86678 │\n",
       "│ 167 │ 74.744  │ 0.0102562  │ 1.85231 │ 0.650814 │ 0.02      │ 6.86678 │\n",
       "│ 168 │ 74.872  │ 0.0102562  │ 1.85231 │ 0.650814 │ 0.02      │ 6.86678 │\n",
       "│ 169 │ 74.936  │ 0.0102562  │ 1.85231 │ 0.650814 │ 0.02      │ 6.86678 │\n",
       "│ 170 │ 74.968  │ 0.0102562  │ 1.85231 │ 0.650814 │ 0.02      │ 6.86678 │\n",
       "│ 171 │ 74.984  │ 0.0102562  │ 1.85231 │ 0.650814 │ 0.02      │ 6.86678 │\n",
       "│ 172 │ 74.992  │ 0.0102562  │ 1.85231 │ 0.650814 │ 0.02      │ 6.86678 │\n",
       "│ 173 │ 74.996  │ 0.0102562  │ 1.85231 │ 0.650814 │ 0.02      │ 6.86678 │\n",
       "│ 174 │ 74.998  │ 0.0102562  │ 1.85231 │ 0.650814 │ 0.02      │ 6.86678 │\n",
       "│ 175 │ 74.999  │ 0.0102562  │ 1.85231 │ 0.650814 │ 0.02      │ 6.86678 │\n",
       "│ 176 │ 75.0    │ 0.0102562  │ 1.85231 │ 0.650814 │ 0.02      │ 6.86678 │"
      ]
     },
     "execution_count": 8,
     "metadata": {},
     "output_type": "execute_result"
    }
   ],
   "source": [
    "cachename = model_cachename(overall_parameters, settings) # uniquely identify the run by parameters + settings\n",
    "cachepath = joinpath(pwd(), \"data\", cachename * \".csv\")\n",
    "use_cache = true # change this to false if you don't want to use the cache for a run\n",
    "\n",
    "if isfile(cachepath) && use_cache # read if possible\n",
    "    println(\"using cache.\")\n",
    "    solved = CSV.read(cachepath);\n",
    "else\n",
    "    println(\"solving without cache.\")\n",
    "    @time solution = @suppress solve_transition(overall_parameters, settings);\n",
    "    solved = solution.results;\n",
    "end"
   ]
  },
  {
   "cell_type": "code",
   "execution_count": 9,
   "metadata": {},
   "outputs": [
    {
     "name": "stdout",
     "output_type": "stream",
     "text": [
      "ce_1_transition = 100 * consumption_equivalent(solved.U[1], stationary_0.U_bar, overall_parameters) = 10.88395069226058\n"
     ]
    }
   ],
   "source": [
    "filter!(row -> row.t >= 0, solved) # don't plot pre-shock values\n",
    "@show ce_1_transition = 100*consumption_equivalent(solved.U[1], stationary_0.U_bar, overall_parameters);"
   ]
  },
  {
   "cell_type": "markdown",
   "metadata": {},
   "source": [
    "## Zeta 0.75"
   ]
  },
  {
   "cell_type": "markdown",
   "metadata": {},
   "source": [
    "### Baseline Allocations"
   ]
  },
  {
   "cell_type": "code",
   "execution_count": 10,
   "metadata": {},
   "outputs": [
    {
     "name": "stdout",
     "output_type": "stream",
     "text": [
      "g = 0.007913401963163575\n",
      "Ω = 0.9074539479905955\n",
      "z_hat = 1.9813268967445012\n",
      "λ_ii = 0.8937087282949169\n",
      "c = 0.9943001206514349\n"
     ]
    }
   ],
   "source": [
    "sol_075 = stationary_algebraic(ζ_075, settings_defaults())\n",
    "for key in (:g, :Ω, :z_hat, :λ_ii, :c)\n",
    "    val = sol_075[key]\n",
    "    println(\"$(key) = $(val)\")\n",
    "end"
   ]
  },
  {
   "cell_type": "markdown",
   "metadata": {},
   "source": [
    "### Counterfactual (Lowered) Allocations and Consumption Equivalent"
   ]
  },
  {
   "cell_type": "code",
   "execution_count": 11,
   "metadata": {},
   "outputs": [
    {
     "name": "stdout",
     "output_type": "stream",
     "text": [
      "g = 0.010250822798545837\n",
      "Ω = 0.8613156829790793\n",
      "z_hat = 1.8456817342226686\n",
      "λ_ii = 0.8555713586705149\n",
      "c = 0.9854594763818336\n"
     ]
    }
   ],
   "source": [
    "sol_075_lowered = stationary_algebraic(ζ_075_lowered, settings_defaults())\n",
    "for key in (:g, :Ω, :z_hat, :λ_ii, :c)\n",
    "    val = sol_075_lowered[key]\n",
    "    println(\"$(key) = $(val)\")\n",
    "end"
   ]
  },
  {
   "cell_type": "code",
   "execution_count": 12,
   "metadata": {},
   "outputs": [
    {
     "data": {
      "text/plain": [
       "11.181899256227856"
      ]
     },
     "execution_count": 12,
     "metadata": {},
     "output_type": "execute_result"
    }
   ],
   "source": [
    "ce_075 = 100*consumption_equivalent(sol_075_lowered.U_bar, sol_075.U_bar, ζ_075)"
   ]
  },
  {
   "cell_type": "markdown",
   "metadata": {},
   "source": [
    "### Transition Dynamics and Consumption Equivalent"
   ]
  },
  {
   "cell_type": "code",
   "execution_count": 13,
   "metadata": {},
   "outputs": [],
   "source": [
    "overall_parameters = merge(ζ_075, (d_0 = d, d_T = d_lowered,));\n",
    "settings = settings_defaults()\n",
    "@unpack stationary_T, stationary_0, change_welfare, change_trade = compare_steady_states(overall_parameters, settings);"
   ]
  },
  {
   "cell_type": "code",
   "execution_count": 14,
   "metadata": {},
   "outputs": [
    {
     "data": {
      "text/plain": [
       "true"
      ]
     },
     "execution_count": 14,
     "metadata": {},
     "output_type": "execute_result"
    }
   ],
   "source": [
    "abs(stationary_T.g - sol_075_lowered.g) < 1e-5 && abs(stationary_0.g - sol_075.g) < 1e-5 # check that the grid is close enough"
   ]
  },
  {
   "cell_type": "code",
   "execution_count": 15,
   "metadata": {},
   "outputs": [
    {
     "name": "stdout",
     "output_type": "stream",
     "text": [
      "solving without cache.\n",
      "492.877372 seconds (1.49 G allocations: 670.730 GiB, 33.21% gc time)\n",
      "ce_075_transition = 100 * consumption_equivalent(solved.U[1], stationary_0.U_bar, overall_parameters) = 10.80213236441383\n"
     ]
    }
   ],
   "source": [
    "cachename = model_cachename(overall_parameters, settings) # uniquely identify the run by parameters + settings\n",
    "cachepath = joinpath(pwd(), \"data\", cachename * \".csv\")\n",
    "use_cache = true # change this to false if you don't want to use the cache for a run\n",
    "\n",
    "if isfile(cachepath) && use_cache # read if possible\n",
    "    println(\"using cache.\")\n",
    "    solved = CSV.read(cachepath);\n",
    "else\n",
    "    println(\"solving without cache.\")\n",
    "    @time solution = @suppress solve_transition(overall_parameters, settings);\n",
    "    solved = solution.results;\n",
    "end\n",
    "\n",
    "filter!(row -> row.t >= 0, solved) # don't plot pre-shock values\n",
    "@show ce_075_transition = 100*consumption_equivalent(solved.U[1], stationary_0.U_bar, overall_parameters);"
   ]
  },
  {
   "cell_type": "markdown",
   "metadata": {},
   "source": [
    "## Zeta 1.25"
   ]
  },
  {
   "cell_type": "markdown",
   "metadata": {},
   "source": [
    "### Baseline Allocations"
   ]
  },
  {
   "cell_type": "code",
   "execution_count": 16,
   "metadata": {},
   "outputs": [
    {
     "name": "stdout",
     "output_type": "stream",
     "text": [
      "g = 0.007913401963146154\n",
      "Ω = 0.5444723687853136\n",
      "z_hat = 1.98132689674432\n",
      "λ_ii = 0.8937087282948925\n",
      "c = 0.7854850570129526\n"
     ]
    }
   ],
   "source": [
    "sol_125 = stationary_algebraic(ζ_125, settings_defaults())\n",
    "for key in (:g, :Ω, :z_hat, :λ_ii, :c)\n",
    "    val = sol_125[key]\n",
    "    println(\"$(key) = $(val)\")\n",
    "end"
   ]
  },
  {
   "cell_type": "markdown",
   "metadata": {},
   "source": [
    "### Counterfactual (Lowered) Allocations and Consumption Equivalent"
   ]
  },
  {
   "cell_type": "code",
   "execution_count": 17,
   "metadata": {},
   "outputs": [
    {
     "name": "stdout",
     "output_type": "stream",
     "text": [
      "g = 0.01025082279854586\n",
      "Ω = 0.5167894201216133\n",
      "z_hat = 1.8456817342226666\n",
      "λ_ii = 0.8555713586705145\n",
      "c = 0.7785010572181699\n"
     ]
    }
   ],
   "source": [
    "sol_125_lowered = stationary_algebraic(ζ_125_lowered, settings_defaults())\n",
    "for key in (:g, :Ω, :z_hat, :λ_ii, :c)\n",
    "    val = sol_125_lowered[key]\n",
    "    println(\"$(key) = $(val)\")\n",
    "end"
   ]
  },
  {
   "cell_type": "code",
   "execution_count": 18,
   "metadata": {},
   "outputs": [
    {
     "data": {
      "text/plain": [
       "11.181899562200105"
      ]
     },
     "execution_count": 18,
     "metadata": {},
     "output_type": "execute_result"
    }
   ],
   "source": [
    "ce_125 = 100*consumption_equivalent(sol_125_lowered.U_bar, sol_125.U_bar, ζ_125)"
   ]
  },
  {
   "cell_type": "markdown",
   "metadata": {},
   "source": [
    "### Transition Dynamics and Consumption Equivalent"
   ]
  },
  {
   "cell_type": "code",
   "execution_count": 19,
   "metadata": {},
   "outputs": [],
   "source": [
    "overall_parameters = merge(ζ_125, (d_0 = d, d_T = d_lowered,));\n",
    "settings = settings_defaults()\n",
    "@unpack stationary_T, stationary_0, change_welfare, change_trade = compare_steady_states(overall_parameters, settings);"
   ]
  },
  {
   "cell_type": "code",
   "execution_count": 20,
   "metadata": {},
   "outputs": [
    {
     "data": {
      "text/plain": [
       "true"
      ]
     },
     "execution_count": 20,
     "metadata": {},
     "output_type": "execute_result"
    }
   ],
   "source": [
    "abs(stationary_T.g - sol_125_lowered.g) < 1e-5 && abs(stationary_0.g - sol_125.g) < 1e-5 # check that the grid is close enough"
   ]
  },
  {
   "cell_type": "code",
   "execution_count": 21,
   "metadata": {},
   "outputs": [],
   "source": [
    "## commenting out as this doesn't solve well\n",
    "# cachename = model_cachename(overall_parameters, settings) # uniquely identify the run by parameters + settings\n",
    "# cachepath = joinpath(pwd(), \"data\", cachename * \".csv\")\n",
    "# use_cache = true # change this to false if you don't want to use the cache for a run\n",
    "\n",
    "# if isfile(cachepath) && use_cache # read if possible\n",
    "#     println(\"using cache.\")\n",
    "#     solved = CSV.read(cachepath);\n",
    "# else\n",
    "#     println(\"solving without cache.\")\n",
    "#     @time solution = @suppress solve_transition(overall_parameters, settings);\n",
    "#     solved = solution.results;\n",
    "# end\n",
    "\n",
    "# filter!(row -> row.t >= 0, solved) # don't plot pre-shock values\n",
    "# @show ce_125_transition = 100*consumption_equivalent(solved.U[1], stationary_0.U_bar, overall_parameters);"
   ]
  }
 ],
 "metadata": {
  "kernelspec": {
   "display_name": "Julia 1.4.0",
   "language": "julia",
   "name": "julia-1.4"
  },
  "language_info": {
   "file_extension": ".jl",
   "mimetype": "application/julia",
   "name": "julia",
   "version": "1.4.0"
  }
 },
 "nbformat": 4,
 "nbformat_minor": 4
}
