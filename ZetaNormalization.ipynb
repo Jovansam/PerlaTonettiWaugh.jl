{
 "cells": [
  {
   "cell_type": "markdown",
   "metadata": {},
   "source": [
    "Read in parameter values from  [``/parameters/calibration_zeta_0.75.csv``](/parameters/calibration_zeta_0.75.csv) which reads in the values for 0.75 zeta\n",
    "\n",
    "Read in parameter values from  [``/parameters/calibration_zeta_1.25.csv``](/parameters/calibration_zeta_1.25.csv) which reads in the values for 1.25 zeta\n",
    "\n",
    "Read in baseline parameter values from  [``/parameters/calibration_params.csv``](/parameters/calibration_params.csv)"
   ]
  },
  {
   "cell_type": "markdown",
   "metadata": {},
   "source": [
    "## Setup"
   ]
  },
  {
   "cell_type": "code",
   "execution_count": 22,
   "metadata": {},
   "outputs": [],
   "source": [
    "using PerlaTonettiWaugh, Parameters, Suppressor"
   ]
  },
  {
   "cell_type": "code",
   "execution_count": 23,
   "metadata": {},
   "outputs": [],
   "source": [
    "# generate params\n",
    "params = parameter_defaults()\n",
    "d = params.d_0\n",
    "\n",
    "ζ_075 = merge(params, (ζ = 0.75, κ = 0.078147243594978, d = d))\n",
    "ζ_1 = merge(params, (d = params.d_0,)) # baseline\n",
    "ζ_125 = merge(params, (ζ = 1.25, κ = 0.130245405991629, d = d));\n",
    "\n",
    "d_lowered = 1 + 0.90*(d-1)\n",
    "\n",
    "ζ_075_lowered = merge(ζ_075, (d = d_lowered,))\n",
    "ζ_1_lowered = merge(ζ_1, (d = d_lowered,)) # baseline\n",
    "ζ_125_lowered = merge(ζ_125, (d = d_lowered,));"
   ]
  },
  {
   "cell_type": "markdown",
   "metadata": {},
   "source": [
    "## Zeta 1"
   ]
  },
  {
   "cell_type": "markdown",
   "metadata": {},
   "source": [
    "### Baseline Allocations"
   ]
  },
  {
   "cell_type": "code",
   "execution_count": 24,
   "metadata": {},
   "outputs": [
    {
     "name": "stdout",
     "output_type": "stream",
     "text": [
      "g = 0.007913401963163525\n",
      "Ω = 0.6805904609927736\n",
      "z_hat = 1.9813268967445292\n",
      "λ_ii = 0.893708728294921\n",
      "c = 0.8706834939103543\n"
     ]
    }
   ],
   "source": [
    "sol_1 = stationary_algebraic(ζ_1, settings_defaults())\n",
    "for key in (:g, :Ω, :z_hat, :λ_ii, :c)\n",
    "    val = sol_1[key]\n",
    "    println(\"$(key) = $(val)\")\n",
    "end"
   ]
  },
  {
   "cell_type": "markdown",
   "metadata": {},
   "source": [
    "### Counterfactual (Lowered) Allocations and Consumption Equivalent"
   ]
  },
  {
   "cell_type": "code",
   "execution_count": 25,
   "metadata": {},
   "outputs": [
    {
     "name": "stdout",
     "output_type": "stream",
     "text": [
      "g = 0.010250822794505147\n",
      "Ω = 0.6459867736680407\n",
      "z_hat = 1.8456817342356466\n",
      "λ_ii = 0.8555713586729671\n",
      "c = 0.862941967203508\n"
     ]
    }
   ],
   "source": [
    "sol_1_lowered = stationary_algebraic(ζ_1_lowered, settings_defaults())\n",
    "for key in (:g, :Ω, :z_hat, :λ_ii, :c)\n",
    "    val = sol_1_lowered[key]\n",
    "    println(\"$(key) = $(val)\")\n",
    "end"
   ]
  },
  {
   "cell_type": "code",
   "execution_count": 26,
   "metadata": {},
   "outputs": [
    {
     "data": {
      "text/plain": [
       "11.181899506570137"
      ]
     },
     "execution_count": 26,
     "metadata": {},
     "output_type": "execute_result"
    }
   ],
   "source": [
    "ce_1 = 100*consumption_equivalent(sol_1_lowered.U_bar, sol_1.U_bar, ζ_1)"
   ]
  },
  {
   "cell_type": "markdown",
   "metadata": {},
   "source": [
    "### Transition Dynamics and Consumption Equivalent"
   ]
  },
  {
   "cell_type": "code",
   "execution_count": 27,
   "metadata": {},
   "outputs": [],
   "source": [
    "overall_parameters = merge(ζ_1, (d_0 = d, d_T = d_lowered,));\n",
    "settings = settings_defaults()\n",
    "@unpack stationary_T, stationary_0, change_welfare, change_trade = compare_steady_states(overall_parameters, settings);"
   ]
  },
  {
   "cell_type": "code",
   "execution_count": 28,
   "metadata": {},
   "outputs": [
    {
     "data": {
      "text/plain": [
       "true"
      ]
     },
     "execution_count": 28,
     "metadata": {},
     "output_type": "execute_result"
    }
   ],
   "source": [
    "abs(stationary_T.g - sol_1_lowered.g) < 1e-5 && abs(stationary_0.g - sol_1.g) < 1e-5 # check that the grid is close enough"
   ]
  },
  {
   "cell_type": "code",
   "execution_count": null,
   "metadata": {},
   "outputs": [],
   "source": [
    "cachename = model_cachename(overall_parameters, settings) # uniquely identify the run by parameters + settings\n",
    "cachepath = joinpath(pwd(), \"data\", cachename * \".csv\")\n",
    "use_cache = true # change this to false if you don't want to use the cache for a run\n",
    "\n",
    "if isfile(cachepath) && use_cache # read if possible\n",
    "    println(\"using cache.\")\n",
    "    solved = CSV.read(cachepath);\n",
    "else\n",
    "    println(\"solving without cache.\")\n",
    "    @time solution = @suppress solve_transition(overall_parameters, settings);\n",
    "    solved = solution.results;\n",
    "end"
   ]
  },
  {
   "cell_type": "code",
   "execution_count": 30,
   "metadata": {},
   "outputs": [
    {
     "name": "stdout",
     "output_type": "stream",
     "text": [
      "ce_1_transition = 100 * consumption_equivalent(solved.U[1], stationary_0.U_bar, overall_parameters) = 10.802117356508889\n"
     ]
    }
   ],
   "source": [
    "filter!(row -> row.t >= 0, solved) # don't plot pre-shock values\n",
    "@show ce_1_transition = 100*consumption_equivalent(solved.U[1], stationary_0.U_bar, overall_parameters);"
   ]
  },
  {
   "cell_type": "markdown",
   "metadata": {},
   "source": [
    "## Zeta 0.75"
   ]
  },
  {
   "cell_type": "markdown",
   "metadata": {},
   "source": [
    "### Baseline Allocations"
   ]
  },
  {
   "cell_type": "code",
   "execution_count": 31,
   "metadata": {},
   "outputs": [
    {
     "name": "stdout",
     "output_type": "stream",
     "text": [
      "g = 0.007913401963163787\n",
      "Ω = 0.9074539479905924\n",
      "z_hat = 1.9813268967445021\n",
      "λ_ii = 0.8937087282949173\n",
      "c = 0.9943001206514334\n"
     ]
    }
   ],
   "source": [
    "sol_075 = stationary_algebraic(ζ_075, settings_defaults())\n",
    "for key in (:g, :Ω, :z_hat, :λ_ii, :c)\n",
    "    val = sol_075[key]\n",
    "    println(\"$(key) = $(val)\")\n",
    "end"
   ]
  },
  {
   "cell_type": "markdown",
   "metadata": {},
   "source": [
    "### Counterfactual (Lowered) Allocations and Consumption Equivalent"
   ]
  },
  {
   "cell_type": "code",
   "execution_count": 32,
   "metadata": {},
   "outputs": [
    {
     "name": "stdout",
     "output_type": "stream",
     "text": [
      "g = 0.010250822798546106\n",
      "Ω = 0.8613156829790775\n",
      "z_hat = 1.845681734222669\n",
      "λ_ii = 0.855571358670515\n",
      "c = 0.985459476381832\n"
     ]
    }
   ],
   "source": [
    "sol_075_lowered = stationary_algebraic(ζ_075_lowered, settings_defaults())\n",
    "for key in (:g, :Ω, :z_hat, :λ_ii, :c)\n",
    "    val = sol_075_lowered[key]\n",
    "    println(\"$(key) = $(val)\")\n",
    "end"
   ]
  },
  {
   "cell_type": "code",
   "execution_count": 33,
   "metadata": {},
   "outputs": [
    {
     "data": {
      "text/plain": [
       "11.181899256228167"
      ]
     },
     "execution_count": 33,
     "metadata": {},
     "output_type": "execute_result"
    }
   ],
   "source": [
    "ce_075 = 100*consumption_equivalent(sol_075_lowered.U_bar, sol_075.U_bar, ζ_075)"
   ]
  },
  {
   "cell_type": "markdown",
   "metadata": {},
   "source": [
    "### Transition Dynamics and Consumption Equivalent"
   ]
  },
  {
   "cell_type": "code",
   "execution_count": 34,
   "metadata": {},
   "outputs": [],
   "source": [
    "overall_parameters = merge(ζ_075, (d_0 = d, d_T = d_lowered,));\n",
    "settings = settings_defaults()\n",
    "@unpack stationary_T, stationary_0, change_welfare, change_trade = compare_steady_states(overall_parameters, settings);"
   ]
  },
  {
   "cell_type": "code",
   "execution_count": 35,
   "metadata": {},
   "outputs": [
    {
     "data": {
      "text/plain": [
       "true"
      ]
     },
     "execution_count": 35,
     "metadata": {},
     "output_type": "execute_result"
    }
   ],
   "source": [
    "abs(stationary_T.g - sol_075_lowered.g) < 1e-5 && abs(stationary_0.g - sol_075.g) < 1e-5 # check that the grid is close enough"
   ]
  },
  {
   "cell_type": "code",
   "execution_count": 36,
   "metadata": {},
   "outputs": [
    {
     "name": "stdout",
     "output_type": "stream",
     "text": [
      "solving without cache.\n",
      "446.150888 seconds (1.46 G allocations: 669.823 GiB, 35.25% gc time)\n",
      "ce_075_transition = 100 * consumption_equivalent(solved.U[1], stationary_0.U_bar, overall_parameters) = 10.802124724991934\n"
     ]
    }
   ],
   "source": [
    "cachename = model_cachename(overall_parameters, settings) # uniquely identify the run by parameters + settings\n",
    "cachepath = joinpath(pwd(), \"data\", cachename * \".csv\")\n",
    "use_cache = true # change this to false if you don't want to use the cache for a run\n",
    "\n",
    "if isfile(cachepath) && use_cache # read if possible\n",
    "    println(\"using cache.\")\n",
    "    solved = CSV.read(cachepath);\n",
    "else\n",
    "    println(\"solving without cache.\")\n",
    "    @time solution = @suppress solve_transition(overall_parameters, settings);\n",
    "    solved = solution.results;\n",
    "end\n",
    "\n",
    "filter!(row -> row.t >= 0, solved) # don't plot pre-shock values\n",
    "@show ce_075_transition = 100*consumption_equivalent(solved.U[1], stationary_0.U_bar, overall_parameters);"
   ]
  },
  {
   "cell_type": "markdown",
   "metadata": {},
   "source": [
    "## Zeta 1.25"
   ]
  },
  {
   "cell_type": "markdown",
   "metadata": {},
   "source": [
    "### Baseline Allocations"
   ]
  },
  {
   "cell_type": "code",
   "execution_count": 37,
   "metadata": {},
   "outputs": [
    {
     "name": "stdout",
     "output_type": "stream",
     "text": [
      "g = 0.00791340196314654\n",
      "Ω = 0.5444723687853111\n",
      "z_hat = 1.9813268967443167\n",
      "λ_ii = 0.8937087282948921\n",
      "c = 0.7854850570129506\n"
     ]
    }
   ],
   "source": [
    "sol_125 = stationary_algebraic(ζ_125, settings_defaults())\n",
    "for key in (:g, :Ω, :z_hat, :λ_ii, :c)\n",
    "    val = sol_125[key]\n",
    "    println(\"$(key) = $(val)\")\n",
    "end"
   ]
  },
  {
   "cell_type": "markdown",
   "metadata": {},
   "source": [
    "### Counterfactual (Lowered) Allocations and Consumption Equivalent"
   ]
  },
  {
   "cell_type": "code",
   "execution_count": 38,
   "metadata": {},
   "outputs": [
    {
     "name": "stdout",
     "output_type": "stream",
     "text": [
      "g = 0.0102508227985463\n",
      "Ω = 0.5167894201216091\n",
      "z_hat = 1.8456817342226606\n",
      "λ_ii = 0.8555713586705136\n",
      "c = 0.7785010572181674\n"
     ]
    }
   ],
   "source": [
    "sol_125_lowered = stationary_algebraic(ζ_125_lowered, settings_defaults())\n",
    "for key in (:g, :Ω, :z_hat, :λ_ii, :c)\n",
    "    val = sol_125_lowered[key]\n",
    "    println(\"$(key) = $(val)\")\n",
    "end"
   ]
  },
  {
   "cell_type": "code",
   "execution_count": 39,
   "metadata": {},
   "outputs": [
    {
     "data": {
      "text/plain": [
       "11.181899562200325"
      ]
     },
     "execution_count": 39,
     "metadata": {},
     "output_type": "execute_result"
    }
   ],
   "source": [
    "ce_125 = 100*consumption_equivalent(sol_125_lowered.U_bar, sol_125.U_bar, ζ_125)"
   ]
  },
  {
   "cell_type": "markdown",
   "metadata": {},
   "source": [
    "### Transition Dynamics and Consumption Equivalent"
   ]
  },
  {
   "cell_type": "code",
   "execution_count": 40,
   "metadata": {},
   "outputs": [],
   "source": [
    "overall_parameters = merge(ζ_125, (d_0 = d, d_T = d_lowered,));\n",
    "settings = settings_defaults()\n",
    "@unpack stationary_T, stationary_0, change_welfare, change_trade = compare_steady_states(overall_parameters, settings);"
   ]
  },
  {
   "cell_type": "code",
   "execution_count": 41,
   "metadata": {},
   "outputs": [
    {
     "data": {
      "text/plain": [
       "true"
      ]
     },
     "execution_count": 41,
     "metadata": {},
     "output_type": "execute_result"
    }
   ],
   "source": [
    "abs(stationary_T.g - sol_125_lowered.g) < 1e-5 && abs(stationary_0.g - sol_125.g) < 1e-5 # check that the grid is close enough"
   ]
  },
  {
   "cell_type": "code",
   "execution_count": 42,
   "metadata": {},
   "outputs": [],
   "source": [
    "## commenting out as this doesn't solve well\n",
    "# cachename = model_cachename(overall_parameters, settings) # uniquely identify the run by parameters + settings\n",
    "# cachepath = joinpath(pwd(), \"data\", cachename * \".csv\")\n",
    "# use_cache = true # change this to false if you don't want to use the cache for a run\n",
    "\n",
    "# if isfile(cachepath) && use_cache # read if possible\n",
    "#     println(\"using cache.\")\n",
    "#     solved = CSV.read(cachepath);\n",
    "# else\n",
    "#     println(\"solving without cache.\")\n",
    "#     @time solution = @suppress solve_transition(overall_parameters, settings);\n",
    "#     solved = solution.results;\n",
    "# end\n",
    "\n",
    "# filter!(row -> row.t >= 0, solved) # don't plot pre-shock values\n",
    "# @show ce_125_transition = 100*consumption_equivalent(solved.U[1], stationary_0.U_bar, overall_parameters);"
   ]
  }
 ],
 "metadata": {
  "kernelspec": {
   "display_name": "Julia 1.4.0",
   "language": "julia",
   "name": "julia-1.4"
  },
  "language_info": {
   "file_extension": ".jl",
   "mimetype": "application/julia",
   "name": "julia",
   "version": "1.4.0"
  }
 },
 "nbformat": 4,
 "nbformat_minor": 4
}
