{
 "cells": [
  {
   "cell_type": "code",
   "execution_count": 1,
   "metadata": {
    "scrolled": true
   },
   "outputs": [
    {
     "name": "stdout",
     "output_type": "stream",
     "text": [
      "\u001b[32m\u001b[1m  Updating\u001b[22m\u001b[39m registry at `C:\\Users\\Chiyoung Ahn\\.julia\\registries\\General`\n",
      "\u001b[32m\u001b[1m  Updating\u001b[22m\u001b[39m git-repo `https://github.com/JuliaRegistries/General.git`\n",
      "\u001b[?25l\u001b[2K\u001b[?25h\u001b[32m\u001b[1mPrecompiling\u001b[22m\u001b[39m project...\n"
     ]
    }
   ],
   "source": [
    "using Pkg\n",
    "pkg\"activate .\"\n",
    "pkg\"instantiate\"\n",
    "pkg\"precompile\""
   ]
  },
  {
   "cell_type": "code",
   "execution_count": null,
   "metadata": {},
   "outputs": [],
   "source": [
    "using PerlaTonettiWaugh, Plots, BenchmarkTools, CSV"
   ]
  },
  {
   "cell_type": "code",
   "execution_count": 3,
   "metadata": {},
   "outputs": [
    {
     "data": {
      "text/plain": [
       "Plots.GRBackend()"
      ]
     },
     "execution_count": 3,
     "metadata": {},
     "output_type": "execute_result"
    }
   ],
   "source": [
    "gr(fmt = :png)"
   ]
  },
  {
   "cell_type": "markdown",
   "metadata": {},
   "source": [
    "# Steady states"
   ]
  },
  {
   "cell_type": "markdown",
   "metadata": {},
   "source": [
    "## Solving steady state solutions"
   ]
  },
  {
   "cell_type": "markdown",
   "metadata": {},
   "source": [
    "Set up parameters and find the corresponding stationary solution:"
   ]
  },
  {
   "cell_type": "markdown",
   "metadata": {},
   "source": [
    "Below are the results from the **updated** matlab calibration with the corresponding letters. Here I added the $\\mu$ parameter in the calibration routine to fit the firm dynamic moments. Fit improved a lot and it generated a negative drift term which is what we need to keep S from going negative.\n"
   ]
  },
  {
   "cell_type": "code",
   "execution_count": 4,
   "metadata": {},
   "outputs": [
    {
     "data": {
      "text/plain": [
       "(ρ = 0.0215, σ = 3.1725, N = 10, θ = 5.0018, γ = 1.0, κ = 0.0732, ζ = 1.0, η = 0.0, Theta = 1, χ = 0.1678500092317505, υ = 0.0484, μ = -0.0189, δ = 0.02, d = 3.0426)"
      ]
     },
     "execution_count": 4,
     "metadata": {},
     "output_type": "execute_result"
    }
   ],
   "source": [
    "# NEW CALIBRATION\n",
    "\n",
    "parameters = parameter_defaults()\n",
    "\n",
    "parameters = merge(parameters, (ρ = 0.0215, d = 3.0426 , θ = 5.0018  ,  κ = 0.0732, χ = 1/5.9577, υ =  0.0484 , μ = -0.0189, σ = 3.1725, δ = 0.02,))"
   ]
  },
  {
   "cell_type": "code",
   "execution_count": 5,
   "metadata": {},
   "outputs": [
    {
     "data": {
      "text/plain": [
       "0.02"
      ]
     },
     "execution_count": 5,
     "metadata": {},
     "output_type": "execute_result"
    }
   ],
   "source": [
    "parameters.δ"
   ]
  },
  {
   "cell_type": "code",
   "execution_count": 6,
   "metadata": {},
   "outputs": [
    {
     "data": {
      "text/plain": [
       "true"
      ]
     },
     "execution_count": 6,
     "metadata": {},
     "output_type": "execute_result"
    }
   ],
   "source": [
    "changed_parameters = false # set this to true if you drastically change the parameters"
   ]
  },
  {
   "cell_type": "markdown",
   "metadata": {},
   "source": [
    "Side note on previous version. Essentially, under this calibration, the parameters are very simmilar. Theta, chi, kappa are quite close to what we had in the prior version."
   ]
  },
  {
   "cell_type": "code",
   "execution_count": 7,
   "metadata": {
    "scrolled": true
   },
   "outputs": [],
   "source": [
    "# Define common objects. \n",
    "#parameters = parameter_defaults()\n",
    "\n",
    "settings = settings_defaults()\n",
    "settings = merge(settings, (transition_penalty_coefficient = 1.0, ))\n",
    "\n",
    "\n",
    "settings = merge(settings, (z_ex = unique([range(0., 0.1, length = 150)' range(0.1, 1., length = 100)' range(1., 5, length = 50)']),))\n",
    "settings = merge(settings, (z = settings.z_ex[2:end-1], ))\n",
    "\n",
    "P = length(settings.z)\n",
    "\n",
    "d_0 = parameters.d # Here is the 10 percent tariff increase\n",
    "d_T = 1 + (parameters.d-1)*0.90\n",
    "\n",
    "d_autarky = 1 + (parameters.d-1)*2.5 \n",
    "\n",
    "params_0 = merge(parameters, (d = d_0, )) # parameters to be used at t = 0\n",
    "params_T = merge(parameters, (d = d_T, )) # parameters to be used at t = T\n",
    "params_autarky = merge(parameters, (d = d_autarky, )) # parameters to be used in autarky calc\n",
    "\n",
    "# initial value for numerical solver on (g, z_hat, Omega)\n",
    "initial_x = [0.02; 2; .57]\n",
    "\n",
    "# solve for stationary solution at t = 0\n",
    "stationary_sol_0 = stationary_algebraic(params_0, initial_x) # solution at t = 0\n",
    "stationary_sol = stationary_algebraic(params_T, initial_x) # solution at t = T\n",
    "stationary_autarky = stationary_algebraic(params_autarky, initial_x) # solution at t = T\n",
    "\n",
    "Ω_0 = stationary_sol_0.Ω;\n",
    "Ω_T = stationary_sol.Ω;"
   ]
  },
  {
   "cell_type": "code",
   "execution_count": 8,
   "metadata": {},
   "outputs": [
    {
     "data": {
      "text/plain": [
       "3.0426"
      ]
     },
     "execution_count": 8,
     "metadata": {},
     "output_type": "execute_result"
    }
   ],
   "source": [
    "d_0"
   ]
  },
  {
   "cell_type": "code",
   "execution_count": 9,
   "metadata": {},
   "outputs": [
    {
     "name": "stdout",
     "output_type": "stream",
     "text": [
      "19.536172711003402\n",
      "16.106813814683527\n",
      "0.0989517579364377\n",
      "0.07742571652180796\n"
     ]
    }
   ],
   "source": [
    "print(stationary_sol.U_bar,'\\n') \n",
    "print(stationary_sol_0.U_bar,'\\n')\n",
    "print(stationary_sol_0.S,'\\n')\n",
    "print(stationary_autarky.S,'\\n')"
   ]
  },
  {
   "cell_type": "code",
   "execution_count": 10,
   "metadata": {},
   "outputs": [
    {
     "name": "stdout",
     "output_type": "stream",
     "text": [
      "SS to SS welfare gain: 7.6517416240797775\n",
      "SS to SS welfare gain: 0.8574023485038085\n"
     ]
    }
   ],
   "source": [
    "#T = solved.t[end]\n",
    "lambda_ss = 100*(consumption_equivalent(stationary_sol.U_bar, stationary_sol_0.U_bar, parameters)-1)\n",
    "\n",
    "print(\"SS to SS welfare gain: \", lambda_ss,\"\\n\")\n",
    "print(\"SS to SS welfare gain: \", stationary_sol.λ_ii,\"\\n\")"
   ]
  },
  {
   "cell_type": "code",
   "execution_count": 11,
   "metadata": {},
   "outputs": [
    {
     "name": "stdout",
     "output_type": "stream",
     "text": [
      "SS to SS welfare gain: 0.008570416914745884\n"
     ]
    }
   ],
   "source": [
    "print(\"SS to SS welfare gain: \", stationary_sol.g,\"\\n\")"
   ]
  },
  {
   "cell_type": "markdown",
   "metadata": {},
   "source": [
    "### This is the autarky calculation"
   ]
  },
  {
   "cell_type": "code",
   "execution_count": 12,
   "metadata": {},
   "outputs": [
    {
     "name": "stdout",
     "output_type": "stream",
     "text": [
      "SS to SS welfare gain: -15.522308452599521\n",
      "Autarky Home Share, should be close to 1: 0.9965183434231\n",
      "Autarky TFP growth rate 0.00243807896292438\n"
     ]
    }
   ],
   "source": [
    "#T = solved.t[end]\n",
    "lambda_ss_autarky = 100*(consumption_equivalent(stationary_autarky.U_bar, stationary_sol_0.U_bar, parameters)-1)\n",
    "\n",
    "print(\"SS to SS welfare gain: \", lambda_ss_autarky,\"\\n\")\n",
    "print(\"Autarky Home Share, should be close to 1: \", stationary_autarky.λ_ii,\"\\n\")\n",
    "print(\"Autarky TFP growth rate \", stationary_autarky.g,\"\\n\")"
   ]
  },
  {
   "cell_type": "markdown",
   "metadata": {},
   "source": [
    "## Welfare in Steady States"
   ]
  },
  {
   "cell_type": "markdown",
   "metadata": {},
   "source": [
    "### Steady state at `T`"
   ]
  },
  {
   "cell_type": "code",
   "execution_count": 13,
   "metadata": {},
   "outputs": [
    {
     "data": {
      "text/plain": [
       "19.536172711003402"
      ]
     },
     "execution_count": 13,
     "metadata": {},
     "output_type": "execute_result"
    }
   ],
   "source": [
    "stationary_sol.U_bar"
   ]
  },
  {
   "cell_type": "markdown",
   "metadata": {},
   "source": [
    "### Steady state at `0`"
   ]
  },
  {
   "cell_type": "code",
   "execution_count": 14,
   "metadata": {
    "scrolled": false
   },
   "outputs": [
    {
     "data": {
      "text/plain": [
       "16.106813814683527"
      ]
     },
     "execution_count": 14,
     "metadata": {},
     "output_type": "execute_result"
    }
   ],
   "source": [
    "stationary_sol_0.U_bar"
   ]
  },
  {
   "cell_type": "markdown",
   "metadata": {},
   "source": [
    "### Outstanding Issue \\#1: Sensitivity of growth to trade.\n",
    "\n",
    "This is a big difference relative to previous version. As noted above, with parameter values that are quite similar to what we had before, the growth rate is changing a lot with only a very small change in trade flows. Why?"
   ]
  },
  {
   "cell_type": "code",
   "execution_count": 49,
   "metadata": {},
   "outputs": [
    {
     "name": "stdout",
     "output_type": "stream",
     "text": [
      "(stationary_sol.g, stationary_sol_0.g) = (0.008570416914745884, 0.0067417379286226755)\n"
     ]
    }
   ],
   "source": [
    "@show stationary_sol.g, stationary_sol_0.g;"
   ]
  },
  {
   "cell_type": "markdown",
   "metadata": {},
   "source": [
    "---"
   ]
  },
  {
   "cell_type": "markdown",
   "metadata": {},
   "source": [
    "# Transition dynamics"
   ]
  },
  {
   "cell_type": "markdown",
   "metadata": {},
   "source": [
    "Setup for optimizer:"
   ]
  },
  {
   "cell_type": "code",
   "execution_count": 16,
   "metadata": {},
   "outputs": [],
   "source": [
    "settings = merge(settings, (params_T = params_T, stationary_sol_T = stationary_numerical(params_T, settings.z_ex), Ω_0 = Ω_0, T = 75.0));"
   ]
  },
  {
   "cell_type": "markdown",
   "metadata": {},
   "source": [
    "Use the solution found with calibrated parameters above for `E`"
   ]
  },
  {
   "cell_type": "code",
   "execution_count": 18,
   "metadata": {},
   "outputs": [],
   "source": [
    "settings = merge(settings, (transition_x0 = [-0.998254873760952, -0.5060923510363916, -0.4009880494240544, -0.25390133944298543, -0.18503794333490725, -0.1394414958616132, -0.09688480053528754, -0.09605464209945933, -0.06698882334951167, -0.052006470880313516, -0.05077464721268157, -0.019275295630678396, -0.018107744362588774, -0.011818732601638654, -0.006814206563344461], \n",
    "        tstops = (changed_parameters ? nothing : 1:settings.T),\n",
    "        weights = [10.0; ones(14)])); # remove tstops when solving the model for the first time to get a rough solution first"
   ]
  },
  {
   "cell_type": "markdown",
   "metadata": {},
   "source": [
    "Find the corresponding solution"
   ]
  },
  {
   "cell_type": "code",
   "execution_count": 19,
   "metadata": {
    "scrolled": true
   },
   "outputs": [
    {
     "name": "stdout",
     "output_type": "stream",
     "text": [
      "Starting optimization with optimizer BlackBoxOptim.DiffEvoOpt{BlackBoxOptim.FitPopulation{Float64},BlackBoxOptim.RadiusLimitedSelector,BlackBoxOptim.AdaptiveDiffEvoRandBin{3},BlackBoxOptim.RandomBound{BlackBoxOptim.RangePerDimSearchSpace}}\n",
      "0.00 secs, 0 evals, 0 steps\n",
      "0.70 secs, 4 evals, 2 steps, improv/step: 1.000 (last = 1.0000), fitness=0.401927234\n",
      "1.28 secs, 9 evals, 5 steps, improv/step: 1.000 (last = 1.0000), fitness=0.401927234\n",
      "1.93 secs, 15 evals, 8 steps, improv/step: 1.000 (last = 1.0000), fitness=0.401927234\n",
      "2.44 secs, 20 evals, 11 steps, improv/step: 0.909 (last = 0.6667), fitness=0.401927234\n",
      "3.00 secs, 27 evals, 15 steps, improv/step: 0.933 (last = 1.0000), fitness=0.326905936\n",
      "3.56 secs, 33 evals, 18 steps, improv/step: 0.944 (last = 1.0000), fitness=0.321230589\n",
      "4.21 secs, 40 evals, 23 steps, improv/step: 0.826 (last = 0.4000), fitness=0.231525471\n",
      "4.73 secs, 46 evals, 27 steps, improv/step: 0.815 (last = 0.7500), fitness=0.231525471\n",
      "5.25 secs, 52 evals, 32 steps, improv/step: 0.781 (last = 0.6000), fitness=0.231525471\n",
      "5.80 secs, 59 evals, 37 steps, improv/step: 0.757 (last = 0.6000), fitness=0.231525471\n",
      "6.42 secs, 66 evals, 42 steps, improv/step: 0.762 (last = 0.8000), fitness=0.191811814\n",
      "7.03 secs, 73 evals, 46 steps, improv/step: 0.761 (last = 0.7500), fitness=0.191811814\n",
      "7.55 secs, 80 evals, 50 steps, improv/step: 0.760 (last = 0.7500), fitness=0.191811814\n",
      "8.07 secs, 86 evals, 54 steps, improv/step: 0.759 (last = 0.7500), fitness=0.191811814\n",
      "8.61 secs, 93 evals, 60 steps, improv/step: 0.717 (last = 0.3333), fitness=0.191811814\n",
      "9.24 secs, 100 evals, 65 steps, improv/step: 0.738 (last = 1.0000), fitness=0.144694917\n",
      "9.85 secs, 107 evals, 71 steps, improv/step: 0.718 (last = 0.5000), fitness=0.144694917\n",
      "10.42 secs, 114 evals, 77 steps, improv/step: 0.701 (last = 0.5000), fitness=0.144694917\n",
      "11.03 secs, 120 evals, 82 steps, improv/step: 0.695 (last = 0.6000), fitness=0.098411642\n",
      "11.56 secs, 125 evals, 86 steps, improv/step: 0.698 (last = 0.7500), fitness=0.097666306\n",
      "12.20 secs, 132 evals, 91 steps, improv/step: 0.703 (last = 0.8000), fitness=0.097666306\n",
      "12.74 secs, 138 evals, 96 steps, improv/step: 0.688 (last = 0.4000), fitness=0.097666306\n",
      "13.26 secs, 141 evals, 99 steps, improv/step: 0.697 (last = 1.0000), fitness=0.097666306\n",
      "13.87 secs, 147 evals, 104 steps, improv/step: 0.673 (last = 0.2000), fitness=0.097666306\n",
      "14.39 secs, 153 evals, 110 steps, improv/step: 0.655 (last = 0.3333), fitness=0.097666306\n",
      "14.92 secs, 158 evals, 115 steps, improv/step: 0.643 (last = 0.4000), fitness=0.097666306\n",
      "15.45 secs, 163 evals, 119 steps, improv/step: 0.647 (last = 0.7500), fitness=0.097666306\n",
      "16.02 secs, 169 evals, 125 steps, improv/step: 0.616 (last = 0.0000), fitness=0.097666306\n",
      "16.53 secs, 175 evals, 130 steps, improv/step: 0.608 (last = 0.4000), fitness=0.097666306\n",
      "17.09 secs, 181 evals, 136 steps, improv/step: 0.610 (last = 0.6667), fitness=0.097666306\n",
      "17.72 secs, 188 evals, 141 steps, improv/step: 0.610 (last = 0.6000), fitness=0.097666306\n",
      "18.24 secs, 194 evals, 147 steps, improv/step: 0.605 (last = 0.5000), fitness=0.097666306\n",
      "18.79 secs, 201 evals, 154 steps, improv/step: 0.591 (last = 0.2857), fitness=0.097666306\n",
      "19.31 secs, 207 evals, 159 steps, improv/step: 0.585 (last = 0.4000), fitness=0.097666306\n",
      "19.85 secs, 212 evals, 164 steps, improv/step: 0.579 (last = 0.4000), fitness=0.097666306\n",
      "20.43 secs, 217 evals, 169 steps, improv/step: 0.580 (last = 0.6000), fitness=0.097666306\n",
      "20.95 secs, 222 evals, 174 steps, improv/step: 0.569 (last = 0.2000), fitness=0.097666306\n",
      "21.46 secs, 227 evals, 179 steps, improv/step: 0.564 (last = 0.4000), fitness=0.097666306\n",
      "22.01 secs, 232 evals, 184 steps, improv/step: 0.560 (last = 0.4000), fitness=0.076050792\n",
      "22.56 secs, 236 evals, 188 steps, improv/step: 0.564 (last = 0.7500), fitness=0.076050792\n",
      "23.09 secs, 241 evals, 193 steps, improv/step: 0.554 (last = 0.2000), fitness=0.076050792\n",
      "23.59 secs, 245 evals, 197 steps, improv/step: 0.558 (last = 0.7500), fitness=0.076050792\n",
      "24.19 secs, 251 evals, 203 steps, improv/step: 0.552 (last = 0.3333), fitness=0.076050792\n",
      "24.78 secs, 256 evals, 208 steps, improv/step: 0.543 (last = 0.2000), fitness=0.076050792\n",
      "25.36 secs, 260 evals, 211 steps, improv/step: 0.550 (last = 1.0000), fitness=0.076050792\n",
      "25.88 secs, 264 evals, 215 steps, improv/step: 0.540 (last = 0.0000), fitness=0.076050792\n",
      "26.45 secs, 270 evals, 221 steps, improv/step: 0.534 (last = 0.3333), fitness=0.076050792\n",
      "26.98 secs, 275 evals, 226 steps, improv/step: 0.535 (last = 0.6000), fitness=0.076050792\n",
      "27.53 secs, 280 evals, 231 steps, improv/step: 0.528 (last = 0.2000), fitness=0.076050792\n",
      "28.03 secs, 285 evals, 236 steps, improv/step: 0.534 (last = 0.8000), fitness=0.076050792\n",
      "28.57 secs, 291 evals, 241 steps, improv/step: 0.535 (last = 0.6000), fitness=0.076050792\n",
      "29.17 secs, 297 evals, 247 steps, improv/step: 0.543 (last = 0.8333), fitness=0.076050792\n",
      "29.70 secs, 302 evals, 252 steps, improv/step: 0.540 (last = 0.4000), fitness=0.038095212\n",
      "30.26 secs, 308 evals, 258 steps, improv/step: 0.539 (last = 0.5000), fitness=0.038095212\n",
      "30.84 secs, 313 evals, 263 steps, improv/step: 0.529 (last = 0.0000), fitness=0.038095212\n",
      "31.44 secs, 318 evals, 268 steps, improv/step: 0.530 (last = 0.6000), fitness=0.038095212\n",
      "31.95 secs, 323 evals, 273 steps, improv/step: 0.531 (last = 0.6000), fitness=0.038095212\n",
      "32.50 secs, 329 evals, 279 steps, improv/step: 0.523 (last = 0.1667), fitness=0.038095212\n",
      "33.05 secs, 335 evals, 285 steps, improv/step: 0.523 (last = 0.5000), fitness=0.038095212\n",
      "33.63 secs, 341 evals, 291 steps, improv/step: 0.522 (last = 0.5000), fitness=0.038095212\n",
      "34.18 secs, 347 evals, 297 steps, improv/step: 0.522 (last = 0.5000), fitness=0.038095212\n",
      "34.74 secs, 353 evals, 303 steps, improv/step: 0.525 (last = 0.6667), fitness=0.019775934\n",
      "35.28 secs, 358 evals, 308 steps, improv/step: 0.526 (last = 0.6000), fitness=0.019775934\n",
      "35.80 secs, 363 evals, 313 steps, improv/step: 0.521 (last = 0.2000), fitness=0.019775934\n",
      "36.35 secs, 369 evals, 319 steps, improv/step: 0.524 (last = 0.6667), fitness=0.019775934\n",
      "36.86 secs, 374 evals, 324 steps, improv/step: 0.525 (last = 0.6000), fitness=0.019775934\n",
      "37.39 secs, 380 evals, 330 steps, improv/step: 0.524 (last = 0.5000), fitness=0.019775934\n",
      "37.95 secs, 385 evals, 335 steps, improv/step: 0.519 (last = 0.2000), fitness=0.019775934\n",
      "38.50 secs, 391 evals, 341 steps, improv/step: 0.516 (last = 0.3333), fitness=0.019775934\n",
      "39.06 secs, 396 evals, 346 steps, improv/step: 0.520 (last = 0.8000), fitness=0.019775934\n",
      "39.66 secs, 401 evals, 351 steps, improv/step: 0.519 (last = 0.4000), fitness=0.019775934\n",
      "40.19 secs, 406 evals, 356 steps, improv/step: 0.520 (last = 0.6000), fitness=0.006058739\n",
      "40.76 secs, 411 evals, 361 steps, improv/step: 0.518 (last = 0.4000), fitness=0.006058739\n",
      "41.37 secs, 417 evals, 367 steps, improv/step: 0.520 (last = 0.6667), fitness=0.002494860\n",
      "41.94 secs, 423 evals, 373 steps, improv/step: 0.523 (last = 0.6667), fitness=0.002494860\n",
      "42.47 secs, 429 evals, 379 steps, improv/step: 0.522 (last = 0.5000), fitness=0.002494860\n",
      "43.03 secs, 435 evals, 385 steps, improv/step: 0.522 (last = 0.5000), fitness=0.002494860\n",
      "43.57 secs, 440 evals, 390 steps, improv/step: 0.528 (last = 1.0000), fitness=0.002494860\n",
      "44.16 secs, 446 evals, 396 steps, improv/step: 0.528 (last = 0.5000), fitness=0.002494860\n",
      "44.69 secs, 451 evals, 401 steps, improv/step: 0.531 (last = 0.8000), fitness=0.002494860\n",
      "45.20 secs, 457 evals, 407 steps, improv/step: 0.531 (last = 0.5000), fitness=0.002494860\n",
      "45.80 secs, 463 evals, 413 steps, improv/step: 0.528 (last = 0.3333), fitness=0.002494860\n",
      "46.31 secs, 469 evals, 419 steps, improv/step: 0.525 (last = 0.3333), fitness=0.002494860\n",
      "46.88 secs, 475 evals, 425 steps, improv/step: 0.525 (last = 0.5000), fitness=0.002494860\n",
      "47.40 secs, 481 evals, 431 steps, improv/step: 0.527 (last = 0.6667), fitness=0.002494860\n",
      "47.95 secs, 487 evals, 437 steps, improv/step: 0.522 (last = 0.1667), fitness=0.002494860\n",
      "48.52 secs, 493 evals, 443 steps, improv/step: 0.524 (last = 0.6667), fitness=0.002494860\n",
      "49.08 secs, 499 evals, 449 steps, improv/step: 0.526 (last = 0.6667), fitness=0.002494860\n",
      "49.60 secs, 505 evals, 455 steps, improv/step: 0.525 (last = 0.5000), fitness=0.002494860\n",
      "50.12 secs, 511 evals, 461 steps, improv/step: 0.527 (last = 0.6667), fitness=0.002494860\n",
      "50.65 secs, 517 evals, 467 steps, improv/step: 0.525 (last = 0.3333), fitness=0.002494860\n",
      "51.23 secs, 523 evals, 473 steps, improv/step: 0.520 (last = 0.1667), fitness=0.002494860\n",
      "51.80 secs, 529 evals, 479 steps, improv/step: 0.520 (last = 0.5000), fitness=0.002494860\n",
      "52.38 secs, 535 evals, 485 steps, improv/step: 0.524 (last = 0.8333), fitness=0.002494860\n",
      "52.99 secs, 541 evals, 491 steps, improv/step: 0.525 (last = 0.6667), fitness=0.002494860\n",
      "53.51 secs, 547 evals, 497 steps, improv/step: 0.523 (last = 0.3333), fitness=0.002494860\n",
      "54.04 secs, 552 evals, 502 steps, improv/step: 0.526 (last = 0.8000), fitness=0.002494860\n",
      "54.61 secs, 558 evals, 508 steps, improv/step: 0.526 (last = 0.5000), fitness=0.002494860\n",
      "55.11 secs, 563 evals, 513 steps, improv/step: 0.528 (last = 0.8000), fitness=0.002494860\n",
      "55.66 secs, 569 evals, 519 steps, improv/step: 0.526 (last = 0.3333), fitness=0.002494860\n",
      "56.28 secs, 574 evals, 524 steps, improv/step: 0.527 (last = 0.6000), fitness=0.002494860\n",
      "56.80 secs, 580 evals, 530 steps, improv/step: 0.523 (last = 0.1667), fitness=0.002494860\n",
      "57.39 secs, 586 evals, 536 steps, improv/step: 0.522 (last = 0.5000), fitness=0.002494860\n",
      "57.92 secs, 591 evals, 541 steps, improv/step: 0.521 (last = 0.4000), fitness=0.002494860\n",
      "58.43 secs, 596 evals, 546 steps, improv/step: 0.518 (last = 0.2000), fitness=0.002494860\n",
      "58.96 secs, 601 evals, 551 steps, improv/step: 0.521 (last = 0.8000), fitness=0.002494860\n",
      "59.49 secs, 606 evals, 556 steps, improv/step: 0.520 (last = 0.4000), fitness=0.002494860\n",
      "60.06 secs, 612 evals, 562 steps, improv/step: 0.520 (last = 0.5000), fitness=0.002494860\n",
      "60.62 secs, 618 evals, 568 steps, improv/step: 0.518 (last = 0.3333), fitness=0.002494860\n",
      "61.16 secs, 623 evals, 573 steps, improv/step: 0.517 (last = 0.4000), fitness=0.002494860\n",
      "61.68 secs, 629 evals, 579 steps, improv/step: 0.515 (last = 0.3333), fitness=0.002494860\n",
      "62.25 secs, 635 evals, 585 steps, improv/step: 0.511 (last = 0.1667), fitness=0.002494860\n",
      "62.83 secs, 641 evals, 591 steps, improv/step: 0.509 (last = 0.3333), fitness=0.002494860\n",
      "63.35 secs, 647 evals, 597 steps, improv/step: 0.506 (last = 0.1667), fitness=0.002494860\n",
      "64.00 secs, 653 evals, 603 steps, improv/step: 0.507 (last = 0.6667), fitness=0.002494860\n",
      "64.56 secs, 658 evals, 608 steps, improv/step: 0.507 (last = 0.4000), fitness=0.002494860\n",
      "65.13 secs, 664 evals, 614 steps, improv/step: 0.507 (last = 0.5000), fitness=0.002494860\n",
      "65.70 secs, 670 evals, 620 steps, improv/step: 0.508 (last = 0.6667), fitness=0.002494860\n",
      "66.20 secs, 675 evals, 625 steps, improv/step: 0.507 (last = 0.4000), fitness=0.002494860\n",
      "66.73 secs, 680 evals, 630 steps, improv/step: 0.506 (last = 0.4000), fitness=0.002494860\n",
      "67.27 secs, 685 evals, 635 steps, improv/step: 0.506 (last = 0.4000), fitness=0.002494860\n",
      "67.86 secs, 690 evals, 640 steps, improv/step: 0.506 (last = 0.6000), fitness=0.002494860\n",
      "68.38 secs, 695 evals, 645 steps, improv/step: 0.504 (last = 0.2000), fitness=0.002494860\n",
      "68.91 secs, 700 evals, 650 steps, improv/step: 0.502 (last = 0.2000), fitness=0.002494860\n",
      "69.45 secs, 705 evals, 655 steps, improv/step: 0.499 (last = 0.2000), fitness=0.002494860\n",
      "69.96 secs, 711 evals, 661 steps, improv/step: 0.499 (last = 0.5000), fitness=0.002494860\n",
      "70.52 secs, 716 evals, 666 steps, improv/step: 0.498 (last = 0.4000), fitness=0.002494860\n",
      "71.10 secs, 721 evals, 671 steps, improv/step: 0.499 (last = 0.6000), fitness=0.002494860\n",
      "71.69 secs, 726 evals, 676 steps, improv/step: 0.500 (last = 0.6000), fitness=0.002494860\n",
      "72.22 secs, 730 evals, 680 steps, improv/step: 0.501 (last = 0.7500), fitness=0.002494860\n",
      "72.84 secs, 736 evals, 686 steps, improv/step: 0.503 (last = 0.6667), fitness=0.002494860\n",
      "73.38 secs, 741 evals, 691 steps, improv/step: 0.505 (last = 0.8000), fitness=0.002494860\n",
      "73.88 secs, 746 evals, 696 steps, improv/step: 0.503 (last = 0.2000), fitness=0.002494860\n",
      "74.41 secs, 751 evals, 701 steps, improv/step: 0.501 (last = 0.2000), fitness=0.002494860\n",
      "75.00 secs, 757 evals, 707 steps, improv/step: 0.499 (last = 0.3333), fitness=0.002494860\n",
      "75.55 secs, 763 evals, 713 steps, improv/step: 0.498 (last = 0.3333), fitness=0.002494860\n",
      "76.05 secs, 768 evals, 718 steps, improv/step: 0.494 (last = 0.0000), fitness=0.002494860\n",
      "76.55 secs, 773 evals, 723 steps, improv/step: 0.495 (last = 0.6000), fitness=0.002494860\n",
      "77.10 secs, 778 evals, 728 steps, improv/step: 0.497 (last = 0.8000), fitness=0.002494860\n",
      "77.69 secs, 784 evals, 734 steps, improv/step: 0.497 (last = 0.5000), fitness=0.002494860\n",
      "78.27 secs, 788 evals, 738 steps, improv/step: 0.499 (last = 0.7500), fitness=0.002494860\n",
      "78.83 secs, 793 evals, 743 steps, improv/step: 0.497 (last = 0.2000), fitness=0.002494860\n",
      "79.38 secs, 798 evals, 748 steps, improv/step: 0.495 (last = 0.2000), fitness=0.002494860\n",
      "79.95 secs, 803 evals, 753 steps, improv/step: 0.493 (last = 0.2000), fitness=0.002494860\n",
      "80.57 secs, 809 evals, 759 steps, improv/step: 0.493 (last = 0.5000), fitness=0.002494860\n",
      "81.12 secs, 814 evals, 764 steps, improv/step: 0.490 (last = 0.0000), fitness=0.002494860\n",
      "81.68 secs, 820 evals, 770 steps, improv/step: 0.488 (last = 0.3333), fitness=0.002494860\n",
      "82.22 secs, 825 evals, 775 steps, improv/step: 0.490 (last = 0.8000), fitness=0.002494860\n",
      "82.73 secs, 829 evals, 779 steps, improv/step: 0.488 (last = 0.0000), fitness=0.002494860\n",
      "83.31 secs, 834 evals, 784 steps, improv/step: 0.487 (last = 0.4000), fitness=0.002494860\n",
      "83.94 secs, 840 evals, 790 steps, improv/step: 0.487 (last = 0.5000), fitness=0.002494860\n",
      "84.57 secs, 846 evals, 796 steps, improv/step: 0.486 (last = 0.3333), fitness=0.002494860\n",
      "85.10 secs, 851 evals, 801 steps, improv/step: 0.488 (last = 0.8000), fitness=0.002494860\n",
      "85.60 secs, 856 evals, 806 steps, improv/step: 0.488 (last = 0.4000), fitness=0.002494860\n",
      "86.14 secs, 860 evals, 810 steps, improv/step: 0.486 (last = 0.2500), fitness=0.002494860\n",
      "86.73 secs, 865 evals, 815 steps, improv/step: 0.487 (last = 0.6000), fitness=0.002494860\n",
      "87.27 secs, 870 evals, 820 steps, improv/step: 0.487 (last = 0.4000), fitness=0.002494860\n",
      "87.82 secs, 875 evals, 825 steps, improv/step: 0.484 (last = 0.0000), fitness=0.002494860\n",
      "88.41 secs, 880 evals, 830 steps, improv/step: 0.483 (last = 0.4000), fitness=0.002494860\n",
      "89.00 secs, 886 evals, 836 steps, improv/step: 0.481 (last = 0.1667), fitness=0.002494860\n",
      "89.58 secs, 892 evals, 842 steps, improv/step: 0.480 (last = 0.3333), fitness=0.002494860\n",
      "90.19 secs, 897 evals, 847 steps, improv/step: 0.477 (last = 0.0000), fitness=0.002494860\n",
      "90.71 secs, 902 evals, 852 steps, improv/step: 0.478 (last = 0.6000), fitness=0.002494860\n",
      "91.32 secs, 907 evals, 857 steps, improv/step: 0.476 (last = 0.2000), fitness=0.002494860\n",
      "91.83 secs, 912 evals, 862 steps, improv/step: 0.474 (last = 0.2000), fitness=0.002494860\n",
      "92.34 secs, 916 evals, 866 steps, improv/step: 0.476 (last = 0.7500), fitness=0.002494860\n",
      "92.89 secs, 921 evals, 871 steps, improv/step: 0.473 (last = 0.0000), fitness=0.002494860\n",
      "93.44 secs, 926 evals, 876 steps, improv/step: 0.473 (last = 0.4000), fitness=0.002494860\n",
      "94.08 secs, 931 evals, 881 steps, improv/step: 0.471 (last = 0.2000), fitness=0.002494860\n",
      "94.65 secs, 936 evals, 886 steps, improv/step: 0.471 (last = 0.4000), fitness=0.002494860\n",
      "95.23 secs, 941 evals, 891 steps, improv/step: 0.469 (last = 0.2000), fitness=0.002494860\n",
      "95.84 secs, 946 evals, 896 steps, improv/step: 0.469 (last = 0.4000), fitness=0.002494860\n",
      "96.37 secs, 951 evals, 901 steps, improv/step: 0.467 (last = 0.2000), fitness=0.002494860\n",
      "96.88 secs, 955 evals, 905 steps, improv/step: 0.466 (last = 0.2500), fitness=0.002494860\n",
      "97.46 secs, 960 evals, 910 steps, improv/step: 0.465 (last = 0.2000), fitness=0.002494860\n",
      "98.02 secs, 965 evals, 915 steps, improv/step: 0.464 (last = 0.4000), fitness=0.002494860\n",
      "98.65 secs, 969 evals, 919 steps, improv/step: 0.464 (last = 0.2500), fitness=0.002494860\n",
      "99.17 secs, 973 evals, 923 steps, improv/step: 0.463 (last = 0.2500), fitness=0.002494860\n",
      "99.76 secs, 978 evals, 928 steps, improv/step: 0.462 (last = 0.4000), fitness=0.002494860\n",
      "100.27 secs, 982 evals, 932 steps, improv/step: 0.460 (last = 0.0000), fitness=0.002494860\n"
     ]
    },
    {
     "name": "stdout",
     "output_type": "stream",
     "text": [
      "100.82 secs, 987 evals, 937 steps, improv/step: 0.460 (last = 0.4000), fitness=0.002494860\n",
      "101.36 secs, 992 evals, 942 steps, improv/step: 0.459 (last = 0.2000), fitness=0.002494860\n",
      "101.96 secs, 997 evals, 947 steps, improv/step: 0.458 (last = 0.4000), fitness=0.002494860\n",
      "102.49 secs, 1002 evals, 952 steps, improv/step: 0.457 (last = 0.2000), fitness=0.002494860\n",
      "103.03 secs, 1007 evals, 957 steps, improv/step: 0.456 (last = 0.2000), fitness=0.002494860\n",
      "103.55 secs, 1012 evals, 962 steps, improv/step: 0.454 (last = 0.2000), fitness=0.002494860\n",
      "104.06 secs, 1016 evals, 966 steps, improv/step: 0.453 (last = 0.2500), fitness=0.002494860\n",
      "104.59 secs, 1020 evals, 970 steps, improv/step: 0.454 (last = 0.5000), fitness=0.002494860\n",
      "105.15 secs, 1026 evals, 976 steps, improv/step: 0.452 (last = 0.1667), fitness=0.002494860\n",
      "105.67 secs, 1031 evals, 981 steps, improv/step: 0.451 (last = 0.2000), fitness=0.002494860\n",
      "106.27 secs, 1037 evals, 987 steps, improv/step: 0.450 (last = 0.3333), fitness=0.002494860\n",
      "106.80 secs, 1042 evals, 992 steps, improv/step: 0.449 (last = 0.2000), fitness=0.002494860\n",
      "107.38 secs, 1048 evals, 998 steps, improv/step: 0.449 (last = 0.5000), fitness=0.002494860\n",
      "107.92 secs, 1053 evals, 1003 steps, improv/step: 0.449 (last = 0.4000), fitness=0.002494860\n",
      "108.47 secs, 1058 evals, 1008 steps, improv/step: 0.447 (last = 0.2000), fitness=0.002494860\n",
      "108.98 secs, 1063 evals, 1013 steps, improv/step: 0.449 (last = 0.8000), fitness=0.002494860\n",
      "109.53 secs, 1068 evals, 1018 steps, improv/step: 0.448 (last = 0.2000), fitness=0.002494860\n",
      "110.08 secs, 1073 evals, 1023 steps, improv/step: 0.446 (last = 0.0000), fitness=0.002494860\n",
      "110.68 secs, 1078 evals, 1028 steps, improv/step: 0.444 (last = 0.0000), fitness=0.002494860\n",
      "111.22 secs, 1083 evals, 1033 steps, improv/step: 0.441 (last = 0.0000), fitness=0.002494860\n",
      "111.76 secs, 1088 evals, 1038 steps, improv/step: 0.440 (last = 0.2000), fitness=0.002494860\n",
      "112.29 secs, 1093 evals, 1043 steps, improv/step: 0.440 (last = 0.4000), fitness=0.002494860\n",
      "112.90 secs, 1098 evals, 1048 steps, improv/step: 0.438 (last = 0.0000), fitness=0.002494860\n",
      "113.43 secs, 1103 evals, 1053 steps, improv/step: 0.437 (last = 0.2000), fitness=0.002494860\n",
      "113.94 secs, 1108 evals, 1058 steps, improv/step: 0.439 (last = 0.8000), fitness=0.002494860\n",
      "114.53 secs, 1113 evals, 1063 steps, improv/step: 0.437 (last = 0.0000), fitness=0.002494860\n",
      "115.09 secs, 1118 evals, 1068 steps, improv/step: 0.434 (last = 0.0000), fitness=0.002494860\n",
      "115.65 secs, 1123 evals, 1073 steps, improv/step: 0.434 (last = 0.4000), fitness=0.002494860\n",
      "116.22 secs, 1128 evals, 1078 steps, improv/step: 0.435 (last = 0.6000), fitness=0.002494860\n",
      "116.80 secs, 1132 evals, 1082 steps, improv/step: 0.434 (last = 0.2500), fitness=0.002494860\n",
      "117.33 secs, 1137 evals, 1087 steps, improv/step: 0.434 (last = 0.4000), fitness=0.002494860\n",
      "117.86 secs, 1142 evals, 1092 steps, improv/step: 0.433 (last = 0.2000), fitness=0.002494860\n",
      "118.36 secs, 1147 evals, 1097 steps, improv/step: 0.433 (last = 0.4000), fitness=0.002494860\n",
      "118.95 secs, 1152 evals, 1102 steps, improv/step: 0.433 (last = 0.4000), fitness=0.002494860\n",
      "119.52 secs, 1157 evals, 1107 steps, improv/step: 0.433 (last = 0.4000), fitness=0.001314964\n",
      "120.03 secs, 1162 evals, 1112 steps, improv/step: 0.433 (last = 0.6000), fitness=0.001314964\n",
      "120.56 secs, 1167 evals, 1117 steps, improv/step: 0.433 (last = 0.4000), fitness=0.001314964\n",
      "121.11 secs, 1172 evals, 1122 steps, improv/step: 0.431 (last = 0.0000), fitness=0.001314964\n",
      "121.63 secs, 1177 evals, 1127 steps, improv/step: 0.430 (last = 0.2000), fitness=0.001314964\n",
      "122.18 secs, 1182 evals, 1132 steps, improv/step: 0.430 (last = 0.4000), fitness=0.001314964\n",
      "122.78 secs, 1187 evals, 1137 steps, improv/step: 0.430 (last = 0.4000), fitness=0.001314964\n",
      "123.34 secs, 1192 evals, 1142 steps, improv/step: 0.430 (last = 0.4000), fitness=0.001314964\n",
      "123.85 secs, 1197 evals, 1147 steps, improv/step: 0.428 (last = 0.0000), fitness=0.001314964\n",
      "124.38 secs, 1202 evals, 1152 steps, improv/step: 0.428 (last = 0.4000), fitness=0.001314964\n",
      "124.94 secs, 1207 evals, 1157 steps, improv/step: 0.428 (last = 0.4000), fitness=0.001314964\n",
      "125.47 secs, 1212 evals, 1162 steps, improv/step: 0.427 (last = 0.2000), fitness=0.001314964\n",
      "126.03 secs, 1217 evals, 1167 steps, improv/step: 0.426 (last = 0.2000), fitness=0.001314964\n",
      "126.58 secs, 1222 evals, 1172 steps, improv/step: 0.427 (last = 0.6000), fitness=0.001314964\n",
      "127.09 secs, 1227 evals, 1177 steps, improv/step: 0.427 (last = 0.4000), fitness=0.001314964\n",
      "127.71 secs, 1232 evals, 1182 steps, improv/step: 0.426 (last = 0.4000), fitness=0.001314964\n",
      "128.27 secs, 1237 evals, 1187 steps, improv/step: 0.426 (last = 0.4000), fitness=0.001314964\n",
      "128.86 secs, 1243 evals, 1193 steps, improv/step: 0.427 (last = 0.5000), fitness=0.001050069\n",
      "129.44 secs, 1248 evals, 1198 steps, improv/step: 0.425 (last = 0.0000), fitness=0.001050069\n",
      "130.03 secs, 1253 evals, 1203 steps, improv/step: 0.424 (last = 0.2000), fitness=0.001050069\n",
      "130.55 secs, 1258 evals, 1208 steps, improv/step: 0.425 (last = 0.6000), fitness=0.001050069\n",
      "131.13 secs, 1263 evals, 1213 steps, improv/step: 0.425 (last = 0.4000), fitness=0.001050069\n",
      "131.71 secs, 1269 evals, 1219 steps, improv/step: 0.423 (last = 0.1667), fitness=0.001050069\n",
      "132.22 secs, 1274 evals, 1224 steps, improv/step: 0.424 (last = 0.6000), fitness=0.001050069\n",
      "132.78 secs, 1279 evals, 1229 steps, improv/step: 0.425 (last = 0.6000), fitness=0.001050069\n",
      "133.30 secs, 1284 evals, 1234 steps, improv/step: 0.424 (last = 0.2000), fitness=0.001050069\n",
      "133.83 secs, 1289 evals, 1239 steps, improv/step: 0.422 (last = 0.0000), fitness=0.001050069\n",
      "134.40 secs, 1294 evals, 1244 steps, improv/step: 0.422 (last = 0.4000), fitness=0.001050069\n",
      "134.90 secs, 1299 evals, 1249 steps, improv/step: 0.422 (last = 0.4000), fitness=0.001050069\n",
      "135.43 secs, 1304 evals, 1254 steps, improv/step: 0.420 (last = 0.0000), fitness=0.001050069\n",
      "135.99 secs, 1309 evals, 1259 steps, improv/step: 0.419 (last = 0.0000), fitness=0.001050069\n",
      "136.58 secs, 1314 evals, 1264 steps, improv/step: 0.419 (last = 0.4000), fitness=0.001050069\n",
      "137.16 secs, 1319 evals, 1269 steps, improv/step: 0.418 (last = 0.2000), fitness=0.001050069\n",
      "137.69 secs, 1324 evals, 1274 steps, improv/step: 0.416 (last = 0.0000), fitness=0.001050069\n",
      "138.21 secs, 1329 evals, 1279 steps, improv/step: 0.418 (last = 0.8000), fitness=0.001050069\n",
      "138.74 secs, 1334 evals, 1284 steps, improv/step: 0.416 (last = 0.0000), fitness=0.001050069\n",
      "139.28 secs, 1339 evals, 1289 steps, improv/step: 0.414 (last = 0.0000), fitness=0.001050069\n",
      "139.82 secs, 1344 evals, 1294 steps, improv/step: 0.413 (last = 0.0000), fitness=0.001050069\n",
      "140.44 secs, 1350 evals, 1300 steps, improv/step: 0.412 (last = 0.1667), fitness=0.001050069\n",
      "140.99 secs, 1355 evals, 1305 steps, improv/step: 0.411 (last = 0.2000), fitness=0.001050069\n",
      "141.54 secs, 1360 evals, 1310 steps, improv/step: 0.410 (last = 0.2000), fitness=0.001050069\n",
      "142.08 secs, 1365 evals, 1315 steps, improv/step: 0.408 (last = 0.0000), fitness=0.001050069\n",
      "142.61 secs, 1370 evals, 1320 steps, improv/step: 0.408 (last = 0.2000), fitness=0.001050069\n",
      "143.16 secs, 1374 evals, 1324 steps, improv/step: 0.406 (last = 0.0000), fitness=0.001050069\n",
      "143.73 secs, 1380 evals, 1330 steps, improv/step: 0.405 (last = 0.0000), fitness=0.001050069\n",
      "144.29 secs, 1385 evals, 1335 steps, improv/step: 0.404 (last = 0.2000), fitness=0.001050069\n",
      "144.88 secs, 1390 evals, 1340 steps, improv/step: 0.404 (last = 0.4000), fitness=0.001050069\n",
      "145.41 secs, 1395 evals, 1345 steps, improv/step: 0.404 (last = 0.4000), fitness=0.001050069\n",
      "145.93 secs, 1399 evals, 1349 steps, improv/step: 0.405 (last = 0.7500), fitness=0.001050069\n",
      "146.44 secs, 1404 evals, 1354 steps, improv/step: 0.404 (last = 0.2000), fitness=0.001050069\n",
      "146.97 secs, 1409 evals, 1359 steps, improv/step: 0.403 (last = 0.2000), fitness=0.001050069\n",
      "147.51 secs, 1414 evals, 1364 steps, improv/step: 0.402 (last = 0.0000), fitness=0.001050069\n",
      "148.02 secs, 1419 evals, 1369 steps, improv/step: 0.401 (last = 0.2000), fitness=0.001050069\n",
      "148.62 secs, 1424 evals, 1374 steps, improv/step: 0.401 (last = 0.4000), fitness=0.001050069\n",
      "149.15 secs, 1429 evals, 1379 steps, improv/step: 0.400 (last = 0.2000), fitness=0.001050069\n"
     ]
    },
    {
     "name": "stdout",
     "output_type": "stream",
     "text": [
      "149.68 secs, 1433 evals, 1383 steps, improv/step: 0.401 (last = 0.5000), fitness=0.001050069\n",
      "150.25 secs, 1438 evals, 1388 steps, improv/step: 0.400 (last = 0.2000), fitness=0.001050069\n",
      "150.78 secs, 1443 evals, 1393 steps, improv/step: 0.400 (last = 0.4000), fitness=0.001050069\n",
      "151.33 secs, 1448 evals, 1398 steps, improv/step: 0.398 (last = 0.0000), fitness=0.001050069\n",
      "151.91 secs, 1453 evals, 1403 steps, improv/step: 0.397 (last = 0.0000), fitness=0.001050069\n",
      "152.43 secs, 1458 evals, 1408 steps, improv/step: 0.396 (last = 0.2000), fitness=0.001050069\n",
      "152.95 secs, 1463 evals, 1413 steps, improv/step: 0.395 (last = 0.0000), fitness=0.001050069\n",
      "153.53 secs, 1468 evals, 1418 steps, improv/step: 0.394 (last = 0.0000), fitness=0.001050069\n",
      "154.08 secs, 1472 evals, 1422 steps, improv/step: 0.393 (last = 0.2500), fitness=0.001050069\n",
      "154.67 secs, 1477 evals, 1427 steps, improv/step: 0.392 (last = 0.0000), fitness=0.001050069\n",
      "155.27 secs, 1482 evals, 1432 steps, improv/step: 0.390 (last = 0.0000), fitness=0.001050069\n",
      "155.85 secs, 1487 evals, 1437 steps, improv/step: 0.389 (last = 0.0000), fitness=0.001050069\n",
      "156.37 secs, 1492 evals, 1442 steps, improv/step: 0.388 (last = 0.2000), fitness=0.001050069\n",
      "156.87 secs, 1497 evals, 1447 steps, improv/step: 0.387 (last = 0.0000), fitness=0.001050069\n",
      "157.42 secs, 1502 evals, 1452 steps, improv/step: 0.386 (last = 0.0000), fitness=0.001050069\n",
      "158.01 secs, 1507 evals, 1457 steps, improv/step: 0.386 (last = 0.4000), fitness=0.001050069\n",
      "158.59 secs, 1512 evals, 1462 steps, improv/step: 0.384 (last = 0.0000), fitness=0.001050069\n",
      "159.22 secs, 1517 evals, 1467 steps, improv/step: 0.384 (last = 0.2000), fitness=0.001050069\n",
      "159.83 secs, 1523 evals, 1473 steps, improv/step: 0.383 (last = 0.1667), fitness=0.001050069\n",
      "160.40 secs, 1528 evals, 1478 steps, improv/step: 0.382 (last = 0.2000), fitness=0.001050069\n",
      "160.95 secs, 1533 evals, 1483 steps, improv/step: 0.382 (last = 0.2000), fitness=0.001050069\n",
      "161.48 secs, 1538 evals, 1488 steps, improv/step: 0.382 (last = 0.4000), fitness=0.001050069\n",
      "162.01 secs, 1543 evals, 1493 steps, improv/step: 0.380 (last = 0.0000), fitness=0.001050069\n",
      "162.57 secs, 1548 evals, 1498 steps, improv/step: 0.379 (last = 0.0000), fitness=0.001050069\n",
      "163.10 secs, 1553 evals, 1503 steps, improv/step: 0.379 (last = 0.2000), fitness=0.001050069\n",
      "163.70 secs, 1559 evals, 1509 steps, improv/step: 0.378 (last = 0.3333), fitness=0.001050069\n",
      "164.22 secs, 1564 evals, 1514 steps, improv/step: 0.378 (last = 0.2000), fitness=0.001050069\n",
      "164.80 secs, 1569 evals, 1519 steps, improv/step: 0.377 (last = 0.0000), fitness=0.001050069\n",
      "165.38 secs, 1575 evals, 1525 steps, improv/step: 0.376 (last = 0.3333), fitness=0.001050069\n",
      "165.91 secs, 1580 evals, 1530 steps, improv/step: 0.376 (last = 0.2000), fitness=0.001050069\n",
      "166.50 secs, 1585 evals, 1535 steps, improv/step: 0.375 (last = 0.2000), fitness=0.001050069\n",
      "167.11 secs, 1590 evals, 1540 steps, improv/step: 0.375 (last = 0.2000), fitness=0.001050069\n",
      "167.67 secs, 1595 evals, 1545 steps, improv/step: 0.375 (last = 0.4000), fitness=0.001050069\n",
      "168.22 secs, 1600 evals, 1550 steps, improv/step: 0.374 (last = 0.2000), fitness=0.001050069\n",
      "168.79 secs, 1605 evals, 1555 steps, improv/step: 0.374 (last = 0.2000), fitness=0.001050069\n",
      "169.30 secs, 1610 evals, 1560 steps, improv/step: 0.372 (last = 0.0000), fitness=0.001050069\n",
      "169.89 secs, 1614 evals, 1564 steps, improv/step: 0.372 (last = 0.2500), fitness=0.001050069\n",
      "170.47 secs, 1619 evals, 1569 steps, improv/step: 0.372 (last = 0.4000), fitness=0.001050069\n",
      "171.01 secs, 1624 evals, 1574 steps, improv/step: 0.372 (last = 0.4000), fitness=0.001050069\n",
      "171.56 secs, 1629 evals, 1579 steps, improv/step: 0.372 (last = 0.2000), fitness=0.001050069\n",
      "172.16 secs, 1635 evals, 1585 steps, improv/step: 0.370 (last = 0.0000), fitness=0.001050069\n",
      "172.72 secs, 1640 evals, 1590 steps, improv/step: 0.369 (last = 0.0000), fitness=0.001050069\n",
      "173.25 secs, 1645 evals, 1595 steps, improv/step: 0.369 (last = 0.2000), fitness=0.001050069\n",
      "173.83 secs, 1650 evals, 1600 steps, improv/step: 0.367 (last = 0.0000), fitness=0.001050069\n",
      "174.40 secs, 1655 evals, 1605 steps, improv/step: 0.367 (last = 0.2000), fitness=0.001050069\n",
      "174.91 secs, 1660 evals, 1610 steps, improv/step: 0.368 (last = 0.6000), fitness=0.000777287\n",
      "175.47 secs, 1666 evals, 1616 steps, improv/step: 0.367 (last = 0.1667), fitness=0.000777287\n",
      "176.06 secs, 1672 evals, 1622 steps, improv/step: 0.367 (last = 0.3333), fitness=0.000777287\n",
      "176.58 secs, 1677 evals, 1627 steps, improv/step: 0.366 (last = 0.2000), fitness=0.000777287\n",
      "177.19 secs, 1683 evals, 1633 steps, improv/step: 0.365 (last = 0.0000), fitness=0.000777287\n",
      "177.76 secs, 1688 evals, 1638 steps, improv/step: 0.364 (last = 0.2000), fitness=0.000777287\n",
      "178.30 secs, 1693 evals, 1643 steps, improv/step: 0.363 (last = 0.0000), fitness=0.000777287\n",
      "178.84 secs, 1698 evals, 1648 steps, improv/step: 0.362 (last = 0.0000), fitness=0.000777287\n",
      "179.43 secs, 1704 evals, 1654 steps, improv/step: 0.361 (last = 0.0000), fitness=0.000777287\n",
      "179.94 secs, 1708 evals, 1658 steps, improv/step: 0.360 (last = 0.0000), fitness=0.000777287\n",
      "180.48 secs, 1713 evals, 1663 steps, improv/step: 0.360 (last = 0.4000), fitness=0.000777287\n",
      "181.11 secs, 1718 evals, 1668 steps, improv/step: 0.360 (last = 0.2000), fitness=0.000777287\n",
      "181.65 secs, 1722 evals, 1672 steps, improv/step: 0.359 (last = 0.2500), fitness=0.000777287\n",
      "182.24 secs, 1728 evals, 1678 steps, improv/step: 0.358 (last = 0.0000), fitness=0.000777287\n",
      "182.84 secs, 1733 evals, 1683 steps, improv/step: 0.357 (last = 0.0000), fitness=0.000777287\n",
      "183.38 secs, 1738 evals, 1688 steps, improv/step: 0.357 (last = 0.2000), fitness=0.000777287\n",
      "183.93 secs, 1743 evals, 1693 steps, improv/step: 0.357 (last = 0.4000), fitness=0.000777287\n",
      "184.50 secs, 1748 evals, 1698 steps, improv/step: 0.356 (last = 0.0000), fitness=0.000777287\n",
      "185.01 secs, 1753 evals, 1703 steps, improv/step: 0.356 (last = 0.4000), fitness=0.000777287\n",
      "185.56 secs, 1759 evals, 1709 steps, improv/step: 0.355 (last = 0.1667), fitness=0.000777287\n",
      "186.09 secs, 1764 evals, 1714 steps, improv/step: 0.354 (last = 0.0000), fitness=0.000777287\n",
      "186.60 secs, 1769 evals, 1719 steps, improv/step: 0.354 (last = 0.2000), fitness=0.000777287\n",
      "187.12 secs, 1774 evals, 1724 steps, improv/step: 0.354 (last = 0.4000), fitness=0.000777287\n",
      "187.70 secs, 1779 evals, 1729 steps, improv/step: 0.353 (last = 0.0000), fitness=0.000777287\n",
      "188.23 secs, 1784 evals, 1734 steps, improv/step: 0.352 (last = 0.0000), fitness=0.000777287\n",
      "188.74 secs, 1789 evals, 1739 steps, improv/step: 0.351 (last = 0.0000), fitness=0.000777287\n",
      "189.25 secs, 1794 evals, 1744 steps, improv/step: 0.350 (last = 0.2000), fitness=0.000777287\n",
      "189.77 secs, 1799 evals, 1749 steps, improv/step: 0.350 (last = 0.2000), fitness=0.000777287\n",
      "190.33 secs, 1804 evals, 1754 steps, improv/step: 0.349 (last = 0.0000), fitness=0.000777287\n",
      "190.88 secs, 1809 evals, 1759 steps, improv/step: 0.348 (last = 0.0000), fitness=0.000777287\n",
      "191.41 secs, 1814 evals, 1764 steps, improv/step: 0.348 (last = 0.2000), fitness=0.000777287\n",
      "191.96 secs, 1819 evals, 1769 steps, improv/step: 0.348 (last = 0.4000), fitness=0.000777287\n",
      "192.58 secs, 1825 evals, 1775 steps, improv/step: 0.346 (last = 0.0000), fitness=0.000777287\n",
      "193.12 secs, 1830 evals, 1780 steps, improv/step: 0.346 (last = 0.2000), fitness=0.000777287\n",
      "193.67 secs, 1835 evals, 1785 steps, improv/step: 0.345 (last = 0.0000), fitness=0.000777287\n",
      "194.25 secs, 1841 evals, 1791 steps, improv/step: 0.344 (last = 0.0000), fitness=0.000777287\n",
      "194.85 secs, 1847 evals, 1797 steps, improv/step: 0.343 (last = 0.0000), fitness=0.000777287\n",
      "195.38 secs, 1852 evals, 1802 steps, improv/step: 0.343 (last = 0.4000), fitness=0.000777287\n",
      "195.90 secs, 1857 evals, 1807 steps, improv/step: 0.343 (last = 0.2000), fitness=0.000777287\n",
      "196.49 secs, 1863 evals, 1813 steps, improv/step: 0.344 (last = 0.6667), fitness=0.000777287\n",
      "197.04 secs, 1868 evals, 1818 steps, improv/step: 0.343 (last = 0.2000), fitness=0.000777287\n",
      "197.61 secs, 1874 evals, 1824 steps, improv/step: 0.343 (last = 0.1667), fitness=0.000777287\n",
      "198.17 secs, 1879 evals, 1829 steps, improv/step: 0.343 (last = 0.4000), fitness=0.000777287\n",
      "198.69 secs, 1884 evals, 1834 steps, improv/step: 0.343 (last = 0.4000), fitness=0.000560977\n"
     ]
    },
    {
     "name": "stdout",
     "output_type": "stream",
     "text": [
      "199.23 secs, 1889 evals, 1839 steps, improv/step: 0.342 (last = 0.0000), fitness=0.000560977\n",
      "199.79 secs, 1894 evals, 1844 steps, improv/step: 0.342 (last = 0.2000), fitness=0.000560977\n",
      "200.32 secs, 1899 evals, 1849 steps, improv/step: 0.341 (last = 0.2000), fitness=0.000560977\n",
      "200.93 secs, 1904 evals, 1854 steps, improv/step: 0.341 (last = 0.2000), fitness=0.000560977\n",
      "201.53 secs, 1910 evals, 1860 steps, improv/step: 0.340 (last = 0.1667), fitness=0.000560977\n",
      "202.06 secs, 1914 evals, 1864 steps, improv/step: 0.340 (last = 0.0000), fitness=0.000560977\n",
      "202.58 secs, 1919 evals, 1869 steps, improv/step: 0.339 (last = 0.2000), fitness=0.000560977\n",
      "203.16 secs, 1925 evals, 1875 steps, improv/step: 0.339 (last = 0.1667), fitness=0.000560977\n",
      "203.76 secs, 1931 evals, 1881 steps, improv/step: 0.338 (last = 0.1667), fitness=0.000560977\n",
      "204.29 secs, 1936 evals, 1886 steps, improv/step: 0.338 (last = 0.2000), fitness=0.000560977\n",
      "204.92 secs, 1942 evals, 1892 steps, improv/step: 0.337 (last = 0.0000), fitness=0.000560977\n",
      "205.44 secs, 1947 evals, 1897 steps, improv/step: 0.336 (last = 0.0000), fitness=0.000560977\n",
      "205.98 secs, 1952 evals, 1902 steps, improv/step: 0.335 (last = 0.0000), fitness=0.000560977\n",
      "206.58 secs, 1958 evals, 1908 steps, improv/step: 0.334 (last = 0.1667), fitness=0.000560977\n",
      "207.09 secs, 1963 evals, 1913 steps, improv/step: 0.334 (last = 0.2000), fitness=0.000560977\n",
      "207.63 secs, 1969 evals, 1919 steps, improv/step: 0.334 (last = 0.1667), fitness=0.000560977\n",
      "208.21 secs, 1975 evals, 1925 steps, improv/step: 0.333 (last = 0.1667), fitness=0.000560977\n",
      "208.81 secs, 1981 evals, 1931 steps, improv/step: 0.332 (last = 0.0000), fitness=0.000560977\n",
      "209.32 secs, 1986 evals, 1936 steps, improv/step: 0.331 (last = 0.0000), fitness=0.000560977\n",
      "209.91 secs, 1992 evals, 1942 steps, improv/step: 0.331 (last = 0.3333), fitness=0.000474137\n",
      "210.47 secs, 1998 evals, 1948 steps, improv/step: 0.331 (last = 0.1667), fitness=0.000474137\n",
      "210.99 secs, 2003 evals, 1953 steps, improv/step: 0.330 (last = 0.0000), fitness=0.000474137\n",
      "211.50 secs, 2008 evals, 1958 steps, improv/step: 0.329 (last = 0.2000), fitness=0.000474137\n",
      "212.10 secs, 2014 evals, 1964 steps, improv/step: 0.330 (last = 0.5000), fitness=0.000474137\n",
      "212.68 secs, 2020 evals, 1970 steps, improv/step: 0.329 (last = 0.0000), fitness=0.000474137\n",
      "213.25 secs, 2026 evals, 1976 steps, improv/step: 0.329 (last = 0.5000), fitness=0.000474137\n",
      "213.79 secs, 2031 evals, 1981 steps, improv/step: 0.330 (last = 0.4000), fitness=0.000474137\n",
      "214.35 secs, 2036 evals, 1986 steps, improv/step: 0.329 (last = 0.2000), fitness=0.000474137\n",
      "214.86 secs, 2041 evals, 1991 steps, improv/step: 0.329 (last = 0.2000), fitness=0.000474137\n",
      "215.41 secs, 2046 evals, 1996 steps, improv/step: 0.328 (last = 0.0000), fitness=0.000474137\n",
      "215.93 secs, 2051 evals, 2001 steps, improv/step: 0.327 (last = 0.0000), fitness=0.000474137\n",
      "216.43 secs, 2056 evals, 2006 steps, improv/step: 0.327 (last = 0.0000), fitness=0.000474137\n",
      "217.03 secs, 2062 evals, 2012 steps, improv/step: 0.326 (last = 0.1667), fitness=0.000474137\n",
      "217.58 secs, 2067 evals, 2017 steps, improv/step: 0.325 (last = 0.0000), fitness=0.000474137\n",
      "218.16 secs, 2073 evals, 2023 steps, improv/step: 0.324 (last = 0.0000), fitness=0.000474137\n",
      "218.67 secs, 2078 evals, 2028 steps, improv/step: 0.324 (last = 0.2000), fitness=0.000474137\n",
      "219.23 secs, 2084 evals, 2034 steps, improv/step: 0.325 (last = 0.6667), fitness=0.000474137\n",
      "219.86 secs, 2090 evals, 2040 steps, improv/step: 0.325 (last = 0.1667), fitness=0.000474137\n",
      "220.43 secs, 2095 evals, 2045 steps, improv/step: 0.324 (last = 0.0000), fitness=0.000474137\n",
      "220.95 secs, 2100 evals, 2050 steps, improv/step: 0.323 (last = 0.0000), fitness=0.000474137\n",
      "221.47 secs, 2105 evals, 2055 steps, improv/step: 0.322 (last = 0.0000), fitness=0.000474137\n",
      "222.00 secs, 2110 evals, 2060 steps, improv/step: 0.322 (last = 0.2000), fitness=0.000474137\n",
      "222.50 secs, 2115 evals, 2065 steps, improv/step: 0.321 (last = 0.0000), fitness=0.000474137\n",
      "223.10 secs, 2121 evals, 2071 steps, improv/step: 0.320 (last = 0.0000), fitness=0.000474137\n",
      "223.67 secs, 2126 evals, 2076 steps, improv/step: 0.320 (last = 0.2000), fitness=0.000474137\n",
      "224.24 secs, 2131 evals, 2081 steps, improv/step: 0.319 (last = 0.0000), fitness=0.000474137\n",
      "224.85 secs, 2137 evals, 2087 steps, improv/step: 0.318 (last = 0.0000), fitness=0.000474137\n",
      "225.38 secs, 2142 evals, 2092 steps, improv/step: 0.317 (last = 0.0000), fitness=0.000474137\n",
      "225.98 secs, 2147 evals, 2097 steps, improv/step: 0.317 (last = 0.2000), fitness=0.000474137\n",
      "226.52 secs, 2152 evals, 2102 steps, improv/step: 0.316 (last = 0.0000), fitness=0.000474137\n",
      "227.08 secs, 2156 evals, 2106 steps, improv/step: 0.316 (last = 0.0000), fitness=0.000474137\n",
      "227.60 secs, 2161 evals, 2111 steps, improv/step: 0.315 (last = 0.2000), fitness=0.000474137\n",
      "228.14 secs, 2166 evals, 2116 steps, improv/step: 0.315 (last = 0.2000), fitness=0.000474137\n",
      "228.67 secs, 2171 evals, 2121 steps, improv/step: 0.314 (last = 0.0000), fitness=0.000474137\n",
      "229.25 secs, 2176 evals, 2126 steps, improv/step: 0.314 (last = 0.2000), fitness=0.000474137\n",
      "229.79 secs, 2181 evals, 2131 steps, improv/step: 0.313 (last = 0.0000), fitness=0.000474137\n",
      "230.29 secs, 2186 evals, 2136 steps, improv/step: 0.313 (last = 0.0000), fitness=0.000474137\n",
      "230.81 secs, 2191 evals, 2141 steps, improv/step: 0.313 (last = 0.4000), fitness=0.000474137\n",
      "231.38 secs, 2196 evals, 2146 steps, improv/step: 0.312 (last = 0.0000), fitness=0.000474137\n",
      "231.88 secs, 2200 evals, 2150 steps, improv/step: 0.312 (last = 0.0000), fitness=0.000474137\n",
      "232.42 secs, 2204 evals, 2154 steps, improv/step: 0.311 (last = 0.0000), fitness=0.000474137\n",
      "232.95 secs, 2209 evals, 2159 steps, improv/step: 0.311 (last = 0.4000), fitness=0.000474137\n",
      "233.54 secs, 2213 evals, 2163 steps, improv/step: 0.311 (last = 0.0000), fitness=0.000474137\n",
      "234.08 secs, 2218 evals, 2168 steps, improv/step: 0.310 (last = 0.0000), fitness=0.000474137\n",
      "234.61 secs, 2223 evals, 2173 steps, improv/step: 0.310 (last = 0.4000), fitness=0.000474137\n",
      "235.20 secs, 2228 evals, 2178 steps, improv/step: 0.309 (last = 0.0000), fitness=0.000474137\n",
      "235.77 secs, 2233 evals, 2183 steps, improv/step: 0.309 (last = 0.0000), fitness=0.000474137\n",
      "236.36 secs, 2239 evals, 2189 steps, improv/step: 0.308 (last = 0.0000), fitness=0.000474137\n",
      "236.91 secs, 2244 evals, 2194 steps, improv/step: 0.307 (last = 0.0000), fitness=0.000474137\n",
      "237.45 secs, 2249 evals, 2199 steps, improv/step: 0.307 (last = 0.2000), fitness=0.000474137\n",
      "238.02 secs, 2255 evals, 2205 steps, improv/step: 0.307 (last = 0.1667), fitness=0.000474137\n",
      "238.60 secs, 2260 evals, 2210 steps, improv/step: 0.306 (last = 0.0000), fitness=0.000474137\n",
      "239.18 secs, 2265 evals, 2215 steps, improv/step: 0.305 (last = 0.0000), fitness=0.000474137\n",
      "239.73 secs, 2270 evals, 2220 steps, improv/step: 0.305 (last = 0.0000), fitness=0.000474137\n",
      "240.28 secs, 2275 evals, 2225 steps, improv/step: 0.304 (last = 0.0000), fitness=0.000474137\n",
      "240.91 secs, 2280 evals, 2230 steps, improv/step: 0.304 (last = 0.2000), fitness=0.000474137\n",
      "241.51 secs, 2286 evals, 2236 steps, improv/step: 0.303 (last = 0.1667), fitness=0.000474137\n",
      "242.02 secs, 2291 evals, 2241 steps, improv/step: 0.303 (last = 0.2000), fitness=0.000474137\n",
      "242.55 secs, 2295 evals, 2245 steps, improv/step: 0.302 (last = 0.0000), fitness=0.000474137\n",
      "243.11 secs, 2300 evals, 2250 steps, improv/step: 0.302 (last = 0.2000), fitness=0.000474137\n",
      "243.66 secs, 2305 evals, 2255 steps, improv/step: 0.302 (last = 0.2000), fitness=0.000474137\n",
      "244.21 secs, 2310 evals, 2260 steps, improv/step: 0.302 (last = 0.2000), fitness=0.000474137\n",
      "244.72 secs, 2314 evals, 2264 steps, improv/step: 0.301 (last = 0.0000), fitness=0.000474137\n",
      "245.28 secs, 2319 evals, 2269 steps, improv/step: 0.301 (last = 0.0000), fitness=0.000474137\n",
      "245.86 secs, 2325 evals, 2275 steps, improv/step: 0.301 (last = 0.3333), fitness=0.000474137\n",
      "246.39 secs, 2330 evals, 2280 steps, improv/step: 0.300 (last = 0.0000), fitness=0.000474137\n",
      "246.90 secs, 2335 evals, 2285 steps, improv/step: 0.299 (last = 0.0000), fitness=0.000474137\n",
      "247.40 secs, 2340 evals, 2290 steps, improv/step: 0.299 (last = 0.2000), fitness=0.000474137\n",
      "247.90 secs, 2345 evals, 2295 steps, improv/step: 0.299 (last = 0.2000), fitness=0.000474137\n"
     ]
    },
    {
     "name": "stdout",
     "output_type": "stream",
     "text": [
      "248.45 secs, 2350 evals, 2300 steps, improv/step: 0.298 (last = 0.0000), fitness=0.000474137\n",
      "249.01 secs, 2355 evals, 2305 steps, improv/step: 0.298 (last = 0.0000), fitness=0.000474137\n",
      "249.58 secs, 2360 evals, 2310 steps, improv/step: 0.297 (last = 0.2000), fitness=0.000474137\n",
      "250.17 secs, 2365 evals, 2315 steps, improv/step: 0.297 (last = 0.2000), fitness=0.000474137\n",
      "250.73 secs, 2370 evals, 2320 steps, improv/step: 0.297 (last = 0.2000), fitness=0.000474137\n",
      "251.25 secs, 2374 evals, 2324 steps, improv/step: 0.297 (last = 0.2500), fitness=0.000474137\n",
      "251.83 secs, 2380 evals, 2330 steps, improv/step: 0.297 (last = 0.1667), fitness=0.000474137\n",
      "252.34 secs, 2385 evals, 2335 steps, improv/step: 0.297 (last = 0.4000), fitness=0.000474137\n",
      "252.93 secs, 2391 evals, 2341 steps, improv/step: 0.296 (last = 0.1667), fitness=0.000474137\n",
      "253.52 secs, 2396 evals, 2346 steps, improv/step: 0.297 (last = 0.4000), fitness=0.000474137\n",
      "254.04 secs, 2400 evals, 2350 steps, improv/step: 0.297 (last = 0.2500), fitness=0.000474137\n",
      "254.59 secs, 2405 evals, 2355 steps, improv/step: 0.296 (last = 0.2000), fitness=0.000474137\n",
      "255.18 secs, 2410 evals, 2360 steps, improv/step: 0.297 (last = 0.4000), fitness=0.000474137\n",
      "255.71 secs, 2415 evals, 2365 steps, improv/step: 0.297 (last = 0.4000), fitness=0.000474137\n",
      "256.29 secs, 2421 evals, 2371 steps, improv/step: 0.296 (last = 0.0000), fitness=0.000474137\n",
      "256.80 secs, 2426 evals, 2376 steps, improv/step: 0.296 (last = 0.2000), fitness=0.000474137\n",
      "257.36 secs, 2431 evals, 2381 steps, improv/step: 0.295 (last = 0.0000), fitness=0.000474137\n",
      "257.92 secs, 2436 evals, 2386 steps, improv/step: 0.295 (last = 0.0000), fitness=0.000474137\n",
      "258.47 secs, 2441 evals, 2391 steps, improv/step: 0.294 (last = 0.2000), fitness=0.000474137\n",
      "258.97 secs, 2446 evals, 2396 steps, improv/step: 0.295 (last = 0.4000), fitness=0.000474137\n",
      "259.49 secs, 2451 evals, 2401 steps, improv/step: 0.294 (last = 0.0000), fitness=0.000474137\n",
      "260.02 secs, 2456 evals, 2406 steps, improv/step: 0.294 (last = 0.2000), fitness=0.000474137\n",
      "260.59 secs, 2461 evals, 2411 steps, improv/step: 0.293 (last = 0.0000), fitness=0.000474137\n",
      "261.13 secs, 2466 evals, 2416 steps, improv/step: 0.293 (last = 0.2000), fitness=0.000474137\n",
      "261.71 secs, 2472 evals, 2422 steps, improv/step: 0.292 (last = 0.0000), fitness=0.000474137\n",
      "262.29 secs, 2478 evals, 2428 steps, improv/step: 0.292 (last = 0.1667), fitness=0.000474137\n",
      "262.80 secs, 2483 evals, 2433 steps, improv/step: 0.291 (last = 0.0000), fitness=0.000474137\n",
      "263.34 secs, 2488 evals, 2438 steps, improv/step: 0.291 (last = 0.2000), fitness=0.000474137\n",
      "263.87 secs, 2493 evals, 2443 steps, improv/step: 0.291 (last = 0.2000), fitness=0.000474137\n",
      "264.43 secs, 2498 evals, 2448 steps, improv/step: 0.291 (last = 0.4000), fitness=0.000474137\n",
      "265.03 secs, 2504 evals, 2454 steps, improv/step: 0.292 (last = 0.5000), fitness=0.000474137\n",
      "265.53 secs, 2509 evals, 2459 steps, improv/step: 0.291 (last = 0.0000), fitness=0.000474137\n",
      "266.13 secs, 2515 evals, 2465 steps, improv/step: 0.290 (last = 0.0000), fitness=0.000474137\n",
      "266.65 secs, 2519 evals, 2469 steps, improv/step: 0.290 (last = 0.0000), fitness=0.000474137\n",
      "267.23 secs, 2525 evals, 2475 steps, improv/step: 0.289 (last = 0.0000), fitness=0.000474137\n",
      "267.75 secs, 2530 evals, 2480 steps, improv/step: 0.289 (last = 0.2000), fitness=0.000474137\n",
      "268.34 secs, 2536 evals, 2486 steps, improv/step: 0.289 (last = 0.3333), fitness=0.000474137\n",
      "268.84 secs, 2541 evals, 2491 steps, improv/step: 0.289 (last = 0.2000), fitness=0.000474137\n",
      "269.40 secs, 2547 evals, 2497 steps, improv/step: 0.289 (last = 0.3333), fitness=0.000474137\n",
      "269.96 secs, 2552 evals, 2502 steps, improv/step: 0.289 (last = 0.2000), fitness=0.000474137\n",
      "270.52 secs, 2557 evals, 2507 steps, improv/step: 0.288 (last = 0.0000), fitness=0.000474137\n",
      "271.03 secs, 2562 evals, 2512 steps, improv/step: 0.288 (last = 0.2000), fitness=0.000474137\n",
      "271.55 secs, 2567 evals, 2517 steps, improv/step: 0.288 (last = 0.2000), fitness=0.000474137\n",
      "272.12 secs, 2573 evals, 2523 steps, improv/step: 0.288 (last = 0.1667), fitness=0.000474137\n",
      "272.64 secs, 2578 evals, 2528 steps, improv/step: 0.288 (last = 0.2000), fitness=0.000474137\n",
      "273.27 secs, 2584 evals, 2534 steps, improv/step: 0.287 (last = 0.0000), fitness=0.000474137\n",
      "273.85 secs, 2590 evals, 2540 steps, improv/step: 0.286 (last = 0.0000), fitness=0.000474137\n",
      "274.39 secs, 2595 evals, 2545 steps, improv/step: 0.286 (last = 0.0000), fitness=0.000474137\n",
      "274.96 secs, 2601 evals, 2551 steps, improv/step: 0.285 (last = 0.1667), fitness=0.000474137\n",
      "275.48 secs, 2606 evals, 2556 steps, improv/step: 0.285 (last = 0.2000), fitness=0.000474137\n",
      "276.00 secs, 2611 evals, 2561 steps, improv/step: 0.285 (last = 0.0000), fitness=0.000474137\n",
      "276.56 secs, 2616 evals, 2566 steps, improv/step: 0.284 (last = 0.0000), fitness=0.000474137\n",
      "277.13 secs, 2622 evals, 2572 steps, improv/step: 0.284 (last = 0.3333), fitness=0.000474137\n",
      "277.69 secs, 2627 evals, 2577 steps, improv/step: 0.284 (last = 0.2000), fitness=0.000474137\n",
      "278.27 secs, 2632 evals, 2582 steps, improv/step: 0.284 (last = 0.2000), fitness=0.000474137\n",
      "278.81 secs, 2637 evals, 2587 steps, improv/step: 0.283 (last = 0.0000), fitness=0.000474137\n",
      "279.34 secs, 2642 evals, 2592 steps, improv/step: 0.283 (last = 0.2000), fitness=0.000474137\n",
      "279.85 secs, 2647 evals, 2597 steps, improv/step: 0.283 (last = 0.0000), fitness=0.000474137\n",
      "280.45 secs, 2652 evals, 2602 steps, improv/step: 0.282 (last = 0.0000), fitness=0.000474137\n",
      "281.02 secs, 2658 evals, 2608 steps, improv/step: 0.281 (last = 0.0000), fitness=0.000474137\n",
      "281.54 secs, 2663 evals, 2613 steps, improv/step: 0.281 (last = 0.0000), fitness=0.000474137\n",
      "282.10 secs, 2668 evals, 2618 steps, improv/step: 0.280 (last = 0.0000), fitness=0.000474137\n",
      "282.70 secs, 2674 evals, 2624 steps, improv/step: 0.280 (last = 0.0000), fitness=0.000474137\n",
      "283.27 secs, 2679 evals, 2629 steps, improv/step: 0.280 (last = 0.2000), fitness=0.000474137\n",
      "283.78 secs, 2684 evals, 2634 steps, improv/step: 0.280 (last = 0.4000), fitness=0.000474137\n",
      "284.30 secs, 2689 evals, 2639 steps, improv/step: 0.279 (last = 0.0000), fitness=0.000474137\n",
      "284.82 secs, 2694 evals, 2644 steps, improv/step: 0.279 (last = 0.0000), fitness=0.000474137\n",
      "285.33 secs, 2699 evals, 2649 steps, improv/step: 0.278 (last = 0.0000), fitness=0.000474137\n",
      "285.85 secs, 2704 evals, 2654 steps, improv/step: 0.278 (last = 0.0000), fitness=0.000474137\n",
      "286.36 secs, 2709 evals, 2659 steps, improv/step: 0.277 (last = 0.0000), fitness=0.000474137\n",
      "286.91 secs, 2714 evals, 2664 steps, improv/step: 0.277 (last = 0.0000), fitness=0.000474137\n",
      "287.44 secs, 2719 evals, 2669 steps, improv/step: 0.276 (last = 0.0000), fitness=0.000474137\n",
      "288.03 secs, 2725 evals, 2675 steps, improv/step: 0.276 (last = 0.1667), fitness=0.000474137\n",
      "288.57 secs, 2730 evals, 2680 steps, improv/step: 0.276 (last = 0.4000), fitness=0.000474137\n",
      "289.12 secs, 2735 evals, 2685 steps, improv/step: 0.276 (last = 0.2000), fitness=0.000474137\n",
      "289.64 secs, 2740 evals, 2690 steps, improv/step: 0.276 (last = 0.2000), fitness=0.000474137\n",
      "290.20 secs, 2745 evals, 2695 steps, improv/step: 0.275 (last = 0.0000), fitness=0.000474137\n",
      "290.71 secs, 2750 evals, 2700 steps, improv/step: 0.275 (last = 0.0000), fitness=0.000474137\n",
      "291.32 secs, 2756 evals, 2706 steps, improv/step: 0.275 (last = 0.1667), fitness=0.000474137\n",
      "291.87 secs, 2761 evals, 2711 steps, improv/step: 0.275 (last = 0.4000), fitness=0.000474137\n",
      "292.38 secs, 2766 evals, 2716 steps, improv/step: 0.275 (last = 0.2000), fitness=0.000474137\n",
      "292.96 secs, 2771 evals, 2721 steps, improv/step: 0.274 (last = 0.0000), fitness=0.000474137\n",
      "293.51 secs, 2776 evals, 2726 steps, improv/step: 0.274 (last = 0.0000), fitness=0.000474137\n",
      "294.05 secs, 2781 evals, 2731 steps, improv/step: 0.273 (last = 0.0000), fitness=0.000474137\n",
      "294.57 secs, 2786 evals, 2736 steps, improv/step: 0.273 (last = 0.0000), fitness=0.000474137\n",
      "295.11 secs, 2791 evals, 2741 steps, improv/step: 0.272 (last = 0.0000), fitness=0.000474137\n",
      "295.63 secs, 2796 evals, 2746 steps, improv/step: 0.272 (last = 0.2000), fitness=0.000474137\n",
      "296.19 secs, 2801 evals, 2751 steps, improv/step: 0.272 (last = 0.2000), fitness=0.000474137\n",
      "296.70 secs, 2806 evals, 2756 steps, improv/step: 0.272 (last = 0.4000), fitness=0.000474137\n"
     ]
    },
    {
     "name": "stdout",
     "output_type": "stream",
     "text": [
      "297.25 secs, 2811 evals, 2761 steps, improv/step: 0.272 (last = 0.2000), fitness=0.000474137\n",
      "297.82 secs, 2816 evals, 2766 steps, improv/step: 0.272 (last = 0.2000), fitness=0.000474137\n",
      "298.42 secs, 2821 evals, 2771 steps, improv/step: 0.271 (last = 0.0000), fitness=0.000474137\n",
      "299.02 secs, 2825 evals, 2775 steps, improv/step: 0.271 (last = 0.2500), fitness=0.000474137\n",
      "299.57 secs, 2830 evals, 2780 steps, improv/step: 0.271 (last = 0.0000), fitness=0.000474137\n",
      "300.14 secs, 2835 evals, 2785 steps, improv/step: 0.270 (last = 0.0000), fitness=0.000474137\n",
      "300.69 secs, 2840 evals, 2790 steps, improv/step: 0.270 (last = 0.0000), fitness=0.000474137\n",
      "301.25 secs, 2845 evals, 2795 steps, improv/step: 0.269 (last = 0.0000), fitness=0.000474137\n",
      "301.83 secs, 2851 evals, 2801 steps, improv/step: 0.270 (last = 0.3333), fitness=0.000474137\n",
      "302.39 secs, 2856 evals, 2806 steps, improv/step: 0.269 (last = 0.0000), fitness=0.000474137\n",
      "302.89 secs, 2860 evals, 2810 steps, improv/step: 0.269 (last = 0.2500), fitness=0.000474137\n",
      "303.47 secs, 2865 evals, 2815 steps, improv/step: 0.269 (last = 0.2000), fitness=0.000474137\n",
      "304.07 secs, 2870 evals, 2820 steps, improv/step: 0.268 (last = 0.0000), fitness=0.000474137\n",
      "304.61 secs, 2875 evals, 2825 steps, improv/step: 0.268 (last = 0.0000), fitness=0.000474137\n",
      "305.16 secs, 2880 evals, 2830 steps, improv/step: 0.267 (last = 0.0000), fitness=0.000474137\n",
      "305.68 secs, 2885 evals, 2835 steps, improv/step: 0.267 (last = 0.0000), fitness=0.000474137\n",
      "306.22 secs, 2889 evals, 2839 steps, improv/step: 0.267 (last = 0.0000), fitness=0.000474137\n",
      "306.79 secs, 2894 evals, 2844 steps, improv/step: 0.266 (last = 0.0000), fitness=0.000474137\n",
      "307.37 secs, 2899 evals, 2849 steps, improv/step: 0.266 (last = 0.4000), fitness=0.000474137\n",
      "307.97 secs, 2904 evals, 2854 steps, improv/step: 0.266 (last = 0.2000), fitness=0.000474137\n",
      "308.49 secs, 2909 evals, 2859 steps, improv/step: 0.266 (last = 0.0000), fitness=0.000474137\n",
      "309.06 secs, 2914 evals, 2864 steps, improv/step: 0.265 (last = 0.0000), fitness=0.000474137\n",
      "309.60 secs, 2919 evals, 2869 steps, improv/step: 0.265 (last = 0.2000), fitness=0.000474137\n",
      "310.12 secs, 2923 evals, 2873 steps, improv/step: 0.265 (last = 0.2500), fitness=0.000474137\n",
      "310.66 secs, 2928 evals, 2878 steps, improv/step: 0.265 (last = 0.2000), fitness=0.000474137\n",
      "311.23 secs, 2933 evals, 2883 steps, improv/step: 0.265 (last = 0.2000), fitness=0.000474137\n",
      "311.80 secs, 2938 evals, 2888 steps, improv/step: 0.265 (last = 0.2000), fitness=0.000312899\n",
      "312.40 secs, 2943 evals, 2893 steps, improv/step: 0.265 (last = 0.2000), fitness=0.000312899\n",
      "313.00 secs, 2948 evals, 2898 steps, improv/step: 0.264 (last = 0.0000), fitness=0.000312899\n",
      "313.60 secs, 2953 evals, 2903 steps, improv/step: 0.264 (last = 0.2000), fitness=0.000312899\n",
      "314.16 secs, 2958 evals, 2908 steps, improv/step: 0.264 (last = 0.0000), fitness=0.000312899\n",
      "314.71 secs, 2963 evals, 2913 steps, improv/step: 0.263 (last = 0.0000), fitness=0.000312899\n",
      "315.27 secs, 2968 evals, 2918 steps, improv/step: 0.263 (last = 0.0000), fitness=0.000312899\n",
      "315.83 secs, 2973 evals, 2923 steps, improv/step: 0.262 (last = 0.0000), fitness=0.000312899\n",
      "316.42 secs, 2978 evals, 2928 steps, improv/step: 0.262 (last = 0.0000), fitness=0.000312899\n",
      "316.99 secs, 2983 evals, 2933 steps, improv/step: 0.262 (last = 0.0000), fitness=0.000312899\n",
      "317.54 secs, 2988 evals, 2938 steps, improv/step: 0.262 (last = 0.4000), fitness=0.000312899\n",
      "318.15 secs, 2993 evals, 2943 steps, improv/step: 0.261 (last = 0.0000), fitness=0.000312899\n",
      "318.73 secs, 2998 evals, 2948 steps, improv/step: 0.261 (last = 0.2000), fitness=0.000312899\n",
      "319.28 secs, 3003 evals, 2953 steps, improv/step: 0.261 (last = 0.0000), fitness=0.000312899\n",
      "319.83 secs, 3008 evals, 2958 steps, improv/step: 0.260 (last = 0.0000), fitness=0.000312899\n",
      "320.38 secs, 3013 evals, 2963 steps, improv/step: 0.260 (last = 0.2000), fitness=0.000312899\n",
      "320.95 secs, 3018 evals, 2968 steps, improv/step: 0.260 (last = 0.2000), fitness=0.000312899\n",
      "321.53 secs, 3023 evals, 2973 steps, improv/step: 0.260 (last = 0.0000), fitness=0.000312899\n",
      "322.16 secs, 3029 evals, 2979 steps, improv/step: 0.259 (last = 0.1667), fitness=0.000312899\n",
      "322.72 secs, 3034 evals, 2984 steps, improv/step: 0.259 (last = 0.0000), fitness=0.000312899\n",
      "323.24 secs, 3039 evals, 2989 steps, improv/step: 0.259 (last = 0.4000), fitness=0.000312899\n",
      "323.82 secs, 3044 evals, 2994 steps, improv/step: 0.259 (last = 0.0000), fitness=0.000312899\n",
      "324.34 secs, 3049 evals, 2999 steps, improv/step: 0.258 (last = 0.0000), fitness=0.000312899\n",
      "324.92 secs, 3054 evals, 3004 steps, improv/step: 0.258 (last = 0.0000), fitness=0.000312899\n",
      "325.51 secs, 3059 evals, 3009 steps, improv/step: 0.258 (last = 0.0000), fitness=0.000312899\n",
      "326.11 secs, 3064 evals, 3014 steps, improv/step: 0.257 (last = 0.2000), fitness=0.000312899\n",
      "326.68 secs, 3069 evals, 3019 steps, improv/step: 0.257 (last = 0.2000), fitness=0.000312899\n",
      "327.20 secs, 3073 evals, 3023 steps, improv/step: 0.257 (last = 0.0000), fitness=0.000312899\n",
      "327.79 secs, 3078 evals, 3028 steps, improv/step: 0.257 (last = 0.2000), fitness=0.000312899\n",
      "328.39 secs, 3083 evals, 3033 steps, improv/step: 0.257 (last = 0.2000), fitness=0.000312899\n",
      "328.92 secs, 3088 evals, 3038 steps, improv/step: 0.257 (last = 0.2000), fitness=0.000299213\n",
      "329.45 secs, 3092 evals, 3042 steps, improv/step: 0.256 (last = 0.0000), fitness=0.000299213\n",
      "330.05 secs, 3097 evals, 3047 steps, improv/step: 0.256 (last = 0.0000), fitness=0.000299213\n",
      "330.66 secs, 3102 evals, 3052 steps, improv/step: 0.256 (last = 0.0000), fitness=0.000299213\n",
      "331.18 secs, 3106 evals, 3056 steps, improv/step: 0.256 (last = 0.2500), fitness=0.000299213\n",
      "331.76 secs, 3111 evals, 3061 steps, improv/step: 0.255 (last = 0.2000), fitness=0.000299213\n",
      "332.26 secs, 3115 evals, 3065 steps, improv/step: 0.255 (last = 0.2500), fitness=0.000024732\n",
      "332.80 secs, 3120 evals, 3070 steps, improv/step: 0.255 (last = 0.2000), fitness=0.000024732\n",
      "333.50 secs, 3125 evals, 3075 steps, improv/step: 0.256 (last = 0.4000), fitness=0.000024732\n",
      "334.08 secs, 3130 evals, 3080 steps, improv/step: 0.255 (last = 0.0000), fitness=0.000024732\n",
      "334.64 secs, 3135 evals, 3085 steps, improv/step: 0.255 (last = 0.0000), fitness=0.000024732\n",
      "335.23 secs, 3140 evals, 3090 steps, improv/step: 0.255 (last = 0.2000), fitness=0.000024732\n",
      "335.79 secs, 3145 evals, 3095 steps, improv/step: 0.254 (last = 0.0000), fitness=0.000024732\n",
      "336.33 secs, 3150 evals, 3100 steps, improv/step: 0.254 (last = 0.2000), fitness=0.000024732\n",
      "336.92 secs, 3155 evals, 3105 steps, improv/step: 0.254 (last = 0.4000), fitness=0.000024732\n",
      "337.45 secs, 3160 evals, 3110 steps, improv/step: 0.254 (last = 0.0000), fitness=0.000024732\n",
      "337.99 secs, 3165 evals, 3115 steps, improv/step: 0.254 (last = 0.0000), fitness=0.000024732\n",
      "338.51 secs, 3170 evals, 3120 steps, improv/step: 0.254 (last = 0.2000), fitness=0.000024732\n",
      "339.06 secs, 3175 evals, 3125 steps, improv/step: 0.254 (last = 0.4000), fitness=0.000024732\n",
      "339.67 secs, 3180 evals, 3130 steps, improv/step: 0.253 (last = 0.0000), fitness=0.000024732\n",
      "340.20 secs, 3185 evals, 3135 steps, improv/step: 0.253 (last = 0.0000), fitness=0.000024732\n",
      "340.81 secs, 3190 evals, 3140 steps, improv/step: 0.253 (last = 0.0000), fitness=0.000024732\n",
      "341.36 secs, 3195 evals, 3145 steps, improv/step: 0.252 (last = 0.0000), fitness=0.000024732\n",
      "341.92 secs, 3200 evals, 3150 steps, improv/step: 0.252 (last = 0.4000), fitness=0.000024732\n",
      "342.45 secs, 3205 evals, 3155 steps, improv/step: 0.252 (last = 0.0000), fitness=0.000024732\n",
      "343.05 secs, 3210 evals, 3160 steps, improv/step: 0.252 (last = 0.2000), fitness=0.000024732\n",
      "343.61 secs, 3215 evals, 3165 steps, improv/step: 0.252 (last = 0.0000), fitness=0.000024732\n",
      "344.16 secs, 3220 evals, 3170 steps, improv/step: 0.251 (last = 0.0000), fitness=0.000024732\n",
      "344.71 secs, 3225 evals, 3175 steps, improv/step: 0.251 (last = 0.0000), fitness=0.000024732\n",
      "345.25 secs, 3229 evals, 3179 steps, improv/step: 0.251 (last = 0.2500), fitness=0.000024732\n",
      "345.78 secs, 3234 evals, 3184 steps, improv/step: 0.250 (last = 0.0000), fitness=0.000024732\n",
      "346.38 secs, 3239 evals, 3189 steps, improv/step: 0.250 (last = 0.2000), fitness=0.000024732\n",
      "346.89 secs, 3243 evals, 3193 steps, improv/step: 0.250 (last = 0.0000), fitness=0.000024732\n",
      "347.39 secs, 3247 evals, 3197 steps, improv/step: 0.250 (last = 0.5000), fitness=0.000024732\n",
      "347.94 secs, 3252 evals, 3202 steps, improv/step: 0.250 (last = 0.4000), fitness=0.000024732\n",
      "348.50 secs, 3257 evals, 3207 steps, improv/step: 0.250 (last = 0.0000), fitness=0.000024732\n",
      "349.05 secs, 3262 evals, 3212 steps, improv/step: 0.250 (last = 0.2000), fitness=0.000024732\n",
      "349.64 secs, 3267 evals, 3217 steps, improv/step: 0.250 (last = 0.0000), fitness=0.000024732\n",
      "350.21 secs, 3272 evals, 3222 steps, improv/step: 0.249 (last = 0.0000), fitness=0.000024732\n",
      "350.75 secs, 3277 evals, 3227 steps, improv/step: 0.249 (last = 0.4000), fitness=0.000024732\n",
      "351.29 secs, 3282 evals, 3232 steps, improv/step: 0.249 (last = 0.0000), fitness=0.000024732\n",
      "351.84 secs, 3287 evals, 3237 steps, improv/step: 0.249 (last = 0.0000), fitness=0.000024732\n",
      "352.42 secs, 3292 evals, 3242 steps, improv/step: 0.249 (last = 0.4000), fitness=0.000024732\n",
      "352.92 secs, 3296 evals, 3246 steps, improv/step: 0.249 (last = 0.0000), fitness=0.000024732\n",
      "353.52 secs, 3301 evals, 3251 steps, improv/step: 0.248 (last = 0.0000), fitness=0.000024732\n",
      "354.07 secs, 3306 evals, 3256 steps, improv/step: 0.248 (last = 0.0000), fitness=0.000024732\n",
      "354.59 secs, 3311 evals, 3261 steps, improv/step: 0.248 (last = 0.2000), fitness=0.000024732\n",
      "355.16 secs, 3316 evals, 3266 steps, improv/step: 0.247 (last = 0.0000), fitness=0.000024732\n",
      "355.72 secs, 3321 evals, 3271 steps, improv/step: 0.247 (last = 0.0000), fitness=0.000024732\n",
      "356.25 secs, 3326 evals, 3276 steps, improv/step: 0.247 (last = 0.0000), fitness=0.000024732\n",
      "356.83 secs, 3331 evals, 3281 steps, improv/step: 0.246 (last = 0.0000), fitness=0.000024732\n",
      "357.34 secs, 3336 evals, 3286 steps, improv/step: 0.246 (last = 0.0000), fitness=0.000024732\n",
      "357.86 secs, 3340 evals, 3290 steps, improv/step: 0.246 (last = 0.0000), fitness=0.000024732\n",
      "358.41 secs, 3345 evals, 3295 steps, improv/step: 0.245 (last = 0.0000), fitness=0.000024732\n",
      "358.94 secs, 3350 evals, 3300 steps, improv/step: 0.245 (last = 0.0000), fitness=0.000024732\n",
      "359.45 secs, 3354 evals, 3304 steps, improv/step: 0.245 (last = 0.2500), fitness=0.000024732\n",
      "359.96 secs, 3358 evals, 3308 steps, improv/step: 0.245 (last = 0.2500), fitness=0.000024732\n",
      "360.52 secs, 3362 evals, 3312 steps, improv/step: 0.245 (last = 0.0000), fitness=0.000024732\n",
      "361.12 secs, 3367 evals, 3317 steps, improv/step: 0.244 (last = 0.0000), fitness=0.000024732\n",
      "361.71 secs, 3372 evals, 3322 steps, improv/step: 0.244 (last = 0.0000), fitness=0.000024732\n",
      "362.24 secs, 3377 evals, 3327 steps, improv/step: 0.244 (last = 0.2000), fitness=0.000024732\n",
      "362.83 secs, 3382 evals, 3332 steps, improv/step: 0.243 (last = 0.0000), fitness=0.000024732\n",
      "363.38 secs, 3387 evals, 3337 steps, improv/step: 0.243 (last = 0.2000), fitness=0.000024732\n",
      "363.93 secs, 3392 evals, 3342 steps, improv/step: 0.243 (last = 0.2000), fitness=0.000024732\n",
      "364.46 secs, 3397 evals, 3347 steps, improv/step: 0.243 (last = 0.2000), fitness=0.000024732\n",
      "365.00 secs, 3402 evals, 3352 steps, improv/step: 0.243 (last = 0.0000), fitness=0.000024732\n",
      "365.50 secs, 3406 evals, 3356 steps, improv/step: 0.243 (last = 0.0000), fitness=0.000024732\n",
      "366.08 secs, 3411 evals, 3361 steps, improv/step: 0.242 (last = 0.2000), fitness=0.000024732\n",
      "366.63 secs, 3416 evals, 3366 steps, improv/step: 0.242 (last = 0.0000), fitness=0.000024732\n",
      "367.15 secs, 3421 evals, 3371 steps, improv/step: 0.242 (last = 0.4000), fitness=0.000024732\n",
      "367.71 secs, 3426 evals, 3376 steps, improv/step: 0.242 (last = 0.0000), fitness=0.000024732\n",
      "368.24 secs, 3431 evals, 3381 steps, improv/step: 0.242 (last = 0.0000), fitness=0.000024732\n",
      "368.80 secs, 3435 evals, 3385 steps, improv/step: 0.242 (last = 0.5000), fitness=0.000024732\n",
      "369.31 secs, 3440 evals, 3390 steps, improv/step: 0.242 (last = 0.0000), fitness=0.000024732\n",
      "369.90 secs, 3445 evals, 3395 steps, improv/step: 0.242 (last = 0.2000), fitness=0.000024732\n",
      "370.44 secs, 3450 evals, 3400 steps, improv/step: 0.241 (last = 0.2000), fitness=0.000024732\n",
      "370.99 secs, 3455 evals, 3405 steps, improv/step: 0.241 (last = 0.2000), fitness=0.000024732\n",
      "371.52 secs, 3460 evals, 3410 steps, improv/step: 0.241 (last = 0.0000), fitness=0.000024732\n",
      "372.03 secs, 3465 evals, 3415 steps, improv/step: 0.241 (last = 0.2000), fitness=0.000024732\n",
      "372.54 secs, 3469 evals, 3419 steps, improv/step: 0.241 (last = 0.0000), fitness=0.000024732\n",
      "373.12 secs, 3474 evals, 3424 steps, improv/step: 0.240 (last = 0.0000), fitness=0.000024732\n",
      "373.67 secs, 3479 evals, 3429 steps, improv/step: 0.240 (last = 0.0000), fitness=0.000024732\n",
      "374.21 secs, 3484 evals, 3434 steps, improv/step: 0.240 (last = 0.0000), fitness=0.000024732\n",
      "374.73 secs, 3489 evals, 3439 steps, improv/step: 0.239 (last = 0.0000), fitness=0.000024732\n",
      "375.34 secs, 3494 evals, 3444 steps, improv/step: 0.239 (last = 0.2000), fitness=0.000024732\n",
      "375.88 secs, 3499 evals, 3449 steps, improv/step: 0.239 (last = 0.0000), fitness=0.000024732\n",
      "376.40 secs, 3504 evals, 3454 steps, improv/step: 0.239 (last = 0.0000), fitness=0.000024732\n",
      "376.97 secs, 3509 evals, 3459 steps, improv/step: 0.239 (last = 0.2000), fitness=0.000024732\n",
      "377.51 secs, 3514 evals, 3464 steps, improv/step: 0.238 (last = 0.2000), fitness=0.000024732\n",
      "378.10 secs, 3519 evals, 3469 steps, improv/step: 0.238 (last = 0.0000), fitness=0.000024732\n",
      "378.68 secs, 3524 evals, 3474 steps, improv/step: 0.238 (last = 0.2000), fitness=0.000024732\n",
      "379.20 secs, 3528 evals, 3478 steps, improv/step: 0.238 (last = 0.2500), fitness=0.000024732\n",
      "379.81 secs, 3534 evals, 3484 steps, improv/step: 0.238 (last = 0.0000), fitness=0.000024732\n",
      "380.38 secs, 3539 evals, 3489 steps, improv/step: 0.237 (last = 0.0000), fitness=0.000024732\n",
      "380.96 secs, 3544 evals, 3494 steps, improv/step: 0.237 (last = 0.0000), fitness=0.000024732\n",
      "381.47 secs, 3549 evals, 3499 steps, improv/step: 0.237 (last = 0.2000), fitness=0.000024732\n",
      "382.06 secs, 3554 evals, 3504 steps, improv/step: 0.237 (last = 0.0000), fitness=0.000024732\n",
      "382.63 secs, 3559 evals, 3509 steps, improv/step: 0.236 (last = 0.0000), fitness=0.000024732\n",
      "383.20 secs, 3564 evals, 3514 steps, improv/step: 0.236 (last = 0.0000), fitness=0.000024732\n",
      "383.79 secs, 3569 evals, 3519 steps, improv/step: 0.236 (last = 0.0000), fitness=0.000024732\n",
      "384.35 secs, 3574 evals, 3524 steps, improv/step: 0.236 (last = 0.4000), fitness=0.000024732\n",
      "384.92 secs, 3579 evals, 3529 steps, improv/step: 0.235 (last = 0.0000), fitness=0.000024732\n",
      "385.49 secs, 3584 evals, 3534 steps, improv/step: 0.235 (last = 0.0000), fitness=0.000024732\n",
      "386.10 secs, 3589 evals, 3539 steps, improv/step: 0.235 (last = 0.2000), fitness=0.000024732\n",
      "386.67 secs, 3594 evals, 3544 steps, improv/step: 0.235 (last = 0.0000), fitness=0.000024732\n",
      "387.18 secs, 3598 evals, 3548 steps, improv/step: 0.234 (last = 0.0000), fitness=0.000024732\n",
      "387.78 secs, 3603 evals, 3553 steps, improv/step: 0.234 (last = 0.0000), fitness=0.000024732\n",
      "388.36 secs, 3608 evals, 3558 steps, improv/step: 0.234 (last = 0.0000), fitness=0.000024732\n",
      "388.91 secs, 3613 evals, 3563 steps, improv/step: 0.234 (last = 0.0000), fitness=0.000024732\n",
      "389.47 secs, 3618 evals, 3568 steps, improv/step: 0.233 (last = 0.0000), fitness=0.000024732\n",
      "390.02 secs, 3623 evals, 3573 steps, improv/step: 0.233 (last = 0.0000), fitness=0.000024732\n",
      "390.59 secs, 3628 evals, 3578 steps, improv/step: 0.233 (last = 0.0000), fitness=0.000024732\n",
      "391.23 secs, 3633 evals, 3583 steps, improv/step: 0.232 (last = 0.0000), fitness=0.000024732\n",
      "391.75 secs, 3638 evals, 3588 steps, improv/step: 0.232 (last = 0.4000), fitness=0.000024732\n",
      "392.31 secs, 3643 evals, 3593 steps, improv/step: 0.232 (last = 0.0000), fitness=0.000024732\n",
      "392.85 secs, 3648 evals, 3598 steps, improv/step: 0.232 (last = 0.0000), fitness=0.000024732\n",
      "393.41 secs, 3653 evals, 3603 steps, improv/step: 0.231 (last = 0.0000), fitness=0.000024732\n",
      "393.96 secs, 3658 evals, 3608 steps, improv/step: 0.231 (last = 0.0000), fitness=0.000024732\n",
      "394.55 secs, 3663 evals, 3613 steps, improv/step: 0.231 (last = 0.2000), fitness=0.000024732\n",
      "395.08 secs, 3668 evals, 3618 steps, improv/step: 0.231 (last = 0.0000), fitness=0.000024732\n"
     ]
    },
    {
     "name": "stdout",
     "output_type": "stream",
     "text": [
      "395.65 secs, 3673 evals, 3623 steps, improv/step: 0.230 (last = 0.0000), fitness=0.000024732\n",
      "396.16 secs, 3678 evals, 3628 steps, improv/step: 0.230 (last = 0.0000), fitness=0.000024732\n",
      "396.73 secs, 3683 evals, 3633 steps, improv/step: 0.230 (last = 0.0000), fitness=0.000024732\n",
      "397.25 secs, 3688 evals, 3638 steps, improv/step: 0.230 (last = 0.2000), fitness=0.000024732\n",
      "397.82 secs, 3693 evals, 3643 steps, improv/step: 0.229 (last = 0.0000), fitness=0.000024732\n",
      "398.34 secs, 3697 evals, 3647 steps, improv/step: 0.229 (last = 0.0000), fitness=0.000024732\n",
      "398.84 secs, 3701 evals, 3651 steps, improv/step: 0.229 (last = 0.0000), fitness=0.000024732\n",
      "399.40 secs, 3706 evals, 3656 steps, improv/step: 0.229 (last = 0.2000), fitness=0.000024732\n",
      "399.94 secs, 3711 evals, 3661 steps, improv/step: 0.229 (last = 0.4000), fitness=0.000024732\n",
      "400.54 secs, 3716 evals, 3666 steps, improv/step: 0.229 (last = 0.2000), fitness=0.000024732\n",
      "401.08 secs, 3721 evals, 3671 steps, improv/step: 0.229 (last = 0.0000), fitness=0.000024732\n",
      "401.70 secs, 3726 evals, 3676 steps, improv/step: 0.229 (last = 0.0000), fitness=0.000024732\n",
      "402.29 secs, 3731 evals, 3681 steps, improv/step: 0.228 (last = 0.0000), fitness=0.000024732\n",
      "402.85 secs, 3736 evals, 3686 steps, improv/step: 0.228 (last = 0.0000), fitness=0.000024732\n",
      "403.53 secs, 3741 evals, 3691 steps, improv/step: 0.228 (last = 0.0000), fitness=0.000024732\n",
      "404.06 secs, 3746 evals, 3696 steps, improv/step: 0.228 (last = 0.2000), fitness=0.000024732\n",
      "404.59 secs, 3751 evals, 3701 steps, improv/step: 0.227 (last = 0.0000), fitness=0.000024732\n",
      "405.15 secs, 3756 evals, 3706 steps, improv/step: 0.227 (last = 0.0000), fitness=0.000024732\n",
      "405.70 secs, 3761 evals, 3711 steps, improv/step: 0.227 (last = 0.0000), fitness=0.000024732\n",
      "406.24 secs, 3766 evals, 3716 steps, improv/step: 0.226 (last = 0.0000), fitness=0.000024732\n",
      "406.84 secs, 3772 evals, 3722 steps, improv/step: 0.226 (last = 0.0000), fitness=0.000024732\n",
      "407.35 secs, 3776 evals, 3726 steps, improv/step: 0.226 (last = 0.0000), fitness=0.000024732\n",
      "407.88 secs, 3781 evals, 3731 steps, improv/step: 0.225 (last = 0.0000), fitness=0.000024732\n",
      "408.39 secs, 3786 evals, 3736 steps, improv/step: 0.225 (last = 0.0000), fitness=0.000024732\n",
      "408.92 secs, 3791 evals, 3741 steps, improv/step: 0.225 (last = 0.0000), fitness=0.000024732\n",
      "409.48 secs, 3796 evals, 3746 steps, improv/step: 0.225 (last = 0.0000), fitness=0.000024732\n",
      "410.05 secs, 3801 evals, 3751 steps, improv/step: 0.224 (last = 0.0000), fitness=0.000024732\n",
      "410.66 secs, 3806 evals, 3756 steps, improv/step: 0.224 (last = 0.0000), fitness=0.000024732\n",
      "411.24 secs, 3811 evals, 3761 steps, improv/step: 0.224 (last = 0.0000), fitness=0.000024732\n",
      "411.75 secs, 3816 evals, 3766 steps, improv/step: 0.223 (last = 0.0000), fitness=0.000024732\n",
      "412.27 secs, 3821 evals, 3771 steps, improv/step: 0.224 (last = 0.4000), fitness=0.000024732\n",
      "412.81 secs, 3826 evals, 3776 steps, improv/step: 0.224 (last = 0.2000), fitness=0.000024732\n",
      "413.34 secs, 3830 evals, 3780 steps, improv/step: 0.223 (last = 0.0000), fitness=0.000024732\n",
      "413.85 secs, 3835 evals, 3785 steps, improv/step: 0.223 (last = 0.0000), fitness=0.000024732\n",
      "414.39 secs, 3840 evals, 3790 steps, improv/step: 0.223 (last = 0.0000), fitness=0.000024732\n",
      "414.93 secs, 3845 evals, 3795 steps, improv/step: 0.222 (last = 0.0000), fitness=0.000024732\n",
      "415.46 secs, 3850 evals, 3800 steps, improv/step: 0.222 (last = 0.2000), fitness=0.000024732\n",
      "416.01 secs, 3855 evals, 3805 steps, improv/step: 0.222 (last = 0.2000), fitness=0.000024732\n",
      "416.62 secs, 3860 evals, 3810 steps, improv/step: 0.222 (last = 0.0000), fitness=0.000024732\n",
      "417.13 secs, 3865 evals, 3815 steps, improv/step: 0.222 (last = 0.2000), fitness=0.000024732\n",
      "417.66 secs, 3870 evals, 3820 steps, improv/step: 0.222 (last = 0.0000), fitness=0.000024732\n",
      "418.19 secs, 3875 evals, 3825 steps, improv/step: 0.221 (last = 0.0000), fitness=0.000024732\n",
      "418.81 secs, 3881 evals, 3831 steps, improv/step: 0.221 (last = 0.0000), fitness=0.000024732\n",
      "419.34 secs, 3886 evals, 3836 steps, improv/step: 0.221 (last = 0.0000), fitness=0.000024732\n",
      "419.87 secs, 3891 evals, 3841 steps, improv/step: 0.221 (last = 0.0000), fitness=0.000024732\n",
      "420.42 secs, 3896 evals, 3846 steps, improv/step: 0.220 (last = 0.2000), fitness=0.000024732\n",
      "420.99 secs, 3901 evals, 3851 steps, improv/step: 0.221 (last = 0.4000), fitness=0.000024732\n",
      "421.53 secs, 3906 evals, 3856 steps, improv/step: 0.221 (last = 0.2000), fitness=0.000024732\n",
      "422.13 secs, 3911 evals, 3861 steps, improv/step: 0.220 (last = 0.0000), fitness=0.000024732\n",
      "422.71 secs, 3916 evals, 3866 steps, improv/step: 0.220 (last = 0.0000), fitness=0.000024732\n",
      "423.31 secs, 3921 evals, 3871 steps, improv/step: 0.220 (last = 0.0000), fitness=0.000024732\n",
      "423.90 secs, 3926 evals, 3876 steps, improv/step: 0.220 (last = 0.0000), fitness=0.000024732\n",
      "424.45 secs, 3931 evals, 3881 steps, improv/step: 0.220 (last = 0.2000), fitness=0.000024732\n",
      "425.06 secs, 3936 evals, 3886 steps, improv/step: 0.219 (last = 0.0000), fitness=0.000024732\n",
      "425.59 secs, 3941 evals, 3891 steps, improv/step: 0.219 (last = 0.0000), fitness=0.000024732\n",
      "426.12 secs, 3946 evals, 3896 steps, improv/step: 0.219 (last = 0.0000), fitness=0.000024732\n",
      "426.64 secs, 3951 evals, 3901 steps, improv/step: 0.219 (last = 0.2000), fitness=0.000024732\n",
      "427.19 secs, 3956 evals, 3906 steps, improv/step: 0.218 (last = 0.0000), fitness=0.000024732\n",
      "427.80 secs, 3961 evals, 3911 steps, improv/step: 0.218 (last = 0.2000), fitness=0.000024732\n",
      "428.32 secs, 3966 evals, 3916 steps, improv/step: 0.218 (last = 0.0000), fitness=0.000024732\n",
      "428.88 secs, 3971 evals, 3921 steps, improv/step: 0.218 (last = 0.2000), fitness=0.000024732\n",
      "429.45 secs, 3976 evals, 3926 steps, improv/step: 0.218 (last = 0.0000), fitness=0.000024732\n",
      "429.96 secs, 3980 evals, 3930 steps, improv/step: 0.218 (last = 0.0000), fitness=0.000024732\n",
      "430.49 secs, 3985 evals, 3935 steps, improv/step: 0.217 (last = 0.0000), fitness=0.000024732\n",
      "431.07 secs, 3990 evals, 3940 steps, improv/step: 0.217 (last = 0.2000), fitness=0.000024732\n",
      "431.62 secs, 3995 evals, 3945 steps, improv/step: 0.217 (last = 0.2000), fitness=0.000024732\n",
      "432.14 secs, 3999 evals, 3949 steps, improv/step: 0.217 (last = 0.0000), fitness=0.000024732\n",
      "432.71 secs, 4004 evals, 3954 steps, improv/step: 0.217 (last = 0.0000), fitness=0.000024732\n",
      "433.34 secs, 4009 evals, 3959 steps, improv/step: 0.217 (last = 0.4000), fitness=0.000024732\n",
      "433.91 secs, 4014 evals, 3964 steps, improv/step: 0.217 (last = 0.4000), fitness=0.000024732\n",
      "434.48 secs, 4019 evals, 3969 steps, improv/step: 0.217 (last = 0.0000), fitness=0.000024732\n",
      "434.98 secs, 4023 evals, 3973 steps, improv/step: 0.217 (last = 0.2500), fitness=0.000024732\n",
      "435.57 secs, 4028 evals, 3978 steps, improv/step: 0.217 (last = 0.0000), fitness=0.000024732\n",
      "436.10 secs, 4033 evals, 3983 steps, improv/step: 0.217 (last = 0.2000), fitness=0.000024732\n",
      "436.67 secs, 4038 evals, 3988 steps, improv/step: 0.216 (last = 0.0000), fitness=0.000024732\n",
      "437.18 secs, 4042 evals, 3992 steps, improv/step: 0.216 (last = 0.0000), fitness=0.000024732\n",
      "437.72 secs, 4047 evals, 3997 steps, improv/step: 0.216 (last = 0.0000), fitness=0.000024732\n",
      "438.22 secs, 4052 evals, 4002 steps, improv/step: 0.216 (last = 0.0000), fitness=0.000024732\n",
      "438.81 secs, 4056 evals, 4006 steps, improv/step: 0.215 (last = 0.0000), fitness=0.000024732\n",
      "439.35 secs, 4061 evals, 4011 steps, improv/step: 0.215 (last = 0.2000), fitness=0.000024732\n",
      "439.91 secs, 4066 evals, 4016 steps, improv/step: 0.215 (last = 0.2000), fitness=0.000024732\n",
      "440.45 secs, 4071 evals, 4021 steps, improv/step: 0.215 (last = 0.0000), fitness=0.000024732\n",
      "440.96 secs, 4076 evals, 4026 steps, improv/step: 0.215 (last = 0.2000), fitness=0.000024732\n",
      "441.52 secs, 4081 evals, 4031 steps, improv/step: 0.215 (last = 0.0000), fitness=0.000024732\n",
      "442.07 secs, 4086 evals, 4036 steps, improv/step: 0.215 (last = 0.6000), fitness=0.000024732\n",
      "442.65 secs, 4091 evals, 4041 steps, improv/step: 0.215 (last = 0.0000), fitness=0.000024732\n",
      "443.16 secs, 4096 evals, 4046 steps, improv/step: 0.215 (last = 0.2000), fitness=0.000024732\n",
      "443.72 secs, 4101 evals, 4051 steps, improv/step: 0.215 (last = 0.2000), fitness=0.000024732\n",
      "444.27 secs, 4106 evals, 4056 steps, improv/step: 0.215 (last = 0.0000), fitness=0.000024732\n"
     ]
    },
    {
     "name": "stdout",
     "output_type": "stream",
     "text": [
      "444.85 secs, 4111 evals, 4061 steps, improv/step: 0.215 (last = 0.2000), fitness=0.000024732\n",
      "445.46 secs, 4116 evals, 4066 steps, improv/step: 0.214 (last = 0.0000), fitness=0.000024732\n",
      "445.97 secs, 4121 evals, 4071 steps, improv/step: 0.214 (last = 0.0000), fitness=0.000024732\n",
      "446.50 secs, 4126 evals, 4076 steps, improv/step: 0.214 (last = 0.2000), fitness=0.000024732\n",
      "447.03 secs, 4131 evals, 4081 steps, improv/step: 0.214 (last = 0.0000), fitness=0.000024732\n",
      "447.61 secs, 4136 evals, 4086 steps, improv/step: 0.214 (last = 0.2000), fitness=0.000024732\n",
      "448.19 secs, 4141 evals, 4091 steps, improv/step: 0.214 (last = 0.2000), fitness=0.000024732\n",
      "448.81 secs, 4146 evals, 4096 steps, improv/step: 0.214 (last = 0.2000), fitness=0.000024732\n",
      "449.32 secs, 4151 evals, 4101 steps, improv/step: 0.214 (last = 0.2000), fitness=0.000024732\n",
      "449.84 secs, 4156 evals, 4106 steps, improv/step: 0.214 (last = 0.2000), fitness=0.000024732\n",
      "450.47 secs, 4161 evals, 4111 steps, improv/step: 0.214 (last = 0.0000), fitness=0.000024732\n",
      "451.06 secs, 4166 evals, 4116 steps, improv/step: 0.213 (last = 0.0000), fitness=0.000024732\n",
      "451.59 secs, 4171 evals, 4121 steps, improv/step: 0.214 (last = 0.4000), fitness=0.000024732\n",
      "452.17 secs, 4176 evals, 4126 steps, improv/step: 0.213 (last = 0.0000), fitness=0.000024732\n",
      "452.69 secs, 4181 evals, 4131 steps, improv/step: 0.213 (last = 0.2000), fitness=0.000024732\n",
      "453.25 secs, 4186 evals, 4136 steps, improv/step: 0.213 (last = 0.0000), fitness=0.000024732\n",
      "453.77 secs, 4191 evals, 4141 steps, improv/step: 0.213 (last = 0.0000), fitness=0.000024732\n",
      "454.33 secs, 4196 evals, 4146 steps, improv/step: 0.212 (last = 0.0000), fitness=0.000024732\n",
      "454.91 secs, 4201 evals, 4151 steps, improv/step: 0.212 (last = 0.0000), fitness=0.000024732\n",
      "455.44 secs, 4206 evals, 4156 steps, improv/step: 0.212 (last = 0.2000), fitness=0.000024732\n",
      "456.05 secs, 4211 evals, 4161 steps, improv/step: 0.212 (last = 0.2000), fitness=0.000024732\n",
      "456.64 secs, 4216 evals, 4166 steps, improv/step: 0.212 (last = 0.0000), fitness=0.000024732\n",
      "457.22 secs, 4221 evals, 4171 steps, improv/step: 0.212 (last = 0.0000), fitness=0.000024732\n",
      "457.77 secs, 4226 evals, 4176 steps, improv/step: 0.211 (last = 0.0000), fitness=0.000024732\n",
      "458.34 secs, 4231 evals, 4181 steps, improv/step: 0.211 (last = 0.0000), fitness=0.000024732\n",
      "458.88 secs, 4236 evals, 4186 steps, improv/step: 0.211 (last = 0.0000), fitness=0.000024732\n",
      "459.43 secs, 4241 evals, 4191 steps, improv/step: 0.211 (last = 0.0000), fitness=0.000024732\n",
      "459.97 secs, 4246 evals, 4196 steps, improv/step: 0.211 (last = 0.2000), fitness=0.000024732\n",
      "460.51 secs, 4251 evals, 4201 steps, improv/step: 0.210 (last = 0.0000), fitness=0.000024732\n",
      "461.07 secs, 4256 evals, 4206 steps, improv/step: 0.210 (last = 0.0000), fitness=0.000024732\n",
      "461.63 secs, 4260 evals, 4210 steps, improv/step: 0.210 (last = 0.0000), fitness=0.000024732\n",
      "462.21 secs, 4265 evals, 4215 steps, improv/step: 0.210 (last = 0.2000), fitness=0.000024732\n",
      "462.75 secs, 4270 evals, 4220 steps, improv/step: 0.210 (last = 0.2000), fitness=0.000024732\n",
      "463.29 secs, 4275 evals, 4225 steps, improv/step: 0.210 (last = 0.2000), fitness=0.000024732\n",
      "463.83 secs, 4280 evals, 4230 steps, improv/step: 0.210 (last = 0.0000), fitness=0.000024732\n",
      "464.39 secs, 4285 evals, 4235 steps, improv/step: 0.209 (last = 0.0000), fitness=0.000024732\n",
      "464.97 secs, 4290 evals, 4240 steps, improv/step: 0.209 (last = 0.0000), fitness=0.000024732\n",
      "465.53 secs, 4295 evals, 4245 steps, improv/step: 0.209 (last = 0.4000), fitness=0.000024732\n",
      "466.08 secs, 4300 evals, 4250 steps, improv/step: 0.209 (last = 0.0000), fitness=0.000024732\n",
      "466.63 secs, 4305 evals, 4255 steps, improv/step: 0.209 (last = 0.2000), fitness=0.000024732\n",
      "467.13 secs, 4309 evals, 4259 steps, improv/step: 0.209 (last = 0.0000), fitness=0.000024732\n",
      "467.65 secs, 4314 evals, 4264 steps, improv/step: 0.209 (last = 0.0000), fitness=0.000024732\n",
      "468.23 secs, 4319 evals, 4269 steps, improv/step: 0.208 (last = 0.0000), fitness=0.000024732\n",
      "468.80 secs, 4324 evals, 4274 steps, improv/step: 0.208 (last = 0.0000), fitness=0.000024732\n",
      "469.33 secs, 4329 evals, 4279 steps, improv/step: 0.208 (last = 0.0000), fitness=0.000024732\n",
      "469.90 secs, 4334 evals, 4284 steps, improv/step: 0.208 (last = 0.2000), fitness=0.000024732\n",
      "470.50 secs, 4340 evals, 4290 steps, improv/step: 0.208 (last = 0.1667), fitness=0.000024732\n",
      "471.02 secs, 4345 evals, 4295 steps, improv/step: 0.208 (last = 0.0000), fitness=0.000024732\n",
      "471.63 secs, 4350 evals, 4300 steps, improv/step: 0.207 (last = 0.0000), fitness=0.000024732\n",
      "472.14 secs, 4355 evals, 4305 steps, improv/step: 0.207 (last = 0.0000), fitness=0.000024732\n",
      "472.74 secs, 4360 evals, 4310 steps, improv/step: 0.207 (last = 0.0000), fitness=0.000024732\n",
      "473.29 secs, 4365 evals, 4315 steps, improv/step: 0.207 (last = 0.0000), fitness=0.000024732\n",
      "473.86 secs, 4369 evals, 4319 steps, improv/step: 0.207 (last = 0.0000), fitness=0.000024732\n",
      "474.39 secs, 4374 evals, 4324 steps, improv/step: 0.206 (last = 0.0000), fitness=0.000024732\n",
      "474.94 secs, 4379 evals, 4329 steps, improv/step: 0.206 (last = 0.0000), fitness=0.000024732\n",
      "475.48 secs, 4384 evals, 4334 steps, improv/step: 0.206 (last = 0.0000), fitness=0.000024732\n",
      "475.99 secs, 4389 evals, 4339 steps, improv/step: 0.206 (last = 0.0000), fitness=0.000024732\n",
      "476.55 secs, 4394 evals, 4344 steps, improv/step: 0.205 (last = 0.0000), fitness=0.000024732\n",
      "477.09 secs, 4399 evals, 4349 steps, improv/step: 0.205 (last = 0.0000), fitness=0.000024732\n",
      "477.61 secs, 4404 evals, 4354 steps, improv/step: 0.205 (last = 0.0000), fitness=0.000024732\n",
      "478.14 secs, 4409 evals, 4359 steps, improv/step: 0.205 (last = 0.0000), fitness=0.000024732\n",
      "478.68 secs, 4414 evals, 4364 steps, improv/step: 0.204 (last = 0.0000), fitness=0.000024732\n",
      "479.21 secs, 4419 evals, 4369 steps, improv/step: 0.204 (last = 0.0000), fitness=0.000024732\n",
      "479.79 secs, 4424 evals, 4374 steps, improv/step: 0.204 (last = 0.0000), fitness=0.000024732\n",
      "480.35 secs, 4429 evals, 4379 steps, improv/step: 0.204 (last = 0.0000), fitness=0.000024732\n",
      "480.88 secs, 4434 evals, 4384 steps, improv/step: 0.203 (last = 0.0000), fitness=0.000024732\n",
      "481.41 secs, 4439 evals, 4389 steps, improv/step: 0.203 (last = 0.0000), fitness=0.000024732\n",
      "481.92 secs, 4444 evals, 4394 steps, improv/step: 0.203 (last = 0.0000), fitness=0.000024732\n",
      "482.44 secs, 4449 evals, 4399 steps, improv/step: 0.203 (last = 0.0000), fitness=0.000024732\n",
      "483.00 secs, 4454 evals, 4404 steps, improv/step: 0.203 (last = 0.0000), fitness=0.000024732\n",
      "483.59 secs, 4460 evals, 4410 steps, improv/step: 0.202 (last = 0.0000), fitness=0.000024732\n",
      "484.17 secs, 4465 evals, 4415 steps, improv/step: 0.202 (last = 0.2000), fitness=0.000024732\n",
      "484.70 secs, 4470 evals, 4420 steps, improv/step: 0.202 (last = 0.0000), fitness=0.000024732\n",
      "485.22 secs, 4474 evals, 4424 steps, improv/step: 0.202 (last = 0.0000), fitness=0.000024732\n",
      "485.77 secs, 4479 evals, 4429 steps, improv/step: 0.202 (last = 0.2000), fitness=0.000024732\n",
      "486.36 secs, 4485 evals, 4435 steps, improv/step: 0.202 (last = 0.0000), fitness=0.000024732\n",
      "486.91 secs, 4490 evals, 4440 steps, improv/step: 0.201 (last = 0.0000), fitness=0.000024732\n",
      "487.45 secs, 4495 evals, 4445 steps, improv/step: 0.201 (last = 0.0000), fitness=0.000024732\n",
      "487.96 secs, 4500 evals, 4450 steps, improv/step: 0.201 (last = 0.0000), fitness=0.000024732\n",
      "488.49 secs, 4505 evals, 4455 steps, improv/step: 0.201 (last = 0.4000), fitness=0.000024732\n",
      "489.01 secs, 4510 evals, 4460 steps, improv/step: 0.201 (last = 0.0000), fitness=0.000024732\n",
      "489.58 secs, 4515 evals, 4465 steps, improv/step: 0.201 (last = 0.2000), fitness=0.000024732\n",
      "490.14 secs, 4520 evals, 4470 steps, improv/step: 0.201 (last = 0.2000), fitness=0.000024732\n",
      "490.68 secs, 4525 evals, 4475 steps, improv/step: 0.201 (last = 0.0000), fitness=0.000024732\n",
      "491.25 secs, 4530 evals, 4480 steps, improv/step: 0.200 (last = 0.0000), fitness=0.000024732\n",
      "491.79 secs, 4535 evals, 4485 steps, improv/step: 0.200 (last = 0.0000), fitness=0.000024732\n",
      "492.39 secs, 4540 evals, 4490 steps, improv/step: 0.200 (last = 0.0000), fitness=0.000024732\n",
      "492.97 secs, 4545 evals, 4495 steps, improv/step: 0.200 (last = 0.0000), fitness=0.000024732\n",
      "493.58 secs, 4550 evals, 4500 steps, improv/step: 0.200 (last = 0.0000), fitness=0.000024732\n"
     ]
    },
    {
     "name": "stdout",
     "output_type": "stream",
     "text": [
      "494.15 secs, 4555 evals, 4505 steps, improv/step: 0.199 (last = 0.0000), fitness=0.000024732\n",
      "494.71 secs, 4560 evals, 4510 steps, improv/step: 0.199 (last = 0.2000), fitness=0.000024732\n",
      "495.28 secs, 4565 evals, 4515 steps, improv/step: 0.199 (last = 0.0000), fitness=0.000024732\n",
      "495.80 secs, 4570 evals, 4520 steps, improv/step: 0.199 (last = 0.0000), fitness=0.000024732\n",
      "496.36 secs, 4575 evals, 4525 steps, improv/step: 0.199 (last = 0.2000), fitness=0.000024732\n",
      "496.90 secs, 4580 evals, 4530 steps, improv/step: 0.199 (last = 0.0000), fitness=0.000024732\n",
      "497.46 secs, 4585 evals, 4535 steps, improv/step: 0.198 (last = 0.0000), fitness=0.000024732\n",
      "498.04 secs, 4590 evals, 4540 steps, improv/step: 0.199 (last = 0.4000), fitness=0.000024732\n",
      "498.58 secs, 4595 evals, 4545 steps, improv/step: 0.198 (last = 0.0000), fitness=0.000024732\n",
      "499.11 secs, 4600 evals, 4550 steps, improv/step: 0.198 (last = 0.0000), fitness=0.000024732\n",
      "499.62 secs, 4605 evals, 4555 steps, improv/step: 0.198 (last = 0.4000), fitness=0.000024732\n",
      "500.13 secs, 4609 evals, 4559 steps, improv/step: 0.199 (last = 0.2500), fitness=0.000024732\n",
      "500.70 secs, 4614 evals, 4564 steps, improv/step: 0.199 (last = 0.2000), fitness=0.000024732\n",
      "501.24 secs, 4619 evals, 4569 steps, improv/step: 0.198 (last = 0.0000), fitness=0.000024732\n",
      "501.78 secs, 4624 evals, 4574 steps, improv/step: 0.198 (last = 0.2000), fitness=0.000024732\n",
      "502.38 secs, 4629 evals, 4579 steps, improv/step: 0.198 (last = 0.0000), fitness=0.000024732\n",
      "502.98 secs, 4634 evals, 4584 steps, improv/step: 0.198 (last = 0.0000), fitness=0.000024732\n",
      "503.50 secs, 4638 evals, 4588 steps, improv/step: 0.198 (last = 0.0000), fitness=0.000024732\n",
      "504.08 secs, 4643 evals, 4593 steps, improv/step: 0.197 (last = 0.0000), fitness=0.000024732\n",
      "504.65 secs, 4648 evals, 4598 steps, improv/step: 0.197 (last = 0.0000), fitness=0.000024732\n",
      "505.16 secs, 4652 evals, 4602 steps, improv/step: 0.197 (last = 0.0000), fitness=0.000024732\n",
      "505.66 secs, 4656 evals, 4606 steps, improv/step: 0.197 (last = 0.2500), fitness=0.000024732\n",
      "506.21 secs, 4661 evals, 4611 steps, improv/step: 0.197 (last = 0.0000), fitness=0.000024732\n",
      "506.75 secs, 4666 evals, 4616 steps, improv/step: 0.197 (last = 0.0000), fitness=0.000024732\n",
      "507.32 secs, 4671 evals, 4621 steps, improv/step: 0.197 (last = 0.2000), fitness=0.000024732\n",
      "507.91 secs, 4676 evals, 4626 steps, improv/step: 0.196 (last = 0.0000), fitness=0.000024732\n",
      "508.49 secs, 4680 evals, 4630 steps, improv/step: 0.197 (last = 0.2500), fitness=0.000024732\n",
      "509.02 secs, 4685 evals, 4635 steps, improv/step: 0.196 (last = 0.0000), fitness=0.000024732\n",
      "509.60 secs, 4690 evals, 4640 steps, improv/step: 0.196 (last = 0.2000), fitness=0.000024732\n",
      "510.14 secs, 4695 evals, 4645 steps, improv/step: 0.196 (last = 0.2000), fitness=0.000024732\n",
      "510.71 secs, 4700 evals, 4650 steps, improv/step: 0.196 (last = 0.2000), fitness=0.000024732\n",
      "511.21 secs, 4705 evals, 4655 steps, improv/step: 0.196 (last = 0.0000), fitness=0.000024732\n",
      "511.80 secs, 4710 evals, 4660 steps, improv/step: 0.196 (last = 0.0000), fitness=0.000024732\n",
      "512.40 secs, 4715 evals, 4665 steps, improv/step: 0.196 (last = 0.2000), fitness=0.000024732\n",
      "512.97 secs, 4720 evals, 4670 steps, improv/step: 0.196 (last = 0.0000), fitness=0.000024732\n",
      "513.52 secs, 4725 evals, 4675 steps, improv/step: 0.196 (last = 0.0000), fitness=0.000024732\n",
      "514.07 secs, 4730 evals, 4680 steps, improv/step: 0.195 (last = 0.0000), fitness=0.000024732\n",
      "514.69 secs, 4735 evals, 4685 steps, improv/step: 0.195 (last = 0.0000), fitness=0.000024732\n",
      "515.27 secs, 4740 evals, 4690 steps, improv/step: 0.195 (last = 0.4000), fitness=0.000024732\n",
      "515.81 secs, 4745 evals, 4695 steps, improv/step: 0.195 (last = 0.0000), fitness=0.000024732\n",
      "516.37 secs, 4750 evals, 4700 steps, improv/step: 0.195 (last = 0.2000), fitness=0.000024732\n",
      "516.89 secs, 4754 evals, 4704 steps, improv/step: 0.195 (last = 0.2500), fitness=0.000024732\n",
      "517.47 secs, 4759 evals, 4709 steps, improv/step: 0.195 (last = 0.2000), fitness=0.000024732\n",
      "517.99 secs, 4763 evals, 4713 steps, improv/step: 0.195 (last = 0.0000), fitness=0.000024732\n",
      "518.58 secs, 4768 evals, 4718 steps, improv/step: 0.195 (last = 0.0000), fitness=0.000024732\n",
      "519.16 secs, 4773 evals, 4723 steps, improv/step: 0.195 (last = 0.0000), fitness=0.000024732\n",
      "519.75 secs, 4778 evals, 4728 steps, improv/step: 0.194 (last = 0.0000), fitness=0.000024732\n",
      "520.29 secs, 4783 evals, 4733 steps, improv/step: 0.194 (last = 0.0000), fitness=0.000024732\n",
      "520.88 secs, 4788 evals, 4738 steps, improv/step: 0.194 (last = 0.0000), fitness=0.000024732\n",
      "521.42 secs, 4793 evals, 4743 steps, improv/step: 0.194 (last = 0.0000), fitness=0.000024732\n",
      "521.98 secs, 4798 evals, 4748 steps, improv/step: 0.194 (last = 0.0000), fitness=0.000024732\n",
      "522.54 secs, 4803 evals, 4753 steps, improv/step: 0.194 (last = 0.2000), fitness=0.000024732\n",
      "523.07 secs, 4808 evals, 4758 steps, improv/step: 0.193 (last = 0.0000), fitness=0.000024732\n",
      "523.68 secs, 4813 evals, 4763 steps, improv/step: 0.193 (last = 0.0000), fitness=0.000024732\n",
      "524.24 secs, 4818 evals, 4768 steps, improv/step: 0.193 (last = 0.0000), fitness=0.000024732\n",
      "524.79 secs, 4823 evals, 4773 steps, improv/step: 0.193 (last = 0.2000), fitness=0.000024732\n",
      "525.30 secs, 4827 evals, 4777 steps, improv/step: 0.193 (last = 0.0000), fitness=0.000024732\n",
      "525.86 secs, 4832 evals, 4782 steps, improv/step: 0.193 (last = 0.0000), fitness=0.000024732\n",
      "526.37 secs, 4837 evals, 4787 steps, improv/step: 0.192 (last = 0.0000), fitness=0.000024732\n",
      "526.96 secs, 4842 evals, 4792 steps, improv/step: 0.192 (last = 0.0000), fitness=0.000024732\n",
      "527.51 secs, 4847 evals, 4797 steps, improv/step: 0.192 (last = 0.2000), fitness=0.000024732\n",
      "528.07 secs, 4852 evals, 4802 steps, improv/step: 0.192 (last = 0.0000), fitness=0.000024732\n",
      "528.64 secs, 4857 evals, 4807 steps, improv/step: 0.192 (last = 0.2000), fitness=0.000024732\n",
      "529.20 secs, 4862 evals, 4812 steps, improv/step: 0.192 (last = 0.0000), fitness=0.000024732\n",
      "529.73 secs, 4867 evals, 4817 steps, improv/step: 0.192 (last = 0.2000), fitness=0.000024732\n",
      "530.25 secs, 4872 evals, 4822 steps, improv/step: 0.192 (last = 0.2000), fitness=0.000024732\n",
      "530.82 secs, 4877 evals, 4827 steps, improv/step: 0.192 (last = 0.2000), fitness=0.000024732\n",
      "531.42 secs, 4883 evals, 4833 steps, improv/step: 0.192 (last = 0.0000), fitness=0.000024732\n",
      "532.03 secs, 4888 evals, 4838 steps, improv/step: 0.192 (last = 0.2000), fitness=0.000024732\n",
      "532.55 secs, 4893 evals, 4843 steps, improv/step: 0.191 (last = 0.0000), fitness=0.000024732\n",
      "533.09 secs, 4898 evals, 4848 steps, improv/step: 0.191 (last = 0.0000), fitness=0.000024732\n",
      "533.63 secs, 4903 evals, 4853 steps, improv/step: 0.191 (last = 0.0000), fitness=0.000024732\n",
      "534.16 secs, 4908 evals, 4858 steps, improv/step: 0.191 (last = 0.0000), fitness=0.000024732\n",
      "534.69 secs, 4913 evals, 4863 steps, improv/step: 0.191 (last = 0.0000), fitness=0.000024732\n",
      "535.24 secs, 4918 evals, 4868 steps, improv/step: 0.191 (last = 0.2000), fitness=0.000024732\n",
      "535.84 secs, 4923 evals, 4873 steps, improv/step: 0.190 (last = 0.0000), fitness=0.000024732\n",
      "536.39 secs, 4927 evals, 4877 steps, improv/step: 0.190 (last = 0.0000), fitness=0.000024732\n",
      "536.95 secs, 4932 evals, 4882 steps, improv/step: 0.190 (last = 0.0000), fitness=0.000024732\n",
      "537.50 secs, 4937 evals, 4887 steps, improv/step: 0.190 (last = 0.0000), fitness=0.000024732\n",
      "538.11 secs, 4942 evals, 4892 steps, improv/step: 0.190 (last = 0.2000), fitness=0.000024732\n",
      "538.72 secs, 4947 evals, 4897 steps, improv/step: 0.190 (last = 0.0000), fitness=0.000024732\n",
      "539.30 secs, 4952 evals, 4902 steps, improv/step: 0.190 (last = 0.2000), fitness=0.000024732\n",
      "539.84 secs, 4957 evals, 4907 steps, improv/step: 0.190 (last = 0.0000), fitness=0.000024732\n",
      "540.39 secs, 4962 evals, 4912 steps, improv/step: 0.189 (last = 0.0000), fitness=0.000024732\n",
      "541.02 secs, 4967 evals, 4917 steps, improv/step: 0.189 (last = 0.0000), fitness=0.000024732\n",
      "541.53 secs, 4971 evals, 4921 steps, improv/step: 0.189 (last = 0.0000), fitness=0.000024732\n",
      "542.04 secs, 4975 evals, 4925 steps, improv/step: 0.189 (last = 0.0000), fitness=0.000024732\n",
      "542.60 secs, 4980 evals, 4930 steps, improv/step: 0.189 (last = 0.2000), fitness=0.000024732\n",
      "543.15 secs, 4985 evals, 4935 steps, improv/step: 0.189 (last = 0.0000), fitness=0.000024732\n"
     ]
    },
    {
     "name": "stdout",
     "output_type": "stream",
     "text": [
      "543.74 secs, 4990 evals, 4940 steps, improv/step: 0.188 (last = 0.0000), fitness=0.000024732\n",
      "544.31 secs, 4995 evals, 4945 steps, improv/step: 0.188 (last = 0.0000), fitness=0.000024732\n",
      "544.82 secs, 4998 evals, 4948 steps, improv/step: 0.188 (last = 0.0000), fitness=0.000024732\n",
      "545.39 secs, 5003 evals, 4953 steps, improv/step: 0.188 (last = 0.2000), fitness=0.000024732\n",
      "545.97 secs, 5008 evals, 4958 steps, improv/step: 0.188 (last = 0.0000), fitness=0.000024732\n",
      "546.50 secs, 5013 evals, 4963 steps, improv/step: 0.188 (last = 0.0000), fitness=0.000024732\n",
      "547.02 secs, 5018 evals, 4968 steps, improv/step: 0.188 (last = 0.0000), fitness=0.000024732\n",
      "547.56 secs, 5023 evals, 4973 steps, improv/step: 0.188 (last = 0.2000), fitness=0.000024732\n",
      "548.06 secs, 5028 evals, 4978 steps, improv/step: 0.188 (last = 0.2000), fitness=0.000024732\n",
      "548.59 secs, 5033 evals, 4983 steps, improv/step: 0.187 (last = 0.0000), fitness=0.000024732\n",
      "549.11 secs, 5038 evals, 4988 steps, improv/step: 0.187 (last = 0.0000), fitness=0.000024732\n",
      "549.72 secs, 5043 evals, 4993 steps, improv/step: 0.187 (last = 0.0000), fitness=0.000024732\n",
      "550.26 secs, 5048 evals, 4998 steps, improv/step: 0.187 (last = 0.0000), fitness=0.000024732\n",
      "550.80 secs, 5053 evals, 5003 steps, improv/step: 0.187 (last = 0.2000), fitness=0.000024732\n",
      "551.37 secs, 5058 evals, 5008 steps, improv/step: 0.187 (last = 0.2000), fitness=0.000024732\n",
      "551.92 secs, 5063 evals, 5013 steps, improv/step: 0.187 (last = 0.0000), fitness=0.000024732\n",
      "552.51 secs, 5068 evals, 5018 steps, improv/step: 0.187 (last = 0.0000), fitness=0.000024732\n",
      "553.08 secs, 5073 evals, 5023 steps, improv/step: 0.187 (last = 0.2000), fitness=0.000024732\n",
      "553.65 secs, 5078 evals, 5028 steps, improv/step: 0.186 (last = 0.0000), fitness=0.000024732\n",
      "554.22 secs, 5083 evals, 5033 steps, improv/step: 0.186 (last = 0.0000), fitness=0.000024732\n",
      "554.74 secs, 5088 evals, 5038 steps, improv/step: 0.186 (last = 0.0000), fitness=0.000024732\n",
      "555.27 secs, 5093 evals, 5043 steps, improv/step: 0.186 (last = 0.0000), fitness=0.000024732\n",
      "555.83 secs, 5098 evals, 5048 steps, improv/step: 0.186 (last = 0.0000), fitness=0.000024732\n",
      "556.38 secs, 5103 evals, 5053 steps, improv/step: 0.185 (last = 0.0000), fitness=0.000024732\n",
      "556.97 secs, 5108 evals, 5058 steps, improv/step: 0.185 (last = 0.0000), fitness=0.000024732\n",
      "557.55 secs, 5113 evals, 5063 steps, improv/step: 0.185 (last = 0.0000), fitness=0.000024732\n",
      "558.10 secs, 5118 evals, 5068 steps, improv/step: 0.185 (last = 0.2000), fitness=0.000024732\n",
      "558.65 secs, 5123 evals, 5073 steps, improv/step: 0.185 (last = 0.2000), fitness=0.000024732\n",
      "559.21 secs, 5128 evals, 5078 steps, improv/step: 0.185 (last = 0.0000), fitness=0.000024732\n",
      "559.78 secs, 5133 evals, 5083 steps, improv/step: 0.185 (last = 0.0000), fitness=0.000024732\n",
      "560.36 secs, 5138 evals, 5088 steps, improv/step: 0.185 (last = 0.0000), fitness=0.000024732\n",
      "560.93 secs, 5143 evals, 5093 steps, improv/step: 0.184 (last = 0.0000), fitness=0.000024732\n",
      "561.44 secs, 5148 evals, 5098 steps, improv/step: 0.184 (last = 0.0000), fitness=0.000024732\n",
      "562.02 secs, 5153 evals, 5103 steps, improv/step: 0.184 (last = 0.0000), fitness=0.000024732\n",
      "562.55 secs, 5158 evals, 5108 steps, improv/step: 0.184 (last = 0.0000), fitness=0.000024732\n",
      "563.08 secs, 5163 evals, 5113 steps, improv/step: 0.184 (last = 0.0000), fitness=0.000024732\n",
      "563.63 secs, 5168 evals, 5118 steps, improv/step: 0.183 (last = 0.0000), fitness=0.000024732\n",
      "564.17 secs, 5173 evals, 5123 steps, improv/step: 0.183 (last = 0.2000), fitness=0.000024732\n",
      "564.76 secs, 5178 evals, 5128 steps, improv/step: 0.184 (last = 0.2000), fitness=0.000024732\n",
      "565.30 secs, 5183 evals, 5133 steps, improv/step: 0.183 (last = 0.0000), fitness=0.000024732\n",
      "565.85 secs, 5188 evals, 5138 steps, improv/step: 0.183 (last = 0.0000), fitness=0.000024732\n",
      "566.38 secs, 5193 evals, 5143 steps, improv/step: 0.183 (last = 0.4000), fitness=0.000024732\n",
      "566.90 secs, 5198 evals, 5148 steps, improv/step: 0.183 (last = 0.0000), fitness=0.000024732\n",
      "567.49 secs, 5203 evals, 5153 steps, improv/step: 0.183 (last = 0.0000), fitness=0.000024732\n",
      "568.08 secs, 5208 evals, 5158 steps, improv/step: 0.183 (last = 0.0000), fitness=0.000024732\n",
      "568.67 secs, 5213 evals, 5163 steps, improv/step: 0.183 (last = 0.2000), fitness=0.000024732\n",
      "569.22 secs, 5218 evals, 5168 steps, improv/step: 0.183 (last = 0.0000), fitness=0.000024732\n",
      "569.77 secs, 5223 evals, 5173 steps, improv/step: 0.182 (last = 0.0000), fitness=0.000024732\n",
      "570.28 secs, 5227 evals, 5177 steps, improv/step: 0.183 (last = 0.2500), fitness=0.000024732\n",
      "570.87 secs, 5232 evals, 5182 steps, improv/step: 0.182 (last = 0.0000), fitness=0.000024732\n",
      "571.41 secs, 5237 evals, 5187 steps, improv/step: 0.182 (last = 0.0000), fitness=0.000024732\n",
      "571.98 secs, 5242 evals, 5192 steps, improv/step: 0.182 (last = 0.0000), fitness=0.000024732\n",
      "572.56 secs, 5247 evals, 5197 steps, improv/step: 0.182 (last = 0.0000), fitness=0.000024732\n",
      "573.12 secs, 5252 evals, 5202 steps, improv/step: 0.182 (last = 0.0000), fitness=0.000024732\n",
      "573.70 secs, 5257 evals, 5207 steps, improv/step: 0.181 (last = 0.0000), fitness=0.000024732\n",
      "574.24 secs, 5262 evals, 5212 steps, improv/step: 0.181 (last = 0.0000), fitness=0.000024732\n",
      "574.80 secs, 5267 evals, 5217 steps, improv/step: 0.181 (last = 0.0000), fitness=0.000024732\n",
      "575.36 secs, 5272 evals, 5222 steps, improv/step: 0.181 (last = 0.2000), fitness=0.000024732\n",
      "575.95 secs, 5277 evals, 5227 steps, improv/step: 0.181 (last = 0.0000), fitness=0.000024732\n",
      "576.50 secs, 5282 evals, 5232 steps, improv/step: 0.181 (last = 0.0000), fitness=0.000024732\n",
      "577.07 secs, 5287 evals, 5237 steps, improv/step: 0.181 (last = 0.0000), fitness=0.000024732\n",
      "577.62 secs, 5292 evals, 5242 steps, improv/step: 0.180 (last = 0.0000), fitness=0.000024732\n",
      "578.17 secs, 5297 evals, 5247 steps, improv/step: 0.180 (last = 0.0000), fitness=0.000024732\n",
      "578.76 secs, 5302 evals, 5252 steps, improv/step: 0.180 (last = 0.2000), fitness=0.000024732\n",
      "579.31 secs, 5307 evals, 5257 steps, improv/step: 0.180 (last = 0.2000), fitness=0.000024732\n",
      "579.82 secs, 5311 evals, 5261 steps, improv/step: 0.180 (last = 0.0000), fitness=0.000024732\n",
      "580.32 secs, 5315 evals, 5265 steps, improv/step: 0.180 (last = 0.0000), fitness=0.000024732\n",
      "580.90 secs, 5319 evals, 5269 steps, improv/step: 0.180 (last = 0.0000), fitness=0.000024732\n",
      "581.44 secs, 5324 evals, 5274 steps, improv/step: 0.180 (last = 0.0000), fitness=0.000024732\n",
      "582.01 secs, 5329 evals, 5279 steps, improv/step: 0.180 (last = 0.0000), fitness=0.000024732\n",
      "582.53 secs, 5334 evals, 5284 steps, improv/step: 0.180 (last = 0.2000), fitness=0.000024732\n",
      "583.05 secs, 5339 evals, 5289 steps, improv/step: 0.180 (last = 0.2000), fitness=0.000024732\n",
      "583.58 secs, 5344 evals, 5294 steps, improv/step: 0.179 (last = 0.0000), fitness=0.000024732\n",
      "584.10 secs, 5349 evals, 5299 steps, improv/step: 0.179 (last = 0.0000), fitness=0.000024732\n",
      "584.67 secs, 5354 evals, 5304 steps, improv/step: 0.179 (last = 0.2000), fitness=0.000024732\n",
      "585.21 secs, 5359 evals, 5309 steps, improv/step: 0.179 (last = 0.0000), fitness=0.000024732\n",
      "585.73 secs, 5364 evals, 5314 steps, improv/step: 0.179 (last = 0.0000), fitness=0.000024732\n",
      "586.24 secs, 5369 evals, 5319 steps, improv/step: 0.179 (last = 0.4000), fitness=0.000024732\n",
      "586.76 secs, 5374 evals, 5324 steps, improv/step: 0.179 (last = 0.0000), fitness=0.000024732\n",
      "587.28 secs, 5379 evals, 5329 steps, improv/step: 0.179 (last = 0.0000), fitness=0.000024732\n",
      "587.82 secs, 5384 evals, 5334 steps, improv/step: 0.179 (last = 0.0000), fitness=0.000024732\n",
      "588.37 secs, 5389 evals, 5339 steps, improv/step: 0.178 (last = 0.0000), fitness=0.000024732\n",
      "588.92 secs, 5394 evals, 5344 steps, improv/step: 0.178 (last = 0.0000), fitness=0.000024732\n",
      "589.48 secs, 5399 evals, 5349 steps, improv/step: 0.178 (last = 0.0000), fitness=0.000024732\n",
      "590.06 secs, 5404 evals, 5354 steps, improv/step: 0.178 (last = 0.0000), fitness=0.000024732\n",
      "590.60 secs, 5409 evals, 5359 steps, improv/step: 0.178 (last = 0.2000), fitness=0.000024732\n",
      "591.22 secs, 5414 evals, 5364 steps, improv/step: 0.178 (last = 0.0000), fitness=0.000024732\n",
      "591.77 secs, 5419 evals, 5369 steps, improv/step: 0.178 (last = 0.2000), fitness=0.000024732\n",
      "592.32 secs, 5424 evals, 5374 steps, improv/step: 0.178 (last = 0.0000), fitness=0.000024732\n"
     ]
    },
    {
     "name": "stdout",
     "output_type": "stream",
     "text": [
      "592.85 secs, 5429 evals, 5379 steps, improv/step: 0.178 (last = 0.2000), fitness=0.000024732\n",
      "593.41 secs, 5434 evals, 5384 steps, improv/step: 0.178 (last = 0.0000), fitness=0.000024732\n",
      "593.96 secs, 5439 evals, 5389 steps, improv/step: 0.177 (last = 0.0000), fitness=0.000024732\n",
      "594.48 secs, 5443 evals, 5393 steps, improv/step: 0.177 (last = 0.2500), fitness=0.000024732\n",
      "595.01 secs, 5447 evals, 5397 steps, improv/step: 0.177 (last = 0.0000), fitness=0.000024732\n",
      "595.64 secs, 5452 evals, 5402 steps, improv/step: 0.177 (last = 0.0000), fitness=0.000024732\n",
      "596.23 secs, 5457 evals, 5407 steps, improv/step: 0.177 (last = 0.0000), fitness=0.000024732\n",
      "596.74 secs, 5461 evals, 5411 steps, improv/step: 0.177 (last = 0.0000), fitness=0.000024732\n",
      "597.32 secs, 5466 evals, 5416 steps, improv/step: 0.177 (last = 0.0000), fitness=0.000024732\n",
      "597.88 secs, 5471 evals, 5421 steps, improv/step: 0.177 (last = 0.0000), fitness=0.000024732\n",
      "598.46 secs, 5476 evals, 5426 steps, improv/step: 0.177 (last = 0.2000), fitness=0.000024732\n",
      "599.04 secs, 5481 evals, 5431 steps, improv/step: 0.176 (last = 0.0000), fitness=0.000024732\n",
      "599.57 secs, 5486 evals, 5436 steps, improv/step: 0.176 (last = 0.2000), fitness=0.000024732\n",
      "600.11 secs, 5491 evals, 5441 steps, improv/step: 0.176 (last = 0.0000), fitness=0.000024732\n",
      "600.66 secs, 5496 evals, 5446 steps, improv/step: 0.176 (last = 0.0000), fitness=0.000024732\n",
      "601.19 secs, 5501 evals, 5451 steps, improv/step: 0.176 (last = 0.0000), fitness=0.000024732\n",
      "601.71 secs, 5506 evals, 5456 steps, improv/step: 0.176 (last = 0.0000), fitness=0.000024732\n",
      "602.27 secs, 5511 evals, 5461 steps, improv/step: 0.176 (last = 0.4000), fitness=0.000024732\n",
      "602.79 secs, 5516 evals, 5466 steps, improv/step: 0.176 (last = 0.0000), fitness=0.000024732\n",
      "603.33 secs, 5521 evals, 5471 steps, improv/step: 0.176 (last = 0.0000), fitness=0.000024732\n",
      "603.91 secs, 5526 evals, 5476 steps, improv/step: 0.175 (last = 0.0000), fitness=0.000024732\n",
      "604.50 secs, 5531 evals, 5481 steps, improv/step: 0.175 (last = 0.0000), fitness=0.000024732\n",
      "605.05 secs, 5536 evals, 5486 steps, improv/step: 0.175 (last = 0.0000), fitness=0.000024732\n",
      "605.58 secs, 5541 evals, 5491 steps, improv/step: 0.175 (last = 0.0000), fitness=0.000024732\n",
      "606.11 secs, 5546 evals, 5496 steps, improv/step: 0.175 (last = 0.2000), fitness=0.000024732\n",
      "606.67 secs, 5551 evals, 5501 steps, improv/step: 0.175 (last = 0.0000), fitness=0.000024732\n",
      "607.19 secs, 5556 evals, 5506 steps, improv/step: 0.175 (last = 0.2000), fitness=0.000024732\n",
      "607.74 secs, 5561 evals, 5511 steps, improv/step: 0.175 (last = 0.0000), fitness=0.000024732\n",
      "608.29 secs, 5566 evals, 5516 steps, improv/step: 0.175 (last = 0.0000), fitness=0.000024732\n",
      "608.91 secs, 5571 evals, 5521 steps, improv/step: 0.174 (last = 0.0000), fitness=0.000024732\n",
      "609.44 secs, 5576 evals, 5526 steps, improv/step: 0.175 (last = 0.4000), fitness=0.000024732\n",
      "610.00 secs, 5581 evals, 5531 steps, improv/step: 0.174 (last = 0.0000), fitness=0.000024732\n",
      "610.57 secs, 5586 evals, 5536 steps, improv/step: 0.174 (last = 0.0000), fitness=0.000024732\n",
      "611.14 secs, 5591 evals, 5541 steps, improv/step: 0.175 (last = 0.4000), fitness=0.000024732\n",
      "611.70 secs, 5596 evals, 5546 steps, improv/step: 0.174 (last = 0.0000), fitness=0.000024732\n",
      "612.23 secs, 5601 evals, 5551 steps, improv/step: 0.174 (last = 0.0000), fitness=0.000024732\n",
      "612.76 secs, 5606 evals, 5556 steps, improv/step: 0.174 (last = 0.0000), fitness=0.000024732\n",
      "613.31 secs, 5611 evals, 5561 steps, improv/step: 0.174 (last = 0.0000), fitness=0.000024732\n",
      "613.89 secs, 5616 evals, 5566 steps, improv/step: 0.174 (last = 0.0000), fitness=0.000024732\n",
      "614.47 secs, 5621 evals, 5571 steps, improv/step: 0.174 (last = 0.0000), fitness=0.000024732\n",
      "615.03 secs, 5626 evals, 5576 steps, improv/step: 0.173 (last = 0.0000), fitness=0.000024732\n",
      "615.60 secs, 5631 evals, 5581 steps, improv/step: 0.173 (last = 0.2000), fitness=0.000024732\n",
      "616.30 secs, 5636 evals, 5586 steps, improv/step: 0.173 (last = 0.2000), fitness=0.000024732\n",
      "616.87 secs, 5641 evals, 5591 steps, improv/step: 0.173 (last = 0.0000), fitness=0.000024732\n",
      "617.39 secs, 5646 evals, 5596 steps, improv/step: 0.173 (last = 0.0000), fitness=0.000024732\n",
      "617.92 secs, 5651 evals, 5601 steps, improv/step: 0.173 (last = 0.2000), fitness=0.000024732\n",
      "618.48 secs, 5656 evals, 5606 steps, improv/step: 0.173 (last = 0.0000), fitness=0.000024732\n",
      "619.01 secs, 5661 evals, 5611 steps, improv/step: 0.173 (last = 0.0000), fitness=0.000024732\n",
      "619.56 secs, 5666 evals, 5616 steps, improv/step: 0.173 (last = 0.0000), fitness=0.000024732\n",
      "620.15 secs, 5671 evals, 5621 steps, improv/step: 0.173 (last = 0.0000), fitness=0.000024732\n",
      "620.70 secs, 5676 evals, 5626 steps, improv/step: 0.173 (last = 0.2000), fitness=0.000024732\n",
      "621.30 secs, 5681 evals, 5631 steps, improv/step: 0.172 (last = 0.0000), fitness=0.000024732\n",
      "621.85 secs, 5686 evals, 5636 steps, improv/step: 0.172 (last = 0.0000), fitness=0.000024732\n",
      "622.40 secs, 5691 evals, 5641 steps, improv/step: 0.172 (last = 0.0000), fitness=0.000024732\n",
      "622.96 secs, 5696 evals, 5646 steps, improv/step: 0.172 (last = 0.0000), fitness=0.000024732\n",
      "623.47 secs, 5701 evals, 5651 steps, improv/step: 0.172 (last = 0.0000), fitness=0.000024732\n",
      "624.04 secs, 5706 evals, 5656 steps, improv/step: 0.172 (last = 0.2000), fitness=0.000024732\n",
      "624.55 secs, 5711 evals, 5661 steps, improv/step: 0.172 (last = 0.0000), fitness=0.000024732\n",
      "625.09 secs, 5716 evals, 5666 steps, improv/step: 0.172 (last = 0.2000), fitness=0.000024732\n",
      "625.61 secs, 5721 evals, 5671 steps, improv/step: 0.172 (last = 0.0000), fitness=0.000024732\n",
      "626.19 secs, 5726 evals, 5676 steps, improv/step: 0.172 (last = 0.2000), fitness=0.000024732\n",
      "626.70 secs, 5730 evals, 5680 steps, improv/step: 0.171 (last = 0.0000), fitness=0.000024732\n",
      "627.27 secs, 5735 evals, 5685 steps, improv/step: 0.171 (last = 0.0000), fitness=0.000024732\n",
      "627.85 secs, 5740 evals, 5690 steps, improv/step: 0.171 (last = 0.0000), fitness=0.000024732\n",
      "628.41 secs, 5745 evals, 5695 steps, improv/step: 0.171 (last = 0.0000), fitness=0.000024732\n",
      "628.93 secs, 5750 evals, 5700 steps, improv/step: 0.171 (last = 0.0000), fitness=0.000024732\n",
      "629.45 secs, 5755 evals, 5705 steps, improv/step: 0.171 (last = 0.0000), fitness=0.000024732\n",
      "629.97 secs, 5760 evals, 5710 steps, improv/step: 0.171 (last = 0.0000), fitness=0.000024732\n",
      "630.49 secs, 5765 evals, 5715 steps, improv/step: 0.170 (last = 0.0000), fitness=0.000024732\n",
      "631.06 secs, 5770 evals, 5720 steps, improv/step: 0.170 (last = 0.2000), fitness=0.000024732\n",
      "631.68 secs, 5775 evals, 5725 steps, improv/step: 0.170 (last = 0.2000), fitness=0.000024732\n",
      "632.26 secs, 5780 evals, 5730 steps, improv/step: 0.170 (last = 0.0000), fitness=0.000024732\n",
      "632.83 secs, 5785 evals, 5735 steps, improv/step: 0.170 (last = 0.0000), fitness=0.000024732\n",
      "633.34 secs, 5790 evals, 5740 steps, improv/step: 0.170 (last = 0.4000), fitness=0.000024732\n",
      "633.85 secs, 5794 evals, 5744 steps, improv/step: 0.170 (last = 0.2500), fitness=0.000024732\n",
      "634.38 secs, 5799 evals, 5749 steps, improv/step: 0.170 (last = 0.0000), fitness=0.000024732\n",
      "634.91 secs, 5804 evals, 5754 steps, improv/step: 0.170 (last = 0.0000), fitness=0.000024732\n",
      "635.46 secs, 5809 evals, 5759 steps, improv/step: 0.170 (last = 0.0000), fitness=0.000024732\n",
      "636.05 secs, 5814 evals, 5764 steps, improv/step: 0.170 (last = 0.2000), fitness=0.000024732\n",
      "636.62 secs, 5819 evals, 5769 steps, improv/step: 0.170 (last = 0.2000), fitness=0.000024732\n",
      "637.15 secs, 5824 evals, 5774 steps, improv/step: 0.170 (last = 0.0000), fitness=0.000024732\n",
      "637.69 secs, 5829 evals, 5779 steps, improv/step: 0.170 (last = 0.4000), fitness=0.000024732\n",
      "638.25 secs, 5834 evals, 5784 steps, improv/step: 0.170 (last = 0.2000), fitness=0.000024732\n",
      "638.84 secs, 5839 evals, 5789 steps, improv/step: 0.170 (last = 0.0000), fitness=0.000024732\n",
      "639.36 secs, 5844 evals, 5794 steps, improv/step: 0.170 (last = 0.0000), fitness=0.000024732\n",
      "639.96 secs, 5850 evals, 5800 steps, improv/step: 0.170 (last = 0.0000), fitness=0.000024732\n",
      "640.50 secs, 5855 evals, 5805 steps, improv/step: 0.170 (last = 0.0000), fitness=0.000024732\n",
      "641.03 secs, 5860 evals, 5810 steps, improv/step: 0.169 (last = 0.0000), fitness=0.000024732\n",
      "641.55 secs, 5865 evals, 5815 steps, improv/step: 0.169 (last = 0.2000), fitness=0.000024732\n"
     ]
    },
    {
     "name": "stdout",
     "output_type": "stream",
     "text": [
      "642.09 secs, 5870 evals, 5820 steps, improv/step: 0.169 (last = 0.0000), fitness=0.000024732\n",
      "642.63 secs, 5875 evals, 5825 steps, improv/step: 0.169 (last = 0.2000), fitness=0.000024732\n",
      "643.24 secs, 5880 evals, 5830 steps, improv/step: 0.169 (last = 0.0000), fitness=0.000024732\n",
      "643.79 secs, 5885 evals, 5835 steps, improv/step: 0.169 (last = 0.0000), fitness=0.000024732\n",
      "644.36 secs, 5890 evals, 5840 steps, improv/step: 0.169 (last = 0.0000), fitness=0.000024732\n",
      "644.92 secs, 5895 evals, 5845 steps, improv/step: 0.169 (last = 0.0000), fitness=0.000024732\n",
      "645.48 secs, 5900 evals, 5850 steps, improv/step: 0.169 (last = 0.0000), fitness=0.000024732\n",
      "646.01 secs, 5905 evals, 5855 steps, improv/step: 0.169 (last = 0.2000), fitness=0.000024732\n",
      "646.51 secs, 5910 evals, 5860 steps, improv/step: 0.168 (last = 0.0000), fitness=0.000024732\n",
      "647.06 secs, 5915 evals, 5865 steps, improv/step: 0.168 (last = 0.0000), fitness=0.000024732\n",
      "647.58 secs, 5920 evals, 5870 steps, improv/step: 0.168 (last = 0.0000), fitness=0.000024732\n",
      "648.13 secs, 5925 evals, 5875 steps, improv/step: 0.168 (last = 0.0000), fitness=0.000024732\n",
      "648.68 secs, 5930 evals, 5880 steps, improv/step: 0.168 (last = 0.0000), fitness=0.000024732\n",
      "649.26 secs, 5935 evals, 5885 steps, improv/step: 0.168 (last = 0.0000), fitness=0.000024732\n",
      "649.81 secs, 5940 evals, 5890 steps, improv/step: 0.168 (last = 0.0000), fitness=0.000024732\n",
      "650.36 secs, 5944 evals, 5894 steps, improv/step: 0.168 (last = 0.2500), fitness=0.000024732\n",
      "650.87 secs, 5949 evals, 5899 steps, improv/step: 0.168 (last = 0.4000), fitness=0.000024732\n",
      "651.45 secs, 5954 evals, 5904 steps, improv/step: 0.168 (last = 0.0000), fitness=0.000024732\n",
      "652.03 secs, 5958 evals, 5908 steps, improv/step: 0.168 (last = 0.0000), fitness=0.000024732\n",
      "652.57 secs, 5963 evals, 5913 steps, improv/step: 0.167 (last = 0.0000), fitness=0.000024732\n",
      "653.10 secs, 5968 evals, 5918 steps, improv/step: 0.167 (last = 0.0000), fitness=0.000024732\n",
      "653.69 secs, 5973 evals, 5923 steps, improv/step: 0.167 (last = 0.0000), fitness=0.000024732\n",
      "654.24 secs, 5978 evals, 5928 steps, improv/step: 0.167 (last = 0.0000), fitness=0.000024732\n",
      "654.81 secs, 5983 evals, 5933 steps, improv/step: 0.167 (last = 0.4000), fitness=0.000024732\n",
      "655.33 secs, 5988 evals, 5938 steps, improv/step: 0.167 (last = 0.0000), fitness=0.000024732\n",
      "655.84 secs, 5993 evals, 5943 steps, improv/step: 0.167 (last = 0.0000), fitness=0.000024732\n",
      "656.41 secs, 5998 evals, 5948 steps, improv/step: 0.167 (last = 0.0000), fitness=0.000024732\n",
      "657.01 secs, 6004 evals, 5954 steps, improv/step: 0.167 (last = 0.0000), fitness=0.000024732\n",
      "657.60 secs, 6010 evals, 5960 steps, improv/step: 0.166 (last = 0.0000), fitness=0.000024732\n",
      "658.20 secs, 6016 evals, 5966 steps, improv/step: 0.166 (last = 0.0000), fitness=0.000024732\n",
      "658.78 secs, 6021 evals, 5971 steps, improv/step: 0.166 (last = 0.0000), fitness=0.000024732\n",
      "659.28 secs, 6026 evals, 5976 steps, improv/step: 0.166 (last = 0.0000), fitness=0.000024732\n",
      "659.82 secs, 6031 evals, 5981 steps, improv/step: 0.166 (last = 0.0000), fitness=0.000024732\n",
      "660.42 secs, 6037 evals, 5987 steps, improv/step: 0.166 (last = 0.0000), fitness=0.000024732\n",
      "661.00 secs, 6042 evals, 5992 steps, improv/step: 0.166 (last = 0.2000), fitness=0.000024732\n",
      "661.53 secs, 6047 evals, 5997 steps, improv/step: 0.166 (last = 0.0000), fitness=0.000024732\n",
      "662.06 secs, 6052 evals, 6002 steps, improv/step: 0.166 (last = 0.2000), fitness=0.000024732\n",
      "662.57 secs, 6057 evals, 6007 steps, improv/step: 0.165 (last = 0.0000), fitness=0.000024732\n",
      "663.10 secs, 6062 evals, 6012 steps, improv/step: 0.166 (last = 0.2000), fitness=0.000024732\n",
      "663.70 secs, 6067 evals, 6017 steps, improv/step: 0.165 (last = 0.0000), fitness=0.000024732\n",
      "664.22 secs, 6072 evals, 6022 steps, improv/step: 0.165 (last = 0.0000), fitness=0.000024732\n",
      "664.73 secs, 6076 evals, 6026 steps, improv/step: 0.165 (last = 0.0000), fitness=0.000024732\n",
      "665.27 secs, 6081 evals, 6031 steps, improv/step: 0.165 (last = 0.0000), fitness=0.000024732\n",
      "665.82 secs, 6086 evals, 6036 steps, improv/step: 0.165 (last = 0.0000), fitness=0.000024732\n",
      "666.34 secs, 6091 evals, 6041 steps, improv/step: 0.165 (last = 0.0000), fitness=0.000024732\n",
      "666.84 secs, 6096 evals, 6046 steps, improv/step: 0.165 (last = 0.0000), fitness=0.000024732\n",
      "667.36 secs, 6100 evals, 6050 steps, improv/step: 0.164 (last = 0.0000), fitness=0.000024732\n",
      "667.88 secs, 6105 evals, 6055 steps, improv/step: 0.164 (last = 0.0000), fitness=0.000024732\n",
      "668.41 secs, 6110 evals, 6060 steps, improv/step: 0.164 (last = 0.0000), fitness=0.000024732\n",
      "668.91 secs, 6114 evals, 6064 steps, improv/step: 0.164 (last = 0.0000), fitness=0.000024732\n",
      "669.44 secs, 6118 evals, 6068 steps, improv/step: 0.164 (last = 0.0000), fitness=0.000024732\n",
      "670.00 secs, 6122 evals, 6072 steps, improv/step: 0.164 (last = 0.0000), fitness=0.000024732\n",
      "670.54 secs, 6126 evals, 6076 steps, improv/step: 0.164 (last = 0.2500), fitness=0.000024732\n",
      "671.10 secs, 6131 evals, 6081 steps, improv/step: 0.164 (last = 0.4000), fitness=0.000024732\n",
      "671.63 secs, 6136 evals, 6086 steps, improv/step: 0.164 (last = 0.0000), fitness=0.000024732\n",
      "672.26 secs, 6141 evals, 6091 steps, improv/step: 0.164 (last = 0.2000), fitness=0.000024732\n",
      "672.84 secs, 6146 evals, 6096 steps, improv/step: 0.164 (last = 0.0000), fitness=0.000024732\n",
      "673.37 secs, 6151 evals, 6101 steps, improv/step: 0.164 (last = 0.0000), fitness=0.000024732\n",
      "673.90 secs, 6156 evals, 6106 steps, improv/step: 0.164 (last = 0.2000), fitness=0.000024732\n",
      "674.41 secs, 6161 evals, 6111 steps, improv/step: 0.164 (last = 0.0000), fitness=0.000024732\n",
      "674.96 secs, 6166 evals, 6116 steps, improv/step: 0.164 (last = 0.2000), fitness=0.000024732\n",
      "675.47 secs, 6171 evals, 6121 steps, improv/step: 0.164 (last = 0.0000), fitness=0.000024732\n",
      "676.03 secs, 6176 evals, 6126 steps, improv/step: 0.163 (last = 0.0000), fitness=0.000024732\n",
      "676.57 secs, 6181 evals, 6131 steps, improv/step: 0.163 (last = 0.0000), fitness=0.000024732\n",
      "677.13 secs, 6186 evals, 6136 steps, improv/step: 0.163 (last = 0.0000), fitness=0.000024732\n",
      "677.70 secs, 6191 evals, 6141 steps, improv/step: 0.163 (last = 0.0000), fitness=0.000024732\n",
      "678.28 secs, 6196 evals, 6146 steps, improv/step: 0.163 (last = 0.0000), fitness=0.000024732\n",
      "678.81 secs, 6201 evals, 6151 steps, improv/step: 0.163 (last = 0.0000), fitness=0.000024732\n",
      "679.32 secs, 6206 evals, 6156 steps, improv/step: 0.163 (last = 0.2000), fitness=0.000024732\n",
      "679.87 secs, 6211 evals, 6161 steps, improv/step: 0.163 (last = 0.0000), fitness=0.000024732\n",
      "680.48 secs, 6216 evals, 6166 steps, improv/step: 0.163 (last = 0.0000), fitness=0.000024732\n",
      "681.09 secs, 6221 evals, 6171 steps, improv/step: 0.162 (last = 0.0000), fitness=0.000024732\n",
      "681.63 secs, 6226 evals, 6176 steps, improv/step: 0.162 (last = 0.0000), fitness=0.000024732\n",
      "682.13 secs, 6231 evals, 6181 steps, improv/step: 0.162 (last = 0.0000), fitness=0.000024732\n",
      "682.64 secs, 6236 evals, 6186 steps, improv/step: 0.162 (last = 0.0000), fitness=0.000024732\n",
      "683.16 secs, 6241 evals, 6191 steps, improv/step: 0.162 (last = 0.0000), fitness=0.000024732\n",
      "683.71 secs, 6246 evals, 6196 steps, improv/step: 0.162 (last = 0.0000), fitness=0.000024732\n",
      "684.30 secs, 6251 evals, 6201 steps, improv/step: 0.162 (last = 0.0000), fitness=0.000024732\n",
      "684.84 secs, 6256 evals, 6206 steps, improv/step: 0.161 (last = 0.0000), fitness=0.000024732\n",
      "685.35 secs, 6260 evals, 6210 steps, improv/step: 0.162 (last = 0.2500), fitness=0.000024732\n",
      "685.86 secs, 6264 evals, 6214 steps, improv/step: 0.161 (last = 0.0000), fitness=0.000024732\n",
      "686.40 secs, 6269 evals, 6219 steps, improv/step: 0.161 (last = 0.0000), fitness=0.000024732\n",
      "686.95 secs, 6274 evals, 6224 steps, improv/step: 0.161 (last = 0.0000), fitness=0.000024732\n",
      "687.46 secs, 6279 evals, 6229 steps, improv/step: 0.161 (last = 0.2000), fitness=0.000024732\n",
      "688.03 secs, 6283 evals, 6233 steps, improv/step: 0.161 (last = 0.0000), fitness=0.000024732\n",
      "688.54 secs, 6288 evals, 6238 steps, improv/step: 0.161 (last = 0.0000), fitness=0.000024732\n",
      "689.10 secs, 6293 evals, 6243 steps, improv/step: 0.161 (last = 0.0000), fitness=0.000024732\n",
      "689.62 secs, 6298 evals, 6248 steps, improv/step: 0.161 (last = 0.0000), fitness=0.000024732\n",
      "690.16 secs, 6303 evals, 6253 steps, improv/step: 0.161 (last = 0.0000), fitness=0.000024732\n"
     ]
    },
    {
     "name": "stdout",
     "output_type": "stream",
     "text": [
      "690.68 secs, 6308 evals, 6258 steps, improv/step: 0.161 (last = 0.2000), fitness=0.000024732\n",
      "691.19 secs, 6313 evals, 6263 steps, improv/step: 0.160 (last = 0.0000), fitness=0.000024732\n",
      "691.72 secs, 6318 evals, 6268 steps, improv/step: 0.160 (last = 0.0000), fitness=0.000024732\n",
      "692.32 secs, 6324 evals, 6274 steps, improv/step: 0.160 (last = 0.0000), fitness=0.000024732\n",
      "692.89 secs, 6329 evals, 6279 steps, improv/step: 0.160 (last = 0.0000), fitness=0.000024732\n",
      "693.39 secs, 6334 evals, 6284 steps, improv/step: 0.160 (last = 0.2000), fitness=0.000024732\n",
      "693.90 secs, 6339 evals, 6289 steps, improv/step: 0.160 (last = 0.0000), fitness=0.000024732\n",
      "694.43 secs, 6344 evals, 6294 steps, improv/step: 0.160 (last = 0.0000), fitness=0.000024732\n",
      "694.97 secs, 6349 evals, 6299 steps, improv/step: 0.160 (last = 0.2000), fitness=0.000024732\n",
      "695.50 secs, 6354 evals, 6304 steps, improv/step: 0.160 (last = 0.0000), fitness=0.000024732\n",
      "696.04 secs, 6359 evals, 6309 steps, improv/step: 0.160 (last = 0.0000), fitness=0.000024732\n",
      "696.56 secs, 6364 evals, 6314 steps, improv/step: 0.159 (last = 0.0000), fitness=0.000024732\n",
      "697.06 secs, 6369 evals, 6319 steps, improv/step: 0.159 (last = 0.0000), fitness=0.000024732\n",
      "697.62 secs, 6374 evals, 6324 steps, improv/step: 0.159 (last = 0.0000), fitness=0.000024732\n",
      "698.19 secs, 6379 evals, 6329 steps, improv/step: 0.159 (last = 0.0000), fitness=0.000024732\n",
      "698.78 secs, 6385 evals, 6335 steps, improv/step: 0.159 (last = 0.0000), fitness=0.000024732\n",
      "699.38 secs, 6390 evals, 6340 steps, improv/step: 0.159 (last = 0.0000), fitness=0.000024732\n",
      "699.97 secs, 6395 evals, 6345 steps, improv/step: 0.159 (last = 0.2000), fitness=0.000024732\n",
      "700.50 secs, 6399 evals, 6349 steps, improv/step: 0.159 (last = 0.0000), fitness=0.000024732\n",
      "701.05 secs, 6404 evals, 6354 steps, improv/step: 0.159 (last = 0.0000), fitness=0.000024732\n",
      "701.59 secs, 6409 evals, 6359 steps, improv/step: 0.159 (last = 0.0000), fitness=0.000024732\n",
      "702.21 secs, 6414 evals, 6364 steps, improv/step: 0.158 (last = 0.0000), fitness=0.000024732\n",
      "702.76 secs, 6419 evals, 6369 steps, improv/step: 0.158 (last = 0.0000), fitness=0.000024732\n",
      "703.34 secs, 6424 evals, 6374 steps, improv/step: 0.158 (last = 0.0000), fitness=0.000024732\n",
      "703.88 secs, 6429 evals, 6379 steps, improv/step: 0.158 (last = 0.0000), fitness=0.000024732\n",
      "704.41 secs, 6434 evals, 6384 steps, improv/step: 0.158 (last = 0.0000), fitness=0.000024732\n",
      "704.94 secs, 6439 evals, 6389 steps, improv/step: 0.158 (last = 0.0000), fitness=0.000024732\n",
      "705.50 secs, 6444 evals, 6394 steps, improv/step: 0.158 (last = 0.2000), fitness=0.000024732\n",
      "706.07 secs, 6449 evals, 6399 steps, improv/step: 0.158 (last = 0.2000), fitness=0.000024732\n",
      "706.66 secs, 6455 evals, 6405 steps, improv/step: 0.158 (last = 0.0000), fitness=0.000024732\n",
      "707.18 secs, 6460 evals, 6410 steps, improv/step: 0.158 (last = 0.0000), fitness=0.000024732\n",
      "707.73 secs, 6465 evals, 6415 steps, improv/step: 0.157 (last = 0.0000), fitness=0.000024732\n",
      "708.28 secs, 6470 evals, 6420 steps, improv/step: 0.157 (last = 0.0000), fitness=0.000024732\n",
      "708.85 secs, 6475 evals, 6425 steps, improv/step: 0.157 (last = 0.0000), fitness=0.000024732\n",
      "709.39 secs, 6480 evals, 6430 steps, improv/step: 0.157 (last = 0.0000), fitness=0.000024732\n",
      "709.92 secs, 6485 evals, 6435 steps, improv/step: 0.157 (last = 0.0000), fitness=0.000024732\n",
      "710.47 secs, 6490 evals, 6440 steps, improv/step: 0.157 (last = 0.0000), fitness=0.000024732\n",
      "710.99 secs, 6495 evals, 6445 steps, improv/step: 0.157 (last = 0.0000), fitness=0.000024732\n",
      "711.55 secs, 6500 evals, 6450 steps, improv/step: 0.157 (last = 0.0000), fitness=0.000024732\n",
      "712.11 secs, 6505 evals, 6455 steps, improv/step: 0.156 (last = 0.0000), fitness=0.000024732\n",
      "712.64 secs, 6510 evals, 6460 steps, improv/step: 0.157 (last = 0.2000), fitness=0.000024732\n",
      "713.20 secs, 6515 evals, 6465 steps, improv/step: 0.156 (last = 0.0000), fitness=0.000024732\n",
      "713.74 secs, 6520 evals, 6470 steps, improv/step: 0.156 (last = 0.0000), fitness=0.000024732\n",
      "714.30 secs, 6525 evals, 6475 steps, improv/step: 0.156 (last = 0.0000), fitness=0.000024732\n",
      "714.84 secs, 6530 evals, 6480 steps, improv/step: 0.156 (last = 0.0000), fitness=0.000024732\n",
      "715.42 secs, 6535 evals, 6485 steps, improv/step: 0.156 (last = 0.0000), fitness=0.000024732\n",
      "715.98 secs, 6540 evals, 6490 steps, improv/step: 0.156 (last = 0.0000), fitness=0.000024732\n",
      "716.53 secs, 6545 evals, 6495 steps, improv/step: 0.156 (last = 0.2000), fitness=0.000024732\n",
      "717.09 secs, 6550 evals, 6500 steps, improv/step: 0.156 (last = 0.0000), fitness=0.000024732\n",
      "717.64 secs, 6555 evals, 6505 steps, improv/step: 0.156 (last = 0.0000), fitness=0.000024732\n",
      "718.15 secs, 6560 evals, 6510 steps, improv/step: 0.155 (last = 0.0000), fitness=0.000024732\n",
      "718.69 secs, 6564 evals, 6514 steps, improv/step: 0.155 (last = 0.0000), fitness=0.000024732\n",
      "719.28 secs, 6569 evals, 6519 steps, improv/step: 0.155 (last = 0.0000), fitness=0.000024732\n",
      "719.91 secs, 6574 evals, 6524 steps, improv/step: 0.155 (last = 0.0000), fitness=0.000024732\n",
      "720.50 secs, 6579 evals, 6529 steps, improv/step: 0.155 (last = 0.2000), fitness=0.000024732\n",
      "721.08 secs, 6584 evals, 6534 steps, improv/step: 0.155 (last = 0.0000), fitness=0.000024732\n",
      "721.71 secs, 6589 evals, 6539 steps, improv/step: 0.155 (last = 0.0000), fitness=0.000024732\n",
      "722.29 secs, 6594 evals, 6544 steps, improv/step: 0.155 (last = 0.2000), fitness=0.000024732\n",
      "722.84 secs, 6599 evals, 6549 steps, improv/step: 0.155 (last = 0.0000), fitness=0.000024732\n",
      "723.41 secs, 6604 evals, 6554 steps, improv/step: 0.155 (last = 0.0000), fitness=0.000024732\n",
      "723.98 secs, 6608 evals, 6558 steps, improv/step: 0.155 (last = 0.0000), fitness=0.000024732\n",
      "724.52 secs, 6613 evals, 6563 steps, improv/step: 0.155 (last = 0.0000), fitness=0.000024732\n",
      "725.04 secs, 6618 evals, 6568 steps, improv/step: 0.154 (last = 0.0000), fitness=0.000024732\n",
      "725.56 secs, 6623 evals, 6573 steps, improv/step: 0.154 (last = 0.0000), fitness=0.000024732\n",
      "726.13 secs, 6628 evals, 6578 steps, improv/step: 0.154 (last = 0.0000), fitness=0.000024732\n",
      "726.74 secs, 6633 evals, 6583 steps, improv/step: 0.154 (last = 0.0000), fitness=0.000024732\n",
      "727.26 secs, 6638 evals, 6588 steps, improv/step: 0.154 (last = 0.0000), fitness=0.000024732\n",
      "727.79 secs, 6643 evals, 6593 steps, improv/step: 0.154 (last = 0.0000), fitness=0.000024732\n",
      "728.32 secs, 6648 evals, 6598 steps, improv/step: 0.154 (last = 0.2000), fitness=0.000024732\n",
      "728.86 secs, 6653 evals, 6603 steps, improv/step: 0.154 (last = 0.2000), fitness=0.000024732\n",
      "729.36 secs, 6657 evals, 6607 steps, improv/step: 0.154 (last = 0.2500), fitness=0.000024732\n",
      "729.88 secs, 6662 evals, 6612 steps, improv/step: 0.154 (last = 0.0000), fitness=0.000024732\n",
      "730.49 secs, 6668 evals, 6618 steps, improv/step: 0.154 (last = 0.0000), fitness=0.000024732\n",
      "731.00 secs, 6673 evals, 6623 steps, improv/step: 0.154 (last = 0.0000), fitness=0.000024732\n",
      "731.62 secs, 6678 evals, 6628 steps, improv/step: 0.153 (last = 0.0000), fitness=0.000024732\n",
      "732.16 secs, 6683 evals, 6633 steps, improv/step: 0.153 (last = 0.0000), fitness=0.000024732\n",
      "732.74 secs, 6688 evals, 6638 steps, improv/step: 0.153 (last = 0.0000), fitness=0.000024732\n",
      "733.25 secs, 6693 evals, 6643 steps, improv/step: 0.153 (last = 0.0000), fitness=0.000024732\n",
      "733.82 secs, 6698 evals, 6648 steps, improv/step: 0.153 (last = 0.2000), fitness=0.000024732\n",
      "734.35 secs, 6703 evals, 6653 steps, improv/step: 0.153 (last = 0.0000), fitness=0.000024732\n",
      "734.87 secs, 6708 evals, 6658 steps, improv/step: 0.153 (last = 0.0000), fitness=0.000024732\n",
      "735.39 secs, 6713 evals, 6663 steps, improv/step: 0.153 (last = 0.0000), fitness=0.000024732\n",
      "735.90 secs, 6718 evals, 6668 steps, improv/step: 0.153 (last = 0.2000), fitness=0.000024732\n",
      "736.44 secs, 6723 evals, 6673 steps, improv/step: 0.153 (last = 0.0000), fitness=0.000024732\n",
      "737.04 secs, 6728 evals, 6678 steps, improv/step: 0.153 (last = 0.0000), fitness=0.000024732\n",
      "737.61 secs, 6733 evals, 6683 steps, improv/step: 0.152 (last = 0.0000), fitness=0.000024732\n",
      "738.15 secs, 6738 evals, 6688 steps, improv/step: 0.152 (last = 0.0000), fitness=0.000024732\n",
      "738.74 secs, 6743 evals, 6693 steps, improv/step: 0.152 (last = 0.0000), fitness=0.000024732\n",
      "739.26 secs, 6748 evals, 6698 steps, improv/step: 0.152 (last = 0.0000), fitness=0.000024732\n",
      "739.81 secs, 6753 evals, 6703 steps, improv/step: 0.152 (last = 0.0000), fitness=0.000024732\n",
      "740.31 secs, 6758 evals, 6708 steps, improv/step: 0.152 (last = 0.0000), fitness=0.000024732\n",
      "740.84 secs, 6763 evals, 6713 steps, improv/step: 0.152 (last = 0.0000), fitness=0.000024732\n",
      "741.35 secs, 6768 evals, 6718 steps, improv/step: 0.152 (last = 0.0000), fitness=0.000024732\n",
      "741.88 secs, 6773 evals, 6723 steps, improv/step: 0.152 (last = 0.0000), fitness=0.000024732\n",
      "742.41 secs, 6778 evals, 6728 steps, improv/step: 0.151 (last = 0.0000), fitness=0.000024732\n",
      "742.98 secs, 6783 evals, 6733 steps, improv/step: 0.151 (last = 0.0000), fitness=0.000024732\n",
      "743.51 secs, 6788 evals, 6738 steps, improv/step: 0.151 (last = 0.0000), fitness=0.000024732\n",
      "744.07 secs, 6793 evals, 6743 steps, improv/step: 0.151 (last = 0.0000), fitness=0.000024732\n",
      "744.59 secs, 6798 evals, 6748 steps, improv/step: 0.151 (last = 0.2000), fitness=0.000024732\n",
      "745.17 secs, 6803 evals, 6753 steps, improv/step: 0.151 (last = 0.0000), fitness=0.000024732\n",
      "745.72 secs, 6808 evals, 6758 steps, improv/step: 0.151 (last = 0.0000), fitness=0.000024732\n",
      "746.27 secs, 6813 evals, 6763 steps, improv/step: 0.151 (last = 0.0000), fitness=0.000024732\n",
      "746.84 secs, 6818 evals, 6768 steps, improv/step: 0.151 (last = 0.0000), fitness=0.000024732\n",
      "747.39 secs, 6823 evals, 6773 steps, improv/step: 0.151 (last = 0.0000), fitness=0.000024732\n",
      "747.92 secs, 6828 evals, 6778 steps, improv/step: 0.151 (last = 0.2000), fitness=0.000024732\n",
      "748.43 secs, 6832 evals, 6782 steps, improv/step: 0.151 (last = 0.0000), fitness=0.000024732\n",
      "749.01 secs, 6837 evals, 6787 steps, improv/step: 0.150 (last = 0.0000), fitness=0.000024732\n",
      "749.60 secs, 6842 evals, 6792 steps, improv/step: 0.150 (last = 0.0000), fitness=0.000024732\n",
      "750.17 secs, 6847 evals, 6797 steps, improv/step: 0.150 (last = 0.2000), fitness=0.000024732\n",
      "750.70 secs, 6852 evals, 6802 steps, improv/step: 0.150 (last = 0.0000), fitness=0.000024732\n",
      "751.21 secs, 6857 evals, 6807 steps, improv/step: 0.150 (last = 0.2000), fitness=0.000024732\n",
      "751.78 secs, 6862 evals, 6812 steps, improv/step: 0.150 (last = 0.0000), fitness=0.000024732\n",
      "752.32 secs, 6867 evals, 6817 steps, improv/step: 0.150 (last = 0.0000), fitness=0.000024732\n",
      "752.87 secs, 6872 evals, 6822 steps, improv/step: 0.150 (last = 0.0000), fitness=0.000024732\n",
      "753.43 secs, 6877 evals, 6827 steps, improv/step: 0.150 (last = 0.0000), fitness=0.000024732\n",
      "753.97 secs, 6882 evals, 6832 steps, improv/step: 0.150 (last = 0.0000), fitness=0.000024732\n",
      "754.52 secs, 6887 evals, 6837 steps, improv/step: 0.150 (last = 0.0000), fitness=0.000024732\n",
      "755.05 secs, 6892 evals, 6842 steps, improv/step: 0.150 (last = 0.0000), fitness=0.000024732\n",
      "755.58 secs, 6897 evals, 6847 steps, improv/step: 0.149 (last = 0.0000), fitness=0.000024732\n",
      "756.14 secs, 6902 evals, 6852 steps, improv/step: 0.149 (last = 0.0000), fitness=0.000024732\n",
      "756.67 secs, 6907 evals, 6857 steps, improv/step: 0.149 (last = 0.0000), fitness=0.000024732\n",
      "757.22 secs, 6912 evals, 6862 steps, improv/step: 0.149 (last = 0.0000), fitness=0.000024732\n",
      "757.79 secs, 6917 evals, 6867 steps, improv/step: 0.149 (last = 0.0000), fitness=0.000024732\n",
      "758.32 secs, 6922 evals, 6872 steps, improv/step: 0.149 (last = 0.0000), fitness=0.000024732\n",
      "758.89 secs, 6927 evals, 6877 steps, improv/step: 0.149 (last = 0.0000), fitness=0.000024732\n",
      "759.45 secs, 6931 evals, 6881 steps, improv/step: 0.149 (last = 0.0000), fitness=0.000024732\n",
      "759.98 secs, 6936 evals, 6886 steps, improv/step: 0.149 (last = 0.0000), fitness=0.000024732\n",
      "760.52 secs, 6941 evals, 6891 steps, improv/step: 0.148 (last = 0.0000), fitness=0.000024732\n",
      "761.05 secs, 6946 evals, 6896 steps, improv/step: 0.148 (last = 0.2000), fitness=0.000024732\n",
      "761.58 secs, 6951 evals, 6901 steps, improv/step: 0.148 (last = 0.0000), fitness=0.000024732\n",
      "762.11 secs, 6956 evals, 6906 steps, improv/step: 0.148 (last = 0.0000), fitness=0.000024732\n",
      "762.62 secs, 6961 evals, 6911 steps, improv/step: 0.148 (last = 0.0000), fitness=0.000024732\n",
      "763.15 secs, 6966 evals, 6916 steps, improv/step: 0.148 (last = 0.0000), fitness=0.000024732\n",
      "763.69 secs, 6971 evals, 6921 steps, improv/step: 0.148 (last = 0.0000), fitness=0.000024732\n",
      "764.21 secs, 6976 evals, 6926 steps, improv/step: 0.148 (last = 0.0000), fitness=0.000024732\n",
      "764.76 secs, 6981 evals, 6931 steps, improv/step: 0.148 (last = 0.0000), fitness=0.000024732\n",
      "765.35 secs, 6987 evals, 6937 steps, improv/step: 0.148 (last = 0.0000), fitness=0.000024732\n",
      "765.88 secs, 6992 evals, 6942 steps, improv/step: 0.148 (last = 0.2000), fitness=0.000024732\n",
      "766.42 secs, 6997 evals, 6947 steps, improv/step: 0.148 (last = 0.0000), fitness=0.000024732\n",
      "767.03 secs, 7002 evals, 6952 steps, improv/step: 0.147 (last = 0.0000), fitness=0.000024732\n",
      "767.59 secs, 7007 evals, 6957 steps, improv/step: 0.147 (last = 0.0000), fitness=0.000024732\n",
      "768.11 secs, 7012 evals, 6962 steps, improv/step: 0.147 (last = 0.0000), fitness=0.000024732\n",
      "768.68 secs, 7017 evals, 6967 steps, improv/step: 0.147 (last = 0.0000), fitness=0.000024732\n",
      "769.22 secs, 7022 evals, 6972 steps, improv/step: 0.147 (last = 0.2000), fitness=0.000024732\n",
      "769.73 secs, 7027 evals, 6977 steps, improv/step: 0.147 (last = 0.0000), fitness=0.000024732\n",
      "770.25 secs, 7032 evals, 6982 steps, improv/step: 0.147 (last = 0.0000), fitness=0.000024732\n",
      "770.79 secs, 7037 evals, 6987 steps, improv/step: 0.147 (last = 0.0000), fitness=0.000024732\n",
      "771.33 secs, 7042 evals, 6992 steps, improv/step: 0.147 (last = 0.2000), fitness=0.000024732\n",
      "771.92 secs, 7047 evals, 6997 steps, improv/step: 0.147 (last = 0.0000), fitness=0.000024732\n",
      "772.48 secs, 7052 evals, 7002 steps, improv/step: 0.147 (last = 0.0000), fitness=0.000024732\n",
      "773.02 secs, 7057 evals, 7007 steps, improv/step: 0.147 (last = 0.0000), fitness=0.000024732\n",
      "773.54 secs, 7062 evals, 7012 steps, improv/step: 0.146 (last = 0.0000), fitness=0.000024732\n",
      "774.06 secs, 7067 evals, 7017 steps, improv/step: 0.146 (last = 0.0000), fitness=0.000024732\n",
      "774.56 secs, 7072 evals, 7022 steps, improv/step: 0.146 (last = 0.0000), fitness=0.000024732\n",
      "775.16 secs, 7078 evals, 7028 steps, improv/step: 0.146 (last = 0.0000), fitness=0.000024732\n",
      "775.70 secs, 7083 evals, 7033 steps, improv/step: 0.146 (last = 0.0000), fitness=0.000024732\n",
      "776.25 secs, 7088 evals, 7038 steps, improv/step: 0.146 (last = 0.0000), fitness=0.000024732\n",
      "776.82 secs, 7094 evals, 7044 steps, improv/step: 0.146 (last = 0.0000), fitness=0.000024732\n",
      "777.35 secs, 7099 evals, 7049 steps, improv/step: 0.146 (last = 0.0000), fitness=0.000024732\n",
      "777.88 secs, 7104 evals, 7054 steps, improv/step: 0.146 (last = 0.0000), fitness=0.000024732\n",
      "778.45 secs, 7110 evals, 7060 steps, improv/step: 0.146 (last = 0.1667), fitness=0.000024732\n",
      "778.97 secs, 7115 evals, 7065 steps, improv/step: 0.146 (last = 0.0000), fitness=0.000024732\n",
      "779.56 secs, 7121 evals, 7071 steps, improv/step: 0.145 (last = 0.0000), fitness=0.000024732\n",
      "780.12 secs, 7126 evals, 7076 steps, improv/step: 0.145 (last = 0.0000), fitness=0.000024732\n",
      "780.63 secs, 7131 evals, 7081 steps, improv/step: 0.145 (last = 0.0000), fitness=0.000024732\n",
      "781.22 secs, 7136 evals, 7086 steps, improv/step: 0.145 (last = 0.0000), fitness=0.000024732\n",
      "781.74 secs, 7141 evals, 7091 steps, improv/step: 0.145 (last = 0.0000), fitness=0.000024732\n",
      "782.30 secs, 7146 evals, 7096 steps, improv/step: 0.145 (last = 0.0000), fitness=0.000024732\n",
      "782.83 secs, 7151 evals, 7101 steps, improv/step: 0.145 (last = 0.0000), fitness=0.000024732\n",
      "783.44 secs, 7157 evals, 7107 steps, improv/step: 0.145 (last = 0.1667), fitness=0.000024732\n",
      "783.99 secs, 7162 evals, 7112 steps, improv/step: 0.145 (last = 0.0000), fitness=0.000024732\n",
      "784.56 secs, 7167 evals, 7117 steps, improv/step: 0.145 (last = 0.0000), fitness=0.000024732\n",
      "785.16 secs, 7173 evals, 7123 steps, improv/step: 0.144 (last = 0.0000), fitness=0.000024732\n",
      "785.74 secs, 7179 evals, 7129 steps, improv/step: 0.144 (last = 0.1667), fitness=0.000024732\n",
      "786.29 secs, 7184 evals, 7134 steps, improv/step: 0.144 (last = 0.0000), fitness=0.000024732\n",
      "786.83 secs, 7189 evals, 7139 steps, improv/step: 0.144 (last = 0.0000), fitness=0.000024732\n",
      "787.42 secs, 7195 evals, 7145 steps, improv/step: 0.144 (last = 0.0000), fitness=0.000024732\n"
     ]
    },
    {
     "name": "stdout",
     "output_type": "stream",
     "text": [
      "787.93 secs, 7200 evals, 7150 steps, improv/step: 0.144 (last = 0.0000), fitness=0.000024732\n",
      "788.43 secs, 7205 evals, 7155 steps, improv/step: 0.144 (last = 0.0000), fitness=0.000024732\n",
      "789.01 secs, 7210 evals, 7160 steps, improv/step: 0.144 (last = 0.0000), fitness=0.000024732\n",
      "789.53 secs, 7215 evals, 7165 steps, improv/step: 0.144 (last = 0.0000), fitness=0.000024732\n",
      "790.07 secs, 7220 evals, 7170 steps, improv/step: 0.144 (last = 0.2000), fitness=0.000024732\n",
      "790.65 secs, 7225 evals, 7175 steps, improv/step: 0.144 (last = 0.0000), fitness=0.000024732\n",
      "791.17 secs, 7230 evals, 7180 steps, improv/step: 0.144 (last = 0.0000), fitness=0.000024732\n",
      "791.71 secs, 7235 evals, 7185 steps, improv/step: 0.144 (last = 0.2000), fitness=0.000024732\n",
      "792.28 secs, 7240 evals, 7190 steps, improv/step: 0.144 (last = 0.2000), fitness=0.000024732\n",
      "792.85 secs, 7245 evals, 7195 steps, improv/step: 0.144 (last = 0.0000), fitness=0.000024732\n",
      "793.37 secs, 7250 evals, 7200 steps, improv/step: 0.143 (last = 0.0000), fitness=0.000024732\n",
      "793.93 secs, 7254 evals, 7204 steps, improv/step: 0.143 (last = 0.0000), fitness=0.000024732\n",
      "794.52 secs, 7260 evals, 7210 steps, improv/step: 0.143 (last = 0.0000), fitness=0.000024732\n",
      "795.10 secs, 7266 evals, 7216 steps, improv/step: 0.143 (last = 0.1667), fitness=0.000024732\n",
      "795.62 secs, 7271 evals, 7221 steps, improv/step: 0.143 (last = 0.0000), fitness=0.000024732\n",
      "796.13 secs, 7276 evals, 7226 steps, improv/step: 0.143 (last = 0.0000), fitness=0.000024732\n",
      "796.66 secs, 7281 evals, 7231 steps, improv/step: 0.143 (last = 0.0000), fitness=0.000024732\n",
      "797.25 secs, 7287 evals, 7237 steps, improv/step: 0.143 (last = 0.0000), fitness=0.000024732\n",
      "797.78 secs, 7292 evals, 7242 steps, improv/step: 0.143 (last = 0.0000), fitness=0.000024732\n",
      "798.30 secs, 7297 evals, 7247 steps, improv/step: 0.143 (last = 0.0000), fitness=0.000024732\n",
      "798.89 secs, 7303 evals, 7253 steps, improv/step: 0.143 (last = 0.0000), fitness=0.000024732\n",
      "799.40 secs, 7308 evals, 7258 steps, improv/step: 0.142 (last = 0.0000), fitness=0.000024732\n",
      "799.98 secs, 7314 evals, 7264 steps, improv/step: 0.142 (last = 0.0000), fitness=0.000024732\n",
      "800.56 secs, 7320 evals, 7270 steps, improv/step: 0.142 (last = 0.1667), fitness=0.000024732\n",
      "801.11 secs, 7325 evals, 7275 steps, improv/step: 0.143 (last = 0.4000), fitness=0.000024732\n",
      "801.65 secs, 7330 evals, 7280 steps, improv/step: 0.142 (last = 0.0000), fitness=0.000024732\n",
      "802.24 secs, 7336 evals, 7286 steps, improv/step: 0.142 (last = 0.0000), fitness=0.000024732\n",
      "802.76 secs, 7341 evals, 7291 steps, improv/step: 0.142 (last = 0.0000), fitness=0.000024732\n",
      "803.28 secs, 7346 evals, 7296 steps, improv/step: 0.142 (last = 0.0000), fitness=0.000024732\n",
      "803.79 secs, 7351 evals, 7301 steps, improv/step: 0.142 (last = 0.0000), fitness=0.000024732\n",
      "804.38 secs, 7357 evals, 7307 steps, improv/step: 0.142 (last = 0.1667), fitness=0.000024732\n",
      "804.91 secs, 7362 evals, 7312 steps, improv/step: 0.142 (last = 0.0000), fitness=0.000024732\n",
      "805.43 secs, 7367 evals, 7317 steps, improv/step: 0.142 (last = 0.0000), fitness=0.000024732\n",
      "805.95 secs, 7372 evals, 7322 steps, improv/step: 0.142 (last = 0.2000), fitness=0.000024732\n",
      "806.55 secs, 7378 evals, 7328 steps, improv/step: 0.142 (last = 0.1667), fitness=0.000024732\n",
      "807.15 secs, 7384 evals, 7334 steps, improv/step: 0.142 (last = 0.0000), fitness=0.000024732\n",
      "807.68 secs, 7389 evals, 7339 steps, improv/step: 0.142 (last = 0.0000), fitness=0.000024732\n",
      "808.27 secs, 7395 evals, 7345 steps, improv/step: 0.142 (last = 0.0000), fitness=0.000024732\n",
      "808.87 secs, 7401 evals, 7351 steps, improv/step: 0.142 (last = 0.1667), fitness=0.000024732\n",
      "809.42 secs, 7406 evals, 7356 steps, improv/step: 0.142 (last = 0.0000), fitness=0.000024732\n",
      "809.96 secs, 7411 evals, 7361 steps, improv/step: 0.141 (last = 0.0000), fitness=0.000024732\n",
      "810.56 secs, 7417 evals, 7367 steps, improv/step: 0.141 (last = 0.0000), fitness=0.000024732\n",
      "811.07 secs, 7422 evals, 7372 steps, improv/step: 0.141 (last = 0.0000), fitness=0.000024732\n",
      "811.61 secs, 7427 evals, 7377 steps, improv/step: 0.141 (last = 0.2000), fitness=0.000024732\n",
      "812.13 secs, 7432 evals, 7382 steps, improv/step: 0.141 (last = 0.0000), fitness=0.000024732\n",
      "812.69 secs, 7437 evals, 7387 steps, improv/step: 0.141 (last = 0.0000), fitness=0.000024732\n",
      "813.20 secs, 7442 evals, 7392 steps, improv/step: 0.141 (last = 0.0000), fitness=0.000024732\n",
      "813.72 secs, 7446 evals, 7396 steps, improv/step: 0.141 (last = 0.0000), fitness=0.000024732\n",
      "814.24 secs, 7451 evals, 7401 steps, improv/step: 0.141 (last = 0.0000), fitness=0.000024732\n",
      "814.75 secs, 7456 evals, 7406 steps, improv/step: 0.141 (last = 0.0000), fitness=0.000024732\n",
      "815.28 secs, 7461 evals, 7411 steps, improv/step: 0.141 (last = 0.0000), fitness=0.000024732\n",
      "815.83 secs, 7466 evals, 7416 steps, improv/step: 0.141 (last = 0.2000), fitness=0.000024732\n",
      "816.38 secs, 7471 evals, 7421 steps, improv/step: 0.141 (last = 0.0000), fitness=0.000024732\n",
      "816.95 secs, 7476 evals, 7426 steps, improv/step: 0.140 (last = 0.0000), fitness=0.000024732\n",
      "817.51 secs, 7481 evals, 7431 steps, improv/step: 0.140 (last = 0.0000), fitness=0.000024732\n",
      "818.05 secs, 7486 evals, 7436 steps, improv/step: 0.140 (last = 0.0000), fitness=0.000024732\n",
      "818.59 secs, 7491 evals, 7441 steps, improv/step: 0.140 (last = 0.0000), fitness=0.000024732\n",
      "819.11 secs, 7496 evals, 7446 steps, improv/step: 0.140 (last = 0.0000), fitness=0.000024732\n",
      "819.68 secs, 7502 evals, 7452 steps, improv/step: 0.140 (last = 0.1667), fitness=0.000024732\n",
      "820.27 secs, 7507 evals, 7457 steps, improv/step: 0.140 (last = 0.0000), fitness=0.000024732\n",
      "820.78 secs, 7511 evals, 7461 steps, improv/step: 0.140 (last = 0.0000), fitness=0.000024732\n",
      "821.32 secs, 7516 evals, 7466 steps, improv/step: 0.140 (last = 0.0000), fitness=0.000024732\n",
      "821.87 secs, 7521 evals, 7471 steps, improv/step: 0.140 (last = 0.0000), fitness=0.000024732\n",
      "822.41 secs, 7526 evals, 7476 steps, improv/step: 0.140 (last = 0.0000), fitness=0.000024732\n",
      "822.94 secs, 7531 evals, 7481 steps, improv/step: 0.140 (last = 0.0000), fitness=0.000024732\n",
      "823.50 secs, 7536 evals, 7486 steps, improv/step: 0.140 (last = 0.2000), fitness=0.000024732\n",
      "824.02 secs, 7541 evals, 7491 steps, improv/step: 0.140 (last = 0.2000), fitness=0.000024732\n",
      "824.63 secs, 7546 evals, 7496 steps, improv/step: 0.140 (last = 0.0000), fitness=0.000024732\n",
      "825.17 secs, 7551 evals, 7501 steps, improv/step: 0.139 (last = 0.0000), fitness=0.000024732\n",
      "825.69 secs, 7555 evals, 7505 steps, improv/step: 0.139 (last = 0.0000), fitness=0.000024732\n",
      "826.29 secs, 7560 evals, 7510 steps, improv/step: 0.139 (last = 0.0000), fitness=0.000024732\n",
      "826.82 secs, 7565 evals, 7515 steps, improv/step: 0.139 (last = 0.0000), fitness=0.000024732\n",
      "827.34 secs, 7570 evals, 7520 steps, improv/step: 0.139 (last = 0.0000), fitness=0.000024732\n",
      "827.93 secs, 7575 evals, 7525 steps, improv/step: 0.139 (last = 0.0000), fitness=0.000024732\n",
      "828.45 secs, 7579 evals, 7529 steps, improv/step: 0.139 (last = 0.0000), fitness=0.000024732\n",
      "828.96 secs, 7584 evals, 7534 steps, improv/step: 0.139 (last = 0.0000), fitness=0.000024732\n",
      "829.48 secs, 7589 evals, 7539 steps, improv/step: 0.139 (last = 0.2000), fitness=0.000024732\n",
      "830.06 secs, 7594 evals, 7544 steps, improv/step: 0.139 (last = 0.0000), fitness=0.000024732\n",
      "830.57 secs, 7599 evals, 7549 steps, improv/step: 0.139 (last = 0.0000), fitness=0.000024732\n",
      "831.13 secs, 7604 evals, 7554 steps, improv/step: 0.139 (last = 0.0000), fitness=0.000024732\n",
      "831.64 secs, 7609 evals, 7559 steps, improv/step: 0.139 (last = 0.0000), fitness=0.000024732\n",
      "832.16 secs, 7614 evals, 7564 steps, improv/step: 0.138 (last = 0.0000), fitness=0.000024732\n",
      "832.74 secs, 7619 evals, 7569 steps, improv/step: 0.138 (last = 0.0000), fitness=0.000024732\n",
      "833.33 secs, 7624 evals, 7574 steps, improv/step: 0.138 (last = 0.0000), fitness=0.000024732\n",
      "833.92 secs, 7630 evals, 7580 steps, improv/step: 0.138 (last = 0.3333), fitness=0.000024732\n",
      "834.47 secs, 7635 evals, 7585 steps, improv/step: 0.138 (last = 0.2000), fitness=0.000024732\n",
      "835.05 secs, 7641 evals, 7591 steps, improv/step: 0.138 (last = 0.0000), fitness=0.000024732\n",
      "835.61 secs, 7646 evals, 7596 steps, improv/step: 0.138 (last = 0.0000), fitness=0.000024732\n",
      "836.14 secs, 7651 evals, 7601 steps, improv/step: 0.138 (last = 0.0000), fitness=0.000024732\n"
     ]
    },
    {
     "name": "stdout",
     "output_type": "stream",
     "text": [
      "836.73 secs, 7657 evals, 7607 steps, improv/step: 0.138 (last = 0.0000), fitness=0.000024732\n",
      "837.33 secs, 7663 evals, 7613 steps, improv/step: 0.138 (last = 0.0000), fitness=0.000024732\n",
      "837.85 secs, 7668 evals, 7618 steps, improv/step: 0.138 (last = 0.0000), fitness=0.000024732\n",
      "838.39 secs, 7673 evals, 7623 steps, improv/step: 0.138 (last = 0.2000), fitness=0.000024732\n",
      "838.92 secs, 7678 evals, 7628 steps, improv/step: 0.138 (last = 0.0000), fitness=0.000024732\n",
      "839.51 secs, 7684 evals, 7634 steps, improv/step: 0.138 (last = 0.0000), fitness=0.000024732\n",
      "840.02 secs, 7689 evals, 7639 steps, improv/step: 0.138 (last = 0.2000), fitness=0.000024732\n",
      "840.60 secs, 7694 evals, 7644 steps, improv/step: 0.138 (last = 0.0000), fitness=0.000024732\n",
      "841.15 secs, 7699 evals, 7649 steps, improv/step: 0.138 (last = 0.0000), fitness=0.000024732\n",
      "841.69 secs, 7704 evals, 7654 steps, improv/step: 0.137 (last = 0.0000), fitness=0.000024732\n",
      "842.21 secs, 7709 evals, 7659 steps, improv/step: 0.137 (last = 0.2000), fitness=0.000024732\n",
      "842.72 secs, 7714 evals, 7664 steps, improv/step: 0.137 (last = 0.0000), fitness=0.000024732\n",
      "843.31 secs, 7719 evals, 7669 steps, improv/step: 0.137 (last = 0.0000), fitness=0.000024732\n",
      "843.84 secs, 7724 evals, 7674 steps, improv/step: 0.137 (last = 0.0000), fitness=0.000024732\n",
      "844.42 secs, 7729 evals, 7679 steps, improv/step: 0.137 (last = 0.0000), fitness=0.000024732\n",
      "844.95 secs, 7734 evals, 7684 steps, improv/step: 0.137 (last = 0.0000), fitness=0.000024732\n",
      "845.47 secs, 7739 evals, 7689 steps, improv/step: 0.137 (last = 0.2000), fitness=0.000024732\n",
      "846.06 secs, 7745 evals, 7695 steps, improv/step: 0.137 (last = 0.0000), fitness=0.000024732\n",
      "846.58 secs, 7750 evals, 7700 steps, improv/step: 0.137 (last = 0.0000), fitness=0.000024732\n",
      "847.10 secs, 7755 evals, 7705 steps, improv/step: 0.137 (last = 0.0000), fitness=0.000024732\n",
      "847.65 secs, 7760 evals, 7710 steps, improv/step: 0.137 (last = 0.0000), fitness=0.000024732\n",
      "848.19 secs, 7765 evals, 7715 steps, improv/step: 0.137 (last = 0.0000), fitness=0.000024732\n",
      "848.71 secs, 7770 evals, 7720 steps, improv/step: 0.137 (last = 0.0000), fitness=0.000024732\n",
      "849.22 secs, 7775 evals, 7725 steps, improv/step: 0.136 (last = 0.0000), fitness=0.000024732\n",
      "849.73 secs, 7780 evals, 7730 steps, improv/step: 0.136 (last = 0.0000), fitness=0.000024732\n",
      "850.25 secs, 7785 evals, 7735 steps, improv/step: 0.136 (last = 0.0000), fitness=0.000024732\n",
      "850.76 secs, 7790 evals, 7740 steps, improv/step: 0.136 (last = 0.0000), fitness=0.000024732\n",
      "851.27 secs, 7795 evals, 7745 steps, improv/step: 0.136 (last = 0.0000), fitness=0.000024732\n",
      "851.77 secs, 7800 evals, 7750 steps, improv/step: 0.136 (last = 0.0000), fitness=0.000024732\n",
      "852.29 secs, 7805 evals, 7755 steps, improv/step: 0.136 (last = 0.0000), fitness=0.000024732\n",
      "852.80 secs, 7810 evals, 7760 steps, improv/step: 0.136 (last = 0.0000), fitness=0.000024732\n",
      "853.37 secs, 7815 evals, 7765 steps, improv/step: 0.136 (last = 0.0000), fitness=0.000024732\n",
      "853.93 secs, 7820 evals, 7770 steps, improv/step: 0.136 (last = 0.0000), fitness=0.000024732\n",
      "854.43 secs, 7825 evals, 7775 steps, improv/step: 0.136 (last = 0.0000), fitness=0.000024732\n",
      "854.95 secs, 7830 evals, 7780 steps, improv/step: 0.135 (last = 0.0000), fitness=0.000024732\n",
      "855.46 secs, 7835 evals, 7785 steps, improv/step: 0.136 (last = 0.2000), fitness=0.000024732\n",
      "856.01 secs, 7840 evals, 7790 steps, improv/step: 0.135 (last = 0.0000), fitness=0.000024732\n",
      "856.52 secs, 7845 evals, 7795 steps, improv/step: 0.135 (last = 0.0000), fitness=0.000024732\n",
      "857.03 secs, 7850 evals, 7800 steps, improv/step: 0.135 (last = 0.0000), fitness=0.000024732\n",
      "857.62 secs, 7856 evals, 7806 steps, improv/step: 0.135 (last = 0.0000), fitness=0.000024732\n",
      "858.16 secs, 7861 evals, 7811 steps, improv/step: 0.135 (last = 0.2000), fitness=0.000024732\n",
      "858.69 secs, 7866 evals, 7816 steps, improv/step: 0.135 (last = 0.0000), fitness=0.000024732\n",
      "859.24 secs, 7871 evals, 7821 steps, improv/step: 0.135 (last = 0.0000), fitness=0.000024732\n",
      "859.76 secs, 7876 evals, 7826 steps, improv/step: 0.135 (last = 0.0000), fitness=0.000024732\n",
      "860.33 secs, 7882 evals, 7832 steps, improv/step: 0.135 (last = 0.0000), fitness=0.000024732\n",
      "860.89 secs, 7887 evals, 7837 steps, improv/step: 0.135 (last = 0.0000), fitness=0.000024732\n",
      "861.43 secs, 7892 evals, 7842 steps, improv/step: 0.135 (last = 0.0000), fitness=0.000024732\n",
      "862.02 secs, 7898 evals, 7849 steps, improv/step: 0.135 (last = 0.0000), fitness=0.000024732\n",
      "862.56 secs, 7902 evals, 7853 steps, improv/step: 0.134 (last = 0.0000), fitness=0.000024732\n",
      "863.10 secs, 7907 evals, 7858 steps, improv/step: 0.134 (last = 0.0000), fitness=0.000024732\n",
      "863.60 secs, 7912 evals, 7863 steps, improv/step: 0.134 (last = 0.0000), fitness=0.000024732\n",
      "864.15 secs, 7917 evals, 7868 steps, improv/step: 0.134 (last = 0.0000), fitness=0.000024732\n",
      "864.67 secs, 7922 evals, 7873 steps, improv/step: 0.134 (last = 0.0000), fitness=0.000024732\n",
      "865.25 secs, 7927 evals, 7878 steps, improv/step: 0.134 (last = 0.0000), fitness=0.000024732\n",
      "865.84 secs, 7933 evals, 7884 steps, improv/step: 0.134 (last = 0.0000), fitness=0.000024732\n",
      "866.36 secs, 7938 evals, 7889 steps, improv/step: 0.134 (last = 0.0000), fitness=0.000024732\n",
      "866.87 secs, 7943 evals, 7894 steps, improv/step: 0.134 (last = 0.0000), fitness=0.000024732\n",
      "867.41 secs, 7948 evals, 7899 steps, improv/step: 0.134 (last = 0.0000), fitness=0.000024732\n",
      "867.92 secs, 7953 evals, 7904 steps, improv/step: 0.134 (last = 0.0000), fitness=0.000024732\n",
      "868.45 secs, 7958 evals, 7909 steps, improv/step: 0.134 (last = 0.0000), fitness=0.000024732\n",
      "868.97 secs, 7963 evals, 7914 steps, improv/step: 0.134 (last = 0.2000), fitness=0.000024732\n",
      "869.49 secs, 7968 evals, 7919 steps, improv/step: 0.133 (last = 0.0000), fitness=0.000024732\n",
      "870.03 secs, 7973 evals, 7924 steps, improv/step: 0.133 (last = 0.0000), fitness=0.000024732\n",
      "870.56 secs, 7978 evals, 7929 steps, improv/step: 0.133 (last = 0.0000), fitness=0.000024732\n",
      "871.08 secs, 7983 evals, 7934 steps, improv/step: 0.133 (last = 0.2000), fitness=0.000024732\n",
      "871.65 secs, 7988 evals, 7939 steps, improv/step: 0.133 (last = 0.0000), fitness=0.000024732\n",
      "872.18 secs, 7993 evals, 7944 steps, improv/step: 0.133 (last = 0.0000), fitness=0.000024732\n",
      "872.78 secs, 7998 evals, 7949 steps, improv/step: 0.133 (last = 0.2000), fitness=0.000024732\n",
      "873.31 secs, 8003 evals, 7954 steps, improv/step: 0.133 (last = 0.0000), fitness=0.000024732\n",
      "873.83 secs, 8008 evals, 7959 steps, improv/step: 0.133 (last = 0.0000), fitness=0.000024732\n",
      "874.39 secs, 8013 evals, 7964 steps, improv/step: 0.133 (last = 0.0000), fitness=0.000024732\n",
      "874.94 secs, 8018 evals, 7969 steps, improv/step: 0.133 (last = 0.0000), fitness=0.000024732\n",
      "875.52 secs, 8023 evals, 7974 steps, improv/step: 0.133 (last = 0.0000), fitness=0.000024732\n",
      "876.06 secs, 8028 evals, 7979 steps, improv/step: 0.133 (last = 0.0000), fitness=0.000024732\n",
      "876.58 secs, 8033 evals, 7984 steps, improv/step: 0.133 (last = 0.0000), fitness=0.000024732\n",
      "877.19 secs, 8038 evals, 7989 steps, improv/step: 0.133 (last = 0.0000), fitness=0.000024732\n",
      "877.70 secs, 8042 evals, 7993 steps, improv/step: 0.132 (last = 0.0000), fitness=0.000024732\n",
      "878.26 secs, 8047 evals, 7998 steps, improv/step: 0.132 (last = 0.0000), fitness=0.000024732\n",
      "878.84 secs, 8052 evals, 8003 steps, improv/step: 0.132 (last = 0.0000), fitness=0.000024732\n",
      "879.38 secs, 8057 evals, 8008 steps, improv/step: 0.132 (last = 0.0000), fitness=0.000024732\n",
      "879.94 secs, 8062 evals, 8013 steps, improv/step: 0.132 (last = 0.0000), fitness=0.000024732\n",
      "880.45 secs, 8066 evals, 8017 steps, improv/step: 0.132 (last = 0.0000), fitness=0.000024732\n",
      "880.98 secs, 8071 evals, 8022 steps, improv/step: 0.132 (last = 0.0000), fitness=0.000024732\n",
      "881.57 secs, 8076 evals, 8027 steps, improv/step: 0.132 (last = 0.0000), fitness=0.000024732\n",
      "882.08 secs, 8081 evals, 8032 steps, improv/step: 0.132 (last = 0.0000), fitness=0.000024732\n",
      "882.63 secs, 8085 evals, 8036 steps, improv/step: 0.132 (last = 0.0000), fitness=0.000024732\n",
      "883.21 secs, 8090 evals, 8041 steps, improv/step: 0.132 (last = 0.0000), fitness=0.000024732\n",
      "883.77 secs, 8095 evals, 8046 steps, improv/step: 0.132 (last = 0.0000), fitness=0.000024732\n",
      "884.32 secs, 8100 evals, 8051 steps, improv/step: 0.132 (last = 0.0000), fitness=0.000024732\n"
     ]
    },
    {
     "name": "stdout",
     "output_type": "stream",
     "text": [
      "884.85 secs, 8105 evals, 8056 steps, improv/step: 0.131 (last = 0.0000), fitness=0.000024732\n",
      "885.45 secs, 8110 evals, 8061 steps, improv/step: 0.131 (last = 0.0000), fitness=0.000024732\n",
      "886.00 secs, 8115 evals, 8066 steps, improv/step: 0.131 (last = 0.0000), fitness=0.000024732\n",
      "886.55 secs, 8120 evals, 8071 steps, improv/step: 0.131 (last = 0.0000), fitness=0.000024732\n",
      "887.06 secs, 8125 evals, 8076 steps, improv/step: 0.131 (last = 0.0000), fitness=0.000024732\n",
      "887.57 secs, 8130 evals, 8081 steps, improv/step: 0.131 (last = 0.0000), fitness=0.000024732\n",
      "888.11 secs, 8135 evals, 8086 steps, improv/step: 0.131 (last = 0.0000), fitness=0.000024732\n",
      "888.64 secs, 8140 evals, 8091 steps, improv/step: 0.131 (last = 0.0000), fitness=0.000024732\n",
      "889.19 secs, 8145 evals, 8096 steps, improv/step: 0.131 (last = 0.0000), fitness=0.000024732\n",
      "889.71 secs, 8150 evals, 8101 steps, improv/step: 0.131 (last = 0.0000), fitness=0.000024732\n",
      "890.31 secs, 8156 evals, 8107 steps, improv/step: 0.131 (last = 0.1667), fitness=0.000024732\n",
      "890.84 secs, 8161 evals, 8112 steps, improv/step: 0.131 (last = 0.2000), fitness=0.000024732\n",
      "891.42 secs, 8166 evals, 8117 steps, improv/step: 0.131 (last = 0.0000), fitness=0.000024732\n",
      "891.95 secs, 8171 evals, 8122 steps, improv/step: 0.131 (last = 0.0000), fitness=0.000024732\n",
      "892.53 secs, 8177 evals, 8128 steps, improv/step: 0.131 (last = 0.0000), fitness=0.000024732\n",
      "893.03 secs, 8182 evals, 8133 steps, improv/step: 0.130 (last = 0.0000), fitness=0.000024732\n",
      "893.58 secs, 8187 evals, 8138 steps, improv/step: 0.130 (last = 0.0000), fitness=0.000024732\n",
      "894.16 secs, 8192 evals, 8143 steps, improv/step: 0.130 (last = 0.2000), fitness=0.000024732\n",
      "894.70 secs, 8197 evals, 8148 steps, improv/step: 0.130 (last = 0.0000), fitness=0.000024732\n",
      "895.25 secs, 8202 evals, 8153 steps, improv/step: 0.130 (last = 0.0000), fitness=0.000024732\n",
      "895.82 secs, 8207 evals, 8158 steps, improv/step: 0.130 (last = 0.2000), fitness=0.000024732\n",
      "896.39 secs, 8212 evals, 8163 steps, improv/step: 0.130 (last = 0.0000), fitness=0.000024732\n",
      "896.90 secs, 8217 evals, 8168 steps, improv/step: 0.130 (last = 0.0000), fitness=0.000024732\n",
      "897.41 secs, 8222 evals, 8173 steps, improv/step: 0.130 (last = 0.0000), fitness=0.000024732\n",
      "898.00 secs, 8227 evals, 8178 steps, improv/step: 0.130 (last = 0.0000), fitness=0.000024732\n",
      "898.52 secs, 8232 evals, 8183 steps, improv/step: 0.130 (last = 0.0000), fitness=0.000024732\n",
      "899.13 secs, 8237 evals, 8188 steps, improv/step: 0.130 (last = 0.0000), fitness=0.000024732\n",
      "899.68 secs, 8242 evals, 8193 steps, improv/step: 0.130 (last = 0.0000), fitness=0.000024732\n",
      "900.28 secs, 8248 evals, 8199 steps, improv/step: 0.130 (last = 0.0000), fitness=0.000024732\n",
      "900.79 secs, 8253 evals, 8204 steps, improv/step: 0.130 (last = 0.0000), fitness=0.000024732\n",
      "901.30 secs, 8258 evals, 8209 steps, improv/step: 0.129 (last = 0.0000), fitness=0.000024732\n",
      "901.88 secs, 8264 evals, 8215 steps, improv/step: 0.129 (last = 0.0000), fitness=0.000024732\n",
      "902.38 secs, 8269 evals, 8220 steps, improv/step: 0.129 (last = 0.2000), fitness=0.000024732\n",
      "902.94 secs, 8274 evals, 8225 steps, improv/step: 0.129 (last = 0.0000), fitness=0.000024732\n",
      "903.47 secs, 8279 evals, 8230 steps, improv/step: 0.129 (last = 0.2000), fitness=0.000024732\n",
      "903.99 secs, 8284 evals, 8235 steps, improv/step: 0.129 (last = 0.0000), fitness=0.000024732\n",
      "904.54 secs, 8289 evals, 8240 steps, improv/step: 0.129 (last = 0.0000), fitness=0.000024732\n",
      "905.17 secs, 8295 evals, 8246 steps, improv/step: 0.129 (last = 0.0000), fitness=0.000024732\n",
      "905.74 secs, 8300 evals, 8251 steps, improv/step: 0.129 (last = 0.0000), fitness=0.000024732\n",
      "906.25 secs, 8305 evals, 8256 steps, improv/step: 0.129 (last = 0.0000), fitness=0.000024732\n",
      "906.81 secs, 8310 evals, 8261 steps, improv/step: 0.129 (last = 0.0000), fitness=0.000024732\n",
      "907.33 secs, 8315 evals, 8266 steps, improv/step: 0.129 (last = 0.0000), fitness=0.000024732\n",
      "907.85 secs, 8320 evals, 8271 steps, improv/step: 0.129 (last = 0.0000), fitness=0.000024732\n",
      "908.35 secs, 8325 evals, 8276 steps, improv/step: 0.129 (last = 0.0000), fitness=0.000024732\n",
      "908.95 secs, 8331 evals, 8282 steps, improv/step: 0.129 (last = 0.0000), fitness=0.000024732\n",
      "909.47 secs, 8336 evals, 8287 steps, improv/step: 0.129 (last = 0.0000), fitness=0.000024732\n",
      "909.99 secs, 8341 evals, 8292 steps, improv/step: 0.128 (last = 0.0000), fitness=0.000024732\n",
      "910.50 secs, 8346 evals, 8297 steps, improv/step: 0.128 (last = 0.0000), fitness=0.000024732\n",
      "911.00 secs, 8351 evals, 8302 steps, improv/step: 0.128 (last = 0.0000), fitness=0.000024732\n",
      "911.52 secs, 8356 evals, 8307 steps, improv/step: 0.128 (last = 0.2000), fitness=0.000024732\n",
      "912.08 secs, 8361 evals, 8312 steps, improv/step: 0.128 (last = 0.0000), fitness=0.000024732\n",
      "912.59 secs, 8366 evals, 8317 steps, improv/step: 0.128 (last = 0.0000), fitness=0.000024732\n",
      "913.18 secs, 8372 evals, 8323 steps, improv/step: 0.128 (last = 0.0000), fitness=0.000024732\n",
      "913.70 secs, 8377 evals, 8328 steps, improv/step: 0.128 (last = 0.0000), fitness=0.000024732\n",
      "914.20 secs, 8382 evals, 8333 steps, improv/step: 0.128 (last = 0.0000), fitness=0.000024732\n",
      "914.70 secs, 8387 evals, 8338 steps, improv/step: 0.128 (last = 0.0000), fitness=0.000024732\n",
      "915.23 secs, 8392 evals, 8343 steps, improv/step: 0.128 (last = 0.0000), fitness=0.000024732\n",
      "915.82 secs, 8398 evals, 8349 steps, improv/step: 0.128 (last = 0.0000), fitness=0.000024732\n",
      "916.40 secs, 8404 evals, 8355 steps, improv/step: 0.128 (last = 0.0000), fitness=0.000024732\n",
      "916.98 secs, 8410 evals, 8361 steps, improv/step: 0.127 (last = 0.0000), fitness=0.000024732\n",
      "917.57 secs, 8416 evals, 8367 steps, improv/step: 0.127 (last = 0.0000), fitness=0.000024732\n",
      "918.12 secs, 8421 evals, 8372 steps, improv/step: 0.127 (last = 0.0000), fitness=0.000024732\n",
      "918.65 secs, 8426 evals, 8377 steps, improv/step: 0.127 (last = 0.0000), fitness=0.000024732\n",
      "919.24 secs, 8432 evals, 8383 steps, improv/step: 0.127 (last = 0.0000), fitness=0.000024732\n",
      "919.79 secs, 8437 evals, 8388 steps, improv/step: 0.127 (last = 0.0000), fitness=0.000024732\n",
      "920.34 secs, 8442 evals, 8393 steps, improv/step: 0.127 (last = 0.0000), fitness=0.000024732\n",
      "920.85 secs, 8447 evals, 8398 steps, improv/step: 0.127 (last = 0.0000), fitness=0.000024732\n",
      "921.37 secs, 8452 evals, 8403 steps, improv/step: 0.127 (last = 0.0000), fitness=0.000024732\n",
      "921.97 secs, 8458 evals, 8409 steps, improv/step: 0.127 (last = 0.0000), fitness=0.000024732\n",
      "922.49 secs, 8463 evals, 8414 steps, improv/step: 0.127 (last = 0.2000), fitness=0.000024732\n",
      "923.09 secs, 8468 evals, 8419 steps, improv/step: 0.127 (last = 0.0000), fitness=0.000024732\n",
      "923.60 secs, 8473 evals, 8424 steps, improv/step: 0.127 (last = 0.0000), fitness=0.000024732\n",
      "924.15 secs, 8478 evals, 8429 steps, improv/step: 0.127 (last = 0.0000), fitness=0.000024732\n",
      "924.67 secs, 8483 evals, 8434 steps, improv/step: 0.127 (last = 0.0000), fitness=0.000024732\n",
      "925.26 secs, 8489 evals, 8440 steps, improv/step: 0.126 (last = 0.0000), fitness=0.000024732\n",
      "925.86 secs, 8495 evals, 8446 steps, improv/step: 0.126 (last = 0.0000), fitness=0.000024732\n",
      "926.44 secs, 8501 evals, 8452 steps, improv/step: 0.126 (last = 0.0000), fitness=0.000024732\n",
      "926.94 secs, 8506 evals, 8457 steps, improv/step: 0.126 (last = 0.0000), fitness=0.000024732\n",
      "927.50 secs, 8511 evals, 8462 steps, improv/step: 0.126 (last = 0.0000), fitness=0.000024732\n",
      "928.03 secs, 8516 evals, 8467 steps, improv/step: 0.126 (last = 0.0000), fitness=0.000024732\n",
      "928.61 secs, 8522 evals, 8473 steps, improv/step: 0.126 (last = 0.0000), fitness=0.000024732\n",
      "929.21 secs, 8528 evals, 8479 steps, improv/step: 0.126 (last = 0.1667), fitness=0.000024732\n",
      "929.74 secs, 8533 evals, 8484 steps, improv/step: 0.126 (last = 0.2000), fitness=0.000024732\n",
      "930.26 secs, 8538 evals, 8489 steps, improv/step: 0.126 (last = 0.0000), fitness=0.000024732\n",
      "930.77 secs, 8543 evals, 8494 steps, improv/step: 0.126 (last = 0.2000), fitness=0.000024732\n",
      "931.32 secs, 8547 evals, 8498 steps, improv/step: 0.126 (last = 0.0000), fitness=0.000024732\n",
      "931.83 secs, 8552 evals, 8503 steps, improv/step: 0.126 (last = 0.0000), fitness=0.000024732\n",
      "932.40 secs, 8558 evals, 8509 steps, improv/step: 0.126 (last = 0.0000), fitness=0.000024732\n",
      "932.98 secs, 8564 evals, 8515 steps, improv/step: 0.126 (last = 0.0000), fitness=0.000024732\n"
     ]
    },
    {
     "name": "stdout",
     "output_type": "stream",
     "text": [
      "933.49 secs, 8569 evals, 8520 steps, improv/step: 0.126 (last = 0.0000), fitness=0.000024732\n",
      "934.02 secs, 8574 evals, 8525 steps, improv/step: 0.126 (last = 0.0000), fitness=0.000024732\n",
      "934.57 secs, 8579 evals, 8530 steps, improv/step: 0.125 (last = 0.0000), fitness=0.000024732\n",
      "935.10 secs, 8584 evals, 8535 steps, improv/step: 0.125 (last = 0.2000), fitness=0.000024732\n",
      "935.68 secs, 8590 evals, 8541 steps, improv/step: 0.125 (last = 0.0000), fitness=0.000024732\n",
      "936.25 secs, 8596 evals, 8547 steps, improv/step: 0.125 (last = 0.0000), fitness=0.000024732\n",
      "936.79 secs, 8601 evals, 8552 steps, improv/step: 0.125 (last = 0.0000), fitness=0.000024732\n",
      "937.30 secs, 8606 evals, 8557 steps, improv/step: 0.125 (last = 0.0000), fitness=0.000024732\n",
      "937.80 secs, 8611 evals, 8562 steps, improv/step: 0.125 (last = 0.0000), fitness=0.000024732\n",
      "938.37 secs, 8617 evals, 8568 steps, improv/step: 0.125 (last = 0.1667), fitness=0.000024732\n",
      "938.94 secs, 8623 evals, 8574 steps, improv/step: 0.125 (last = 0.0000), fitness=0.000024732\n",
      "939.54 secs, 8629 evals, 8580 steps, improv/step: 0.125 (last = 0.0000), fitness=0.000024732\n",
      "940.11 secs, 8635 evals, 8586 steps, improv/step: 0.125 (last = 0.0000), fitness=0.000024732\n",
      "940.64 secs, 8640 evals, 8591 steps, improv/step: 0.125 (last = 0.2000), fitness=0.000024732\n",
      "941.15 secs, 8645 evals, 8596 steps, improv/step: 0.125 (last = 0.0000), fitness=0.000024732\n",
      "941.69 secs, 8650 evals, 8601 steps, improv/step: 0.125 (last = 0.0000), fitness=0.000024732\n",
      "942.27 secs, 8656 evals, 8607 steps, improv/step: 0.125 (last = 0.0000), fitness=0.000024732\n",
      "942.88 secs, 8662 evals, 8613 steps, improv/step: 0.125 (last = 0.0000), fitness=0.000024732\n",
      "943.45 secs, 8668 evals, 8619 steps, improv/step: 0.125 (last = 0.1667), fitness=0.000024732\n",
      "943.98 secs, 8673 evals, 8624 steps, improv/step: 0.125 (last = 0.2000), fitness=0.000024732\n",
      "944.49 secs, 8678 evals, 8629 steps, improv/step: 0.125 (last = 0.2000), fitness=0.000024732\n",
      "944.99 secs, 8683 evals, 8634 steps, improv/step: 0.125 (last = 0.0000), fitness=0.000024732\n",
      "945.50 secs, 8688 evals, 8639 steps, improv/step: 0.125 (last = 0.0000), fitness=0.000024732\n",
      "946.06 secs, 8693 evals, 8644 steps, improv/step: 0.124 (last = 0.0000), fitness=0.000024732\n",
      "946.62 secs, 8698 evals, 8649 steps, improv/step: 0.124 (last = 0.0000), fitness=0.000024732\n",
      "947.19 secs, 8704 evals, 8655 steps, improv/step: 0.124 (last = 0.0000), fitness=0.000024732\n",
      "947.72 secs, 8709 evals, 8660 steps, improv/step: 0.124 (last = 0.0000), fitness=0.000024732\n",
      "948.28 secs, 8714 evals, 8665 steps, improv/step: 0.124 (last = 0.2000), fitness=0.000024732\n",
      "948.79 secs, 8719 evals, 8670 steps, improv/step: 0.124 (last = 0.0000), fitness=0.000024732\n",
      "949.37 secs, 8725 evals, 8676 steps, improv/step: 0.124 (last = 0.0000), fitness=0.000024732\n",
      "949.93 secs, 8730 evals, 8681 steps, improv/step: 0.124 (last = 0.0000), fitness=0.000024732\n",
      "950.55 secs, 8736 evals, 8687 steps, improv/step: 0.124 (last = 0.0000), fitness=0.000024732\n",
      "951.13 secs, 8742 evals, 8693 steps, improv/step: 0.124 (last = 0.0000), fitness=0.000024732\n",
      "951.73 secs, 8748 evals, 8699 steps, improv/step: 0.124 (last = 0.0000), fitness=0.000024732\n",
      "952.29 secs, 8754 evals, 8705 steps, improv/step: 0.124 (last = 0.1667), fitness=0.000024732\n",
      "952.81 secs, 8759 evals, 8710 steps, improv/step: 0.124 (last = 0.0000), fitness=0.000024732\n",
      "953.34 secs, 8764 evals, 8715 steps, improv/step: 0.124 (last = 0.0000), fitness=0.000024732\n",
      "953.94 secs, 8770 evals, 8721 steps, improv/step: 0.124 (last = 0.0000), fitness=0.000024732\n",
      "954.50 secs, 8775 evals, 8726 steps, improv/step: 0.124 (last = 0.0000), fitness=0.000024732\n",
      "955.08 secs, 8781 evals, 8732 steps, improv/step: 0.123 (last = 0.0000), fitness=0.000024732\n",
      "955.59 secs, 8786 evals, 8737 steps, improv/step: 0.123 (last = 0.0000), fitness=0.000024732\n",
      "956.17 secs, 8792 evals, 8743 steps, improv/step: 0.123 (last = 0.0000), fitness=0.000024732\n",
      "956.69 secs, 8797 evals, 8748 steps, improv/step: 0.123 (last = 0.0000), fitness=0.000024732\n",
      "957.21 secs, 8802 evals, 8753 steps, improv/step: 0.123 (last = 0.0000), fitness=0.000024732\n",
      "957.74 secs, 8807 evals, 8758 steps, improv/step: 0.123 (last = 0.0000), fitness=0.000024732\n",
      "958.33 secs, 8812 evals, 8763 steps, improv/step: 0.123 (last = 0.0000), fitness=0.000024732\n",
      "958.84 secs, 8817 evals, 8768 steps, improv/step: 0.123 (last = 0.0000), fitness=0.000024732\n",
      "959.41 secs, 8822 evals, 8773 steps, improv/step: 0.123 (last = 0.0000), fitness=0.000024732\n",
      "959.93 secs, 8827 evals, 8778 steps, improv/step: 0.123 (last = 0.0000), fitness=0.000024732\n",
      "960.45 secs, 8832 evals, 8783 steps, improv/step: 0.123 (last = 0.0000), fitness=0.000024732\n",
      "960.96 secs, 8837 evals, 8788 steps, improv/step: 0.123 (last = 0.0000), fitness=0.000024732\n",
      "961.51 secs, 8842 evals, 8793 steps, improv/step: 0.123 (last = 0.0000), fitness=0.000024732\n",
      "962.11 secs, 8847 evals, 8798 steps, improv/step: 0.123 (last = 0.0000), fitness=0.000024732\n",
      "962.65 secs, 8852 evals, 8803 steps, improv/step: 0.122 (last = 0.0000), fitness=0.000024732\n",
      "963.25 secs, 8858 evals, 8809 steps, improv/step: 0.122 (last = 0.0000), fitness=0.000024732\n",
      "963.82 secs, 8863 evals, 8814 steps, improv/step: 0.122 (last = 0.0000), fitness=0.000024732\n",
      "964.35 secs, 8868 evals, 8819 steps, improv/step: 0.122 (last = 0.0000), fitness=0.000024732\n",
      "964.95 secs, 8872 evals, 8823 steps, improv/step: 0.122 (last = 0.0000), fitness=0.000024732\n",
      "965.46 secs, 8877 evals, 8828 steps, improv/step: 0.122 (last = 0.0000), fitness=0.000024732\n",
      "966.06 secs, 8883 evals, 8834 steps, improv/step: 0.122 (last = 0.0000), fitness=0.000024732\n",
      "966.65 secs, 8889 evals, 8840 steps, improv/step: 0.122 (last = 0.1667), fitness=0.000024732\n",
      "967.18 secs, 8894 evals, 8845 steps, improv/step: 0.122 (last = 0.0000), fitness=0.000024732\n",
      "967.70 secs, 8899 evals, 8850 steps, improv/step: 0.122 (last = 0.0000), fitness=0.000024732\n",
      "968.25 secs, 8905 evals, 8856 steps, improv/step: 0.122 (last = 0.0000), fitness=0.000024732\n",
      "968.77 secs, 8910 evals, 8861 steps, improv/step: 0.122 (last = 0.0000), fitness=0.000024732\n",
      "969.34 secs, 8916 evals, 8867 steps, improv/step: 0.122 (last = 0.0000), fitness=0.000024732\n",
      "969.84 secs, 8921 evals, 8872 steps, improv/step: 0.122 (last = 0.0000), fitness=0.000024732\n",
      "970.35 secs, 8926 evals, 8877 steps, improv/step: 0.122 (last = 0.0000), fitness=0.000024732\n",
      "970.95 secs, 8932 evals, 8883 steps, improv/step: 0.121 (last = 0.0000), fitness=0.000024732\n",
      "971.52 secs, 8937 evals, 8888 steps, improv/step: 0.121 (last = 0.0000), fitness=0.000024732\n",
      "972.04 secs, 8942 evals, 8893 steps, improv/step: 0.121 (last = 0.0000), fitness=0.000024732\n",
      "972.56 secs, 8947 evals, 8898 steps, improv/step: 0.121 (last = 0.0000), fitness=0.000024732\n",
      "973.08 secs, 8952 evals, 8903 steps, improv/step: 0.121 (last = 0.0000), fitness=0.000024732\n",
      "973.64 secs, 8957 evals, 8908 steps, improv/step: 0.121 (last = 0.0000), fitness=0.000024732\n",
      "974.23 secs, 8963 evals, 8914 steps, improv/step: 0.121 (last = 0.0000), fitness=0.000024732\n",
      "974.76 secs, 8968 evals, 8919 steps, improv/step: 0.121 (last = 0.0000), fitness=0.000024732\n",
      "975.26 secs, 8973 evals, 8924 steps, improv/step: 0.121 (last = 0.0000), fitness=0.000024732\n",
      "975.85 secs, 8979 evals, 8930 steps, improv/step: 0.121 (last = 0.0000), fitness=0.000024732\n",
      "976.44 secs, 8985 evals, 8936 steps, improv/step: 0.121 (last = 0.0000), fitness=0.000024732\n",
      "976.94 secs, 8990 evals, 8941 steps, improv/step: 0.121 (last = 0.0000), fitness=0.000024732\n",
      "977.53 secs, 8995 evals, 8946 steps, improv/step: 0.121 (last = 0.0000), fitness=0.000024732\n",
      "978.09 secs, 9000 evals, 8951 steps, improv/step: 0.121 (last = 0.0000), fitness=0.000024732\n",
      "978.65 secs, 9005 evals, 8956 steps, improv/step: 0.120 (last = 0.0000), fitness=0.000024732\n",
      "979.20 secs, 9010 evals, 8961 steps, improv/step: 0.120 (last = 0.0000), fitness=0.000024732\n",
      "979.71 secs, 9015 evals, 8966 steps, improv/step: 0.120 (last = 0.2000), fitness=0.000024732\n",
      "980.22 secs, 9020 evals, 8971 steps, improv/step: 0.120 (last = 0.0000), fitness=0.000024732\n",
      "980.81 secs, 9026 evals, 8977 steps, improv/step: 0.120 (last = 0.0000), fitness=0.000024732\n",
      "981.34 secs, 9031 evals, 8982 steps, improv/step: 0.120 (last = 0.0000), fitness=0.000024732\n",
      "981.85 secs, 9036 evals, 8987 steps, improv/step: 0.120 (last = 0.0000), fitness=0.000024732\n"
     ]
    },
    {
     "name": "stdout",
     "output_type": "stream",
     "text": [
      "982.37 secs, 9041 evals, 8992 steps, improv/step: 0.120 (last = 0.0000), fitness=0.000024732\n",
      "982.96 secs, 9046 evals, 8997 steps, improv/step: 0.120 (last = 0.0000), fitness=0.000024732\n",
      "983.50 secs, 9051 evals, 9002 steps, improv/step: 0.120 (last = 0.0000), fitness=0.000024732\n",
      "984.09 secs, 9057 evals, 9008 steps, improv/step: 0.120 (last = 0.0000), fitness=0.000024732\n",
      "984.66 secs, 9062 evals, 9013 steps, improv/step: 0.120 (last = 0.4000), fitness=0.000024732\n",
      "985.16 secs, 9067 evals, 9018 steps, improv/step: 0.120 (last = 0.0000), fitness=0.000024732\n",
      "985.71 secs, 9072 evals, 9023 steps, improv/step: 0.120 (last = 0.0000), fitness=0.000024732\n",
      "986.21 secs, 9077 evals, 9028 steps, improv/step: 0.120 (last = 0.0000), fitness=0.000024732\n",
      "986.74 secs, 9082 evals, 9033 steps, improv/step: 0.120 (last = 0.0000), fitness=0.000024732\n",
      "987.34 secs, 9088 evals, 9039 steps, improv/step: 0.120 (last = 0.0000), fitness=0.000024732\n",
      "987.90 secs, 9093 evals, 9044 steps, improv/step: 0.120 (last = 0.0000), fitness=0.000024732\n",
      "988.46 secs, 9098 evals, 9049 steps, improv/step: 0.120 (last = 0.0000), fitness=0.000024732\n",
      "989.00 secs, 9103 evals, 9054 steps, improv/step: 0.120 (last = 0.2000), fitness=0.000024732\n",
      "989.51 secs, 9108 evals, 9059 steps, improv/step: 0.120 (last = 0.0000), fitness=0.000024732\n",
      "990.06 secs, 9113 evals, 9064 steps, improv/step: 0.119 (last = 0.0000), fitness=0.000024732\n",
      "990.64 secs, 9119 evals, 9070 steps, improv/step: 0.119 (last = 0.0000), fitness=0.000024732\n",
      "991.16 secs, 9124 evals, 9075 steps, improv/step: 0.119 (last = 0.0000), fitness=0.000024732\n",
      "991.73 secs, 9130 evals, 9081 steps, improv/step: 0.119 (last = 0.0000), fitness=0.000024732\n",
      "992.31 secs, 9135 evals, 9086 steps, improv/step: 0.119 (last = 0.0000), fitness=0.000024732\n",
      "992.90 secs, 9141 evals, 9092 steps, improv/step: 0.119 (last = 0.0000), fitness=0.000024732\n",
      "993.41 secs, 9146 evals, 9097 steps, improv/step: 0.119 (last = 0.0000), fitness=0.000024732\n",
      "993.96 secs, 9151 evals, 9102 steps, improv/step: 0.119 (last = 0.0000), fitness=0.000024732\n",
      "994.49 secs, 9156 evals, 9107 steps, improv/step: 0.119 (last = 0.0000), fitness=0.000024732\n",
      "995.04 secs, 9161 evals, 9112 steps, improv/step: 0.119 (last = 0.0000), fitness=0.000024732\n",
      "995.54 secs, 9166 evals, 9117 steps, improv/step: 0.119 (last = 0.0000), fitness=0.000024732\n",
      "996.08 secs, 9171 evals, 9122 steps, improv/step: 0.119 (last = 0.0000), fitness=0.000024732\n",
      "996.58 secs, 9176 evals, 9127 steps, improv/step: 0.119 (last = 0.0000), fitness=0.000024732\n",
      "997.10 secs, 9181 evals, 9132 steps, improv/step: 0.119 (last = 0.0000), fitness=0.000024732\n",
      "997.60 secs, 9186 evals, 9137 steps, improv/step: 0.119 (last = 0.0000), fitness=0.000024732\n",
      "998.12 secs, 9191 evals, 9142 steps, improv/step: 0.119 (last = 0.2000), fitness=0.000024732\n",
      "998.64 secs, 9196 evals, 9147 steps, improv/step: 0.119 (last = 0.0000), fitness=0.000024732\n",
      "999.21 secs, 9200 evals, 9151 steps, improv/step: 0.118 (last = 0.0000), fitness=0.000024732\n",
      "999.75 secs, 9205 evals, 9156 steps, improv/step: 0.118 (last = 0.0000), fitness=0.000024732\n",
      "1000.32 secs, 9211 evals, 9162 steps, improv/step: 0.118 (last = 0.0000), fitness=0.000024732\n",
      "1000.90 secs, 9217 evals, 9168 steps, improv/step: 0.118 (last = 0.0000), fitness=0.000024732\n",
      "1001.47 secs, 9223 evals, 9174 steps, improv/step: 0.118 (last = 0.0000), fitness=0.000024732\n",
      "1001.99 secs, 9228 evals, 9179 steps, improv/step: 0.118 (last = 0.0000), fitness=0.000024732\n",
      "1002.57 secs, 9234 evals, 9185 steps, improv/step: 0.118 (last = 0.0000), fitness=0.000024732\n",
      "1003.16 secs, 9239 evals, 9190 steps, improv/step: 0.118 (last = 0.0000), fitness=0.000024732\n",
      "1003.69 secs, 9244 evals, 9195 steps, improv/step: 0.118 (last = 0.0000), fitness=0.000024732\n",
      "1004.27 secs, 9250 evals, 9201 steps, improv/step: 0.118 (last = 0.0000), fitness=0.000024732\n",
      "1004.85 secs, 9256 evals, 9207 steps, improv/step: 0.118 (last = 0.0000), fitness=0.000024732\n",
      "1005.41 secs, 9261 evals, 9212 steps, improv/step: 0.118 (last = 0.0000), fitness=0.000024732\n",
      "1005.98 secs, 9266 evals, 9217 steps, improv/step: 0.118 (last = 0.0000), fitness=0.000024732\n",
      "1006.52 secs, 9271 evals, 9222 steps, improv/step: 0.118 (last = 0.0000), fitness=0.000024732\n",
      "1007.10 secs, 9277 evals, 9228 steps, improv/step: 0.117 (last = 0.0000), fitness=0.000024732\n",
      "1007.68 secs, 9283 evals, 9234 steps, improv/step: 0.118 (last = 0.1667), fitness=0.000024732\n",
      "1008.19 secs, 9288 evals, 9239 steps, improv/step: 0.117 (last = 0.0000), fitness=0.000024732\n",
      "1008.70 secs, 9293 evals, 9244 steps, improv/step: 0.118 (last = 0.4000), fitness=0.000024732\n",
      "1009.29 secs, 9299 evals, 9250 steps, improv/step: 0.118 (last = 0.0000), fitness=0.000024732\n",
      "1009.80 secs, 9304 evals, 9255 steps, improv/step: 0.117 (last = 0.0000), fitness=0.000024732\n",
      "1010.32 secs, 9309 evals, 9260 steps, improv/step: 0.117 (last = 0.0000), fitness=0.000024732\n",
      "1010.84 secs, 9314 evals, 9265 steps, improv/step: 0.117 (last = 0.0000), fitness=0.000024732\n",
      "1011.37 secs, 9319 evals, 9270 steps, improv/step: 0.117 (last = 0.0000), fitness=0.000024732\n",
      "1011.89 secs, 9324 evals, 9275 steps, improv/step: 0.117 (last = 0.0000), fitness=0.000024732\n",
      "1012.42 secs, 9329 evals, 9280 steps, improv/step: 0.117 (last = 0.2000), fitness=0.000024732\n",
      "1012.94 secs, 9334 evals, 9285 steps, improv/step: 0.117 (last = 0.0000), fitness=0.000024732\n",
      "1013.44 secs, 9339 evals, 9290 steps, improv/step: 0.117 (last = 0.0000), fitness=0.000024732\n",
      "1013.96 secs, 9344 evals, 9295 steps, improv/step: 0.117 (last = 0.0000), fitness=0.000024732\n",
      "1014.52 secs, 9349 evals, 9300 steps, improv/step: 0.117 (last = 0.0000), fitness=0.000024732\n",
      "1015.02 secs, 9354 evals, 9305 steps, improv/step: 0.117 (last = 0.0000), fitness=0.000024732\n",
      "1015.57 secs, 9359 evals, 9310 steps, improv/step: 0.117 (last = 0.0000), fitness=0.000024732\n",
      "1016.08 secs, 9364 evals, 9315 steps, improv/step: 0.117 (last = 0.0000), fitness=0.000024732\n",
      "1016.58 secs, 9369 evals, 9320 steps, improv/step: 0.117 (last = 0.0000), fitness=0.000024732\n",
      "1017.16 secs, 9375 evals, 9326 steps, improv/step: 0.117 (last = 0.0000), fitness=0.000024732\n",
      "1017.71 secs, 9380 evals, 9331 steps, improv/step: 0.117 (last = 0.0000), fitness=0.000024732\n",
      "1018.30 secs, 9386 evals, 9337 steps, improv/step: 0.117 (last = 0.1667), fitness=0.000024732\n",
      "1018.84 secs, 9391 evals, 9342 steps, improv/step: 0.117 (last = 0.0000), fitness=0.000024732\n",
      "1019.34 secs, 9396 evals, 9347 steps, improv/step: 0.117 (last = 0.0000), fitness=0.000024732\n",
      "1019.85 secs, 9401 evals, 9352 steps, improv/step: 0.116 (last = 0.0000), fitness=0.000024732\n",
      "1020.35 secs, 9406 evals, 9357 steps, improv/step: 0.116 (last = 0.2000), fitness=0.000024732\n",
      "1020.97 secs, 9412 evals, 9363 steps, improv/step: 0.116 (last = 0.0000), fitness=0.000024732\n",
      "1021.57 secs, 9417 evals, 9368 steps, improv/step: 0.116 (last = 0.2000), fitness=0.000024732\n",
      "1022.10 secs, 9422 evals, 9373 steps, improv/step: 0.116 (last = 0.0000), fitness=0.000024732\n",
      "1022.65 secs, 9427 evals, 9378 steps, improv/step: 0.116 (last = 0.0000), fitness=0.000024732\n",
      "1023.19 secs, 9432 evals, 9383 steps, improv/step: 0.116 (last = 0.0000), fitness=0.000024732\n",
      "1023.69 secs, 9437 evals, 9388 steps, improv/step: 0.116 (last = 0.0000), fitness=0.000024732\n",
      "1024.20 secs, 9442 evals, 9393 steps, improv/step: 0.116 (last = 0.0000), fitness=0.000024732\n",
      "1024.77 secs, 9447 evals, 9398 steps, improv/step: 0.116 (last = 0.0000), fitness=0.000024732\n",
      "1025.36 secs, 9453 evals, 9404 steps, improv/step: 0.116 (last = 0.0000), fitness=0.000024732\n",
      "1025.86 secs, 9458 evals, 9409 steps, improv/step: 0.116 (last = 0.0000), fitness=0.000024732\n",
      "1026.38 secs, 9463 evals, 9414 steps, improv/step: 0.116 (last = 0.0000), fitness=0.000024732\n",
      "1026.96 secs, 9468 evals, 9419 steps, improv/step: 0.116 (last = 0.0000), fitness=0.000024732\n",
      "1027.47 secs, 9473 evals, 9424 steps, improv/step: 0.116 (last = 0.0000), fitness=0.000024732\n",
      "1028.01 secs, 9478 evals, 9429 steps, improv/step: 0.116 (last = 0.0000), fitness=0.000024732\n",
      "1028.55 secs, 9483 evals, 9434 steps, improv/step: 0.116 (last = 0.0000), fitness=0.000024732\n",
      "1029.11 secs, 9488 evals, 9439 steps, improv/step: 0.116 (last = 0.0000), fitness=0.000024732\n",
      "1029.64 secs, 9493 evals, 9444 steps, improv/step: 0.116 (last = 0.2000), fitness=0.000024732\n"
     ]
    },
    {
     "name": "stdout",
     "output_type": "stream",
     "text": [
      "1030.23 secs, 9498 evals, 9449 steps, improv/step: 0.116 (last = 0.0000), fitness=0.000024732\n",
      "1030.79 secs, 9503 evals, 9454 steps, improv/step: 0.116 (last = 0.0000), fitness=0.000024732\n",
      "1031.35 secs, 9508 evals, 9459 steps, improv/step: 0.116 (last = 0.2000), fitness=0.000024732\n",
      "1031.87 secs, 9513 evals, 9464 steps, improv/step: 0.115 (last = 0.0000), fitness=0.000024732\n",
      "1032.46 secs, 9519 evals, 9470 steps, improv/step: 0.115 (last = 0.0000), fitness=0.000024732\n",
      "1032.98 secs, 9523 evals, 9474 steps, improv/step: 0.115 (last = 0.0000), fitness=0.000024732\n",
      "1033.56 secs, 9529 evals, 9480 steps, improv/step: 0.115 (last = 0.0000), fitness=0.000024732\n",
      "1034.07 secs, 9534 evals, 9485 steps, improv/step: 0.115 (last = 0.0000), fitness=0.000024732\n",
      "1034.64 secs, 9540 evals, 9491 steps, improv/step: 0.115 (last = 0.1667), fitness=0.000024732\n",
      "1035.23 secs, 9546 evals, 9497 steps, improv/step: 0.115 (last = 0.0000), fitness=0.000024732\n",
      "1035.73 secs, 9551 evals, 9502 steps, improv/step: 0.115 (last = 0.2000), fitness=0.000024732\n",
      "1036.24 secs, 9556 evals, 9507 steps, improv/step: 0.115 (last = 0.0000), fitness=0.000024732\n",
      "1036.76 secs, 9561 evals, 9512 steps, improv/step: 0.115 (last = 0.0000), fitness=0.000024732\n",
      "1037.33 secs, 9567 evals, 9518 steps, improv/step: 0.115 (last = 0.0000), fitness=0.000024732\n",
      "1037.92 secs, 9573 evals, 9524 steps, improv/step: 0.115 (last = 0.0000), fitness=0.000024732\n",
      "1038.51 secs, 9579 evals, 9530 steps, improv/step: 0.115 (last = 0.0000), fitness=0.000024732\n",
      "1039.11 secs, 9585 evals, 9536 steps, improv/step: 0.115 (last = 0.0000), fitness=0.000024732\n",
      "1039.68 secs, 9591 evals, 9542 steps, improv/step: 0.115 (last = 0.0000), fitness=0.000024732\n",
      "1040.20 secs, 9596 evals, 9547 steps, improv/step: 0.115 (last = 0.2000), fitness=0.000024732\n",
      "1040.80 secs, 9602 evals, 9553 steps, improv/step: 0.115 (last = 0.0000), fitness=0.000024732\n",
      "1041.43 secs, 9608 evals, 9559 steps, improv/step: 0.115 (last = 0.0000), fitness=0.000024732\n",
      "1041.98 secs, 9613 evals, 9564 steps, improv/step: 0.115 (last = 0.0000), fitness=0.000024732\n",
      "1042.49 secs, 9618 evals, 9569 steps, improv/step: 0.115 (last = 0.0000), fitness=0.000024732\n",
      "1042.99 secs, 9623 evals, 9574 steps, improv/step: 0.114 (last = 0.0000), fitness=0.000024732\n",
      "1043.58 secs, 9629 evals, 9580 steps, improv/step: 0.114 (last = 0.0000), fitness=0.000024732\n",
      "1044.18 secs, 9635 evals, 9586 steps, improv/step: 0.114 (last = 0.0000), fitness=0.000024732\n",
      "1044.74 secs, 9640 evals, 9591 steps, improv/step: 0.114 (last = 0.0000), fitness=0.000024732\n",
      "1045.33 secs, 9646 evals, 9597 steps, improv/step: 0.114 (last = 0.0000), fitness=0.000024732\n",
      "1045.91 secs, 9652 evals, 9603 steps, improv/step: 0.114 (last = 0.0000), fitness=0.000024732\n",
      "1046.49 secs, 9657 evals, 9608 steps, improv/step: 0.114 (last = 0.0000), fitness=0.000024732\n",
      "1046.99 secs, 9661 evals, 9612 steps, improv/step: 0.114 (last = 0.0000), fitness=0.000024732\n",
      "1047.56 secs, 9666 evals, 9617 steps, improv/step: 0.114 (last = 0.0000), fitness=0.000024732\n",
      "1048.07 secs, 9671 evals, 9622 steps, improv/step: 0.114 (last = 0.4000), fitness=0.000020438\n",
      "1048.59 secs, 9676 evals, 9627 steps, improv/step: 0.114 (last = 0.0000), fitness=0.000020438\n",
      "1049.16 secs, 9681 evals, 9632 steps, improv/step: 0.114 (last = 0.0000), fitness=0.000020438\n",
      "1049.71 secs, 9686 evals, 9637 steps, improv/step: 0.114 (last = 0.0000), fitness=0.000020438\n",
      "1050.25 secs, 9691 evals, 9642 steps, improv/step: 0.114 (last = 0.0000), fitness=0.000020438\n",
      "1050.78 secs, 9696 evals, 9647 steps, improv/step: 0.114 (last = 0.2000), fitness=0.000020438\n",
      "1051.29 secs, 9701 evals, 9652 steps, improv/step: 0.114 (last = 0.0000), fitness=0.000020438\n",
      "1051.80 secs, 9706 evals, 9657 steps, improv/step: 0.114 (last = 0.0000), fitness=0.000020438\n",
      "1052.38 secs, 9711 evals, 9662 steps, improv/step: 0.114 (last = 0.2000), fitness=0.000020438\n",
      "1052.93 secs, 9716 evals, 9667 steps, improv/step: 0.114 (last = 0.2000), fitness=0.000020438\n",
      "1053.44 secs, 9721 evals, 9672 steps, improv/step: 0.114 (last = 0.0000), fitness=0.000020438\n",
      "1054.00 secs, 9726 evals, 9677 steps, improv/step: 0.114 (last = 0.0000), fitness=0.000020438\n",
      "1054.60 secs, 9732 evals, 9683 steps, improv/step: 0.114 (last = 0.0000), fitness=0.000020438\n",
      "1055.10 secs, 9737 evals, 9688 steps, improv/step: 0.114 (last = 0.0000), fitness=0.000020438\n",
      "1055.60 secs, 9742 evals, 9693 steps, improv/step: 0.114 (last = 0.0000), fitness=0.000020438\n",
      "1056.18 secs, 9748 evals, 9699 steps, improv/step: 0.114 (last = 0.0000), fitness=0.000020438\n",
      "1056.74 secs, 9753 evals, 9704 steps, improv/step: 0.113 (last = 0.0000), fitness=0.000020438\n",
      "1057.32 secs, 9758 evals, 9709 steps, improv/step: 0.113 (last = 0.0000), fitness=0.000020438\n",
      "1057.93 secs, 9763 evals, 9714 steps, improv/step: 0.113 (last = 0.0000), fitness=0.000020438\n",
      "1058.54 secs, 9768 evals, 9719 steps, improv/step: 0.113 (last = 0.0000), fitness=0.000020438\n",
      "1059.12 secs, 9774 evals, 9725 steps, improv/step: 0.113 (last = 0.0000), fitness=0.000020438\n",
      "1059.64 secs, 9779 evals, 9730 steps, improv/step: 0.113 (last = 0.0000), fitness=0.000020438\n",
      "1060.15 secs, 9784 evals, 9735 steps, improv/step: 0.113 (last = 0.2000), fitness=0.000020438\n",
      "1060.65 secs, 9789 evals, 9740 steps, improv/step: 0.113 (last = 0.0000), fitness=0.000020438\n",
      "1061.25 secs, 9795 evals, 9746 steps, improv/step: 0.113 (last = 0.0000), fitness=0.000020438\n",
      "1061.75 secs, 9800 evals, 9751 steps, improv/step: 0.113 (last = 0.0000), fitness=0.000020438\n",
      "1062.31 secs, 9805 evals, 9756 steps, improv/step: 0.113 (last = 0.0000), fitness=0.000020438\n",
      "1062.83 secs, 9810 evals, 9761 steps, improv/step: 0.113 (last = 0.0000), fitness=0.000020438\n",
      "1063.34 secs, 9815 evals, 9766 steps, improv/step: 0.113 (last = 0.0000), fitness=0.000020438\n",
      "1063.85 secs, 9820 evals, 9771 steps, improv/step: 0.113 (last = 0.0000), fitness=0.000020438\n",
      "1064.38 secs, 9825 evals, 9776 steps, improv/step: 0.113 (last = 0.0000), fitness=0.000020438\n",
      "1064.92 secs, 9830 evals, 9781 steps, improv/step: 0.113 (last = 0.0000), fitness=0.000020438\n",
      "1065.45 secs, 9835 evals, 9786 steps, improv/step: 0.113 (last = 0.0000), fitness=0.000020438\n",
      "1065.96 secs, 9840 evals, 9791 steps, improv/step: 0.113 (last = 0.2000), fitness=0.000020438\n",
      "1066.60 secs, 9845 evals, 9796 steps, improv/step: 0.113 (last = 0.0000), fitness=0.000020438\n",
      "1067.12 secs, 9850 evals, 9801 steps, improv/step: 0.113 (last = 0.0000), fitness=0.000020438\n",
      "1067.66 secs, 9855 evals, 9806 steps, improv/step: 0.112 (last = 0.0000), fitness=0.000020438\n",
      "1068.23 secs, 9861 evals, 9812 steps, improv/step: 0.112 (last = 0.0000), fitness=0.000020438\n",
      "1068.83 secs, 9867 evals, 9818 steps, improv/step: 0.112 (last = 0.0000), fitness=0.000020438\n",
      "1069.39 secs, 9873 evals, 9824 steps, improv/step: 0.112 (last = 0.0000), fitness=0.000020438\n",
      "1069.95 secs, 9879 evals, 9830 steps, improv/step: 0.112 (last = 0.0000), fitness=0.000020438\n",
      "1070.51 secs, 9884 evals, 9835 steps, improv/step: 0.112 (last = 0.0000), fitness=0.000020438\n",
      "1071.03 secs, 9889 evals, 9840 steps, improv/step: 0.112 (last = 0.0000), fitness=0.000020438\n",
      "1071.60 secs, 9894 evals, 9845 steps, improv/step: 0.112 (last = 0.2000), fitness=0.000020438\n",
      "1072.13 secs, 9899 evals, 9850 steps, improv/step: 0.112 (last = 0.0000), fitness=0.000020438\n",
      "1072.72 secs, 9905 evals, 9856 steps, improv/step: 0.112 (last = 0.0000), fitness=0.000020438\n",
      "1073.22 secs, 9910 evals, 9861 steps, improv/step: 0.112 (last = 0.0000), fitness=0.000020438\n",
      "1073.80 secs, 9916 evals, 9867 steps, improv/step: 0.112 (last = 0.0000), fitness=0.000020438\n",
      "1074.38 secs, 9922 evals, 9873 steps, improv/step: 0.112 (last = 0.0000), fitness=0.000020438\n",
      "1074.97 secs, 9928 evals, 9879 steps, improv/step: 0.112 (last = 0.0000), fitness=0.000020438\n",
      "1075.48 secs, 9933 evals, 9884 steps, improv/step: 0.112 (last = 0.0000), fitness=0.000020438\n",
      "1076.05 secs, 9939 evals, 9890 steps, improv/step: 0.112 (last = 0.0000), fitness=0.000020438\n",
      "1076.63 secs, 9945 evals, 9896 steps, improv/step: 0.112 (last = 0.0000), fitness=0.000020438\n",
      "1077.13 secs, 9950 evals, 9901 steps, improv/step: 0.112 (last = 0.0000), fitness=0.000020438\n",
      "1077.70 secs, 9956 evals, 9907 steps, improv/step: 0.111 (last = 0.0000), fitness=0.000020438\n",
      "1078.21 secs, 9961 evals, 9912 steps, improv/step: 0.111 (last = 0.0000), fitness=0.000020438\n"
     ]
    },
    {
     "name": "stdout",
     "output_type": "stream",
     "text": [
      "1078.75 secs, 9966 evals, 9917 steps, improv/step: 0.111 (last = 0.0000), fitness=0.000020438\n",
      "1079.26 secs, 9971 evals, 9922 steps, improv/step: 0.111 (last = 0.0000), fitness=0.000020438\n",
      "1079.81 secs, 9976 evals, 9927 steps, improv/step: 0.111 (last = 0.0000), fitness=0.000020438\n",
      "1080.32 secs, 9981 evals, 9932 steps, improv/step: 0.111 (last = 0.0000), fitness=0.000020438\n",
      "1080.92 secs, 9987 evals, 9938 steps, improv/step: 0.111 (last = 0.0000), fitness=0.000020438\n",
      "1081.42 secs, 9992 evals, 9943 steps, improv/step: 0.111 (last = 0.0000), fitness=0.000020438\n",
      "1081.93 secs, 9997 evals, 9948 steps, improv/step: 0.111 (last = 0.0000), fitness=0.000020438\n",
      "1082.44 secs, 10001 evals, 9952 steps, improv/step: 0.111 (last = 0.0000), fitness=0.000020438\n",
      "1083.04 secs, 10007 evals, 9958 steps, improv/step: 0.111 (last = 0.0000), fitness=0.000020438\n",
      "1083.63 secs, 10012 evals, 9963 steps, improv/step: 0.111 (last = 0.0000), fitness=0.000020438\n",
      "1084.17 secs, 10017 evals, 9968 steps, improv/step: 0.111 (last = 0.0000), fitness=0.000020438\n",
      "1084.74 secs, 10022 evals, 9973 steps, improv/step: 0.111 (last = 0.2000), fitness=0.000020438\n",
      "1085.25 secs, 10027 evals, 9978 steps, improv/step: 0.111 (last = 0.0000), fitness=0.000020438\n",
      "1085.81 secs, 10032 evals, 9983 steps, improv/step: 0.111 (last = 0.0000), fitness=0.000020438\n",
      "1086.33 secs, 10037 evals, 9988 steps, improv/step: 0.111 (last = 0.0000), fitness=0.000020438\n",
      "1086.85 secs, 10042 evals, 9993 steps, improv/step: 0.111 (last = 0.0000), fitness=0.000020438\n",
      "1087.38 secs, 10047 evals, 9998 steps, improv/step: 0.111 (last = 0.0000), fitness=0.000020438\n",
      "\n",
      "Optimization stopped after 10001 steps and 1087.7569999694824 seconds\n",
      "Termination reason: Max number of steps (10000) reached\n",
      "Steps per second = 9.194149061123563\n",
      "Function evals per second = 9.239195886840497\n",
      "Improvements/step = 0.1105\n",
      "Total function evaluations = 10050\n",
      "\n",
      "\n",
      "Best candidate found: [-0.861598, -0.579031, -0.449175, -0.313613, -0.283812, -0.156052, -0.0650091, -0.0600818, -0.0506176, -0.0486058, -0.0119543, -0.00719179, -0.00495929, -0.00482624, -0.00476659]\n",
      "\n",
      "Fitness: 0.000020438\n",
      "\n",
      "1536.500803 seconds (9.00 G allocations: 2.599 TiB, 17.69% gc time)\n"
     ]
    }
   ],
   "source": [
    "@time result = solve_full_model(merge(settings, (transition_iterations = (changed_parameters ? 10000 : 0),)); \n",
    "    impose_E_monotonicity_constraints = true, write_data = false, datadir = nothing,\n",
    "    run_global = true)\n",
    "\n",
    "solved = result.solution;\n",
    "E_nodes = result.E_nodes;\n",
    "solved = solved.results;"
   ]
  },
  {
   "cell_type": "markdown",
   "metadata": {},
   "source": [
    "---\n",
    "## Welfare Gains"
   ]
  },
  {
   "cell_type": "code",
   "execution_count": 20,
   "metadata": {},
   "outputs": [
    {
     "name": "stdout",
     "output_type": "stream",
     "text": [
      "Utility in initial SS: 16.106813814683527\n",
      "Utility in new SS: 19.536172711003402\n"
     ]
    }
   ],
   "source": [
    "print(\"Utility in initial SS: \", stationary_sol_0.U_bar,\"\\n\")\n",
    "print(\"Utility in new SS: \", stationary_sol.U_bar,\"\\n\")"
   ]
  },
  {
   "cell_type": "code",
   "execution_count": 21,
   "metadata": {},
   "outputs": [
    {
     "name": "stdout",
     "output_type": "stream",
     "text": [
      "Utility immediately after change 12.729191787239262\n"
     ]
    }
   ],
   "source": [
    "print(\"Utility immediately after change \", solved.U[1],\"\\n\")"
   ]
  },
  {
   "cell_type": "markdown",
   "metadata": {},
   "source": [
    "#### Summary so far...\n",
    "\n",
    "In the old paper, what we did was take U_0_ss at some date t, then compare it to U_ss at the same date t. This is like an instantaneous jump to the new ss. This is what the first cell is looking at and note that this is like a 17 percent increase in utility. Higher than what we had in the paper, but in of the same order of magnitude. \n",
    "\n",
    "The next cell reprots the utility just after the change. Utility here includes the future path of consumption and change in growth rate, so it \"bakes in\" the transition path. Here it goes up by much more than utility in the new SS. This is what I was expecting given the dynamics of consumption. "
   ]
  },
  {
   "cell_type": "code",
   "execution_count": 22,
   "metadata": {},
   "outputs": [
    {
     "data": {
      "text/plain": [
       "0.04824173792862267"
      ]
     },
     "execution_count": 22,
     "metadata": {},
     "output_type": "execute_result"
    }
   ],
   "source": [
    "solved.r[100] + 0.05\n",
    "\n",
    "stationary_sol_0.r"
   ]
  },
  {
   "cell_type": "markdown",
   "metadata": {},
   "source": [
    "Just a reminder about how the function `counsumption_equivalent(U_new, U_old, parameters)` works, it takes U_new and then U_old in that order, then evaluates the **gross** increase in consumption. 100 times this value **minus one** gives the permanent, percent increase in consumption required to make the agent indifferent between the two paths. "
   ]
  },
  {
   "cell_type": "code",
   "execution_count": 23,
   "metadata": {},
   "outputs": [
    {
     "name": "stdout",
     "output_type": "stream",
     "text": [
      "SS to SS welfare gain: 7.6517416240797775\n"
     ]
    }
   ],
   "source": [
    "#T = solved.t[end]\n",
    "lambda_ss = 100*(consumption_equivalent(stationary_sol.U_bar, stationary_sol_0.U_bar, parameters)-1)\n",
    "\n",
    "print(\"SS to SS welfare gain: \", lambda_ss,\"\\n\")"
   ]
  },
  {
   "cell_type": "code",
   "execution_count": 24,
   "metadata": {},
   "outputs": [
    {
     "name": "stdout",
     "output_type": "stream",
     "text": [
      "Inclusive of the Transition Path: -7.004480702292437\n"
     ]
    }
   ],
   "source": [
    "lambda_tpath = 100*(consumption_equivalent(solved.U[1], stationary_sol_0.U_bar, parameters)-1)\n",
    "\n",
    "print(\"Inclusive of the Transition Path: \", lambda_tpath,\"\\n\")"
   ]
  },
  {
   "cell_type": "markdown",
   "metadata": {},
   "source": [
    "### Relative to initial notebook computations\n",
    "\n",
    "- SS to SS, the issue here is that we should compare **at date 0** utility in the first ss vs. the second ss. This is what we must have been doing in the previous version of the paper. The previous calulation in the old notebook had \n",
    "```consumption_equivalent(solved.U[end], stationary_sol_0.U_bar, parameters)```\n",
    "which took **date T** utility and compard them. The problem is that this now depends on date T. So if we picked T to be arbitraily large, then utility will be arbitraily different.\n",
    "\n",
    "- Following the same logic, the transition path should compare **date 0** utility with the initial value from the transition path. So what we want to do is to compare everything at 0. In the previous calculation, we had\n",
    "```consumption_equivalent(solved.U[1], stationary_sol_0.U_bar, parameters)```\n",
    "were comparing the initial utility relative to ss utility on the old path at date T. So the initial blue point below versues the last orange dashed point. **See the figure below**"
   ]
  },
  {
   "cell_type": "code",
   "execution_count": 25,
   "metadata": {},
   "outputs": [
    {
     "data": {
      "image/png": "[encoded data removed]"
     },
     "execution_count": 25,
     "metadata": {},
     "output_type": "execute_result"
    }
   ],
   "source": [
    "# generate the plot!\n",
    "U_steady_0(t) = stationary_sol_0.U_bar\n",
    "U_steady_T(t) = stationary_sol.U_bar\n",
    "\n",
    "plot(solved.t, \n",
    "    [solved.U, U_steady_0, U_steady_T], \n",
    "    label = [\"U_transition\", \"U_steady_0\", \"U_steady_T\"] ,\n",
    "    title = \"U(t)\", linestyle = :auto, lw = 3)"
   ]
  },
  {
   "cell_type": "markdown",
   "metadata": {},
   "source": [
    "### Outstanding Issue \\#2: Welfare Gains still depend on T in transition path.\n",
    "\n",
    "The stuff above I think is correct, the one issue is why does the welfare gains, inclusive of the transition path seem to depend on T??? So change T above from 40 to 75 or 100, then the welfare gains fall alot? Why?"
   ]
  },
  {
   "cell_type": "markdown",
   "metadata": {},
   "source": [
    "---\n",
    "## Plotting"
   ]
  },
  {
   "cell_type": "code",
   "execution_count": 26,
   "metadata": {},
   "outputs": [
    {
     "data": {
      "text/plain": [
       "43.567042711530654"
      ]
     },
     "execution_count": 26,
     "metadata": {},
     "output_type": "execute_result"
    }
   ],
   "source": [
    "solved.U[end]"
   ]
  },
  {
   "cell_type": "markdown",
   "metadata": {},
   "source": [
    "## Plots for Ω and residuals"
   ]
  },
  {
   "cell_type": "code",
   "execution_count": 27,
   "metadata": {},
   "outputs": [
    {
     "data": {
      "image/png": "[encoded data removed]"
     },
     "execution_count": 27,
     "metadata": {},
     "output_type": "execute_result"
    }
   ],
   "source": [
    "#solved = solved.results;\n",
    "plot_Ω = plot(solved.t, solved.Ω, label = \"Omega\", lw = 3)\n",
    "plot_residual = plot(solved.t, solved.entry_residual, label = \"entry_residual\", lw = 3)\n",
    "plot(plot_Ω, plot_residual, layout = (2,1))"
   ]
  },
  {
   "cell_type": "markdown",
   "metadata": {},
   "source": [
    "## Primary Plots"
   ]
  },
  {
   "cell_type": "code",
   "execution_count": 28,
   "metadata": {
    "scrolled": true
   },
   "outputs": [
    {
     "data": {
      "image/png": "[encoded data removed]"
     },
     "execution_count": 28,
     "metadata": {},
     "output_type": "execute_result"
    }
   ],
   "source": [
    "plot1 = plot(solved.t, solved.g, label = \"g\", lw = 3)\n",
    "plot2 = plot(solved.t, solved.z_hat, label = \"z_hat\", lw = 3)\n",
    "plot3 = plot(solved.t, solved.S, label = \"S\", lw = 3)\n",
    "plot4 = plot(solved.t, solved.entry_residual, label = \"entry_residual\", lw = 3)\n",
    "plot(plot1, plot2, plot3, plot4, layout=(2,2), size = (800, 400))"
   ]
  },
  {
   "cell_type": "markdown",
   "metadata": {},
   "source": [
    "## Static Equations"
   ]
  },
  {
   "cell_type": "code",
   "execution_count": 29,
   "metadata": {},
   "outputs": [
    {
     "data": {
      "image/png": "[encoded data removed]"
     },
     "execution_count": 29,
     "metadata": {},
     "output_type": "execute_result"
    }
   ],
   "source": [
    "plot1 = plot(solved.t, solved.L_tilde, label = \"L_tilde\", lw = 3)\n",
    "plot2 = plot(solved.t, solved.z_bar, label = \"z_bar\", lw = 3)\n",
    "plot3 = plot(solved.t, solved.π_rat, label = \"pi_min\", lw = 3)\n",
    "plot4 = plot(solved.t, solved.λ_ii, label = \"lambda_ii\", lw = 3)\n",
    "plot5 = plot(solved.t, solved.c, label = \"c\", lw = 3)\n",
    "plot6 = plot(solved.t, solved.E, label = \"E\", lw = 3)\n",
    "plot7 = plot(solved.t, solved.log_M, label = \"log_M\", lw = 3)\n",
    "plot8 = plot(solved.t, solved.U, label = \"U\", lw = 3)\n",
    "plot9 = plot(solved.t, solved.π_rat, label = \"pi_rat\", lw = 3)\n",
    "plot(plot1, plot2, plot3, plot4, plot5, plot6, plot7, plot8, plot9, layout=(3,3), size = (1000, 1000))"
   ]
  },
  {
   "cell_type": "markdown",
   "metadata": {},
   "source": [
    "# Welfare analysis"
   ]
  },
  {
   "cell_type": "markdown",
   "metadata": {},
   "source": [
    "### `log_M(t)`"
   ]
  },
  {
   "cell_type": "code",
   "execution_count": 30,
   "metadata": {
    "scrolled": true
   },
   "outputs": [
    {
     "data": {
      "image/png": "[encoded data removed]"
     },
     "execution_count": 30,
     "metadata": {},
     "output_type": "execute_result"
    }
   ],
   "source": [
    "# define log_M with steady state g\n",
    "log_M_steady_0(t) = stationary_sol_0.g * t\n",
    "log_M_steady_T(t) = stationary_sol.g * t\n",
    "\n",
    "# generate the plot!\n",
    "plot(solved.t, \n",
    "    [solved.log_M, log_M_steady_0, log_M_steady_T], \n",
    "    label = [\"log_M_transition_0\", \"log_M_steady_0\", \"log_M_steady_T\"] ,\n",
    "    title = \"log_M(t)\", linestyle = :auto, lw = 3)"
   ]
  },
  {
   "cell_type": "markdown",
   "metadata": {},
   "source": [
    "### `Ω(t)`"
   ]
  },
  {
   "cell_type": "code",
   "execution_count": 31,
   "metadata": {},
   "outputs": [
    {
     "data": {
      "image/png": "[encoded data removed]"
     },
     "execution_count": 31,
     "metadata": {},
     "output_type": "execute_result"
    }
   ],
   "source": [
    "# define Ω function (constant)\n",
    "Ω_steady_0(t) = stationary_sol_0.Ω\n",
    "Ω_steady_T(t) = stationary_sol.Ω\n",
    "\n",
    "# generate the plot!\n",
    "plot(solved.t, \n",
    "    [solved.Ω, Ω_steady_0, Ω_steady_T], \n",
    "    label = [\"Omega_transition_0\", \"Omega_steady_0\", \"Omega_steady_T\"] ,\n",
    "    title = \"Omega(t)\", linestyle = :auto, lw = 3)"
   ]
  },
  {
   "cell_type": "markdown",
   "metadata": {},
   "source": [
    "### `c(t)`"
   ]
  },
  {
   "cell_type": "code",
   "execution_count": 32,
   "metadata": {},
   "outputs": [
    {
     "data": {
      "image/png": "[encoded data removed]"
     },
     "execution_count": 32,
     "metadata": {},
     "output_type": "execute_result"
    }
   ],
   "source": [
    "# define c function (constant)\n",
    "c_steady_0(t) = stationary_sol_0.c\n",
    "c_steady_T(t) = stationary_sol.c\n",
    "\n",
    "# generate the plot!\n",
    "plot(solved.t, \n",
    "    [solved.c, c_steady_0, c_steady_T], \n",
    "    label = [\"c_transition_0\", \"c_steady_0\", \"c_steady_T\"] ,\n",
    "    title = \"c(t)\", linestyle = :auto, lw = 3)"
   ]
  },
  {
   "cell_type": "markdown",
   "metadata": {},
   "source": [
    "### `U(t)`"
   ]
  },
  {
   "cell_type": "code",
   "execution_count": 33,
   "metadata": {
    "scrolled": true
   },
   "outputs": [
    {
     "data": {
      "image/png": "[encoded data removed]"
     },
     "execution_count": 33,
     "metadata": {},
     "output_type": "execute_result"
    }
   ],
   "source": [
    "# generate the plot!\n",
    "U_steady_0(t) = stationary_sol_0.U_bar\n",
    "U_steady_T(t) = stationary_sol.U_bar\n",
    "\n",
    "plot(solved.t, \n",
    "    [solved.U, U_steady_0, U_steady_T], \n",
    "    label = [\"U_transition\", \"U_steady_0\", \"U_steady_T\"] ,\n",
    "    title = \"U(t)\", linestyle = :auto, lw = 3)"
   ]
  },
  {
   "cell_type": "markdown",
   "metadata": {},
   "source": [
    "## Consumption equivalent for search threshold (`M(0)`)\n",
    "See computational appendix for details."
   ]
  },
  {
   "cell_type": "markdown",
   "metadata": {},
   "source": [
    "### `M(0)` by two steady states (autarky and steady state at `T`)"
   ]
  },
  {
   "cell_type": "code",
   "execution_count": 34,
   "metadata": {
    "scrolled": false
   },
   "outputs": [
    {
     "data": {
      "text/plain": [
       "1.8047009895120438"
      ]
     },
     "execution_count": 34,
     "metadata": {},
     "output_type": "execute_result"
    }
   ],
   "source": [
    "T = solved.t[end]\n",
    "consumption_equivalent(solved.U[end], stationary_sol_0.U_bar, parameters)"
   ]
  },
  {
   "cell_type": "markdown",
   "metadata": {},
   "source": [
    "### `M(0)` by autarky and transition from `t=0`"
   ]
  },
  {
   "cell_type": "code",
   "execution_count": 35,
   "metadata": {
    "scrolled": true
   },
   "outputs": [
    {
     "data": {
      "text/plain": [
       "0.9299551929770756"
      ]
     },
     "execution_count": 35,
     "metadata": {},
     "output_type": "execute_result"
    }
   ],
   "source": [
    "T = solved.t[end]\n",
    "consumption_equivalent(solved.U[1], stationary_sol_0.U_bar, parameters)"
   ]
  },
  {
   "cell_type": "markdown",
   "metadata": {},
   "source": [
    "But if we include the transition path, this falls a lot. Like down to 13 percent gain. "
   ]
  },
  {
   "cell_type": "code",
   "execution_count": 36,
   "metadata": {},
   "outputs": [],
   "source": [
    "# solved \n",
    "# Run the above to see the whole dataframe"
   ]
  },
  {
   "cell_type": "code",
   "execution_count": 37,
   "metadata": {},
   "outputs": [],
   "source": [
    "using DataFrames\n",
    "\n",
    "df_stationary = DataFrame(t = -1.00, g =stationary_sol_0.g, λ_ii = stationary_sol_0.λ_ii, c = stationary_sol_0.c, L_tilde = stationary_sol_0.L_tilde, Ω = stationary_sol_0.Ω,\n",
    "    π_rat = stationary_sol_0.π_rat, L_tilde_a = stationary_sol_0.L_tilde_a, L_tilde_x = stationary_sol_0.L_tilde_x, \n",
    "    L_tilde_E= stationary_sol_0.L_tilde_E, r = stationary_sol_0.r);"
   ]
  },
  {
   "cell_type": "code",
   "execution_count": 38,
   "metadata": {},
   "outputs": [
    {
     "data": {
      "text/plain": [
       "\"stationary_results.csv\""
      ]
     },
     "execution_count": 38,
     "metadata": {},
     "output_type": "execute_result"
    }
   ],
   "source": [
    "CSV.write(\"stationary_results.csv\", df_stationary)"
   ]
  },
  {
   "cell_type": "code",
   "execution_count": 39,
   "metadata": {},
   "outputs": [],
   "source": [
    "df_transition = DataFrame(t = solved.t, g =solved.g, λ_ii = solved.λ_ii, c = solved.c, L_tilde = solved.L_tilde, Ω = solved.Ω,\n",
    "    π_rat = solved.π_rat, L_tilde_a = solved.L_tilde_a, L_tilde_x = solved.L_tilde_x,\n",
    "    L_tilde_E= solved.L_tilde_E, r = solved.r .+ parameters.δ);"
   ]
  },
  {
   "cell_type": "code",
   "execution_count": 40,
   "metadata": {},
   "outputs": [
    {
     "data": {
      "text/plain": [
       "\"transition_results.csv\""
      ]
     },
     "execution_count": 40,
     "metadata": {},
     "output_type": "execute_result"
    }
   ],
   "source": [
    "CSV.write(\"transition_results.csv\", df_transition)"
   ]
  },
  {
   "cell_type": "code",
   "execution_count": 41,
   "metadata": {},
   "outputs": [
    {
     "data": {
      "text/plain": [
       "1.8110075391436142"
      ]
     },
     "execution_count": 41,
     "metadata": {},
     "output_type": "execute_result"
    }
   ],
   "source": [
    "stationary_sol_0.π_rat"
   ]
  },
  {
   "cell_type": "code",
   "execution_count": 42,
   "metadata": {},
   "outputs": [
    {
     "data": {
      "text/plain": [
       "\"welfare_results.csv\""
      ]
     },
     "execution_count": 42,
     "metadata": {},
     "output_type": "execute_result"
    }
   ],
   "source": [
    "df_welfare = DataFrame(steady_state = lambda_ss, transition_path = lambda_tpath, growth_rate = stationary_sol.g, theta = parameters.θ);\n",
    "CSV.write(\"welfare_results.csv\", df_welfare)"
   ]
  },
  {
   "cell_type": "code",
   "execution_count": 43,
   "metadata": {},
   "outputs": [
    {
     "data": {
      "text/plain": [
       "\"autarky_welfare_results.csv\""
      ]
     },
     "execution_count": 43,
     "metadata": {},
     "output_type": "execute_result"
    }
   ],
   "source": [
    "df_autarky = DataFrame(steady_state = lambda_ss_autarky, growth_rate = stationary_autarky.g, theta = parameters.θ);\n",
    "CSV.write(\"autarky_welfare_results.csv\", df_autarky)"
   ]
  },
  {
   "cell_type": "markdown",
   "metadata": {},
   "source": [
    "### R and W"
   ]
  },
  {
   "cell_type": "code",
   "execution_count": 44,
   "metadata": {},
   "outputs": [
    {
     "data": {
      "image/png": "[encoded data removed]"
     },
     "execution_count": 44,
     "metadata": {},
     "output_type": "execute_result"
    }
   ],
   "source": [
    "plot(solved.r, legend = false, title = \"r over time\", xlabel = \"T\", ylabel = \"r\")"
   ]
  },
  {
   "cell_type": "code",
   "execution_count": 45,
   "metadata": {},
   "outputs": [
    {
     "data": {
      "image/png": "[encoded data removed]"
     },
     "execution_count": 45,
     "metadata": {},
     "output_type": "execute_result"
    }
   ],
   "source": [
    "plot(solved.w, legend = false, title = \"w over time\", xlabel = \"T\", ylabel = \"w\")"
   ]
  },
  {
   "cell_type": "code",
   "execution_count": 46,
   "metadata": {},
   "outputs": [
    {
     "data": {
      "image/png": "[encoded data removed]"
     },
     "execution_count": 46,
     "metadata": {},
     "output_type": "execute_result"
    }
   ],
   "source": [
    "plot(solved.L_tilde_a, legend = false, xlabel = \"T\", title = \"Labor Share: Adoption\")"
   ]
  },
  {
   "cell_type": "code",
   "execution_count": 47,
   "metadata": {},
   "outputs": [
    {
     "data": {
      "image/png": "[encoded data removed]"
     },
     "execution_count": 47,
     "metadata": {},
     "output_type": "execute_result"
    }
   ],
   "source": [
    "plot(solved.L_tilde_E, legend = false, xlabel = \"T\", title = \"Labor Share: Entrycosts\")"
   ]
  },
  {
   "cell_type": "code",
   "execution_count": 48,
   "metadata": {},
   "outputs": [
    {
     "data": {
      "image/png": "[encoded data removed]"
     },
     "execution_count": 48,
     "metadata": {},
     "output_type": "execute_result"
    }
   ],
   "source": [
    "plot(solved.L_tilde_x, legend = false, xlabel = \"T\", title = \"Labor Share: Export\")"
   ]
  }
 ],
 "metadata": {
  "kernelspec": {
   "display_name": "Julia 1.0.2",
   "language": "julia",
   "name": "julia-1.0"
  },
  "language_info": {
   "file_extension": ".jl",
   "mimetype": "application/julia",
   "name": "julia",
   "version": "1.0.2"
  }
 },
 "nbformat": 4,
 "nbformat_minor": 2
}
