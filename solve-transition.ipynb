{
 "cells": [
  {
   "cell_type": "code",
   "execution_count": 1,
   "metadata": {
    "scrolled": false
   },
   "outputs": [
    {
     "name": "stdout",
     "output_type": "stream",
     "text": [
      "\u001b[32m\u001b[1m  Updating\u001b[22m\u001b[39m registry at `C:\\Users\\Chiyoung Ahn\\.julia\\registries\\General`\n",
      "\u001b[32m\u001b[1m  Updating\u001b[22m\u001b[39m git-repo `https://github.com/JuliaRegistries/General.git`\n",
      "\u001b[?25l\u001b[2K\u001b[?25h\u001b[32m\u001b[1mPrecompiling\u001b[22m\u001b[39m project...\n",
      "\u001b[32m\u001b[1mPrecompiling\u001b[22m\u001b[39m CSV\n"
     ]
    },
    {
     "name": "stderr",
     "output_type": "stream",
     "text": [
      "┌ Info: Precompiling CSV [336ed68f-0bac-5ca0-87d4-7b16caf5d00b]\n",
      "└ @ Base loading.jl:1186\n"
     ]
    }
   ],
   "source": [
    "using Pkg\n",
    "pkg\"activate .\"\n",
    "pkg\"instantiate\"\n",
    "pkg\"precompile\""
   ]
  },
  {
   "cell_type": "code",
   "execution_count": 2,
   "metadata": {
    "scrolled": true
   },
   "outputs": [
    {
     "name": "stderr",
     "output_type": "stream",
     "text": [
      "┌ Info: Recompiling stale cache file C:\\Users\\Chiyoung Ahn\\.julia\\compiled\\v1.1\\PerlaTonettiWaugh\\Zi3ee.ji for PerlaTonettiWaugh [d2cacc76-b06b-11e8-362b-f18d03a16405]\n",
      "└ @ Base loading.jl:1184\n",
      "┌ Info: Recompiling stale cache file C:\\Users\\Chiyoung Ahn\\.julia\\compiled\\v1.1\\Plots\\ld3vC.ji for Plots [91a5bcdd-55d7-5caf-9e0b-520d859cae80]\n",
      "└ @ Base loading.jl:1184\n"
     ]
    }
   ],
   "source": [
    "using PerlaTonettiWaugh, Plots, BenchmarkTools, CSV"
   ]
  },
  {
   "cell_type": "code",
   "execution_count": 3,
   "metadata": {},
   "outputs": [
    {
     "data": {
      "text/plain": [
       "Plots.GRBackend()"
      ]
     },
     "execution_count": 3,
     "metadata": {},
     "output_type": "execute_result"
    }
   ],
   "source": [
    "gr(fmt = :png)"
   ]
  },
  {
   "cell_type": "markdown",
   "metadata": {},
   "source": [
    "# Steady states"
   ]
  },
  {
   "cell_type": "markdown",
   "metadata": {},
   "source": [
    "## Solving steady state solutions"
   ]
  },
  {
   "cell_type": "markdown",
   "metadata": {},
   "source": [
    "Set up parameters and find the corresponding stationary solution:"
   ]
  },
  {
   "cell_type": "markdown",
   "metadata": {},
   "source": [
    "Below are the results from the **updated** matlab calibration with the corresponding letters. Here I added the $\\mu$ parameter in the calibration routine to fit the firm dynamic moments. Fit improved a lot and it generated a negative drift term which is what we need to keep S from going negative.\n"
   ]
  },
  {
   "cell_type": "code",
   "execution_count": 4,
   "metadata": {},
   "outputs": [
    {
     "data": {
      "text/plain": [
       "(ρ = 0.0215, σ = 3.1725, N = 10, θ = 5.0018, γ = 1.0, κ = 0.0732, ζ = 1.0, η = 0.0, Theta = 1, χ = 0.1678500092317505, υ = 0.0484, μ = -0.0189, δ = 0.02, d = 3.0426)"
      ]
     },
     "execution_count": 4,
     "metadata": {},
     "output_type": "execute_result"
    }
   ],
   "source": [
    "# NEW CALIBRATION\n",
    "\n",
    "parameters = parameter_defaults()\n",
    "\n",
    "parameters = merge(parameters, (ρ = 0.0215, d = 3.0426 , θ = 5.0018  ,  κ = 0.0732, χ = 1/5.9577, υ =  0.0484 , μ = -0.0189, σ = 3.1725, δ = 0.02,))"
   ]
  },
  {
   "cell_type": "code",
   "execution_count": 5,
   "metadata": {},
   "outputs": [
    {
     "data": {
      "text/plain": [
       "0.02"
      ]
     },
     "execution_count": 5,
     "metadata": {},
     "output_type": "execute_result"
    }
   ],
   "source": [
    "parameters.δ"
   ]
  },
  {
   "cell_type": "code",
   "execution_count": 6,
   "metadata": {},
   "outputs": [
    {
     "data": {
      "text/plain": [
       "true"
      ]
     },
     "execution_count": 6,
     "metadata": {},
     "output_type": "execute_result"
    }
   ],
   "source": [
    "changed_parameters = true # set this to true if you drastically change the parameters"
   ]
  },
  {
   "cell_type": "markdown",
   "metadata": {},
   "source": [
    "Side note on previous version. Essentially, under this calibration, the parameters are very simmilar. Theta, chi, kappa are quite close to what we had in the prior version."
   ]
  },
  {
   "cell_type": "code",
   "execution_count": 7,
   "metadata": {
    "scrolled": true
   },
   "outputs": [],
   "source": [
    "# Define common objects. \n",
    "#parameters = parameter_defaults()\n",
    "\n",
    "settings = settings_defaults()\n",
    "settings = merge(settings, (transition_penalty_coefficient = 1.0, ))\n",
    "\n",
    "\n",
    "settings = merge(settings, (z_ex = unique([range(0., 0.1, length = 150)' range(0.1, 1., length = 100)' range(1., 5, length = 50)']),))\n",
    "settings = merge(settings, (z = settings.z_ex[2:end-1], ))\n",
    "\n",
    "P = length(settings.z)\n",
    "\n",
    "d_0 = parameters.d # Here is the 10 percent tariff increase\n",
    "d_T = 1 + (parameters.d-1)*0.90\n",
    "\n",
    "d_autarky = 1 + (parameters.d-1)*2.5 \n",
    "\n",
    "params_0 = merge(parameters, (d = d_0, )) # parameters to be used at t = 0\n",
    "params_T = merge(parameters, (d = d_T, )) # parameters to be used at t = T\n",
    "params_autarky = merge(parameters, (d = d_autarky, )) # parameters to be used in autarky calc\n",
    "\n",
    "# initial value for numerical solver on (g, z_hat, Omega)\n",
    "initial_x = [0.02; 2; .57]\n",
    "\n",
    "# solve for stationary solution at t = 0\n",
    "stationary_sol_0 = stationary_algebraic(params_0, initial_x) # solution at t = 0\n",
    "stationary_sol = stationary_algebraic(params_T, initial_x) # solution at t = T\n",
    "stationary_autarky = stationary_algebraic(params_autarky, initial_x) # solution at t = T\n",
    "\n",
    "Ω_0 = stationary_sol_0.Ω;\n",
    "Ω_T = stationary_sol.Ω;"
   ]
  },
  {
   "cell_type": "code",
   "execution_count": 8,
   "metadata": {},
   "outputs": [
    {
     "data": {
      "text/plain": [
       "3.0426"
      ]
     },
     "execution_count": 8,
     "metadata": {},
     "output_type": "execute_result"
    }
   ],
   "source": [
    "d_0"
   ]
  },
  {
   "cell_type": "code",
   "execution_count": 9,
   "metadata": {},
   "outputs": [
    {
     "name": "stdout",
     "output_type": "stream",
     "text": [
      "19.536172711003402\n",
      "16.106813814683527\n",
      "0.0989517579364377\n",
      "0.07742571652180796\n"
     ]
    }
   ],
   "source": [
    "print(stationary_sol.U_bar,'\\n') \n",
    "print(stationary_sol_0.U_bar,'\\n')\n",
    "print(stationary_sol_0.S,'\\n')\n",
    "print(stationary_autarky.S,'\\n')"
   ]
  },
  {
   "cell_type": "code",
   "execution_count": 10,
   "metadata": {},
   "outputs": [
    {
     "name": "stdout",
     "output_type": "stream",
     "text": [
      "SS to SS welfare gain: 7.6517416240797775\n",
      "SS to SS welfare gain: 0.8574023485038085\n"
     ]
    }
   ],
   "source": [
    "#T = solved.t[end]\n",
    "lambda_ss = 100*(consumption_equivalent(stationary_sol.U_bar, stationary_sol_0.U_bar, parameters)-1)\n",
    "\n",
    "print(\"SS to SS welfare gain: \", lambda_ss,\"\\n\")\n",
    "print(\"SS to SS welfare gain: \", stationary_sol.λ_ii,\"\\n\")"
   ]
  },
  {
   "cell_type": "code",
   "execution_count": 11,
   "metadata": {},
   "outputs": [
    {
     "name": "stdout",
     "output_type": "stream",
     "text": [
      "SS to SS welfare gain: 0.008570416914745884\n"
     ]
    }
   ],
   "source": [
    "print(\"SS to SS welfare gain: \", stationary_sol.g,\"\\n\")"
   ]
  },
  {
   "cell_type": "markdown",
   "metadata": {},
   "source": [
    "### This is the autarky calculation"
   ]
  },
  {
   "cell_type": "code",
   "execution_count": 12,
   "metadata": {},
   "outputs": [
    {
     "name": "stdout",
     "output_type": "stream",
     "text": [
      "SS to SS welfare gain: -15.522308452599521\n",
      "Autarky Home Share, should be close to 1: 0.9965183434231\n",
      "Autarky TFP growth rate 0.00243807896292438\n"
     ]
    }
   ],
   "source": [
    "#T = solved.t[end]\n",
    "lambda_ss_autarky = 100*(consumption_equivalent(stationary_autarky.U_bar, stationary_sol_0.U_bar, parameters)-1)\n",
    "\n",
    "print(\"SS to SS welfare gain: \", lambda_ss_autarky,\"\\n\")\n",
    "print(\"Autarky Home Share, should be close to 1: \", stationary_autarky.λ_ii,\"\\n\")\n",
    "print(\"Autarky TFP growth rate \", stationary_autarky.g,\"\\n\")"
   ]
  },
  {
   "cell_type": "markdown",
   "metadata": {},
   "source": [
    "## Welfare in Steady States"
   ]
  },
  {
   "cell_type": "markdown",
   "metadata": {},
   "source": [
    "### Steady state at `T`"
   ]
  },
  {
   "cell_type": "code",
   "execution_count": 13,
   "metadata": {},
   "outputs": [
    {
     "data": {
      "text/plain": [
       "19.536172711003402"
      ]
     },
     "execution_count": 13,
     "metadata": {},
     "output_type": "execute_result"
    }
   ],
   "source": [
    "stationary_sol.U_bar"
   ]
  },
  {
   "cell_type": "markdown",
   "metadata": {},
   "source": [
    "### Steady state at `0`"
   ]
  },
  {
   "cell_type": "code",
   "execution_count": 14,
   "metadata": {
    "scrolled": false
   },
   "outputs": [
    {
     "data": {
      "text/plain": [
       "16.106813814683527"
      ]
     },
     "execution_count": 14,
     "metadata": {},
     "output_type": "execute_result"
    }
   ],
   "source": [
    "stationary_sol_0.U_bar"
   ]
  },
  {
   "cell_type": "markdown",
   "metadata": {},
   "source": [
    "### Outstanding Issue \\#1: Sensitivity of growth to trade.\n",
    "\n",
    "This is a big difference relative to previous version. As noted above, with parameter values that are quite similar to what we had before, the growth rate is changing a lot with only a very small change in trade flows. Why?"
   ]
  },
  {
   "cell_type": "code",
   "execution_count": 15,
   "metadata": {},
   "outputs": [
    {
     "name": "stdout",
     "output_type": "stream",
     "text": [
      "(stationary_sol.g, stationary_sol_0.g) = (0.008570416914745884, 0.0067417379286226755)\n"
     ]
    }
   ],
   "source": [
    "@show stationary_sol.g, stationary_sol_0.g;"
   ]
  },
  {
   "cell_type": "markdown",
   "metadata": {},
   "source": [
    "---"
   ]
  },
  {
   "cell_type": "markdown",
   "metadata": {},
   "source": [
    "# Transition dynamics"
   ]
  },
  {
   "cell_type": "markdown",
   "metadata": {},
   "source": [
    "Setup for optimizer:"
   ]
  },
  {
   "cell_type": "code",
   "execution_count": 16,
   "metadata": {},
   "outputs": [],
   "source": [
    "settings = merge(settings, (params_T = params_T, stationary_sol_T = stationary_numerical(params_T, settings.z_ex), Ω_0 = Ω_0, T = 75.0));"
   ]
  },
  {
   "cell_type": "markdown",
   "metadata": {},
   "source": [
    "Use the solution found with calibrated parameters above for `E`"
   ]
  },
  {
   "cell_type": "code",
   "execution_count": 17,
   "metadata": {},
   "outputs": [],
   "source": [
    "settings = merge(settings, (transition_x0 =  [ -0.8614905788913748, -0.44926517491157925, -0.283795655883632, -0.0651727069993808, -0.050745349310809824, -0.01213734877329569, -0.005088513022818065, -0.004779208323042127],\n",
    "        weights = [10.0; ones(7)])); # remove tstops when solving the model for the first time to get a rough solution first\n",
    "\n",
    "settings = merge(settings, (transition_lb = settings.transition_x0 .- 1e-4,\n",
    "        transition_ub = settings.transition_x0 .+ 1e-4));"
   ]
  },
  {
   "cell_type": "markdown",
   "metadata": {},
   "source": [
    "Find the corresponding solution"
   ]
  },
  {
   "cell_type": "code",
   "execution_count": 18,
   "metadata": {
    "scrolled": true
   },
   "outputs": [
    {
     "name": "stderr",
     "output_type": "stream",
     "text": [
      "┌ Warning: no cache found in C:\\Users\\Chiyoung Ahn\\Documents\\data, or it doesn't exist.\n",
      "└ @ PerlaTonettiWaugh C:\\Users\\Chiyoung Ahn\\.julia\\dev\\PerlaTonettiWaugh\\src\\full\\transition.jl:57\n"
     ]
    },
    {
     "name": "stdout",
     "output_type": "stream",
     "text": [
      "Results written to data\\13104844475483604985.csv\n"
     ]
    },
    {
     "ename": "ErrorException",
     "evalue": "Cannot serialize type typeof(Interpolations.LinearInterpolation)",
     "output_type": "error",
     "traceback": [
      "Cannot serialize type typeof(Interpolations.LinearInterpolation)",
      "",
      "Stacktrace:",
      " [1] error(::String) at .\\error.jl:33",
      " [2] lower at C:\\Users\\Chiyoung Ahn\\.julia\\packages\\JSON\\ebvl3\\src\\Writer.jl:47 [inlined]",
      " [3] show_json(::JSON.Writer.CompactContext{Base.GenericIOBuffer{Array{UInt8,1}}}, ::JSON.Serializations.StandardSerialization, ::Function) at C:\\Users\\Chiyoung Ahn\\.julia\\packages\\JSON\\ebvl3\\src\\Writer.jl:314",
      " [4] show_pair(::JSON.Writer.CompactContext{Base.GenericIOBuffer{Array{UInt8,1}}}, ::JSON.Serializations.StandardSerialization, ::Symbol, ::Function) at C:\\Users\\Chiyoung Ahn\\.julia\\packages\\JSON\\ebvl3\\src\\Writer.jl:241",
      " [5] show_json(::JSON.Writer.CompactContext{Base.GenericIOBuffer{Array{UInt8,1}}}, ::JSON.Serializations.StandardSerialization, ::JSON.Writer.CompositeTypeWrapper{NamedTuple{(:z_max, :z_ex, :z, :Δ_E, :ode_solve_algorithm, :T, :t, :g, :weights, :transition_x0, :fifty_node_iv, :transition_lb, :transition_ub, :transition_iterations, :transition_penalty_coefficient, :transition_interpolation_function, :T_U_bar, :tstops, :params_T, :stationary_sol_T, :Ω_0),Tuple{Int64,Array{Float64,1},Array{Float64,1},Float64,Sundials.CVODE_BDF{:Newton,:Dense},Float64,StepRangeLen{Float64,Base.TwicePrecision{Float64},Base.TwicePrecision{Float64}},Interpolations.Extrapolation{Float64,1,Interpolations.ScaledInterpolation{Float64,1,Interpolations.BSplineInterpolation{Float64,1,Array{Float64,1},Interpolations.BSpline{Interpolations.Linear},Tuple{Base.OneTo{Int64}}},Interpolations.BSpline{Interpolations.Linear},Tuple{StepRangeLen{Float64,Base.TwicePrecision{Float64},Base.TwicePrecision{Float64}}}},Interpolations.BSpline{Interpolations.Linear},Interpolations.Throw{Nothing}},Array{Float64,1},Array{Float64,1},Array{Float64,1},Array{Float64,1},Array{Float64,1},Int64,Float64,typeof(Interpolations.LinearInterpolation),Float64,Nothing,NamedTuple{(:ρ, :σ, :N, :θ, :γ, :κ, :ζ, :η, :Theta, :χ, :υ, :μ, :δ, :d),Tuple{Float64,Float64,Int64,Float64,Float64,Float64,Float64,Float64,Int64,Float64,Float64,Float64,Float64,Float64}},NamedTuple{(:F, :r, :ν, :a, :b, :S, :L_tilde, :L_tilde_x, :L_tilde_E, :L_tilde_a, :z_bar, :w, :x, :π_min, :π_rat, :g, :z_hat, :Ω, :v_tilde, :y, :c, :λ_ii, :U_bar),Tuple{getfield(PerlaTonettiWaugh, Symbol(\"#F#29\")){Float64},Float64,Float64,Float64,Float64,Float64,Float64,Float64,Float64,Float64,Float64,Float64,Float64,Float64,Float64,Float64,Float64,Float64,Array{Float64,1},Float64,Float64,Float64,Float64}},Float64}}}) at C:\\Users\\Chiyoung Ahn\\.julia\\packages\\JSON\\ebvl3\\src\\Writer.jl:285",
      " [6] show_json at C:\\Users\\Chiyoung Ahn\\.julia\\packages\\JSON\\ebvl3\\src\\Writer.jl:314 [inlined]",
      " [7] #show_json#3 at C:\\Users\\Chiyoung Ahn\\.julia\\packages\\JSON\\ebvl3\\src\\Writer.jl:325 [inlined]",
      " [8] show_json at C:\\Users\\Chiyoung Ahn\\.julia\\packages\\JSON\\ebvl3\\src\\Writer.jl:324 [inlined]",
      " [9] print(::Base.GenericIOBuffer{Array{UInt8,1}}, ::NamedTuple{(:z_max, :z_ex, :z, :Δ_E, :ode_solve_algorithm, :T, :t, :g, :weights, :transition_x0, :fifty_node_iv, :transition_lb, :transition_ub, :transition_iterations, :transition_penalty_coefficient, :transition_interpolation_function, :T_U_bar, :tstops, :params_T, :stationary_sol_T, :Ω_0),Tuple{Int64,Array{Float64,1},Array{Float64,1},Float64,Sundials.CVODE_BDF{:Newton,:Dense},Float64,StepRangeLen{Float64,Base.TwicePrecision{Float64},Base.TwicePrecision{Float64}},Interpolations.Extrapolation{Float64,1,Interpolations.ScaledInterpolation{Float64,1,Interpolations.BSplineInterpolation{Float64,1,Array{Float64,1},Interpolations.BSpline{Interpolations.Linear},Tuple{Base.OneTo{Int64}}},Interpolations.BSpline{Interpolations.Linear},Tuple{StepRangeLen{Float64,Base.TwicePrecision{Float64},Base.TwicePrecision{Float64}}}},Interpolations.BSpline{Interpolations.Linear},Interpolations.Throw{Nothing}},Array{Float64,1},Array{Float64,1},Array{Float64,1},Array{Float64,1},Array{Float64,1},Int64,Float64,typeof(Interpolations.LinearInterpolation),Float64,Nothing,NamedTuple{(:ρ, :σ, :N, :θ, :γ, :κ, :ζ, :η, :Theta, :χ, :υ, :μ, :δ, :d),Tuple{Float64,Float64,Int64,Float64,Float64,Float64,Float64,Float64,Int64,Float64,Float64,Float64,Float64,Float64}},NamedTuple{(:F, :r, :ν, :a, :b, :S, :L_tilde, :L_tilde_x, :L_tilde_E, :L_tilde_a, :z_bar, :w, :x, :π_min, :π_rat, :g, :z_hat, :Ω, :v_tilde, :y, :c, :λ_ii, :U_bar),Tuple{getfield(PerlaTonettiWaugh, Symbol(\"#F#29\")){Float64},Float64,Float64,Float64,Float64,Float64,Float64,Float64,Float64,Float64,Float64,Float64,Float64,Float64,Float64,Float64,Float64,Float64,Array{Float64,1},Float64,Float64,Float64,Float64}},Float64}}) at C:\\Users\\Chiyoung Ahn\\.julia\\packages\\JSON\\ebvl3\\src\\Writer.jl:349",
      " [10] #sprint#340(::Nothing, ::Int64, ::Function, ::Function, ::NamedTuple{(:z_max, :z_ex, :z, :Δ_E, :ode_solve_algorithm, :T, :t, :g, :weights, :transition_x0, :fifty_node_iv, :transition_lb, :transition_ub, :transition_iterations, :transition_penalty_coefficient, :transition_interpolation_function, :T_U_bar, :tstops, :params_T, :stationary_sol_T, :Ω_0),Tuple{Int64,Array{Float64,1},Array{Float64,1},Float64,Sundials.CVODE_BDF{:Newton,:Dense},Float64,StepRangeLen{Float64,Base.TwicePrecision{Float64},Base.TwicePrecision{Float64}},Interpolations.Extrapolation{Float64,1,Interpolations.ScaledInterpolation{Float64,1,Interpolations.BSplineInterpolation{Float64,1,Array{Float64,1},Interpolations.BSpline{Interpolations.Linear},Tuple{Base.OneTo{Int64}}},Interpolations.BSpline{Interpolations.Linear},Tuple{StepRangeLen{Float64,Base.TwicePrecision{Float64},Base.TwicePrecision{Float64}}}},Interpolations.BSpline{Interpolations.Linear},Interpolations.Throw{Nothing}},Array{Float64,1},Array{Float64,1},Array{Float64,1},Array{Float64,1},Array{Float64,1},Int64,Float64,typeof(Interpolations.LinearInterpolation),Float64,Nothing,NamedTuple{(:ρ, :σ, :N, :θ, :γ, :κ, :ζ, :η, :Theta, :χ, :υ, :μ, :δ, :d),Tuple{Float64,Float64,Int64,Float64,Float64,Float64,Float64,Float64,Int64,Float64,Float64,Float64,Float64,Float64}},NamedTuple{(:F, :r, :ν, :a, :b, :S, :L_tilde, :L_tilde_x, :L_tilde_E, :L_tilde_a, :z_bar, :w, :x, :π_min, :π_rat, :g, :z_hat, :Ω, :v_tilde, :y, :c, :λ_ii, :U_bar),Tuple{getfield(PerlaTonettiWaugh, Symbol(\"#F#29\")){Float64},Float64,Float64,Float64,Float64,Float64,Float64,Float64,Float64,Float64,Float64,Float64,Float64,Float64,Float64,Float64,Float64,Float64,Array{Float64,1},Float64,Float64,Float64,Float64}},Float64}}) at .\\strings\\io.jl:101",
      " [11] sprint at .\\strings\\io.jl:97 [inlined]",
      " [12] json(::NamedTuple{(:z_max, :z_ex, :z, :Δ_E, :ode_solve_algorithm, :T, :t, :g, :weights, :transition_x0, :fifty_node_iv, :transition_lb, :transition_ub, :transition_iterations, :transition_penalty_coefficient, :transition_interpolation_function, :T_U_bar, :tstops, :params_T, :stationary_sol_T, :Ω_0),Tuple{Int64,Array{Float64,1},Array{Float64,1},Float64,Sundials.CVODE_BDF{:Newton,:Dense},Float64,StepRangeLen{Float64,Base.TwicePrecision{Float64},Base.TwicePrecision{Float64}},Interpolations.Extrapolation{Float64,1,Interpolations.ScaledInterpolation{Float64,1,Interpolations.BSplineInterpolation{Float64,1,Array{Float64,1},Interpolations.BSpline{Interpolations.Linear},Tuple{Base.OneTo{Int64}}},Interpolations.BSpline{Interpolations.Linear},Tuple{StepRangeLen{Float64,Base.TwicePrecision{Float64},Base.TwicePrecision{Float64}}}},Interpolations.BSpline{Interpolations.Linear},Interpolations.Throw{Nothing}},Array{Float64,1},Array{Float64,1},Array{Float64,1},Array{Float64,1},Array{Float64,1},Int64,Float64,typeof(Interpolations.LinearInterpolation),Float64,Nothing,NamedTuple{(:ρ, :σ, :N, :θ, :γ, :κ, :ζ, :η, :Theta, :χ, :υ, :μ, :δ, :d),Tuple{Float64,Float64,Int64,Float64,Float64,Float64,Float64,Float64,Int64,Float64,Float64,Float64,Float64,Float64}},NamedTuple{(:F, :r, :ν, :a, :b, :S, :L_tilde, :L_tilde_x, :L_tilde_E, :L_tilde_a, :z_bar, :w, :x, :π_min, :π_rat, :g, :z_hat, :Ω, :v_tilde, :y, :c, :λ_ii, :U_bar),Tuple{getfield(PerlaTonettiWaugh, Symbol(\"#F#29\")){Float64},Float64,Float64,Float64,Float64,Float64,Float64,Float64,Float64,Float64,Float64,Float64,Float64,Float64,Float64,Float64,Float64,Float64,Array{Float64,1},Float64,Float64,Float64,Float64}},Float64}}) at C:\\Users\\Chiyoung Ahn\\.julia\\packages\\JSON\\ebvl3\\src\\Writer.jl:354",
      " [13] #solve_full_model#131(::Bool, ::String, ::Bool, ::Bool, ::Nothing, ::Bool, ::Function, ::NamedTuple{(:z_max, :z_ex, :z, :Δ_E, :ode_solve_algorithm, :T, :t, :g, :weights, :transition_x0, :fifty_node_iv, :transition_lb, :transition_ub, :transition_iterations, :transition_penalty_coefficient, :transition_interpolation_function, :T_U_bar, :tstops, :params_T, :stationary_sol_T, :Ω_0),Tuple{Int64,Array{Float64,1},Array{Float64,1},Float64,Sundials.CVODE_BDF{:Newton,:Dense},Float64,StepRangeLen{Float64,Base.TwicePrecision{Float64},Base.TwicePrecision{Float64}},Interpolations.Extrapolation{Float64,1,Interpolations.ScaledInterpolation{Float64,1,Interpolations.BSplineInterpolation{Float64,1,Array{Float64,1},Interpolations.BSpline{Interpolations.Linear},Tuple{Base.OneTo{Int64}}},Interpolations.BSpline{Interpolations.Linear},Tuple{StepRangeLen{Float64,Base.TwicePrecision{Float64},Base.TwicePrecision{Float64}}}},Interpolations.BSpline{Interpolations.Linear},Interpolations.Throw{Nothing}},Array{Float64,1},Array{Float64,1},Array{Float64,1},Array{Float64,1},Array{Float64,1},Int64,Float64,typeof(Interpolations.LinearInterpolation),Float64,Nothing,NamedTuple{(:ρ, :σ, :N, :θ, :γ, :κ, :ζ, :η, :Theta, :χ, :υ, :μ, :δ, :d),Tuple{Float64,Float64,Int64,Float64,Float64,Float64,Float64,Float64,Int64,Float64,Float64,Float64,Float64,Float64}},NamedTuple{(:F, :r, :ν, :a, :b, :S, :L_tilde, :L_tilde_x, :L_tilde_E, :L_tilde_a, :z_bar, :w, :x, :π_min, :π_rat, :g, :z_hat, :Ω, :v_tilde, :y, :c, :λ_ii, :U_bar),Tuple{getfield(PerlaTonettiWaugh, Symbol(\"#F#29\")){Float64},Float64,Float64,Float64,Float64,Float64,Float64,Float64,Float64,Float64,Float64,Float64,Float64,Float64,Float64,Float64,Float64,Float64,Array{Float64,1},Float64,Float64,Float64,Float64}},Float64}}) at C:\\Users\\Chiyoung Ahn\\.julia\\dev\\PerlaTonettiWaugh\\src\\full\\transition.jl:97",
      " [14] (::getfield(PerlaTonettiWaugh, Symbol(\"#kw##solve_full_model\")))(::NamedTuple{(:impose_E_monotonicity_constraints, :write_data, :read_data, :run_global),NTuple{4,Bool}}, ::typeof(solve_full_model), ::NamedTuple{(:z_max, :z_ex, :z, :Δ_E, :ode_solve_algorithm, :T, :t, :g, :weights, :transition_x0, :fifty_node_iv, :transition_lb, :transition_ub, :transition_iterations, :transition_penalty_coefficient, :transition_interpolation_function, :T_U_bar, :tstops, :params_T, :stationary_sol_T, :Ω_0),Tuple{Int64,Array{Float64,1},Array{Float64,1},Float64,Sundials.CVODE_BDF{:Newton,:Dense},Float64,StepRangeLen{Float64,Base.TwicePrecision{Float64},Base.TwicePrecision{Float64}},Interpolations.Extrapolation{Float64,1,Interpolations.ScaledInterpolation{Float64,1,Interpolations.BSplineInterpolation{Float64,1,Array{Float64,1},Interpolations.BSpline{Interpolations.Linear},Tuple{Base.OneTo{Int64}}},Interpolations.BSpline{Interpolations.Linear},Tuple{StepRangeLen{Float64,Base.TwicePrecision{Float64},Base.TwicePrecision{Float64}}}},Interpolations.BSpline{Interpolations.Linear},Interpolations.Throw{Nothing}},Array{Float64,1},Array{Float64,1},Array{Float64,1},Array{Float64,1},Array{Float64,1},Int64,Float64,typeof(Interpolations.LinearInterpolation),Float64,Nothing,NamedTuple{(:ρ, :σ, :N, :θ, :γ, :κ, :ζ, :η, :Theta, :χ, :υ, :μ, :δ, :d),Tuple{Float64,Float64,Int64,Float64,Float64,Float64,Float64,Float64,Int64,Float64,Float64,Float64,Float64,Float64}},NamedTuple{(:F, :r, :ν, :a, :b, :S, :L_tilde, :L_tilde_x, :L_tilde_E, :L_tilde_a, :z_bar, :w, :x, :π_min, :π_rat, :g, :z_hat, :Ω, :v_tilde, :y, :c, :λ_ii, :U_bar),Tuple{getfield(PerlaTonettiWaugh, Symbol(\"#F#29\")){Float64},Float64,Float64,Float64,Float64,Float64,Float64,Float64,Float64,Float64,Float64,Float64,Float64,Float64,Float64,Float64,Float64,Float64,Array{Float64,1},Float64,Float64,Float64,Float64}},Float64}}) at .\\none:0",
      " [15] top-level scope at util.jl:156",
      " [16] top-level scope at In[18]:1"
     ]
    }
   ],
   "source": [
    "@time result = solve_full_model(merge(settings, (transition_iterations = (changed_parameters ? 10000 : 0),)); \n",
    "    impose_E_monotonicity_constraints = true, \n",
    "    write_data = true, # change to true if you want to cache results\n",
    "    read_data = true, # change to false if you want to ignore any existing cache\n",
    "    run_global = false)\n",
    "\n",
    "if haskey(result, :data)\n",
    "   solved = result.data; # if we read a cache\n",
    "else \n",
    "   solved = result.solution;\n",
    "   E_nodes = result.E_nodes;\n",
    "   solved = solved.results;\n",
    "end"
   ]
  },
  {
   "cell_type": "code",
   "execution_count": 19,
   "metadata": {},
   "outputs": [
    {
     "ename": "UndefVarError",
     "evalue": "UndefVarError: E_nodes not defined",
     "output_type": "error",
     "traceback": [
      "UndefVarError: E_nodes not defined",
      "",
      "Stacktrace:",
      " [1] top-level scope at In[19]:1"
     ]
    }
   ],
   "source": [
    "E_nodes"
   ]
  },
  {
   "cell_type": "markdown",
   "metadata": {},
   "source": [
    "---\n",
    "## Welfare Gains"
   ]
  },
  {
   "cell_type": "code",
   "execution_count": 20,
   "metadata": {},
   "outputs": [
    {
     "name": "stdout",
     "output_type": "stream",
     "text": [
      "Utility in initial SS: 16.106813814683527\n",
      "Utility in new SS: 19.536172711003402\n"
     ]
    }
   ],
   "source": [
    "print(\"Utility in initial SS: \", stationary_sol_0.U_bar,\"\\n\")\n",
    "print(\"Utility in new SS: \", stationary_sol.U_bar,\"\\n\")"
   ]
  },
  {
   "cell_type": "code",
   "execution_count": 21,
   "metadata": {},
   "outputs": [
    {
     "ename": "UndefVarError",
     "evalue": "UndefVarError: solved not defined",
     "output_type": "error",
     "traceback": [
      "UndefVarError: solved not defined",
      "",
      "Stacktrace:",
      " [1] top-level scope at In[21]:1"
     ]
    }
   ],
   "source": [
    "print(\"Utility immediately after change \", solved.U[1],\"\\n\")"
   ]
  },
  {
   "cell_type": "markdown",
   "metadata": {},
   "source": [
    "#### Summary so far...\n",
    "\n",
    "In the old paper, what we did was take U_0_ss at some date t, then compare it to U_ss at the same date t. This is like an instantaneous jump to the new ss. This is what the first cell is looking at and note that this is like a 17 percent increase in utility. Higher than what we had in the paper, but in of the same order of magnitude. \n",
    "\n",
    "The next cell reprots the utility just after the change. Utility here includes the future path of consumption and change in growth rate, so it \"bakes in\" the transition path. Here it goes up by much more than utility in the new SS. This is what I was expecting given the dynamics of consumption. "
   ]
  },
  {
   "cell_type": "code",
   "execution_count": 22,
   "metadata": {},
   "outputs": [
    {
     "ename": "UndefVarError",
     "evalue": "UndefVarError: solved not defined",
     "output_type": "error",
     "traceback": [
      "UndefVarError: solved not defined",
      "",
      "Stacktrace:",
      " [1] top-level scope at In[22]:1"
     ]
    }
   ],
   "source": [
    "solved.r[100] + 0.05\n",
    "\n",
    "stationary_sol_0.r"
   ]
  },
  {
   "cell_type": "markdown",
   "metadata": {},
   "source": [
    "Just a reminder about how the function `counsumption_equivalent(U_new, U_old, parameters)` works, it takes U_new and then U_old in that order, then evaluates the **gross** increase in consumption. 100 times this value **minus one** gives the permanent, percent increase in consumption required to make the agent indifferent between the two paths. "
   ]
  },
  {
   "cell_type": "code",
   "execution_count": 23,
   "metadata": {},
   "outputs": [
    {
     "name": "stdout",
     "output_type": "stream",
     "text": [
      "SS to SS welfare gain: 7.6517416240797775\n"
     ]
    }
   ],
   "source": [
    "#T = solved.t[end]\n",
    "lambda_ss = 100*(consumption_equivalent(stationary_sol.U_bar, stationary_sol_0.U_bar, parameters)-1)\n",
    "\n",
    "print(\"SS to SS welfare gain: \", lambda_ss,\"\\n\")"
   ]
  },
  {
   "cell_type": "code",
   "execution_count": 24,
   "metadata": {},
   "outputs": [
    {
     "ename": "UndefVarError",
     "evalue": "UndefVarError: solved not defined",
     "output_type": "error",
     "traceback": [
      "UndefVarError: solved not defined",
      "",
      "Stacktrace:",
      " [1] top-level scope at In[24]:1"
     ]
    }
   ],
   "source": [
    "lambda_tpath = 100*(consumption_equivalent(solved.U[1], stationary_sol_0.U_bar, parameters)-1)\n",
    "\n",
    "print(\"Inclusive of the Transition Path: \", lambda_tpath,\"\\n\")"
   ]
  },
  {
   "cell_type": "markdown",
   "metadata": {},
   "source": [
    "### Relative to initial notebook computations\n",
    "\n",
    "- SS to SS, the issue here is that we should compare **at date 0** utility in the first ss vs. the second ss. This is what we must have been doing in the previous version of the paper. The previous calulation in the old notebook had \n",
    "```consumption_equivalent(solved.U[end], stationary_sol_0.U_bar, parameters)```\n",
    "which took **date T** utility and compard them. The problem is that this now depends on date T. So if we picked T to be arbitraily large, then utility will be arbitraily different.\n",
    "\n",
    "- Following the same logic, the transition path should compare **date 0** utility with the initial value from the transition path. So what we want to do is to compare everything at 0. In the previous calculation, we had\n",
    "```consumption_equivalent(solved.U[1], stationary_sol_0.U_bar, parameters)```\n",
    "were comparing the initial utility relative to ss utility on the old path at date T. So the initial blue point below versues the last orange dashed point. **See the figure below**"
   ]
  },
  {
   "cell_type": "code",
   "execution_count": 25,
   "metadata": {},
   "outputs": [
    {
     "ename": "UndefVarError",
     "evalue": "UndefVarError: solved not defined",
     "output_type": "error",
     "traceback": [
      "UndefVarError: solved not defined",
      "",
      "Stacktrace:",
      " [1] top-level scope at In[25]:4"
     ]
    }
   ],
   "source": [
    "# generate the plot!\n",
    "U_steady_0(t) = stationary_sol_0.U_bar\n",
    "U_steady_T(t) = stationary_sol.U_bar\n",
    "\n",
    "plot(solved.t, \n",
    "    [solved.U, U_steady_0, U_steady_T], \n",
    "    label = [\"U_transition\", \"U_steady_0\", \"U_steady_T\"] ,\n",
    "    title = \"U(t)\", linestyle = :auto, lw = 3)"
   ]
  },
  {
   "cell_type": "markdown",
   "metadata": {},
   "source": [
    "### Outstanding Issue \\#2: Welfare Gains still depend on T in transition path.\n",
    "\n",
    "The stuff above I think is correct, the one issue is why does the welfare gains, inclusive of the transition path seem to depend on T??? So change T above from 40 to 75 or 100, then the welfare gains fall alot? Why?"
   ]
  },
  {
   "cell_type": "markdown",
   "metadata": {},
   "source": [
    "---\n",
    "## Plotting"
   ]
  },
  {
   "cell_type": "code",
   "execution_count": 26,
   "metadata": {},
   "outputs": [
    {
     "ename": "UndefVarError",
     "evalue": "UndefVarError: solved not defined",
     "output_type": "error",
     "traceback": [
      "UndefVarError: solved not defined",
      "",
      "Stacktrace:",
      " [1] top-level scope at In[26]:1"
     ]
    }
   ],
   "source": [
    "solved.U[end]"
   ]
  },
  {
   "cell_type": "markdown",
   "metadata": {},
   "source": [
    "## Plots for Ω and residuals"
   ]
  },
  {
   "cell_type": "code",
   "execution_count": 27,
   "metadata": {},
   "outputs": [
    {
     "ename": "UndefVarError",
     "evalue": "UndefVarError: solved not defined",
     "output_type": "error",
     "traceback": [
      "UndefVarError: solved not defined",
      "",
      "Stacktrace:",
      " [1] top-level scope at In[27]:1"
     ]
    }
   ],
   "source": [
    "#solved = solved.results;\n",
    "plot_Ω = plot(solved.t, solved.Ω, label = \"Omega\", lw = 3)\n",
    "plot_residual = plot(solved.t, solved.entry_residual, label = \"entry_residual\", lw = 3)\n",
    "plot(plot_Ω, plot_residual, layout = (2,1))"
   ]
  },
  {
   "cell_type": "markdown",
   "metadata": {},
   "source": [
    "## Primary Plots"
   ]
  },
  {
   "cell_type": "code",
   "execution_count": 28,
   "metadata": {
    "scrolled": true
   },
   "outputs": [
    {
     "ename": "UndefVarError",
     "evalue": "UndefVarError: solved not defined",
     "output_type": "error",
     "traceback": [
      "UndefVarError: solved not defined",
      "",
      "Stacktrace:",
      " [1] top-level scope at In[28]:1"
     ]
    }
   ],
   "source": [
    "plot1 = plot(solved.t, solved.g, label = \"g\", lw = 3)\n",
    "plot2 = plot(solved.t, solved.z_hat, label = \"z_hat\", lw = 3)\n",
    "plot3 = plot(solved.t, solved.S, label = \"S\", lw = 3)\n",
    "plot4 = plot(solved.t, solved.entry_residual, label = \"entry_residual\", lw = 3)\n",
    "plot(plot1, plot2, plot3, plot4, layout=(2,2), size = (800, 400))"
   ]
  },
  {
   "cell_type": "markdown",
   "metadata": {},
   "source": [
    "## Static Equations"
   ]
  },
  {
   "cell_type": "code",
   "execution_count": 29,
   "metadata": {},
   "outputs": [
    {
     "ename": "UndefVarError",
     "evalue": "UndefVarError: solved not defined",
     "output_type": "error",
     "traceback": [
      "UndefVarError: solved not defined",
      "",
      "Stacktrace:",
      " [1] top-level scope at In[29]:1"
     ]
    }
   ],
   "source": [
    "plot1 = plot(solved.t, solved.L_tilde, label = \"L_tilde\", lw = 3)\n",
    "plot2 = plot(solved.t, solved.z_bar, label = \"z_bar\", lw = 3)\n",
    "plot3 = plot(solved.t, solved.π_min, label = \"pi_min\", lw = 3)\n",
    "plot4 = plot(solved.t, solved.λ_ii, label = \"lambda_ii\", lw = 3)\n",
    "plot5 = plot(solved.t, solved.c, label = \"c\", lw = 3)\n",
    "plot6 = plot(solved.t, solved.E, label = \"E\", lw = 3)\n",
    "plot7 = plot(solved.t, solved.log_M, label = \"log_M\", lw = 3)\n",
    "plot8 = plot(solved.t, solved.U, label = \"U\", lw = 3)\n",
    "plot9 = plot(solved.t, solved.π_rat, label = \"pi_rat\", lw = 3)\n",
    "plot(plot1, plot2, plot3, plot4, plot5, plot6, plot7, plot8, plot9, layout=(3,3), size = (1000, 1000))"
   ]
  },
  {
   "cell_type": "markdown",
   "metadata": {},
   "source": [
    "# Welfare analysis"
   ]
  },
  {
   "cell_type": "markdown",
   "metadata": {},
   "source": [
    "### `log_M(t)`"
   ]
  },
  {
   "cell_type": "code",
   "execution_count": 30,
   "metadata": {
    "scrolled": true
   },
   "outputs": [
    {
     "ename": "UndefVarError",
     "evalue": "UndefVarError: solved not defined",
     "output_type": "error",
     "traceback": [
      "UndefVarError: solved not defined",
      "",
      "Stacktrace:",
      " [1] top-level scope at In[30]:4"
     ]
    }
   ],
   "source": [
    "# define log_M with steady state g\n",
    "log_M_steady_0(t) = stationary_sol_0.g * t\n",
    "log_M_steady_T(t) = stationary_sol.g * t\n",
    "\n",
    "# generate the plot!\n",
    "plot(solved.t, \n",
    "    [solved.log_M, log_M_steady_0, log_M_steady_T], \n",
    "    label = [\"log_M_transition_0\", \"log_M_steady_0\", \"log_M_steady_T\"] ,\n",
    "    title = \"log_M(t)\", linestyle = :auto, lw = 3)"
   ]
  },
  {
   "cell_type": "markdown",
   "metadata": {},
   "source": [
    "### `Ω(t)`"
   ]
  },
  {
   "cell_type": "code",
   "execution_count": 31,
   "metadata": {},
   "outputs": [
    {
     "ename": "UndefVarError",
     "evalue": "UndefVarError: solved not defined",
     "output_type": "error",
     "traceback": [
      "UndefVarError: solved not defined",
      "",
      "Stacktrace:",
      " [1] top-level scope at In[31]:4"
     ]
    }
   ],
   "source": [
    "# define Ω function (constant)\n",
    "Ω_steady_0(t) = stationary_sol_0.Ω\n",
    "Ω_steady_T(t) = stationary_sol.Ω\n",
    "\n",
    "# generate the plot!\n",
    "plot(solved.t, \n",
    "    [solved.Ω, Ω_steady_0, Ω_steady_T], \n",
    "    label = [\"Omega_transition_0\", \"Omega_steady_0\", \"Omega_steady_T\"] ,\n",
    "    title = \"Omega(t)\", linestyle = :auto, lw = 3)"
   ]
  },
  {
   "cell_type": "markdown",
   "metadata": {},
   "source": [
    "### `c(t)`"
   ]
  },
  {
   "cell_type": "code",
   "execution_count": 32,
   "metadata": {},
   "outputs": [
    {
     "ename": "UndefVarError",
     "evalue": "UndefVarError: solved not defined",
     "output_type": "error",
     "traceback": [
      "UndefVarError: solved not defined",
      "",
      "Stacktrace:",
      " [1] top-level scope at In[32]:4"
     ]
    }
   ],
   "source": [
    "# define c function (constant)\n",
    "c_steady_0(t) = stationary_sol_0.c\n",
    "c_steady_T(t) = stationary_sol.c\n",
    "\n",
    "# generate the plot!\n",
    "plot(solved.t, \n",
    "    [solved.c, c_steady_0, c_steady_T], \n",
    "    label = [\"c_transition_0\", \"c_steady_0\", \"c_steady_T\"] ,\n",
    "    title = \"c(t)\", linestyle = :auto, lw = 3)"
   ]
  },
  {
   "cell_type": "markdown",
   "metadata": {},
   "source": [
    "### `U(t)`"
   ]
  },
  {
   "cell_type": "code",
   "execution_count": 33,
   "metadata": {
    "scrolled": true
   },
   "outputs": [
    {
     "ename": "UndefVarError",
     "evalue": "UndefVarError: solved not defined",
     "output_type": "error",
     "traceback": [
      "UndefVarError: solved not defined",
      "",
      "Stacktrace:",
      " [1] top-level scope at In[33]:4"
     ]
    }
   ],
   "source": [
    "# generate the plot!\n",
    "U_steady_0(t) = stationary_sol_0.U_bar\n",
    "U_steady_T(t) = stationary_sol.U_bar\n",
    "\n",
    "plot(solved.t, \n",
    "    [solved.U, U_steady_0, U_steady_T], \n",
    "    label = [\"U_transition\", \"U_steady_0\", \"U_steady_T\"] ,\n",
    "    title = \"U(t)\", linestyle = :auto, lw = 3)"
   ]
  },
  {
   "cell_type": "markdown",
   "metadata": {},
   "source": [
    "## Consumption equivalent for search threshold (`M(0)`)\n",
    "See computational appendix for details."
   ]
  },
  {
   "cell_type": "markdown",
   "metadata": {},
   "source": [
    "### `M(0)` by two steady states (autarky and steady state at `T`)"
   ]
  },
  {
   "cell_type": "code",
   "execution_count": 34,
   "metadata": {
    "scrolled": false
   },
   "outputs": [
    {
     "ename": "UndefVarError",
     "evalue": "UndefVarError: solved not defined",
     "output_type": "error",
     "traceback": [
      "UndefVarError: solved not defined",
      "",
      "Stacktrace:",
      " [1] top-level scope at In[34]:1"
     ]
    }
   ],
   "source": [
    "T = solved.t[end]\n",
    "consumption_equivalent(solved.U[end], stationary_sol_0.U_bar, parameters)"
   ]
  },
  {
   "cell_type": "markdown",
   "metadata": {},
   "source": [
    "### `M(0)` by autarky and transition from `t=0`"
   ]
  },
  {
   "cell_type": "code",
   "execution_count": 35,
   "metadata": {
    "scrolled": true
   },
   "outputs": [
    {
     "ename": "UndefVarError",
     "evalue": "UndefVarError: solved not defined",
     "output_type": "error",
     "traceback": [
      "UndefVarError: solved not defined",
      "",
      "Stacktrace:",
      " [1] top-level scope at In[35]:1"
     ]
    }
   ],
   "source": [
    "T = solved.t[end]\n",
    "consumption_equivalent(solved.U[1], stationary_sol_0.U_bar, parameters)"
   ]
  },
  {
   "cell_type": "markdown",
   "metadata": {},
   "source": [
    "But if we include the transition path, this falls a lot. Like down to 13 percent gain. "
   ]
  },
  {
   "cell_type": "code",
   "execution_count": 36,
   "metadata": {},
   "outputs": [],
   "source": [
    "# solved \n",
    "# Run the above to see the whole dataframe"
   ]
  },
  {
   "cell_type": "code",
   "execution_count": 37,
   "metadata": {},
   "outputs": [],
   "source": [
    "using DataFrames\n",
    "\n",
    "df_stationary = DataFrame(t = -1.00, g =stationary_sol_0.g, λ_ii = stationary_sol_0.λ_ii, c = stationary_sol_0.c, L_tilde = stationary_sol_0.L_tilde, Ω = stationary_sol_0.Ω,\n",
    "    π_rat = stationary_sol_0.π_rat, L_tilde_a = stationary_sol_0.L_tilde_a, L_tilde_x = stationary_sol_0.L_tilde_x, \n",
    "    L_tilde_E= stationary_sol_0.L_tilde_E, r = stationary_sol_0.r);"
   ]
  },
  {
   "cell_type": "code",
   "execution_count": 38,
   "metadata": {},
   "outputs": [
    {
     "data": {
      "text/plain": [
       "\"stationary_results.csv\""
      ]
     },
     "execution_count": 38,
     "metadata": {},
     "output_type": "execute_result"
    }
   ],
   "source": [
    "CSV.write(\"stationary_results.csv\", df_stationary)"
   ]
  },
  {
   "cell_type": "code",
   "execution_count": 39,
   "metadata": {},
   "outputs": [
    {
     "ename": "UndefVarError",
     "evalue": "UndefVarError: solved not defined",
     "output_type": "error",
     "traceback": [
      "UndefVarError: solved not defined",
      "",
      "Stacktrace:",
      " [1] top-level scope at In[39]:1"
     ]
    }
   ],
   "source": [
    "df_transition = DataFrame(t = solved.t, g =solved.g, λ_ii = solved.λ_ii, c = solved.c, L_tilde = solved.L_tilde, Ω = solved.Ω,\n",
    "    π_rat = solved.π_rat, L_tilde_a = solved.L_tilde_a, L_tilde_x = solved.L_tilde_x,\n",
    "    L_tilde_E= solved.L_tilde_E, r = solved.r .+ parameters.δ);"
   ]
  },
  {
   "cell_type": "code",
   "execution_count": 40,
   "metadata": {},
   "outputs": [
    {
     "ename": "UndefVarError",
     "evalue": "UndefVarError: df_transition not defined",
     "output_type": "error",
     "traceback": [
      "UndefVarError: df_transition not defined",
      "",
      "Stacktrace:",
      " [1] top-level scope at In[40]:1"
     ]
    }
   ],
   "source": [
    "CSV.write(\"transition_results.csv\", df_transition)"
   ]
  },
  {
   "cell_type": "code",
   "execution_count": 41,
   "metadata": {},
   "outputs": [
    {
     "data": {
      "text/plain": [
       "1.8110075391436142"
      ]
     },
     "execution_count": 41,
     "metadata": {},
     "output_type": "execute_result"
    }
   ],
   "source": [
    "stationary_sol_0.π_rat"
   ]
  },
  {
   "cell_type": "code",
   "execution_count": 42,
   "metadata": {},
   "outputs": [
    {
     "ename": "UndefVarError",
     "evalue": "UndefVarError: lambda_tpath not defined",
     "output_type": "error",
     "traceback": [
      "UndefVarError: lambda_tpath not defined",
      "",
      "Stacktrace:",
      " [1] top-level scope at In[42]:1"
     ]
    }
   ],
   "source": [
    "df_welfare = DataFrame(steady_state = lambda_ss, transition_path = lambda_tpath, growth_rate = stationary_sol.g, theta = parameters.θ);\n",
    "CSV.write(\"welfare_results.csv\", df_welfare)"
   ]
  },
  {
   "cell_type": "code",
   "execution_count": 43,
   "metadata": {},
   "outputs": [
    {
     "data": {
      "text/plain": [
       "\"autarky_welfare_results.csv\""
      ]
     },
     "execution_count": 43,
     "metadata": {},
     "output_type": "execute_result"
    }
   ],
   "source": [
    "df_autarky = DataFrame(steady_state = lambda_ss_autarky, growth_rate = stationary_autarky.g, theta = parameters.θ);\n",
    "CSV.write(\"autarky_welfare_results.csv\", df_autarky)"
   ]
  },
  {
   "cell_type": "markdown",
   "metadata": {},
   "source": [
    "### R and W"
   ]
  },
  {
   "cell_type": "code",
   "execution_count": 44,
   "metadata": {},
   "outputs": [
    {
     "ename": "UndefVarError",
     "evalue": "UndefVarError: solved not defined",
     "output_type": "error",
     "traceback": [
      "UndefVarError: solved not defined",
      "",
      "Stacktrace:",
      " [1] top-level scope at In[44]:1"
     ]
    }
   ],
   "source": [
    "plot(solved.r, legend = false, title = \"r over time\", xlabel = \"T\", ylabel = \"r\")"
   ]
  },
  {
   "cell_type": "code",
   "execution_count": 45,
   "metadata": {},
   "outputs": [
    {
     "ename": "UndefVarError",
     "evalue": "UndefVarError: solved not defined",
     "output_type": "error",
     "traceback": [
      "UndefVarError: solved not defined",
      "",
      "Stacktrace:",
      " [1] top-level scope at In[45]:1"
     ]
    }
   ],
   "source": [
    "plot(solved.w, legend = false, title = \"w over time\", xlabel = \"T\", ylabel = \"w\")"
   ]
  },
  {
   "cell_type": "code",
   "execution_count": 46,
   "metadata": {},
   "outputs": [
    {
     "ename": "UndefVarError",
     "evalue": "UndefVarError: solved not defined",
     "output_type": "error",
     "traceback": [
      "UndefVarError: solved not defined",
      "",
      "Stacktrace:",
      " [1] top-level scope at In[46]:1"
     ]
    }
   ],
   "source": [
    "plot(solved.L_tilde_a, legend = false, xlabel = \"T\", title = \"Labor Share: Adoption\")"
   ]
  },
  {
   "cell_type": "code",
   "execution_count": 47,
   "metadata": {},
   "outputs": [
    {
     "ename": "UndefVarError",
     "evalue": "UndefVarError: solved not defined",
     "output_type": "error",
     "traceback": [
      "UndefVarError: solved not defined",
      "",
      "Stacktrace:",
      " [1] top-level scope at In[47]:1"
     ]
    }
   ],
   "source": [
    "plot(solved.L_tilde_E, legend = false, xlabel = \"T\", title = \"Labor Share: Entrycosts\")"
   ]
  },
  {
   "cell_type": "code",
   "execution_count": 48,
   "metadata": {},
   "outputs": [
    {
     "ename": "UndefVarError",
     "evalue": "UndefVarError: solved not defined",
     "output_type": "error",
     "traceback": [
      "UndefVarError: solved not defined",
      "",
      "Stacktrace:",
      " [1] top-level scope at In[48]:1"
     ]
    }
   ],
   "source": [
    "plot(solved.L_tilde_x, legend = false, xlabel = \"T\", title = \"Labor Share: Export\")"
   ]
  }
 ],
 "metadata": {
  "kernelspec": {
   "display_name": "Julia 1.1.0",
   "language": "julia",
   "name": "julia-1.1"
  },
  "language_info": {
   "file_extension": ".jl",
   "mimetype": "application/julia",
   "name": "julia",
   "version": "1.1.0"
  }
 },
 "nbformat": 4,
 "nbformat_minor": 2
}
