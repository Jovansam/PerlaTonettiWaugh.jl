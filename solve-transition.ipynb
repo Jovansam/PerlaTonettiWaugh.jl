{
 "cells": [
  {
   "cell_type": "code",
   "execution_count": 1,
   "metadata": {
    "scrolled": true
   },
   "outputs": [
    {
     "name": "stdout",
     "output_type": "stream",
     "text": [
      "\u001b[32m\u001b[1m  Updating\u001b[22m\u001b[39m registry at `~/.julia/registries/General`\n",
      "\u001b[32m\u001b[1m  Updating\u001b[22m\u001b[39m git-repo `https://github.com/JuliaRegistries/General.git`\n",
      "\u001b[2K\u001b[?25h\u001b[32m\u001b[1mPrecompiling\u001b[22m\u001b[39m project...\n",
      "\u001b[32m\u001b[1mPrecompiling\u001b[22m\u001b[39m CSV\n"
     ]
    },
    {
     "name": "stderr",
     "output_type": "stream",
     "text": [
      "┌ Info: Precompiling CSV [336ed68f-0bac-5ca0-87d4-7b16caf5d00b]\n",
      "└ @ Base loading.jl:1192\n"
     ]
    },
    {
     "name": "stdout",
     "output_type": "stream",
     "text": [
      "\u001b[32m\u001b[1mPrecompiling\u001b[22m\u001b[39m ForwardDiff\n"
     ]
    },
    {
     "name": "stderr",
     "output_type": "stream",
     "text": [
      "┌ Info: Recompiling stale cache file /home/arnavsood/.julia/compiled/v1.0/ForwardDiff/k0ETY.ji for ForwardDiff [f6369f11-7733-5829-9624-2563aa707210]\n",
      "└ @ Base loading.jl:1190\n"
     ]
    },
    {
     "name": "stdout",
     "output_type": "stream",
     "text": [
      "\u001b[32m\u001b[1mPrecompiling\u001b[22m\u001b[39m Sundials\n"
     ]
    },
    {
     "name": "stderr",
     "output_type": "stream",
     "text": [
      "┌ Info: Recompiling stale cache file /home/arnavsood/.julia/compiled/v1.0/Sundials/j8Ppj.ji for Sundials [c3572dad-4567-51f8-b174-8c6c989267f4]\n",
      "└ @ Base loading.jl:1190\n"
     ]
    },
    {
     "name": "stdout",
     "output_type": "stream",
     "text": [
      "\u001b[32m\u001b[1mPrecompiling\u001b[22m\u001b[39m Interpolations\n"
     ]
    },
    {
     "name": "stderr",
     "output_type": "stream",
     "text": [
      "┌ Info: Recompiling stale cache file /home/arnavsood/.julia/compiled/v1.0/Interpolations/VpKVx.ji for Interpolations [a98d9a8b-a2ab-59e6-89dd-64a1c18fca59]\n",
      "└ @ Base loading.jl:1190\n"
     ]
    },
    {
     "name": "stdout",
     "output_type": "stream",
     "text": [
      "\u001b[32m\u001b[1mPrecompiling\u001b[22m\u001b[39m DataFramesMeta\n"
     ]
    },
    {
     "name": "stderr",
     "output_type": "stream",
     "text": [
      "┌ Info: Precompiling DataFramesMeta [1313f7d8-7da2-5740-9ea0-a2ca25f37964]\n",
      "└ @ Base loading.jl:1192\n"
     ]
    },
    {
     "name": "stdout",
     "output_type": "stream",
     "text": [
      "\u001b[32m\u001b[1mPrecompiling\u001b[22m\u001b[39m Compat\n"
     ]
    },
    {
     "name": "stderr",
     "output_type": "stream",
     "text": [
      "┌ Info: Recompiling stale cache file /home/arnavsood/.julia/compiled/v1.0/Compat/GSFWK.ji for Compat [34da2185-b29b-5c13-b0c7-acf172513d20]\n",
      "└ @ Base loading.jl:1190\n"
     ]
    },
    {
     "name": "stdout",
     "output_type": "stream",
     "text": [
      "\u001b[32m\u001b[1mPrecompiling\u001b[22m\u001b[39m Plots\n"
     ]
    },
    {
     "name": "stderr",
     "output_type": "stream",
     "text": [
      "┌ Info: Recompiling stale cache file /home/arnavsood/.julia/compiled/v1.0/Plots/ld3vC.ji for Plots [91a5bcdd-55d7-5caf-9e0b-520d859cae80]\n",
      "└ @ Base loading.jl:1190\n",
      "┌ Warning: Module Compat with build ID 680662520316019 is missing from the cache.\n",
      "│ This may mean Compat [34da2185-b29b-5c13-b0c7-acf172513d20] does not support precompilation but is imported by a module that does.\n",
      "└ @ Base loading.jl:947\n",
      "┌ Warning: Module Compat with build ID 680662520316019 is missing from the cache.\n",
      "│ This may mean Compat [34da2185-b29b-5c13-b0c7-acf172513d20] does not support precompilation but is imported by a module that does.\n",
      "└ @ Base loading.jl:947\n"
     ]
    },
    {
     "name": "stdout",
     "output_type": "stream",
     "text": [
      "\u001b[32m\u001b[1mPrecompiling\u001b[22m\u001b[39m NLSolversBase\n"
     ]
    },
    {
     "name": "stderr",
     "output_type": "stream",
     "text": [
      "┌ Info: Recompiling stale cache file /home/arnavsood/.julia/compiled/v1.0/NLSolversBase/NEDD6.ji for NLSolversBase [d41bc354-129a-5804-8e4c-c37616107c6c]\n",
      "└ @ Base loading.jl:1190\n",
      "┌ Warning: Module Compat with build ID 680662520316019 is missing from the cache.\n",
      "│ This may mean Compat [34da2185-b29b-5c13-b0c7-acf172513d20] does not support precompilation but is imported by a module that does.\n",
      "└ @ Base loading.jl:947\n",
      "┌ Warning: Module Compat with build ID 680662520316019 is missing from the cache.\n",
      "│ This may mean Compat [34da2185-b29b-5c13-b0c7-acf172513d20] does not support precompilation but is imported by a module that does.\n",
      "└ @ Base loading.jl:947\n",
      "┌ Warning: Module Compat with build ID 680662520316019 is missing from the cache.\n",
      "│ This may mean Compat [34da2185-b29b-5c13-b0c7-acf172513d20] does not support precompilation but is imported by a module that does.\n",
      "└ @ Base loading.jl:947\n",
      "┌ Warning: Module Compat with build ID 680662520316019 is missing from the cache.\n",
      "│ This may mean Compat [34da2185-b29b-5c13-b0c7-acf172513d20] does not support precompilation but is imported by a module that does.\n",
      "└ @ Base loading.jl:947\n"
     ]
    },
    {
     "name": "stdout",
     "output_type": "stream",
     "text": [
      "\u001b[32m\u001b[1mPrecompiling\u001b[22m\u001b[39m DiffEqCallbacks\n"
     ]
    },
    {
     "name": "stderr",
     "output_type": "stream",
     "text": [
      "┌ Info: Recompiling stale cache file /home/arnavsood/.julia/compiled/v1.0/DiffEqCallbacks/TKs5l.ji for DiffEqCallbacks [459566f4-90b8-5000-8ac3-15dfb0a30def]\n",
      "└ @ Base loading.jl:1190\n",
      "┌ Warning: Module Compat with build ID 680662520316019 is missing from the cache.\n",
      "│ This may mean Compat [34da2185-b29b-5c13-b0c7-acf172513d20] does not support precompilation but is imported by a module that does.\n",
      "└ @ Base loading.jl:947\n",
      "┌ Warning: Module Compat with build ID 680662520316019 is missing from the cache.\n",
      "│ This may mean Compat [34da2185-b29b-5c13-b0c7-acf172513d20] does not support precompilation but is imported by a module that does.\n",
      "└ @ Base loading.jl:947\n"
     ]
    },
    {
     "name": "stdout",
     "output_type": "stream",
     "text": [
      "\u001b[32m\u001b[1mPrecompiling\u001b[22m\u001b[39m QuadGK\n"
     ]
    },
    {
     "name": "stderr",
     "output_type": "stream",
     "text": [
      "┌ Info: Recompiling stale cache file /home/arnavsood/.julia/compiled/v1.0/QuadGK/hq5Ol.ji for QuadGK [1fd47b50-473d-5c70-9696-f719f8f3bcdc]\n",
      "└ @ Base loading.jl:1190\n"
     ]
    },
    {
     "name": "stdout",
     "output_type": "stream",
     "text": [
      "\u001b[32m\u001b[1mPrecompiling\u001b[22m\u001b[39m Parameters\n"
     ]
    },
    {
     "name": "stderr",
     "output_type": "stream",
     "text": [
      "┌ Info: Recompiling stale cache file /home/arnavsood/.julia/compiled/v1.0/Parameters/ycYNs.ji for Parameters [d96e819e-fc66-5662-9728-84c9c7592b0a]\n",
      "└ @ Base loading.jl:1190\n"
     ]
    }
   ],
   "source": [
    "using Pkg\n",
    "pkg\"activate .\"\n",
    "pkg\"instantiate\"\n",
    "pkg\"precompile\""
   ]
  },
  {
   "cell_type": "code",
   "execution_count": 2,
   "metadata": {},
   "outputs": [
    {
     "name": "stderr",
     "output_type": "stream",
     "text": [
      "┌ Info: Recompiling stale cache file /home/arnavsood/.julia/compiled/v1.0/PerlaTonettiWaugh/Zi3ee.ji for PerlaTonettiWaugh [d2cacc76-b06b-11e8-362b-f18d03a16405]\n",
      "└ @ Base loading.jl:1190\n",
      "┌ Warning: Module Compat with build ID 680662520316019 is missing from the cache.\n",
      "│ This may mean Compat [34da2185-b29b-5c13-b0c7-acf172513d20] does not support precompilation but is imported by a module that does.\n",
      "└ @ Base loading.jl:947\n",
      "┌ Warning: Module Compat with build ID 680662520316019 is missing from the cache.\n",
      "│ This may mean Compat [34da2185-b29b-5c13-b0c7-acf172513d20] does not support precompilation but is imported by a module that does.\n",
      "└ @ Base loading.jl:947\n",
      "┌ Warning: Module Compat with build ID 680662520316019 is missing from the cache.\n",
      "│ This may mean Compat [34da2185-b29b-5c13-b0c7-acf172513d20] does not support precompilation but is imported by a module that does.\n",
      "└ @ Base loading.jl:947\n",
      "┌ Warning: Module Compat with build ID 680662520316019 is missing from the cache.\n",
      "│ This may mean Compat [34da2185-b29b-5c13-b0c7-acf172513d20] does not support precompilation but is imported by a module that does.\n",
      "└ @ Base loading.jl:947\n",
      "┌ Info: Precompiling DifferentialEquations [0c46a032-eb83-5123-abaf-570d42b7fbaa]\n",
      "└ @ Base loading.jl:1192\n",
      "┌ Warning: Module Compat with build ID 680662520316019 is missing from the cache.\n",
      "│ This may mean Compat [34da2185-b29b-5c13-b0c7-acf172513d20] does not support precompilation but is imported by a module that does.\n",
      "└ @ Base loading.jl:947\n",
      "┌ Warning: Module Compat with build ID 680662520316019 is missing from the cache.\n",
      "│ This may mean Compat [34da2185-b29b-5c13-b0c7-acf172513d20] does not support precompilation but is imported by a module that does.\n",
      "└ @ Base loading.jl:947\n",
      "┌ Info: Precompiling DiffEqBase [2b5f629d-d688-5b77-993f-72d75c75574e]\n",
      "└ @ Base loading.jl:1192\n",
      "┌ Warning: Module Compat with build ID 680662520316019 is missing from the cache.\n",
      "│ This may mean Compat [34da2185-b29b-5c13-b0c7-acf172513d20] does not support precompilation but is imported by a module that does.\n",
      "└ @ Base loading.jl:947\n",
      "┌ Info: Recompiling stale cache file /home/arnavsood/.julia/compiled/v1.0/DiffEqPDEBase/dwaH6.ji for DiffEqPDEBase [34035eb4-37db-58ae-b003-a3202c898701]\n",
      "└ @ Base loading.jl:1190\n",
      "┌ Warning: Module DiffEqBase with build ID 763397578340 is missing from the cache.\n",
      "│ This may mean DiffEqBase [2b5f629d-d688-5b77-993f-72d75c75574e] does not support precompilation but is imported by a module that does.\n",
      "└ @ Base loading.jl:947\n",
      "┌ Info: Recompiling stale cache file /home/arnavsood/.julia/compiled/v1.0/DiffEqNoiseProcess/NSRab.ji for DiffEqNoiseProcess [77a26b50-5914-5dd7-bc55-306e6241c503]\n",
      "└ @ Base loading.jl:1190\n",
      "┌ Warning: Module DiffEqBase with build ID 763397578340 is missing from the cache.\n",
      "│ This may mean DiffEqBase [2b5f629d-d688-5b77-993f-72d75c75574e] does not support precompilation but is imported by a module that does.\n",
      "└ @ Base loading.jl:947\n",
      "┌ Info: Recompiling stale cache file /home/arnavsood/.julia/compiled/v1.0/SteadyStateDiffEq/lsCSw.ji for SteadyStateDiffEq [9672c7b4-1e72-59bd-8a11-6ac3964bc41f]\n",
      "└ @ Base loading.jl:1190\n",
      "┌ Warning: Module DiffEqBase with build ID 763397578340 is missing from the cache.\n",
      "│ This may mean DiffEqBase [2b5f629d-d688-5b77-993f-72d75c75574e] does not support precompilation but is imported by a module that does.\n",
      "└ @ Base loading.jl:947\n",
      "┌ Info: Recompiling stale cache file /home/arnavsood/.julia/compiled/v1.0/NLsolve/KFCNP.ji for NLsolve [2774e3e8-f4cf-5e23-947b-6d7e65073b56]\n",
      "└ @ Base loading.jl:1190\n",
      "┌ Warning: Module Compat with build ID 680662520316019 is missing from the cache.\n",
      "│ This may mean Compat [34da2185-b29b-5c13-b0c7-acf172513d20] does not support precompilation but is imported by a module that does.\n",
      "└ @ Base loading.jl:947\n",
      "┌ Warning: Module Compat with build ID 680662520316019 is missing from the cache.\n",
      "│ This may mean Compat [34da2185-b29b-5c13-b0c7-acf172513d20] does not support precompilation but is imported by a module that does.\n",
      "└ @ Base loading.jl:947\n",
      "┌ Warning: Module Compat with build ID 680662520316019 is missing from the cache.\n",
      "│ This may mean Compat [34da2185-b29b-5c13-b0c7-acf172513d20] does not support precompilation but is imported by a module that does.\n",
      "└ @ Base loading.jl:947\n",
      "┌ Warning: Module Compat with build ID 680662520316019 is missing from the cache.\n",
      "│ This may mean Compat [34da2185-b29b-5c13-b0c7-acf172513d20] does not support precompilation but is imported by a module that does.\n",
      "└ @ Base loading.jl:947\n",
      "┌ Warning: Module Compat with build ID 680662520316019 is missing from the cache.\n",
      "│ This may mean Compat [34da2185-b29b-5c13-b0c7-acf172513d20] does not support precompilation but is imported by a module that does.\n",
      "└ @ Base loading.jl:947\n",
      "┌ Warning: Module Compat with build ID 680662520316019 is missing from the cache.\n",
      "│ This may mean Compat [34da2185-b29b-5c13-b0c7-acf172513d20] does not support precompilation but is imported by a module that does.\n",
      "└ @ Base loading.jl:947\n",
      "┌ Warning: Module Compat with build ID 680662520316019 is missing from the cache.\n",
      "│ This may mean Compat [34da2185-b29b-5c13-b0c7-acf172513d20] does not support precompilation but is imported by a module that does.\n",
      "└ @ Base loading.jl:947\n",
      "┌ Warning: Module Compat with build ID 680662520316019 is missing from the cache.\n",
      "│ This may mean Compat [34da2185-b29b-5c13-b0c7-acf172513d20] does not support precompilation but is imported by a module that does.\n",
      "└ @ Base loading.jl:947\n",
      "┌ Info: Precompiling NLSolversBase [d41bc354-129a-5804-8e4c-c37616107c6c]\n",
      "└ @ Base loading.jl:1192\n",
      "┌ Warning: Module Compat with build ID 680662520316019 is missing from the cache.\n",
      "│ This may mean Compat [34da2185-b29b-5c13-b0c7-acf172513d20] does not support precompilation but is imported by a module that does.\n",
      "└ @ Base loading.jl:947\n",
      "┌ Warning: Module Compat with build ID 680662520316019 is missing from the cache.\n",
      "│ This may mean Compat [34da2185-b29b-5c13-b0c7-acf172513d20] does not support precompilation but is imported by a module that does.\n",
      "└ @ Base loading.jl:947\n",
      "┌ Warning: Module Compat with build ID 680662520316019 is missing from the cache.\n",
      "│ This may mean Compat [34da2185-b29b-5c13-b0c7-acf172513d20] does not support precompilation but is imported by a module that does.\n",
      "└ @ Base loading.jl:947\n",
      "┌ Warning: Module Compat with build ID 680662520316019 is missing from the cache.\n",
      "│ This may mean Compat [34da2185-b29b-5c13-b0c7-acf172513d20] does not support precompilation but is imported by a module that does.\n",
      "└ @ Base loading.jl:947\n",
      "┌ Info: Precompiling ForwardDiff [f6369f11-7733-5829-9624-2563aa707210]\n",
      "└ @ Base loading.jl:1192\n",
      "┌ Warning: Module Compat with build ID 680662520316019 is missing from the cache.\n",
      "│ This may mean Compat [34da2185-b29b-5c13-b0c7-acf172513d20] does not support precompilation but is imported by a module that does.\n",
      "└ @ Base loading.jl:947\n",
      "┌ Warning: Module Compat with build ID 680662520316019 is missing from the cache.\n",
      "│ This may mean Compat [34da2185-b29b-5c13-b0c7-acf172513d20] does not support precompilation but is imported by a module that does.\n",
      "└ @ Base loading.jl:947\n",
      "┌ Info: Precompiling DiffResults [163ba53b-c6d8-5494-b064-1a9d43ac40c5]\n",
      "└ @ Base loading.jl:1192\n",
      "┌ Warning: Module Compat with build ID 680662520316019 is missing from the cache.\n",
      "│ This may mean Compat [34da2185-b29b-5c13-b0c7-acf172513d20] does not support precompilation but is imported by a module that does.\n",
      "└ @ Base loading.jl:947\n",
      "┌ Info: Recompiling stale cache file /home/arnavsood/.julia/compiled/v1.0/LineSearches/htmYa.ji for LineSearches [d3d80556-e9d4-5f37-9878-2ab0fcc64255]\n",
      "└ @ Base loading.jl:1190\n",
      "┌ Warning: Module NaNMath with build ID 184429890176 is missing from the cache.\n",
      "│ This may mean NaNMath [77ba4419-2d1f-58cd-9bb1-8ffee604a2e3] does not support precompilation but is imported by a module that does.\n",
      "└ @ Base loading.jl:947\n",
      "┌ Info: Precompiling DiffEqCallbacks [459566f4-90b8-5000-8ac3-15dfb0a30def]\n",
      "└ @ Base loading.jl:1192\n",
      "┌ Warning: Module DiffEqBase with build ID 763397578340 is missing from the cache.\n",
      "│ This may mean DiffEqBase [2b5f629d-d688-5b77-993f-72d75c75574e] does not support precompilation but is imported by a module that does.\n",
      "└ @ Base loading.jl:947\n",
      "┌ Info: Recompiling stale cache file /home/arnavsood/.julia/compiled/v1.0/OrdinaryDiffEq/DlSvy.ji for OrdinaryDiffEq [1dea7af3-3e70-54e6-95c3-0bf5283fa5ed]\n",
      "└ @ Base loading.jl:1190\n",
      "┌ Warning: Module DiffEqBase with build ID 763397578340 is missing from the cache.\n",
      "│ This may mean DiffEqBase [2b5f629d-d688-5b77-993f-72d75c75574e] does not support precompilation but is imported by a module that does.\n",
      "└ @ Base loading.jl:947\n",
      "┌ Info: Recompiling stale cache file /home/arnavsood/.julia/compiled/v1.0/DiffEqOperators/Vx3Cs.ji for DiffEqOperators [9fdde737-9c7f-55bf-ade8-46b3f136cc48]\n",
      "└ @ Base loading.jl:1190\n",
      "┌ Warning: Module DiffEqBase with build ID 763397578340 is missing from the cache.\n",
      "│ This may mean DiffEqBase [2b5f629d-d688-5b77-993f-72d75c75574e] does not support precompilation but is imported by a module that does.\n",
      "└ @ Base loading.jl:947\n",
      "┌ Info: Recompiling stale cache file /home/arnavsood/.julia/compiled/v1.0/StochasticDiffEq/36ZnY.ji for StochasticDiffEq [789caeaf-c7a9-5a7d-9973-96adeb23e2a0]\n",
      "└ @ Base loading.jl:1190\n",
      "┌ Warning: Module DiffEqBase with build ID 763397578340 is missing from the cache.\n",
      "│ This may mean DiffEqBase [2b5f629d-d688-5b77-993f-72d75c75574e] does not support precompilation but is imported by a module that does.\n",
      "└ @ Base loading.jl:947\n",
      "┌ Info: Recompiling stale cache file /home/arnavsood/.julia/compiled/v1.0/Sundials/j8Ppj.ji for Sundials [c3572dad-4567-51f8-b174-8c6c989267f4]\n",
      "└ @ Base loading.jl:1190\n",
      "┌ Warning: Module DiffEqBase with build ID 763397578340 is missing from the cache.\n",
      "│ This may mean DiffEqBase [2b5f629d-d688-5b77-993f-72d75c75574e] does not support precompilation but is imported by a module that does.\n",
      "└ @ Base loading.jl:947\n",
      "┌ Info: Recompiling stale cache file /home/arnavsood/.julia/compiled/v1.0/DelayDiffEq/9nKSo.ji for DelayDiffEq [bcd4f6db-9728-5f36-b5f7-82caef46ccdb]\n",
      "└ @ Base loading.jl:1190\n",
      "┌ Warning: Module OrdinaryDiffEq with build ID 827598719707 is missing from the cache.\n",
      "│ This may mean OrdinaryDiffEq [1dea7af3-3e70-54e6-95c3-0bf5283fa5ed] does not support precompilation but is imported by a module that does.\n",
      "└ @ Base loading.jl:947\n",
      "┌ Info: Recompiling stale cache file /home/arnavsood/.julia/compiled/v1.0/ParameterizedFunctions/OKjOc.ji for ParameterizedFunctions [65888b18-ceab-5e60-b2b9-181511a3b968]\n",
      "└ @ Base loading.jl:1190\n",
      "┌ Warning: Module Compat with build ID 680662520316019 is missing from the cache.\n",
      "│ This may mean Compat [34da2185-b29b-5c13-b0c7-acf172513d20] does not support precompilation but is imported by a module that does.\n",
      "└ @ Base loading.jl:947\n",
      "┌ Warning: Module Compat with build ID 680662520316019 is missing from the cache.\n",
      "│ This may mean Compat [34da2185-b29b-5c13-b0c7-acf172513d20] does not support precompilation but is imported by a module that does.\n",
      "└ @ Base loading.jl:947\n",
      "┌ Info: Precompiling SymEngine [123dc426-2d89-5057-bbad-38513e3affd8]\n",
      "└ @ Base loading.jl:1192\n",
      "┌ Warning: Module Compat with build ID 680662520316019 is missing from the cache.\n",
      "│ This may mean Compat [34da2185-b29b-5c13-b0c7-acf172513d20] does not support precompilation but is imported by a module that does.\n",
      "└ @ Base loading.jl:947\n",
      "┌ Info: Recompiling stale cache file /home/arnavsood/.julia/compiled/v1.0/DiffEqParamEstim/nWq0E.ji for DiffEqParamEstim [1130ab10-4a5a-5621-a13d-e4788d82bd4c]\n",
      "└ @ Base loading.jl:1190\n",
      "┌ Warning: Module DiffEqBase with build ID 763397578340 is missing from the cache.\n",
      "│ This may mean DiffEqBase [2b5f629d-d688-5b77-993f-72d75c75574e] does not support precompilation but is imported by a module that does.\n",
      "└ @ Base loading.jl:947\n",
      "┌ Info: Recompiling stale cache file /home/arnavsood/.julia/compiled/v1.0/LsqFit/GCdY9.ji for LsqFit [2fda8390-95c7-5789-9bda-21331edee243]\n",
      "└ @ Base loading.jl:1190\n",
      "┌ Warning: Module Calculus with build ID 188995434681 is missing from the cache.\n",
      "│ This may mean Calculus [49dc2e85-a5d0-5ad3-a950-438e2897f1b9] does not support precompilation but is imported by a module that does.\n",
      "└ @ Base loading.jl:947\n",
      "┌ Info: Recompiling stale cache file /home/arnavsood/.julia/compiled/v1.0/Distributions/xILW0.ji for Distributions [31c24e10-a181-5473-b8eb-7969acd0382f]\n",
      "└ @ Base loading.jl:1190\n",
      "┌ Info: Recompiling stale cache file /home/arnavsood/.julia/compiled/v1.0/OptimBase/U5DmT.ji for OptimBase [87e2bd06-a317-5318-96d9-3ecbac512eee]\n",
      "└ @ Base loading.jl:1190\n",
      "┌ Warning: Module Compat with build ID 680662520316019 is missing from the cache.\n",
      "│ This may mean Compat [34da2185-b29b-5c13-b0c7-acf172513d20] does not support precompilation but is imported by a module that does.\n",
      "└ @ Base loading.jl:947\n",
      "┌ Info: Recompiling stale cache file /home/arnavsood/.julia/compiled/v1.0/PenaltyFunctions/RxfJh.ji for PenaltyFunctions [06bb1623-fdd5-5ca2-a01c-88eae3ea319e]\n",
      "└ @ Base loading.jl:1190\n",
      "┌ Info: Recompiling stale cache file /home/arnavsood/.julia/compiled/v1.0/BlackBoxOptim/cmXuD.ji for BlackBoxOptim [a134a8b2-14d6-55f6-9291-3336d3ab0209]\n",
      "└ @ Base loading.jl:1190\n",
      "┌ Warning: Module Compat with build ID 680662520316019 is missing from the cache.\n",
      "│ This may mean Compat [34da2185-b29b-5c13-b0c7-acf172513d20] does not support precompilation but is imported by a module that does.\n",
      "└ @ Base loading.jl:947\n",
      "┌ Info: Recompiling stale cache file /home/arnavsood/.julia/compiled/v1.0/DiffEqSensitivity/02xYn.ji for DiffEqSensitivity [41bf760c-e81c-5289-8e54-58b1f1f8abe2]\n",
      "└ @ Base loading.jl:1190\n",
      "┌ Warning: Module DiffEqBase with build ID 763397578340 is missing from the cache.\n",
      "│ This may mean DiffEqBase [2b5f629d-d688-5b77-993f-72d75c75574e] does not support precompilation but is imported by a module that does.\n",
      "└ @ Base loading.jl:947\n",
      "┌ Info: Recompiling stale cache file /home/arnavsood/.julia/compiled/v1.0/ReverseDiff/aydCy.ji for ReverseDiff [37e2e3b7-166d-5795-8a7a-e32c996b4267]\n",
      "└ @ Base loading.jl:1190\n",
      "┌ Warning: Module Compat with build ID 680662520316019 is missing from the cache.\n",
      "│ This may mean Compat [34da2185-b29b-5c13-b0c7-acf172513d20] does not support precompilation but is imported by a module that does.\n",
      "└ @ Base loading.jl:947\n",
      "┌ Warning: Module Compat with build ID 680662520316019 is missing from the cache.\n",
      "│ This may mean Compat [34da2185-b29b-5c13-b0c7-acf172513d20] does not support precompilation but is imported by a module that does.\n",
      "└ @ Base loading.jl:947\n",
      "┌ Info: Precompiling FunctionWrappers [069b7b12-0de2-55c6-9aab-29f3d0a68a2e]\n",
      "└ @ Base loading.jl:1192\n",
      "┌ Warning: Module Compat with build ID 680662520316019 is missing from the cache.\n",
      "│ This may mean Compat [34da2185-b29b-5c13-b0c7-acf172513d20] does not support precompilation but is imported by a module that does.\n",
      "└ @ Base loading.jl:947\n",
      "┌ Info: Recompiling stale cache file /home/arnavsood/.julia/compiled/v1.0/DiffEqMonteCarlo/fB7Fw.ji for DiffEqMonteCarlo [78ddff82-25fc-5f2b-89aa-309469cbf16f]\n",
      "└ @ Base loading.jl:1190\n",
      "┌ Warning: Module DiffEqBase with build ID 763397578340 is missing from the cache.\n",
      "│ This may mean DiffEqBase [2b5f629d-d688-5b77-993f-72d75c75574e] does not support precompilation but is imported by a module that does.\n",
      "└ @ Base loading.jl:947\n",
      "┌ Info: Recompiling stale cache file /home/arnavsood/.julia/compiled/v1.0/DiffEqDevTools/vFgg2.ji for DiffEqDevTools [f3b72e0c-5b89-59e1-b016-84e28bfd966d]\n",
      "└ @ Base loading.jl:1190\n",
      "┌ Warning: Module DiffEqBase with build ID 763397578340 is missing from the cache.\n",
      "│ This may mean DiffEqBase [2b5f629d-d688-5b77-993f-72d75c75574e] does not support precompilation but is imported by a module that does.\n",
      "└ @ Base loading.jl:947\n",
      "┌ Info: Recompiling stale cache file /home/arnavsood/.julia/compiled/v1.0/DiffEqJump/Lhfzo.ji for DiffEqJump [c894b116-72e5-5b58-be3c-e6d8d4ac2b12]\n",
      "└ @ Base loading.jl:1190\n",
      "┌ Warning: Module DiffEqBase with build ID 763397578340 is missing from the cache.\n",
      "│ This may mean DiffEqBase [2b5f629d-d688-5b77-993f-72d75c75574e] does not support precompilation but is imported by a module that does.\n",
      "└ @ Base loading.jl:947\n",
      "┌ Info: Recompiling stale cache file /home/arnavsood/.julia/compiled/v1.0/PoissonRandom/KH2Hn.ji for PoissonRandom [e409e4f3-bfea-5376-8464-e040bb5c01ab]\n",
      "└ @ Base loading.jl:1190\n",
      "┌ Info: Recompiling stale cache file /home/arnavsood/.julia/compiled/v1.0/DiffEqUncertainty/iGjp0.ji for DiffEqUncertainty [ef61062a-5684-51dc-bb67-a0fcdec5c97d]\n",
      "└ @ Base loading.jl:1190\n",
      "┌ Warning: Module DiffEqBase with build ID 763397578340 is missing from the cache.\n",
      "│ This may mean DiffEqBase [2b5f629d-d688-5b77-993f-72d75c75574e] does not support precompilation but is imported by a module that does.\n",
      "└ @ Base loading.jl:947\n",
      "┌ Info: Recompiling stale cache file /home/arnavsood/.julia/compiled/v1.0/DiffEqFinancial/RxltQ.ji for DiffEqFinancial [5a0ffddc-d203-54b0-88ba-2c03c0fc2e67]\n",
      "└ @ Base loading.jl:1190\n",
      "┌ Warning: Module DiffEqBase with build ID 763397578340 is missing from the cache.\n",
      "│ This may mean DiffEqBase [2b5f629d-d688-5b77-993f-72d75c75574e] does not support precompilation but is imported by a module that does.\n",
      "└ @ Base loading.jl:947\n",
      "┌ Info: Recompiling stale cache file /home/arnavsood/.julia/compiled/v1.0/DiffEqBiological/wNZA8.ji for DiffEqBiological [eb300fae-53e8-50a0-950c-e21f52c2b7e0]\n",
      "└ @ Base loading.jl:1190\n",
      "┌ Warning: Module DiffEqBase with build ID 763397578340 is missing from the cache.\n",
      "│ This may mean DiffEqBase [2b5f629d-d688-5b77-993f-72d75c75574e] does not support precompilation but is imported by a module that does.\n",
      "└ @ Base loading.jl:947\n",
      "┌ Info: Recompiling stale cache file /home/arnavsood/.julia/compiled/v1.0/MultiScaleArrays/XBvBT.ji for MultiScaleArrays [f9640e96-87f6-5992-9c3b-0743c6a49ffa]\n",
      "└ @ Base loading.jl:1190\n",
      "┌ Warning: Module DiffEqBase with build ID 763397578340 is missing from the cache.\n",
      "│ This may mean DiffEqBase [2b5f629d-d688-5b77-993f-72d75c75574e] does not support precompilation but is imported by a module that does.\n",
      "└ @ Base loading.jl:947\n",
      "┌ Info: Recompiling stale cache file /home/arnavsood/.julia/compiled/v1.0/DiffEqPhysics/sFFPn.ji for DiffEqPhysics [055956cb-9e8b-5191-98cc-73ae4a59e68a]\n",
      "└ @ Base loading.jl:1190\n",
      "┌ Warning: Module DiffEqBase with build ID 763397578340 is missing from the cache.\n",
      "│ This may mean DiffEqBase [2b5f629d-d688-5b77-993f-72d75c75574e] does not support precompilation but is imported by a module that does.\n",
      "└ @ Base loading.jl:947\n",
      "┌ Info: Recompiling stale cache file /home/arnavsood/.julia/compiled/v1.0/LeastSquaresOptim/hdNWC.ji for LeastSquaresOptim [0fc2ff8b-aaa3-5acd-a817-1944a5e08891]\n",
      "└ @ Base loading.jl:1190\n",
      "┌ Warning: Module ForwardDiff with build ID 812504674726 is missing from the cache.\n",
      "│ This may mean ForwardDiff [f6369f11-7733-5829-9624-2563aa707210] does not support precompilation but is imported by a module that does.\n",
      "└ @ Base loading.jl:947\n",
      "┌ Info: Recompiling stale cache file /home/arnavsood/.julia/compiled/v1.0/Optim/R5uoh.ji for Optim [429524aa-4258-5aef-a3af-852621145aeb]\n",
      "└ @ Base loading.jl:1190\n",
      "┌ Warning: Module NLSolversBase with build ID 806912852275 is missing from the cache.\n",
      "│ This may mean NLSolversBase [d41bc354-129a-5804-8e4c-c37616107c6c] does not support precompilation but is imported by a module that does.\n",
      "└ @ Base loading.jl:947\n",
      "┌ Info: Precompiling Plots [91a5bcdd-55d7-5caf-9e0b-520d859cae80]\n",
      "└ @ Base loading.jl:1192\n",
      "┌ Warning: Module Compat with build ID 680662520316019 is missing from the cache.\n",
      "│ This may mean Compat [34da2185-b29b-5c13-b0c7-acf172513d20] does not support precompilation but is imported by a module that does.\n",
      "└ @ Base loading.jl:947\n",
      "┌ Warning: Module Compat with build ID 680662520316019 is missing from the cache.\n",
      "│ This may mean Compat [34da2185-b29b-5c13-b0c7-acf172513d20] does not support precompilation but is imported by a module that does.\n",
      "└ @ Base loading.jl:947\n",
      "┌ Info: Precompiling Showoff [992d4aef-0814-514b-bc4d-f2e9a6c4116f]\n",
      "└ @ Base loading.jl:1192\n",
      "┌ Warning: Module Compat with build ID 680662520316019 is missing from the cache.\n",
      "│ This may mean Compat [34da2185-b29b-5c13-b0c7-acf172513d20] does not support precompilation but is imported by a module that does.\n",
      "└ @ Base loading.jl:947\n",
      "┌ Info: Recompiling stale cache file /home/arnavsood/.julia/compiled/v1.0/GR/NDU5Y.ji for GR [28b8d3ca-fb5f-59d9-8090-bfdbd6d07a71]\n",
      "└ @ Base loading.jl:1190\n"
     ]
    }
   ],
   "source": [
    "using PerlaTonettiWaugh, Plots, BenchmarkTools, CSV"
   ]
  },
  {
   "cell_type": "code",
   "execution_count": 3,
   "metadata": {},
   "outputs": [
    {
     "data": {
      "text/plain": [
       "Plots.GRBackend()"
      ]
     },
     "execution_count": 3,
     "metadata": {},
     "output_type": "execute_result"
    }
   ],
   "source": [
    "gr(fmt = :png)"
   ]
  },
  {
   "cell_type": "markdown",
   "metadata": {},
   "source": [
    "# Steady states"
   ]
  },
  {
   "cell_type": "markdown",
   "metadata": {},
   "source": [
    "## Solving steady state solutions"
   ]
  },
  {
   "cell_type": "markdown",
   "metadata": {},
   "source": [
    "Set up parameters and find the corresponding stationary solution:"
   ]
  },
  {
   "cell_type": "markdown",
   "metadata": {},
   "source": [
    "Below are the results from the **updated** matlab calibration with the corresponding letters. Here I added the $\\mu$ parameter in the calibration routine to fit the firm dynamic moments. Fit improved a lot and it generated a negative drift term which is what we need to keep S from going negative.\n"
   ]
  },
  {
   "cell_type": "code",
   "execution_count": 4,
   "metadata": {},
   "outputs": [
    {
     "data": {
      "text/plain": [
       "true"
      ]
     },
     "execution_count": 4,
     "metadata": {},
     "output_type": "execute_result"
    }
   ],
   "source": [
    "changed_parameters = true # set this to true if you drastically change the parameters"
   ]
  },
  {
   "cell_type": "markdown",
   "metadata": {},
   "source": [
    "Side note on previous version. Essentially, under this calibration, the parameters are very simmilar. Theta, chi, kappa are quite close to what we had in the prior version."
   ]
  },
  {
   "cell_type": "code",
   "execution_count": 5,
   "metadata": {
    "scrolled": true
   },
   "outputs": [],
   "source": [
    "# Define common objects. \n",
    "parameters = parameter_defaults()\n",
    "\n",
    "settings = settings_defaults()\n",
    "settings = merge(settings, (transition_penalty_coefficient = 1.0, ))\n",
    "z_grid = settings.z\n",
    "P = length(z_grid)\n",
    "\n",
    "d_0 = 1 + (parameters.d-1).*1.10 # Here is the 10 percent tariff increase\n",
    "d_T = parameters.d\n",
    "\n",
    "params_0 = merge(parameters, (d = d_0, )) # parameters to be used at t = 0\n",
    "params_T = merge(parameters, (d = d_T, )) # parameters to be used at t = T\n",
    "\n",
    "# initial value for numerical solver on (g, z_hat, Omega)\n",
    "initial_x = [0.02; 2; .57]\n",
    "\n",
    "# solve for stationary solution at t = 0\n",
    "stationary_sol_0 = stationary_algebraic(params_0, initial_x) # solution at t = 0\n",
    "stationary_sol = stationary_algebraic(params_T, initial_x) # solution at t = T\n",
    "\n",
    "Ω_0 = stationary_sol_0.Ω;\n",
    "Ω_T = stationary_sol.Ω;"
   ]
  },
  {
   "cell_type": "code",
   "execution_count": 6,
   "metadata": {},
   "outputs": [
    {
     "data": {
      "text/plain": [
       "3.17283"
      ]
     },
     "execution_count": 6,
     "metadata": {},
     "output_type": "execute_result"
    }
   ],
   "source": [
    "d_0 "
   ]
  },
  {
   "cell_type": "code",
   "execution_count": 7,
   "metadata": {},
   "outputs": [
    {
     "name": "stdout",
     "output_type": "stream",
     "text": [
      "40.75846634918868\n",
      "36.771724154009796\n",
      "0.11010701157463218\n",
      "0.11839165909489363\n"
     ]
    }
   ],
   "source": [
    "print(stationary_sol.U_bar(1),'\\n') \n",
    "print(stationary_sol_0.U_bar(1),'\\n')\n",
    "print(stationary_sol_0.S,'\\n')\n",
    "print(stationary_sol.S,'\\n')"
   ]
  },
  {
   "cell_type": "markdown",
   "metadata": {},
   "source": [
    "Note that $S$ is now well above zero, not like in the old calibrations. "
   ]
  },
  {
   "cell_type": "markdown",
   "metadata": {},
   "source": [
    "## Welfare in Steady States"
   ]
  },
  {
   "cell_type": "markdown",
   "metadata": {},
   "source": [
    "### Steady state at `T`"
   ]
  },
  {
   "cell_type": "code",
   "execution_count": 8,
   "metadata": {},
   "outputs": [
    {
     "data": {
      "text/plain": [
       "40.75846634918868"
      ]
     },
     "execution_count": 8,
     "metadata": {},
     "output_type": "execute_result"
    }
   ],
   "source": [
    "stationary_sol.U_bar(1)"
   ]
  },
  {
   "cell_type": "markdown",
   "metadata": {},
   "source": [
    "### Steady state at `0`"
   ]
  },
  {
   "cell_type": "code",
   "execution_count": 9,
   "metadata": {
    "scrolled": false
   },
   "outputs": [
    {
     "data": {
      "text/plain": [
       "36.771724154009796"
      ]
     },
     "execution_count": 9,
     "metadata": {},
     "output_type": "execute_result"
    }
   ],
   "source": [
    "stationary_sol_0.U_bar(1)"
   ]
  },
  {
   "cell_type": "markdown",
   "metadata": {},
   "source": [
    "### Outstanding Issue \\#1: Sensitivity of growth to trade.\n",
    "\n",
    "This is a big difference relative to previous version. As noted above, with parameter values that are quite similar to what we had before, the growth rate is changing a lot with only a very small change in trade flows. Why?"
   ]
  },
  {
   "cell_type": "code",
   "execution_count": 10,
   "metadata": {},
   "outputs": [
    {
     "name": "stdout",
     "output_type": "stream",
     "text": [
      "(stationary_sol.g, stationary_sol_0.g) = (0.020015751789702312, 0.018339070985779814)\n"
     ]
    }
   ],
   "source": [
    "@show stationary_sol.g, stationary_sol_0.g;"
   ]
  },
  {
   "cell_type": "markdown",
   "metadata": {},
   "source": [
    "---"
   ]
  },
  {
   "cell_type": "markdown",
   "metadata": {},
   "source": [
    "# Transition dynamics"
   ]
  },
  {
   "cell_type": "markdown",
   "metadata": {},
   "source": [
    "Setup for optimizer:"
   ]
  },
  {
   "cell_type": "code",
   "execution_count": 11,
   "metadata": {},
   "outputs": [],
   "source": [
    "settings = merge(settings, (params_T = params_T, stationary_sol_T = stationary_numerical(params_T, z_grid), Ω_0 = Ω_0, transition_iterations = 0, T = 75.0));"
   ]
  },
  {
   "cell_type": "markdown",
   "metadata": {},
   "source": [
    "Use the solution found with calibrated parameters above for `E`"
   ]
  },
  {
   "cell_type": "code",
   "execution_count": 12,
   "metadata": {},
   "outputs": [],
   "source": [
    "settings = merge(settings, (transition_x0 = [-0.954599693387771, -0.796617297961165, -0.6520035274409136, -0.562827801831672, -0.3741843672976072, -0.20122165962908825, -0.18898395633321843, -0.10592161148366938, -0.0964005813640459, -0.07711546225956174, -0.04343512879570261, -0.0414551240014235, -0.04109747436876819, -0.01733076740558217], ));"
   ]
  },
  {
   "cell_type": "code",
   "execution_count": 14,
   "metadata": {},
   "outputs": [
    {
     "name": "stdout",
     "output_type": "stream",
     "text": [
      "Starting optimization with optimizer BlackBoxOptim.DiffEvoOpt{BlackBoxOptim.FitPopulation{Float64},BlackBoxOptim.RadiusLimitedSelector,BlackBoxOptim.AdaptiveDiffEvoRandBin{3},BlackBoxOptim.RandomBound{BlackBoxOptim.RangePerDimSearchSpace}}\n",
      "0.00 secs, 0 evals, 0 steps\n",
      "1.32 secs, 2 evals, 1 steps, fitness=0.012813248\n",
      "2.45 secs, 4 evals, 2 steps, fitness=0.012813248\n",
      "3.64 secs, 6 evals, 3 steps, improv/step: 0.333 (last = 1.0000), fitness=0.012813248\n",
      "4.91 secs, 8 evals, 4 steps, improv/step: 0.250 (last = 0.0000), fitness=0.012813248\n",
      "6.43 secs, 10 evals, 5 steps, improv/step: 0.400 (last = 1.0000), fitness=0.012813248\n",
      "7.72 secs, 12 evals, 6 steps, improv/step: 0.333 (last = 0.0000), fitness=0.012030346\n",
      "9.15 secs, 14 evals, 7 steps, improv/step: 0.286 (last = 0.0000), fitness=0.008072165\n",
      "10.45 secs, 16 evals, 8 steps, improv/step: 0.250 (last = 0.0000), fitness=0.008072165\n",
      "11.62 secs, 18 evals, 9 steps, improv/step: 0.333 (last = 1.0000), fitness=0.008072165\n",
      "12.32 secs, 19 evals, 10 steps, improv/step: 0.400 (last = 1.0000), fitness=0.008072165\n",
      "14.10 secs, 21 evals, 11 steps, improv/step: 0.455 (last = 1.0000), fitness=0.008072165\n",
      "15.87 secs, 23 evals, 12 steps, improv/step: 0.500 (last = 1.0000), fitness=0.008072165\n",
      "17.30 secs, 25 evals, 13 steps, improv/step: 0.538 (last = 1.0000), fitness=0.008072165\n",
      "18.86 secs, 27 evals, 14 steps, improv/step: 0.500 (last = 0.0000), fitness=0.008072165\n",
      "19.71 secs, 28 evals, 15 steps, improv/step: 0.533 (last = 1.0000), fitness=0.008072165\n",
      "21.21 secs, 30 evals, 16 steps, improv/step: 0.500 (last = 0.0000), fitness=0.008072165\n",
      "22.62 secs, 32 evals, 17 steps, improv/step: 0.471 (last = 0.0000), fitness=0.008072165\n",
      "24.15 secs, 34 evals, 18 steps, improv/step: 0.500 (last = 1.0000), fitness=0.008072165\n",
      "25.27 secs, 36 evals, 19 steps, improv/step: 0.526 (last = 1.0000), fitness=0.008072165\n",
      "26.01 secs, 37 evals, 20 steps, improv/step: 0.550 (last = 1.0000), fitness=0.008072165\n",
      "27.36 secs, 39 evals, 21 steps, improv/step: 0.524 (last = 0.0000), fitness=0.008072165\n",
      "29.10 secs, 41 evals, 22 steps, improv/step: 0.500 (last = 0.0000), fitness=0.008072165\n",
      "30.57 secs, 43 evals, 23 steps, improv/step: 0.478 (last = 0.0000), fitness=0.008072165\n",
      "31.76 secs, 45 evals, 24 steps, improv/step: 0.458 (last = 0.0000), fitness=0.008072165\n",
      "32.34 secs, 46 evals, 25 steps, improv/step: 0.480 (last = 1.0000), fitness=0.008072165\n",
      "33.83 secs, 48 evals, 26 steps, improv/step: 0.462 (last = 0.0000), fitness=0.008072165\n",
      "35.17 secs, 50 evals, 27 steps, improv/step: 0.481 (last = 1.0000), fitness=0.008072165\n",
      "36.66 secs, 52 evals, 28 steps, improv/step: 0.500 (last = 1.0000), fitness=0.008072165\n",
      "38.05 secs, 54 evals, 29 steps, improv/step: 0.517 (last = 1.0000), fitness=0.008072165\n",
      "39.72 secs, 56 evals, 30 steps, improv/step: 0.500 (last = 0.0000), fitness=0.008072165\n",
      "41.21 secs, 58 evals, 31 steps, improv/step: 0.516 (last = 1.0000), fitness=0.008072165\n",
      "43.20 secs, 60 evals, 32 steps, improv/step: 0.500 (last = 0.0000), fitness=0.008072165\n",
      "44.86 secs, 62 evals, 33 steps, improv/step: 0.515 (last = 1.0000), fitness=0.008072165\n",
      "45.59 secs, 63 evals, 34 steps, improv/step: 0.529 (last = 1.0000), fitness=0.008072165\n",
      "46.46 secs, 64 evals, 35 steps, improv/step: 0.543 (last = 1.0000), fitness=0.007684188\n",
      "47.79 secs, 66 evals, 36 steps, improv/step: 0.556 (last = 1.0000), fitness=0.007684188\n",
      "48.65 secs, 67 evals, 37 steps, improv/step: 0.568 (last = 1.0000), fitness=0.007684188\n",
      "50.00 secs, 69 evals, 38 steps, improv/step: 0.553 (last = 0.0000), fitness=0.007684188\n",
      "50.87 secs, 70 evals, 39 steps, improv/step: 0.564 (last = 1.0000), fitness=0.007684188\n",
      "52.31 secs, 72 evals, 40 steps, improv/step: 0.550 (last = 0.0000), fitness=0.007684188\n",
      "54.06 secs, 74 evals, 41 steps, improv/step: 0.561 (last = 1.0000), fitness=0.007684188\n",
      "55.51 secs, 76 evals, 42 steps, improv/step: 0.571 (last = 1.0000), fitness=0.007684188\n",
      "56.16 secs, 77 evals, 43 steps, improv/step: 0.581 (last = 1.0000), fitness=0.007684188\n",
      "57.72 secs, 79 evals, 44 steps, improv/step: 0.568 (last = 0.0000), fitness=0.007684188\n",
      "59.17 secs, 81 evals, 45 steps, improv/step: 0.556 (last = 0.0000), fitness=0.007684188\n",
      "59.95 secs, 82 evals, 46 steps, improv/step: 0.543 (last = 0.0000), fitness=0.007684188\n",
      "61.23 secs, 84 evals, 47 steps, improv/step: 0.532 (last = 0.0000), fitness=0.007684188\n",
      "62.92 secs, 86 evals, 48 steps, improv/step: 0.542 (last = 1.0000), fitness=0.007684188\n",
      "64.51 secs, 88 evals, 49 steps, improv/step: 0.531 (last = 0.0000), fitness=0.007684188\n",
      "65.90 secs, 90 evals, 50 steps, improv/step: 0.520 (last = 0.0000), fitness=0.007684188\n",
      "66.69 secs, 91 evals, 51 steps, improv/step: 0.510 (last = 0.0000), fitness=0.007684188\n",
      "67.25 secs, 92 evals, 52 steps, improv/step: 0.500 (last = 0.0000), fitness=0.007684188\n",
      "67.94 secs, 93 evals, 53 steps, improv/step: 0.491 (last = 0.0000), fitness=0.007684188\n",
      "68.71 secs, 94 evals, 54 steps, improv/step: 0.481 (last = 0.0000), fitness=0.007684188\n",
      "69.87 secs, 96 evals, 55 steps, improv/step: 0.473 (last = 0.0000), fitness=0.007684188\n",
      "71.10 secs, 98 evals, 56 steps, improv/step: 0.464 (last = 0.0000), fitness=0.007684188\n",
      "71.90 secs, 99 evals, 57 steps, improv/step: 0.474 (last = 1.0000), fitness=0.007684188\n",
      "73.37 secs, 101 evals, 58 steps, improv/step: 0.466 (last = 0.0000), fitness=0.007684188\n",
      "74.22 secs, 102 evals, 59 steps, improv/step: 0.458 (last = 0.0000), fitness=0.007684188\n",
      "75.56 secs, 104 evals, 60 steps, improv/step: 0.467 (last = 1.0000), fitness=0.007684188\n",
      "76.32 secs, 105 evals, 61 steps, improv/step: 0.459 (last = 0.0000), fitness=0.007684188\n",
      "77.78 secs, 107 evals, 62 steps, improv/step: 0.452 (last = 0.0000), fitness=0.007684188\n",
      "78.58 secs, 108 evals, 63 steps, improv/step: 0.444 (last = 0.0000), fitness=0.007684188\n",
      "80.30 secs, 110 evals, 64 steps, improv/step: 0.453 (last = 1.0000), fitness=0.007684188\n",
      "81.37 secs, 112 evals, 65 steps, improv/step: 0.462 (last = 1.0000), fitness=0.007684188\n",
      "81.99 secs, 113 evals, 66 steps, improv/step: 0.470 (last = 1.0000), fitness=0.007684188\n",
      "83.55 secs, 115 evals, 67 steps, improv/step: 0.463 (last = 0.0000), fitness=0.007684188\n",
      "84.87 secs, 117 evals, 68 steps, improv/step: 0.456 (last = 0.0000), fitness=0.007684188\n",
      "85.70 secs, 118 evals, 69 steps, improv/step: 0.449 (last = 0.0000), fitness=0.007684188\n",
      "86.52 secs, 119 evals, 70 steps, improv/step: 0.443 (last = 0.0000), fitness=0.007684188\n",
      "87.29 secs, 120 evals, 71 steps, improv/step: 0.451 (last = 1.0000), fitness=0.007684188\n",
      "87.90 secs, 121 evals, 72 steps, improv/step: 0.444 (last = 0.0000), fitness=0.007684188\n",
      "88.74 secs, 122 evals, 73 steps, improv/step: 0.438 (last = 0.0000), fitness=0.007684188\n",
      "90.09 secs, 124 evals, 74 steps, improv/step: 0.432 (last = 0.0000), fitness=0.007684188\n",
      "91.63 secs, 126 evals, 75 steps, improv/step: 0.440 (last = 1.0000), fitness=0.007684188\n",
      "93.24 secs, 128 evals, 76 steps, improv/step: 0.447 (last = 1.0000), fitness=0.007684188\n",
      "94.10 secs, 129 evals, 77 steps, improv/step: 0.442 (last = 0.0000), fitness=0.007684188\n",
      "94.71 secs, 130 evals, 78 steps, improv/step: 0.436 (last = 0.0000), fitness=0.007684188\n",
      "95.44 secs, 131 evals, 79 steps, improv/step: 0.443 (last = 1.0000), fitness=0.007684188\n",
      "96.66 secs, 133 evals, 80 steps, improv/step: 0.450 (last = 1.0000), fitness=0.007684188\n",
      "98.07 secs, 135 evals, 81 steps, improv/step: 0.444 (last = 0.0000), fitness=0.007684188\n",
      "98.87 secs, 136 evals, 82 steps, improv/step: 0.439 (last = 0.0000), fitness=0.007684188\n",
      "100.31 secs, 138 evals, 83 steps, improv/step: 0.434 (last = 0.0000), fitness=0.007684188\n",
      "101.69 secs, 140 evals, 84 steps, improv/step: 0.429 (last = 0.0000), fitness=0.007684188\n",
      "102.54 secs, 141 evals, 85 steps, improv/step: 0.424 (last = 0.0000), fitness=0.007684188\n",
      "103.79 secs, 143 evals, 86 steps, improv/step: 0.419 (last = 0.0000), fitness=0.007684188\n",
      "104.70 secs, 144 evals, 87 steps, improv/step: 0.425 (last = 1.0000), fitness=0.007684188\n",
      "106.26 secs, 146 evals, 88 steps, improv/step: 0.420 (last = 0.0000), fitness=0.007684188\n",
      "106.83 secs, 147 evals, 89 steps, improv/step: 0.416 (last = 0.0000), fitness=0.007684188\n",
      "108.21 secs, 149 evals, 90 steps, improv/step: 0.411 (last = 0.0000), fitness=0.007684188\n",
      "109.08 secs, 150 evals, 91 steps, improv/step: 0.418 (last = 1.0000), fitness=0.007684188\n",
      "109.77 secs, 151 evals, 92 steps, improv/step: 0.424 (last = 1.0000), fitness=0.007684188\n",
      "111.12 secs, 153 evals, 93 steps, improv/step: 0.430 (last = 1.0000), fitness=0.007684188\n",
      "112.12 secs, 154 evals, 94 steps, improv/step: 0.436 (last = 1.0000), fitness=0.007684188\n",
      "112.72 secs, 155 evals, 95 steps, improv/step: 0.432 (last = 0.0000), fitness=0.007684188\n",
      "113.55 secs, 156 evals, 96 steps, improv/step: 0.438 (last = 1.0000), fitness=0.007684188\n",
      "115.07 secs, 157 evals, 97 steps, improv/step: 0.433 (last = 0.0000), fitness=0.007684188\n",
      "116.68 secs, 159 evals, 98 steps, improv/step: 0.439 (last = 1.0000), fitness=0.007684188\n",
      "118.28 secs, 161 evals, 99 steps, improv/step: 0.444 (last = 1.0000), fitness=0.007684188\n",
      "119.03 secs, 162 evals, 100 steps, improv/step: 0.440 (last = 0.0000), fitness=0.007684188\n",
      "119.66 secs, 163 evals, 101 steps, improv/step: 0.436 (last = 0.0000), fitness=0.007684188\n",
      "120.69 secs, 164 evals, 102 steps, improv/step: 0.431 (last = 0.0000), fitness=0.007684188\n",
      "122.16 secs, 166 evals, 103 steps, improv/step: 0.427 (last = 0.0000), fitness=0.007684188\n",
      "123.50 secs, 168 evals, 104 steps, improv/step: 0.433 (last = 1.0000), fitness=0.007684188\n",
      "125.28 secs, 170 evals, 105 steps, improv/step: 0.438 (last = 1.0000), fitness=0.007684188\n",
      "125.89 secs, 171 evals, 106 steps, improv/step: 0.443 (last = 1.0000), fitness=0.007684188\n",
      "127.40 secs, 173 evals, 107 steps, improv/step: 0.449 (last = 1.0000), fitness=0.007684188\n",
      "128.71 secs, 175 evals, 108 steps, improv/step: 0.454 (last = 1.0000), fitness=0.007684188\n",
      "129.54 secs, 176 evals, 109 steps, improv/step: 0.450 (last = 0.0000), fitness=0.007684188\n",
      "130.96 secs, 178 evals, 110 steps, improv/step: 0.445 (last = 0.0000), fitness=0.007684188\n",
      "132.24 secs, 180 evals, 111 steps, improv/step: 0.450 (last = 1.0000), fitness=0.007684188\n",
      "133.03 secs, 181 evals, 112 steps, improv/step: 0.455 (last = 1.0000), fitness=0.007684188\n",
      "134.19 secs, 183 evals, 113 steps, improv/step: 0.451 (last = 0.0000), fitness=0.007684188\n",
      "136.25 secs, 185 evals, 114 steps, improv/step: 0.456 (last = 1.0000), fitness=0.007684188\n",
      "137.09 secs, 186 evals, 115 steps, improv/step: 0.452 (last = 0.0000), fitness=0.007684188\n",
      "138.78 secs, 188 evals, 116 steps, improv/step: 0.448 (last = 0.0000), fitness=0.007684188\n",
      "139.60 secs, 189 evals, 117 steps, improv/step: 0.453 (last = 1.0000), fitness=0.007684188\n",
      "140.97 secs, 191 evals, 118 steps, improv/step: 0.458 (last = 1.0000), fitness=0.007684188\n",
      "142.83 secs, 193 evals, 119 steps, improv/step: 0.454 (last = 0.0000), fitness=0.007684188\n",
      "143.56 secs, 194 evals, 120 steps, improv/step: 0.450 (last = 0.0000), fitness=0.007684188\n",
      "144.36 secs, 195 evals, 121 steps, improv/step: 0.446 (last = 0.0000), fitness=0.007684188\n",
      "146.18 secs, 197 evals, 122 steps, improv/step: 0.451 (last = 1.0000), fitness=0.007684188\n",
      "147.55 secs, 199 evals, 123 steps, improv/step: 0.455 (last = 1.0000), fitness=0.007684188\n",
      "149.10 secs, 201 evals, 124 steps, improv/step: 0.452 (last = 0.0000), fitness=0.007684188\n",
      "149.79 secs, 202 evals, 125 steps, improv/step: 0.448 (last = 0.0000), fitness=0.007684188\n",
      "150.96 secs, 204 evals, 126 steps, improv/step: 0.444 (last = 0.0000), fitness=0.007684188\n",
      "151.59 secs, 205 evals, 127 steps, improv/step: 0.441 (last = 0.0000), fitness=0.007684188\n",
      "152.80 secs, 207 evals, 128 steps, improv/step: 0.438 (last = 0.0000), fitness=0.007684188\n",
      "154.14 secs, 209 evals, 129 steps, improv/step: 0.434 (last = 0.0000), fitness=0.007684188\n",
      "154.83 secs, 210 evals, 130 steps, improv/step: 0.431 (last = 0.0000), fitness=0.007684188\n",
      "155.52 secs, 211 evals, 131 steps, improv/step: 0.427 (last = 0.0000), fitness=0.007684188\n",
      "156.11 secs, 212 evals, 132 steps, improv/step: 0.432 (last = 1.0000), fitness=0.007684188\n",
      "156.74 secs, 213 evals, 133 steps, improv/step: 0.436 (last = 1.0000), fitness=0.007684188\n",
      "157.46 secs, 214 evals, 134 steps, improv/step: 0.433 (last = 0.0000), fitness=0.007684188\n",
      "158.91 secs, 216 evals, 135 steps, improv/step: 0.430 (last = 0.0000), fitness=0.007684188\n",
      "159.62 secs, 217 evals, 136 steps, improv/step: 0.434 (last = 1.0000), fitness=0.007684188\n",
      "160.54 secs, 218 evals, 137 steps, improv/step: 0.438 (last = 1.0000), fitness=0.007684188\n",
      "161.30 secs, 219 evals, 138 steps, improv/step: 0.442 (last = 1.0000), fitness=0.007684188\n",
      "162.47 secs, 221 evals, 139 steps, improv/step: 0.439 (last = 0.0000), fitness=0.007684188\n",
      "163.84 secs, 223 evals, 140 steps, improv/step: 0.436 (last = 0.0000), fitness=0.007684188\n",
      "164.48 secs, 224 evals, 141 steps, improv/step: 0.433 (last = 0.0000), fitness=0.007684188\n",
      "165.09 secs, 225 evals, 142 steps, improv/step: 0.437 (last = 1.0000), fitness=0.007684188\n",
      "165.70 secs, 226 evals, 143 steps, improv/step: 0.441 (last = 1.0000), fitness=0.007676780\n",
      "166.56 secs, 227 evals, 144 steps, improv/step: 0.438 (last = 0.0000), fitness=0.007676780\n",
      "167.18 secs, 228 evals, 145 steps, improv/step: 0.441 (last = 1.0000), fitness=0.007676780\n",
      "168.04 secs, 229 evals, 146 steps, improv/step: 0.438 (last = 0.0000), fitness=0.007676780\n",
      "169.85 secs, 231 evals, 147 steps, improv/step: 0.442 (last = 1.0000), fitness=0.007676780\n",
      "170.68 secs, 232 evals, 148 steps, improv/step: 0.446 (last = 1.0000), fitness=0.007676780\n",
      "171.37 secs, 233 evals, 149 steps, improv/step: 0.450 (last = 1.0000), fitness=0.007676780\n",
      "172.19 secs, 234 evals, 150 steps, improv/step: 0.447 (last = 0.0000), fitness=0.007676780\n",
      "172.93 secs, 235 evals, 151 steps, improv/step: 0.444 (last = 0.0000), fitness=0.007676780\n",
      "173.85 secs, 236 evals, 152 steps, improv/step: 0.441 (last = 0.0000), fitness=0.007676780\n",
      "174.86 secs, 237 evals, 153 steps, improv/step: 0.444 (last = 1.0000), fitness=0.007676780\n",
      "176.38 secs, 239 evals, 154 steps, improv/step: 0.448 (last = 1.0000), fitness=0.007552274\n",
      "177.03 secs, 240 evals, 155 steps, improv/step: 0.445 (last = 0.0000), fitness=0.007552274\n",
      "177.79 secs, 241 evals, 156 steps, improv/step: 0.442 (last = 0.0000), fitness=0.007552274\n",
      "179.37 secs, 243 evals, 157 steps, improv/step: 0.439 (last = 0.0000), fitness=0.007552274\n",
      "180.55 secs, 245 evals, 158 steps, improv/step: 0.443 (last = 1.0000), fitness=0.007552274\n",
      "181.23 secs, 246 evals, 159 steps, improv/step: 0.447 (last = 1.0000), fitness=0.007552274\n",
      "181.91 secs, 247 evals, 160 steps, improv/step: 0.450 (last = 1.0000), fitness=0.007552274\n",
      "182.44 secs, 248 evals, 161 steps, improv/step: 0.447 (last = 0.0000), fitness=0.007552274\n",
      "183.18 secs, 249 evals, 162 steps, improv/step: 0.444 (last = 0.0000), fitness=0.007552274\n",
      "183.86 secs, 250 evals, 163 steps, improv/step: 0.442 (last = 0.0000), fitness=0.007552274\n",
      "184.60 secs, 251 evals, 164 steps, improv/step: 0.445 (last = 1.0000), fitness=0.007552274\n",
      "185.35 secs, 252 evals, 165 steps, improv/step: 0.442 (last = 0.0000), fitness=0.007552274\n",
      "186.09 secs, 253 evals, 166 steps, improv/step: 0.446 (last = 1.0000), fitness=0.007062599\n",
      "186.63 secs, 254 evals, 167 steps, improv/step: 0.443 (last = 0.0000), fitness=0.007062599\n",
      "187.43 secs, 255 evals, 168 steps, improv/step: 0.440 (last = 0.0000), fitness=0.007062599\n",
      "188.19 secs, 256 evals, 169 steps, improv/step: 0.444 (last = 1.0000), fitness=0.007062599\n",
      "189.51 secs, 258 evals, 170 steps, improv/step: 0.441 (last = 0.0000), fitness=0.007062599\n",
      "190.05 secs, 259 evals, 171 steps, improv/step: 0.444 (last = 1.0000), fitness=0.007062599\n",
      "190.79 secs, 260 evals, 172 steps, improv/step: 0.448 (last = 1.0000), fitness=0.007062599\n",
      "192.13 secs, 262 evals, 173 steps, improv/step: 0.451 (last = 1.0000), fitness=0.007062599\n",
      "193.22 secs, 263 evals, 174 steps, improv/step: 0.454 (last = 1.0000), fitness=0.004669680\n",
      "194.12 secs, 264 evals, 175 steps, improv/step: 0.457 (last = 1.0000), fitness=0.004669680\n",
      "194.79 secs, 265 evals, 176 steps, improv/step: 0.455 (last = 0.0000), fitness=0.004669680\n",
      "195.53 secs, 266 evals, 177 steps, improv/step: 0.452 (last = 0.0000), fitness=0.004669680\n",
      "196.32 secs, 267 evals, 178 steps, improv/step: 0.449 (last = 0.0000), fitness=0.004669680\n",
      "197.02 secs, 268 evals, 179 steps, improv/step: 0.447 (last = 0.0000), fitness=0.004669680\n",
      "198.04 secs, 269 evals, 180 steps, improv/step: 0.450 (last = 1.0000), fitness=0.004669680\n",
      "199.06 secs, 270 evals, 181 steps, improv/step: 0.453 (last = 1.0000), fitness=0.004669680\n",
      "200.95 secs, 272 evals, 182 steps, improv/step: 0.451 (last = 0.0000), fitness=0.004669680\n",
      "201.75 secs, 273 evals, 183 steps, improv/step: 0.448 (last = 0.0000), fitness=0.004669680\n",
      "202.68 secs, 274 evals, 184 steps, improv/step: 0.446 (last = 0.0000), fitness=0.004669680\n",
      "204.27 secs, 276 evals, 185 steps, improv/step: 0.449 (last = 1.0000), fitness=0.004669680\n",
      "205.02 secs, 277 evals, 186 steps, improv/step: 0.446 (last = 0.0000), fitness=0.004669680\n",
      "206.13 secs, 278 evals, 187 steps, improv/step: 0.449 (last = 1.0000), fitness=0.004669680\n",
      "206.88 secs, 279 evals, 188 steps, improv/step: 0.452 (last = 1.0000), fitness=0.004669680\n",
      "207.66 secs, 280 evals, 189 steps, improv/step: 0.455 (last = 1.0000), fitness=0.004669680\n",
      "208.54 secs, 281 evals, 190 steps, improv/step: 0.453 (last = 0.0000), fitness=0.004669680\n",
      "209.08 secs, 282 evals, 191 steps, improv/step: 0.450 (last = 0.0000), fitness=0.004669680\n",
      "209.79 secs, 283 evals, 192 steps, improv/step: 0.453 (last = 1.0000), fitness=0.004669680\n",
      "210.48 secs, 284 evals, 193 steps, improv/step: 0.451 (last = 0.0000), fitness=0.004669680\n",
      "211.23 secs, 285 evals, 194 steps, improv/step: 0.448 (last = 0.0000), fitness=0.004669680\n",
      "212.12 secs, 286 evals, 195 steps, improv/step: 0.451 (last = 1.0000), fitness=0.004669680\n",
      "212.84 secs, 287 evals, 196 steps, improv/step: 0.449 (last = 0.0000), fitness=0.004669680\n",
      "213.85 secs, 288 evals, 197 steps, improv/step: 0.447 (last = 0.0000), fitness=0.004669680\n",
      "214.61 secs, 289 evals, 198 steps, improv/step: 0.444 (last = 0.0000), fitness=0.004669680\n",
      "215.42 secs, 290 evals, 199 steps, improv/step: 0.442 (last = 0.0000), fitness=0.004669680\n",
      "216.29 secs, 291 evals, 200 steps, improv/step: 0.445 (last = 1.0000), fitness=0.004669680\n",
      "217.13 secs, 292 evals, 201 steps, improv/step: 0.448 (last = 1.0000), fitness=0.004669680\n",
      "217.92 secs, 293 evals, 202 steps, improv/step: 0.446 (last = 0.0000), fitness=0.004669680\n",
      "218.87 secs, 294 evals, 203 steps, improv/step: 0.448 (last = 1.0000), fitness=0.004669680\n",
      "219.53 secs, 295 evals, 204 steps, improv/step: 0.446 (last = 0.0000), fitness=0.004669680\n",
      "220.81 secs, 297 evals, 205 steps, improv/step: 0.449 (last = 1.0000), fitness=0.004669680\n",
      "221.49 secs, 298 evals, 206 steps, improv/step: 0.451 (last = 1.0000), fitness=0.004669680\n",
      "222.18 secs, 299 evals, 207 steps, improv/step: 0.454 (last = 1.0000), fitness=0.004669680\n",
      "222.78 secs, 300 evals, 208 steps, improv/step: 0.452 (last = 0.0000), fitness=0.004669680\n",
      "223.55 secs, 301 evals, 209 steps, improv/step: 0.450 (last = 0.0000), fitness=0.004669680\n",
      "224.17 secs, 302 evals, 210 steps, improv/step: 0.448 (last = 0.0000), fitness=0.004669680\n",
      "224.92 secs, 303 evals, 211 steps, improv/step: 0.450 (last = 1.0000), fitness=0.004669680\n",
      "225.97 secs, 304 evals, 212 steps, improv/step: 0.448 (last = 0.0000), fitness=0.004669680\n",
      "227.25 secs, 306 evals, 213 steps, improv/step: 0.446 (last = 0.0000), fitness=0.004669680\n",
      "228.00 secs, 307 evals, 214 steps, improv/step: 0.449 (last = 1.0000), fitness=0.004669680\n",
      "228.74 secs, 308 evals, 215 steps, improv/step: 0.451 (last = 1.0000), fitness=0.004669680\n",
      "229.49 secs, 309 evals, 216 steps, improv/step: 0.449 (last = 0.0000), fitness=0.004669680\n",
      "230.25 secs, 310 evals, 217 steps, improv/step: 0.452 (last = 1.0000), fitness=0.004669680\n",
      "230.85 secs, 311 evals, 218 steps, improv/step: 0.450 (last = 0.0000), fitness=0.004669680\n",
      "231.59 secs, 312 evals, 219 steps, improv/step: 0.447 (last = 0.0000), fitness=0.004669680\n",
      "232.40 secs, 313 evals, 220 steps, improv/step: 0.445 (last = 0.0000), fitness=0.004669680\n",
      "233.86 secs, 315 evals, 221 steps, improv/step: 0.443 (last = 0.0000), fitness=0.004669680\n",
      "235.36 secs, 317 evals, 222 steps, improv/step: 0.441 (last = 0.0000), fitness=0.004669680\n",
      "235.98 secs, 318 evals, 223 steps, improv/step: 0.444 (last = 1.0000), fitness=0.004669680\n",
      "237.27 secs, 320 evals, 224 steps, improv/step: 0.442 (last = 0.0000), fitness=0.004669680\n",
      "237.85 secs, 321 evals, 225 steps, improv/step: 0.444 (last = 1.0000), fitness=0.004669680\n",
      "238.51 secs, 322 evals, 226 steps, improv/step: 0.442 (last = 0.0000), fitness=0.004669680\n",
      "240.10 secs, 324 evals, 227 steps, improv/step: 0.441 (last = 0.0000), fitness=0.004669680\n",
      "240.93 secs, 325 evals, 228 steps, improv/step: 0.439 (last = 0.0000), fitness=0.004669680\n",
      "242.33 secs, 327 evals, 229 steps, improv/step: 0.441 (last = 1.0000), fitness=0.004669680\n",
      "243.04 secs, 328 evals, 230 steps, improv/step: 0.439 (last = 0.0000), fitness=0.004669680\n",
      "243.88 secs, 329 evals, 231 steps, improv/step: 0.437 (last = 0.0000), fitness=0.004669680\n",
      "244.70 secs, 330 evals, 232 steps, improv/step: 0.435 (last = 0.0000), fitness=0.004669680\n",
      "245.25 secs, 331 evals, 233 steps, improv/step: 0.433 (last = 0.0000), fitness=0.004669680\n",
      "246.05 secs, 332 evals, 234 steps, improv/step: 0.436 (last = 1.0000), fitness=0.004669680\n",
      "246.70 secs, 333 evals, 235 steps, improv/step: 0.438 (last = 1.0000), fitness=0.004669680\n",
      "248.10 secs, 335 evals, 236 steps, improv/step: 0.436 (last = 0.0000), fitness=0.004669680\n",
      "248.85 secs, 336 evals, 237 steps, improv/step: 0.435 (last = 0.0000), fitness=0.004669680\n",
      "249.50 secs, 337 evals, 238 steps, improv/step: 0.437 (last = 1.0000), fitness=0.004669680\n",
      "250.83 secs, 339 evals, 239 steps, improv/step: 0.435 (last = 0.0000), fitness=0.004669680\n",
      "251.63 secs, 340 evals, 240 steps, improv/step: 0.433 (last = 0.0000), fitness=0.004669680\n",
      "252.48 secs, 341 evals, 241 steps, improv/step: 0.436 (last = 1.0000), fitness=0.004669680\n",
      "253.38 secs, 342 evals, 242 steps, improv/step: 0.434 (last = 0.0000), fitness=0.004669680\n",
      "254.00 secs, 343 evals, 243 steps, improv/step: 0.432 (last = 0.0000), fitness=0.004669680\n",
      "255.59 secs, 345 evals, 244 steps, improv/step: 0.430 (last = 0.0000), fitness=0.004669680\n",
      "256.14 secs, 346 evals, 245 steps, improv/step: 0.433 (last = 1.0000), fitness=0.004669680\n",
      "256.94 secs, 347 evals, 246 steps, improv/step: 0.431 (last = 0.0000), fitness=0.004669680\n",
      "257.71 secs, 348 evals, 247 steps, improv/step: 0.433 (last = 1.0000), fitness=0.004669680\n",
      "258.48 secs, 349 evals, 248 steps, improv/step: 0.435 (last = 1.0000), fitness=0.004669680\n",
      "259.28 secs, 350 evals, 249 steps, improv/step: 0.434 (last = 0.0000), fitness=0.004669680\n",
      "260.91 secs, 352 evals, 250 steps, improv/step: 0.432 (last = 0.0000), fitness=0.004669680\n",
      "262.89 secs, 354 evals, 251 steps, improv/step: 0.430 (last = 0.0000), fitness=0.004669680\n",
      "263.44 secs, 355 evals, 252 steps, improv/step: 0.429 (last = 0.0000), fitness=0.004669680\n",
      "264.15 secs, 356 evals, 253 steps, improv/step: 0.431 (last = 1.0000), fitness=0.004669680\n",
      "264.90 secs, 357 evals, 254 steps, improv/step: 0.429 (last = 0.0000), fitness=0.004669680\n",
      "265.78 secs, 358 evals, 255 steps, improv/step: 0.427 (last = 0.0000), fitness=0.004669680\n",
      "266.97 secs, 359 evals, 256 steps, improv/step: 0.426 (last = 0.0000), fitness=0.004669680\n",
      "267.90 secs, 360 evals, 257 steps, improv/step: 0.428 (last = 1.0000), fitness=0.004669680\n",
      "269.28 secs, 361 evals, 258 steps, improv/step: 0.426 (last = 0.0000), fitness=0.004669680\n",
      "270.68 secs, 362 evals, 259 steps, improv/step: 0.429 (last = 1.0000), fitness=0.004669680\n",
      "271.50 secs, 363 evals, 260 steps, improv/step: 0.431 (last = 1.0000), fitness=0.004669680\n",
      "272.29 secs, 364 evals, 261 steps, improv/step: 0.429 (last = 0.0000), fitness=0.004669680\n",
      "273.32 secs, 365 evals, 262 steps, improv/step: 0.431 (last = 1.0000), fitness=0.004669680\n",
      "273.95 secs, 366 evals, 263 steps, improv/step: 0.433 (last = 1.0000), fitness=0.004669680\n",
      "274.88 secs, 367 evals, 264 steps, improv/step: 0.436 (last = 1.0000), fitness=0.004669680\n",
      "275.60 secs, 368 evals, 265 steps, improv/step: 0.438 (last = 1.0000), fitness=0.004669680\n",
      "276.61 secs, 369 evals, 266 steps, improv/step: 0.436 (last = 0.0000), fitness=0.004669680\n",
      "277.36 secs, 370 evals, 267 steps, improv/step: 0.434 (last = 0.0000), fitness=0.004669680\n",
      "278.33 secs, 371 evals, 268 steps, improv/step: 0.437 (last = 1.0000), fitness=0.004669680\n",
      "278.87 secs, 372 evals, 269 steps, improv/step: 0.435 (last = 0.0000), fitness=0.004669680\n",
      "279.49 secs, 373 evals, 270 steps, improv/step: 0.437 (last = 1.0000), fitness=0.004669680\n",
      "280.24 secs, 374 evals, 271 steps, improv/step: 0.435 (last = 0.0000), fitness=0.004669680\n",
      "281.07 secs, 375 evals, 272 steps, improv/step: 0.434 (last = 0.0000), fitness=0.004669680\n",
      "281.74 secs, 376 evals, 273 steps, improv/step: 0.432 (last = 0.0000), fitness=0.004669680\n",
      "282.42 secs, 377 evals, 274 steps, improv/step: 0.431 (last = 0.0000), fitness=0.004669680\n",
      "283.18 secs, 378 evals, 275 steps, improv/step: 0.433 (last = 1.0000), fitness=0.004669680\n",
      "283.93 secs, 379 evals, 276 steps, improv/step: 0.431 (last = 0.0000), fitness=0.004669680\n",
      "284.60 secs, 380 evals, 277 steps, improv/step: 0.430 (last = 0.0000), fitness=0.004669680\n",
      "285.80 secs, 382 evals, 278 steps, improv/step: 0.432 (last = 1.0000), fitness=0.004669680\n",
      "286.41 secs, 383 evals, 279 steps, improv/step: 0.430 (last = 0.0000), fitness=0.004669680\n",
      "287.83 secs, 385 evals, 280 steps, improv/step: 0.429 (last = 0.0000), fitness=0.004669680\n",
      "289.21 secs, 387 evals, 281 steps, improv/step: 0.431 (last = 1.0000), fitness=0.004669680\n",
      "290.02 secs, 388 evals, 282 steps, improv/step: 0.429 (last = 0.0000), fitness=0.004669680\n",
      "290.76 secs, 389 evals, 283 steps, improv/step: 0.431 (last = 1.0000), fitness=0.004669680\n",
      "291.52 secs, 390 evals, 284 steps, improv/step: 0.430 (last = 0.0000), fitness=0.004669680\n",
      "292.26 secs, 391 evals, 285 steps, improv/step: 0.428 (last = 0.0000), fitness=0.004669680\n",
      "293.01 secs, 392 evals, 286 steps, improv/step: 0.427 (last = 0.0000), fitness=0.004669680\n",
      "293.54 secs, 393 evals, 287 steps, improv/step: 0.425 (last = 0.0000), fitness=0.004669680\n",
      "295.00 secs, 395 evals, 288 steps, improv/step: 0.427 (last = 1.0000), fitness=0.004669680\n",
      "295.68 secs, 396 evals, 289 steps, improv/step: 0.426 (last = 0.0000), fitness=0.004669680\n",
      "296.35 secs, 397 evals, 290 steps, improv/step: 0.428 (last = 1.0000), fitness=0.004669680\n",
      "297.59 secs, 399 evals, 291 steps, improv/step: 0.426 (last = 0.0000), fitness=0.004669680\n",
      "298.28 secs, 400 evals, 292 steps, improv/step: 0.428 (last = 1.0000), fitness=0.004669680\n",
      "299.83 secs, 402 evals, 293 steps, improv/step: 0.430 (last = 1.0000), fitness=0.004669680\n",
      "301.09 secs, 404 evals, 294 steps, improv/step: 0.432 (last = 1.0000), fitness=0.004669680\n",
      "301.77 secs, 405 evals, 295 steps, improv/step: 0.431 (last = 0.0000), fitness=0.004669680\n",
      "302.59 secs, 406 evals, 296 steps, improv/step: 0.429 (last = 0.0000), fitness=0.004669680\n",
      "303.34 secs, 407 evals, 297 steps, improv/step: 0.428 (last = 0.0000), fitness=0.004669680\n",
      "304.02 secs, 408 evals, 298 steps, improv/step: 0.426 (last = 0.0000), fitness=0.004669680\n",
      "305.21 secs, 410 evals, 299 steps, improv/step: 0.425 (last = 0.0000), fitness=0.004669680\n",
      "305.75 secs, 411 evals, 300 steps, improv/step: 0.423 (last = 0.0000), fitness=0.004669680\n",
      "306.49 secs, 412 evals, 301 steps, improv/step: 0.422 (last = 0.0000), fitness=0.004669680\n",
      "307.17 secs, 413 evals, 302 steps, improv/step: 0.421 (last = 0.0000), fitness=0.004669680\n",
      "307.91 secs, 414 evals, 303 steps, improv/step: 0.419 (last = 0.0000), fitness=0.004669680\n",
      "308.67 secs, 415 evals, 304 steps, improv/step: 0.418 (last = 0.0000), fitness=0.004669680\n",
      "309.43 secs, 416 evals, 305 steps, improv/step: 0.416 (last = 0.0000), fitness=0.004669680\n",
      "309.95 secs, 417 evals, 306 steps, improv/step: 0.415 (last = 0.0000), fitness=0.004669680\n",
      "310.70 secs, 418 evals, 307 steps, improv/step: 0.417 (last = 1.0000), fitness=0.004669680\n",
      "311.45 secs, 419 evals, 308 steps, improv/step: 0.416 (last = 0.0000), fitness=0.004669680\n",
      "312.19 secs, 420 evals, 309 steps, improv/step: 0.414 (last = 0.0000), fitness=0.004669680\n",
      "312.87 secs, 421 evals, 310 steps, improv/step: 0.413 (last = 0.0000), fitness=0.004669680\n",
      "313.64 secs, 422 evals, 311 steps, improv/step: 0.412 (last = 0.0000), fitness=0.004669680\n",
      "314.39 secs, 423 evals, 312 steps, improv/step: 0.413 (last = 1.0000), fitness=0.004669680\n",
      "314.99 secs, 424 evals, 313 steps, improv/step: 0.412 (last = 0.0000), fitness=0.004669680\n",
      "315.75 secs, 425 evals, 314 steps, improv/step: 0.414 (last = 1.0000), fitness=0.004669680\n",
      "317.15 secs, 427 evals, 315 steps, improv/step: 0.413 (last = 0.0000), fitness=0.004669680\n",
      "317.82 secs, 428 evals, 316 steps, improv/step: 0.411 (last = 0.0000), fitness=0.004669680\n",
      "318.63 secs, 429 evals, 317 steps, improv/step: 0.413 (last = 1.0000), fitness=0.004669680\n",
      "319.30 secs, 430 evals, 318 steps, improv/step: 0.412 (last = 0.0000), fitness=0.004669680\n",
      "320.04 secs, 431 evals, 319 steps, improv/step: 0.411 (last = 0.0000), fitness=0.004669680\n",
      "320.79 secs, 432 evals, 320 steps, improv/step: 0.412 (last = 1.0000), fitness=0.004669680\n",
      "321.53 secs, 433 evals, 321 steps, improv/step: 0.411 (last = 0.0000), fitness=0.004669680\n",
      "322.12 secs, 434 evals, 322 steps, improv/step: 0.413 (last = 1.0000), fitness=0.004669680\n",
      "322.72 secs, 435 evals, 323 steps, improv/step: 0.412 (last = 0.0000), fitness=0.004669680\n",
      "323.47 secs, 436 evals, 324 steps, improv/step: 0.410 (last = 0.0000), fitness=0.004669680\n",
      "324.31 secs, 437 evals, 325 steps, improv/step: 0.409 (last = 0.0000), fitness=0.004669680\n",
      "325.06 secs, 438 evals, 326 steps, improv/step: 0.411 (last = 1.0000), fitness=0.004669680\n",
      "325.82 secs, 439 evals, 327 steps, improv/step: 0.413 (last = 1.0000), fitness=0.004669680\n",
      "326.56 secs, 440 evals, 328 steps, improv/step: 0.415 (last = 1.0000), fitness=0.004669680\n",
      "327.09 secs, 441 evals, 329 steps, improv/step: 0.413 (last = 0.0000), fitness=0.004669680\n",
      "327.84 secs, 442 evals, 330 steps, improv/step: 0.412 (last = 0.0000), fitness=0.004669680\n",
      "328.55 secs, 443 evals, 331 steps, improv/step: 0.411 (last = 0.0000), fitness=0.004669680\n",
      "329.23 secs, 444 evals, 332 steps, improv/step: 0.410 (last = 0.0000), fitness=0.004669680\n",
      "329.84 secs, 445 evals, 333 steps, improv/step: 0.408 (last = 0.0000), fitness=0.004669680\n",
      "330.67 secs, 446 evals, 334 steps, improv/step: 0.410 (last = 1.0000), fitness=0.004669680\n",
      "331.19 secs, 447 evals, 335 steps, improv/step: 0.409 (last = 0.0000), fitness=0.004669680\n",
      "331.80 secs, 448 evals, 336 steps, improv/step: 0.408 (last = 0.0000), fitness=0.004669680\n",
      "332.40 secs, 449 evals, 337 steps, improv/step: 0.407 (last = 0.0000), fitness=0.004669680\n",
      "333.15 secs, 450 evals, 338 steps, improv/step: 0.405 (last = 0.0000), fitness=0.004669680\n",
      "333.90 secs, 451 evals, 339 steps, improv/step: 0.404 (last = 0.0000), fitness=0.004669680\n",
      "334.65 secs, 452 evals, 340 steps, improv/step: 0.403 (last = 0.0000), fitness=0.004669680\n",
      "335.19 secs, 453 evals, 341 steps, improv/step: 0.402 (last = 0.0000), fitness=0.004669680\n",
      "335.94 secs, 454 evals, 342 steps, improv/step: 0.404 (last = 1.0000), fitness=0.004669680\n",
      "336.91 secs, 455 evals, 343 steps, improv/step: 0.402 (last = 0.0000), fitness=0.004669680\n",
      "337.66 secs, 456 evals, 344 steps, improv/step: 0.401 (last = 0.0000), fitness=0.004669680\n",
      "338.28 secs, 457 evals, 345 steps, improv/step: 0.400 (last = 0.0000), fitness=0.004669680\n",
      "339.03 secs, 458 evals, 346 steps, improv/step: 0.399 (last = 0.0000), fitness=0.004669680\n",
      "339.56 secs, 459 evals, 347 steps, improv/step: 0.398 (last = 0.0000), fitness=0.004669680\n",
      "340.31 secs, 460 evals, 348 steps, improv/step: 0.397 (last = 0.0000), fitness=0.004669680\n",
      "341.06 secs, 461 evals, 349 steps, improv/step: 0.395 (last = 0.0000), fitness=0.004669680\n",
      "341.96 secs, 462 evals, 350 steps, improv/step: 0.394 (last = 0.0000), fitness=0.004669680\n",
      "342.70 secs, 463 evals, 351 steps, improv/step: 0.396 (last = 1.0000), fitness=0.004669680\n",
      "343.55 secs, 464 evals, 352 steps, improv/step: 0.395 (last = 0.0000), fitness=0.004669680\n",
      "344.16 secs, 465 evals, 353 steps, improv/step: 0.397 (last = 1.0000), fitness=0.004669680\n",
      "344.91 secs, 466 evals, 354 steps, improv/step: 0.395 (last = 0.0000), fitness=0.004669680\n",
      "346.05 secs, 468 evals, 355 steps, improv/step: 0.394 (last = 0.0000), fitness=0.004669680\n",
      "346.80 secs, 469 evals, 356 steps, improv/step: 0.393 (last = 0.0000), fitness=0.004669680\n",
      "347.82 secs, 470 evals, 357 steps, improv/step: 0.392 (last = 0.0000), fitness=0.004669680\n",
      "348.56 secs, 471 evals, 358 steps, improv/step: 0.391 (last = 0.0000), fitness=0.004669680\n",
      "349.28 secs, 472 evals, 359 steps, improv/step: 0.390 (last = 0.0000), fitness=0.004669680\n",
      "350.01 secs, 473 evals, 360 steps, improv/step: 0.392 (last = 1.0000), fitness=0.004669680\n",
      "350.75 secs, 474 evals, 361 steps, improv/step: 0.391 (last = 0.0000), fitness=0.004669680\n",
      "351.48 secs, 475 evals, 362 steps, improv/step: 0.392 (last = 1.0000), fitness=0.004669680\n",
      "352.21 secs, 476 evals, 363 steps, improv/step: 0.391 (last = 0.0000), fitness=0.004669680\n",
      "352.80 secs, 477 evals, 364 steps, improv/step: 0.393 (last = 1.0000), fitness=0.004669680\n",
      "353.53 secs, 478 evals, 365 steps, improv/step: 0.395 (last = 1.0000), fitness=0.004669680\n",
      "354.26 secs, 479 evals, 366 steps, improv/step: 0.393 (last = 0.0000), fitness=0.004669680\n",
      "354.92 secs, 480 evals, 367 steps, improv/step: 0.395 (last = 1.0000), fitness=0.004669680\n",
      "355.58 secs, 481 evals, 368 steps, improv/step: 0.394 (last = 0.0000), fitness=0.004669680\n",
      "356.10 secs, 482 evals, 369 steps, improv/step: 0.393 (last = 0.0000), fitness=0.004669680\n",
      "357.42 secs, 484 evals, 370 steps, improv/step: 0.392 (last = 0.0000), fitness=0.004669680\n",
      "358.09 secs, 485 evals, 371 steps, improv/step: 0.391 (last = 0.0000), fitness=0.004669680\n",
      "358.77 secs, 486 evals, 372 steps, improv/step: 0.390 (last = 0.0000), fitness=0.004669680\n",
      "359.65 secs, 487 evals, 373 steps, improv/step: 0.391 (last = 1.0000), fitness=0.004669680\n",
      "360.31 secs, 488 evals, 374 steps, improv/step: 0.393 (last = 1.0000), fitness=0.004669680\n",
      "361.07 secs, 489 evals, 375 steps, improv/step: 0.395 (last = 1.0000), fitness=0.004669680\n",
      "361.80 secs, 490 evals, 376 steps, improv/step: 0.396 (last = 1.0000), fitness=0.004669680\n",
      "362.53 secs, 491 evals, 377 steps, improv/step: 0.395 (last = 0.0000), fitness=0.004669680\n",
      "363.19 secs, 492 evals, 378 steps, improv/step: 0.394 (last = 0.0000), fitness=0.004669680\n",
      "363.79 secs, 493 evals, 379 steps, improv/step: 0.393 (last = 0.0000), fitness=0.004669680\n",
      "364.52 secs, 494 evals, 380 steps, improv/step: 0.392 (last = 0.0000), fitness=0.004669680\n",
      "365.25 secs, 495 evals, 381 steps, improv/step: 0.394 (last = 1.0000), fitness=0.004669680\n",
      "365.99 secs, 496 evals, 382 steps, improv/step: 0.393 (last = 0.0000), fitness=0.004669680\n",
      "366.75 secs, 497 evals, 383 steps, improv/step: 0.392 (last = 0.0000), fitness=0.004669680\n",
      "368.08 secs, 499 evals, 384 steps, improv/step: 0.391 (last = 0.0000), fitness=0.004669680\n",
      "369.62 secs, 501 evals, 385 steps, improv/step: 0.392 (last = 1.0000), fitness=0.004669680\n",
      "370.21 secs, 502 evals, 386 steps, improv/step: 0.391 (last = 0.0000), fitness=0.004669680\n",
      "370.74 secs, 503 evals, 387 steps, improv/step: 0.390 (last = 0.0000), fitness=0.004669680\n",
      "371.47 secs, 504 evals, 388 steps, improv/step: 0.389 (last = 0.0000), fitness=0.004669680\n",
      "372.21 secs, 505 evals, 389 steps, improv/step: 0.391 (last = 1.0000), fitness=0.004669680\n",
      "372.88 secs, 506 evals, 390 steps, improv/step: 0.392 (last = 1.0000), fitness=0.004669680\n",
      "373.49 secs, 507 evals, 391 steps, improv/step: 0.391 (last = 0.0000), fitness=0.004669680\n",
      "374.23 secs, 508 evals, 392 steps, improv/step: 0.393 (last = 1.0000), fitness=0.004669680\n",
      "374.98 secs, 509 evals, 393 steps, improv/step: 0.392 (last = 0.0000), fitness=0.004669680\n",
      "375.72 secs, 510 evals, 394 steps, improv/step: 0.391 (last = 0.0000), fitness=0.004669680\n",
      "376.53 secs, 511 evals, 395 steps, improv/step: 0.390 (last = 0.0000), fitness=0.004669680\n",
      "377.28 secs, 512 evals, 396 steps, improv/step: 0.391 (last = 1.0000), fitness=0.004669680\n",
      "378.60 secs, 514 evals, 397 steps, improv/step: 0.393 (last = 1.0000), fitness=0.004669680\n",
      "379.28 secs, 515 evals, 398 steps, improv/step: 0.394 (last = 1.0000), fitness=0.004669680\n",
      "380.17 secs, 516 evals, 399 steps, improv/step: 0.396 (last = 1.0000), fitness=0.004669680\n",
      "380.84 secs, 517 evals, 400 steps, improv/step: 0.395 (last = 0.0000), fitness=0.004669680\n",
      "381.57 secs, 518 evals, 401 steps, improv/step: 0.394 (last = 0.0000), fitness=0.004669680\n",
      "382.24 secs, 519 evals, 402 steps, improv/step: 0.393 (last = 0.0000), fitness=0.004669680\n",
      "382.99 secs, 520 evals, 403 steps, improv/step: 0.392 (last = 0.0000), fitness=0.004669680\n",
      "383.74 secs, 521 evals, 404 steps, improv/step: 0.394 (last = 1.0000), fitness=0.004669680\n",
      "384.48 secs, 522 evals, 405 steps, improv/step: 0.393 (last = 0.0000), fitness=0.004669680\n",
      "385.14 secs, 523 evals, 406 steps, improv/step: 0.392 (last = 0.0000), fitness=0.004669680\n",
      "385.89 secs, 524 evals, 407 steps, improv/step: 0.393 (last = 1.0000), fitness=0.004669680\n",
      "386.56 secs, 525 evals, 408 steps, improv/step: 0.395 (last = 1.0000), fitness=0.004669680\n",
      "387.15 secs, 526 evals, 409 steps, improv/step: 0.396 (last = 1.0000), fitness=0.004669680\n",
      "387.89 secs, 527 evals, 410 steps, improv/step: 0.395 (last = 0.0000), fitness=0.004669680\n",
      "388.58 secs, 528 evals, 411 steps, improv/step: 0.394 (last = 0.0000), fitness=0.004669680\n",
      "389.33 secs, 529 evals, 412 steps, improv/step: 0.393 (last = 0.0000), fitness=0.004669680\n",
      "390.07 secs, 530 evals, 413 steps, improv/step: 0.395 (last = 1.0000), fitness=0.004669680\n",
      "390.75 secs, 531 evals, 414 steps, improv/step: 0.394 (last = 0.0000), fitness=0.004669680\n",
      "391.41 secs, 532 evals, 415 steps, improv/step: 0.393 (last = 0.0000), fitness=0.004669680\n",
      "392.17 secs, 533 evals, 416 steps, improv/step: 0.392 (last = 0.0000), fitness=0.004669680\n",
      "392.84 secs, 534 evals, 417 steps, improv/step: 0.391 (last = 0.0000), fitness=0.004669680\n",
      "393.58 secs, 535 evals, 418 steps, improv/step: 0.390 (last = 0.0000), fitness=0.004669680\n",
      "394.25 secs, 536 evals, 419 steps, improv/step: 0.389 (last = 0.0000), fitness=0.004669680\n",
      "394.92 secs, 537 evals, 420 steps, improv/step: 0.388 (last = 0.0000), fitness=0.004669680\n",
      "395.52 secs, 538 evals, 421 steps, improv/step: 0.387 (last = 0.0000), fitness=0.004669680\n",
      "396.27 secs, 539 evals, 422 steps, improv/step: 0.386 (last = 0.0000), fitness=0.004669680\n",
      "396.94 secs, 540 evals, 423 steps, improv/step: 0.385 (last = 0.0000), fitness=0.004669680\n",
      "397.68 secs, 541 evals, 424 steps, improv/step: 0.384 (last = 0.0000), fitness=0.004669680\n",
      "398.43 secs, 542 evals, 425 steps, improv/step: 0.386 (last = 1.0000), fitness=0.004669680\n",
      "399.12 secs, 543 evals, 426 steps, improv/step: 0.385 (last = 0.0000), fitness=0.004669680\n",
      "399.65 secs, 544 evals, 427 steps, improv/step: 0.384 (last = 0.0000), fitness=0.004669680\n",
      "400.32 secs, 545 evals, 428 steps, improv/step: 0.383 (last = 0.0000), fitness=0.004669680\n",
      "401.14 secs, 546 evals, 429 steps, improv/step: 0.382 (last = 0.0000), fitness=0.004669680\n",
      "401.74 secs, 547 evals, 430 steps, improv/step: 0.381 (last = 0.0000), fitness=0.004669680\n",
      "402.41 secs, 548 evals, 431 steps, improv/step: 0.381 (last = 0.0000), fitness=0.004669680\n",
      "403.08 secs, 549 evals, 432 steps, improv/step: 0.382 (last = 1.0000), fitness=0.004669680\n",
      "403.77 secs, 550 evals, 433 steps, improv/step: 0.381 (last = 0.0000), fitness=0.004669680\n",
      "404.37 secs, 551 evals, 434 steps, improv/step: 0.382 (last = 1.0000), fitness=0.004669680\n",
      "405.41 secs, 552 evals, 435 steps, improv/step: 0.382 (last = 0.0000), fitness=0.004669680\n",
      "406.02 secs, 553 evals, 436 steps, improv/step: 0.381 (last = 0.0000), fitness=0.004669680\n",
      "407.34 secs, 555 evals, 437 steps, improv/step: 0.382 (last = 1.0000), fitness=0.004669680\n",
      "408.08 secs, 556 evals, 438 steps, improv/step: 0.381 (last = 0.0000), fitness=0.004669680\n",
      "408.82 secs, 557 evals, 439 steps, improv/step: 0.380 (last = 0.0000), fitness=0.004669680\n",
      "409.48 secs, 558 evals, 440 steps, improv/step: 0.380 (last = 0.0000), fitness=0.004669680\n",
      "410.01 secs, 559 evals, 441 steps, improv/step: 0.379 (last = 0.0000), fitness=0.004669680\n",
      "410.84 secs, 560 evals, 442 steps, improv/step: 0.378 (last = 0.0000), fitness=0.004669680\n",
      "411.66 secs, 561 evals, 443 steps, improv/step: 0.379 (last = 1.0000), fitness=0.004669680\n",
      "412.27 secs, 562 evals, 444 steps, improv/step: 0.378 (last = 0.0000), fitness=0.004669680\n",
      "412.80 secs, 563 evals, 445 steps, improv/step: 0.378 (last = 0.0000), fitness=0.004669680\n",
      "413.47 secs, 564 evals, 446 steps, improv/step: 0.377 (last = 0.0000), fitness=0.004669680\n",
      "414.22 secs, 565 evals, 447 steps, improv/step: 0.378 (last = 1.0000), fitness=0.004669680\n",
      "414.89 secs, 566 evals, 448 steps, improv/step: 0.377 (last = 0.0000), fitness=0.004669680\n",
      "415.63 secs, 567 evals, 449 steps, improv/step: 0.379 (last = 1.0000), fitness=0.004669680\n",
      "416.38 secs, 568 evals, 450 steps, improv/step: 0.378 (last = 0.0000), fitness=0.004669680\n",
      "417.12 secs, 569 evals, 451 steps, improv/step: 0.377 (last = 0.0000), fitness=0.004669680\n",
      "417.79 secs, 570 evals, 452 steps, improv/step: 0.376 (last = 0.0000), fitness=0.004669680\n",
      "418.55 secs, 571 evals, 453 steps, improv/step: 0.377 (last = 1.0000), fitness=0.004669680\n",
      "419.30 secs, 572 evals, 454 steps, improv/step: 0.379 (last = 1.0000), fitness=0.004669680\n",
      "420.05 secs, 573 evals, 455 steps, improv/step: 0.378 (last = 0.0000), fitness=0.004669680\n",
      "420.80 secs, 574 evals, 456 steps, improv/step: 0.377 (last = 0.0000), fitness=0.004669680\n",
      "421.56 secs, 575 evals, 457 steps, improv/step: 0.376 (last = 0.0000), fitness=0.004669680\n",
      "422.31 secs, 576 evals, 458 steps, improv/step: 0.376 (last = 0.0000), fitness=0.004669680\n",
      "423.05 secs, 577 evals, 459 steps, improv/step: 0.375 (last = 0.0000), fitness=0.004669680\n",
      "423.80 secs, 578 evals, 460 steps, improv/step: 0.376 (last = 1.0000), fitness=0.004669680\n",
      "424.55 secs, 579 evals, 461 steps, improv/step: 0.375 (last = 0.0000), fitness=0.004669680\n",
      "425.30 secs, 580 evals, 462 steps, improv/step: 0.377 (last = 1.0000), fitness=0.004669680\n",
      "426.04 secs, 581 evals, 463 steps, improv/step: 0.378 (last = 1.0000), fitness=0.004669680\n",
      "426.58 secs, 582 evals, 464 steps, improv/step: 0.377 (last = 0.0000), fitness=0.004669680\n",
      "427.39 secs, 583 evals, 465 steps, improv/step: 0.376 (last = 0.0000), fitness=0.004669680\n",
      "428.07 secs, 584 evals, 466 steps, improv/step: 0.376 (last = 0.0000), fitness=0.004669680\n",
      "428.82 secs, 585 evals, 467 steps, improv/step: 0.377 (last = 1.0000), fitness=0.004669680\n",
      "429.34 secs, 586 evals, 468 steps, improv/step: 0.376 (last = 0.0000), fitness=0.004669680\n",
      "430.09 secs, 587 evals, 469 steps, improv/step: 0.375 (last = 0.0000), fitness=0.004669680\n",
      "430.84 secs, 588 evals, 470 steps, improv/step: 0.374 (last = 0.0000), fitness=0.004669680\n",
      "431.58 secs, 589 evals, 471 steps, improv/step: 0.374 (last = 0.0000), fitness=0.004669680\n",
      "432.20 secs, 590 evals, 472 steps, improv/step: 0.373 (last = 0.0000), fitness=0.004669680\n",
      "432.73 secs, 591 evals, 473 steps, improv/step: 0.372 (last = 0.0000), fitness=0.004669680\n",
      "433.50 secs, 592 evals, 474 steps, improv/step: 0.371 (last = 0.0000), fitness=0.004669680\n",
      "434.19 secs, 593 evals, 475 steps, improv/step: 0.371 (last = 0.0000), fitness=0.004669680\n",
      "434.80 secs, 594 evals, 476 steps, improv/step: 0.370 (last = 0.0000), fitness=0.004669680\n",
      "435.49 secs, 595 evals, 477 steps, improv/step: 0.369 (last = 0.0000), fitness=0.004669680\n",
      "436.20 secs, 596 evals, 478 steps, improv/step: 0.368 (last = 0.0000), fitness=0.004669680\n",
      "436.93 secs, 597 evals, 479 steps, improv/step: 0.367 (last = 0.0000), fitness=0.004669680\n",
      "437.45 secs, 598 evals, 480 steps, improv/step: 0.367 (last = 0.0000), fitness=0.004669680\n",
      "438.11 secs, 599 evals, 481 steps, improv/step: 0.366 (last = 0.0000), fitness=0.004669680\n",
      "438.78 secs, 600 evals, 482 steps, improv/step: 0.365 (last = 0.0000), fitness=0.004669680\n",
      "439.29 secs, 601 evals, 483 steps, improv/step: 0.366 (last = 1.0000), fitness=0.004669680\n",
      "440.11 secs, 602 evals, 484 steps, improv/step: 0.368 (last = 1.0000), fitness=0.004669680\n",
      "440.84 secs, 603 evals, 485 steps, improv/step: 0.367 (last = 0.0000), fitness=0.004669680\n",
      "441.58 secs, 604 evals, 486 steps, improv/step: 0.368 (last = 1.0000), fitness=0.004669680\n",
      "442.38 secs, 605 evals, 487 steps, improv/step: 0.368 (last = 0.0000), fitness=0.004669680\n",
      "443.13 secs, 606 evals, 488 steps, improv/step: 0.367 (last = 0.0000), fitness=0.004669680\n",
      "443.94 secs, 607 evals, 489 steps, improv/step: 0.368 (last = 1.0000), fitness=0.004669680\n",
      "444.54 secs, 608 evals, 490 steps, improv/step: 0.367 (last = 0.0000), fitness=0.004669680\n",
      "445.50 secs, 609 evals, 491 steps, improv/step: 0.369 (last = 1.0000), fitness=0.004669680\n",
      "446.10 secs, 610 evals, 492 steps, improv/step: 0.368 (last = 0.0000), fitness=0.004669680\n",
      "446.69 secs, 611 evals, 493 steps, improv/step: 0.367 (last = 0.0000), fitness=0.004669680\n",
      "447.36 secs, 612 evals, 494 steps, improv/step: 0.368 (last = 1.0000), fitness=0.004669680\n",
      "448.10 secs, 613 evals, 495 steps, improv/step: 0.370 (last = 1.0000), fitness=0.004669680\n",
      "448.85 secs, 614 evals, 496 steps, improv/step: 0.369 (last = 0.0000), fitness=0.004669680\n",
      "449.52 secs, 615 evals, 497 steps, improv/step: 0.370 (last = 1.0000), fitness=0.004669680\n",
      "450.26 secs, 616 evals, 498 steps, improv/step: 0.369 (last = 0.0000), fitness=0.004669680\n",
      "451.01 secs, 617 evals, 499 steps, improv/step: 0.369 (last = 0.0000), fitness=0.004669680\n",
      "451.82 secs, 618 evals, 500 steps, improv/step: 0.368 (last = 0.0000), fitness=0.004669680\n",
      "452.49 secs, 619 evals, 501 steps, improv/step: 0.367 (last = 0.0000), fitness=0.004669680\n",
      "453.24 secs, 620 evals, 502 steps, improv/step: 0.369 (last = 1.0000), fitness=0.004669680\n",
      "453.84 secs, 621 evals, 503 steps, improv/step: 0.368 (last = 0.0000), fitness=0.004669680\n",
      "454.59 secs, 622 evals, 504 steps, improv/step: 0.367 (last = 0.0000), fitness=0.004669680\n",
      "455.26 secs, 623 evals, 505 steps, improv/step: 0.366 (last = 0.0000), fitness=0.004669680\n",
      "456.01 secs, 624 evals, 506 steps, improv/step: 0.368 (last = 1.0000), fitness=0.004669680\n",
      "456.68 secs, 625 evals, 507 steps, improv/step: 0.369 (last = 1.0000), fitness=0.004669680\n",
      "457.49 secs, 626 evals, 508 steps, improv/step: 0.368 (last = 0.0000), fitness=0.004669680\n",
      "458.24 secs, 627 evals, 509 steps, improv/step: 0.367 (last = 0.0000), fitness=0.004669680\n",
      "458.98 secs, 628 evals, 510 steps, improv/step: 0.367 (last = 0.0000), fitness=0.004669680\n",
      "459.72 secs, 629 evals, 511 steps, improv/step: 0.368 (last = 1.0000), fitness=0.004669680\n",
      "460.61 secs, 630 evals, 512 steps, improv/step: 0.367 (last = 0.0000), fitness=0.004669680\n",
      "461.42 secs, 631 evals, 513 steps, improv/step: 0.366 (last = 0.0000), fitness=0.004669680\n",
      "462.16 secs, 632 evals, 514 steps, improv/step: 0.366 (last = 0.0000), fitness=0.004669680\n",
      "462.83 secs, 633 evals, 515 steps, improv/step: 0.367 (last = 1.0000), fitness=0.004669680\n",
      "463.59 secs, 634 evals, 516 steps, improv/step: 0.368 (last = 1.0000), fitness=0.004669680\n",
      "464.26 secs, 635 evals, 517 steps, improv/step: 0.368 (last = 0.0000), fitness=0.004669680\n",
      "465.01 secs, 636 evals, 518 steps, improv/step: 0.369 (last = 1.0000), fitness=0.004669680\n",
      "465.78 secs, 637 evals, 519 steps, improv/step: 0.370 (last = 1.0000), fitness=0.004669680\n",
      "466.52 secs, 638 evals, 520 steps, improv/step: 0.371 (last = 1.0000), fitness=0.004669680\n",
      "467.05 secs, 639 evals, 521 steps, improv/step: 0.370 (last = 0.0000), fitness=0.004669680\n",
      "467.79 secs, 640 evals, 522 steps, improv/step: 0.370 (last = 0.0000), fitness=0.004669680\n",
      "468.53 secs, 641 evals, 523 steps, improv/step: 0.371 (last = 1.0000), fitness=0.004669680\n",
      "469.20 secs, 642 evals, 524 steps, improv/step: 0.370 (last = 0.0000), fitness=0.004669680\n",
      "469.87 secs, 643 evals, 525 steps, improv/step: 0.371 (last = 1.0000), fitness=0.004669680\n",
      "470.60 secs, 644 evals, 526 steps, improv/step: 0.371 (last = 0.0000), fitness=0.004669680\n",
      "471.42 secs, 645 evals, 527 steps, improv/step: 0.372 (last = 1.0000), fitness=0.003519868\n",
      "472.16 secs, 646 evals, 528 steps, improv/step: 0.371 (last = 0.0000), fitness=0.003519868\n",
      "472.90 secs, 647 evals, 529 steps, improv/step: 0.372 (last = 1.0000), fitness=0.003519868\n",
      "473.65 secs, 648 evals, 530 steps, improv/step: 0.372 (last = 0.0000), fitness=0.003519868\n",
      "474.53 secs, 649 evals, 531 steps, improv/step: 0.371 (last = 0.0000), fitness=0.003519868\n",
      "475.13 secs, 650 evals, 532 steps, improv/step: 0.370 (last = 0.0000), fitness=0.003519868\n",
      "475.65 secs, 651 evals, 533 steps, improv/step: 0.371 (last = 1.0000), fitness=0.003519868\n",
      "476.48 secs, 652 evals, 534 steps, improv/step: 0.371 (last = 0.0000), fitness=0.003519868\n",
      "477.23 secs, 653 evals, 535 steps, improv/step: 0.370 (last = 0.0000), fitness=0.003519868\n",
      "477.99 secs, 654 evals, 536 steps, improv/step: 0.369 (last = 0.0000), fitness=0.003519868\n",
      "478.67 secs, 655 evals, 537 steps, improv/step: 0.369 (last = 0.0000), fitness=0.003519868\n",
      "479.20 secs, 656 evals, 538 steps, improv/step: 0.370 (last = 1.0000), fitness=0.003519868\n",
      "479.87 secs, 657 evals, 539 steps, improv/step: 0.369 (last = 0.0000), fitness=0.003519868\n",
      "480.62 secs, 658 evals, 540 steps, improv/step: 0.370 (last = 1.0000), fitness=0.003519868\n",
      "481.36 secs, 659 evals, 541 steps, improv/step: 0.372 (last = 1.0000), fitness=0.003519868\n",
      "482.10 secs, 660 evals, 542 steps, improv/step: 0.373 (last = 1.0000), fitness=0.003519868\n",
      "482.78 secs, 661 evals, 543 steps, improv/step: 0.372 (last = 0.0000), fitness=0.003519868\n",
      "483.52 secs, 662 evals, 544 steps, improv/step: 0.371 (last = 0.0000), fitness=0.003519868\n",
      "484.11 secs, 663 evals, 545 steps, improv/step: 0.371 (last = 0.0000), fitness=0.003519868\n",
      "484.96 secs, 664 evals, 546 steps, improv/step: 0.372 (last = 1.0000), fitness=0.003519868\n",
      "485.80 secs, 665 evals, 547 steps, improv/step: 0.371 (last = 0.0000), fitness=0.003519868\n",
      "486.47 secs, 666 evals, 548 steps, improv/step: 0.370 (last = 0.0000), fitness=0.003519868\n",
      "487.09 secs, 667 evals, 549 steps, improv/step: 0.370 (last = 0.0000), fitness=0.003519868\n",
      "487.92 secs, 668 evals, 550 steps, improv/step: 0.369 (last = 0.0000), fitness=0.003519868\n",
      "489.15 secs, 669 evals, 551 steps, improv/step: 0.368 (last = 0.0000), fitness=0.003519868\n",
      "489.94 secs, 670 evals, 552 steps, improv/step: 0.368 (last = 0.0000), fitness=0.003519868\n",
      "490.74 secs, 671 evals, 553 steps, improv/step: 0.367 (last = 0.0000), fitness=0.003519868\n",
      "491.50 secs, 672 evals, 554 steps, improv/step: 0.368 (last = 1.0000), fitness=0.003519868\n",
      "492.39 secs, 673 evals, 555 steps, improv/step: 0.368 (last = 0.0000), fitness=0.003519868\n",
      "493.16 secs, 674 evals, 556 steps, improv/step: 0.367 (last = 0.0000), fitness=0.003519868\n",
      "494.07 secs, 675 evals, 557 steps, improv/step: 0.366 (last = 0.0000), fitness=0.003519868\n",
      "494.60 secs, 676 evals, 558 steps, improv/step: 0.366 (last = 0.0000), fitness=0.003519868\n",
      "495.36 secs, 677 evals, 559 steps, improv/step: 0.365 (last = 0.0000), fitness=0.003519868\n",
      "496.11 secs, 678 evals, 560 steps, improv/step: 0.366 (last = 1.0000), fitness=0.003519868\n",
      "496.79 secs, 679 evals, 561 steps, improv/step: 0.365 (last = 0.0000), fitness=0.003519868\n",
      "497.55 secs, 680 evals, 562 steps, improv/step: 0.365 (last = 0.0000), fitness=0.003519868\n",
      "498.23 secs, 681 evals, 563 steps, improv/step: 0.366 (last = 1.0000), fitness=0.003519868\n",
      "498.91 secs, 682 evals, 564 steps, improv/step: 0.365 (last = 0.0000), fitness=0.003519868\n",
      "499.53 secs, 683 evals, 565 steps, improv/step: 0.365 (last = 0.0000), fitness=0.003519868\n",
      "500.28 secs, 684 evals, 566 steps, improv/step: 0.364 (last = 0.0000), fitness=0.003519868\n",
      "501.03 secs, 685 evals, 567 steps, improv/step: 0.363 (last = 0.0000), fitness=0.003519868\n",
      "501.92 secs, 686 evals, 568 steps, improv/step: 0.363 (last = 0.0000), fitness=0.003519868\n",
      "502.52 secs, 687 evals, 569 steps, improv/step: 0.364 (last = 1.0000), fitness=0.003519868\n",
      "503.45 secs, 688 evals, 570 steps, improv/step: 0.365 (last = 1.0000), fitness=0.003519868\n",
      "504.20 secs, 689 evals, 571 steps, improv/step: 0.364 (last = 0.0000), fitness=0.003519868\n",
      "505.28 secs, 690 evals, 572 steps, improv/step: 0.364 (last = 0.0000), fitness=0.003519868\n",
      "506.03 secs, 691 evals, 573 steps, improv/step: 0.363 (last = 0.0000), fitness=0.003519868\n",
      "506.56 secs, 692 evals, 574 steps, improv/step: 0.362 (last = 0.0000), fitness=0.003519868\n",
      "507.40 secs, 693 evals, 575 steps, improv/step: 0.362 (last = 0.0000), fitness=0.003519868\n",
      "508.18 secs, 694 evals, 576 steps, improv/step: 0.361 (last = 0.0000), fitness=0.003519868\n",
      "508.72 secs, 695 evals, 577 steps, improv/step: 0.362 (last = 1.0000), fitness=0.003519868\n",
      "509.49 secs, 696 evals, 578 steps, improv/step: 0.362 (last = 0.0000), fitness=0.003519868\n",
      "510.02 secs, 697 evals, 579 steps, improv/step: 0.361 (last = 0.0000), fitness=0.003519868\n",
      "510.84 secs, 698 evals, 580 steps, improv/step: 0.360 (last = 0.0000), fitness=0.003519868\n",
      "511.52 secs, 699 evals, 581 steps, improv/step: 0.361 (last = 1.0000), fitness=0.003519868\n",
      "512.40 secs, 700 evals, 582 steps, improv/step: 0.363 (last = 1.0000), fitness=0.003519868\n",
      "513.16 secs, 701 evals, 583 steps, improv/step: 0.362 (last = 0.0000), fitness=0.003519868\n",
      "513.85 secs, 702 evals, 584 steps, improv/step: 0.361 (last = 0.0000), fitness=0.003519868\n",
      "514.64 secs, 703 evals, 585 steps, improv/step: 0.361 (last = 0.0000), fitness=0.003519868\n",
      "515.32 secs, 704 evals, 586 steps, improv/step: 0.360 (last = 0.0000), fitness=0.003519868\n",
      "516.29 secs, 705 evals, 587 steps, improv/step: 0.361 (last = 1.0000), fitness=0.003519868\n",
      "517.06 secs, 706 evals, 588 steps, improv/step: 0.361 (last = 0.0000), fitness=0.003519868\n",
      "517.76 secs, 707 evals, 589 steps, improv/step: 0.362 (last = 1.0000), fitness=0.003519868\n",
      "518.45 secs, 708 evals, 590 steps, improv/step: 0.361 (last = 0.0000), fitness=0.003519868\n",
      "519.26 secs, 709 evals, 591 steps, improv/step: 0.360 (last = 0.0000), fitness=0.003519868\n",
      "520.08 secs, 710 evals, 592 steps, improv/step: 0.360 (last = 0.0000), fitness=0.003519868\n",
      "521.02 secs, 711 evals, 593 steps, improv/step: 0.361 (last = 1.0000), fitness=0.003519868\n",
      "521.86 secs, 712 evals, 594 steps, improv/step: 0.362 (last = 1.0000), fitness=0.003519868\n",
      "522.66 secs, 713 evals, 595 steps, improv/step: 0.363 (last = 1.0000), fitness=0.003519868\n",
      "523.57 secs, 714 evals, 596 steps, improv/step: 0.362 (last = 0.0000), fitness=0.003519868\n",
      "524.31 secs, 715 evals, 597 steps, improv/step: 0.362 (last = 0.0000), fitness=0.003519868\n",
      "525.20 secs, 716 evals, 598 steps, improv/step: 0.361 (last = 0.0000), fitness=0.003519868\n",
      "525.88 secs, 717 evals, 599 steps, improv/step: 0.362 (last = 1.0000), fitness=0.003519868\n",
      "526.64 secs, 718 evals, 600 steps, improv/step: 0.363 (last = 1.0000), fitness=0.003519868\n",
      "527.34 secs, 719 evals, 601 steps, improv/step: 0.364 (last = 1.0000), fitness=0.003217334\n",
      "528.22 secs, 720 evals, 602 steps, improv/step: 0.364 (last = 0.0000), fitness=0.003217334\n",
      "529.04 secs, 721 evals, 603 steps, improv/step: 0.363 (last = 0.0000), fitness=0.003217334\n",
      "529.96 secs, 722 evals, 604 steps, improv/step: 0.363 (last = 0.0000), fitness=0.003217334\n",
      "530.77 secs, 723 evals, 605 steps, improv/step: 0.362 (last = 0.0000), fitness=0.003217334\n",
      "531.63 secs, 724 evals, 606 steps, improv/step: 0.363 (last = 1.0000), fitness=0.003217334\n",
      "532.46 secs, 725 evals, 607 steps, improv/step: 0.364 (last = 1.0000), fitness=0.003217334\n",
      "533.28 secs, 726 evals, 608 steps, improv/step: 0.365 (last = 1.0000), fitness=0.003217334\n",
      "534.04 secs, 727 evals, 609 steps, improv/step: 0.365 (last = 0.0000), fitness=0.003217334\n",
      "534.80 secs, 728 evals, 610 steps, improv/step: 0.364 (last = 0.0000), fitness=0.003217334\n",
      "535.55 secs, 729 evals, 611 steps, improv/step: 0.363 (last = 0.0000), fitness=0.003217334\n",
      "536.38 secs, 730 evals, 612 steps, improv/step: 0.363 (last = 0.0000), fitness=0.003217334\n",
      "537.13 secs, 731 evals, 613 steps, improv/step: 0.364 (last = 1.0000), fitness=0.003217334\n",
      "537.74 secs, 732 evals, 614 steps, improv/step: 0.363 (last = 0.0000), fitness=0.003217334\n",
      "538.50 secs, 733 evals, 615 steps, improv/step: 0.363 (last = 0.0000), fitness=0.003217334\n",
      "539.20 secs, 734 evals, 616 steps, improv/step: 0.364 (last = 1.0000), fitness=0.003217334\n",
      "539.82 secs, 735 evals, 617 steps, improv/step: 0.363 (last = 0.0000), fitness=0.003217334\n",
      "540.62 secs, 736 evals, 618 steps, improv/step: 0.362 (last = 0.0000), fitness=0.003217334\n",
      "541.61 secs, 737 evals, 619 steps, improv/step: 0.362 (last = 0.0000), fitness=0.003217334\n",
      "542.32 secs, 738 evals, 620 steps, improv/step: 0.363 (last = 1.0000), fitness=0.003217334\n",
      "542.87 secs, 739 evals, 621 steps, improv/step: 0.362 (last = 0.0000), fitness=0.003217334\n",
      "543.48 secs, 740 evals, 622 steps, improv/step: 0.362 (last = 0.0000), fitness=0.003217334\n",
      "544.31 secs, 741 evals, 623 steps, improv/step: 0.361 (last = 0.0000), fitness=0.003217334\n",
      "545.09 secs, 742 evals, 624 steps, improv/step: 0.362 (last = 1.0000), fitness=0.003217334\n",
      "545.79 secs, 743 evals, 625 steps, improv/step: 0.362 (last = 0.0000), fitness=0.003217334\n",
      "546.47 secs, 744 evals, 626 steps, improv/step: 0.361 (last = 0.0000), fitness=0.003217334\n",
      "547.25 secs, 745 evals, 627 steps, improv/step: 0.360 (last = 0.0000), fitness=0.003217334\n",
      "548.27 secs, 746 evals, 628 steps, improv/step: 0.361 (last = 1.0000), fitness=0.003217334\n",
      "548.94 secs, 747 evals, 629 steps, improv/step: 0.361 (last = 0.0000), fitness=0.003217334\n",
      "549.92 secs, 748 evals, 630 steps, improv/step: 0.360 (last = 0.0000), fitness=0.003217334\n",
      "550.72 secs, 749 evals, 631 steps, improv/step: 0.361 (last = 1.0000), fitness=0.003217334\n",
      "551.48 secs, 750 evals, 632 steps, improv/step: 0.361 (last = 0.0000), fitness=0.003217334\n",
      "552.61 secs, 751 evals, 633 steps, improv/step: 0.360 (last = 0.0000), fitness=0.003217334\n",
      "553.60 secs, 752 evals, 634 steps, improv/step: 0.361 (last = 1.0000), fitness=0.003217334\n",
      "554.71 secs, 753 evals, 635 steps, improv/step: 0.361 (last = 0.0000), fitness=0.003217334\n",
      "555.39 secs, 754 evals, 636 steps, improv/step: 0.360 (last = 0.0000), fitness=0.003217334\n",
      "556.18 secs, 755 evals, 637 steps, improv/step: 0.359 (last = 0.0000), fitness=0.003217334\n",
      "557.38 secs, 756 evals, 638 steps, improv/step: 0.359 (last = 0.0000), fitness=0.003217334\n",
      "558.29 secs, 757 evals, 639 steps, improv/step: 0.358 (last = 0.0000), fitness=0.003217334\n",
      "559.44 secs, 758 evals, 640 steps, improv/step: 0.358 (last = 0.0000), fitness=0.003217334\n",
      "560.59 secs, 759 evals, 641 steps, improv/step: 0.357 (last = 0.0000), fitness=0.003217334\n",
      "561.62 secs, 760 evals, 642 steps, improv/step: 0.358 (last = 1.0000), fitness=0.003217334\n",
      "562.57 secs, 761 evals, 643 steps, improv/step: 0.358 (last = 0.0000), fitness=0.003217334\n",
      "563.43 secs, 762 evals, 644 steps, improv/step: 0.357 (last = 0.0000), fitness=0.003217334\n",
      "564.30 secs, 763 evals, 645 steps, improv/step: 0.358 (last = 1.0000), fitness=0.003217334\n",
      "565.45 secs, 764 evals, 646 steps, improv/step: 0.359 (last = 1.0000), fitness=0.003217334\n",
      "566.44 secs, 765 evals, 647 steps, improv/step: 0.360 (last = 1.0000), fitness=0.003217334\n",
      "567.25 secs, 766 evals, 648 steps, improv/step: 0.360 (last = 0.0000), fitness=0.003217334\n",
      "568.20 secs, 767 evals, 649 steps, improv/step: 0.361 (last = 1.0000), fitness=0.003217334\n",
      "568.97 secs, 768 evals, 650 steps, improv/step: 0.360 (last = 0.0000), fitness=0.003217334\n",
      "569.77 secs, 769 evals, 651 steps, improv/step: 0.361 (last = 1.0000), fitness=0.003217334\n",
      "570.96 secs, 770 evals, 652 steps, improv/step: 0.362 (last = 1.0000), fitness=0.003217334\n",
      "572.27 secs, 771 evals, 653 steps, improv/step: 0.363 (last = 1.0000), fitness=0.003217334\n",
      "573.52 secs, 772 evals, 654 steps, improv/step: 0.362 (last = 0.0000), fitness=0.003217334\n",
      "574.33 secs, 773 evals, 655 steps, improv/step: 0.362 (last = 0.0000), fitness=0.003217334\n",
      "575.18 secs, 774 evals, 656 steps, improv/step: 0.361 (last = 0.0000), fitness=0.003217334\n",
      "575.99 secs, 775 evals, 657 steps, improv/step: 0.362 (last = 1.0000), fitness=0.003217334\n",
      "576.92 secs, 776 evals, 658 steps, improv/step: 0.363 (last = 1.0000), fitness=0.003217334\n",
      "577.88 secs, 777 evals, 659 steps, improv/step: 0.364 (last = 1.0000), fitness=0.003217334\n",
      "578.62 secs, 778 evals, 660 steps, improv/step: 0.364 (last = 0.0000), fitness=0.003217334\n",
      "579.46 secs, 779 evals, 661 steps, improv/step: 0.365 (last = 1.0000), fitness=0.003217334\n",
      "580.26 secs, 780 evals, 662 steps, improv/step: 0.364 (last = 0.0000), fitness=0.003217334\n",
      "581.31 secs, 781 evals, 663 steps, improv/step: 0.363 (last = 0.0000), fitness=0.003217334\n",
      "582.16 secs, 782 evals, 664 steps, improv/step: 0.363 (last = 0.0000), fitness=0.003217334\n",
      "583.15 secs, 783 evals, 665 steps, improv/step: 0.364 (last = 1.0000), fitness=0.003217334\n",
      "583.98 secs, 784 evals, 666 steps, improv/step: 0.363 (last = 0.0000), fitness=0.003217334\n",
      "584.96 secs, 785 evals, 667 steps, improv/step: 0.363 (last = 0.0000), fitness=0.003217334\n",
      "586.78 secs, 786 evals, 668 steps, improv/step: 0.364 (last = 1.0000), fitness=0.003217334\n",
      "587.63 secs, 787 evals, 669 steps, improv/step: 0.363 (last = 0.0000), fitness=0.003217334\n",
      "588.45 secs, 788 evals, 670 steps, improv/step: 0.363 (last = 0.0000), fitness=0.003217334\n",
      "589.39 secs, 789 evals, 671 steps, improv/step: 0.364 (last = 1.0000), fitness=0.003217334\n",
      "590.26 secs, 790 evals, 672 steps, improv/step: 0.363 (last = 0.0000), fitness=0.003217334\n",
      "590.96 secs, 791 evals, 673 steps, improv/step: 0.363 (last = 0.0000), fitness=0.003217334\n",
      "591.97 secs, 792 evals, 674 steps, improv/step: 0.362 (last = 0.0000), fitness=0.003217334\n",
      "592.88 secs, 793 evals, 675 steps, improv/step: 0.361 (last = 0.0000), fitness=0.003217334\n",
      "593.82 secs, 794 evals, 676 steps, improv/step: 0.361 (last = 0.0000), fitness=0.003217334\n",
      "594.76 secs, 795 evals, 677 steps, improv/step: 0.362 (last = 1.0000), fitness=0.003217334\n",
      "595.80 secs, 796 evals, 678 steps, improv/step: 0.361 (last = 0.0000), fitness=0.003217334\n",
      "596.72 secs, 797 evals, 679 steps, improv/step: 0.361 (last = 0.0000), fitness=0.003217334\n",
      "597.93 secs, 798 evals, 680 steps, improv/step: 0.362 (last = 1.0000), fitness=0.003217334\n",
      "598.83 secs, 799 evals, 681 steps, improv/step: 0.363 (last = 1.0000), fitness=0.003217334\n",
      "600.03 secs, 800 evals, 682 steps, improv/step: 0.362 (last = 0.0000), fitness=0.003217334\n",
      "601.09 secs, 801 evals, 683 steps, improv/step: 0.362 (last = 0.0000), fitness=0.003217334\n",
      "601.89 secs, 802 evals, 684 steps, improv/step: 0.361 (last = 0.0000), fitness=0.003217334\n",
      "603.35 secs, 803 evals, 685 steps, improv/step: 0.362 (last = 1.0000), fitness=0.003217334\n",
      "604.33 secs, 804 evals, 686 steps, improv/step: 0.362 (last = 0.0000), fitness=0.003217334\n",
      "605.29 secs, 805 evals, 687 steps, improv/step: 0.362 (last = 1.0000), fitness=0.003217334\n",
      "606.21 secs, 806 evals, 688 steps, improv/step: 0.363 (last = 1.0000), fitness=0.003217334\n",
      "607.45 secs, 807 evals, 689 steps, improv/step: 0.364 (last = 1.0000), fitness=0.003217334\n",
      "608.29 secs, 808 evals, 690 steps, improv/step: 0.365 (last = 1.0000), fitness=0.003217334\n",
      "609.02 secs, 809 evals, 691 steps, improv/step: 0.365 (last = 0.0000), fitness=0.003217334\n",
      "609.88 secs, 810 evals, 692 steps, improv/step: 0.366 (last = 1.0000), fitness=0.003217334\n",
      "610.72 secs, 811 evals, 693 steps, improv/step: 0.365 (last = 0.0000), fitness=0.003217334\n",
      "611.48 secs, 812 evals, 694 steps, improv/step: 0.366 (last = 1.0000), fitness=0.003217334\n",
      "612.20 secs, 813 evals, 695 steps, improv/step: 0.365 (last = 0.0000), fitness=0.003217334\n",
      "613.02 secs, 814 evals, 696 steps, improv/step: 0.365 (last = 0.0000), fitness=0.003217334\n",
      "613.95 secs, 815 evals, 697 steps, improv/step: 0.366 (last = 1.0000), fitness=0.003217334\n",
      "614.70 secs, 816 evals, 698 steps, improv/step: 0.365 (last = 0.0000), fitness=0.003217334\n",
      "615.40 secs, 817 evals, 699 steps, improv/step: 0.366 (last = 1.0000), fitness=0.003217334\n",
      "616.33 secs, 818 evals, 700 steps, improv/step: 0.366 (last = 0.0000), fitness=0.003217334\n",
      "617.09 secs, 819 evals, 701 steps, improv/step: 0.367 (last = 1.0000), fitness=0.003217334\n",
      "617.88 secs, 820 evals, 702 steps, improv/step: 0.368 (last = 1.0000), fitness=0.003217334\n",
      "618.82 secs, 821 evals, 703 steps, improv/step: 0.367 (last = 0.0000), fitness=0.003217334\n",
      "619.94 secs, 822 evals, 704 steps, improv/step: 0.366 (last = 0.0000), fitness=0.003217334\n",
      "620.87 secs, 823 evals, 705 steps, improv/step: 0.366 (last = 0.0000), fitness=0.003217334\n",
      "621.67 secs, 824 evals, 706 steps, improv/step: 0.367 (last = 1.0000), fitness=0.003217334\n",
      "622.50 secs, 825 evals, 707 steps, improv/step: 0.366 (last = 0.0000), fitness=0.003217334\n",
      "623.23 secs, 826 evals, 708 steps, improv/step: 0.367 (last = 1.0000), fitness=0.001664261\n",
      "624.18 secs, 827 evals, 709 steps, improv/step: 0.367 (last = 0.0000), fitness=0.001664261\n",
      "624.97 secs, 828 evals, 710 steps, improv/step: 0.368 (last = 1.0000), fitness=0.001664261\n",
      "625.76 secs, 829 evals, 711 steps, improv/step: 0.367 (last = 0.0000), fitness=0.001664261\n",
      "626.50 secs, 830 evals, 712 steps, improv/step: 0.367 (last = 0.0000), fitness=0.001664261\n",
      "627.22 secs, 831 evals, 713 steps, improv/step: 0.367 (last = 1.0000), fitness=0.001664261\n",
      "627.98 secs, 832 evals, 714 steps, improv/step: 0.367 (last = 0.0000), fitness=0.001664261\n",
      "628.76 secs, 833 evals, 715 steps, improv/step: 0.366 (last = 0.0000), fitness=0.001664261\n",
      "629.58 secs, 834 evals, 716 steps, improv/step: 0.366 (last = 0.0000), fitness=0.001664261\n",
      "630.27 secs, 835 evals, 717 steps, improv/step: 0.365 (last = 0.0000), fitness=0.001664261\n",
      "631.18 secs, 836 evals, 718 steps, improv/step: 0.365 (last = 0.0000), fitness=0.001664261\n",
      "632.25 secs, 837 evals, 719 steps, improv/step: 0.364 (last = 0.0000), fitness=0.001664261\n",
      "633.20 secs, 838 evals, 720 steps, improv/step: 0.365 (last = 1.0000), fitness=0.001664261\n",
      "634.00 secs, 839 evals, 721 steps, improv/step: 0.365 (last = 0.0000), fitness=0.001664261\n",
      "634.80 secs, 840 evals, 722 steps, improv/step: 0.364 (last = 0.0000), fitness=0.001664261\n",
      "635.55 secs, 841 evals, 723 steps, improv/step: 0.364 (last = 0.0000), fitness=0.001664261\n",
      "636.54 secs, 842 evals, 724 steps, improv/step: 0.363 (last = 0.0000), fitness=0.001664261\n",
      "637.51 secs, 843 evals, 725 steps, improv/step: 0.363 (last = 0.0000), fitness=0.001664261\n",
      "638.27 secs, 844 evals, 726 steps, improv/step: 0.362 (last = 0.0000), fitness=0.001664261\n",
      "639.08 secs, 845 evals, 727 steps, improv/step: 0.362 (last = 0.0000), fitness=0.001664261\n",
      "640.04 secs, 846 evals, 728 steps, improv/step: 0.361 (last = 0.0000), fitness=0.001664261\n",
      "640.97 secs, 847 evals, 729 steps, improv/step: 0.361 (last = 0.0000), fitness=0.001664261\n",
      "641.79 secs, 848 evals, 730 steps, improv/step: 0.360 (last = 0.0000), fitness=0.001664261\n",
      "642.49 secs, 849 evals, 731 steps, improv/step: 0.360 (last = 0.0000), fitness=0.001664261\n",
      "643.35 secs, 850 evals, 732 steps, improv/step: 0.359 (last = 0.0000), fitness=0.001664261\n",
      "644.13 secs, 851 evals, 733 steps, improv/step: 0.359 (last = 0.0000), fitness=0.001664261\n",
      "645.03 secs, 852 evals, 734 steps, improv/step: 0.360 (last = 1.0000), fitness=0.001664261\n",
      "645.88 secs, 853 evals, 735 steps, improv/step: 0.361 (last = 1.0000), fitness=0.001664261\n",
      "646.55 secs, 854 evals, 736 steps, improv/step: 0.361 (last = 1.0000), fitness=0.001664261\n",
      "647.15 secs, 855 evals, 737 steps, improv/step: 0.361 (last = 0.0000), fitness=0.001664261\n",
      "648.00 secs, 856 evals, 738 steps, improv/step: 0.362 (last = 1.0000), fitness=0.001664261\n",
      "648.78 secs, 857 evals, 739 steps, improv/step: 0.363 (last = 1.0000), fitness=0.001664261\n",
      "649.51 secs, 858 evals, 740 steps, improv/step: 0.362 (last = 0.0000), fitness=0.001664261\n",
      "650.30 secs, 859 evals, 741 steps, improv/step: 0.363 (last = 1.0000), fitness=0.001664261\n",
      "650.99 secs, 860 evals, 742 steps, improv/step: 0.363 (last = 0.0000), fitness=0.001664261\n",
      "651.87 secs, 861 evals, 743 steps, improv/step: 0.363 (last = 1.0000), fitness=0.001664261\n",
      "652.88 secs, 862 evals, 744 steps, improv/step: 0.364 (last = 1.0000), fitness=0.001664261\n",
      "653.75 secs, 863 evals, 745 steps, improv/step: 0.364 (last = 0.0000), fitness=0.001664261\n",
      "654.61 secs, 864 evals, 746 steps, improv/step: 0.363 (last = 0.0000), fitness=0.001664261\n",
      "655.45 secs, 865 evals, 747 steps, improv/step: 0.363 (last = 0.0000), fitness=0.001664261\n",
      "656.24 secs, 866 evals, 748 steps, improv/step: 0.362 (last = 0.0000), fitness=0.001664261\n",
      "656.92 secs, 867 evals, 749 steps, improv/step: 0.363 (last = 1.0000), fitness=0.001664261\n",
      "657.61 secs, 868 evals, 750 steps, improv/step: 0.363 (last = 0.0000), fitness=0.001664261\n",
      "658.46 secs, 869 evals, 751 steps, improv/step: 0.362 (last = 0.0000), fitness=0.001664261\n",
      "659.19 secs, 870 evals, 752 steps, improv/step: 0.362 (last = 0.0000), fitness=0.001664261\n",
      "660.17 secs, 871 evals, 753 steps, improv/step: 0.361 (last = 0.0000), fitness=0.001664261\n",
      "661.05 secs, 872 evals, 754 steps, improv/step: 0.362 (last = 1.0000), fitness=0.001664261\n",
      "661.83 secs, 873 evals, 755 steps, improv/step: 0.362 (last = 0.0000), fitness=0.001664261\n",
      "662.76 secs, 874 evals, 756 steps, improv/step: 0.361 (last = 0.0000), fitness=0.001664261\n",
      "663.60 secs, 875 evals, 757 steps, improv/step: 0.361 (last = 0.0000), fitness=0.001664261\n",
      "664.48 secs, 876 evals, 758 steps, improv/step: 0.361 (last = 1.0000), fitness=0.001664261\n",
      "665.26 secs, 877 evals, 759 steps, improv/step: 0.361 (last = 0.0000), fitness=0.001664261\n",
      "666.16 secs, 878 evals, 760 steps, improv/step: 0.361 (last = 0.0000), fitness=0.001664261\n",
      "666.90 secs, 879 evals, 761 steps, improv/step: 0.361 (last = 1.0000), fitness=0.001664261\n",
      "667.68 secs, 880 evals, 762 steps, improv/step: 0.361 (last = 0.0000), fitness=0.001664261\n",
      "668.69 secs, 881 evals, 763 steps, improv/step: 0.362 (last = 1.0000), fitness=0.001664261\n",
      "669.55 secs, 882 evals, 764 steps, improv/step: 0.361 (last = 0.0000), fitness=0.001664261\n",
      "670.49 secs, 883 evals, 765 steps, improv/step: 0.362 (last = 1.0000), fitness=0.001664261\n",
      "671.63 secs, 884 evals, 766 steps, improv/step: 0.362 (last = 0.0000), fitness=0.001664261\n",
      "672.79 secs, 885 evals, 767 steps, improv/step: 0.362 (last = 1.0000), fitness=0.001664261\n",
      "673.59 secs, 886 evals, 768 steps, improv/step: 0.362 (last = 0.0000), fitness=0.001664261\n",
      "674.22 secs, 887 evals, 769 steps, improv/step: 0.362 (last = 0.0000), fitness=0.001664261\n",
      "675.02 secs, 888 evals, 770 steps, improv/step: 0.361 (last = 0.0000), fitness=0.001664261\n",
      "675.79 secs, 889 evals, 771 steps, improv/step: 0.362 (last = 1.0000), fitness=0.001664261\n",
      "676.59 secs, 890 evals, 772 steps, improv/step: 0.363 (last = 1.0000), fitness=0.001664261\n",
      "677.40 secs, 891 evals, 773 steps, improv/step: 0.362 (last = 0.0000), fitness=0.001664261\n",
      "678.17 secs, 892 evals, 774 steps, improv/step: 0.362 (last = 0.0000), fitness=0.001664261\n",
      "678.96 secs, 893 evals, 775 steps, improv/step: 0.363 (last = 1.0000), fitness=0.001664261\n",
      "679.69 secs, 894 evals, 776 steps, improv/step: 0.362 (last = 0.0000), fitness=0.001664261\n",
      "680.63 secs, 895 evals, 777 steps, improv/step: 0.363 (last = 1.0000), fitness=0.001664261\n",
      "681.25 secs, 896 evals, 778 steps, improv/step: 0.362 (last = 0.0000), fitness=0.001664261\n",
      "682.02 secs, 897 evals, 779 steps, improv/step: 0.363 (last = 1.0000), fitness=0.001664261\n",
      "682.78 secs, 898 evals, 780 steps, improv/step: 0.363 (last = 0.0000), fitness=0.001664261\n",
      "683.67 secs, 899 evals, 781 steps, improv/step: 0.364 (last = 1.0000), fitness=0.001664261\n",
      "684.45 secs, 900 evals, 782 steps, improv/step: 0.363 (last = 0.0000), fitness=0.001664261\n",
      "685.15 secs, 901 evals, 783 steps, improv/step: 0.364 (last = 1.0000), fitness=0.001664261\n",
      "685.87 secs, 902 evals, 784 steps, improv/step: 0.364 (last = 0.0000), fitness=0.001664261\n",
      "686.65 secs, 903 evals, 785 steps, improv/step: 0.364 (last = 1.0000), fitness=0.001664261\n",
      "687.56 secs, 904 evals, 786 steps, improv/step: 0.364 (last = 0.0000), fitness=0.001664261\n",
      "688.40 secs, 905 evals, 787 steps, improv/step: 0.363 (last = 0.0000), fitness=0.001664261\n",
      "689.21 secs, 906 evals, 788 steps, improv/step: 0.364 (last = 1.0000), fitness=0.001664261\n",
      "689.92 secs, 907 evals, 789 steps, improv/step: 0.364 (last = 0.0000), fitness=0.001664261\n",
      "690.67 secs, 908 evals, 790 steps, improv/step: 0.363 (last = 0.0000), fitness=0.001664261\n",
      "691.71 secs, 909 evals, 791 steps, improv/step: 0.364 (last = 1.0000), fitness=0.001664261\n",
      "692.53 secs, 910 evals, 792 steps, improv/step: 0.364 (last = 0.0000), fitness=0.001664261\n",
      "693.35 secs, 911 evals, 793 steps, improv/step: 0.363 (last = 0.0000), fitness=0.001664261\n",
      "694.29 secs, 912 evals, 794 steps, improv/step: 0.363 (last = 0.0000), fitness=0.001664261\n",
      "695.10 secs, 913 evals, 795 steps, improv/step: 0.362 (last = 0.0000), fitness=0.001664261\n",
      "696.20 secs, 914 evals, 796 steps, improv/step: 0.362 (last = 0.0000), fitness=0.001664261\n",
      "696.98 secs, 915 evals, 797 steps, improv/step: 0.361 (last = 0.0000), fitness=0.001664261\n",
      "697.84 secs, 916 evals, 798 steps, improv/step: 0.361 (last = 0.0000), fitness=0.001664261\n",
      "698.64 secs, 917 evals, 799 steps, improv/step: 0.360 (last = 0.0000), fitness=0.001664261\n",
      "699.41 secs, 918 evals, 800 steps, improv/step: 0.360 (last = 0.0000), fitness=0.001664261\n",
      "700.18 secs, 919 evals, 801 steps, improv/step: 0.361 (last = 1.0000), fitness=0.001664261\n",
      "700.80 secs, 920 evals, 802 steps, improv/step: 0.362 (last = 1.0000), fitness=0.001664261\n",
      "701.63 secs, 921 evals, 803 steps, improv/step: 0.361 (last = 0.0000), fitness=0.001664261\n",
      "702.48 secs, 922 evals, 804 steps, improv/step: 0.361 (last = 0.0000), fitness=0.001664261\n",
      "703.02 secs, 923 evals, 805 steps, improv/step: 0.360 (last = 0.0000), fitness=0.001664261\n",
      "704.01 secs, 924 evals, 806 steps, improv/step: 0.361 (last = 1.0000), fitness=0.001664261\n",
      "704.98 secs, 925 evals, 807 steps, improv/step: 0.361 (last = 0.0000), fitness=0.001664261\n",
      "705.87 secs, 926 evals, 808 steps, improv/step: 0.360 (last = 0.0000), fitness=0.001664261\n",
      "706.83 secs, 927 evals, 809 steps, improv/step: 0.360 (last = 0.0000), fitness=0.001664261\n",
      "707.73 secs, 928 evals, 810 steps, improv/step: 0.359 (last = 0.0000), fitness=0.001664261\n",
      "708.35 secs, 929 evals, 811 steps, improv/step: 0.360 (last = 1.0000), fitness=0.001664261\n",
      "709.12 secs, 930 evals, 812 steps, improv/step: 0.361 (last = 1.0000), fitness=0.001664261\n",
      "709.90 secs, 931 evals, 813 steps, improv/step: 0.360 (last = 0.0000), fitness=0.001664261\n",
      "710.69 secs, 932 evals, 814 steps, improv/step: 0.360 (last = 0.0000), fitness=0.001664261\n",
      "711.40 secs, 933 evals, 815 steps, improv/step: 0.360 (last = 0.0000), fitness=0.001664261\n",
      "712.11 secs, 934 evals, 816 steps, improv/step: 0.359 (last = 0.0000), fitness=0.001664261\n",
      "712.85 secs, 935 evals, 817 steps, improv/step: 0.359 (last = 0.0000), fitness=0.001664261\n",
      "713.66 secs, 936 evals, 818 steps, improv/step: 0.358 (last = 0.0000), fitness=0.001664261\n",
      "714.22 secs, 937 evals, 819 steps, improv/step: 0.358 (last = 0.0000), fitness=0.001664261\n",
      "714.91 secs, 938 evals, 820 steps, improv/step: 0.357 (last = 0.0000), fitness=0.001664261\n",
      "715.47 secs, 939 evals, 821 steps, improv/step: 0.357 (last = 0.0000), fitness=0.001664261\n",
      "716.19 secs, 940 evals, 822 steps, improv/step: 0.356 (last = 0.0000), fitness=0.001664261\n",
      "717.11 secs, 941 evals, 823 steps, improv/step: 0.356 (last = 0.0000), fitness=0.001664261\n",
      "717.83 secs, 942 evals, 824 steps, improv/step: 0.356 (last = 0.0000), fitness=0.001664261\n",
      "718.61 secs, 943 evals, 825 steps, improv/step: 0.355 (last = 0.0000), fitness=0.001664261\n",
      "719.53 secs, 944 evals, 826 steps, improv/step: 0.355 (last = 0.0000), fitness=0.001664261\n",
      "720.32 secs, 945 evals, 827 steps, improv/step: 0.354 (last = 0.0000), fitness=0.001664261\n",
      "721.10 secs, 946 evals, 828 steps, improv/step: 0.354 (last = 0.0000), fitness=0.001664261\n",
      "721.90 secs, 947 evals, 829 steps, improv/step: 0.353 (last = 0.0000), fitness=0.001664261\n",
      "722.74 secs, 948 evals, 830 steps, improv/step: 0.353 (last = 0.0000), fitness=0.001664261\n",
      "723.43 secs, 949 evals, 831 steps, improv/step: 0.353 (last = 0.0000), fitness=0.001664261\n",
      "724.22 secs, 950 evals, 832 steps, improv/step: 0.352 (last = 0.0000), fitness=0.001664261\n",
      "725.11 secs, 951 evals, 833 steps, improv/step: 0.352 (last = 0.0000), fitness=0.001664261\n",
      "726.12 secs, 952 evals, 834 steps, improv/step: 0.351 (last = 0.0000), fitness=0.001664261\n",
      "726.92 secs, 953 evals, 835 steps, improv/step: 0.351 (last = 0.0000), fitness=0.001664261\n",
      "727.61 secs, 954 evals, 836 steps, improv/step: 0.350 (last = 0.0000), fitness=0.001664261\n",
      "728.39 secs, 955 evals, 837 steps, improv/step: 0.350 (last = 0.0000), fitness=0.001664261\n",
      "729.30 secs, 956 evals, 838 steps, improv/step: 0.351 (last = 1.0000), fitness=0.001664261\n",
      "729.96 secs, 957 evals, 839 steps, improv/step: 0.350 (last = 0.0000), fitness=0.001664261\n",
      "730.80 secs, 958 evals, 840 steps, improv/step: 0.351 (last = 1.0000), fitness=0.001664261\n",
      "731.60 secs, 959 evals, 841 steps, improv/step: 0.351 (last = 0.0000), fitness=0.001664261\n",
      "732.71 secs, 960 evals, 842 steps, improv/step: 0.352 (last = 1.0000), fitness=0.001664261\n",
      "733.56 secs, 961 evals, 843 steps, improv/step: 0.352 (last = 1.0000), fitness=0.001664261\n",
      "734.31 secs, 962 evals, 844 steps, improv/step: 0.352 (last = 0.0000), fitness=0.001664261\n",
      "735.16 secs, 963 evals, 845 steps, improv/step: 0.351 (last = 0.0000), fitness=0.001664261\n",
      "735.95 secs, 964 evals, 846 steps, improv/step: 0.351 (last = 0.0000), fitness=0.001664261\n",
      "736.73 secs, 965 evals, 847 steps, improv/step: 0.352 (last = 1.0000), fitness=0.001664261\n",
      "737.53 secs, 966 evals, 848 steps, improv/step: 0.351 (last = 0.0000), fitness=0.001664261\n",
      "738.17 secs, 967 evals, 849 steps, improv/step: 0.352 (last = 1.0000), fitness=0.001664261\n",
      "739.12 secs, 968 evals, 850 steps, improv/step: 0.352 (last = 0.0000), fitness=0.001664261\n",
      "739.84 secs, 969 evals, 851 steps, improv/step: 0.351 (last = 0.0000), fitness=0.001664261\n",
      "740.65 secs, 970 evals, 852 steps, improv/step: 0.352 (last = 1.0000), fitness=0.001664261\n",
      "741.56 secs, 971 evals, 853 steps, improv/step: 0.352 (last = 0.0000), fitness=0.001664261\n",
      "742.47 secs, 972 evals, 854 steps, improv/step: 0.352 (last = 1.0000), fitness=0.001664261\n",
      "743.31 secs, 973 evals, 855 steps, improv/step: 0.352 (last = 0.0000), fitness=0.001664261\n",
      "744.30 secs, 974 evals, 856 steps, improv/step: 0.352 (last = 0.0000), fitness=0.001664261\n",
      "745.17 secs, 975 evals, 857 steps, improv/step: 0.351 (last = 0.0000), fitness=0.001664261\n",
      "745.90 secs, 976 evals, 858 steps, improv/step: 0.352 (last = 1.0000), fitness=0.001664261\n",
      "746.68 secs, 977 evals, 859 steps, improv/step: 0.353 (last = 1.0000), fitness=0.001664261\n",
      "747.57 secs, 978 evals, 860 steps, improv/step: 0.353 (last = 1.0000), fitness=0.001664261\n",
      "748.19 secs, 979 evals, 861 steps, improv/step: 0.353 (last = 0.0000), fitness=0.001664261\n",
      "748.94 secs, 980 evals, 862 steps, improv/step: 0.353 (last = 0.0000), fitness=0.001664261\n",
      "749.83 secs, 981 evals, 863 steps, improv/step: 0.352 (last = 0.0000), fitness=0.001664261\n",
      "750.79 secs, 982 evals, 864 steps, improv/step: 0.353 (last = 1.0000), fitness=0.001664261\n",
      "752.20 secs, 983 evals, 865 steps, improv/step: 0.354 (last = 1.0000), fitness=0.001664261\n",
      "753.17 secs, 984 evals, 866 steps, improv/step: 0.355 (last = 1.0000), fitness=0.001664261\n",
      "753.93 secs, 985 evals, 867 steps, improv/step: 0.354 (last = 0.0000), fitness=0.001664261\n",
      "754.64 secs, 986 evals, 868 steps, improv/step: 0.354 (last = 0.0000), fitness=0.001664261\n",
      "755.78 secs, 987 evals, 869 steps, improv/step: 0.353 (last = 0.0000), fitness=0.001664261\n",
      "756.56 secs, 988 evals, 870 steps, improv/step: 0.353 (last = 0.0000), fitness=0.001664261\n",
      "757.44 secs, 989 evals, 871 steps, improv/step: 0.352 (last = 0.0000), fitness=0.001664261\n",
      "758.48 secs, 990 evals, 872 steps, improv/step: 0.352 (last = 0.0000), fitness=0.001664261\n",
      "759.30 secs, 991 evals, 873 steps, improv/step: 0.352 (last = 0.0000), fitness=0.001664261\n",
      "760.05 secs, 992 evals, 874 steps, improv/step: 0.351 (last = 0.0000), fitness=0.001664261\n",
      "760.83 secs, 993 evals, 875 steps, improv/step: 0.351 (last = 0.0000), fitness=0.001664261\n",
      "761.66 secs, 994 evals, 876 steps, improv/step: 0.350 (last = 0.0000), fitness=0.001664261\n",
      "762.51 secs, 995 evals, 877 steps, improv/step: 0.351 (last = 1.0000), fitness=0.001664261\n",
      "763.29 secs, 996 evals, 878 steps, improv/step: 0.351 (last = 0.0000), fitness=0.001664261\n",
      "764.05 secs, 997 evals, 879 steps, improv/step: 0.350 (last = 0.0000), fitness=0.001664261\n",
      "764.79 secs, 998 evals, 880 steps, improv/step: 0.351 (last = 1.0000), fitness=0.001664261\n",
      "765.74 secs, 999 evals, 881 steps, improv/step: 0.352 (last = 1.0000), fitness=0.001664261\n",
      "766.65 secs, 1000 evals, 882 steps, improv/step: 0.351 (last = 0.0000), fitness=0.001664261\n",
      "767.48 secs, 1001 evals, 883 steps, improv/step: 0.351 (last = 0.0000), fitness=0.001664261\n",
      "768.29 secs, 1002 evals, 884 steps, improv/step: 0.352 (last = 1.0000), fitness=0.001664261\n",
      "769.10 secs, 1003 evals, 885 steps, improv/step: 0.351 (last = 0.0000), fitness=0.001664261\n",
      "770.02 secs, 1004 evals, 886 steps, improv/step: 0.351 (last = 0.0000), fitness=0.001664261\n",
      "771.15 secs, 1005 evals, 887 steps, improv/step: 0.352 (last = 1.0000), fitness=0.001664261\n",
      "771.90 secs, 1006 evals, 888 steps, improv/step: 0.351 (last = 0.0000), fitness=0.001664261\n",
      "772.69 secs, 1007 evals, 889 steps, improv/step: 0.351 (last = 0.0000), fitness=0.001664261\n",
      "773.42 secs, 1008 evals, 890 steps, improv/step: 0.352 (last = 1.0000), fitness=0.001664261\n",
      "774.21 secs, 1009 evals, 891 steps, improv/step: 0.351 (last = 0.0000), fitness=0.001664261\n",
      "775.26 secs, 1010 evals, 892 steps, improv/step: 0.351 (last = 0.0000), fitness=0.001664261\n",
      "776.62 secs, 1011 evals, 893 steps, improv/step: 0.351 (last = 0.0000), fitness=0.001664261\n",
      "778.31 secs, 1012 evals, 894 steps, improv/step: 0.351 (last = 1.0000), fitness=0.001664261\n",
      "779.79 secs, 1013 evals, 895 steps, improv/step: 0.351 (last = 0.0000), fitness=0.001664261\n",
      "781.28 secs, 1014 evals, 896 steps, improv/step: 0.350 (last = 0.0000), fitness=0.001664261\n",
      "782.35 secs, 1015 evals, 897 steps, improv/step: 0.350 (last = 0.0000), fitness=0.001664261\n",
      "783.69 secs, 1016 evals, 898 steps, improv/step: 0.350 (last = 0.0000), fitness=0.001664261\n",
      "785.14 secs, 1017 evals, 899 steps, improv/step: 0.350 (last = 1.0000), fitness=0.001664261\n",
      "786.09 secs, 1018 evals, 900 steps, improv/step: 0.351 (last = 1.0000), fitness=0.001664261\n",
      "787.09 secs, 1019 evals, 901 steps, improv/step: 0.352 (last = 1.0000), fitness=0.001664261\n",
      "788.61 secs, 1020 evals, 902 steps, improv/step: 0.351 (last = 0.0000), fitness=0.001664261\n",
      "789.55 secs, 1021 evals, 903 steps, improv/step: 0.352 (last = 1.0000), fitness=0.001664261\n",
      "790.85 secs, 1022 evals, 904 steps, improv/step: 0.352 (last = 0.0000), fitness=0.001664261\n",
      "792.09 secs, 1023 evals, 905 steps, improv/step: 0.351 (last = 0.0000), fitness=0.001664261\n",
      "792.84 secs, 1024 evals, 906 steps, improv/step: 0.351 (last = 0.0000), fitness=0.001664261\n",
      "793.83 secs, 1025 evals, 907 steps, improv/step: 0.351 (last = 0.0000), fitness=0.001664261\n",
      "794.60 secs, 1026 evals, 908 steps, improv/step: 0.350 (last = 0.0000), fitness=0.001664261\n",
      "795.54 secs, 1027 evals, 909 steps, improv/step: 0.350 (last = 0.0000), fitness=0.001664261\n",
      "796.52 secs, 1028 evals, 910 steps, improv/step: 0.351 (last = 1.0000), fitness=0.001664261\n",
      "797.19 secs, 1029 evals, 911 steps, improv/step: 0.350 (last = 0.0000), fitness=0.001664261\n",
      "798.36 secs, 1030 evals, 912 steps, improv/step: 0.350 (last = 0.0000), fitness=0.001664261\n",
      "799.54 secs, 1031 evals, 913 steps, improv/step: 0.350 (last = 1.0000), fitness=0.001664261\n",
      "800.48 secs, 1032 evals, 914 steps, improv/step: 0.350 (last = 0.0000), fitness=0.001664261\n",
      "801.15 secs, 1033 evals, 915 steps, improv/step: 0.350 (last = 0.0000), fitness=0.001664261\n",
      "802.10 secs, 1034 evals, 916 steps, improv/step: 0.350 (last = 1.0000), fitness=0.001664261\n",
      "802.95 secs, 1035 evals, 917 steps, improv/step: 0.350 (last = 0.0000), fitness=0.001664261\n",
      "804.11 secs, 1036 evals, 918 steps, improv/step: 0.351 (last = 1.0000), fitness=0.001664261\n",
      "805.28 secs, 1037 evals, 919 steps, improv/step: 0.351 (last = 1.0000), fitness=0.001664261\n",
      "806.05 secs, 1038 evals, 920 steps, improv/step: 0.351 (last = 0.0000), fitness=0.001664261\n",
      "807.11 secs, 1039 evals, 921 steps, improv/step: 0.351 (last = 0.0000), fitness=0.001664261\n",
      "808.38 secs, 1040 evals, 922 steps, improv/step: 0.350 (last = 0.0000), fitness=0.001664261\n",
      "809.52 secs, 1041 evals, 923 steps, improv/step: 0.350 (last = 0.0000), fitness=0.001664261\n",
      "810.50 secs, 1042 evals, 924 steps, improv/step: 0.350 (last = 0.0000), fitness=0.001664261\n",
      "811.80 secs, 1043 evals, 925 steps, improv/step: 0.349 (last = 0.0000), fitness=0.001664261\n",
      "812.98 secs, 1044 evals, 926 steps, improv/step: 0.349 (last = 0.0000), fitness=0.001664261\n",
      "814.61 secs, 1045 evals, 927 steps, improv/step: 0.348 (last = 0.0000), fitness=0.001664261\n",
      "815.74 secs, 1046 evals, 928 steps, improv/step: 0.348 (last = 0.0000), fitness=0.001664261\n",
      "816.71 secs, 1047 evals, 929 steps, improv/step: 0.348 (last = 0.0000), fitness=0.001664261\n",
      "817.79 secs, 1048 evals, 930 steps, improv/step: 0.348 (last = 1.0000), fitness=0.001664261\n",
      "818.77 secs, 1049 evals, 931 steps, improv/step: 0.348 (last = 0.0000), fitness=0.001664261\n",
      "819.68 secs, 1050 evals, 932 steps, improv/step: 0.348 (last = 0.0000), fitness=0.001664261\n",
      "821.39 secs, 1051 evals, 933 steps, improv/step: 0.348 (last = 1.0000), fitness=0.001664261\n",
      "823.28 secs, 1052 evals, 934 steps, improv/step: 0.349 (last = 1.0000), fitness=0.001664261\n",
      "825.14 secs, 1053 evals, 935 steps, improv/step: 0.349 (last = 0.0000), fitness=0.001664261\n",
      "826.97 secs, 1054 evals, 936 steps, improv/step: 0.348 (last = 0.0000), fitness=0.001664261\n",
      "828.76 secs, 1055 evals, 937 steps, improv/step: 0.348 (last = 0.0000), fitness=0.001664261\n",
      "829.49 secs, 1056 evals, 938 steps, improv/step: 0.348 (last = 0.0000), fitness=0.001664261\n",
      "831.67 secs, 1057 evals, 939 steps, improv/step: 0.347 (last = 0.0000), fitness=0.001664261\n",
      "833.05 secs, 1058 evals, 940 steps, improv/step: 0.348 (last = 1.0000), fitness=0.001664261\n",
      "834.08 secs, 1059 evals, 941 steps, improv/step: 0.348 (last = 0.0000), fitness=0.001664261\n",
      "835.07 secs, 1060 evals, 942 steps, improv/step: 0.347 (last = 0.0000), fitness=0.001664261\n",
      "836.27 secs, 1061 evals, 943 steps, improv/step: 0.348 (last = 1.0000), fitness=0.001664261\n",
      "837.48 secs, 1062 evals, 944 steps, improv/step: 0.349 (last = 1.0000), fitness=0.001664261\n",
      "838.93 secs, 1063 evals, 945 steps, improv/step: 0.348 (last = 0.0000), fitness=0.001664261\n",
      "839.97 secs, 1064 evals, 946 steps, improv/step: 0.349 (last = 1.0000), fitness=0.001664261\n",
      "840.72 secs, 1065 evals, 947 steps, improv/step: 0.348 (last = 0.0000), fitness=0.001664261\n",
      "841.89 secs, 1066 evals, 948 steps, improv/step: 0.348 (last = 0.0000), fitness=0.001664261\n",
      "843.14 secs, 1067 evals, 949 steps, improv/step: 0.349 (last = 1.0000), fitness=0.001664261\n",
      "844.15 secs, 1068 evals, 950 steps, improv/step: 0.348 (last = 0.0000), fitness=0.001664261\n",
      "845.17 secs, 1069 evals, 951 steps, improv/step: 0.348 (last = 0.0000), fitness=0.001664261\n",
      "846.77 secs, 1070 evals, 952 steps, improv/step: 0.348 (last = 0.0000), fitness=0.001664261\n",
      "847.73 secs, 1071 evals, 953 steps, improv/step: 0.347 (last = 0.0000), fitness=0.001664261\n",
      "848.72 secs, 1072 evals, 954 steps, improv/step: 0.347 (last = 0.0000), fitness=0.001664261\n",
      "849.75 secs, 1073 evals, 955 steps, improv/step: 0.347 (last = 0.0000), fitness=0.001664261\n",
      "851.52 secs, 1074 evals, 956 steps, improv/step: 0.346 (last = 0.0000), fitness=0.001664261\n",
      "852.83 secs, 1075 evals, 957 steps, improv/step: 0.347 (last = 1.0000), fitness=0.001664261\n",
      "854.23 secs, 1076 evals, 958 steps, improv/step: 0.347 (last = 0.0000), fitness=0.001664261\n",
      "855.33 secs, 1077 evals, 959 steps, improv/step: 0.346 (last = 0.0000), fitness=0.001664261\n",
      "856.99 secs, 1078 evals, 960 steps, improv/step: 0.347 (last = 1.0000), fitness=0.001664261\n",
      "858.29 secs, 1079 evals, 961 steps, improv/step: 0.347 (last = 0.0000), fitness=0.001664261\n",
      "859.15 secs, 1080 evals, 962 steps, improv/step: 0.346 (last = 0.0000), fitness=0.001664261\n",
      "859.98 secs, 1081 evals, 963 steps, improv/step: 0.347 (last = 1.0000), fitness=0.001664261\n",
      "861.16 secs, 1082 evals, 964 steps, improv/step: 0.348 (last = 1.0000), fitness=0.001664261\n",
      "862.46 secs, 1083 evals, 965 steps, improv/step: 0.347 (last = 0.0000), fitness=0.001664261\n",
      "863.35 secs, 1084 evals, 966 steps, improv/step: 0.347 (last = 0.0000), fitness=0.001664261\n",
      "864.77 secs, 1085 evals, 967 steps, improv/step: 0.347 (last = 1.0000), fitness=0.001664261\n",
      "865.75 secs, 1086 evals, 968 steps, improv/step: 0.348 (last = 1.0000), fitness=0.001664261\n",
      "866.69 secs, 1087 evals, 969 steps, improv/step: 0.348 (last = 0.0000), fitness=0.001664261\n",
      "867.63 secs, 1088 evals, 970 steps, improv/step: 0.347 (last = 0.0000), fitness=0.001664261\n",
      "869.09 secs, 1089 evals, 971 steps, improv/step: 0.348 (last = 1.0000), fitness=0.001664261\n",
      "870.39 secs, 1090 evals, 972 steps, improv/step: 0.348 (last = 0.0000), fitness=0.001664261\n",
      "871.77 secs, 1091 evals, 973 steps, improv/step: 0.347 (last = 0.0000), fitness=0.001664261\n",
      "872.91 secs, 1092 evals, 974 steps, improv/step: 0.348 (last = 1.0000), fitness=0.001664261\n",
      "874.35 secs, 1093 evals, 975 steps, improv/step: 0.349 (last = 1.0000), fitness=0.001664261\n",
      "875.84 secs, 1094 evals, 976 steps, improv/step: 0.348 (last = 0.0000), fitness=0.001664261\n",
      "876.83 secs, 1095 evals, 977 steps, improv/step: 0.348 (last = 0.0000), fitness=0.001664261\n",
      "878.66 secs, 1096 evals, 978 steps, improv/step: 0.349 (last = 1.0000), fitness=0.001526166\n",
      "879.79 secs, 1097 evals, 979 steps, improv/step: 0.348 (last = 0.0000), fitness=0.001526166\n",
      "880.88 secs, 1098 evals, 980 steps, improv/step: 0.349 (last = 1.0000), fitness=0.001526166\n",
      "881.94 secs, 1099 evals, 981 steps, improv/step: 0.350 (last = 1.0000), fitness=0.001526166\n",
      "882.99 secs, 1100 evals, 982 steps, improv/step: 0.349 (last = 0.0000), fitness=0.001526166\n",
      "884.72 secs, 1101 evals, 983 steps, improv/step: 0.350 (last = 1.0000), fitness=0.001304055\n",
      "886.18 secs, 1102 evals, 984 steps, improv/step: 0.350 (last = 0.0000), fitness=0.001304055\n",
      "887.28 secs, 1103 evals, 985 steps, improv/step: 0.350 (last = 1.0000), fitness=0.001304055\n",
      "888.25 secs, 1104 evals, 986 steps, improv/step: 0.350 (last = 0.0000), fitness=0.001304055\n",
      "889.24 secs, 1105 evals, 987 steps, improv/step: 0.350 (last = 0.0000), fitness=0.001304055\n",
      "890.51 secs, 1106 evals, 988 steps, improv/step: 0.349 (last = 0.0000), fitness=0.001304055\n",
      "892.18 secs, 1107 evals, 989 steps, improv/step: 0.349 (last = 0.0000), fitness=0.001304055\n",
      "893.68 secs, 1108 evals, 990 steps, improv/step: 0.349 (last = 1.0000), fitness=0.001304055\n",
      "894.98 secs, 1109 evals, 991 steps, improv/step: 0.350 (last = 1.0000), fitness=0.001304055\n",
      "895.99 secs, 1110 evals, 992 steps, improv/step: 0.350 (last = 0.0000), fitness=0.001304055\n",
      "896.82 secs, 1111 evals, 993 steps, improv/step: 0.349 (last = 0.0000), fitness=0.001304055\n",
      "897.89 secs, 1112 evals, 994 steps, improv/step: 0.350 (last = 1.0000), fitness=0.001304055\n",
      "899.08 secs, 1113 evals, 995 steps, improv/step: 0.350 (last = 0.0000), fitness=0.001304055\n",
      "900.40 secs, 1114 evals, 996 steps, improv/step: 0.349 (last = 0.0000), fitness=0.001304055\n",
      "901.86 secs, 1115 evals, 997 steps, improv/step: 0.349 (last = 0.0000), fitness=0.001304055\n",
      "903.04 secs, 1116 evals, 998 steps, improv/step: 0.349 (last = 0.0000), fitness=0.001304055\n",
      "904.47 secs, 1117 evals, 999 steps, improv/step: 0.348 (last = 0.0000), fitness=0.001304055\n",
      "905.62 secs, 1118 evals, 1000 steps, improv/step: 0.348 (last = 0.0000), fitness=0.001304055\n",
      "\n",
      "Optimization stopped after 1001 steps and 906.9043319225311 seconds\n",
      "Termination reason: Max number of steps (1000) reached\n",
      "Steps per second = 1.1037547895244884\n",
      "Function evals per second = 1.2338677417361663\n",
      "Improvements/step = 0.349\n",
      "Total function evaluations = 1119\n",
      "\n",
      "\n",
      "Best candidate found: [-0.0564524, -0.0268968, -0.0155798, -0.904373, -0.00297232, -0.0550075, -0.0356318, -0.270429, -0.0886752, -0.021574, -0.0454253, -0.160008, -0.331266, -0.78948]\n",
      "\n",
      "Fitness: 0.001277071\n",
      "\n",
      "909.167663 seconds (1.23 G allocations: 1.743 TiB, 42.10% gc time)\n"
     ]
    },
    {
     "data": {
      "text/plain": [
       "(z_max = 5, z = [0.0, 0.000250627, 0.000501253, 0.00075188, 0.00100251, 0.00125313, 0.00150376, 0.00175439, 0.00200501, 0.00225564  …  4.63636, 4.67677, 4.71717, 4.75758, 4.79798, 4.83838, 4.87879, 4.91919, 4.9596, 5.0], Δ_E = 1.0e-6, ode_solve_algorithm = Sundials.CVODE_BDF{:Newton,:Dense}(0, 0, 0, 0, false, 10, 5, 7, 3, 10), T = 75.0, t = 0.0:4.444444444444445:40.0, g = [0.0303094, 0.0403094, 0.0503094, 0.0603094, 0.0703094, 0.0803094, 0.0903094, 0.100309, 0.110309, 0.120309], E_node_count = 15, entry_residuals_nodes_count = 15, transition_x0 = [-0.904373, -0.78948, -0.331266, -0.270429, -0.160008, -0.0886752, -0.0564524, -0.0550075, -0.0454253, -0.0356318, -0.0268968, -0.021574, -0.0155798, -0.00297232], fifty_node_iv = [-1.00157, -0.848157, -0.821211, -0.821211, -0.821211, -0.748497, -0.633587, -0.527711, -0.498239, -0.498239  …  -0.0713765, -0.0343871, -0.0334064, -0.0334064, -0.029373, -0.029373, -0.029373, -0.029373, -0.029373, -0.029373], continuation_x0 = [0.0, 0.0, 0.0, 0.0, 0.0, 0.0, 0.0, 0.0, 0.0, 0.0, 0.0, 0.0, 0.0, 0.0], transition_lb = [-1.0, -1.0, -1.0, -1.0, -1.0, -1.0, -1.0, -1.0, -1.0, -1.0, -1.0, -1.0, -1.0, -1.0], transition_ub = [0.0, 0.0, 0.0, 0.0, 0.0, 0.0, 0.0, 0.0, 0.0, 0.0, 0.0, 0.0, 0.0, 0.0], transition_iterations = 1000, transition_penalty_coefficient = 1.0, tstops = nothing, params_T = (ρ = 0.02, σ = 3.05, N = 10, θ = 4.9411, γ = 1.0, κ = 0.1317, ζ = 1.0, η = 0.0, Theta = 1, χ = 0.18880392712168415, υ = 0.0553, μ = -0.0115, δ = 0.05, d = 2.9753), stationary_sol_T = (F = getfield(PerlaTonettiWaugh, Symbol(\"#F#39\")){Float64}(4.9411), r = 0.09030937546659278, ν = 2.006987225725606, a = 7.7649754327822595, b = 0.9572387237836906, S = 0.11984248304477713, L_tilde = 0.28013332076982717, L_tilde_x = 0.021272082706388012, L_tilde_E = 0.1782134710933453, L_tilde_a = 0.08064776697009388, z_bar = 1.1292339173626151, w = 0.3702406286434804, x = 1.0, π_min = 0.27371032913700977, g = 0.020309375466592776, z_hat = 2.082344175763897, Ω = 0.6729480641682065, v_tilde = [4.2965, 4.29429, 4.29209, 4.28989, 4.28769, 4.2855, 4.2833, 4.28111, 4.27892, 4.27673  …  4.1694, 4.16875, 4.16736, 4.16454, 4.15895, 4.14792, 4.12628, 4.08386, 4.00083, 3.83833], y = 0.8128978701659052, c = 0.8128978701659052, λ_ii = 0.8964685415579489, U_bar = getfield(PerlaTonettiWaugh, Symbol(\"##37#38\")){Float64,Float64,Float64,Float64}(0.020309375466592776, 0.02, 1.0, 0.8128978701659052)), Ω_0 = 0.6987672535915509)"
      ]
     },
     "execution_count": 14,
     "metadata": {},
     "output_type": "execute_result"
    }
   ],
   "source": [
    "if changed_parameters # will use the global solver to set a new initial condition, hopefully in the vicinity of the solution implied by the new parameters\n",
    "    settings = merge(settings, (transition_iterations = 1000, ))\n",
    "    @time result = solve_full_model_global(settings; impose_E_monotonicity_constraints = true)\n",
    "    E_nodes = result.E_nodes;\n",
    "    settings = merge(settings, (transition_x0 = E_nodes, ))\n",
    "end"
   ]
  },
  {
   "cell_type": "markdown",
   "metadata": {},
   "source": [
    "Find the corresponding solution"
   ]
  },
  {
   "cell_type": "code",
   "execution_count": 15,
   "metadata": {},
   "outputs": [
    {
     "data": {
      "text/plain": [
       "14-element Array{Float64,1}:\n",
       " -0.9043734361257276  \n",
       " -0.7894803021523462  \n",
       " -0.33126602907175134 \n",
       " -0.2704285868221323  \n",
       " -0.16000820035906738 \n",
       " -0.0886752451475273  \n",
       " -0.056452402342367994\n",
       " -0.055007516639317494\n",
       " -0.0454252833499466  \n",
       " -0.03563183202075201 \n",
       " -0.026896803066907   \n",
       " -0.021574029514473982\n",
       " -0.015579822665391704\n",
       " -0.002972323656240773"
      ]
     },
     "execution_count": 15,
     "metadata": {},
     "output_type": "execute_result"
    }
   ],
   "source": [
    "settings.transition_x0"
   ]
  },
  {
   "cell_type": "code",
   "execution_count": 16,
   "metadata": {
    "scrolled": true
   },
   "outputs": [
    {
     "name": "stdout",
     "output_type": "stream",
     "text": [
      " 78.255140 seconds (86.77 M allocations: 114.091 GiB, 41.61% gc time)\n"
     ]
    }
   ],
   "source": [
    "@time result = solve_full_model(settings; impose_E_monotonicity_constraints = true, write_csv = true, csvpath = \"somecsv.csv\")\n",
    "solved = result.solution;\n",
    "E_nodes = result.E_nodes;\n",
    "solved = solved.results;"
   ]
  },
  {
   "cell_type": "markdown",
   "metadata": {},
   "source": [
    "---\n",
    "## Welfare Gains"
   ]
  },
  {
   "cell_type": "code",
   "execution_count": 17,
   "metadata": {},
   "outputs": [
    {
     "name": "stdout",
     "output_type": "stream",
     "text": [
      "Utility in initial SS: 36.771724154009796\n",
      "Utility in new SS: 40.75846634918868\n"
     ]
    }
   ],
   "source": [
    "print(\"Utility in initial SS: \", stationary_sol_0.U_bar(1),\"\\n\")\n",
    "print(\"Utility in new SS: \", stationary_sol.U_bar(1),\"\\n\")"
   ]
  },
  {
   "cell_type": "code",
   "execution_count": 18,
   "metadata": {},
   "outputs": [
    {
     "name": "stdout",
     "output_type": "stream",
     "text": [
      "Utility immediately after change 57.04087503735678\n"
     ]
    }
   ],
   "source": [
    "print(\"Utility immediately after change \", solved.U[1],\"\\n\")"
   ]
  },
  {
   "cell_type": "markdown",
   "metadata": {},
   "source": [
    "#### Summary so far...\n",
    "\n",
    "In the old paper, what we did was take U_0_ss at some date t, then compare it to U_ss at the same date t. This is like an instentanous jump to the new ss. This is what the first cell is looking at and note that this is like a 17 percent increase in utility. Higher than what we had in the paper, but in of the same order of magnitude. \n",
    "\n",
    "The next cell reprots the utility just after the change. Utility here includes the future path of consumption and change in growth rate, so it \"bakes in\" the transition path. Here it goes up by much more than utility in the new SS. This is what I was expecting given the dynamics of consumption. "
   ]
  },
  {
   "cell_type": "markdown",
   "metadata": {},
   "source": [
    "Just a reminder about how the function `counsumption_equivalent(U_new, U_old, parameters)` works, it takes U_new and then U_old in that order, then evaluates the **gross** increase in consumption. 100 times this value **minus one** gives the permanent, percent increase in consumption required to make the agent indifferent between the two paths. "
   ]
  },
  {
   "cell_type": "code",
   "execution_count": 19,
   "metadata": {},
   "outputs": [
    {
     "name": "stdout",
     "output_type": "stream",
     "text": [
      "SS to SS welfare gain: 8.118554194374417\n"
     ]
    }
   ],
   "source": [
    "T = solved.t[end]\n",
    "lambda_ss = 100*(consumption_equivalent(stationary_sol.U_bar(0), stationary_sol_0.U_bar(0), parameters)-1)\n",
    "\n",
    "print(\"SS to SS welfare gain: \", lambda_ss,\"\\n\")"
   ]
  },
  {
   "cell_type": "code",
   "execution_count": 20,
   "metadata": {},
   "outputs": [
    {
     "name": "stdout",
     "output_type": "stream",
     "text": [
      "Inclusive of the Transition Path: 52.76369871320372\n"
     ]
    }
   ],
   "source": [
    "lambda_tpath = 100*(consumption_equivalent(solved.U[1], stationary_sol_0.U_bar(0), parameters)-1)\n",
    "\n",
    "print(\"Inclusive of the Transition Path: \", lambda_tpath,\"\\n\")"
   ]
  },
  {
   "cell_type": "markdown",
   "metadata": {},
   "source": [
    "### Relative to initial notebook computations\n",
    "\n",
    "- SS to SS, the issue here is that we should compare **at date 0** utility in the first ss vs. the second ss. This is what we must have been doing in the previous version of the paper. The previous calulation in the old notebook had \n",
    "```consumption_equivalent(solved.U[end], stationary_sol_0.U_bar(T), parameters)```\n",
    "which took **date T** utility and compard them. The problem is that this now depends on date T. So if we picked T to be arbitraily large, then utility will be arbitraily different.\n",
    "\n",
    "- Following the same logic, the transition path should compare **date 0** utility with the initial value from the transition path. So what we want to do is to compare everything at 0. In the previous calculation, we had\n",
    "```consumption_equivalent(solved.U[1], stationary_sol_0.U_bar(T), parameters)```\n",
    "were comparing the initial utility relative to ss utility on the old path at date T. So the initial blue point below versues the last orange dashed point. **See the figure below**"
   ]
  },
  {
   "cell_type": "code",
   "execution_count": 21,
   "metadata": {},
   "outputs": [
    {
     "data": {
      "image/png": "[encoded data removed]"
     },
     "execution_count": 21,
     "metadata": {},
     "output_type": "execute_result"
    }
   ],
   "source": [
    "plot(solved.t, \n",
    "    [solved.U, stationary_sol_0.U_bar, stationary_sol.U_bar], \n",
    "    label = [\"U_transition_0\", \"U_steady_0\", \"U_steady_T\"] ,\n",
    "    title = \"U(t)\", linestyle = :auto, lw = 3)"
   ]
  },
  {
   "cell_type": "markdown",
   "metadata": {},
   "source": [
    "### Outstanding Issue \\#2: Welfare Gains still depend on T in transition path.\n",
    "\n",
    "The stuff above I think is correct, the one issue is why does the welfare gains, inclusive of the transition path seem to depend on T??? So change T above from 40 to 75 or 100, then the welfare gains fall alot? Why?"
   ]
  },
  {
   "cell_type": "markdown",
   "metadata": {},
   "source": [
    "---\n",
    "## Plotting"
   ]
  },
  {
   "cell_type": "code",
   "execution_count": 22,
   "metadata": {},
   "outputs": [
    {
     "data": {
      "text/plain": [
       "115.85095712311592"
      ]
     },
     "execution_count": 22,
     "metadata": {},
     "output_type": "execute_result"
    }
   ],
   "source": [
    "solved.U[end]"
   ]
  },
  {
   "cell_type": "markdown",
   "metadata": {},
   "source": [
    "## Plots for Ω and residuals"
   ]
  },
  {
   "cell_type": "code",
   "execution_count": 23,
   "metadata": {},
   "outputs": [
    {
     "data": {
      "image/png": "[encoded data removed]"
     },
     "execution_count": 23,
     "metadata": {},
     "output_type": "execute_result"
    }
   ],
   "source": [
    "#solved = solved.results;\n",
    "plot_Ω = plot(solved.t, solved.Ω, label = \"Omega\", lw = 3)\n",
    "plot_residual = plot(solved.t, solved.entry_residual, label = \"entry_residual\", lw = 3)\n",
    "plot(plot_Ω, plot_residual, layout = (2,1))"
   ]
  },
  {
   "cell_type": "markdown",
   "metadata": {},
   "source": [
    "## Primary Plots"
   ]
  },
  {
   "cell_type": "code",
   "execution_count": 24,
   "metadata": {
    "scrolled": true
   },
   "outputs": [
    {
     "data": {
      "image/png": "[encoded data removed]"
     },
     "execution_count": 24,
     "metadata": {},
     "output_type": "execute_result"
    }
   ],
   "source": [
    "plot1 = plot(solved.t, solved.g, label = \"g\", lw = 3)\n",
    "plot2 = plot(solved.t, solved.z_hat, label = \"z_hat\", lw = 3)\n",
    "plot3 = plot(solved.t, solved.S, label = \"S\", lw = 3)\n",
    "plot4 = plot(solved.t, solved.entry_residual, label = \"entry_residual\", lw = 3)\n",
    "plot(plot1, plot2, plot3, plot4, layout=(2,2), size = (800, 400))"
   ]
  },
  {
   "cell_type": "markdown",
   "metadata": {},
   "source": [
    "## Static Equations"
   ]
  },
  {
   "cell_type": "code",
   "execution_count": 25,
   "metadata": {},
   "outputs": [
    {
     "data": {
      "image/png": "[encoded data removed]"
     },
     "execution_count": 25,
     "metadata": {},
     "output_type": "execute_result"
    }
   ],
   "source": [
    "plot1 = plot(solved.t, solved.L_tilde, label = \"L_tilde\", lw = 3)\n",
    "plot2 = plot(solved.t, solved.z_bar, label = \"z_bar\", lw = 3)\n",
    "plot3 = plot(solved.t, solved.π_min, label = \"pi_min\", lw = 3)\n",
    "plot4 = plot(solved.t, solved.λ_ii, label = \"lambda_ii\", lw = 3)\n",
    "plot5 = plot(solved.t, solved.c, label = \"c\", lw = 3)\n",
    "plot6 = plot(solved.t, solved.E, label = \"E\", lw = 3)\n",
    "plot7 = plot(solved.t, solved.log_M, label = \"log_M\", lw = 3)\n",
    "plot8 = plot(solved.t, solved.U, label = \"U\", lw = 3)\n",
    "plot(plot1, plot2, plot3, plot4, plot5, plot6, plot7, plot8, layout=(4,2), size = (800, 800))"
   ]
  },
  {
   "cell_type": "markdown",
   "metadata": {},
   "source": [
    "# Welfare analysis"
   ]
  },
  {
   "cell_type": "markdown",
   "metadata": {},
   "source": [
    "### `log_M(t)`"
   ]
  },
  {
   "cell_type": "code",
   "execution_count": 26,
   "metadata": {
    "scrolled": true
   },
   "outputs": [
    {
     "data": {
      "image/png": "[encoded data removed]"
     },
     "execution_count": 26,
     "metadata": {},
     "output_type": "execute_result"
    }
   ],
   "source": [
    "# define log_M with steady state g\n",
    "log_M_steady_0(t) = stationary_sol_0.g * t\n",
    "log_M_steady_T(t) = stationary_sol.g * t\n",
    "\n",
    "# generate the plot!\n",
    "plot(solved.t, \n",
    "    [solved.log_M, log_M_steady_0, log_M_steady_T], \n",
    "    label = [\"log_M_transition_0\", \"log_M_steady_0\", \"log_M_steady_T\"] ,\n",
    "    title = \"log_M(t)\", linestyle = :auto, lw = 3)"
   ]
  },
  {
   "cell_type": "markdown",
   "metadata": {},
   "source": [
    "### `Ω(t)`"
   ]
  },
  {
   "cell_type": "code",
   "execution_count": 27,
   "metadata": {},
   "outputs": [
    {
     "data": {
      "image/png": "[encoded data removed]"
     },
     "execution_count": 27,
     "metadata": {},
     "output_type": "execute_result"
    }
   ],
   "source": [
    "# define Ω function (constant)\n",
    "Ω_steady_0(t) = stationary_sol_0.Ω\n",
    "Ω_steady_T(t) = stationary_sol.Ω\n",
    "\n",
    "# generate the plot!\n",
    "plot(solved.t, \n",
    "    [solved.Ω, Ω_steady_0, Ω_steady_T], \n",
    "    label = [\"Omega_transition_0\", \"Omega_steady_0\", \"Omega_steady_T\"] ,\n",
    "    title = \"Omega(t)\", linestyle = :auto, lw = 3)"
   ]
  },
  {
   "cell_type": "markdown",
   "metadata": {},
   "source": [
    "### `c(t)`"
   ]
  },
  {
   "cell_type": "code",
   "execution_count": 28,
   "metadata": {},
   "outputs": [
    {
     "data": {
      "image/png": "[encoded data removed]"
     },
     "execution_count": 28,
     "metadata": {},
     "output_type": "execute_result"
    }
   ],
   "source": [
    "# define c function (constant)\n",
    "c_steady_0(t) = stationary_sol_0.c\n",
    "c_steady_T(t) = stationary_sol.c\n",
    "\n",
    "# generate the plot!\n",
    "plot(solved.t, \n",
    "    [solved.c, c_steady_0, c_steady_T], \n",
    "    label = [\"c_transition_0\", \"c_steady_0\", \"c_steady_T\"] ,\n",
    "    title = \"c(t)\", linestyle = :auto, lw = 3)"
   ]
  },
  {
   "cell_type": "markdown",
   "metadata": {},
   "source": [
    "### `U(t)`"
   ]
  },
  {
   "cell_type": "code",
   "execution_count": 29,
   "metadata": {
    "scrolled": true
   },
   "outputs": [
    {
     "data": {
      "image/png": "[encoded data removed]"
     },
     "execution_count": 29,
     "metadata": {},
     "output_type": "execute_result"
    }
   ],
   "source": [
    "# generate the plot!\n",
    "plot(solved.t, \n",
    "    [solved.U, stationary_sol_0.U_bar, stationary_sol.U_bar], \n",
    "    label = [\"U_transition_0\", \"U_steady_0\", \"U_steady_T\"] ,\n",
    "    title = \"U(t)\", linestyle = :auto, lw = 3)"
   ]
  },
  {
   "cell_type": "markdown",
   "metadata": {},
   "source": [
    "## Consumption equivalent for search threshold (`M(0)`)\n",
    "See computational appendix for details."
   ]
  },
  {
   "cell_type": "markdown",
   "metadata": {},
   "source": [
    "### `M(0)` by two steady states (autarky and steady state at `T`)"
   ]
  },
  {
   "cell_type": "code",
   "execution_count": 30,
   "metadata": {
    "scrolled": true
   },
   "outputs": [
    {
     "data": {
      "text/plain": [
       "1.2516884582308723"
      ]
     },
     "execution_count": 30,
     "metadata": {},
     "output_type": "execute_result"
    }
   ],
   "source": [
    "T = solved.t[end]\n",
    "consumption_equivalent(solved.U[end], stationary_sol_0.U_bar(T), parameters)"
   ]
  },
  {
   "cell_type": "markdown",
   "metadata": {},
   "source": [
    "### `M(0)` by autarky and transition from `t=0`"
   ]
  },
  {
   "cell_type": "code",
   "execution_count": 31,
   "metadata": {
    "scrolled": true
   },
   "outputs": [
    {
     "data": {
      "text/plain": [
       "0.3860809427408113"
      ]
     },
     "execution_count": 31,
     "metadata": {},
     "output_type": "execute_result"
    }
   ],
   "source": [
    "T = solved.t[end]\n",
    "consumption_equivalent(solved.U[1], stationary_sol_0.U_bar(T), parameters)"
   ]
  },
  {
   "cell_type": "markdown",
   "metadata": {},
   "source": [
    "But if we include the transition path, this falls a lot. Like down to 13 percent gain. "
   ]
  },
  {
   "cell_type": "code",
   "execution_count": 32,
   "metadata": {},
   "outputs": [
    {
     "data": {
      "text/plain": [
       "1.0077684148120571"
      ]
     },
     "execution_count": 32,
     "metadata": {},
     "output_type": "execute_result"
    }
   ],
   "source": [
    "stationary_sol.U_bar(90)/stationary_sol.U_bar(89)"
   ]
  },
  {
   "cell_type": "code",
   "execution_count": 33,
   "metadata": {},
   "outputs": [],
   "source": [
    "# solved \n",
    "# Run the above to see the whole dataframe"
   ]
  },
  {
   "cell_type": "code",
   "execution_count": 34,
   "metadata": {},
   "outputs": [],
   "source": [
    "using DataFrames\n",
    "\n",
    "df_stationary = DataFrame(t = -1.00, g =stationary_sol_0.g, λ_ii = stationary_sol_0.λ_ii, c = stationary_sol_0.c, L_tilde = stationary_sol_0.L_tilde, Ω = stationary_sol_0.Ω);"
   ]
  },
  {
   "cell_type": "code",
   "execution_count": null,
   "metadata": {},
   "outputs": [],
   "source": [
    "CSV.write(\"stationary_results.csv\", df_stationary)"
   ]
  },
  {
   "cell_type": "code",
   "execution_count": null,
   "metadata": {},
   "outputs": [],
   "source": []
  }
 ],
 "metadata": {
  "kernelspec": {
   "display_name": "Julia 1.0.2",
   "language": "julia",
   "name": "julia-1.0"
  },
  "language_info": {
   "file_extension": ".jl",
   "mimetype": "application/julia",
   "name": "julia",
   "version": "1.0.2"
  }
 },
 "nbformat": 4,
 "nbformat_minor": 2
}
