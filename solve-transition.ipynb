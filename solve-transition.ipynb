{
 "cells": [
  {
   "cell_type": "code",
   "execution_count": 1,
   "metadata": {
    "scrolled": true
   },
   "outputs": [
    {
     "name": "stderr",
     "output_type": "stream",
     "text": [
      "┌ Info: Recompiling stale cache file C:\\Users\\Chiyoung Ahn\\.julia\\compiled\\v1.0\\PerlaTonettiWaugh\\Zi3ee.ji for PerlaTonettiWaugh [d2cacc76-b06b-11e8-362b-f18d03a16405]\n",
      "└ @ Base loading.jl:1184\n"
     ]
    }
   ],
   "source": [
    "using Pkg, PerlaTonettiWaugh, Plots\n",
    "pkg\"activate .\""
   ]
  },
  {
   "cell_type": "markdown",
   "metadata": {},
   "source": [
    "# Steady states"
   ]
  },
  {
   "cell_type": "markdown",
   "metadata": {},
   "source": [
    "## Solving steady state solutions"
   ]
  },
  {
   "cell_type": "markdown",
   "metadata": {},
   "source": [
    "Set up parameters and find the corresponding stationary solution:"
   ]
  },
  {
   "cell_type": "code",
   "execution_count": 2,
   "metadata": {},
   "outputs": [],
   "source": [
    "# Define common objects. \n",
    "params = parameter_defaults()\n",
    "\n",
    "settings = settings_defaults()\n",
    "settings = merge(settings, (global_transition_penalty_coefficient = 0.1, ))\n",
    "d_0 = params.d_0\n",
    "d_T = params.d_T\n",
    "params_0 = merge(params, (d = d_0,)) # parameters to be used at t = 0\n",
    "params_T = merge(params, (d = d_T,)) # parameters to be used at t = T\n",
    "z_grid = settings.z\n",
    "M = length(z_grid)\n",
    "\n",
    "# solve for stationary solution at t = 0\n",
    "stationary_sol_0 = stationary_numerical(params_0, z_grid) # solution at t = 0\n",
    "stationary_sol = stationary_numerical(params_T, z_grid) # solution at t = T\n",
    "\n",
    "Ω_0 = stationary_sol_0.Ω;\n",
    "Ω_T = stationary_sol.Ω;"
   ]
  },
  {
   "cell_type": "markdown",
   "metadata": {},
   "source": [
    "## Welfare in steady states"
   ]
  },
  {
   "cell_type": "markdown",
   "metadata": {},
   "source": [
    "### Steady state at `T`"
   ]
  },
  {
   "cell_type": "code",
   "execution_count": 3,
   "metadata": {},
   "outputs": [
    {
     "name": "stdout",
     "output_type": "stream",
     "text": [
      "g = 0.02061571025451869\n",
      "z_hat = 1.4039337089833719\n",
      "Ω = 1.2562899021346912\n",
      "π_bar_agg = 0.24067321697108107\n",
      "y = 1.3124933029733836\n",
      "c = 1.3124933029733836\n",
      "λ_ii = 0.7552342507009538\n",
      "U_bar(0.0) = 65.13570628500445\n",
      "L_tilde = 0.20995404933168824\n",
      "z_bar = 1.6612872983693239\n",
      "w = 0.4164044762305304\n",
      "x = 1.0\n",
      "π_min = 0.057942557184611596\n",
      "r = 0.09361571025451869\n",
      "a = 9.160936798572518\n",
      "b = 0.1424454937862814\n",
      "S = 0.03389742155326495\n"
     ]
    }
   ],
   "source": [
    "display_stationary_sol(stationary_sol);"
   ]
  },
  {
   "cell_type": "markdown",
   "metadata": {},
   "source": [
    "### Steady state at `0`"
   ]
  },
  {
   "cell_type": "code",
   "execution_count": 4,
   "metadata": {
    "scrolled": false
   },
   "outputs": [
    {
     "name": "stdout",
     "output_type": "stream",
     "text": [
      "g = 0.010930652401731534\n",
      "z_hat = 1.8135361316618857\n",
      "Ω = 1.7797900066500179\n",
      "π_bar_agg = 0.25994344518684737\n",
      "y = 1.4215794016174819\n",
      "c = 1.4215794016174819\n",
      "λ_ii = 0.8982453618576186\n",
      "U_bar(0.0) = 44.91505641315042\n",
      "L_tilde = 0.19292029504963126\n",
      "z_bar = 1.761386629967237\n",
      "w = 0.44149454330440074\n",
      "x = 1.0\n",
      "π_min = 0.04969310649090876\n",
      "r = 0.08393065240173153\n",
      "a = 12.46809835198446\n",
      "b = 0.14906085711322886\n",
      "S = -0.011680460701951403\n"
     ]
    }
   ],
   "source": [
    "display_stationary_sol(stationary_sol_0);"
   ]
  },
  {
   "cell_type": "markdown",
   "metadata": {},
   "source": [
    "# Transition dynamics"
   ]
  },
  {
   "cell_type": "markdown",
   "metadata": {},
   "source": [
    "Setup for optimizer:"
   ]
  },
  {
   "cell_type": "code",
   "execution_count": 5,
   "metadata": {},
   "outputs": [],
   "source": [
    "settings = merge(settings, (params_T = params_T, stationary_sol_T = stationary_sol, Ω_0 = Ω_0));"
   ]
  },
  {
   "cell_type": "markdown",
   "metadata": {},
   "source": [
    "Find the corresponding solution:"
   ]
  },
  {
   "cell_type": "code",
   "execution_count": 6,
   "metadata": {
    "scrolled": false
   },
   "outputs": [
    {
     "name": "stdout",
     "output_type": "stream",
     "text": [
      "Starting optimization with optimizer BlackBoxOptim.DiffEvoOpt{BlackBoxOptim.FitPopulation{Float64},BlackBoxOptim.RadiusLimitedSelector,BlackBoxOptim.AdaptiveDiffEvoRandBin{3},BlackBoxOptim.RandomBound{BlackBoxOptim.RangePerDimSearchSpace}}\n",
      "0.00 secs, 0 evals, 0 steps\n",
      "1.22 secs, 2 evals, 1 steps, fitness=0.047224356\n",
      "1.99 secs, 4 evals, 2 steps, fitness=0.047224356\n",
      "\n",
      "Optimization stopped after 3 steps and 2.672999858856201 seconds\n",
      "Termination reason: Max number of steps (2) reached\n",
      "Steps per second = 1.1223345149309978\n",
      "Function evals per second = 2.2446690298619956\n",
      "Improvements/step = 0.0\n",
      "Total function evaluations = 6\n",
      "\n",
      "\n",
      "Best candidate found: [-0.928323, -0.793123, -0.604936, -0.492704, -0.335835, -0.249741, -0.24268, -0.125186, -0.0948087, -0.0877639, -0.0573027, -0.0451288, -0.0307141, -0.0301002]\n",
      "\n",
      "Fitness: 0.047224356\n",
      "\n"
     ]
    }
   ],
   "source": [
    "result = solve_full_model_global(settings);\n",
    "solved = result.solution;\n",
    "E_nodes = result.E_nodes;"
   ]
  },
  {
   "cell_type": "code",
   "execution_count": 7,
   "metadata": {},
   "outputs": [
    {
     "name": "stdout",
     "output_type": "stream",
     "text": [
      "E_nodes (sorted) : \n"
     ]
    },
    {
     "data": {
      "text/plain": [
       "14-element Array{Float64,1}:\n",
       " -0.9283233397558605  \n",
       " -0.7931227777335486  \n",
       " -0.6049356364806617  \n",
       " -0.4927044449099116  \n",
       " -0.3358353090972862  \n",
       " -0.2497406170581776  \n",
       " -0.24267972513426644 \n",
       " -0.1251863870906156  \n",
       " -0.0948087489326721  \n",
       " -0.08776386898955374 \n",
       " -0.05730272455803215 \n",
       " -0.04512884607138278 \n",
       " -0.030714141187059757\n",
       " -0.03010019595942575 "
      ]
     },
     "execution_count": 7,
     "metadata": {},
     "output_type": "execute_result"
    }
   ],
   "source": [
    "println(\"E_nodes (sorted) : \")\n",
    "sort(E_nodes)"
   ]
  },
  {
   "cell_type": "markdown",
   "metadata": {},
   "source": [
    "## Plots for Ω and `entry_residuals`"
   ]
  },
  {
   "cell_type": "code",
   "execution_count": null,
   "metadata": {},
   "outputs": [],
   "source": [
    "solved = solved.results;\n",
    "plot_Ω = plot(solved.t, solved.Ω, label = \"Omega\", lw = 3)\n",
    "plot_residual = plot(solved.t, solved.entry_residual, label = \"entry_residual\", lw = 3)\n",
    "plot(plot_Ω, plot_residual, layout = (2,1))"
   ]
  },
  {
   "cell_type": "markdown",
   "metadata": {},
   "source": [
    "## Primary Plots"
   ]
  },
  {
   "cell_type": "code",
   "execution_count": null,
   "metadata": {
    "scrolled": true
   },
   "outputs": [],
   "source": [
    "plot1 = plot(solved.t, solved.g, label = \"g\", lw = 3)\n",
    "plot2 = plot(solved.t, solved.z_hat, label = \"z_hat\", lw = 3)\n",
    "plot3 = plot(solved.t, solved.S, label = \"S\", lw = 3)\n",
    "plot4 = plot(solved.t, solved.entry_residual, label = \"entry_residual\", lw = 3)\n",
    "plot(plot1, plot2, plot3, plot4, layout=(2,2))"
   ]
  },
  {
   "cell_type": "markdown",
   "metadata": {},
   "source": [
    "## Static Equations"
   ]
  },
  {
   "cell_type": "code",
   "execution_count": null,
   "metadata": {},
   "outputs": [],
   "source": [
    "plot1 = plot(solved.t, solved.L_tilde, label = \"L_tilde\", lw = 3)\n",
    "plot2 = plot(solved.t, solved.z_bar, label = \"z_bar\", lw = 3)\n",
    "plot3 = plot(solved.t, solved.π_min, label = \"pi_min\", lw = 3)\n",
    "plot4 = plot(solved.t, solved.λ_ii, label = \"lambda_ii\", lw = 3)\n",
    "plot5 = plot(solved.t, solved.c, label = \"c\", lw = 3)\n",
    "plot6 = plot(solved.t, solved.E, label = \"E\", lw = 3)\n",
    "plot7 = plot(solved.t, solved.log_M, label = \"log_M\", lw = 3)\n",
    "plot8 = plot(solved.t, solved.U, label = \"U\", lw = 3)\n",
    "plot(plot1, plot2, plot3, plot4, plot5, plot6, plot7, plot8, layout=(4,2))"
   ]
  },
  {
   "cell_type": "markdown",
   "metadata": {},
   "source": [
    "# Welfare analysis"
   ]
  },
  {
   "cell_type": "markdown",
   "metadata": {},
   "source": [
    "### `log_M(t)`"
   ]
  },
  {
   "cell_type": "code",
   "execution_count": null,
   "metadata": {
    "scrolled": true
   },
   "outputs": [],
   "source": [
    "# define log_M with steady state g\n",
    "log_M_steady_0(t) = stationary_sol_0.g * t\n",
    "log_M_steady_T(t) = stationary_sol.g * t\n",
    "\n",
    "# generate the plot!\n",
    "plot(solved.t, \n",
    "    [solved.log_M, log_M_steady_0, log_M_steady_T], \n",
    "    label = [\"log_M_transition_0\", \"log_M_steady_0\", \"log_M_steady_T\"] ,\n",
    "    title = \"log_M(t)\", linestyle = :auto, lw = 3)"
   ]
  },
  {
   "cell_type": "markdown",
   "metadata": {},
   "source": [
    "### `Ω(t)`"
   ]
  },
  {
   "cell_type": "code",
   "execution_count": null,
   "metadata": {},
   "outputs": [],
   "source": [
    "# define Ω function (constant)\n",
    "Ω_steady_0(t) = stationary_sol_0.Ω\n",
    "Ω_steady_T(t) = stationary_sol.Ω\n",
    "\n",
    "# generate the plot!\n",
    "plot(solved.t, \n",
    "    [solved.Ω, Ω_steady_0, Ω_steady_T], \n",
    "    label = [\"Omega_transition_0\", \"Omega_steady_0\", \"Omega_steady_T\"] ,\n",
    "    title = \"Omega(t)\", linestyle = :auto, lw = 3)"
   ]
  },
  {
   "cell_type": "markdown",
   "metadata": {},
   "source": [
    "### `c(t)`"
   ]
  },
  {
   "cell_type": "code",
   "execution_count": null,
   "metadata": {},
   "outputs": [],
   "source": [
    "# define c function (constant)\n",
    "c_steady_0(t) = stationary_sol_0.c\n",
    "c_steady_T(t) = stationary_sol.c\n",
    "\n",
    "# generate the plot!\n",
    "plot(solved.t, \n",
    "    [solved.c, c_steady_0, c_steady_T], \n",
    "    label = [\"c_transition_0\", \"c_steady_0\", \"c_steady_T\"] ,\n",
    "    title = \"c(t)\", linestyle = :auto, lw = 3)"
   ]
  },
  {
   "cell_type": "markdown",
   "metadata": {},
   "source": [
    "### `U(t)`"
   ]
  },
  {
   "cell_type": "code",
   "execution_count": null,
   "metadata": {
    "scrolled": true
   },
   "outputs": [],
   "source": [
    "# generate the plot!\n",
    "plot(solved.t, \n",
    "    [solved.U, stationary_sol_0.U_bar, stationary_sol.U_bar], \n",
    "    label = [\"U_transition_0\", \"U_steady_0\", \"U_steady_T\"] ,\n",
    "    title = \"U(t)\", linestyle = :auto, lw = 3)"
   ]
  },
  {
   "cell_type": "markdown",
   "metadata": {},
   "source": [
    "## Consumption equivalent for search threshold (`M(0)`)\n",
    "See computational appendix for details."
   ]
  },
  {
   "cell_type": "markdown",
   "metadata": {},
   "source": [
    "### `M(0)` by two steady states (autarky and steady state at `T`)"
   ]
  },
  {
   "cell_type": "code",
   "execution_count": null,
   "metadata": {
    "scrolled": true
   },
   "outputs": [],
   "source": [
    "T = solved.t[end]\n",
    "consumption_equivalent(solved.U[end], stationary_sol_0.U_bar(T), params)"
   ]
  },
  {
   "cell_type": "markdown",
   "metadata": {},
   "source": [
    "### `M(0)` by autarky and transition from `t=0`"
   ]
  },
  {
   "cell_type": "code",
   "execution_count": null,
   "metadata": {},
   "outputs": [],
   "source": [
    "T = solved.t[end]\n",
    "consumption_equivalent(solved.U[1], stationary_sol_0.U_bar(T), params)"
   ]
  }
 ],
 "metadata": {
  "kernelspec": {
   "display_name": "Julia 1.0.0",
   "language": "julia",
   "name": "julia-1.0"
  },
  "language_info": {
   "file_extension": ".jl",
   "mimetype": "application/julia",
   "name": "julia",
   "version": "1.0.0"
  }
 },
 "nbformat": 4,
 "nbformat_minor": 2
}
