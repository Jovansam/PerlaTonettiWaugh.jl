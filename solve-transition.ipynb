{
 "cells": [
  {
   "cell_type": "code",
   "execution_count": 1,
   "metadata": {},
   "outputs": [],
   "source": [
    "using Pkg\n",
    "pkg\"activate .\""
   ]
  },
  {
   "cell_type": "code",
   "execution_count": 2,
   "metadata": {
    "scrolled": true
   },
   "outputs": [],
   "source": [
    "using PerlaTonettiWaugh, LinearAlgebra, Plots, BenchmarkTools, Interpolations, QuadGK, DifferentialEquations, BlackBoxOptim, Optim, DataFrames"
   ]
  },
  {
   "cell_type": "markdown",
   "metadata": {},
   "source": [
    "# Steady states"
   ]
  },
  {
   "cell_type": "markdown",
   "metadata": {},
   "source": [
    "## Solving steady state solutions"
   ]
  },
  {
   "cell_type": "markdown",
   "metadata": {},
   "source": [
    "Set up parameters and find the corresponding stationary solution:"
   ]
  },
  {
   "cell_type": "code",
   "execution_count": null,
   "metadata": {},
   "outputs": [],
   "source": [
    "# Define common objects. \n",
    "params = parameter_defaults()\n",
    "settings = settings_defaults()\n",
    "d_0 = 3.0700\n",
    "d_T = 2.5019\n",
    "params_0 = merge(params, (d = d_0,)) # parameters to be used at t = 0\n",
    "params_T = merge(params, (d = d_T,)) # parameters to be used at t = T\n",
    "z_grid = settings.z\n",
    "M = length(z_grid)\n",
    "\n",
    "# solve for stationary solution at t = 0\n",
    "stationary_sol_0 = stationary_numerical(params_0, z_grid) # solution at t = 0\n",
    "stationary_sol = stationary_numerical(params_T, z_grid) # solution at t = T\n",
    "\n",
    "Ω_0 = stationary_sol_0.Ω\n",
    "Ω_T = stationary_sol.Ω"
   ]
  },
  {
   "cell_type": "markdown",
   "metadata": {},
   "source": [
    "## Welfare in steady states"
   ]
  },
  {
   "cell_type": "code",
   "execution_count": null,
   "metadata": {},
   "outputs": [],
   "source": [
    "# auxil. function that extracts and displays welfare information from steady state solutions\n",
    "function display_stationary_sol(stationary_sol)\n",
    "    @unpack g, z_hat, Ω, π_bar_agg, y, c, λ_ii, U_bar, L_tilde, z_bar, w, x, π_min, r, a, b, S = stationary_sol\n",
    "    @show g\n",
    "    @show z_hat\n",
    "    @show Ω\n",
    "    @show π_bar_agg\n",
    "    @show y\n",
    "    @show c\n",
    "    @show λ_ii\n",
    "    @show U_bar(0.0)\n",
    "    @show L_tilde\n",
    "    @show z_bar\n",
    "    @show w\n",
    "    @show x\n",
    "    @show π_min\n",
    "    @show r\n",
    "    @show a\n",
    "    @show b\n",
    "    @show S\n",
    "end;"
   ]
  },
  {
   "cell_type": "markdown",
   "metadata": {},
   "source": [
    "### Steady state at `T`"
   ]
  },
  {
   "cell_type": "code",
   "execution_count": null,
   "metadata": {},
   "outputs": [],
   "source": [
    "display_stationary_sol(stationary_sol);"
   ]
  },
  {
   "cell_type": "markdown",
   "metadata": {},
   "source": [
    "### Steady state at `0`"
   ]
  },
  {
   "cell_type": "code",
   "execution_count": null,
   "metadata": {
    "scrolled": false
   },
   "outputs": [],
   "source": [
    "display_stationary_sol(stationary_sol_0);"
   ]
  },
  {
   "cell_type": "markdown",
   "metadata": {},
   "source": [
    "# Transition dynamics"
   ]
  },
  {
   "cell_type": "markdown",
   "metadata": {},
   "source": [
    "Setup for optimizer:"
   ]
  },
  {
   "cell_type": "code",
   "execution_count": null,
   "metadata": {},
   "outputs": [],
   "source": [
    "ENTRY_RESIDUALS_NODES_COUNT = 15\n",
    "E_NODE_COUNT = 15\n",
    "SOLUTION = [-0.9283233397558605, -0.7931227777335486, -0.6049356364806617, -0.4927044449099116, -0.3358353090972862, -0.2497406170581776, -0.24267972513426644, -0.1251863870906156, -0.0948087489326721, -0.08776386898955374, -0.05730272455803215, -0.04512884607138278, -0.030714141187059757, -0.03010019595942575, 39.420517045082555]\n",
    "RANGES_NODES = map(i->(SOLUTION[i] - 0.0, min(-1e-3, SOLUTION[i] + 0.0)), 1:(E_NODE_COUNT-1))\n",
    "RANGES_T = (SOLUTION[end], SOLUTION[end])\n",
    "RANGES = [RANGES_NODES; RANGES_T]\n",
    "WEIGHTS = [fill(15, 3); fill(1, ENTRY_RESIDUALS_NODES_COUNT-3)]\n",
    "ITERATIONS = 2\n",
    "SORT_CANDIDATE = true # this will make finding solution much more efficient when we use global optimization schemes\n",
    "\n",
    "settings_optim = (params_T = params_T, stationary_sol_T = stationary_sol, Ω_0 = Ω_0,\n",
    "                E_node_count = E_NODE_COUNT, entry_residuals_nodes_count = ENTRY_RESIDUALS_NODES_COUNT, \n",
    "                weights = WEIGHTS, ranges = RANGES, iterations = ITERATIONS,\n",
    "                sort_candidate = SORT_CANDIDATE)\n",
    "settings = merge(settings, settings_optim);"
   ]
  },
  {
   "cell_type": "markdown",
   "metadata": {},
   "source": [
    "Find the corresponding solution:"
   ]
  },
  {
   "cell_type": "code",
   "execution_count": null,
   "metadata": {
    "scrolled": false
   },
   "outputs": [],
   "source": [
    "result = solve_full_model_global(SOLUTION, settings);\n",
    "solved = result.solution;\n",
    "E_nodes_and_T = result.E_nodes_and_T;"
   ]
  },
  {
   "cell_type": "code",
   "execution_count": null,
   "metadata": {},
   "outputs": [],
   "source": [
    "println(\"E_nodes (sorted) : \")\n",
    "sort(E_nodes_and_T[1:(length(E_nodes_and_T)-1)])"
   ]
  },
  {
   "cell_type": "code",
   "execution_count": null,
   "metadata": {},
   "outputs": [],
   "source": [
    "println(\"T: \")\n",
    "E_nodes_and_T[end]"
   ]
  },
  {
   "cell_type": "markdown",
   "metadata": {},
   "source": [
    "## Plots for Ω and `entry_residuals`"
   ]
  },
  {
   "cell_type": "code",
   "execution_count": null,
   "metadata": {},
   "outputs": [],
   "source": [
    "v_t0 = solved.sol.u[1][1:M]\n",
    "v0 = solved.results[:v_0]\n",
    "# save v0 and v_hat_t0\n",
    "v_hat_t0 = map(z -> exp((params.σ-1)*z), z_grid) .* v_t0;\n",
    "\n",
    "solved = solved.results;\n",
    "plot_Ω = plot(solved.t, solved.Ω, label = \"Omega\", lw = 3)\n",
    "plot_residual = plot(solved.t, solved.entry_residual, label = \"entry_residual\", lw = 3)\n",
    "plot(plot_Ω, plot_residual, layout = (2,1))"
   ]
  },
  {
   "cell_type": "markdown",
   "metadata": {},
   "source": [
    "## Primary Plots"
   ]
  },
  {
   "cell_type": "code",
   "execution_count": null,
   "metadata": {
    "scrolled": true
   },
   "outputs": [],
   "source": [
    "plot1 = plot(solved.t, solved.g, label = \"g\", lw = 3)\n",
    "plot2 = plot(solved.t, solved.z_hat, label = \"z_hat\", lw = 3)\n",
    "plot3 = plot(solved.t, solved.S, label = \"S\", lw = 3)\n",
    "plot4 = plot(solved.t, solved.entry_residual, label = \"entry_residual\", lw = 3)\n",
    "plot(plot1, plot2, plot3, plot4, layout=(2,2))"
   ]
  },
  {
   "cell_type": "markdown",
   "metadata": {},
   "source": [
    "## Static Equations"
   ]
  },
  {
   "cell_type": "code",
   "execution_count": null,
   "metadata": {},
   "outputs": [],
   "source": [
    "plot1 = plot(solved.t, solved.L_tilde, label = \"L_tilde\", lw = 3)\n",
    "plot2 = plot(solved.t, solved.z_bar, label = \"z_bar\", lw = 3)\n",
    "plot3 = plot(solved.t, solved.π_min, label = \"pi_min\", lw = 3)\n",
    "plot4 = plot(solved.t, solved.λ_ii, label = \"lambda_ii\", lw = 3)\n",
    "plot5 = plot(solved.t, solved.c, label = \"c\", lw = 3)\n",
    "plot6 = plot(solved.t, solved.E, label = \"E\", lw = 3)\n",
    "plot7 = plot(solved.t, solved.log_M, label = \"log_M\", lw = 3)\n",
    "plot8 = plot(solved.t, solved.U, label = \"U\", lw = 3)\n",
    "plot9 = plot(z_grid, v_hat_t0, label = \"v_hat at t = 0\", lw = 3)\n",
    "plot(plot1, plot2, plot3, plot4, plot5, plot6, plot7, plot8, layout=(4,2))"
   ]
  },
  {
   "cell_type": "markdown",
   "metadata": {},
   "source": [
    "# Welfare analysis"
   ]
  },
  {
   "cell_type": "markdown",
   "metadata": {},
   "source": [
    "### `log_M(t)`"
   ]
  },
  {
   "cell_type": "code",
   "execution_count": null,
   "metadata": {
    "scrolled": true
   },
   "outputs": [],
   "source": [
    "# define log_M with steady state g\n",
    "log_M_steady_0(t) = stationary_sol_0.g * t\n",
    "log_M_steady_T(t) = stationary_sol.g * t\n",
    "\n",
    "# generate the plot!\n",
    "plot(solved.t, \n",
    "    [solved.log_M, log_M_steady_0, log_M_steady_T], \n",
    "    label = [\"log_M_transition_0\", \"log_M_steady_0\", \"log_M_steady_T\"] ,\n",
    "    title = \"log_M(t)\", linestyle = :auto, lw = 3)"
   ]
  },
  {
   "cell_type": "markdown",
   "metadata": {},
   "source": [
    "### `Ω(t)`"
   ]
  },
  {
   "cell_type": "code",
   "execution_count": null,
   "metadata": {},
   "outputs": [],
   "source": [
    "# define Ω function (constant)\n",
    "Ω_steady_0(t) = stationary_sol_0.Ω\n",
    "Ω_steady_T(t) = stationary_sol.Ω\n",
    "\n",
    "# generate the plot!\n",
    "plot(solved.t, \n",
    "    [solved.Ω, Ω_steady_0, Ω_steady_T], \n",
    "    label = [\"Omega_transition_0\", \"Omega_steady_0\", \"Omega_steady_T\"] ,\n",
    "    title = \"Omega(t)\", linestyle = :auto, lw = 3)"
   ]
  },
  {
   "cell_type": "markdown",
   "metadata": {},
   "source": [
    "### `c(t)`"
   ]
  },
  {
   "cell_type": "code",
   "execution_count": null,
   "metadata": {},
   "outputs": [],
   "source": [
    "# define c function (constant)\n",
    "c_steady_0(t) = stationary_sol_0.c\n",
    "c_steady_T(t) = stationary_sol.c\n",
    "\n",
    "# generate the plot!\n",
    "plot(solved.t, \n",
    "    [solved.c, c_steady_0, c_steady_T], \n",
    "    label = [\"c_transition_0\", \"c_steady_0\", \"c_steady_T\"] ,\n",
    "    title = \"c(t)\", linestyle = :auto, lw = 3)"
   ]
  },
  {
   "cell_type": "markdown",
   "metadata": {},
   "source": [
    "### `U(t)`"
   ]
  },
  {
   "cell_type": "code",
   "execution_count": null,
   "metadata": {
    "scrolled": true
   },
   "outputs": [],
   "source": [
    "# generate the plot!\n",
    "plot(solved.t, \n",
    "    [solved.U, stationary_sol_0.U_bar, stationary_sol.U_bar], \n",
    "    label = [\"U_transition_0\", \"U_steady_0\", \"U_steady_T\"] ,\n",
    "    title = \"U(t)\", linestyle = :auto, lw = 3)"
   ]
  },
  {
   "cell_type": "markdown",
   "metadata": {},
   "source": [
    "## Consumption equivalent for search threshold (`M(0)`)\n",
    "See computational appendix for details."
   ]
  },
  {
   "cell_type": "markdown",
   "metadata": {},
   "source": [
    "### `M(0)` by two steady states (autarky and steady state at `T`)"
   ]
  },
  {
   "cell_type": "code",
   "execution_count": null,
   "metadata": {},
   "outputs": [],
   "source": [
    "T = solved.t[end]\n",
    "M_0 = exp(params.ρ*(stationary_sol.U_bar(T) - stationary_sol_0.U_bar(T)))"
   ]
  },
  {
   "cell_type": "markdown",
   "metadata": {},
   "source": [
    "### `M(0)` by autarky and transition from `t=0`"
   ]
  },
  {
   "cell_type": "code",
   "execution_count": null,
   "metadata": {},
   "outputs": [],
   "source": [
    "T = solved.t[end]\n",
    "M_0 = exp(params.ρ*(solved.U[1] - stationary_sol_0.U_bar(T)))"
   ]
  }
 ],
 "metadata": {
  "kernelspec": {
   "display_name": "Julia 1.0.0",
   "language": "julia",
   "name": "julia-1.0"
  },
  "language_info": {
   "file_extension": ".jl",
   "mimetype": "application/julia",
   "name": "julia",
   "version": "1.0.0"
  }
 },
 "nbformat": 4,
 "nbformat_minor": 2
}
