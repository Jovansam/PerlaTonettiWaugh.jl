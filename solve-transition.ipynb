{
 "cells": [
  {
   "cell_type": "code",
   "execution_count": 1,
   "metadata": {
    "scrolled": true
   },
   "outputs": [
    {
     "name": "stdout",
     "output_type": "stream",
     "text": [
      "\u001b[32m\u001b[1m  Updating\u001b[22m\u001b[39m registry at `~/.julia/registries/General`\n",
      "\u001b[32m\u001b[1m  Updating\u001b[22m\u001b[39m git-repo `https://github.com/JuliaRegistries/General.git`\n",
      "\u001b[?25l\u001b[2K\u001b[?25h\u001b[32m\u001b[1mPrecompiling\u001b[22m\u001b[39m project...\n"
     ]
    }
   ],
   "source": [
    "using Pkg\n",
    "pkg\"activate .\"\n",
    "pkg\"instantiate\"\n",
    "pkg\"precompile\""
   ]
  },
  {
   "cell_type": "code",
   "execution_count": 2,
   "metadata": {},
   "outputs": [],
   "source": [
    "using PerlaTonettiWaugh, Plots, BenchmarkTools, CSV"
   ]
  },
  {
   "cell_type": "code",
   "execution_count": 3,
   "metadata": {},
   "outputs": [
    {
     "data": {
      "text/plain": [
       "Plots.GRBackend()"
      ]
     },
     "execution_count": 3,
     "metadata": {},
     "output_type": "execute_result"
    }
   ],
   "source": [
    "gr(fmt = :png)"
   ]
  },
  {
   "cell_type": "markdown",
   "metadata": {},
   "source": [
    "# Steady states"
   ]
  },
  {
   "cell_type": "markdown",
   "metadata": {},
   "source": [
    "## Solving steady state solutions"
   ]
  },
  {
   "cell_type": "markdown",
   "metadata": {},
   "source": [
    "Set up parameters and find the corresponding stationary solution:"
   ]
  },
  {
   "cell_type": "markdown",
   "metadata": {},
   "source": [
    "Below are the results from the **updated** matlab calibration with the corresponding letters. Here I added the $\\mu$ parameter in the calibration routine to fit the firm dynamic moments. Fit improved a lot and it generated a negative drift term which is what we need to keep S from going negative.\n"
   ]
  },
  {
   "cell_type": "code",
   "execution_count": 4,
   "metadata": {},
   "outputs": [
    {
     "data": {
      "text/plain": [
       "true"
      ]
     },
     "execution_count": 4,
     "metadata": {},
     "output_type": "execute_result"
    }
   ],
   "source": [
    "changed_parameters = true # set this to true if you drastically change the parameters"
   ]
  },
  {
   "cell_type": "markdown",
   "metadata": {},
   "source": [
    "Side note on previous version. Essentially, under this calibration, the parameters are very simmilar. Theta, chi, kappa are quite close to what we had in the prior version."
   ]
  },
  {
   "cell_type": "code",
   "execution_count": 5,
   "metadata": {
    "scrolled": true
   },
   "outputs": [],
   "source": [
    "# Define common objects. \n",
    "parameters = parameter_defaults()\n",
    "\n",
    "settings = settings_defaults()\n",
    "settings = merge(settings, (transition_penalty_coefficient = 1.0, ))\n",
    "z_grid = settings.z\n",
    "P = length(z_grid)\n",
    "\n",
    "d_0 = 1 + (parameters.d-1).*1.10 # Here is the 10 percent tariff increase\n",
    "d_T = parameters.d\n",
    "\n",
    "params_0 = merge(parameters, (d = d_0, )) # parameters to be used at t = 0\n",
    "params_T = merge(parameters, (d = d_T, )) # parameters to be used at t = T\n",
    "\n",
    "# initial value for numerical solver on (g, z_hat, Omega)\n",
    "initial_x = [0.02; 2; .57]\n",
    "\n",
    "# solve for stationary solution at t = 0\n",
    "stationary_sol_0 = stationary_algebraic(params_0, initial_x) # solution at t = 0\n",
    "stationary_sol = stationary_algebraic(params_T, initial_x) # solution at t = T\n",
    "\n",
    "Ω_0 = stationary_sol_0.Ω;\n",
    "Ω_T = stationary_sol.Ω;"
   ]
  },
  {
   "cell_type": "code",
   "execution_count": 6,
   "metadata": {},
   "outputs": [
    {
     "data": {
      "text/plain": [
       "3.17283"
      ]
     },
     "execution_count": 6,
     "metadata": {},
     "output_type": "execute_result"
    }
   ],
   "source": [
    "d_0 "
   ]
  },
  {
   "cell_type": "code",
   "execution_count": 7,
   "metadata": {},
   "outputs": [
    {
     "name": "stdout",
     "output_type": "stream",
     "text": [
      "40.75846634918868\n",
      "36.771724154009796\n",
      "0.11010701157463218\n",
      "0.11839165909489363\n"
     ]
    }
   ],
   "source": [
    "print(stationary_sol.U_bar(1),'\\n') \n",
    "print(stationary_sol_0.U_bar(1),'\\n')\n",
    "print(stationary_sol_0.S,'\\n')\n",
    "print(stationary_sol.S,'\\n')"
   ]
  },
  {
   "cell_type": "markdown",
   "metadata": {},
   "source": [
    "Note that $S$ is now well above zero, not like in the old calibrations. "
   ]
  },
  {
   "cell_type": "markdown",
   "metadata": {},
   "source": [
    "## Welfare in Steady States"
   ]
  },
  {
   "cell_type": "markdown",
   "metadata": {},
   "source": [
    "### Steady state at `T`"
   ]
  },
  {
   "cell_type": "code",
   "execution_count": 8,
   "metadata": {},
   "outputs": [
    {
     "data": {
      "text/plain": [
       "40.75846634918868"
      ]
     },
     "execution_count": 8,
     "metadata": {},
     "output_type": "execute_result"
    }
   ],
   "source": [
    "stationary_sol.U_bar(1)"
   ]
  },
  {
   "cell_type": "markdown",
   "metadata": {},
   "source": [
    "### Steady state at `0`"
   ]
  },
  {
   "cell_type": "code",
   "execution_count": 9,
   "metadata": {
    "scrolled": false
   },
   "outputs": [
    {
     "data": {
      "text/plain": [
       "36.771724154009796"
      ]
     },
     "execution_count": 9,
     "metadata": {},
     "output_type": "execute_result"
    }
   ],
   "source": [
    "stationary_sol_0.U_bar(1)"
   ]
  },
  {
   "cell_type": "markdown",
   "metadata": {},
   "source": [
    "### Outstanding Issue \\#1: Sensitivity of growth to trade.\n",
    "\n",
    "This is a big difference relative to previous version. As noted above, with parameter values that are quite similar to what we had before, the growth rate is changing a lot with only a very small change in trade flows. Why?"
   ]
  },
  {
   "cell_type": "code",
   "execution_count": 10,
   "metadata": {},
   "outputs": [
    {
     "name": "stdout",
     "output_type": "stream",
     "text": [
      "(stationary_sol.g, stationary_sol_0.g) = (0.020015751789702312, 0.018339070985779814)\n"
     ]
    }
   ],
   "source": [
    "@show stationary_sol.g, stationary_sol_0.g;"
   ]
  },
  {
   "cell_type": "markdown",
   "metadata": {},
   "source": [
    "---"
   ]
  },
  {
   "cell_type": "markdown",
   "metadata": {},
   "source": [
    "# Transition dynamics"
   ]
  },
  {
   "cell_type": "markdown",
   "metadata": {},
   "source": [
    "Setup for optimizer:"
   ]
  },
  {
   "cell_type": "code",
   "execution_count": 11,
   "metadata": {},
   "outputs": [],
   "source": [
    "settings = merge(settings, (params_T = params_T, stationary_sol_T = stationary_numerical(params_T, z_grid), Ω_0 = Ω_0, transition_iterations = 0, T = 75.0));"
   ]
  },
  {
   "cell_type": "markdown",
   "metadata": {},
   "source": [
    "Use the solution found with calibrated parameters above for `E`"
   ]
  },
  {
   "cell_type": "code",
   "execution_count": 48,
   "metadata": {},
   "outputs": [],
   "source": [
    "settings = merge(settings, (transition_x0 = zeros(30), transition_lb = -ones(30), transition_ub = zeros(30)));"
   ]
  },
  {
   "cell_type": "code",
   "execution_count": 49,
   "metadata": {},
   "outputs": [
    {
     "name": "stdout",
     "output_type": "stream",
     "text": [
      "Starting optimization with optimizer BlackBoxOptim.DiffEvoOpt{BlackBoxOptim.FitPopulation{Float64},BlackBoxOptim.RadiusLimitedSelector,BlackBoxOptim.AdaptiveDiffEvoRandBin{3},BlackBoxOptim.RandomBound{BlackBoxOptim.RangePerDimSearchSpace}}\n",
      "0.00 secs, 0 evals, 0 steps\n",
      "1.21 secs, 2 evals, 1 steps, fitness=0.023262031\n",
      "2.45 secs, 4 evals, 2 steps, improv/step: 0.500 (last = 1.0000), fitness=0.023262031\n",
      "4.21 secs, 6 evals, 3 steps, improv/step: 0.333 (last = 0.0000), fitness=0.023262031\n",
      "5.46 secs, 8 evals, 4 steps, improv/step: 0.250 (last = 0.0000), fitness=0.023262031\n",
      "6.49 secs, 10 evals, 5 steps, improv/step: 0.200 (last = 0.0000), fitness=0.023262031\n",
      "7.62 secs, 12 evals, 6 steps, improv/step: 0.333 (last = 1.0000), fitness=0.023262031\n",
      "8.87 secs, 14 evals, 7 steps, improv/step: 0.286 (last = 0.0000), fitness=0.023262031\n",
      "9.97 secs, 16 evals, 8 steps, improv/step: 0.375 (last = 1.0000), fitness=0.023262031\n",
      "11.56 secs, 18 evals, 9 steps, improv/step: 0.444 (last = 1.0000), fitness=0.023262031\n",
      "12.35 secs, 19 evals, 10 steps, improv/step: 0.500 (last = 1.0000), fitness=0.023262031\n",
      "13.61 secs, 21 evals, 11 steps, improv/step: 0.455 (last = 0.0000), fitness=0.023262031\n",
      "14.85 secs, 23 evals, 12 steps, improv/step: 0.500 (last = 1.0000), fitness=0.023262031\n",
      "16.01 secs, 25 evals, 13 steps, improv/step: 0.462 (last = 0.0000), fitness=0.023262031\n",
      "17.25 secs, 27 evals, 14 steps, improv/step: 0.429 (last = 0.0000), fitness=0.023262031\n",
      "17.95 secs, 28 evals, 15 steps, improv/step: 0.400 (last = 0.0000), fitness=0.023262031\n",
      "19.17 secs, 30 evals, 16 steps, improv/step: 0.438 (last = 1.0000), fitness=0.023262031\n",
      "20.73 secs, 32 evals, 17 steps, improv/step: 0.412 (last = 0.0000), fitness=0.023262031\n",
      "22.00 secs, 34 evals, 18 steps, improv/step: 0.389 (last = 0.0000), fitness=0.023262031\n",
      "23.51 secs, 36 evals, 19 steps, improv/step: 0.368 (last = 0.0000), fitness=0.023262031\n",
      "24.69 secs, 38 evals, 20 steps, improv/step: 0.350 (last = 0.0000), fitness=0.023262031\n",
      "25.94 secs, 40 evals, 21 steps, improv/step: 0.381 (last = 1.0000), fitness=0.023262031\n",
      "27.02 secs, 42 evals, 22 steps, improv/step: 0.364 (last = 0.0000), fitness=0.023262031\n",
      "28.74 secs, 44 evals, 23 steps, improv/step: 0.348 (last = 0.0000), fitness=0.023262031\n",
      "29.98 secs, 46 evals, 24 steps, improv/step: 0.333 (last = 0.0000), fitness=0.023262031\n",
      "31.44 secs, 48 evals, 25 steps, improv/step: 0.320 (last = 0.0000), fitness=0.023262031\n",
      "32.11 secs, 49 evals, 26 steps, improv/step: 0.308 (last = 0.0000), fitness=0.023262031\n",
      "33.43 secs, 51 evals, 27 steps, improv/step: 0.296 (last = 0.0000), fitness=0.023262031\n",
      "34.71 secs, 53 evals, 28 steps, improv/step: 0.286 (last = 0.0000), fitness=0.023262031\n",
      "35.93 secs, 55 evals, 29 steps, improv/step: 0.276 (last = 0.0000), fitness=0.023262031\n",
      "37.46 secs, 57 evals, 30 steps, improv/step: 0.300 (last = 1.0000), fitness=0.023183901\n",
      "38.83 secs, 59 evals, 31 steps, improv/step: 0.290 (last = 0.0000), fitness=0.023183901\n",
      "39.44 secs, 60 evals, 32 steps, improv/step: 0.281 (last = 0.0000), fitness=0.023183901\n",
      "40.61 secs, 62 evals, 33 steps, improv/step: 0.273 (last = 0.0000), fitness=0.023183901\n",
      "41.24 secs, 63 evals, 34 steps, improv/step: 0.265 (last = 0.0000), fitness=0.023183901\n",
      "42.63 secs, 65 evals, 35 steps, improv/step: 0.257 (last = 0.0000), fitness=0.023183901\n",
      "43.87 secs, 67 evals, 36 steps, improv/step: 0.278 (last = 1.0000), fitness=0.023183901\n",
      "44.47 secs, 68 evals, 37 steps, improv/step: 0.270 (last = 0.0000), fitness=0.023183901\n",
      "45.56 secs, 70 evals, 38 steps, improv/step: 0.289 (last = 1.0000), fitness=0.023183901\n",
      "46.94 secs, 72 evals, 39 steps, improv/step: 0.282 (last = 0.0000), fitness=0.023183901\n",
      "48.27 secs, 74 evals, 40 steps, improv/step: 0.275 (last = 0.0000), fitness=0.023183901\n",
      "49.62 secs, 76 evals, 41 steps, improv/step: 0.293 (last = 1.0000), fitness=0.023183901\n",
      "51.08 secs, 78 evals, 42 steps, improv/step: 0.286 (last = 0.0000), fitness=0.023183901\n",
      "52.30 secs, 80 evals, 43 steps, improv/step: 0.302 (last = 1.0000), fitness=0.023183901\n",
      "53.41 secs, 82 evals, 44 steps, improv/step: 0.318 (last = 1.0000), fitness=0.023183901\n",
      "54.11 secs, 83 evals, 45 steps, improv/step: 0.333 (last = 1.0000), fitness=0.023183901\n",
      "55.56 secs, 85 evals, 46 steps, improv/step: 0.326 (last = 0.0000), fitness=0.023183901\n",
      "56.20 secs, 86 evals, 47 steps, improv/step: 0.319 (last = 0.0000), fitness=0.023183901\n",
      "57.46 secs, 88 evals, 48 steps, improv/step: 0.313 (last = 0.0000), fitness=0.023183901\n",
      "58.00 secs, 89 evals, 49 steps, improv/step: 0.306 (last = 0.0000), fitness=0.023183901\n",
      "59.16 secs, 91 evals, 50 steps, improv/step: 0.300 (last = 0.0000), fitness=0.023183901\n",
      "60.78 secs, 93 evals, 51 steps, improv/step: 0.294 (last = 0.0000), fitness=0.023183901\n",
      "61.96 secs, 95 evals, 52 steps, improv/step: 0.288 (last = 0.0000), fitness=0.023183901\n",
      "63.34 secs, 97 evals, 53 steps, improv/step: 0.302 (last = 1.0000), fitness=0.023183901\n",
      "64.65 secs, 99 evals, 54 steps, improv/step: 0.296 (last = 0.0000), fitness=0.023183901\n",
      "65.34 secs, 100 evals, 55 steps, improv/step: 0.309 (last = 1.0000), fitness=0.023183901\n",
      "66.48 secs, 102 evals, 56 steps, improv/step: 0.321 (last = 1.0000), fitness=0.023183901\n",
      "67.85 secs, 104 evals, 57 steps, improv/step: 0.333 (last = 1.0000), fitness=0.022793598\n",
      "69.36 secs, 106 evals, 58 steps, improv/step: 0.345 (last = 1.0000), fitness=0.022793598\n",
      "70.57 secs, 108 evals, 59 steps, improv/step: 0.356 (last = 1.0000), fitness=0.022793598\n",
      "71.11 secs, 109 evals, 60 steps, improv/step: 0.367 (last = 1.0000), fitness=0.022793598\n",
      "72.66 secs, 111 evals, 61 steps, improv/step: 0.377 (last = 1.0000), fitness=0.022793598\n",
      "74.17 secs, 113 evals, 62 steps, improv/step: 0.371 (last = 0.0000), fitness=0.022793598\n",
      "75.32 secs, 115 evals, 63 steps, improv/step: 0.365 (last = 0.0000), fitness=0.022793598\n",
      "75.88 secs, 116 evals, 64 steps, improv/step: 0.359 (last = 0.0000), fitness=0.022793598\n",
      "77.12 secs, 118 evals, 65 steps, improv/step: 0.369 (last = 1.0000), fitness=0.022793598\n",
      "78.45 secs, 120 evals, 66 steps, improv/step: 0.379 (last = 1.0000), fitness=0.022793598\n",
      "79.81 secs, 122 evals, 67 steps, improv/step: 0.388 (last = 1.0000), fitness=0.022793598\n",
      "80.38 secs, 123 evals, 68 steps, improv/step: 0.397 (last = 1.0000), fitness=0.022793598\n",
      "81.61 secs, 125 evals, 69 steps, improv/step: 0.391 (last = 0.0000), fitness=0.022793598\n",
      "83.01 secs, 127 evals, 70 steps, improv/step: 0.400 (last = 1.0000), fitness=0.022793598\n",
      "84.34 secs, 129 evals, 71 steps, improv/step: 0.408 (last = 1.0000), fitness=0.022793598\n",
      "85.50 secs, 131 evals, 72 steps, improv/step: 0.403 (last = 0.0000), fitness=0.022793598\n",
      "86.05 secs, 132 evals, 73 steps, improv/step: 0.397 (last = 0.0000), fitness=0.022793598\n",
      "86.67 secs, 133 evals, 74 steps, improv/step: 0.392 (last = 0.0000), fitness=0.022793598\n",
      "87.43 secs, 134 evals, 75 steps, improv/step: 0.387 (last = 0.0000), fitness=0.022793598\n",
      "88.09 secs, 135 evals, 76 steps, improv/step: 0.382 (last = 0.0000), fitness=0.022793598\n",
      "88.78 secs, 136 evals, 77 steps, improv/step: 0.390 (last = 1.0000), fitness=0.022793598\n",
      "89.53 secs, 137 evals, 78 steps, improv/step: 0.385 (last = 0.0000), fitness=0.022793598\n",
      "90.67 secs, 139 evals, 79 steps, improv/step: 0.392 (last = 1.0000), fitness=0.022793598\n",
      "91.44 secs, 140 evals, 80 steps, improv/step: 0.388 (last = 0.0000), fitness=0.022793598\n",
      "92.20 secs, 141 evals, 81 steps, improv/step: 0.383 (last = 0.0000), fitness=0.022793598\n",
      "93.73 secs, 143 evals, 82 steps, improv/step: 0.378 (last = 0.0000), fitness=0.022793598\n",
      "95.27 secs, 145 evals, 83 steps, improv/step: 0.373 (last = 0.0000), fitness=0.022793598\n",
      "96.56 secs, 147 evals, 84 steps, improv/step: 0.381 (last = 1.0000), fitness=0.022793598\n",
      "97.84 secs, 149 evals, 85 steps, improv/step: 0.388 (last = 1.0000), fitness=0.022793598\n",
      "98.59 secs, 150 evals, 86 steps, improv/step: 0.395 (last = 1.0000), fitness=0.022793598\n",
      "99.79 secs, 152 evals, 87 steps, improv/step: 0.391 (last = 0.0000), fitness=0.022793598\n",
      "100.31 secs, 153 evals, 88 steps, improv/step: 0.386 (last = 0.0000), fitness=0.022793598\n",
      "101.01 secs, 154 evals, 89 steps, improv/step: 0.393 (last = 1.0000), fitness=0.022793598\n",
      "102.30 secs, 156 evals, 90 steps, improv/step: 0.400 (last = 1.0000), fitness=0.022793598\n",
      "102.94 secs, 157 evals, 91 steps, improv/step: 0.396 (last = 0.0000), fitness=0.022793598\n",
      "104.12 secs, 159 evals, 92 steps, improv/step: 0.402 (last = 1.0000), fitness=0.022793598\n",
      "104.73 secs, 160 evals, 93 steps, improv/step: 0.398 (last = 0.0000), fitness=0.022793598\n",
      "105.37 secs, 161 evals, 94 steps, improv/step: 0.394 (last = 0.0000), fitness=0.022793598\n",
      "105.99 secs, 162 evals, 95 steps, improv/step: 0.389 (last = 0.0000), fitness=0.022793598\n",
      "106.69 secs, 163 evals, 96 steps, improv/step: 0.385 (last = 0.0000), fitness=0.022793598\n",
      "108.02 secs, 165 evals, 97 steps, improv/step: 0.381 (last = 0.0000), fitness=0.022793598\n",
      "109.19 secs, 167 evals, 98 steps, improv/step: 0.388 (last = 1.0000), fitness=0.022793598\n",
      "109.97 secs, 168 evals, 99 steps, improv/step: 0.384 (last = 0.0000), fitness=0.022793598\n",
      "110.59 secs, 169 evals, 100 steps, improv/step: 0.390 (last = 1.0000), fitness=0.022793598\n",
      "111.85 secs, 171 evals, 101 steps, improv/step: 0.386 (last = 0.0000), fitness=0.022793598\n",
      "112.59 secs, 172 evals, 102 steps, improv/step: 0.392 (last = 1.0000), fitness=0.022183635\n",
      "113.71 secs, 174 evals, 103 steps, improv/step: 0.388 (last = 0.0000), fitness=0.022183635\n",
      "114.32 secs, 175 evals, 104 steps, improv/step: 0.394 (last = 1.0000), fitness=0.022183635\n",
      "114.94 secs, 176 evals, 105 steps, improv/step: 0.400 (last = 1.0000), fitness=0.022183635\n",
      "115.71 secs, 177 evals, 106 steps, improv/step: 0.396 (last = 0.0000), fitness=0.022183635\n",
      "116.29 secs, 178 evals, 107 steps, improv/step: 0.393 (last = 0.0000), fitness=0.022183635\n",
      "116.97 secs, 179 evals, 108 steps, improv/step: 0.389 (last = 0.0000), fitness=0.022183635\n",
      "117.52 secs, 180 evals, 109 steps, improv/step: 0.385 (last = 0.0000), fitness=0.022183635\n",
      "118.96 secs, 182 evals, 110 steps, improv/step: 0.391 (last = 1.0000), fitness=0.022183635\n",
      "120.03 secs, 184 evals, 111 steps, improv/step: 0.387 (last = 0.0000), fitness=0.022183635\n",
      "120.63 secs, 185 evals, 112 steps, improv/step: 0.384 (last = 0.0000), fitness=0.022183635\n",
      "121.36 secs, 186 evals, 113 steps, improv/step: 0.381 (last = 0.0000), fitness=0.022183635\n",
      "121.95 secs, 187 evals, 114 steps, improv/step: 0.377 (last = 0.0000), fitness=0.022183635\n",
      "122.86 secs, 188 evals, 115 steps, improv/step: 0.374 (last = 0.0000), fitness=0.022183635\n",
      "124.23 secs, 190 evals, 116 steps, improv/step: 0.371 (last = 0.0000), fitness=0.022183635\n",
      "124.99 secs, 191 evals, 117 steps, improv/step: 0.368 (last = 0.0000), fitness=0.022183635\n",
      "126.43 secs, 193 evals, 118 steps, improv/step: 0.373 (last = 1.0000), fitness=0.022183635\n",
      "127.04 secs, 194 evals, 119 steps, improv/step: 0.370 (last = 0.0000), fitness=0.022183635\n",
      "128.43 secs, 196 evals, 120 steps, improv/step: 0.367 (last = 0.0000), fitness=0.022183635\n",
      "129.05 secs, 197 evals, 121 steps, improv/step: 0.372 (last = 1.0000), fitness=0.022183635\n",
      "129.75 secs, 198 evals, 122 steps, improv/step: 0.377 (last = 1.0000), fitness=0.020654727\n",
      "130.82 secs, 200 evals, 123 steps, improv/step: 0.382 (last = 1.0000), fitness=0.020654727\n",
      "131.44 secs, 201 evals, 124 steps, improv/step: 0.387 (last = 1.0000), fitness=0.020654727\n",
      "132.20 secs, 202 evals, 125 steps, improv/step: 0.384 (last = 0.0000), fitness=0.020654727\n",
      "132.74 secs, 203 evals, 126 steps, improv/step: 0.381 (last = 0.0000), fitness=0.020654727\n",
      "133.51 secs, 204 evals, 127 steps, improv/step: 0.386 (last = 1.0000), fitness=0.020654727\n",
      "134.06 secs, 205 evals, 128 steps, improv/step: 0.383 (last = 0.0000), fitness=0.020654727\n",
      "135.32 secs, 207 evals, 129 steps, improv/step: 0.380 (last = 0.0000), fitness=0.020654727\n",
      "135.88 secs, 208 evals, 130 steps, improv/step: 0.377 (last = 0.0000), fitness=0.020654727\n",
      "136.50 secs, 209 evals, 131 steps, improv/step: 0.382 (last = 1.0000), fitness=0.020654727\n",
      "137.88 secs, 211 evals, 132 steps, improv/step: 0.386 (last = 1.0000), fitness=0.020654727\n",
      "138.59 secs, 212 evals, 133 steps, improv/step: 0.383 (last = 0.0000), fitness=0.020654727\n",
      "139.23 secs, 213 evals, 134 steps, improv/step: 0.381 (last = 0.0000), fitness=0.020654727\n",
      "139.77 secs, 214 evals, 135 steps, improv/step: 0.378 (last = 0.0000), fitness=0.020654727\n",
      "141.00 secs, 216 evals, 136 steps, improv/step: 0.382 (last = 1.0000), fitness=0.020654727\n",
      "141.68 secs, 217 evals, 137 steps, improv/step: 0.387 (last = 1.0000), fitness=0.020654727\n",
      "142.23 secs, 218 evals, 138 steps, improv/step: 0.384 (last = 0.0000), fitness=0.020654727\n",
      "142.97 secs, 219 evals, 139 steps, improv/step: 0.381 (last = 0.0000), fitness=0.020654727\n",
      "143.58 secs, 220 evals, 140 steps, improv/step: 0.386 (last = 1.0000), fitness=0.020654727\n",
      "144.18 secs, 221 evals, 141 steps, improv/step: 0.383 (last = 0.0000), fitness=0.020654727\n",
      "145.30 secs, 223 evals, 142 steps, improv/step: 0.387 (last = 1.0000), fitness=0.020654727\n",
      "146.19 secs, 224 evals, 143 steps, improv/step: 0.385 (last = 0.0000), fitness=0.020654727\n",
      "146.80 secs, 225 evals, 144 steps, improv/step: 0.382 (last = 0.0000), fitness=0.020654727\n",
      "147.32 secs, 226 evals, 145 steps, improv/step: 0.379 (last = 0.0000), fitness=0.020654727\n",
      "148.06 secs, 227 evals, 146 steps, improv/step: 0.377 (last = 0.0000), fitness=0.020654727\n",
      "148.82 secs, 228 evals, 147 steps, improv/step: 0.381 (last = 1.0000), fitness=0.020654727\n",
      "149.52 secs, 229 evals, 148 steps, improv/step: 0.378 (last = 0.0000), fitness=0.020654727\n",
      "150.06 secs, 230 evals, 149 steps, improv/step: 0.383 (last = 1.0000), fitness=0.020654727\n",
      "150.82 secs, 231 evals, 150 steps, improv/step: 0.380 (last = 0.0000), fitness=0.020654727\n",
      "151.44 secs, 232 evals, 151 steps, improv/step: 0.384 (last = 1.0000), fitness=0.020654727\n",
      "152.19 secs, 233 evals, 152 steps, improv/step: 0.382 (last = 0.0000), fitness=0.020654727\n",
      "152.78 secs, 234 evals, 153 steps, improv/step: 0.379 (last = 0.0000), fitness=0.020654727\n",
      "153.33 secs, 235 evals, 154 steps, improv/step: 0.377 (last = 0.0000), fitness=0.020654727\n",
      "154.03 secs, 236 evals, 155 steps, improv/step: 0.374 (last = 0.0000), fitness=0.020654727\n",
      "154.65 secs, 237 evals, 156 steps, improv/step: 0.372 (last = 0.0000), fitness=0.020654727\n",
      "155.93 secs, 239 evals, 157 steps, improv/step: 0.376 (last = 1.0000), fitness=0.020654727\n",
      "156.46 secs, 240 evals, 158 steps, improv/step: 0.373 (last = 0.0000), fitness=0.020654727\n",
      "157.30 secs, 241 evals, 159 steps, improv/step: 0.371 (last = 0.0000), fitness=0.020654727\n",
      "157.91 secs, 242 evals, 160 steps, improv/step: 0.369 (last = 0.0000), fitness=0.020654727\n",
      "158.44 secs, 243 evals, 161 steps, improv/step: 0.366 (last = 0.0000), fitness=0.020654727\n",
      "159.78 secs, 245 evals, 162 steps, improv/step: 0.370 (last = 1.0000), fitness=0.020654727\n",
      "160.30 secs, 246 evals, 163 steps, improv/step: 0.374 (last = 1.0000), fitness=0.020654727\n",
      "161.42 secs, 248 evals, 164 steps, improv/step: 0.378 (last = 1.0000), fitness=0.020654727\n",
      "162.17 secs, 249 evals, 165 steps, improv/step: 0.376 (last = 0.0000), fitness=0.020654727\n",
      "162.77 secs, 250 evals, 166 steps, improv/step: 0.373 (last = 0.0000), fitness=0.020654727\n",
      "163.53 secs, 251 evals, 167 steps, improv/step: 0.371 (last = 0.0000), fitness=0.020654727\n",
      "164.13 secs, 252 evals, 168 steps, improv/step: 0.369 (last = 0.0000), fitness=0.020654727\n",
      "164.80 secs, 253 evals, 169 steps, improv/step: 0.367 (last = 0.0000), fitness=0.020654727\n",
      "165.62 secs, 254 evals, 170 steps, improv/step: 0.365 (last = 0.0000), fitness=0.020654727\n",
      "166.16 secs, 255 evals, 171 steps, improv/step: 0.363 (last = 0.0000), fitness=0.020654727\n",
      "167.51 secs, 257 evals, 172 steps, improv/step: 0.360 (last = 0.0000), fitness=0.020654727\n",
      "168.04 secs, 258 evals, 173 steps, improv/step: 0.358 (last = 0.0000), fitness=0.020654727\n",
      "168.84 secs, 259 evals, 174 steps, improv/step: 0.356 (last = 0.0000), fitness=0.020654727\n",
      "169.38 secs, 260 evals, 175 steps, improv/step: 0.354 (last = 0.0000), fitness=0.020654727\n",
      "170.20 secs, 261 evals, 176 steps, improv/step: 0.358 (last = 1.0000), fitness=0.020410116\n",
      "171.39 secs, 263 evals, 177 steps, improv/step: 0.362 (last = 1.0000), fitness=0.020410116\n",
      "171.99 secs, 264 evals, 178 steps, improv/step: 0.360 (last = 0.0000), fitness=0.020410116\n",
      "173.16 secs, 266 evals, 179 steps, improv/step: 0.358 (last = 0.0000), fitness=0.020410116\n",
      "173.68 secs, 267 evals, 180 steps, improv/step: 0.361 (last = 1.0000), fitness=0.020410116\n",
      "174.97 secs, 269 evals, 181 steps, improv/step: 0.359 (last = 0.0000), fitness=0.020410116\n",
      "175.57 secs, 270 evals, 182 steps, improv/step: 0.357 (last = 0.0000), fitness=0.020410116\n",
      "176.31 secs, 271 evals, 183 steps, improv/step: 0.361 (last = 1.0000), fitness=0.020410116\n",
      "176.92 secs, 272 evals, 184 steps, improv/step: 0.364 (last = 1.0000), fitness=0.019823492\n",
      "177.70 secs, 273 evals, 185 steps, improv/step: 0.362 (last = 0.0000), fitness=0.019823492\n",
      "178.62 secs, 274 evals, 186 steps, improv/step: 0.366 (last = 1.0000), fitness=0.019823492\n",
      "179.29 secs, 275 evals, 187 steps, improv/step: 0.369 (last = 1.0000), fitness=0.019823492\n",
      "180.70 secs, 277 evals, 188 steps, improv/step: 0.367 (last = 0.0000), fitness=0.019823492\n",
      "181.28 secs, 278 evals, 189 steps, improv/step: 0.365 (last = 0.0000), fitness=0.019823492\n",
      "182.74 secs, 280 evals, 190 steps, improv/step: 0.368 (last = 1.0000), fitness=0.019823492\n",
      "184.09 secs, 282 evals, 191 steps, improv/step: 0.372 (last = 1.0000), fitness=0.019823492\n",
      "184.83 secs, 283 evals, 192 steps, improv/step: 0.370 (last = 0.0000), fitness=0.019823492\n",
      "185.53 secs, 284 evals, 193 steps, improv/step: 0.373 (last = 1.0000), fitness=0.019823492\n",
      "186.06 secs, 285 evals, 194 steps, improv/step: 0.371 (last = 0.0000), fitness=0.019823492\n",
      "186.77 secs, 286 evals, 195 steps, improv/step: 0.374 (last = 1.0000), fitness=0.019823492\n",
      "187.40 secs, 287 evals, 196 steps, improv/step: 0.372 (last = 0.0000), fitness=0.019823492\n",
      "188.00 secs, 288 evals, 197 steps, improv/step: 0.371 (last = 0.0000), fitness=0.019823492\n",
      "188.62 secs, 289 evals, 198 steps, improv/step: 0.369 (last = 0.0000), fitness=0.019823492\n",
      "189.22 secs, 290 evals, 199 steps, improv/step: 0.372 (last = 1.0000), fitness=0.019823492\n",
      "189.98 secs, 291 evals, 200 steps, improv/step: 0.370 (last = 0.0000), fitness=0.019823492\n",
      "190.71 secs, 292 evals, 201 steps, improv/step: 0.373 (last = 1.0000), fitness=0.019823492\n",
      "191.32 secs, 293 evals, 202 steps, improv/step: 0.371 (last = 0.0000), fitness=0.019823492\n",
      "191.84 secs, 294 evals, 203 steps, improv/step: 0.369 (last = 0.0000), fitness=0.019823492\n",
      "192.43 secs, 295 evals, 204 steps, improv/step: 0.368 (last = 0.0000), fitness=0.019823492\n",
      "193.04 secs, 296 evals, 205 steps, improv/step: 0.366 (last = 0.0000), fitness=0.019823492\n",
      "193.65 secs, 297 evals, 206 steps, improv/step: 0.364 (last = 0.0000), fitness=0.019823492\n",
      "194.37 secs, 298 evals, 207 steps, improv/step: 0.367 (last = 1.0000), fitness=0.019823492\n",
      "195.03 secs, 299 evals, 208 steps, improv/step: 0.365 (last = 0.0000), fitness=0.019823492\n",
      "195.62 secs, 300 evals, 209 steps, improv/step: 0.368 (last = 1.0000), fitness=0.019823492\n",
      "196.13 secs, 301 evals, 210 steps, improv/step: 0.371 (last = 1.0000), fitness=0.019823492\n",
      "197.34 secs, 303 evals, 211 steps, improv/step: 0.374 (last = 1.0000), fitness=0.019823492\n",
      "198.49 secs, 305 evals, 212 steps, improv/step: 0.377 (last = 1.0000), fitness=0.019823492\n",
      "199.02 secs, 306 evals, 213 steps, improv/step: 0.376 (last = 0.0000), fitness=0.019823492\n",
      "199.55 secs, 307 evals, 214 steps, improv/step: 0.374 (last = 0.0000), fitness=0.019823492\n",
      "200.16 secs, 308 evals, 215 steps, improv/step: 0.372 (last = 0.0000), fitness=0.019823492\n",
      "200.68 secs, 309 evals, 216 steps, improv/step: 0.370 (last = 0.0000), fitness=0.019823492\n",
      "201.22 secs, 310 evals, 217 steps, improv/step: 0.373 (last = 1.0000), fitness=0.019823492\n",
      "201.83 secs, 311 evals, 218 steps, improv/step: 0.372 (last = 0.0000), fitness=0.019823492\n",
      "202.51 secs, 312 evals, 219 steps, improv/step: 0.370 (last = 0.0000), fitness=0.019823492\n",
      "203.11 secs, 313 evals, 220 steps, improv/step: 0.368 (last = 0.0000), fitness=0.019823492\n",
      "203.64 secs, 314 evals, 221 steps, improv/step: 0.367 (last = 0.0000), fitness=0.019823492\n",
      "204.17 secs, 315 evals, 222 steps, improv/step: 0.365 (last = 0.0000), fitness=0.019823492\n",
      "204.91 secs, 316 evals, 223 steps, improv/step: 0.368 (last = 1.0000), fitness=0.019823492\n",
      "205.45 secs, 317 evals, 224 steps, improv/step: 0.366 (last = 0.0000), fitness=0.019823492\n",
      "206.71 secs, 319 evals, 225 steps, improv/step: 0.364 (last = 0.0000), fitness=0.019823492\n",
      "208.04 secs, 321 evals, 226 steps, improv/step: 0.363 (last = 0.0000), fitness=0.019823492\n",
      "208.65 secs, 322 evals, 227 steps, improv/step: 0.361 (last = 0.0000), fitness=0.019823492\n",
      "209.41 secs, 323 evals, 228 steps, improv/step: 0.360 (last = 0.0000), fitness=0.019823492\n",
      "210.10 secs, 324 evals, 229 steps, improv/step: 0.358 (last = 0.0000), fitness=0.019823492\n",
      "211.43 secs, 326 evals, 230 steps, improv/step: 0.357 (last = 0.0000), fitness=0.019823492\n",
      "212.10 secs, 327 evals, 231 steps, improv/step: 0.359 (last = 1.0000), fitness=0.019823492\n",
      "212.68 secs, 328 evals, 232 steps, improv/step: 0.358 (last = 0.0000), fitness=0.019823492\n",
      "213.44 secs, 329 evals, 233 steps, improv/step: 0.361 (last = 1.0000), fitness=0.019823492\n",
      "213.98 secs, 330 evals, 234 steps, improv/step: 0.359 (last = 0.0000), fitness=0.019823492\n",
      "214.92 secs, 331 evals, 235 steps, improv/step: 0.357 (last = 0.0000), fitness=0.019823492\n",
      "215.45 secs, 332 evals, 236 steps, improv/step: 0.356 (last = 0.0000), fitness=0.019823492\n",
      "215.98 secs, 333 evals, 237 steps, improv/step: 0.354 (last = 0.0000), fitness=0.019823492\n",
      "216.59 secs, 334 evals, 238 steps, improv/step: 0.357 (last = 1.0000), fitness=0.019823492\n",
      "217.12 secs, 335 evals, 239 steps, improv/step: 0.356 (last = 0.0000), fitness=0.019823492\n",
      "217.87 secs, 336 evals, 240 steps, improv/step: 0.358 (last = 1.0000), fitness=0.019823492\n",
      "218.62 secs, 337 evals, 241 steps, improv/step: 0.357 (last = 0.0000), fitness=0.019823492\n",
      "219.22 secs, 338 evals, 242 steps, improv/step: 0.360 (last = 1.0000), fitness=0.019823492\n",
      "219.97 secs, 339 evals, 243 steps, improv/step: 0.362 (last = 1.0000), fitness=0.019823492\n",
      "220.70 secs, 340 evals, 244 steps, improv/step: 0.361 (last = 0.0000), fitness=0.019823492\n",
      "221.30 secs, 341 evals, 245 steps, improv/step: 0.359 (last = 0.0000), fitness=0.019823492\n",
      "222.00 secs, 342 evals, 246 steps, improv/step: 0.358 (last = 0.0000), fitness=0.019823492\n",
      "222.52 secs, 343 evals, 247 steps, improv/step: 0.356 (last = 0.0000), fitness=0.019823492\n",
      "223.84 secs, 345 evals, 248 steps, improv/step: 0.355 (last = 0.0000), fitness=0.019823492\n",
      "224.44 secs, 346 evals, 249 steps, improv/step: 0.353 (last = 0.0000), fitness=0.019823492\n",
      "224.99 secs, 347 evals, 250 steps, improv/step: 0.352 (last = 0.0000), fitness=0.019823492\n",
      "225.92 secs, 348 evals, 251 steps, improv/step: 0.351 (last = 0.0000), fitness=0.019823492\n",
      "227.34 secs, 350 evals, 252 steps, improv/step: 0.349 (last = 0.0000), fitness=0.019823492\n",
      "227.87 secs, 351 evals, 253 steps, improv/step: 0.352 (last = 1.0000), fitness=0.019823492\n",
      "229.23 secs, 353 evals, 254 steps, improv/step: 0.354 (last = 1.0000), fitness=0.019823492\n",
      "229.79 secs, 354 evals, 255 steps, improv/step: 0.357 (last = 1.0000), fitness=0.019823492\n",
      "230.38 secs, 355 evals, 256 steps, improv/step: 0.359 (last = 1.0000), fitness=0.019197699\n",
      "230.97 secs, 356 evals, 257 steps, improv/step: 0.358 (last = 0.0000), fitness=0.019197699\n",
      "231.70 secs, 357 evals, 258 steps, improv/step: 0.360 (last = 1.0000), fitness=0.019197699\n",
      "232.22 secs, 358 evals, 259 steps, improv/step: 0.359 (last = 0.0000), fitness=0.019197699\n",
      "232.96 secs, 359 evals, 260 steps, improv/step: 0.358 (last = 0.0000), fitness=0.019197699\n",
      "233.55 secs, 360 evals, 261 steps, improv/step: 0.356 (last = 0.0000), fitness=0.019197699\n",
      "234.29 secs, 361 evals, 262 steps, improv/step: 0.355 (last = 0.0000), fitness=0.019197699\n",
      "234.88 secs, 362 evals, 263 steps, improv/step: 0.357 (last = 1.0000), fitness=0.019197699\n",
      "235.62 secs, 363 evals, 264 steps, improv/step: 0.356 (last = 0.0000), fitness=0.019197699\n",
      "236.40 secs, 364 evals, 265 steps, improv/step: 0.355 (last = 0.0000), fitness=0.019197699\n",
      "237.09 secs, 365 evals, 266 steps, improv/step: 0.353 (last = 0.0000), fitness=0.019197699\n",
      "237.86 secs, 366 evals, 267 steps, improv/step: 0.352 (last = 0.0000), fitness=0.019197699\n",
      "238.58 secs, 367 evals, 268 steps, improv/step: 0.351 (last = 0.0000), fitness=0.019197699\n",
      "239.25 secs, 368 evals, 269 steps, improv/step: 0.353 (last = 1.0000), fitness=0.019197699\n",
      "239.90 secs, 369 evals, 270 steps, improv/step: 0.352 (last = 0.0000), fitness=0.019197699\n",
      "240.64 secs, 370 evals, 271 steps, improv/step: 0.351 (last = 0.0000), fitness=0.019197699\n",
      "241.25 secs, 371 evals, 272 steps, improv/step: 0.349 (last = 0.0000), fitness=0.019197699\n",
      "241.92 secs, 372 evals, 273 steps, improv/step: 0.348 (last = 0.0000), fitness=0.019197699\n",
      "242.51 secs, 373 evals, 274 steps, improv/step: 0.347 (last = 0.0000), fitness=0.019197699\n",
      "243.25 secs, 374 evals, 275 steps, improv/step: 0.345 (last = 0.0000), fitness=0.019197699\n",
      "243.84 secs, 375 evals, 276 steps, improv/step: 0.344 (last = 0.0000), fitness=0.019197699\n",
      "244.49 secs, 376 evals, 277 steps, improv/step: 0.343 (last = 0.0000), fitness=0.019197699\n",
      "245.08 secs, 377 evals, 278 steps, improv/step: 0.342 (last = 0.0000), fitness=0.019197699\n",
      "245.82 secs, 378 evals, 279 steps, improv/step: 0.344 (last = 1.0000), fitness=0.019197699\n",
      "246.40 secs, 379 evals, 280 steps, improv/step: 0.346 (last = 1.0000), fitness=0.019197699\n",
      "247.08 secs, 380 evals, 281 steps, improv/step: 0.345 (last = 0.0000), fitness=0.019197699\n",
      "247.75 secs, 381 evals, 282 steps, improv/step: 0.348 (last = 1.0000), fitness=0.019197699\n",
      "248.42 secs, 382 evals, 283 steps, improv/step: 0.346 (last = 0.0000), fitness=0.019197699\n",
      "249.05 secs, 383 evals, 284 steps, improv/step: 0.345 (last = 0.0000), fitness=0.019197699\n",
      "250.46 secs, 385 evals, 285 steps, improv/step: 0.344 (last = 0.0000), fitness=0.019197699\n",
      "251.08 secs, 386 evals, 286 steps, improv/step: 0.343 (last = 0.0000), fitness=0.019197699\n",
      "251.63 secs, 387 evals, 287 steps, improv/step: 0.341 (last = 0.0000), fitness=0.019197699\n",
      "252.24 secs, 388 evals, 288 steps, improv/step: 0.344 (last = 1.0000), fitness=0.019197699\n",
      "253.38 secs, 390 evals, 289 steps, improv/step: 0.343 (last = 0.0000), fitness=0.019197699\n",
      "254.43 secs, 392 evals, 290 steps, improv/step: 0.341 (last = 0.0000), fitness=0.019197699\n",
      "255.03 secs, 393 evals, 291 steps, improv/step: 0.344 (last = 1.0000), fitness=0.019197699\n",
      "255.76 secs, 394 evals, 292 steps, improv/step: 0.342 (last = 0.0000), fitness=0.019197699\n",
      "256.38 secs, 395 evals, 293 steps, improv/step: 0.341 (last = 0.0000), fitness=0.019197699\n",
      "256.91 secs, 396 evals, 294 steps, improv/step: 0.340 (last = 0.0000), fitness=0.019197699\n",
      "257.65 secs, 397 evals, 295 steps, improv/step: 0.342 (last = 1.0000), fitness=0.019153031\n",
      "258.38 secs, 398 evals, 296 steps, improv/step: 0.345 (last = 1.0000), fitness=0.019153031\n",
      "259.05 secs, 399 evals, 297 steps, improv/step: 0.343 (last = 0.0000), fitness=0.019153031\n",
      "259.78 secs, 400 evals, 298 steps, improv/step: 0.342 (last = 0.0000), fitness=0.019153031\n",
      "260.29 secs, 401 evals, 299 steps, improv/step: 0.341 (last = 0.0000), fitness=0.019153031\n",
      "260.95 secs, 402 evals, 300 steps, improv/step: 0.340 (last = 0.0000), fitness=0.019153031\n",
      "261.54 secs, 403 evals, 301 steps, improv/step: 0.342 (last = 1.0000), fitness=0.019153031\n",
      "262.27 secs, 404 evals, 302 steps, improv/step: 0.341 (last = 0.0000), fitness=0.019153031\n",
      "263.09 secs, 405 evals, 303 steps, improv/step: 0.343 (last = 1.0000), fitness=0.019153031\n",
      "263.84 secs, 406 evals, 304 steps, improv/step: 0.345 (last = 1.0000), fitness=0.019153031\n",
      "264.95 secs, 408 evals, 305 steps, improv/step: 0.344 (last = 0.0000), fitness=0.019153031\n",
      "266.30 secs, 410 evals, 306 steps, improv/step: 0.343 (last = 0.0000), fitness=0.019153031\n",
      "267.05 secs, 411 evals, 307 steps, improv/step: 0.342 (last = 0.0000), fitness=0.019153031\n",
      "267.81 secs, 412 evals, 308 steps, improv/step: 0.344 (last = 1.0000), fitness=0.019153031\n",
      "268.42 secs, 413 evals, 309 steps, improv/step: 0.343 (last = 0.0000), fitness=0.019153031\n",
      "269.01 secs, 414 evals, 310 steps, improv/step: 0.342 (last = 0.0000), fitness=0.019153031\n",
      "269.60 secs, 415 evals, 311 steps, improv/step: 0.341 (last = 0.0000), fitness=0.019153031\n",
      "270.35 secs, 416 evals, 312 steps, improv/step: 0.343 (last = 1.0000), fitness=0.019153031\n",
      "270.90 secs, 417 evals, 313 steps, improv/step: 0.342 (last = 0.0000), fitness=0.019153031\n",
      "271.65 secs, 418 evals, 314 steps, improv/step: 0.341 (last = 0.0000), fitness=0.019153031\n",
      "272.42 secs, 419 evals, 315 steps, improv/step: 0.340 (last = 0.0000), fitness=0.019153031\n",
      "273.01 secs, 420 evals, 316 steps, improv/step: 0.339 (last = 0.0000), fitness=0.019153031\n",
      "273.61 secs, 421 evals, 317 steps, improv/step: 0.338 (last = 0.0000), fitness=0.019153031\n",
      "274.20 secs, 422 evals, 318 steps, improv/step: 0.340 (last = 1.0000), fitness=0.019153031\n",
      "274.98 secs, 423 evals, 319 steps, improv/step: 0.339 (last = 0.0000), fitness=0.019153031\n",
      "275.60 secs, 424 evals, 320 steps, improv/step: 0.341 (last = 1.0000), fitness=0.019153031\n",
      "276.87 secs, 426 evals, 321 steps, improv/step: 0.340 (last = 0.0000), fitness=0.019153031\n",
      "277.60 secs, 427 evals, 322 steps, improv/step: 0.339 (last = 0.0000), fitness=0.019153031\n",
      "278.87 secs, 429 evals, 323 steps, improv/step: 0.341 (last = 1.0000), fitness=0.019153031\n",
      "279.42 secs, 430 evals, 324 steps, improv/step: 0.340 (last = 0.0000), fitness=0.019153031\n",
      "280.01 secs, 431 evals, 325 steps, improv/step: 0.338 (last = 0.0000), fitness=0.019153031\n",
      "280.61 secs, 432 evals, 326 steps, improv/step: 0.337 (last = 0.0000), fitness=0.019153031\n",
      "281.16 secs, 433 evals, 327 steps, improv/step: 0.336 (last = 0.0000), fitness=0.019153031\n",
      "281.88 secs, 434 evals, 328 steps, improv/step: 0.338 (last = 1.0000), fitness=0.018361682\n",
      "282.41 secs, 435 evals, 329 steps, improv/step: 0.337 (last = 0.0000), fitness=0.018361682\n",
      "283.01 secs, 436 evals, 330 steps, improv/step: 0.336 (last = 0.0000), fitness=0.018361682\n",
      "283.78 secs, 437 evals, 331 steps, improv/step: 0.335 (last = 0.0000), fitness=0.018361682\n",
      "284.31 secs, 438 evals, 332 steps, improv/step: 0.334 (last = 0.0000), fitness=0.018361682\n",
      "285.08 secs, 439 evals, 333 steps, improv/step: 0.336 (last = 1.0000), fitness=0.018138802\n",
      "285.78 secs, 440 evals, 334 steps, improv/step: 0.335 (last = 0.0000), fitness=0.018138802\n",
      "286.52 secs, 441 evals, 335 steps, improv/step: 0.337 (last = 1.0000), fitness=0.018138802\n",
      "287.28 secs, 442 evals, 336 steps, improv/step: 0.339 (last = 1.0000), fitness=0.018138802\n",
      "287.90 secs, 443 evals, 337 steps, improv/step: 0.341 (last = 1.0000), fitness=0.018138802\n",
      "288.42 secs, 444 evals, 338 steps, improv/step: 0.343 (last = 1.0000), fitness=0.018138802\n",
      "289.17 secs, 445 evals, 339 steps, improv/step: 0.345 (last = 1.0000), fitness=0.018138802\n",
      "289.78 secs, 446 evals, 340 steps, improv/step: 0.347 (last = 1.0000), fitness=0.018138802\n",
      "291.26 secs, 448 evals, 341 steps, improv/step: 0.346 (last = 0.0000), fitness=0.018138802\n",
      "291.81 secs, 449 evals, 342 steps, improv/step: 0.345 (last = 0.0000), fitness=0.018138802\n",
      "292.35 secs, 450 evals, 343 steps, improv/step: 0.344 (last = 0.0000), fitness=0.018138802\n",
      "292.90 secs, 451 evals, 344 steps, improv/step: 0.343 (last = 0.0000), fitness=0.018138802\n",
      "293.45 secs, 452 evals, 345 steps, improv/step: 0.345 (last = 1.0000), fitness=0.018138802\n",
      "293.99 secs, 453 evals, 346 steps, improv/step: 0.347 (last = 1.0000), fitness=0.018138802\n",
      "294.59 secs, 454 evals, 347 steps, improv/step: 0.349 (last = 1.0000), fitness=0.018138802\n",
      "295.28 secs, 455 evals, 348 steps, improv/step: 0.351 (last = 1.0000), fitness=0.018138802\n",
      "295.83 secs, 456 evals, 349 steps, improv/step: 0.350 (last = 0.0000), fitness=0.018138802\n",
      "296.37 secs, 457 evals, 350 steps, improv/step: 0.349 (last = 0.0000), fitness=0.018138802\n",
      "296.98 secs, 458 evals, 351 steps, improv/step: 0.350 (last = 1.0000), fitness=0.018138802\n",
      "297.60 secs, 459 evals, 352 steps, improv/step: 0.349 (last = 0.0000), fitness=0.018138802\n",
      "298.21 secs, 460 evals, 353 steps, improv/step: 0.351 (last = 1.0000), fitness=0.018138802\n",
      "299.55 secs, 462 evals, 354 steps, improv/step: 0.350 (last = 0.0000), fitness=0.018138802\n",
      "300.27 secs, 463 evals, 355 steps, improv/step: 0.352 (last = 1.0000), fitness=0.018138802\n",
      "300.98 secs, 464 evals, 356 steps, improv/step: 0.351 (last = 0.0000), fitness=0.018138802\n",
      "301.52 secs, 465 evals, 357 steps, improv/step: 0.350 (last = 0.0000), fitness=0.018138802\n",
      "302.14 secs, 466 evals, 358 steps, improv/step: 0.352 (last = 1.0000), fitness=0.018138802\n",
      "302.83 secs, 467 evals, 359 steps, improv/step: 0.351 (last = 0.0000), fitness=0.018138802\n",
      "303.55 secs, 468 evals, 360 steps, improv/step: 0.353 (last = 1.0000), fitness=0.018138802\n",
      "304.35 secs, 469 evals, 361 steps, improv/step: 0.355 (last = 1.0000), fitness=0.018138802\n",
      "305.71 secs, 471 evals, 362 steps, improv/step: 0.354 (last = 0.0000), fitness=0.018138802\n",
      "306.27 secs, 472 evals, 363 steps, improv/step: 0.353 (last = 0.0000), fitness=0.018138802\n",
      "306.99 secs, 473 evals, 364 steps, improv/step: 0.354 (last = 1.0000), fitness=0.018138802\n",
      "307.81 secs, 474 evals, 365 steps, improv/step: 0.353 (last = 0.0000), fitness=0.018138802\n",
      "308.36 secs, 475 evals, 366 steps, improv/step: 0.352 (last = 0.0000), fitness=0.018138802\n",
      "308.97 secs, 476 evals, 367 steps, improv/step: 0.351 (last = 0.0000), fitness=0.018138802\n",
      "309.59 secs, 477 evals, 368 steps, improv/step: 0.351 (last = 0.0000), fitness=0.018138802\n",
      "310.21 secs, 478 evals, 369 steps, improv/step: 0.352 (last = 1.0000), fitness=0.018138802\n",
      "310.98 secs, 479 evals, 370 steps, improv/step: 0.354 (last = 1.0000), fitness=0.018138802\n",
      "311.74 secs, 480 evals, 371 steps, improv/step: 0.356 (last = 1.0000), fitness=0.018138802\n",
      "312.51 secs, 481 evals, 372 steps, improv/step: 0.355 (last = 0.0000), fitness=0.018138802\n",
      "313.29 secs, 482 evals, 373 steps, improv/step: 0.354 (last = 0.0000), fitness=0.018138802\n",
      "313.83 secs, 483 evals, 374 steps, improv/step: 0.353 (last = 0.0000), fitness=0.018138802\n",
      "314.45 secs, 484 evals, 375 steps, improv/step: 0.352 (last = 0.0000), fitness=0.018138802\n",
      "315.21 secs, 485 evals, 376 steps, improv/step: 0.351 (last = 0.0000), fitness=0.018138802\n",
      "315.87 secs, 486 evals, 377 steps, improv/step: 0.350 (last = 0.0000), fitness=0.018138802\n",
      "316.54 secs, 487 evals, 378 steps, improv/step: 0.352 (last = 1.0000), fitness=0.016721863\n",
      "317.32 secs, 488 evals, 379 steps, improv/step: 0.351 (last = 0.0000), fitness=0.016721863\n",
      "317.98 secs, 489 evals, 380 steps, improv/step: 0.350 (last = 0.0000), fitness=0.016721863\n",
      "318.58 secs, 490 evals, 381 steps, improv/step: 0.349 (last = 0.0000), fitness=0.016721863\n",
      "319.25 secs, 491 evals, 382 steps, improv/step: 0.351 (last = 1.0000), fitness=0.016721863\n",
      "319.83 secs, 492 evals, 383 steps, improv/step: 0.350 (last = 0.0000), fitness=0.016721863\n",
      "320.60 secs, 493 evals, 384 steps, improv/step: 0.352 (last = 1.0000), fitness=0.016721863\n",
      "321.38 secs, 494 evals, 385 steps, improv/step: 0.353 (last = 1.0000), fitness=0.016721863\n",
      "322.08 secs, 495 evals, 386 steps, improv/step: 0.352 (last = 0.0000), fitness=0.016721863\n",
      "322.78 secs, 496 evals, 387 steps, improv/step: 0.354 (last = 1.0000), fitness=0.016721863\n",
      "323.56 secs, 497 evals, 388 steps, improv/step: 0.353 (last = 0.0000), fitness=0.016721863\n",
      "324.26 secs, 498 evals, 389 steps, improv/step: 0.352 (last = 0.0000), fitness=0.016721863\n",
      "325.19 secs, 499 evals, 390 steps, improv/step: 0.351 (last = 0.0000), fitness=0.016721863\n",
      "325.88 secs, 500 evals, 391 steps, improv/step: 0.353 (last = 1.0000), fitness=0.016721863\n",
      "326.57 secs, 501 evals, 392 steps, improv/step: 0.352 (last = 0.0000), fitness=0.016721863\n",
      "327.08 secs, 502 evals, 393 steps, improv/step: 0.351 (last = 0.0000), fitness=0.016721863\n",
      "327.71 secs, 503 evals, 394 steps, improv/step: 0.350 (last = 0.0000), fitness=0.016721863\n",
      "329.04 secs, 505 evals, 395 steps, improv/step: 0.349 (last = 0.0000), fitness=0.016721863\n",
      "329.84 secs, 506 evals, 396 steps, improv/step: 0.351 (last = 1.0000), fitness=0.016721863\n",
      "330.46 secs, 507 evals, 397 steps, improv/step: 0.350 (last = 0.0000), fitness=0.016721863\n",
      "332.00 secs, 509 evals, 398 steps, improv/step: 0.349 (last = 0.0000), fitness=0.016721863\n",
      "332.69 secs, 510 evals, 399 steps, improv/step: 0.351 (last = 1.0000), fitness=0.016721863\n",
      "333.30 secs, 511 evals, 400 steps, improv/step: 0.352 (last = 1.0000), fitness=0.016721863\n",
      "334.06 secs, 512 evals, 401 steps, improv/step: 0.354 (last = 1.0000), fitness=0.016721863\n",
      "334.81 secs, 513 evals, 402 steps, improv/step: 0.353 (last = 0.0000), fitness=0.016721863\n",
      "335.94 secs, 515 evals, 403 steps, improv/step: 0.355 (last = 1.0000), fitness=0.016721863\n",
      "337.58 secs, 517 evals, 404 steps, improv/step: 0.356 (last = 1.0000), fitness=0.016721863\n",
      "338.41 secs, 518 evals, 405 steps, improv/step: 0.356 (last = 0.0000), fitness=0.016721863\n",
      "339.07 secs, 519 evals, 406 steps, improv/step: 0.357 (last = 1.0000), fitness=0.016721863\n",
      "339.70 secs, 520 evals, 407 steps, improv/step: 0.356 (last = 0.0000), fitness=0.016721863\n",
      "340.26 secs, 521 evals, 408 steps, improv/step: 0.355 (last = 0.0000), fitness=0.016721863\n",
      "341.02 secs, 522 evals, 409 steps, improv/step: 0.357 (last = 1.0000), fitness=0.016721863\n",
      "342.40 secs, 524 evals, 410 steps, improv/step: 0.356 (last = 0.0000), fitness=0.016721863\n",
      "342.94 secs, 525 evals, 411 steps, improv/step: 0.355 (last = 0.0000), fitness=0.016721863\n",
      "343.70 secs, 526 evals, 412 steps, improv/step: 0.357 (last = 1.0000), fitness=0.016721863\n",
      "344.45 secs, 527 evals, 413 steps, improv/step: 0.358 (last = 1.0000), fitness=0.016721863\n",
      "345.21 secs, 528 evals, 414 steps, improv/step: 0.357 (last = 0.0000), fitness=0.016721863\n",
      "345.97 secs, 529 evals, 415 steps, improv/step: 0.357 (last = 0.0000), fitness=0.016721863\n",
      "347.40 secs, 531 evals, 416 steps, improv/step: 0.356 (last = 0.0000), fitness=0.016721863\n",
      "348.16 secs, 532 evals, 417 steps, improv/step: 0.357 (last = 1.0000), fitness=0.016721863\n",
      "348.77 secs, 533 evals, 418 steps, improv/step: 0.356 (last = 0.0000), fitness=0.016721863\n",
      "349.51 secs, 534 evals, 419 steps, improv/step: 0.356 (last = 0.0000), fitness=0.016721863\n",
      "350.21 secs, 535 evals, 420 steps, improv/step: 0.357 (last = 1.0000), fitness=0.016721863\n",
      "350.73 secs, 536 evals, 421 steps, improv/step: 0.359 (last = 1.0000), fitness=0.016721863\n",
      "351.40 secs, 537 evals, 422 steps, improv/step: 0.358 (last = 0.0000), fitness=0.016721863\n",
      "352.00 secs, 538 evals, 423 steps, improv/step: 0.357 (last = 0.0000), fitness=0.016721863\n",
      "352.75 secs, 539 evals, 424 steps, improv/step: 0.358 (last = 1.0000), fitness=0.016721863\n",
      "353.35 secs, 540 evals, 425 steps, improv/step: 0.358 (last = 0.0000), fitness=0.016721863\n",
      "354.11 secs, 541 evals, 426 steps, improv/step: 0.359 (last = 1.0000), fitness=0.016721863\n",
      "354.79 secs, 542 evals, 427 steps, improv/step: 0.358 (last = 0.0000), fitness=0.016721863\n",
      "355.53 secs, 543 evals, 428 steps, improv/step: 0.357 (last = 0.0000), fitness=0.016721863\n",
      "356.07 secs, 544 evals, 429 steps, improv/step: 0.357 (last = 0.0000), fitness=0.016721863\n",
      "356.76 secs, 545 evals, 430 steps, improv/step: 0.356 (last = 0.0000), fitness=0.016721863\n",
      "357.30 secs, 546 evals, 431 steps, improv/step: 0.357 (last = 1.0000), fitness=0.016721863\n",
      "358.06 secs, 547 evals, 432 steps, improv/step: 0.356 (last = 0.0000), fitness=0.016721863\n",
      "358.75 secs, 548 evals, 433 steps, improv/step: 0.356 (last = 0.0000), fitness=0.016721863\n",
      "359.51 secs, 549 evals, 434 steps, improv/step: 0.355 (last = 0.0000), fitness=0.016721863\n",
      "360.87 secs, 551 evals, 435 steps, improv/step: 0.354 (last = 0.0000), fitness=0.016721863\n",
      "361.63 secs, 552 evals, 436 steps, improv/step: 0.353 (last = 0.0000), fitness=0.016721863\n",
      "362.53 secs, 553 evals, 437 steps, improv/step: 0.355 (last = 1.0000), fitness=0.015816476\n",
      "363.28 secs, 554 evals, 438 steps, improv/step: 0.354 (last = 0.0000), fitness=0.015816476\n",
      "363.81 secs, 555 evals, 439 steps, improv/step: 0.353 (last = 0.0000), fitness=0.015816476\n",
      "364.49 secs, 556 evals, 440 steps, improv/step: 0.355 (last = 1.0000), fitness=0.015816476\n",
      "365.18 secs, 557 evals, 441 steps, improv/step: 0.356 (last = 1.0000), fitness=0.015816476\n",
      "365.97 secs, 558 evals, 442 steps, improv/step: 0.355 (last = 0.0000), fitness=0.015816476\n",
      "366.74 secs, 559 evals, 443 steps, improv/step: 0.354 (last = 0.0000), fitness=0.015816476\n",
      "367.27 secs, 560 evals, 444 steps, improv/step: 0.354 (last = 0.0000), fitness=0.015816476\n",
      "367.89 secs, 561 evals, 445 steps, improv/step: 0.353 (last = 0.0000), fitness=0.015816476\n",
      "368.50 secs, 562 evals, 446 steps, improv/step: 0.352 (last = 0.0000), fitness=0.015816476\n",
      "369.09 secs, 563 evals, 447 steps, improv/step: 0.353 (last = 1.0000), fitness=0.015816476\n",
      "369.82 secs, 564 evals, 448 steps, improv/step: 0.355 (last = 1.0000), fitness=0.015816476\n",
      "370.47 secs, 565 evals, 449 steps, improv/step: 0.354 (last = 0.0000), fitness=0.015816476\n",
      "371.09 secs, 566 evals, 450 steps, improv/step: 0.356 (last = 1.0000), fitness=0.015816476\n",
      "371.81 secs, 567 evals, 451 steps, improv/step: 0.355 (last = 0.0000), fitness=0.015816476\n",
      "372.41 secs, 568 evals, 452 steps, improv/step: 0.354 (last = 0.0000), fitness=0.015816476\n",
      "373.00 secs, 569 evals, 453 steps, improv/step: 0.355 (last = 1.0000), fitness=0.015816476\n",
      "373.72 secs, 570 evals, 454 steps, improv/step: 0.355 (last = 0.0000), fitness=0.015816476\n",
      "374.45 secs, 571 evals, 455 steps, improv/step: 0.356 (last = 1.0000), fitness=0.015816476\n",
      "375.19 secs, 572 evals, 456 steps, improv/step: 0.355 (last = 0.0000), fitness=0.015816476\n",
      "375.71 secs, 573 evals, 457 steps, improv/step: 0.354 (last = 0.0000), fitness=0.015816476\n",
      "376.31 secs, 574 evals, 458 steps, improv/step: 0.354 (last = 0.0000), fitness=0.015816476\n",
      "377.07 secs, 575 evals, 459 steps, improv/step: 0.353 (last = 0.0000), fitness=0.015816476\n",
      "377.69 secs, 576 evals, 460 steps, improv/step: 0.352 (last = 0.0000), fitness=0.015816476\n",
      "378.44 secs, 577 evals, 461 steps, improv/step: 0.351 (last = 0.0000), fitness=0.015816476\n",
      "379.20 secs, 578 evals, 462 steps, improv/step: 0.351 (last = 0.0000), fitness=0.015816476\n",
      "379.96 secs, 579 evals, 463 steps, improv/step: 0.352 (last = 1.0000), fitness=0.015816476\n",
      "380.69 secs, 580 evals, 464 steps, improv/step: 0.351 (last = 0.0000), fitness=0.015816476\n",
      "382.04 secs, 582 evals, 465 steps, improv/step: 0.353 (last = 1.0000), fitness=0.015816476\n",
      "382.57 secs, 583 evals, 466 steps, improv/step: 0.354 (last = 1.0000), fitness=0.015816476\n",
      "383.26 secs, 584 evals, 467 steps, improv/step: 0.353 (last = 0.0000), fitness=0.015816476\n",
      "383.94 secs, 585 evals, 468 steps, improv/step: 0.355 (last = 1.0000), fitness=0.015816476\n",
      "384.47 secs, 586 evals, 469 steps, improv/step: 0.356 (last = 1.0000), fitness=0.015816476\n",
      "385.27 secs, 587 evals, 470 steps, improv/step: 0.357 (last = 1.0000), fitness=0.015816476\n",
      "386.01 secs, 588 evals, 471 steps, improv/step: 0.357 (last = 0.0000), fitness=0.015816476\n",
      "386.70 secs, 589 evals, 472 steps, improv/step: 0.356 (last = 0.0000), fitness=0.015816476\n",
      "387.40 secs, 590 evals, 473 steps, improv/step: 0.355 (last = 0.0000), fitness=0.015816476\n",
      "388.10 secs, 591 evals, 474 steps, improv/step: 0.354 (last = 0.0000), fitness=0.015816476\n",
      "388.85 secs, 592 evals, 475 steps, improv/step: 0.356 (last = 1.0000), fitness=0.015816476\n",
      "389.52 secs, 593 evals, 476 steps, improv/step: 0.355 (last = 0.0000), fitness=0.015816476\n",
      "390.16 secs, 594 evals, 477 steps, improv/step: 0.354 (last = 0.0000), fitness=0.015816476\n",
      "390.82 secs, 595 evals, 478 steps, improv/step: 0.354 (last = 0.0000), fitness=0.015816476\n",
      "391.33 secs, 596 evals, 479 steps, improv/step: 0.353 (last = 0.0000), fitness=0.015816476\n",
      "392.80 secs, 598 evals, 480 steps, improv/step: 0.354 (last = 1.0000), fitness=0.015816476\n",
      "393.38 secs, 599 evals, 481 steps, improv/step: 0.353 (last = 0.0000), fitness=0.015816476\n",
      "393.97 secs, 600 evals, 482 steps, improv/step: 0.353 (last = 0.0000), fitness=0.015816476\n",
      "394.69 secs, 601 evals, 483 steps, improv/step: 0.352 (last = 0.0000), fitness=0.015816476\n",
      "395.21 secs, 602 evals, 484 steps, improv/step: 0.353 (last = 1.0000), fitness=0.015816476\n",
      "395.95 secs, 603 evals, 485 steps, improv/step: 0.355 (last = 1.0000), fitness=0.015816476\n",
      "396.53 secs, 604 evals, 486 steps, improv/step: 0.354 (last = 0.0000), fitness=0.015816476\n",
      "397.20 secs, 605 evals, 487 steps, improv/step: 0.353 (last = 0.0000), fitness=0.015816476\n",
      "397.80 secs, 606 evals, 488 steps, improv/step: 0.352 (last = 0.0000), fitness=0.015816476\n",
      "398.56 secs, 607 evals, 489 steps, improv/step: 0.352 (last = 0.0000), fitness=0.015816476\n",
      "399.22 secs, 608 evals, 490 steps, improv/step: 0.351 (last = 0.0000), fitness=0.015816476\n",
      "399.74 secs, 609 evals, 491 steps, improv/step: 0.350 (last = 0.0000), fitness=0.015816476\n",
      "400.34 secs, 610 evals, 492 steps, improv/step: 0.352 (last = 1.0000), fitness=0.015816476\n",
      "400.93 secs, 611 evals, 493 steps, improv/step: 0.351 (last = 0.0000), fitness=0.015816476\n",
      "401.52 secs, 612 evals, 494 steps, improv/step: 0.350 (last = 0.0000), fitness=0.015816476\n",
      "402.11 secs, 613 evals, 495 steps, improv/step: 0.352 (last = 1.0000), fitness=0.015816476\n",
      "402.73 secs, 614 evals, 496 steps, improv/step: 0.353 (last = 1.0000), fitness=0.015709678\n",
      "403.32 secs, 615 evals, 497 steps, improv/step: 0.352 (last = 0.0000), fitness=0.015709678\n",
      "403.91 secs, 616 evals, 498 steps, improv/step: 0.351 (last = 0.0000), fitness=0.015709678\n",
      "404.60 secs, 617 evals, 499 steps, improv/step: 0.351 (last = 0.0000), fitness=0.015709678\n",
      "405.34 secs, 618 evals, 500 steps, improv/step: 0.350 (last = 0.0000), fitness=0.015709678\n",
      "406.04 secs, 619 evals, 501 steps, improv/step: 0.351 (last = 1.0000), fitness=0.015709678\n",
      "406.58 secs, 620 evals, 502 steps, improv/step: 0.351 (last = 0.0000), fitness=0.015709678\n",
      "407.12 secs, 621 evals, 503 steps, improv/step: 0.350 (last = 0.0000), fitness=0.015709678\n",
      "407.66 secs, 622 evals, 504 steps, improv/step: 0.349 (last = 0.0000), fitness=0.015709678\n",
      "408.35 secs, 623 evals, 505 steps, improv/step: 0.349 (last = 0.0000), fitness=0.015709678\n",
      "408.96 secs, 624 evals, 506 steps, improv/step: 0.348 (last = 0.0000), fitness=0.015709678\n",
      "409.66 secs, 625 evals, 507 steps, improv/step: 0.347 (last = 0.0000), fitness=0.015709678\n",
      "410.38 secs, 626 evals, 508 steps, improv/step: 0.348 (last = 1.0000), fitness=0.015709678\n",
      "411.07 secs, 627 evals, 509 steps, improv/step: 0.348 (last = 0.0000), fitness=0.015709678\n",
      "411.84 secs, 628 evals, 510 steps, improv/step: 0.347 (last = 0.0000), fitness=0.015709678\n",
      "412.42 secs, 629 evals, 511 steps, improv/step: 0.346 (last = 0.0000), fitness=0.015709678\n",
      "413.00 secs, 630 evals, 512 steps, improv/step: 0.348 (last = 1.0000), fitness=0.015709678\n",
      "413.65 secs, 631 evals, 513 steps, improv/step: 0.347 (last = 0.0000), fitness=0.015709678\n",
      "414.32 secs, 632 evals, 514 steps, improv/step: 0.346 (last = 0.0000), fitness=0.015709678\n",
      "415.07 secs, 633 evals, 515 steps, improv/step: 0.346 (last = 0.0000), fitness=0.015709678\n",
      "415.80 secs, 634 evals, 516 steps, improv/step: 0.347 (last = 1.0000), fitness=0.015709678\n",
      "416.46 secs, 635 evals, 517 steps, improv/step: 0.346 (last = 0.0000), fitness=0.015709678\n",
      "417.18 secs, 636 evals, 518 steps, improv/step: 0.347 (last = 1.0000), fitness=0.015709678\n",
      "417.92 secs, 637 evals, 519 steps, improv/step: 0.349 (last = 1.0000), fitness=0.015709678\n",
      "418.69 secs, 638 evals, 520 steps, improv/step: 0.348 (last = 0.0000), fitness=0.015709678\n",
      "419.44 secs, 639 evals, 521 steps, improv/step: 0.349 (last = 1.0000), fitness=0.015709678\n",
      "419.94 secs, 640 evals, 522 steps, improv/step: 0.349 (last = 0.0000), fitness=0.015709678\n",
      "420.55 secs, 641 evals, 523 steps, improv/step: 0.348 (last = 0.0000), fitness=0.015709678\n",
      "421.26 secs, 642 evals, 524 steps, improv/step: 0.347 (last = 0.0000), fitness=0.015709678\n",
      "421.89 secs, 643 evals, 525 steps, improv/step: 0.349 (last = 1.0000), fitness=0.015709678\n",
      "422.50 secs, 644 evals, 526 steps, improv/step: 0.348 (last = 0.0000), fitness=0.015709678\n",
      "423.26 secs, 645 evals, 527 steps, improv/step: 0.347 (last = 0.0000), fitness=0.015709678\n",
      "424.06 secs, 646 evals, 528 steps, improv/step: 0.347 (last = 0.0000), fitness=0.015709678\n",
      "424.73 secs, 647 evals, 529 steps, improv/step: 0.346 (last = 0.0000), fitness=0.015709678\n",
      "425.46 secs, 648 evals, 530 steps, improv/step: 0.347 (last = 1.0000), fitness=0.015709678\n",
      "426.12 secs, 649 evals, 531 steps, improv/step: 0.347 (last = 0.0000), fitness=0.015709678\n",
      "426.79 secs, 650 evals, 532 steps, improv/step: 0.348 (last = 1.0000), fitness=0.015709678\n",
      "427.54 secs, 651 evals, 533 steps, improv/step: 0.349 (last = 1.0000), fitness=0.015709678\n",
      "428.29 secs, 652 evals, 534 steps, improv/step: 0.348 (last = 0.0000), fitness=0.015709678\n",
      "429.06 secs, 653 evals, 535 steps, improv/step: 0.348 (last = 0.0000), fitness=0.015709678\n",
      "429.83 secs, 654 evals, 536 steps, improv/step: 0.347 (last = 0.0000), fitness=0.015709678\n",
      "430.51 secs, 655 evals, 537 steps, improv/step: 0.346 (last = 0.0000), fitness=0.015709678\n",
      "431.06 secs, 656 evals, 538 steps, improv/step: 0.346 (last = 0.0000), fitness=0.015709678\n",
      "431.81 secs, 657 evals, 539 steps, improv/step: 0.347 (last = 1.0000), fitness=0.015709678\n",
      "432.42 secs, 658 evals, 540 steps, improv/step: 0.346 (last = 0.0000), fitness=0.015709678\n",
      "433.13 secs, 659 evals, 541 steps, improv/step: 0.348 (last = 1.0000), fitness=0.015709678\n",
      "433.75 secs, 660 evals, 542 steps, improv/step: 0.347 (last = 0.0000), fitness=0.015709678\n",
      "434.66 secs, 661 evals, 543 steps, improv/step: 0.346 (last = 0.0000), fitness=0.015709678\n",
      "435.27 secs, 662 evals, 544 steps, improv/step: 0.346 (last = 0.0000), fitness=0.015709678\n",
      "435.80 secs, 663 evals, 545 steps, improv/step: 0.345 (last = 0.0000), fitness=0.015709678\n",
      "436.57 secs, 664 evals, 546 steps, improv/step: 0.346 (last = 1.0000), fitness=0.015709678\n",
      "437.15 secs, 665 evals, 547 steps, improv/step: 0.347 (last = 1.0000), fitness=0.015709678\n",
      "437.74 secs, 666 evals, 548 steps, improv/step: 0.349 (last = 1.0000), fitness=0.015709678\n",
      "438.33 secs, 667 evals, 549 steps, improv/step: 0.348 (last = 0.0000), fitness=0.015709678\n",
      "439.09 secs, 668 evals, 550 steps, improv/step: 0.349 (last = 1.0000), fitness=0.015709678\n",
      "439.85 secs, 669 evals, 551 steps, improv/step: 0.350 (last = 1.0000), fitness=0.015562377\n",
      "440.47 secs, 670 evals, 552 steps, improv/step: 0.351 (last = 1.0000), fitness=0.014186313\n",
      "441.08 secs, 671 evals, 553 steps, improv/step: 0.351 (last = 0.0000), fitness=0.014186313\n",
      "441.91 secs, 672 evals, 554 steps, improv/step: 0.352 (last = 1.0000), fitness=0.014186313\n",
      "442.66 secs, 673 evals, 555 steps, improv/step: 0.353 (last = 1.0000), fitness=0.014186313\n",
      "443.40 secs, 674 evals, 556 steps, improv/step: 0.353 (last = 0.0000), fitness=0.014186313\n",
      "444.05 secs, 675 evals, 557 steps, improv/step: 0.352 (last = 0.0000), fitness=0.014186313\n",
      "444.63 secs, 676 evals, 558 steps, improv/step: 0.351 (last = 0.0000), fitness=0.014186313\n",
      "445.20 secs, 677 evals, 559 steps, improv/step: 0.351 (last = 0.0000), fitness=0.014186313\n",
      "446.02 secs, 678 evals, 560 steps, improv/step: 0.350 (last = 0.0000), fitness=0.014186313\n",
      "446.65 secs, 679 evals, 561 steps, improv/step: 0.349 (last = 0.0000), fitness=0.014186313\n",
      "447.39 secs, 680 evals, 562 steps, improv/step: 0.349 (last = 0.0000), fitness=0.014186313\n",
      "448.26 secs, 681 evals, 563 steps, improv/step: 0.348 (last = 0.0000), fitness=0.014186313\n",
      "448.85 secs, 682 evals, 564 steps, improv/step: 0.348 (last = 0.0000), fitness=0.014186313\n",
      "449.57 secs, 683 evals, 565 steps, improv/step: 0.347 (last = 0.0000), fitness=0.014186313\n",
      "450.15 secs, 684 evals, 566 steps, improv/step: 0.346 (last = 0.0000), fitness=0.014186313\n",
      "450.89 secs, 685 evals, 567 steps, improv/step: 0.347 (last = 1.0000), fitness=0.013781986\n",
      "451.61 secs, 686 evals, 568 steps, improv/step: 0.349 (last = 1.0000), fitness=0.013781986\n",
      "452.29 secs, 687 evals, 569 steps, improv/step: 0.348 (last = 0.0000), fitness=0.013781986\n",
      "453.02 secs, 688 evals, 570 steps, improv/step: 0.347 (last = 0.0000), fitness=0.013781986\n",
      "453.70 secs, 689 evals, 571 steps, improv/step: 0.349 (last = 1.0000), fitness=0.013781986\n",
      "454.40 secs, 690 evals, 572 steps, improv/step: 0.348 (last = 0.0000), fitness=0.013781986\n",
      "455.15 secs, 691 evals, 573 steps, improv/step: 0.347 (last = 0.0000), fitness=0.013781986\n",
      "455.89 secs, 692 evals, 574 steps, improv/step: 0.347 (last = 0.0000), fitness=0.013781986\n",
      "456.48 secs, 693 evals, 575 steps, improv/step: 0.346 (last = 0.0000), fitness=0.013781986\n",
      "457.06 secs, 694 evals, 576 steps, improv/step: 0.347 (last = 1.0000), fitness=0.013781986\n",
      "457.73 secs, 695 evals, 577 steps, improv/step: 0.348 (last = 1.0000), fitness=0.013781986\n",
      "458.50 secs, 696 evals, 578 steps, improv/step: 0.349 (last = 1.0000), fitness=0.013781986\n",
      "459.13 secs, 697 evals, 579 steps, improv/step: 0.349 (last = 0.0000), fitness=0.013781986\n",
      "459.92 secs, 698 evals, 580 steps, improv/step: 0.348 (last = 0.0000), fitness=0.013781986\n",
      "460.70 secs, 699 evals, 581 steps, improv/step: 0.349 (last = 1.0000), fitness=0.013781986\n",
      "461.48 secs, 700 evals, 582 steps, improv/step: 0.349 (last = 0.0000), fitness=0.013781986\n",
      "462.24 secs, 701 evals, 583 steps, improv/step: 0.348 (last = 0.0000), fitness=0.013781986\n",
      "462.85 secs, 702 evals, 584 steps, improv/step: 0.348 (last = 0.0000), fitness=0.013781986\n",
      "463.61 secs, 703 evals, 585 steps, improv/step: 0.349 (last = 1.0000), fitness=0.013781986\n",
      "464.14 secs, 704 evals, 586 steps, improv/step: 0.348 (last = 0.0000), fitness=0.013781986\n",
      "464.92 secs, 705 evals, 587 steps, improv/step: 0.349 (last = 1.0000), fitness=0.013781986\n",
      "465.69 secs, 706 evals, 588 steps, improv/step: 0.350 (last = 1.0000), fitness=0.013781986\n",
      "466.22 secs, 707 evals, 589 steps, improv/step: 0.350 (last = 0.0000), fitness=0.013781986\n",
      "466.90 secs, 708 evals, 590 steps, improv/step: 0.349 (last = 0.0000), fitness=0.013781986\n",
      "467.65 secs, 709 evals, 591 steps, improv/step: 0.350 (last = 1.0000), fitness=0.013781986\n",
      "468.44 secs, 710 evals, 592 steps, improv/step: 0.350 (last = 0.0000), fitness=0.013781986\n",
      "469.21 secs, 711 evals, 593 steps, improv/step: 0.351 (last = 1.0000), fitness=0.012659350\n",
      "469.98 secs, 712 evals, 594 steps, improv/step: 0.350 (last = 0.0000), fitness=0.012659350\n",
      "470.74 secs, 713 evals, 595 steps, improv/step: 0.351 (last = 1.0000), fitness=0.012659350\n",
      "471.51 secs, 714 evals, 596 steps, improv/step: 0.351 (last = 0.0000), fitness=0.012659350\n",
      "472.12 secs, 715 evals, 597 steps, improv/step: 0.350 (last = 0.0000), fitness=0.012659350\n",
      "472.72 secs, 716 evals, 598 steps, improv/step: 0.349 (last = 0.0000), fitness=0.012659350\n",
      "473.48 secs, 717 evals, 599 steps, improv/step: 0.349 (last = 0.0000), fitness=0.012659350\n",
      "474.24 secs, 718 evals, 600 steps, improv/step: 0.348 (last = 0.0000), fitness=0.012659350\n",
      "475.01 secs, 719 evals, 601 steps, improv/step: 0.348 (last = 0.0000), fitness=0.012659350\n",
      "475.78 secs, 720 evals, 602 steps, improv/step: 0.347 (last = 0.0000), fitness=0.012659350\n",
      "476.39 secs, 721 evals, 603 steps, improv/step: 0.347 (last = 0.0000), fitness=0.012659350\n",
      "477.19 secs, 722 evals, 604 steps, improv/step: 0.348 (last = 1.0000), fitness=0.012659350\n",
      "477.85 secs, 723 evals, 605 steps, improv/step: 0.349 (last = 1.0000), fitness=0.012659350\n",
      "478.45 secs, 724 evals, 606 steps, improv/step: 0.348 (last = 0.0000), fitness=0.012659350\n",
      "479.05 secs, 725 evals, 607 steps, improv/step: 0.348 (last = 0.0000), fitness=0.012659350\n",
      "479.77 secs, 726 evals, 608 steps, improv/step: 0.349 (last = 1.0000), fitness=0.012659350\n",
      "480.57 secs, 727 evals, 609 steps, improv/step: 0.348 (last = 0.0000), fitness=0.012659350\n",
      "481.32 secs, 728 evals, 610 steps, improv/step: 0.348 (last = 0.0000), fitness=0.012659350\n",
      "482.05 secs, 729 evals, 611 steps, improv/step: 0.349 (last = 1.0000), fitness=0.012659350\n",
      "482.59 secs, 730 evals, 612 steps, improv/step: 0.348 (last = 0.0000), fitness=0.012659350\n",
      "483.28 secs, 731 evals, 613 steps, improv/step: 0.347 (last = 0.0000), fitness=0.012659350\n",
      "484.04 secs, 732 evals, 614 steps, improv/step: 0.347 (last = 0.0000), fitness=0.012659350\n",
      "484.73 secs, 733 evals, 615 steps, improv/step: 0.348 (last = 1.0000), fitness=0.012659350\n",
      "485.38 secs, 734 evals, 616 steps, improv/step: 0.347 (last = 0.0000), fitness=0.012659350\n",
      "486.16 secs, 735 evals, 617 steps, improv/step: 0.347 (last = 0.0000), fitness=0.012659350\n",
      "486.83 secs, 736 evals, 618 steps, improv/step: 0.348 (last = 1.0000), fitness=0.012659350\n",
      "487.43 secs, 737 evals, 619 steps, improv/step: 0.349 (last = 1.0000), fitness=0.012659350\n",
      "487.99 secs, 738 evals, 620 steps, improv/step: 0.348 (last = 0.0000), fitness=0.012659350\n",
      "488.78 secs, 739 evals, 621 steps, improv/step: 0.348 (last = 0.0000), fitness=0.012659350\n",
      "489.56 secs, 740 evals, 622 steps, improv/step: 0.347 (last = 0.0000), fitness=0.012659350\n",
      "490.35 secs, 741 evals, 623 steps, improv/step: 0.347 (last = 0.0000), fitness=0.012659350\n",
      "491.04 secs, 742 evals, 624 steps, improv/step: 0.346 (last = 0.0000), fitness=0.012659350\n",
      "491.80 secs, 743 evals, 625 steps, improv/step: 0.346 (last = 0.0000), fitness=0.012659350\n",
      "492.34 secs, 744 evals, 626 steps, improv/step: 0.345 (last = 0.0000), fitness=0.012659350\n",
      "493.10 secs, 745 evals, 627 steps, improv/step: 0.344 (last = 0.0000), fitness=0.012659350\n",
      "493.77 secs, 746 evals, 628 steps, improv/step: 0.346 (last = 1.0000), fitness=0.012659350\n",
      "494.52 secs, 747 evals, 629 steps, improv/step: 0.345 (last = 0.0000), fitness=0.012659350\n",
      "495.25 secs, 748 evals, 630 steps, improv/step: 0.346 (last = 1.0000), fitness=0.012659350\n",
      "495.78 secs, 749 evals, 631 steps, improv/step: 0.345 (last = 0.0000), fitness=0.012659350\n",
      "496.40 secs, 750 evals, 632 steps, improv/step: 0.345 (last = 0.0000), fitness=0.012659350\n",
      "497.16 secs, 751 evals, 633 steps, improv/step: 0.344 (last = 0.0000), fitness=0.012659350\n",
      "497.86 secs, 752 evals, 634 steps, improv/step: 0.345 (last = 1.0000), fitness=0.012659350\n",
      "498.47 secs, 753 evals, 635 steps, improv/step: 0.345 (last = 0.0000), fitness=0.012659350\n",
      "499.23 secs, 754 evals, 636 steps, improv/step: 0.344 (last = 0.0000), fitness=0.012659350\n",
      "499.78 secs, 755 evals, 637 steps, improv/step: 0.344 (last = 0.0000), fitness=0.012659350\n",
      "500.40 secs, 756 evals, 638 steps, improv/step: 0.343 (last = 0.0000), fitness=0.012659350\n",
      "501.18 secs, 757 evals, 639 steps, improv/step: 0.344 (last = 1.0000), fitness=0.012659350\n",
      "501.89 secs, 758 evals, 640 steps, improv/step: 0.344 (last = 0.0000), fitness=0.012659350\n",
      "502.74 secs, 759 evals, 641 steps, improv/step: 0.343 (last = 0.0000), fitness=0.012659350\n",
      "503.45 secs, 760 evals, 642 steps, improv/step: 0.343 (last = 0.0000), fitness=0.012659350\n",
      "504.08 secs, 761 evals, 643 steps, improv/step: 0.342 (last = 0.0000), fitness=0.012659350\n",
      "504.86 secs, 762 evals, 644 steps, improv/step: 0.343 (last = 1.0000), fitness=0.012659350\n",
      "505.47 secs, 763 evals, 645 steps, improv/step: 0.343 (last = 0.0000), fitness=0.012659350\n",
      "506.11 secs, 764 evals, 646 steps, improv/step: 0.344 (last = 1.0000), fitness=0.012659350\n",
      "506.79 secs, 765 evals, 647 steps, improv/step: 0.343 (last = 0.0000), fitness=0.012659350\n",
      "507.49 secs, 766 evals, 648 steps, improv/step: 0.343 (last = 0.0000), fitness=0.012659350\n",
      "508.25 secs, 767 evals, 649 steps, improv/step: 0.342 (last = 0.0000), fitness=0.012659350\n",
      "508.95 secs, 768 evals, 650 steps, improv/step: 0.342 (last = 0.0000), fitness=0.012659350\n",
      "509.56 secs, 769 evals, 651 steps, improv/step: 0.341 (last = 0.0000), fitness=0.012659350\n",
      "510.25 secs, 770 evals, 652 steps, improv/step: 0.340 (last = 0.0000), fitness=0.012659350\n",
      "510.86 secs, 771 evals, 653 steps, improv/step: 0.340 (last = 0.0000), fitness=0.012659350\n",
      "511.63 secs, 772 evals, 654 steps, improv/step: 0.341 (last = 1.0000), fitness=0.012659350\n",
      "512.44 secs, 773 evals, 655 steps, improv/step: 0.342 (last = 1.0000), fitness=0.012659350\n",
      "513.24 secs, 774 evals, 656 steps, improv/step: 0.341 (last = 0.0000), fitness=0.012659350\n",
      "513.87 secs, 775 evals, 657 steps, improv/step: 0.342 (last = 1.0000), fitness=0.012659350\n",
      "514.44 secs, 776 evals, 658 steps, improv/step: 0.343 (last = 1.0000), fitness=0.012659350\n",
      "515.25 secs, 777 evals, 659 steps, improv/step: 0.343 (last = 0.0000), fitness=0.012659350\n",
      "516.02 secs, 778 evals, 660 steps, improv/step: 0.344 (last = 1.0000), fitness=0.012659350\n",
      "516.56 secs, 779 evals, 661 steps, improv/step: 0.343 (last = 0.0000), fitness=0.012659350\n",
      "517.13 secs, 780 evals, 662 steps, improv/step: 0.343 (last = 0.0000), fitness=0.012659350\n",
      "517.85 secs, 781 evals, 663 steps, improv/step: 0.342 (last = 0.0000), fitness=0.012659350\n",
      "518.57 secs, 782 evals, 664 steps, improv/step: 0.342 (last = 0.0000), fitness=0.012659350\n",
      "519.38 secs, 783 evals, 665 steps, improv/step: 0.341 (last = 0.0000), fitness=0.012659350\n",
      "520.15 secs, 784 evals, 666 steps, improv/step: 0.341 (last = 0.0000), fitness=0.012659350\n",
      "520.94 secs, 785 evals, 667 steps, improv/step: 0.340 (last = 0.0000), fitness=0.012659350\n",
      "521.70 secs, 786 evals, 668 steps, improv/step: 0.340 (last = 0.0000), fitness=0.012659350\n",
      "522.32 secs, 787 evals, 669 steps, improv/step: 0.339 (last = 0.0000), fitness=0.012659350\n",
      "523.09 secs, 788 evals, 670 steps, improv/step: 0.339 (last = 0.0000), fitness=0.012659350\n",
      "523.88 secs, 789 evals, 671 steps, improv/step: 0.340 (last = 1.0000), fitness=0.012659350\n",
      "524.69 secs, 790 evals, 672 steps, improv/step: 0.339 (last = 0.0000), fitness=0.012659350\n",
      "525.39 secs, 791 evals, 673 steps, improv/step: 0.339 (last = 0.0000), fitness=0.012659350\n",
      "526.18 secs, 792 evals, 674 steps, improv/step: 0.338 (last = 0.0000), fitness=0.012659350\n",
      "526.81 secs, 793 evals, 675 steps, improv/step: 0.338 (last = 0.0000), fitness=0.012659350\n",
      "527.62 secs, 794 evals, 676 steps, improv/step: 0.337 (last = 0.0000), fitness=0.012659350\n",
      "528.41 secs, 795 evals, 677 steps, improv/step: 0.337 (last = 0.0000), fitness=0.012659350\n",
      "529.05 secs, 796 evals, 678 steps, improv/step: 0.336 (last = 0.0000), fitness=0.012659350\n",
      "529.83 secs, 797 evals, 679 steps, improv/step: 0.337 (last = 1.0000), fitness=0.012659350\n",
      "530.37 secs, 798 evals, 680 steps, improv/step: 0.337 (last = 0.0000), fitness=0.012659350\n",
      "531.14 secs, 799 evals, 681 steps, improv/step: 0.336 (last = 0.0000), fitness=0.012659350\n",
      "531.75 secs, 800 evals, 682 steps, improv/step: 0.336 (last = 0.0000), fitness=0.012659350\n",
      "532.53 secs, 801 evals, 683 steps, improv/step: 0.337 (last = 1.0000), fitness=0.012659350\n",
      "533.17 secs, 802 evals, 684 steps, improv/step: 0.336 (last = 0.0000), fitness=0.012659350\n",
      "533.92 secs, 803 evals, 685 steps, improv/step: 0.336 (last = 0.0000), fitness=0.012659350\n",
      "534.69 secs, 804 evals, 686 steps, improv/step: 0.335 (last = 0.0000), fitness=0.012659350\n",
      "535.48 secs, 805 evals, 687 steps, improv/step: 0.336 (last = 1.0000), fitness=0.012659350\n",
      "536.24 secs, 806 evals, 688 steps, improv/step: 0.336 (last = 0.0000), fitness=0.012659350\n",
      "537.10 secs, 807 evals, 689 steps, improv/step: 0.335 (last = 0.0000), fitness=0.012659350\n",
      "537.85 secs, 808 evals, 690 steps, improv/step: 0.336 (last = 1.0000), fitness=0.012659350\n",
      "538.63 secs, 809 evals, 691 steps, improv/step: 0.337 (last = 1.0000), fitness=0.012659350\n",
      "539.23 secs, 810 evals, 692 steps, improv/step: 0.338 (last = 1.0000), fitness=0.012659350\n",
      "539.92 secs, 811 evals, 693 steps, improv/step: 0.338 (last = 0.0000), fitness=0.012659350\n",
      "540.68 secs, 812 evals, 694 steps, improv/step: 0.337 (last = 0.0000), fitness=0.012659350\n",
      "541.43 secs, 813 evals, 695 steps, improv/step: 0.337 (last = 0.0000), fitness=0.012659350\n",
      "542.17 secs, 814 evals, 696 steps, improv/step: 0.338 (last = 1.0000), fitness=0.012659350\n",
      "542.70 secs, 815 evals, 697 steps, improv/step: 0.337 (last = 0.0000), fitness=0.012659350\n",
      "543.39 secs, 816 evals, 698 steps, improv/step: 0.337 (last = 0.0000), fitness=0.012659350\n",
      "544.07 secs, 817 evals, 699 steps, improv/step: 0.336 (last = 0.0000), fitness=0.012659350\n",
      "544.81 secs, 818 evals, 700 steps, improv/step: 0.336 (last = 0.0000), fitness=0.012659350\n",
      "545.32 secs, 819 evals, 701 steps, improv/step: 0.335 (last = 0.0000), fitness=0.012659350\n",
      "546.15 secs, 820 evals, 702 steps, improv/step: 0.336 (last = 1.0000), fitness=0.012590937\n",
      "546.90 secs, 821 evals, 703 steps, improv/step: 0.337 (last = 1.0000), fitness=0.012590937\n",
      "547.72 secs, 822 evals, 704 steps, improv/step: 0.338 (last = 1.0000), fitness=0.012590937\n",
      "548.25 secs, 823 evals, 705 steps, improv/step: 0.338 (last = 0.0000), fitness=0.012590937\n",
      "549.11 secs, 824 evals, 706 steps, improv/step: 0.339 (last = 1.0000), fitness=0.012590937\n",
      "550.00 secs, 825 evals, 707 steps, improv/step: 0.339 (last = 1.0000), fitness=0.012590937\n",
      "550.73 secs, 826 evals, 708 steps, improv/step: 0.339 (last = 0.0000), fitness=0.012590937\n",
      "551.33 secs, 827 evals, 709 steps, improv/step: 0.339 (last = 0.0000), fitness=0.012590937\n",
      "552.04 secs, 828 evals, 710 steps, improv/step: 0.338 (last = 0.0000), fitness=0.012590937\n",
      "552.79 secs, 829 evals, 711 steps, improv/step: 0.339 (last = 1.0000), fitness=0.012590937\n",
      "553.53 secs, 830 evals, 712 steps, improv/step: 0.338 (last = 0.0000), fitness=0.012590937\n",
      "554.27 secs, 831 evals, 713 steps, improv/step: 0.339 (last = 1.0000), fitness=0.012590937\n",
      "555.00 secs, 832 evals, 714 steps, improv/step: 0.339 (last = 0.0000), fitness=0.012590937\n",
      "555.66 secs, 833 evals, 715 steps, improv/step: 0.338 (last = 0.0000), fitness=0.012590937\n",
      "556.28 secs, 834 evals, 716 steps, improv/step: 0.338 (last = 0.0000), fitness=0.012590937\n",
      "557.01 secs, 835 evals, 717 steps, improv/step: 0.338 (last = 0.0000), fitness=0.012590937\n",
      "557.51 secs, 836 evals, 718 steps, improv/step: 0.337 (last = 0.0000), fitness=0.012590937\n",
      "558.24 secs, 837 evals, 719 steps, improv/step: 0.338 (last = 1.0000), fitness=0.012590937\n",
      "558.97 secs, 838 evals, 720 steps, improv/step: 0.338 (last = 0.0000), fitness=0.012590937\n",
      "559.72 secs, 839 evals, 721 steps, improv/step: 0.337 (last = 0.0000), fitness=0.012590937\n",
      "560.25 secs, 840 evals, 722 steps, improv/step: 0.337 (last = 0.0000), fitness=0.012590937\n",
      "560.88 secs, 841 evals, 723 steps, improv/step: 0.336 (last = 0.0000), fitness=0.012590937\n",
      "561.60 secs, 842 evals, 724 steps, improv/step: 0.336 (last = 0.0000), fitness=0.012590937\n",
      "562.50 secs, 843 evals, 725 steps, improv/step: 0.337 (last = 1.0000), fitness=0.012590937\n",
      "563.19 secs, 844 evals, 726 steps, improv/step: 0.337 (last = 1.0000), fitness=0.012590937\n",
      "563.92 secs, 845 evals, 727 steps, improv/step: 0.337 (last = 0.0000), fitness=0.012590937\n",
      "564.96 secs, 846 evals, 728 steps, improv/step: 0.338 (last = 1.0000), fitness=0.012590937\n",
      "565.49 secs, 847 evals, 729 steps, improv/step: 0.337 (last = 0.0000), fitness=0.012590937\n",
      "566.18 secs, 848 evals, 730 steps, improv/step: 0.337 (last = 0.0000), fitness=0.012590937\n",
      "566.87 secs, 849 evals, 731 steps, improv/step: 0.338 (last = 1.0000), fitness=0.012590937\n",
      "567.54 secs, 850 evals, 732 steps, improv/step: 0.339 (last = 1.0000), fitness=0.012590937\n",
      "568.31 secs, 851 evals, 733 steps, improv/step: 0.338 (last = 0.0000), fitness=0.012590937\n",
      "569.00 secs, 852 evals, 734 steps, improv/step: 0.339 (last = 1.0000), fitness=0.012590937\n",
      "569.85 secs, 853 evals, 735 steps, improv/step: 0.339 (last = 0.0000), fitness=0.012590937\n",
      "570.63 secs, 854 evals, 736 steps, improv/step: 0.340 (last = 1.0000), fitness=0.012590937\n",
      "571.51 secs, 855 evals, 737 steps, improv/step: 0.339 (last = 0.0000), fitness=0.012590937\n",
      "572.04 secs, 856 evals, 738 steps, improv/step: 0.339 (last = 0.0000), fitness=0.012590937\n",
      "572.72 secs, 857 evals, 739 steps, improv/step: 0.338 (last = 0.0000), fitness=0.012590937\n",
      "573.47 secs, 858 evals, 740 steps, improv/step: 0.338 (last = 0.0000), fitness=0.012590937\n",
      "574.23 secs, 859 evals, 741 steps, improv/step: 0.339 (last = 1.0000), fitness=0.012590937\n",
      "574.92 secs, 860 evals, 742 steps, improv/step: 0.338 (last = 0.0000), fitness=0.012590937\n",
      "575.61 secs, 861 evals, 743 steps, improv/step: 0.338 (last = 0.0000), fitness=0.012590937\n",
      "576.29 secs, 862 evals, 744 steps, improv/step: 0.339 (last = 1.0000), fitness=0.012590937\n",
      "576.97 secs, 863 evals, 745 steps, improv/step: 0.338 (last = 0.0000), fitness=0.012590937\n",
      "577.73 secs, 864 evals, 746 steps, improv/step: 0.338 (last = 0.0000), fitness=0.012590937\n",
      "578.44 secs, 865 evals, 747 steps, improv/step: 0.337 (last = 0.0000), fitness=0.012590937\n",
      "578.96 secs, 866 evals, 748 steps, improv/step: 0.337 (last = 0.0000), fitness=0.012590937\n",
      "579.74 secs, 867 evals, 749 steps, improv/step: 0.336 (last = 0.0000), fitness=0.012590937\n",
      "580.59 secs, 868 evals, 750 steps, improv/step: 0.337 (last = 1.0000), fitness=0.012590937\n",
      "581.11 secs, 869 evals, 751 steps, improv/step: 0.337 (last = 0.0000), fitness=0.012590937\n",
      "581.64 secs, 870 evals, 752 steps, improv/step: 0.336 (last = 0.0000), fitness=0.012590937\n",
      "582.33 secs, 871 evals, 753 steps, improv/step: 0.337 (last = 1.0000), fitness=0.012590937\n",
      "582.93 secs, 872 evals, 754 steps, improv/step: 0.337 (last = 0.0000), fitness=0.012590937\n",
      "583.68 secs, 873 evals, 755 steps, improv/step: 0.338 (last = 1.0000), fitness=0.012590937\n",
      "584.44 secs, 874 evals, 756 steps, improv/step: 0.337 (last = 0.0000), fitness=0.012590937\n",
      "585.04 secs, 875 evals, 757 steps, improv/step: 0.337 (last = 0.0000), fitness=0.012590937\n",
      "585.73 secs, 876 evals, 758 steps, improv/step: 0.336 (last = 0.0000), fitness=0.012590937\n",
      "586.55 secs, 877 evals, 759 steps, improv/step: 0.336 (last = 0.0000), fitness=0.012590937\n",
      "587.25 secs, 878 evals, 760 steps, improv/step: 0.336 (last = 0.0000), fitness=0.012590937\n",
      "588.01 secs, 879 evals, 761 steps, improv/step: 0.336 (last = 1.0000), fitness=0.012590937\n",
      "588.75 secs, 880 evals, 762 steps, improv/step: 0.336 (last = 0.0000), fitness=0.012590937\n",
      "589.50 secs, 881 evals, 763 steps, improv/step: 0.336 (last = 0.0000), fitness=0.012590937\n",
      "590.27 secs, 882 evals, 764 steps, improv/step: 0.335 (last = 0.0000), fitness=0.012590937\n",
      "591.12 secs, 883 evals, 765 steps, improv/step: 0.336 (last = 1.0000), fitness=0.011640141\n",
      "591.96 secs, 884 evals, 766 steps, improv/step: 0.336 (last = 0.0000), fitness=0.011640141\n",
      "592.52 secs, 885 evals, 767 steps, improv/step: 0.335 (last = 0.0000), fitness=0.011640141\n",
      "593.28 secs, 886 evals, 768 steps, improv/step: 0.335 (last = 0.0000), fitness=0.011640141\n",
      "593.98 secs, 887 evals, 769 steps, improv/step: 0.334 (last = 0.0000), fitness=0.011640141\n",
      "594.73 secs, 888 evals, 770 steps, improv/step: 0.335 (last = 1.0000), fitness=0.011640141\n",
      "595.40 secs, 889 evals, 771 steps, improv/step: 0.336 (last = 1.0000), fitness=0.011633733\n",
      "595.99 secs, 890 evals, 772 steps, improv/step: 0.335 (last = 0.0000), fitness=0.011633733\n",
      "596.66 secs, 891 evals, 773 steps, improv/step: 0.335 (last = 0.0000), fitness=0.011633733\n",
      "597.40 secs, 892 evals, 774 steps, improv/step: 0.335 (last = 0.0000), fitness=0.011633733\n",
      "598.15 secs, 893 evals, 775 steps, improv/step: 0.335 (last = 1.0000), fitness=0.011633733\n",
      "598.83 secs, 894 evals, 776 steps, improv/step: 0.336 (last = 1.0000), fitness=0.011633733\n",
      "599.57 secs, 895 evals, 777 steps, improv/step: 0.336 (last = 0.0000), fitness=0.011633733\n",
      "600.24 secs, 896 evals, 778 steps, improv/step: 0.335 (last = 0.0000), fitness=0.011633733\n",
      "600.98 secs, 897 evals, 779 steps, improv/step: 0.335 (last = 0.0000), fitness=0.011633733\n",
      "601.87 secs, 898 evals, 780 steps, improv/step: 0.336 (last = 1.0000), fitness=0.011633733\n",
      "602.55 secs, 899 evals, 781 steps, improv/step: 0.337 (last = 1.0000), fitness=0.011633733\n",
      "603.45 secs, 900 evals, 782 steps, improv/step: 0.336 (last = 0.0000), fitness=0.011633733\n",
      "604.20 secs, 901 evals, 783 steps, improv/step: 0.336 (last = 0.0000), fitness=0.011633733\n",
      "604.88 secs, 902 evals, 784 steps, improv/step: 0.335 (last = 0.0000), fitness=0.011633733\n",
      "605.62 secs, 903 evals, 785 steps, improv/step: 0.335 (last = 0.0000), fitness=0.011633733\n",
      "606.29 secs, 904 evals, 786 steps, improv/step: 0.335 (last = 0.0000), fitness=0.011633733\n",
      "607.04 secs, 905 evals, 787 steps, improv/step: 0.334 (last = 0.0000), fitness=0.011633733\n",
      "607.72 secs, 906 evals, 788 steps, improv/step: 0.335 (last = 1.0000), fitness=0.011633733\n",
      "608.65 secs, 907 evals, 789 steps, improv/step: 0.336 (last = 1.0000), fitness=0.011633733\n",
      "609.18 secs, 908 evals, 790 steps, improv/step: 0.335 (last = 0.0000), fitness=0.011633733\n",
      "609.77 secs, 909 evals, 791 steps, improv/step: 0.335 (last = 0.0000), fitness=0.011633733\n",
      "610.58 secs, 910 evals, 792 steps, improv/step: 0.335 (last = 0.0000), fitness=0.011633733\n",
      "611.17 secs, 911 evals, 793 steps, improv/step: 0.335 (last = 1.0000), fitness=0.011633733\n",
      "611.93 secs, 912 evals, 794 steps, improv/step: 0.336 (last = 1.0000), fitness=0.011633733\n",
      "612.52 secs, 913 evals, 795 steps, improv/step: 0.336 (last = 0.0000), fitness=0.011633733\n",
      "613.27 secs, 914 evals, 796 steps, improv/step: 0.335 (last = 0.0000), fitness=0.011633733\n",
      "613.80 secs, 915 evals, 797 steps, improv/step: 0.335 (last = 0.0000), fitness=0.011633733\n",
      "614.48 secs, 916 evals, 798 steps, improv/step: 0.335 (last = 0.0000), fitness=0.011633733\n",
      "615.15 secs, 917 evals, 799 steps, improv/step: 0.334 (last = 0.0000), fitness=0.011633733\n",
      "615.88 secs, 918 evals, 800 steps, improv/step: 0.334 (last = 0.0000), fitness=0.011633733\n",
      "616.61 secs, 919 evals, 801 steps, improv/step: 0.333 (last = 0.0000), fitness=0.011633733\n",
      "617.35 secs, 920 evals, 802 steps, improv/step: 0.334 (last = 1.0000), fitness=0.011633733\n",
      "618.14 secs, 921 evals, 803 steps, improv/step: 0.335 (last = 1.0000), fitness=0.011633733\n",
      "618.82 secs, 922 evals, 804 steps, improv/step: 0.335 (last = 0.0000), fitness=0.011633733\n",
      "619.57 secs, 923 evals, 805 steps, improv/step: 0.334 (last = 0.0000), fitness=0.011633733\n",
      "620.15 secs, 924 evals, 806 steps, improv/step: 0.335 (last = 1.0000), fitness=0.011633733\n",
      "620.89 secs, 925 evals, 807 steps, improv/step: 0.335 (last = 0.0000), fitness=0.011633733\n",
      "621.40 secs, 926 evals, 808 steps, improv/step: 0.334 (last = 0.0000), fitness=0.011633733\n",
      "622.30 secs, 927 evals, 809 steps, improv/step: 0.334 (last = 0.0000), fitness=0.011633733\n",
      "623.04 secs, 928 evals, 810 steps, improv/step: 0.333 (last = 0.0000), fitness=0.011633733\n",
      "623.79 secs, 929 evals, 811 steps, improv/step: 0.333 (last = 0.0000), fitness=0.011633733\n",
      "624.39 secs, 930 evals, 812 steps, improv/step: 0.334 (last = 1.0000), fitness=0.011633733\n",
      "625.16 secs, 931 evals, 813 steps, improv/step: 0.333 (last = 0.0000), fitness=0.011633733\n",
      "625.92 secs, 932 evals, 814 steps, improv/step: 0.334 (last = 1.0000), fitness=0.011633733\n",
      "626.83 secs, 933 evals, 815 steps, improv/step: 0.334 (last = 0.0000), fitness=0.011633733\n",
      "627.44 secs, 934 evals, 816 steps, improv/step: 0.333 (last = 0.0000), fitness=0.011633733\n",
      "628.18 secs, 935 evals, 817 steps, improv/step: 0.333 (last = 0.0000), fitness=0.011633733\n",
      "628.86 secs, 936 evals, 818 steps, improv/step: 0.334 (last = 1.0000), fitness=0.011633733\n",
      "629.52 secs, 937 evals, 819 steps, improv/step: 0.333 (last = 0.0000), fitness=0.011633733\n",
      "630.25 secs, 938 evals, 820 steps, improv/step: 0.333 (last = 0.0000), fitness=0.011633733\n",
      "630.98 secs, 939 evals, 821 steps, improv/step: 0.333 (last = 0.0000), fitness=0.011633733\n",
      "631.72 secs, 940 evals, 822 steps, improv/step: 0.332 (last = 0.0000), fitness=0.011633733\n",
      "632.52 secs, 941 evals, 823 steps, improv/step: 0.332 (last = 0.0000), fitness=0.011633733\n",
      "633.27 secs, 942 evals, 824 steps, improv/step: 0.331 (last = 0.0000), fitness=0.011633733\n",
      "634.19 secs, 943 evals, 825 steps, improv/step: 0.332 (last = 1.0000), fitness=0.008493827\n",
      "634.78 secs, 944 evals, 826 steps, improv/step: 0.332 (last = 0.0000), fitness=0.008493827\n",
      "635.54 secs, 945 evals, 827 steps, improv/step: 0.331 (last = 0.0000), fitness=0.008493827\n",
      "636.30 secs, 946 evals, 828 steps, improv/step: 0.332 (last = 1.0000), fitness=0.008493827\n",
      "637.05 secs, 947 evals, 829 steps, improv/step: 0.332 (last = 0.0000), fitness=0.008493827\n",
      "637.80 secs, 948 evals, 830 steps, improv/step: 0.333 (last = 1.0000), fitness=0.008493827\n",
      "638.62 secs, 949 evals, 831 steps, improv/step: 0.333 (last = 1.0000), fitness=0.008493827\n",
      "639.28 secs, 950 evals, 832 steps, improv/step: 0.333 (last = 0.0000), fitness=0.008493827\n",
      "639.82 secs, 951 evals, 833 steps, improv/step: 0.334 (last = 1.0000), fitness=0.008493827\n",
      "640.61 secs, 952 evals, 834 steps, improv/step: 0.333 (last = 0.0000), fitness=0.008493827\n",
      "641.35 secs, 953 evals, 835 steps, improv/step: 0.334 (last = 1.0000), fitness=0.008493827\n",
      "642.03 secs, 954 evals, 836 steps, improv/step: 0.334 (last = 0.0000), fitness=0.008493827\n",
      "642.79 secs, 955 evals, 837 steps, improv/step: 0.333 (last = 0.0000), fitness=0.008493827\n",
      "643.57 secs, 956 evals, 838 steps, improv/step: 0.334 (last = 1.0000), fitness=0.008493827\n",
      "644.31 secs, 957 evals, 839 steps, improv/step: 0.335 (last = 1.0000), fitness=0.008493827\n",
      "645.10 secs, 958 evals, 840 steps, improv/step: 0.335 (last = 0.0000), fitness=0.008493827\n",
      "645.71 secs, 959 evals, 841 steps, improv/step: 0.334 (last = 0.0000), fitness=0.008493827\n",
      "646.48 secs, 960 evals, 842 steps, improv/step: 0.335 (last = 1.0000), fitness=0.008493827\n",
      "647.09 secs, 961 evals, 843 steps, improv/step: 0.335 (last = 0.0000), fitness=0.008493827\n",
      "647.93 secs, 962 evals, 844 steps, improv/step: 0.335 (last = 1.0000), fitness=0.008493827\n",
      "648.56 secs, 963 evals, 845 steps, improv/step: 0.335 (last = 0.0000), fitness=0.008493827\n",
      "649.25 secs, 964 evals, 846 steps, improv/step: 0.336 (last = 1.0000), fitness=0.008493827\n",
      "649.79 secs, 965 evals, 847 steps, improv/step: 0.335 (last = 0.0000), fitness=0.008493827\n",
      "650.55 secs, 966 evals, 848 steps, improv/step: 0.336 (last = 1.0000), fitness=0.008493827\n",
      "651.31 secs, 967 evals, 849 steps, improv/step: 0.336 (last = 0.0000), fitness=0.008493827\n",
      "652.00 secs, 968 evals, 850 steps, improv/step: 0.336 (last = 1.0000), fitness=0.008493827\n",
      "652.69 secs, 969 evals, 851 steps, improv/step: 0.336 (last = 0.0000), fitness=0.008493827\n",
      "653.45 secs, 970 evals, 852 steps, improv/step: 0.336 (last = 0.0000), fitness=0.008493827\n",
      "654.16 secs, 971 evals, 853 steps, improv/step: 0.335 (last = 0.0000), fitness=0.008493827\n",
      "654.93 secs, 972 evals, 854 steps, improv/step: 0.335 (last = 0.0000), fitness=0.008493827\n",
      "655.87 secs, 973 evals, 855 steps, improv/step: 0.335 (last = 0.0000), fitness=0.008493827\n",
      "656.67 secs, 974 evals, 856 steps, improv/step: 0.335 (last = 1.0000), fitness=0.008493827\n",
      "657.46 secs, 975 evals, 857 steps, improv/step: 0.335 (last = 0.0000), fitness=0.008493827\n",
      "658.08 secs, 976 evals, 858 steps, improv/step: 0.334 (last = 0.0000), fitness=0.008493827\n",
      "658.89 secs, 977 evals, 859 steps, improv/step: 0.334 (last = 0.0000), fitness=0.008493827\n",
      "659.62 secs, 978 evals, 860 steps, improv/step: 0.334 (last = 0.0000), fitness=0.008493827\n",
      "660.25 secs, 979 evals, 861 steps, improv/step: 0.334 (last = 1.0000), fitness=0.008493827\n",
      "661.02 secs, 980 evals, 862 steps, improv/step: 0.335 (last = 1.0000), fitness=0.008493827\n",
      "661.72 secs, 981 evals, 863 steps, improv/step: 0.335 (last = 0.0000), fitness=0.008493827\n",
      "662.36 secs, 982 evals, 864 steps, improv/step: 0.334 (last = 0.0000), fitness=0.008493827\n",
      "663.14 secs, 983 evals, 865 steps, improv/step: 0.334 (last = 0.0000), fitness=0.008493827\n",
      "663.77 secs, 984 evals, 866 steps, improv/step: 0.335 (last = 1.0000), fitness=0.008493827\n",
      "664.54 secs, 985 evals, 867 steps, improv/step: 0.334 (last = 0.0000), fitness=0.008493827\n",
      "665.28 secs, 986 evals, 868 steps, improv/step: 0.335 (last = 1.0000), fitness=0.008493827\n",
      "666.03 secs, 987 evals, 869 steps, improv/step: 0.335 (last = 0.0000), fitness=0.008493827\n",
      "666.79 secs, 988 evals, 870 steps, improv/step: 0.336 (last = 1.0000), fitness=0.008493827\n",
      "667.36 secs, 989 evals, 871 steps, improv/step: 0.335 (last = 0.0000), fitness=0.008493827\n",
      "668.13 secs, 990 evals, 872 steps, improv/step: 0.335 (last = 0.0000), fitness=0.008493827\n",
      "668.82 secs, 991 evals, 873 steps, improv/step: 0.334 (last = 0.0000), fitness=0.008493827\n",
      "669.58 secs, 992 evals, 874 steps, improv/step: 0.335 (last = 1.0000), fitness=0.008493827\n",
      "670.34 secs, 993 evals, 875 steps, improv/step: 0.335 (last = 0.0000), fitness=0.008493827\n",
      "670.96 secs, 994 evals, 876 steps, improv/step: 0.334 (last = 0.0000), fitness=0.008493827\n",
      "671.65 secs, 995 evals, 877 steps, improv/step: 0.334 (last = 0.0000), fitness=0.008493827\n",
      "672.18 secs, 996 evals, 878 steps, improv/step: 0.334 (last = 0.0000), fitness=0.008493827\n",
      "672.92 secs, 997 evals, 879 steps, improv/step: 0.333 (last = 0.0000), fitness=0.008493827\n",
      "673.67 secs, 998 evals, 880 steps, improv/step: 0.333 (last = 0.0000), fitness=0.008493827\n",
      "674.35 secs, 999 evals, 881 steps, improv/step: 0.334 (last = 1.0000), fitness=0.008493827\n",
      "675.10 secs, 1000 evals, 882 steps, improv/step: 0.333 (last = 0.0000), fitness=0.008493827\n",
      "675.85 secs, 1001 evals, 883 steps, improv/step: 0.333 (last = 0.0000), fitness=0.008493827\n",
      "676.47 secs, 1002 evals, 884 steps, improv/step: 0.334 (last = 1.0000), fitness=0.008493827\n",
      "677.16 secs, 1003 evals, 885 steps, improv/step: 0.333 (last = 0.0000), fitness=0.008493827\n",
      "677.93 secs, 1004 evals, 886 steps, improv/step: 0.333 (last = 0.0000), fitness=0.008493827\n",
      "678.70 secs, 1005 evals, 887 steps, improv/step: 0.334 (last = 1.0000), fitness=0.008493827\n",
      "679.64 secs, 1006 evals, 888 steps, improv/step: 0.333 (last = 0.0000), fitness=0.008493827\n",
      "680.41 secs, 1007 evals, 889 steps, improv/step: 0.333 (last = 0.0000), fitness=0.008493827\n",
      "681.11 secs, 1008 evals, 890 steps, improv/step: 0.333 (last = 0.0000), fitness=0.008493827\n",
      "681.80 secs, 1009 evals, 891 steps, improv/step: 0.333 (last = 1.0000), fitness=0.008493827\n",
      "682.63 secs, 1010 evals, 892 steps, improv/step: 0.333 (last = 0.0000), fitness=0.008493827\n",
      "683.40 secs, 1011 evals, 893 steps, improv/step: 0.333 (last = 0.0000), fitness=0.008493827\n",
      "684.16 secs, 1012 evals, 894 steps, improv/step: 0.332 (last = 0.0000), fitness=0.008493827\n",
      "684.83 secs, 1013 evals, 895 steps, improv/step: 0.332 (last = 0.0000), fitness=0.008493827\n",
      "685.67 secs, 1014 evals, 896 steps, improv/step: 0.333 (last = 1.0000), fitness=0.008493827\n",
      "686.58 secs, 1015 evals, 897 steps, improv/step: 0.333 (last = 1.0000), fitness=0.008493827\n",
      "687.35 secs, 1016 evals, 898 steps, improv/step: 0.333 (last = 0.0000), fitness=0.008493827\n",
      "687.97 secs, 1017 evals, 899 steps, improv/step: 0.333 (last = 0.0000), fitness=0.008493827\n",
      "688.67 secs, 1018 evals, 900 steps, improv/step: 0.332 (last = 0.0000), fitness=0.008493827\n",
      "689.36 secs, 1019 evals, 901 steps, improv/step: 0.332 (last = 0.0000), fitness=0.008493827\n",
      "690.12 secs, 1020 evals, 902 steps, improv/step: 0.333 (last = 1.0000), fitness=0.008493827\n",
      "690.90 secs, 1021 evals, 903 steps, improv/step: 0.332 (last = 0.0000), fitness=0.008493827\n",
      "691.70 secs, 1022 evals, 904 steps, improv/step: 0.332 (last = 0.0000), fitness=0.008493827\n",
      "692.23 secs, 1023 evals, 905 steps, improv/step: 0.333 (last = 1.0000), fitness=0.008493827\n",
      "692.99 secs, 1024 evals, 906 steps, improv/step: 0.333 (last = 1.0000), fitness=0.008493827\n",
      "693.59 secs, 1025 evals, 907 steps, improv/step: 0.333 (last = 0.0000), fitness=0.008493827\n",
      "694.36 secs, 1026 evals, 908 steps, improv/step: 0.333 (last = 0.0000), fitness=0.008493827\n",
      "695.15 secs, 1027 evals, 909 steps, improv/step: 0.332 (last = 0.0000), fitness=0.008493827\n",
      "695.92 secs, 1028 evals, 910 steps, improv/step: 0.332 (last = 0.0000), fitness=0.008493827\n",
      "696.65 secs, 1029 evals, 911 steps, improv/step: 0.333 (last = 1.0000), fitness=0.008493827\n",
      "697.42 secs, 1030 evals, 912 steps, improv/step: 0.332 (last = 0.0000), fitness=0.008493827\n",
      "698.17 secs, 1031 evals, 913 steps, improv/step: 0.333 (last = 1.0000), fitness=0.008493827\n",
      "698.92 secs, 1032 evals, 914 steps, improv/step: 0.334 (last = 1.0000), fitness=0.008493827\n",
      "699.82 secs, 1033 evals, 915 steps, improv/step: 0.334 (last = 1.0000), fitness=0.007239360\n",
      "700.66 secs, 1034 evals, 916 steps, improv/step: 0.334 (last = 0.0000), fitness=0.007239360\n",
      "701.43 secs, 1035 evals, 917 steps, improv/step: 0.334 (last = 0.0000), fitness=0.007239360\n",
      "702.21 secs, 1036 evals, 918 steps, improv/step: 0.333 (last = 0.0000), fitness=0.007239360\n",
      "702.96 secs, 1037 evals, 919 steps, improv/step: 0.333 (last = 0.0000), fitness=0.007239360\n",
      "703.71 secs, 1038 evals, 920 steps, improv/step: 0.334 (last = 1.0000), fitness=0.007239360\n",
      "704.48 secs, 1039 evals, 921 steps, improv/step: 0.333 (last = 0.0000), fitness=0.007239360\n",
      "705.06 secs, 1040 evals, 922 steps, improv/step: 0.334 (last = 1.0000), fitness=0.007239360\n",
      "705.84 secs, 1041 evals, 923 steps, improv/step: 0.334 (last = 0.0000), fitness=0.007239360\n",
      "706.53 secs, 1042 evals, 924 steps, improv/step: 0.333 (last = 0.0000), fitness=0.007239360\n",
      "707.22 secs, 1043 evals, 925 steps, improv/step: 0.333 (last = 0.0000), fitness=0.007239360\n",
      "708.01 secs, 1044 evals, 926 steps, improv/step: 0.333 (last = 0.0000), fitness=0.007239360\n",
      "708.56 secs, 1045 evals, 927 steps, improv/step: 0.333 (last = 1.0000), fitness=0.007239360\n",
      "709.09 secs, 1046 evals, 928 steps, improv/step: 0.333 (last = 0.0000), fitness=0.007239360\n",
      "709.62 secs, 1047 evals, 929 steps, improv/step: 0.333 (last = 0.0000), fitness=0.007239360\n",
      "710.24 secs, 1048 evals, 930 steps, improv/step: 0.332 (last = 0.0000), fitness=0.007239360\n",
      "711.01 secs, 1049 evals, 931 steps, improv/step: 0.332 (last = 0.0000), fitness=0.007239360\n",
      "711.77 secs, 1050 evals, 932 steps, improv/step: 0.333 (last = 1.0000), fitness=0.007239360\n",
      "712.54 secs, 1051 evals, 933 steps, improv/step: 0.332 (last = 0.0000), fitness=0.007239360\n",
      "713.29 secs, 1052 evals, 934 steps, improv/step: 0.332 (last = 0.0000), fitness=0.007239360\n",
      "713.96 secs, 1053 evals, 935 steps, improv/step: 0.332 (last = 0.0000), fitness=0.007239360\n",
      "714.70 secs, 1054 evals, 936 steps, improv/step: 0.332 (last = 1.0000), fitness=0.005673475\n",
      "715.44 secs, 1055 evals, 937 steps, improv/step: 0.332 (last = 0.0000), fitness=0.005673475\n",
      "716.11 secs, 1056 evals, 938 steps, improv/step: 0.332 (last = 0.0000), fitness=0.005673475\n",
      "716.80 secs, 1057 evals, 939 steps, improv/step: 0.331 (last = 0.0000), fitness=0.005673475\n",
      "717.57 secs, 1058 evals, 940 steps, improv/step: 0.331 (last = 0.0000), fitness=0.005673475\n",
      "718.33 secs, 1059 evals, 941 steps, improv/step: 0.332 (last = 1.0000), fitness=0.005673475\n",
      "719.21 secs, 1060 evals, 942 steps, improv/step: 0.331 (last = 0.0000), fitness=0.005673475\n",
      "719.93 secs, 1061 evals, 943 steps, improv/step: 0.332 (last = 1.0000), fitness=0.005673475\n",
      "720.66 secs, 1062 evals, 944 steps, improv/step: 0.332 (last = 0.0000), fitness=0.005673475\n",
      "721.47 secs, 1063 evals, 945 steps, improv/step: 0.332 (last = 1.0000), fitness=0.005673475\n",
      "722.16 secs, 1064 evals, 946 steps, improv/step: 0.332 (last = 0.0000), fitness=0.005673475\n",
      "722.89 secs, 1065 evals, 947 steps, improv/step: 0.332 (last = 0.0000), fitness=0.005673475\n",
      "723.62 secs, 1066 evals, 948 steps, improv/step: 0.331 (last = 0.0000), fitness=0.005673475\n",
      "724.49 secs, 1067 evals, 949 steps, improv/step: 0.331 (last = 0.0000), fitness=0.005673475\n",
      "725.31 secs, 1068 evals, 950 steps, improv/step: 0.332 (last = 1.0000), fitness=0.005673475\n",
      "726.08 secs, 1069 evals, 951 steps, improv/step: 0.331 (last = 0.0000), fitness=0.005673475\n",
      "726.77 secs, 1070 evals, 952 steps, improv/step: 0.331 (last = 0.0000), fitness=0.005673475\n",
      "727.30 secs, 1071 evals, 953 steps, improv/step: 0.332 (last = 1.0000), fitness=0.005673475\n",
      "727.89 secs, 1072 evals, 954 steps, improv/step: 0.331 (last = 0.0000), fitness=0.005673475\n",
      "728.63 secs, 1073 evals, 955 steps, improv/step: 0.332 (last = 1.0000), fitness=0.005673475\n",
      "729.37 secs, 1074 evals, 956 steps, improv/step: 0.332 (last = 0.0000), fitness=0.005673475\n",
      "730.11 secs, 1075 evals, 957 steps, improv/step: 0.332 (last = 1.0000), fitness=0.005673475\n",
      "730.82 secs, 1076 evals, 958 steps, improv/step: 0.332 (last = 0.0000), fitness=0.005673475\n",
      "731.56 secs, 1077 evals, 959 steps, improv/step: 0.332 (last = 0.0000), fitness=0.005673475\n",
      "732.09 secs, 1078 evals, 960 steps, improv/step: 0.331 (last = 0.0000), fitness=0.005673475\n",
      "732.62 secs, 1079 evals, 961 steps, improv/step: 0.331 (last = 0.0000), fitness=0.005673475\n",
      "733.29 secs, 1080 evals, 962 steps, improv/step: 0.332 (last = 1.0000), fitness=0.005673475\n",
      "734.03 secs, 1081 evals, 963 steps, improv/step: 0.331 (last = 0.0000), fitness=0.005673475\n",
      "734.77 secs, 1082 evals, 964 steps, improv/step: 0.331 (last = 0.0000), fitness=0.005673475\n",
      "735.58 secs, 1083 evals, 965 steps, improv/step: 0.331 (last = 0.0000), fitness=0.005673475\n",
      "736.32 secs, 1084 evals, 966 steps, improv/step: 0.330 (last = 0.0000), fitness=0.005673475\n",
      "737.06 secs, 1085 evals, 967 steps, improv/step: 0.330 (last = 0.0000), fitness=0.005673475\n",
      "737.60 secs, 1086 evals, 968 steps, improv/step: 0.330 (last = 0.0000), fitness=0.005673475\n",
      "738.20 secs, 1087 evals, 969 steps, improv/step: 0.329 (last = 0.0000), fitness=0.005673475\n",
      "738.80 secs, 1088 evals, 970 steps, improv/step: 0.329 (last = 0.0000), fitness=0.005673475\n",
      "739.49 secs, 1089 evals, 971 steps, improv/step: 0.329 (last = 0.0000), fitness=0.005673475\n",
      "740.16 secs, 1090 evals, 972 steps, improv/step: 0.328 (last = 0.0000), fitness=0.005673475\n",
      "740.83 secs, 1091 evals, 973 steps, improv/step: 0.328 (last = 0.0000), fitness=0.005673475\n",
      "741.58 secs, 1092 evals, 974 steps, improv/step: 0.328 (last = 0.0000), fitness=0.005673475\n",
      "742.19 secs, 1093 evals, 975 steps, improv/step: 0.327 (last = 0.0000), fitness=0.005673475\n",
      "742.93 secs, 1094 evals, 976 steps, improv/step: 0.327 (last = 0.0000), fitness=0.005673475\n",
      "743.59 secs, 1095 evals, 977 steps, improv/step: 0.328 (last = 1.0000), fitness=0.005673475\n",
      "744.11 secs, 1096 evals, 978 steps, improv/step: 0.327 (last = 0.0000), fitness=0.005673475\n",
      "744.75 secs, 1097 evals, 979 steps, improv/step: 0.327 (last = 0.0000), fitness=0.005673475\n",
      "745.39 secs, 1098 evals, 980 steps, improv/step: 0.328 (last = 1.0000), fitness=0.005673475\n",
      "746.11 secs, 1099 evals, 981 steps, improv/step: 0.327 (last = 0.0000), fitness=0.005673475\n",
      "746.84 secs, 1100 evals, 982 steps, improv/step: 0.328 (last = 1.0000), fitness=0.005673475\n",
      "747.49 secs, 1101 evals, 983 steps, improv/step: 0.328 (last = 0.0000), fitness=0.005673475\n",
      "748.21 secs, 1102 evals, 984 steps, improv/step: 0.327 (last = 0.0000), fitness=0.005673475\n",
      "748.80 secs, 1103 evals, 985 steps, improv/step: 0.327 (last = 0.0000), fitness=0.005673475\n",
      "749.67 secs, 1104 evals, 986 steps, improv/step: 0.328 (last = 1.0000), fitness=0.005673475\n",
      "750.40 secs, 1105 evals, 987 steps, improv/step: 0.328 (last = 1.0000), fitness=0.005673475\n",
      "751.07 secs, 1106 evals, 988 steps, improv/step: 0.328 (last = 0.0000), fitness=0.005673475\n",
      "751.82 secs, 1107 evals, 989 steps, improv/step: 0.328 (last = 0.0000), fitness=0.005673475\n",
      "752.55 secs, 1108 evals, 990 steps, improv/step: 0.327 (last = 0.0000), fitness=0.005673475\n",
      "753.07 secs, 1109 evals, 991 steps, improv/step: 0.327 (last = 0.0000), fitness=0.005673475\n",
      "753.82 secs, 1110 evals, 992 steps, improv/step: 0.328 (last = 1.0000), fitness=0.005673475\n",
      "754.64 secs, 1111 evals, 993 steps, improv/step: 0.327 (last = 0.0000), fitness=0.005673475\n",
      "755.38 secs, 1112 evals, 994 steps, improv/step: 0.327 (last = 0.0000), fitness=0.005673475\n",
      "756.12 secs, 1113 evals, 995 steps, improv/step: 0.327 (last = 0.0000), fitness=0.005673475\n",
      "756.78 secs, 1114 evals, 996 steps, improv/step: 0.326 (last = 0.0000), fitness=0.005673475\n",
      "757.36 secs, 1115 evals, 997 steps, improv/step: 0.326 (last = 0.0000), fitness=0.005673475\n",
      "758.09 secs, 1116 evals, 998 steps, improv/step: 0.326 (last = 0.0000), fitness=0.005673475\n",
      "758.90 secs, 1117 evals, 999 steps, improv/step: 0.326 (last = 1.0000), fitness=0.005673475\n",
      "759.56 secs, 1118 evals, 1000 steps, improv/step: 0.326 (last = 0.0000), fitness=0.005673475\n",
      "\n",
      "Optimization stopped after 1001 steps and 760.2865948677063 seconds\n",
      "Termination reason: Max number of steps (1000) reached\n",
      "Steps per second = 1.3166087719515547\n",
      "Function evals per second = 1.4718134024113783\n",
      "Improvements/step = 0.326\n",
      "Total function evaluations = 1119\n",
      "\n",
      "\n",
      "Best candidate found: [-0.991363, -0.613614, -0.960659, -0.0153737, -0.00325666, -0.191966, -0.0707744, -0.125606, -0.0419461, -0.190243, -0.209864, -0.0625491, -0.785671, -0.00289299, -0.073512, -0.0769002, -0.174625, -0.699855, -0.0217126, -0.0880258, -0.855, -0.0271277, -0.450466, -0.00433448, -0.140751, -0.025505, -0.0438747, -0.118623, -0.0134256, -0.90433]\n",
      "\n",
      "Fitness: 0.005673475\n",
      "\n",
      "761.929941 seconds (1.17 G allocations: 1.646 TiB, 39.65% gc time)\n"
     ]
    },
    {
     "data": {
      "text/plain": [
       "(z_max = 5, z = [0.0, 0.000250627, 0.000501253, 0.00075188, 0.00100251, 0.00125313, 0.00150376, 0.00175439, 0.00200501, 0.00225564  …  4.63636, 4.67677, 4.71717, 4.75758, 4.79798, 4.83838, 4.87879, 4.91919, 4.9596, 5.0], Δ_E = 1.0e-6, ode_solve_algorithm = Sundials.CVODE_BDF{:Newton,:Dense}(0, 0, 0, 0, false, 10, 5, 7, 3, 10), T = 75.0, t = 0.0:4.444444444444445:40.0, g = 10-element extrapolate(scale(interpolate(::Array{Float64,1}, BSpline(Interpolations.Linear())), (0.0:4.444444444444445:40.0,)), Throw()) with element type Float64:\n",
       " 0.020309375466592776\n",
       " 0.06475381991103722 \n",
       " 0.10919826435548166 \n",
       " 0.15364270879992611 \n",
       " 0.19808715324437057 \n",
       " 0.242531597688815   \n",
       " 0.28697604213325945 \n",
       " 0.3314204865777039  \n",
       " 0.37586493102214835 \n",
       " 0.4203093754665928  , entry_residuals_nodes_count = 30, transition_x0 = [-0.991363, -0.960659, -0.90433, -0.855, -0.785671, -0.699855, -0.613614, -0.450466, -0.209864, -0.191966  …  -0.0438747, -0.0419461, -0.0271277, -0.025505, -0.0217126, -0.0153737, -0.0134256, -0.00433448, -0.00325666, -0.00289299], fifty_node_iv = [-1.00157, -0.848157, -0.821211, -0.821211, -0.821211, -0.748497, -0.633587, -0.527711, -0.498239, -0.498239  …  -0.0713765, -0.0343871, -0.0334064, -0.0334064, -0.029373, -0.029373, -0.029373, -0.029373, -0.029373, -0.029373], continuation_x0 = [0.0, 0.0, 0.0, 0.0, 0.0, 0.0, 0.0, 0.0, 0.0, 0.0, 0.0, 0.0, 0.0, 0.0], transition_lb = [-1.0, -1.0, -1.0, -1.0, -1.0, -1.0, -1.0, -1.0, -1.0, -1.0  …  -1.0, -1.0, -1.0, -1.0, -1.0, -1.0, -1.0, -1.0, -1.0, -1.0], transition_ub = [0.0, 0.0, 0.0, 0.0, 0.0, 0.0, 0.0, 0.0, 0.0, 0.0  …  0.0, 0.0, 0.0, 0.0, 0.0, 0.0, 0.0, 0.0, 0.0, 0.0], transition_iterations = 1000, transition_penalty_coefficient = 1.0, tstops = nothing, params_T = (ρ = 0.02, σ = 3.05, N = 10, θ = 4.9411, γ = 1.0, κ = 0.1317, ζ = 1.0, η = 0.0, Theta = 1, χ = 0.18880392712168415, υ = 0.0553, μ = -0.0115, δ = 0.05, d = 2.9753), stationary_sol_T = (F = getfield(PerlaTonettiWaugh, Symbol(\"#F#39\")){Float64}(4.9411), r = 0.09030937546659278, ν = 2.006987225725606, a = 7.7649754327822595, b = 0.9572387237836906, S = 0.11984248304477713, L_tilde = 0.28013332076982717, L_tilde_x = 0.021272082706388012, L_tilde_E = 0.1782134710933453, L_tilde_a = 0.08064776697009388, z_bar = 1.1292339173626151, w = 0.3702406286434804, x = 1.0, π_min = 0.27371032913700977, g = 0.020309375466592776, z_hat = 2.082344175763897, Ω = 0.6729480641682065, v_tilde = [4.2965, 4.29429, 4.29209, 4.28989, 4.28769, 4.2855, 4.2833, 4.28111, 4.27892, 4.27673  …  4.1694, 4.16875, 4.16736, 4.16454, 4.15895, 4.14792, 4.12628, 4.08386, 4.00083, 3.83833], y = 0.8128978701659052, c = 0.8128978701659052, λ_ii = 0.8964685415579489, U_bar = getfield(PerlaTonettiWaugh, Symbol(\"##37#38\")){Float64,Float64,Float64,Float64}(0.020309375466592776, 0.02, 1.0, 0.8128978701659052)), Ω_0 = 0.6987672535915509, entry_residuals_node_count = 30)"
      ]
     },
     "execution_count": 49,
     "metadata": {},
     "output_type": "execute_result"
    }
   ],
   "source": [
    "if changed_parameters # will use the global solver to set a new initial condition, hopefully in the vicinity of the solution implied by the new parameters\n",
    "    settings = merge(settings, (transition_iterations = 1000,))\n",
    "    @time result = solve_full_model_global(settings; impose_E_monotonicity_constraints = true)\n",
    "    E_nodes = result.E_nodes;\n",
    "    settings = merge(settings, (transition_x0 = E_nodes, ));\n",
    "end"
   ]
  },
  {
   "cell_type": "markdown",
   "metadata": {},
   "source": [
    "Find the corresponding solution"
   ]
  },
  {
   "cell_type": "code",
   "execution_count": 50,
   "metadata": {},
   "outputs": [
    {
     "data": {
      "text/plain": [
       "30-element Array{Float64,1}:\n",
       " -0.9913628565947209   \n",
       " -0.9606594574941437   \n",
       " -0.9043304489730931   \n",
       " -0.8549996366407646   \n",
       " -0.7856713044226733   \n",
       " -0.6998547694336763   \n",
       " -0.6136139399816029   \n",
       " -0.4504661472886451   \n",
       " -0.20986403038223264  \n",
       " -0.19196581015477565  \n",
       " -0.19024255119714034  \n",
       " -0.17462468679291834  \n",
       " -0.1407512094682176   \n",
       "  ⋮                    \n",
       " -0.07077435980806851  \n",
       " -0.06254911167081247  \n",
       " -0.043874735343005795 \n",
       " -0.04194608008791498  \n",
       " -0.027127745158455008 \n",
       " -0.0255050268279821   \n",
       " -0.021712648236922663 \n",
       " -0.015373725314280023 \n",
       " -0.013425582508009582 \n",
       " -0.004334481589620675 \n",
       " -0.0032566610494434173\n",
       " -0.002892990131959372 "
      ]
     },
     "execution_count": 50,
     "metadata": {},
     "output_type": "execute_result"
    }
   ],
   "source": [
    "settings.transition_x0"
   ]
  },
  {
   "cell_type": "code",
   "execution_count": 51,
   "metadata": {
    "scrolled": true
   },
   "outputs": [
    {
     "name": "stdout",
     "output_type": "stream",
     "text": [
      "107.895617 seconds (169.48 M allocations: 242.866 GiB, 40.12% gc time)\n"
     ]
    }
   ],
   "source": [
    "@time result = solve_full_model(settings; impose_E_monotonicity_constraints = true, write_csv = true, csvpath = \"somecsv.csv\")\n",
    "solved = result.solution;\n",
    "E_nodes = result.E_nodes;\n",
    "solved = solved.results;"
   ]
  },
  {
   "cell_type": "markdown",
   "metadata": {},
   "source": [
    "---\n",
    "## Welfare Gains"
   ]
  },
  {
   "cell_type": "code",
   "execution_count": 52,
   "metadata": {},
   "outputs": [
    {
     "name": "stdout",
     "output_type": "stream",
     "text": [
      "Utility in initial SS: 36.771724154009796\n",
      "Utility in new SS: 40.75846634918868\n"
     ]
    }
   ],
   "source": [
    "print(\"Utility in initial SS: \", stationary_sol_0.U_bar(1),\"\\n\")\n",
    "print(\"Utility in new SS: \", stationary_sol.U_bar(1),\"\\n\")"
   ]
  },
  {
   "cell_type": "code",
   "execution_count": 53,
   "metadata": {},
   "outputs": [
    {
     "name": "stdout",
     "output_type": "stream",
     "text": [
      "Utility immediately after change 57.14850011517548\n"
     ]
    }
   ],
   "source": [
    "print(\"Utility immediately after change \", solved.U[1],\"\\n\")"
   ]
  },
  {
   "cell_type": "markdown",
   "metadata": {},
   "source": [
    "#### Summary so far...\n",
    "\n",
    "In the old paper, what we did was take U_0_ss at some date t, then compare it to U_ss at the same date t. This is like an instentanous jump to the new ss. This is what the first cell is looking at and note that this is like a 17 percent increase in utility. Higher than what we had in the paper, but in of the same order of magnitude. \n",
    "\n",
    "The next cell reprots the utility just after the change. Utility here includes the future path of consumption and change in growth rate, so it \"bakes in\" the transition path. Here it goes up by much more than utility in the new SS. This is what I was expecting given the dynamics of consumption. "
   ]
  },
  {
   "cell_type": "markdown",
   "metadata": {},
   "source": [
    "Just a reminder about how the function `counsumption_equivalent(U_new, U_old, parameters)` works, it takes U_new and then U_old in that order, then evaluates the **gross** increase in consumption. 100 times this value **minus one** gives the permanent, percent increase in consumption required to make the agent indifferent between the two paths. "
   ]
  },
  {
   "cell_type": "code",
   "execution_count": 54,
   "metadata": {},
   "outputs": [
    {
     "name": "stdout",
     "output_type": "stream",
     "text": [
      "SS to SS welfare gain: 8.118554194374417\n"
     ]
    }
   ],
   "source": [
    "T = solved.t[end]\n",
    "lambda_ss = 100*(consumption_equivalent(stationary_sol.U_bar(0), stationary_sol_0.U_bar(0), parameters)-1)\n",
    "\n",
    "print(\"SS to SS welfare gain: \", lambda_ss,\"\\n\")"
   ]
  },
  {
   "cell_type": "code",
   "execution_count": 55,
   "metadata": {},
   "outputs": [
    {
     "name": "stdout",
     "output_type": "stream",
     "text": [
      "Inclusive of the Transition Path: 53.09287696369216\n"
     ]
    }
   ],
   "source": [
    "lambda_tpath = 100*(consumption_equivalent(solved.U[1], stationary_sol_0.U_bar(0), parameters)-1)\n",
    "\n",
    "print(\"Inclusive of the Transition Path: \", lambda_tpath,\"\\n\")"
   ]
  },
  {
   "cell_type": "markdown",
   "metadata": {},
   "source": [
    "### Relative to initial notebook computations\n",
    "\n",
    "- SS to SS, the issue here is that we should compare **at date 0** utility in the first ss vs. the second ss. This is what we must have been doing in the previous version of the paper. The previous calulation in the old notebook had \n",
    "```consumption_equivalent(solved.U[end], stationary_sol_0.U_bar(T), parameters)```\n",
    "which took **date T** utility and compard them. The problem is that this now depends on date T. So if we picked T to be arbitraily large, then utility will be arbitraily different.\n",
    "\n",
    "- Following the same logic, the transition path should compare **date 0** utility with the initial value from the transition path. So what we want to do is to compare everything at 0. In the previous calculation, we had\n",
    "```consumption_equivalent(solved.U[1], stationary_sol_0.U_bar(T), parameters)```\n",
    "were comparing the initial utility relative to ss utility on the old path at date T. So the initial blue point below versues the last orange dashed point. **See the figure below**"
   ]
  },
  {
   "cell_type": "code",
   "execution_count": 56,
   "metadata": {},
   "outputs": [
    {
     "data": {
      "image/png": "[encoded data removed]"
     },
     "execution_count": 56,
     "metadata": {},
     "output_type": "execute_result"
    }
   ],
   "source": [
    "plot(solved.t, \n",
    "    [solved.U, stationary_sol_0.U_bar, stationary_sol.U_bar], \n",
    "    label = [\"U_transition_0\", \"U_steady_0\", \"U_steady_T\"] ,\n",
    "    title = \"U(t)\", linestyle = :auto, lw = 3)"
   ]
  },
  {
   "cell_type": "markdown",
   "metadata": {},
   "source": [
    "### Outstanding Issue \\#2: Welfare Gains still depend on T in transition path.\n",
    "\n",
    "The stuff above I think is correct, the one issue is why does the welfare gains, inclusive of the transition path seem to depend on T??? So change T above from 40 to 75 or 100, then the welfare gains fall alot? Why?"
   ]
  },
  {
   "cell_type": "markdown",
   "metadata": {},
   "source": [
    "---\n",
    "## Plotting"
   ]
  },
  {
   "cell_type": "code",
   "execution_count": 57,
   "metadata": {},
   "outputs": [
    {
     "data": {
      "text/plain": [
       "116.020846553842"
      ]
     },
     "execution_count": 57,
     "metadata": {},
     "output_type": "execute_result"
    }
   ],
   "source": [
    "solved.U[end]"
   ]
  },
  {
   "cell_type": "markdown",
   "metadata": {},
   "source": [
    "## Plots for Ω and residuals"
   ]
  },
  {
   "cell_type": "code",
   "execution_count": 58,
   "metadata": {},
   "outputs": [
    {
     "data": {
      "image/png": "[encoded data removed]"
     },
     "execution_count": 58,
     "metadata": {},
     "output_type": "execute_result"
    }
   ],
   "source": [
    "#solved = solved.results;\n",
    "plot_Ω = plot(solved.t, solved.Ω, label = \"Omega\", lw = 3)\n",
    "plot_residual = plot(solved.t, solved.entry_residual, label = \"entry_residual\", lw = 3)\n",
    "plot(plot_Ω, plot_residual, layout = (2,1))"
   ]
  },
  {
   "cell_type": "markdown",
   "metadata": {},
   "source": [
    "## Primary Plots"
   ]
  },
  {
   "cell_type": "code",
   "execution_count": 59,
   "metadata": {
    "scrolled": true
   },
   "outputs": [
    {
     "data": {
      "image/png": "[encoded data removed]"
     },
     "execution_count": 59,
     "metadata": {},
     "output_type": "execute_result"
    }
   ],
   "source": [
    "plot1 = plot(solved.t, solved.g, label = \"g\", lw = 3)\n",
    "plot2 = plot(solved.t, solved.z_hat, label = \"z_hat\", lw = 3)\n",
    "plot3 = plot(solved.t, solved.S, label = \"S\", lw = 3)\n",
    "plot4 = plot(solved.t, solved.entry_residual, label = \"entry_residual\", lw = 3)\n",
    "plot(plot1, plot2, plot3, plot4, layout=(2,2), size = (800, 400))"
   ]
  },
  {
   "cell_type": "markdown",
   "metadata": {},
   "source": [
    "## Static Equations"
   ]
  },
  {
   "cell_type": "code",
   "execution_count": 60,
   "metadata": {},
   "outputs": [
    {
     "data": {
      "image/png": "[encoded data removed]"
     },
     "execution_count": 60,
     "metadata": {},
     "output_type": "execute_result"
    }
   ],
   "source": [
    "plot1 = plot(solved.t, solved.L_tilde, label = \"L_tilde\", lw = 3)\n",
    "plot2 = plot(solved.t, solved.z_bar, label = \"z_bar\", lw = 3)\n",
    "plot3 = plot(solved.t, solved.π_min, label = \"pi_min\", lw = 3)\n",
    "plot4 = plot(solved.t, solved.λ_ii, label = \"lambda_ii\", lw = 3)\n",
    "plot5 = plot(solved.t, solved.c, label = \"c\", lw = 3)\n",
    "plot6 = plot(solved.t, solved.E, label = \"E\", lw = 3)\n",
    "plot7 = plot(solved.t, solved.log_M, label = \"log_M\", lw = 3)\n",
    "plot8 = plot(solved.t, solved.U, label = \"U\", lw = 3)\n",
    "plot(plot1, plot2, plot3, plot4, plot5, plot6, plot7, plot8, layout=(4,2), size = (800, 800))"
   ]
  },
  {
   "cell_type": "markdown",
   "metadata": {},
   "source": [
    "# Welfare analysis"
   ]
  },
  {
   "cell_type": "markdown",
   "metadata": {},
   "source": [
    "### `log_M(t)`"
   ]
  },
  {
   "cell_type": "code",
   "execution_count": 61,
   "metadata": {
    "scrolled": true
   },
   "outputs": [
    {
     "data": {
      "image/png": "[encoded data removed]"
     },
     "execution_count": 61,
     "metadata": {},
     "output_type": "execute_result"
    }
   ],
   "source": [
    "# define log_M with steady state g\n",
    "log_M_steady_0(t) = stationary_sol_0.g * t\n",
    "log_M_steady_T(t) = stationary_sol.g * t\n",
    "\n",
    "# generate the plot!\n",
    "plot(solved.t, \n",
    "    [solved.log_M, log_M_steady_0, log_M_steady_T], \n",
    "    label = [\"log_M_transition_0\", \"log_M_steady_0\", \"log_M_steady_T\"] ,\n",
    "    title = \"log_M(t)\", linestyle = :auto, lw = 3)"
   ]
  },
  {
   "cell_type": "markdown",
   "metadata": {},
   "source": [
    "### `Ω(t)`"
   ]
  },
  {
   "cell_type": "code",
   "execution_count": 62,
   "metadata": {},
   "outputs": [
    {
     "data": {
      "image/png": "[encoded data removed]"
     },
     "execution_count": 62,
     "metadata": {},
     "output_type": "execute_result"
    }
   ],
   "source": [
    "# define Ω function (constant)\n",
    "Ω_steady_0(t) = stationary_sol_0.Ω\n",
    "Ω_steady_T(t) = stationary_sol.Ω\n",
    "\n",
    "# generate the plot!\n",
    "plot(solved.t, \n",
    "    [solved.Ω, Ω_steady_0, Ω_steady_T], \n",
    "    label = [\"Omega_transition_0\", \"Omega_steady_0\", \"Omega_steady_T\"] ,\n",
    "    title = \"Omega(t)\", linestyle = :auto, lw = 3)"
   ]
  },
  {
   "cell_type": "markdown",
   "metadata": {},
   "source": [
    "### `c(t)`"
   ]
  },
  {
   "cell_type": "code",
   "execution_count": 63,
   "metadata": {},
   "outputs": [
    {
     "data": {
      "image/png": "[encoded data removed]"
     },
     "execution_count": 63,
     "metadata": {},
     "output_type": "execute_result"
    }
   ],
   "source": [
    "# define c function (constant)\n",
    "c_steady_0(t) = stationary_sol_0.c\n",
    "c_steady_T(t) = stationary_sol.c\n",
    "\n",
    "# generate the plot!\n",
    "plot(solved.t, \n",
    "    [solved.c, c_steady_0, c_steady_T], \n",
    "    label = [\"c_transition_0\", \"c_steady_0\", \"c_steady_T\"] ,\n",
    "    title = \"c(t)\", linestyle = :auto, lw = 3)"
   ]
  },
  {
   "cell_type": "markdown",
   "metadata": {},
   "source": [
    "### `U(t)`"
   ]
  },
  {
   "cell_type": "code",
   "execution_count": 64,
   "metadata": {
    "scrolled": true
   },
   "outputs": [
    {
     "data": {
      "image/png": "[encoded data removed]"
     },
     "execution_count": 64,
     "metadata": {},
     "output_type": "execute_result"
    }
   ],
   "source": [
    "# generate the plot!\n",
    "plot(solved.t, \n",
    "    [solved.U, stationary_sol_0.U_bar, stationary_sol.U_bar], \n",
    "    label = [\"U_transition_0\", \"U_steady_0\", \"U_steady_T\"] ,\n",
    "    title = \"U(t)\", linestyle = :auto, lw = 3)"
   ]
  },
  {
   "cell_type": "markdown",
   "metadata": {},
   "source": [
    "## Consumption equivalent for search threshold (`M(0)`)\n",
    "See computational appendix for details."
   ]
  },
  {
   "cell_type": "markdown",
   "metadata": {},
   "source": [
    "### `M(0)` by two steady states (autarky and steady state at `T`)"
   ]
  },
  {
   "cell_type": "code",
   "execution_count": 65,
   "metadata": {
    "scrolled": true
   },
   "outputs": [
    {
     "data": {
      "text/plain": [
       "1.2559486645648046"
      ]
     },
     "execution_count": 65,
     "metadata": {},
     "output_type": "execute_result"
    }
   ],
   "source": [
    "T = solved.t[end]\n",
    "consumption_equivalent(solved.U[end], stationary_sol_0.U_bar(T), parameters)"
   ]
  },
  {
   "cell_type": "markdown",
   "metadata": {},
   "source": [
    "### `M(0)` by autarky and transition from `t=0`"
   ]
  },
  {
   "cell_type": "code",
   "execution_count": 66,
   "metadata": {
    "scrolled": true
   },
   "outputs": [
    {
     "data": {
      "text/plain": [
       "0.3869128776202943"
      ]
     },
     "execution_count": 66,
     "metadata": {},
     "output_type": "execute_result"
    }
   ],
   "source": [
    "T = solved.t[end]\n",
    "consumption_equivalent(solved.U[1], stationary_sol_0.U_bar(T), parameters)"
   ]
  },
  {
   "cell_type": "markdown",
   "metadata": {},
   "source": [
    "But if we include the transition path, this falls a lot. Like down to 13 percent gain. "
   ]
  },
  {
   "cell_type": "code",
   "execution_count": 67,
   "metadata": {},
   "outputs": [
    {
     "data": {
      "text/plain": [
       "1.0077684148120571"
      ]
     },
     "execution_count": 67,
     "metadata": {},
     "output_type": "execute_result"
    }
   ],
   "source": [
    "stationary_sol.U_bar(90)/stationary_sol.U_bar(89)"
   ]
  },
  {
   "cell_type": "code",
   "execution_count": 68,
   "metadata": {},
   "outputs": [],
   "source": [
    "# solved \n",
    "# Run the above to see the whole dataframe"
   ]
  },
  {
   "cell_type": "code",
   "execution_count": 69,
   "metadata": {},
   "outputs": [],
   "source": [
    "using DataFrames\n",
    "\n",
    "df_stationary = DataFrame(t = -1.00, g =stationary_sol_0.g, λ_ii = stationary_sol_0.λ_ii, c = stationary_sol_0.c, L_tilde = stationary_sol_0.L_tilde, Ω = stationary_sol_0.Ω);"
   ]
  },
  {
   "cell_type": "code",
   "execution_count": 34,
   "metadata": {},
   "outputs": [
    {
     "data": {
      "text/plain": [
       "\"stationary_results.csv\""
      ]
     },
     "execution_count": 34,
     "metadata": {},
     "output_type": "execute_result"
    }
   ],
   "source": [
    "CSV.write(\"stationary_results.csv\", df_stationary)"
   ]
  }
 ],
 "metadata": {
  "kernelspec": {
   "display_name": "Julia 1.1.0",
   "language": "julia",
   "name": "julia-1.1"
  },
  "language_info": {
   "file_extension": ".jl",
   "mimetype": "application/julia",
   "name": "julia",
   "version": "1.1.0"
  }
 },
 "nbformat": 4,
 "nbformat_minor": 2
}
