{
 "cells": [
  {
   "cell_type": "code",
   "execution_count": 1,
   "metadata": {},
   "outputs": [],
   "source": [
    "using Pkg\n",
    "pkg\"activate .\""
   ]
  },
  {
   "cell_type": "code",
   "execution_count": 2,
   "metadata": {
    "scrolled": true
   },
   "outputs": [
    {
     "name": "stderr",
     "output_type": "stream",
     "text": [
      "┌ Info: Precompiling PerlaTonettiWaugh [d2cacc76-b06b-11e8-362b-f18d03a16405]\n",
      "└ @ Base loading.jl:1192\n",
      "┌ Info: Precompiling Plots [91a5bcdd-55d7-5caf-9e0b-520d859cae80]\n",
      "└ @ Base loading.jl:1192\n",
      "┌ Info: Recompiling stale cache file C:\\Users\\Arnav Sood\\.julia\\compiled\\v1.0\\BenchmarkTools\\ZXPQo.ji for BenchmarkTools [6e4b80f9-dd63-53aa-95a3-0cdb28fa8baf]\n",
      "└ @ Base loading.jl:1190\n"
     ]
    }
   ],
   "source": [
    "using PerlaTonettiWaugh, LinearAlgebra, Plots, BenchmarkTools"
   ]
  },
  {
   "cell_type": "markdown",
   "metadata": {},
   "source": [
    "# Steady states"
   ]
  },
  {
   "cell_type": "markdown",
   "metadata": {},
   "source": [
    "## Solving steady state solutions"
   ]
  },
  {
   "cell_type": "markdown",
   "metadata": {},
   "source": [
    "Set up parameters and find the corresponding stationary solution:"
   ]
  },
  {
   "cell_type": "code",
   "execution_count": 3,
   "metadata": {},
   "outputs": [
    {
     "data": {
      "text/plain": [
       "1.2562899021346912"
      ]
     },
     "execution_count": 3,
     "metadata": {},
     "output_type": "execute_result"
    }
   ],
   "source": [
    "# Define common objects. \n",
    "params = parameter_defaults()\n",
    "settings = settings_defaults()\n",
    "d_0 = 3.0700\n",
    "d_T = 2.5019\n",
    "params_0 = merge(params, (d = d_0,)) # parameters to be used at t = 0\n",
    "params_T = merge(params, (d = d_T,)) # parameters to be used at t = T\n",
    "z_grid = settings.z\n",
    "M = length(z_grid)\n",
    "\n",
    "# solve for stationary solution at t = 0\n",
    "stationary_sol_0 = stationary_numerical(params_0, z_grid) # solution at t = 0\n",
    "stationary_sol = stationary_numerical(params_T, z_grid) # solution at t = T\n",
    "\n",
    "Ω_0 = stationary_sol_0.Ω\n",
    "Ω_T = stationary_sol.Ω"
   ]
  },
  {
   "cell_type": "markdown",
   "metadata": {},
   "source": [
    "## Welfare in steady states"
   ]
  },
  {
   "cell_type": "code",
   "execution_count": 4,
   "metadata": {},
   "outputs": [],
   "source": [
    "# auxil. function that extracts and displays welfare information from steady state solutions\n",
    "function display_stationary_sol(stationary_sol)\n",
    "    @unpack g, z_hat, Ω, π_bar_agg, y, c, λ_ii, U_bar, L_tilde, z_bar, w, x, π_min, r, a, b, S = stationary_sol\n",
    "    @show g\n",
    "    @show z_hat\n",
    "    @show Ω\n",
    "    @show π_bar_agg\n",
    "    @show y\n",
    "    @show c\n",
    "    @show λ_ii\n",
    "    @show U_bar(0.0)\n",
    "    @show L_tilde\n",
    "    @show z_bar\n",
    "    @show w\n",
    "    @show x\n",
    "    @show π_min\n",
    "    @show r\n",
    "    @show a\n",
    "    @show b\n",
    "    @show S\n",
    "end;"
   ]
  },
  {
   "cell_type": "markdown",
   "metadata": {},
   "source": [
    "### Steady state at `T`"
   ]
  },
  {
   "cell_type": "code",
   "execution_count": 5,
   "metadata": {},
   "outputs": [
    {
     "name": "stdout",
     "output_type": "stream",
     "text": [
      "g = 0.02061571025451869\n",
      "z_hat = 1.4039337089833719\n",
      "Ω = 1.2562899021346912\n",
      "π_bar_agg = 0.24067321697108107\n",
      "y = 1.3124933029733836\n",
      "c = 1.3124933029733836\n",
      "λ_ii = 0.7552342507009538\n",
      "U_bar(0.0) = 65.13570628500445\n",
      "L_tilde = 0.20995404933168824\n",
      "z_bar = 1.6612872983693239\n",
      "w = 0.4164044762305304\n",
      "x = 1.0\n",
      "π_min = 0.057942557184611596\n",
      "r = 0.09361571025451869\n",
      "a = 9.160936798572518\n",
      "b = 0.1424454937862814\n",
      "S = 0.03389742155326495\n"
     ]
    }
   ],
   "source": [
    "display_stationary_sol(stationary_sol);"
   ]
  },
  {
   "cell_type": "markdown",
   "metadata": {},
   "source": [
    "### Steady state at `0`"
   ]
  },
  {
   "cell_type": "code",
   "execution_count": 6,
   "metadata": {
    "scrolled": false
   },
   "outputs": [
    {
     "name": "stdout",
     "output_type": "stream",
     "text": [
      "g = 0.010930652401731534\n",
      "z_hat = 1.8135361316618857\n",
      "Ω = 1.7797900066500179\n",
      "π_bar_agg = 0.25994344518684737\n",
      "y = 1.4215794016174819\n",
      "c = 1.4215794016174819\n",
      "λ_ii = 0.8982453618576186\n",
      "U_bar(0.0) = 44.91505641315042\n",
      "L_tilde = 0.19292029504963126\n",
      "z_bar = 1.761386629967237\n",
      "w = 0.44149454330440074\n",
      "x = 1.0\n",
      "π_min = 0.04969310649090876\n",
      "r = 0.08393065240173153\n",
      "a = 12.46809835198446\n",
      "b = 0.14906085711322886\n",
      "S = -0.011680460701951403\n"
     ]
    }
   ],
   "source": [
    "display_stationary_sol(stationary_sol_0);"
   ]
  },
  {
   "cell_type": "markdown",
   "metadata": {},
   "source": [
    "# Transition dynamics"
   ]
  },
  {
   "cell_type": "markdown",
   "metadata": {},
   "source": [
    "Setup for optimizer:"
   ]
  },
  {
   "cell_type": "code",
   "execution_count": 7,
   "metadata": {},
   "outputs": [],
   "source": [
    "ENTRY_RESIDUALS_NODES_COUNT = 15\n",
    "E_NODE_COUNT = 15\n",
    "SOLUTION = [-0.9283233397558605, -0.7931227777335486, -0.6049356364806617, -0.4927044449099116, -0.3358353090972862, -0.2497406170581776, -0.24267972513426644, -0.1251863870906156, -0.0948087489326721, -0.08776386898955374, -0.05730272455803215, -0.04512884607138278, -0.030714141187059757, -0.03010019595942575, 39.420517045082555]\n",
    "RANGES_NODES = map(i->(SOLUTION[i] - 0.0, min(-1e-3, SOLUTION[i] + 0.0)), 1:(E_NODE_COUNT-1))\n",
    "RANGES_T = (SOLUTION[end], SOLUTION[end])\n",
    "RANGES = [RANGES_NODES; RANGES_T]\n",
    "WEIGHTS = [fill(15, 3); fill(1, ENTRY_RESIDUALS_NODES_COUNT-3)]\n",
    "ITERATIONS = 2\n",
    "SORT_CANDIDATE = true # this will make finding solution much more efficient when we use global optimization schemes\n",
    "\n",
    "settings_optim = (params_T = params_T, stationary_sol_T = stationary_sol, Ω_0 = Ω_0,\n",
    "                E_node_count = E_NODE_COUNT, entry_residuals_nodes_count = ENTRY_RESIDUALS_NODES_COUNT, \n",
    "                weights = WEIGHTS, ranges = RANGES, iterations = ITERATIONS,\n",
    "                sort_candidate = SORT_CANDIDATE)\n",
    "settings = merge(settings, settings_optim);"
   ]
  },
  {
   "cell_type": "markdown",
   "metadata": {},
   "source": [
    "Find the corresponding solution:"
   ]
  },
  {
   "cell_type": "code",
   "execution_count": 8,
   "metadata": {},
   "outputs": [],
   "source": [
    "using Interpolations"
   ]
  },
  {
   "cell_type": "code",
   "execution_count": 9,
   "metadata": {},
   "outputs": [
    {
     "data": {
      "text/plain": [
       "15-element Array{Float64,1}:\n",
       " -0.9283233397558605  \n",
       " -0.7931227777335486  \n",
       " -0.6049356364806617  \n",
       " -0.4927044449099116  \n",
       " -0.3358353090972862  \n",
       " -0.2497406170581776  \n",
       " -0.24267972513426644 \n",
       " -0.1251863870906156  \n",
       " -0.0948087489326721  \n",
       " -0.08776386898955374 \n",
       " -0.05730272455803215 \n",
       " -0.04512884607138278 \n",
       " -0.030714141187059757\n",
       " -0.03010019595942575 \n",
       " 39.420517045082555   "
      ]
     },
     "execution_count": 9,
     "metadata": {},
     "output_type": "execute_result"
    }
   ],
   "source": [
    "SOLUTION"
   ]
  },
  {
   "cell_type": "code",
   "execution_count": 10,
   "metadata": {},
   "outputs": [
    {
     "data": {
      "text/plain": [
       "14-element interpolate(::Array{Float64,1}, BSpline(Linear())) with element type Float64:\n",
       " -0.9283233397558605  \n",
       " -0.7931227777335486  \n",
       " -0.6049356364806617  \n",
       " -0.4927044449099116  \n",
       " -0.3358353090972862  \n",
       " -0.2497406170581776  \n",
       " -0.24267972513426644 \n",
       " -0.1251863870906156  \n",
       " -0.0948087489326721  \n",
       " -0.08776386898955374 \n",
       " -0.05730272455803215 \n",
       " -0.04512884607138278 \n",
       " -0.030714141187059757\n",
       " -0.03010019595942575 "
      ]
     },
     "execution_count": 10,
     "metadata": {},
     "output_type": "execute_result"
    }
   ],
   "source": [
    "x0_interp = interpolate(SOLUTION[1:end-1], BSpline(Linear()))"
   ]
  },
  {
   "cell_type": "code",
   "execution_count": 14,
   "metadata": {},
   "outputs": [
    {
     "name": "stdout",
     "output_type": "stream",
     "text": [
      "x0_points = [1.0 2.0 2.14 2.22 2.37 2.39 2.54 2.66 3.0 3.05 3.1 3.31 4.0 4.29 4.5 4.55 5.0 5.17 5.23 6.0 6.52 6.99 7.0 7.4 7.4 7.64 7.72 8.0 8.01 8.07 8.23 9.0 9.63 9.88 10.0 10.74 11.0 11.31 11.33 11.49 12.0 12.05 12.39 12.64 12.75 13.0 13.67 14.0 14.0]\n"
     ]
    },
    {
     "data": {
      "text/plain": [
       "1×49 Array{Float64,2}:\n",
       " 1.0  2.0  2.14  2.22  2.37  2.39  2.54  …  12.75  13.0  13.67  14.0  14.0"
      ]
     },
     "execution_count": 14,
     "metadata": {},
     "output_type": "execute_result"
    }
   ],
   "source": [
    "interp_points = rand(1:0.01:14, 35);\n",
    "x0_points = sort([range(1, 14, step = 1)' interp_points'], dims = 2)\n",
    "@show x0_points"
   ]
  },
  {
   "cell_type": "code",
   "execution_count": 21,
   "metadata": {},
   "outputs": [
    {
     "data": {
      "text/plain": [
       "49-element Array{Float64,1}:\n",
       "  1.0 \n",
       "  2.0 \n",
       "  2.14\n",
       "  2.22\n",
       "  2.37\n",
       "  2.39\n",
       "  2.54\n",
       "  2.66\n",
       "  3.0 \n",
       "  3.05\n",
       "  3.1 \n",
       "  3.31\n",
       "  4.0 \n",
       "  ⋮   \n",
       " 11.31\n",
       " 11.33\n",
       " 11.49\n",
       " 12.0 \n",
       " 12.05\n",
       " 12.39\n",
       " 12.64\n",
       " 12.75\n",
       " 13.0 \n",
       " 13.67\n",
       " 14.0 \n",
       " 14.0 "
      ]
     },
     "execution_count": 21,
     "metadata": {},
     "output_type": "execute_result"
    }
   ],
   "source": [
    "x0_points = vec(x0_points)"
   ]
  },
  {
   "cell_type": "code",
   "execution_count": 22,
   "metadata": {},
   "outputs": [
    {
     "data": {
      "text/plain": [
       "49-element Array{Float64,1}:\n",
       " -0.9283233397558605  \n",
       " -0.7931227777335486  \n",
       " -0.7667765779581444  \n",
       " -0.7517216066579133  \n",
       " -0.7234935354699804  \n",
       " -0.7197297926449227  \n",
       " -0.6915017214569896  \n",
       " -0.6689192645066432  \n",
       " -0.6049356364806617  \n",
       " -0.5993240769021243  \n",
       " -0.5937125173235867  \n",
       " -0.5701439670937292  \n",
       " -0.4927044449099116  \n",
       "  ⋮                   \n",
       " -0.05352882222717084 \n",
       " -0.05328534465743785 \n",
       " -0.051337524099573956\n",
       " -0.04512884607138278 \n",
       " -0.04440811082716662 \n",
       " -0.03950711116649679 \n",
       " -0.035903434945416035\n",
       " -0.034317817408140515\n",
       " -0.030714141187059757\n",
       " -0.03030279788454497 \n",
       " -0.03010019595942575 \n",
       " -0.03010019595942575 "
      ]
     },
     "execution_count": 22,
     "metadata": {},
     "output_type": "execute_result"
    }
   ],
   "source": [
    "x0 = x0_interp.(x0_points)"
   ]
  },
  {
   "cell_type": "code",
   "execution_count": 23,
   "metadata": {},
   "outputs": [
    {
     "data": {
      "text/plain": [
       "50-element Array{Float64,1}:\n",
       " -0.9283233397558605  \n",
       " -0.7931227777335486  \n",
       " -0.7667765779581444  \n",
       " -0.7517216066579133  \n",
       " -0.7234935354699804  \n",
       " -0.7197297926449227  \n",
       " -0.6915017214569896  \n",
       " -0.6689192645066432  \n",
       " -0.6049356364806617  \n",
       " -0.5993240769021243  \n",
       " -0.5937125173235867  \n",
       " -0.5701439670937292  \n",
       " -0.4927044449099116  \n",
       "  ⋮                   \n",
       " -0.05328534465743785 \n",
       " -0.051337524099573956\n",
       " -0.04512884607138278 \n",
       " -0.04440811082716662 \n",
       " -0.03950711116649679 \n",
       " -0.035903434945416035\n",
       " -0.034317817408140515\n",
       " -0.030714141187059757\n",
       " -0.03030279788454497 \n",
       " -0.03010019595942575 \n",
       " -0.03010019595942575 \n",
       " 39.420517045082555   "
      ]
     },
     "execution_count": 23,
     "metadata": {},
     "output_type": "execute_result"
    }
   ],
   "source": [
    "push!(x0, SOLUTION[end])"
   ]
  },
  {
   "cell_type": "code",
   "execution_count": null,
   "metadata": {},
   "outputs": [],
   "source": [
    "x0 == vec(x0)"
   ]
  },
  {
   "cell_type": "code",
   "execution_count": null,
   "metadata": {
    "scrolled": false
   },
   "outputs": [],
   "source": [
    "result = solve_full_model_python(vec(x0), settings)"
   ]
  },
  {
   "cell_type": "code",
   "execution_count": null,
   "metadata": {},
   "outputs": [],
   "source": [
    "solved = result.solution;\n",
    "E_nodes_and_T = result.E_nodes_and_T;"
   ]
  },
  {
   "cell_type": "code",
   "execution_count": null,
   "metadata": {},
   "outputs": [],
   "source": [
    "println(\"E_nodes (sorted) : \")\n",
    "sort(E_nodes_and_T[1:(length(E_nodes_and_T)-1)])"
   ]
  },
  {
   "cell_type": "code",
   "execution_count": null,
   "metadata": {},
   "outputs": [],
   "source": [
    "println(\"T: \")\n",
    "E_nodes_and_T[end]"
   ]
  },
  {
   "cell_type": "markdown",
   "metadata": {},
   "source": [
    "## Plots for Ω and `entry_residuals`"
   ]
  },
  {
   "cell_type": "code",
   "execution_count": null,
   "metadata": {},
   "outputs": [],
   "source": [
    "v_t0 = solved.sol.u[1][1:M]\n",
    "v0 = solved.results[:v_0]\n",
    "# save v0 and v_hat_t0\n",
    "v_hat_t0 = map(z -> exp((params.σ-1)*z), z_grid) .* v_t0;\n",
    "\n",
    "solved = solved.results;\n",
    "plot_Ω = plot(solved.t, solved.Ω, label = \"Omega\", lw = 3)\n",
    "plot_residual = plot(solved.t, solved.entry_residual, label = \"entry_residual\", lw = 3)\n",
    "plot(plot_Ω, plot_residual, layout = (2,1))"
   ]
  },
  {
   "cell_type": "markdown",
   "metadata": {},
   "source": [
    "## Primary Plots"
   ]
  },
  {
   "cell_type": "code",
   "execution_count": null,
   "metadata": {
    "scrolled": true
   },
   "outputs": [],
   "source": [
    "plot1 = plot(solved.t, solved.g, label = \"g\", lw = 3)\n",
    "plot2 = plot(solved.t, solved.z_hat, label = \"z_hat\", lw = 3)\n",
    "plot3 = plot(solved.t, solved.S, label = \"S\", lw = 3)\n",
    "plot4 = plot(solved.t, solved.entry_residual, label = \"entry_residual\", lw = 3)\n",
    "plot(plot1, plot2, plot3, plot4, layout=(2,2))"
   ]
  },
  {
   "cell_type": "markdown",
   "metadata": {},
   "source": [
    "## Static Equations"
   ]
  },
  {
   "cell_type": "code",
   "execution_count": null,
   "metadata": {},
   "outputs": [],
   "source": [
    "plot1 = plot(solved.t, solved.L_tilde, label = \"L_tilde\", lw = 3)\n",
    "plot2 = plot(solved.t, solved.z_bar, label = \"z_bar\", lw = 3)\n",
    "plot3 = plot(solved.t, solved.π_min, label = \"pi_min\", lw = 3)\n",
    "plot4 = plot(solved.t, solved.λ_ii, label = \"lambda_ii\", lw = 3)\n",
    "plot5 = plot(solved.t, solved.c, label = \"c\", lw = 3)\n",
    "plot6 = plot(solved.t, solved.E, label = \"E\", lw = 3)\n",
    "plot7 = plot(solved.t, solved.log_M, label = \"log_M\", lw = 3)\n",
    "plot8 = plot(solved.t, solved.U, label = \"U\", lw = 3)\n",
    "plot9 = plot(z_grid, v_hat_t0, label = \"v_hat at t = 0\", lw = 3)\n",
    "plot(plot1, plot2, plot3, plot4, plot5, plot6, plot7, plot8, layout=(4,2))"
   ]
  },
  {
   "cell_type": "markdown",
   "metadata": {},
   "source": [
    "# Welfare analysis"
   ]
  },
  {
   "cell_type": "markdown",
   "metadata": {},
   "source": [
    "### `log_M(t)`"
   ]
  },
  {
   "cell_type": "code",
   "execution_count": null,
   "metadata": {
    "scrolled": true
   },
   "outputs": [],
   "source": [
    "# define log_M with steady state g\n",
    "log_M_steady_0(t) = stationary_sol_0.g * t\n",
    "log_M_steady_T(t) = stationary_sol.g * t\n",
    "\n",
    "# generate the plot!\n",
    "plot(solved.t, \n",
    "    [solved.log_M, log_M_steady_0, log_M_steady_T], \n",
    "    label = [\"log_M_transition_0\", \"log_M_steady_0\", \"log_M_steady_T\"] ,\n",
    "    title = \"log_M(t)\", linestyle = :auto, lw = 3)"
   ]
  },
  {
   "cell_type": "markdown",
   "metadata": {},
   "source": [
    "### `Ω(t)`"
   ]
  },
  {
   "cell_type": "code",
   "execution_count": null,
   "metadata": {},
   "outputs": [],
   "source": [
    "# define Ω function (constant)\n",
    "Ω_steady_0(t) = stationary_sol_0.Ω\n",
    "Ω_steady_T(t) = stationary_sol.Ω\n",
    "\n",
    "# generate the plot!\n",
    "plot(solved.t, \n",
    "    [solved.Ω, Ω_steady_0, Ω_steady_T], \n",
    "    label = [\"Omega_transition_0\", \"Omega_steady_0\", \"Omega_steady_T\"] ,\n",
    "    title = \"Omega(t)\", linestyle = :auto, lw = 3)"
   ]
  },
  {
   "cell_type": "markdown",
   "metadata": {},
   "source": [
    "### `c(t)`"
   ]
  },
  {
   "cell_type": "code",
   "execution_count": null,
   "metadata": {},
   "outputs": [],
   "source": [
    "# define c function (constant)\n",
    "c_steady_0(t) = stationary_sol_0.c\n",
    "c_steady_T(t) = stationary_sol.c\n",
    "\n",
    "# generate the plot!\n",
    "plot(solved.t, \n",
    "    [solved.c, c_steady_0, c_steady_T], \n",
    "    label = [\"c_transition_0\", \"c_steady_0\", \"c_steady_T\"] ,\n",
    "    title = \"c(t)\", linestyle = :auto, lw = 3)"
   ]
  },
  {
   "cell_type": "markdown",
   "metadata": {},
   "source": [
    "### `U(t)`"
   ]
  },
  {
   "cell_type": "code",
   "execution_count": null,
   "metadata": {
    "scrolled": true
   },
   "outputs": [],
   "source": [
    "# generate the plot!\n",
    "plot(solved.t, \n",
    "    [solved.U, stationary_sol_0.U_bar, stationary_sol.U_bar], \n",
    "    label = [\"U_transition_0\", \"U_steady_0\", \"U_steady_T\"] ,\n",
    "    title = \"U(t)\", linestyle = :auto, lw = 3)"
   ]
  },
  {
   "cell_type": "markdown",
   "metadata": {},
   "source": [
    "## Consumption equivalent for search threshold (`M(0)`)\n",
    "See computational appendix for details."
   ]
  },
  {
   "cell_type": "markdown",
   "metadata": {},
   "source": [
    "### `M(0)` by two steady states (autarky and steady state at `T`)"
   ]
  },
  {
   "cell_type": "code",
   "execution_count": null,
   "metadata": {},
   "outputs": [],
   "source": [
    "T = solved.t[end]\n",
    "M_0 = exp(params.ρ*(stationary_sol.U_bar(T) - stationary_sol_0.U_bar(T)))"
   ]
  },
  {
   "cell_type": "markdown",
   "metadata": {},
   "source": [
    "### `M(0)` by autarky and transition from `t=0`"
   ]
  },
  {
   "cell_type": "code",
   "execution_count": null,
   "metadata": {},
   "outputs": [],
   "source": [
    "T = solved.t[end]\n",
    "M_0 = exp(params.ρ*(solved.U[1] - stationary_sol_0.U_bar(T)))"
   ]
  }
 ],
 "metadata": {
  "kernelspec": {
   "display_name": "Julia 1.0.2",
   "language": "julia",
   "name": "julia-1.0"
  },
  "language_info": {
   "file_extension": ".jl",
   "mimetype": "application/julia",
   "name": "julia",
   "version": "1.0.2"
  }
 },
 "nbformat": 4,
 "nbformat_minor": 2
}
