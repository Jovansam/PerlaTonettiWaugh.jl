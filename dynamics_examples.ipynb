{
 "cells": [
  {
   "cell_type": "code",
   "execution_count": null,
   "metadata": {},
   "outputs": [],
   "source": [
    "using PerlaTonettiWaugh, Plots, BenchmarkTools"
   ]
  },
  {
   "cell_type": "code",
   "execution_count": null,
   "metadata": {},
   "outputs": [],
   "source": [
    "z_min = 0.0 \n",
    "z_max = 5.0\n",
    "M = 1000\n",
    "z_grid = range(z_min, stop = z_max, length = M) # Since we only care about the grid. \n",
    "\n",
    "# Time\n",
    "tstops_min_Δ_val = 1e-3 # minimum distance between tstops to be used for DE solvers.\n",
    "# Define common objects. \n",
    "d_0 = 5\n",
    "d_T = 2.3701\n",
    "params = (ρ = 0.02, σ = 4.2508, N = 10, θ = 5.1269, γ = 1.00, κ = 0.013, ζ = 1, η = 0, Theta = 1, χ = 1/(2.1868), υ = 0.0593, μ = 0, δ = 0.053, d = 2.3701) # Baselines per Jesse. \n",
    "stationary_sol = stationary_numerical(params, z_grid) # solution at t = T\n",
    "println(\"g = $(stationary_sol.g), z_hat = $(stationary_sol.z_hat), Ω = $(stationary_sol.Ω)\")"
   ]
  },
  {
   "cell_type": "code",
   "execution_count": null,
   "metadata": {},
   "outputs": [],
   "source": [
    "T = 5.0\n",
    "settings = (z = z_grid, tstops = 0:T, Δ_E = 1e-4)\n",
    "Ω(t) = stationary_sol.Ω\n",
    "stationary_sol.Ω\n",
    "Δ_E = 1e-4\n",
    "E(t) = (log(Ω(t+Δ_E)) - log(Ω(t-Δ_E)))/(2*Δ_E) + params.δ"
   ]
  },
  {
   "cell_type": "markdown",
   "metadata": {},
   "source": [
    "Set ups and test f! first to see if residuals are reasonable at `T`"
   ]
  },
  {
   "cell_type": "code",
   "execution_count": null,
   "metadata": {},
   "outputs": [],
   "source": [
    "# solve for stationary solution at t = 0\n",
    "params_0 = merge(params, (d = d_0,)) # parameters to be used at t = 0\n",
    "params_T = merge(params, (d = d_T,)) # parameters to be used at t = T\n",
    "\n",
    "stationary_sol_0 = stationary_numerical(params_0, z_grid) # solution at t = 0\n",
    "Ω_0 = stationary_sol_0.Ω\n",
    "\n",
    "# get settings\n",
    "settings = (z = z_grid, tstops = 0:1e-3:T, Δ_E = 1e-04)"
   ]
  },
  {
   "cell_type": "code",
   "execution_count": null,
   "metadata": {},
   "outputs": [],
   "source": [
    "# #Testing the f!\n",
    "du = zeros(M)\n",
    "u = [stationary_sol.v_tilde; stationary_sol.g; stationary_sol.z_hat]\n",
    "resid = similar(u)\n",
    "du = zeros(M+2)\n",
    "t = T\n",
    "f! = solve_dynamics(params_T, stationary_sol, settings, T, Ω; stopwithf! = true)\n",
    "@btime f!($resid,$du,$u,[ ],$t)"
   ]
  },
  {
   "cell_type": "code",
   "execution_count": null,
   "metadata": {},
   "outputs": [],
   "source": [
    "resid"
   ]
  },
  {
   "cell_type": "markdown",
   "metadata": {},
   "source": [
    "Now let's solve the problem and draw the plots!"
   ]
  },
  {
   "cell_type": "code",
   "execution_count": null,
   "metadata": {},
   "outputs": [],
   "source": [
    "# solve the dynamics!\n",
    "solved_tuple = solve_dynamics(params_T, stationary_sol, settings, T, Ω)\n",
    "solved = solved_tuple.results\n",
    "v_t0 = solved_tuple.sol.u[1][1:M]\n",
    "v0 = solved[:v_0]\n",
    "\n",
    "# save v0 and v_hat_t0\n",
    "v_hat_t0 = map(z -> exp((params.σ-1)*z), z_grid) .* v_t0"
   ]
  },
  {
   "cell_type": "code",
   "execution_count": null,
   "metadata": {},
   "outputs": [],
   "source": [
    "plot(solved.t, solved.entry_residual, label = \"entry_residual\", lw = 3)"
   ]
  },
  {
   "cell_type": "code",
   "execution_count": null,
   "metadata": {},
   "outputs": [],
   "source": [
    "plot(solved.t, solved.g, label = \"g\", lw = 3)"
   ]
  },
  {
   "cell_type": "code",
   "execution_count": null,
   "metadata": {},
   "outputs": [],
   "source": [
    "plot(solved.t, solved.z_hat, label = \"z_hat\", lw = 3)"
   ]
  },
  {
   "cell_type": "code",
   "execution_count": null,
   "metadata": {},
   "outputs": [],
   "source": [
    "plot(solved.t, solved.S, label = \"S\", lw = 3)"
   ]
  },
  {
   "cell_type": "code",
   "execution_count": null,
   "metadata": {},
   "outputs": [],
   "source": [
    "plot(solved.t, solved.L_tilde, label = \"L_tilde\", lw = 3)"
   ]
  },
  {
   "cell_type": "code",
   "execution_count": null,
   "metadata": {},
   "outputs": [],
   "source": [
    "plot(solved.t, solved.z_bar, label = \"z_bar\", lw = 3)"
   ]
  },
  {
   "cell_type": "code",
   "execution_count": null,
   "metadata": {},
   "outputs": [],
   "source": [
    "plot(solved.t, solved.π_min, label = \"pi_min\", lw = 3)"
   ]
  },
  {
   "cell_type": "code",
   "execution_count": null,
   "metadata": {},
   "outputs": [],
   "source": [
    "plot(solved.t, solved.λ_ii, label = \"lambda_ii\", lw = 3)"
   ]
  },
  {
   "cell_type": "code",
   "execution_count": null,
   "metadata": {},
   "outputs": [],
   "source": [
    "plot(solved.t, solved.c, label = \"c\", lw = 3)"
   ]
  },
  {
   "cell_type": "code",
   "execution_count": null,
   "metadata": {},
   "outputs": [],
   "source": [
    "plot(solved.t, solved.E, label = \"E\", lw = 3)"
   ]
  },
  {
   "cell_type": "code",
   "execution_count": null,
   "metadata": {},
   "outputs": [],
   "source": [
    "plot(z_grid, v_hat_t0, label = \"v_hat at t = 0\", lw = 3)"
   ]
  },
  {
   "cell_type": "code",
   "execution_count": null,
   "metadata": {},
   "outputs": [],
   "source": [
    "plot(solved.t, solved.v_0, label = \"v0\", lw = 3)"
   ]
  }
 ],
 "metadata": {
  "kernelspec": {
   "display_name": "Julia 1.0.0",
   "language": "julia",
   "name": "julia-1.0"
  },
  "language_info": {
   "file_extension": ".jl",
   "mimetype": "application/julia",
   "name": "julia",
   "version": "1.0.0"
  }
 },
 "nbformat": 4,
 "nbformat_minor": 2
}
