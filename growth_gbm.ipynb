{
 "cells": [
  {
   "cell_type": "code",
   "execution_count": 1,
   "metadata": {},
   "outputs": [
    {
     "name": "stdout",
     "output_type": "stream",
     "text": [
      "\u001b[32m\u001b[1m  Updating\u001b[22m\u001b[39m registry at `C:\\Users\\mwaugh\\.julia\\registries\\General`\n",
      "\u001b[32m\u001b[1m  Updating\u001b[22m\u001b[39m git-repo `https://github.com/JuliaRegistries/General.git`\n",
      "\u001b[2K\u001b[?25h\u001b[32m\u001b[1m Installed\u001b[22m\u001b[39m Compat ───────────── v2.0.0\n",
      "\u001b[32m\u001b[1m Installed\u001b[22m\u001b[39m WeakRefStrings ───── v0.5.8\n",
      "\u001b[32m\u001b[1m Installed\u001b[22m\u001b[39m LazyArrays ───────── v0.7.0\n",
      "\u001b[32m\u001b[1m Installed\u001b[22m\u001b[39m DiffEqJump ───────── v6.1.1\n",
      "\u001b[32m\u001b[1m Installed\u001b[22m\u001b[39m Parsers ──────────── v0.2.22\n",
      "\u001b[32m\u001b[1m Installed\u001b[22m\u001b[39m TranscodingStreams ─ v0.9.2\n",
      "\u001b[32m\u001b[1m Installed\u001b[22m\u001b[39m Distributions ────── v0.17.0\n",
      "\u001b[32m\u001b[1m Installed\u001b[22m\u001b[39m Optim ────────────── v0.18.0\n",
      "\u001b[32m\u001b[1m Installed\u001b[22m\u001b[39m Ratios ───────────── v0.3.1\n",
      "\u001b[32m\u001b[1m Installed\u001b[22m\u001b[39m DiffEqDiffTools ──── v0.8.1\n",
      "\u001b[32m\u001b[1m Installed\u001b[22m\u001b[39m FillArrays ───────── v0.5.0\n",
      "\u001b[32m\u001b[1m Installed\u001b[22m\u001b[39m DiffEqBase ───────── v5.5.1\n",
      "\u001b[32m\u001b[1m Installed\u001b[22m\u001b[39m Tables ───────────── v0.1.18\n",
      "\u001b[32m\u001b[1mPrecompiling\u001b[22m\u001b[39m project...\n",
      "\u001b[32m\u001b[1mPrecompiling\u001b[22m\u001b[39m CSV\n"
     ]
    },
    {
     "name": "stderr",
     "output_type": "stream",
     "text": [
      "┌ Info: Recompiling stale cache file C:\\Users\\mwaugh\\.julia\\compiled\\v1.0\\CSV\\HHBkp.ji for CSV [336ed68f-0bac-5ca0-87d4-7b16caf5d00b]\n",
      "└ @ Base loading.jl:1190\n"
     ]
    },
    {
     "name": "stdout",
     "output_type": "stream",
     "text": [
      "\u001b[32m\u001b[1mPrecompiling\u001b[22m\u001b[39m ForwardDiff\n"
     ]
    },
    {
     "name": "stderr",
     "output_type": "stream",
     "text": [
      "┌ Info: Precompiling ForwardDiff [f6369f11-7733-5829-9624-2563aa707210]\n",
      "└ @ Base loading.jl:1192\n"
     ]
    },
    {
     "name": "stdout",
     "output_type": "stream",
     "text": [
      "\u001b[32m\u001b[1mPrecompiling\u001b[22m\u001b[39m Sundials\n"
     ]
    },
    {
     "name": "stderr",
     "output_type": "stream",
     "text": [
      "┌ Info: Precompiling Sundials [c3572dad-4567-51f8-b174-8c6c989267f4]\n",
      "└ @ Base loading.jl:1192\n"
     ]
    },
    {
     "name": "stdout",
     "output_type": "stream",
     "text": [
      "\u001b[32m\u001b[1mPrecompiling\u001b[22m\u001b[39m Interpolations\n"
     ]
    },
    {
     "name": "stderr",
     "output_type": "stream",
     "text": [
      "┌ Info: Recompiling stale cache file C:\\Users\\mwaugh\\.julia\\compiled\\v1.0\\Interpolations\\VpKVx.ji for Interpolations [a98d9a8b-a2ab-59e6-89dd-64a1c18fca59]\n",
      "└ @ Base loading.jl:1190\n"
     ]
    },
    {
     "name": "stdout",
     "output_type": "stream",
     "text": [
      "\u001b[32m\u001b[1mPrecompiling\u001b[22m\u001b[39m NLopt\n"
     ]
    },
    {
     "name": "stderr",
     "output_type": "stream",
     "text": [
      "┌ Info: Recompiling stale cache file C:\\Users\\mwaugh\\.julia\\compiled\\v1.0\\NLopt\\faRdv.ji for NLopt [76087f3c-5699-56af-9a33-bf431cd00edd]\n",
      "└ @ Base loading.jl:1190\n"
     ]
    },
    {
     "name": "stdout",
     "output_type": "stream",
     "text": [
      "\u001b[32m\u001b[1mPrecompiling\u001b[22m\u001b[39m DataFramesMeta\n"
     ]
    },
    {
     "name": "stderr",
     "output_type": "stream",
     "text": [
      "┌ Info: Recompiling stale cache file C:\\Users\\mwaugh\\.julia\\compiled\\v1.0\\DataFramesMeta\\2xRTO.ji for DataFramesMeta [1313f7d8-7da2-5740-9ea0-a2ca25f37964]\n",
      "└ @ Base loading.jl:1190\n"
     ]
    },
    {
     "name": "stdout",
     "output_type": "stream",
     "text": [
      "\u001b[32m\u001b[1mPrecompiling\u001b[22m\u001b[39m Compat\n"
     ]
    },
    {
     "name": "stderr",
     "output_type": "stream",
     "text": [
      "┌ Info: Recompiling stale cache file C:\\Users\\mwaugh\\.julia\\compiled\\v1.0\\Compat\\GSFWK.ji for Compat [34da2185-b29b-5c13-b0c7-acf172513d20]\n",
      "└ @ Base loading.jl:1190\n"
     ]
    },
    {
     "name": "stdout",
     "output_type": "stream",
     "text": [
      "\u001b[32m\u001b[1mPrecompiling\u001b[22m\u001b[39m Plots\n"
     ]
    },
    {
     "name": "stderr",
     "output_type": "stream",
     "text": [
      "┌ Info: Precompiling Plots [91a5bcdd-55d7-5caf-9e0b-520d859cae80]\n",
      "└ @ Base loading.jl:1192\n",
      "┌ Warning: Module Compat with build ID 493985325652524 is missing from the cache.\n",
      "│ This may mean Compat [34da2185-b29b-5c13-b0c7-acf172513d20] does not support precompilation but is imported by a module that does.\n",
      "└ @ Base loading.jl:947\n",
      "┌ Warning: Module Compat with build ID 493985325652524 is missing from the cache.\n",
      "│ This may mean Compat [34da2185-b29b-5c13-b0c7-acf172513d20] does not support precompilation but is imported by a module that does.\n",
      "└ @ Base loading.jl:947\n"
     ]
    },
    {
     "name": "stdout",
     "output_type": "stream",
     "text": [
      "\u001b[32m\u001b[1mPrecompiling\u001b[22m\u001b[39m NLSolversBase\n"
     ]
    },
    {
     "name": "stderr",
     "output_type": "stream",
     "text": [
      "┌ Info: Precompiling NLSolversBase [d41bc354-129a-5804-8e4c-c37616107c6c]\n",
      "└ @ Base loading.jl:1192\n",
      "┌ Warning: Module Compat with build ID 493985325652524 is missing from the cache.\n",
      "│ This may mean Compat [34da2185-b29b-5c13-b0c7-acf172513d20] does not support precompilation but is imported by a module that does.\n",
      "└ @ Base loading.jl:947\n",
      "┌ Warning: Module Compat with build ID 493985325652524 is missing from the cache.\n",
      "│ This may mean Compat [34da2185-b29b-5c13-b0c7-acf172513d20] does not support precompilation but is imported by a module that does.\n",
      "└ @ Base loading.jl:947\n",
      "┌ Warning: Module Compat with build ID 493985325652524 is missing from the cache.\n",
      "│ This may mean Compat [34da2185-b29b-5c13-b0c7-acf172513d20] does not support precompilation but is imported by a module that does.\n",
      "└ @ Base loading.jl:947\n",
      "┌ Warning: Module Compat with build ID 493985325652524 is missing from the cache.\n",
      "│ This may mean Compat [34da2185-b29b-5c13-b0c7-acf172513d20] does not support precompilation but is imported by a module that does.\n",
      "└ @ Base loading.jl:947\n"
     ]
    },
    {
     "name": "stdout",
     "output_type": "stream",
     "text": [
      "\u001b[32m\u001b[1mPrecompiling\u001b[22m\u001b[39m DiffEqCallbacks\n"
     ]
    },
    {
     "name": "stderr",
     "output_type": "stream",
     "text": [
      "┌ Info: Precompiling DiffEqCallbacks [459566f4-90b8-5000-8ac3-15dfb0a30def]\n",
      "└ @ Base loading.jl:1192\n",
      "┌ Warning: Module Compat with build ID 493985325652524 is missing from the cache.\n",
      "│ This may mean Compat [34da2185-b29b-5c13-b0c7-acf172513d20] does not support precompilation but is imported by a module that does.\n",
      "└ @ Base loading.jl:947\n",
      "┌ Warning: Module Compat with build ID 493985325652524 is missing from the cache.\n",
      "│ This may mean Compat [34da2185-b29b-5c13-b0c7-acf172513d20] does not support precompilation but is imported by a module that does.\n",
      "└ @ Base loading.jl:947\n"
     ]
    },
    {
     "name": "stdout",
     "output_type": "stream",
     "text": [
      "\u001b[32m\u001b[1mPrecompiling\u001b[22m\u001b[39m BlackBoxOptim\n"
     ]
    },
    {
     "name": "stderr",
     "output_type": "stream",
     "text": [
      "┌ Info: Precompiling BlackBoxOptim [a134a8b2-14d6-55f6-9291-3336d3ab0209]\n",
      "└ @ Base loading.jl:1192\n",
      "┌ Warning: Module Compat with build ID 493985325652524 is missing from the cache.\n",
      "│ This may mean Compat [34da2185-b29b-5c13-b0c7-acf172513d20] does not support precompilation but is imported by a module that does.\n",
      "└ @ Base loading.jl:947\n"
     ]
    },
    {
     "name": "stdout",
     "output_type": "stream",
     "text": [
      "\u001b[32m\u001b[1mPrecompiling\u001b[22m\u001b[39m DifferentialEquations\n"
     ]
    },
    {
     "name": "stderr",
     "output_type": "stream",
     "text": [
      "┌ Info: Precompiling DifferentialEquations [0c46a032-eb83-5123-abaf-570d42b7fbaa]\n",
      "└ @ Base loading.jl:1192\n",
      "┌ Warning: Module Compat with build ID 493985325652524 is missing from the cache.\n",
      "│ This may mean Compat [34da2185-b29b-5c13-b0c7-acf172513d20] does not support precompilation but is imported by a module that does.\n",
      "└ @ Base loading.jl:947\n",
      "┌ Warning: Module Compat with build ID 493985325652524 is missing from the cache.\n",
      "│ This may mean Compat [34da2185-b29b-5c13-b0c7-acf172513d20] does not support precompilation but is imported by a module that does.\n",
      "└ @ Base loading.jl:947\n"
     ]
    },
    {
     "name": "stdout",
     "output_type": "stream",
     "text": [
      "\u001b[32m\u001b[1mPrecompiling\u001b[22m\u001b[39m LeastSquaresOptim\n"
     ]
    },
    {
     "name": "stderr",
     "output_type": "stream",
     "text": [
      "┌ Info: Precompiling LeastSquaresOptim [0fc2ff8b-aaa3-5acd-a817-1944a5e08891]\n",
      "└ @ Base loading.jl:1192\n",
      "┌ Warning: Module Compat with build ID 493985325652524 is missing from the cache.\n",
      "│ This may mean Compat [34da2185-b29b-5c13-b0c7-acf172513d20] does not support precompilation but is imported by a module that does.\n",
      "└ @ Base loading.jl:947\n",
      "┌ Warning: Module Compat with build ID 493985325652524 is missing from the cache.\n",
      "│ This may mean Compat [34da2185-b29b-5c13-b0c7-acf172513d20] does not support precompilation but is imported by a module that does.\n",
      "└ @ Base loading.jl:947\n",
      "┌ Warning: Module Compat with build ID 493985325652524 is missing from the cache.\n",
      "│ This may mean Compat [34da2185-b29b-5c13-b0c7-acf172513d20] does not support precompilation but is imported by a module that does.\n",
      "└ @ Base loading.jl:947\n",
      "┌ Warning: Module Compat with build ID 493985325652524 is missing from the cache.\n",
      "│ This may mean Compat [34da2185-b29b-5c13-b0c7-acf172513d20] does not support precompilation but is imported by a module that does.\n",
      "└ @ Base loading.jl:947\n"
     ]
    },
    {
     "name": "stdout",
     "output_type": "stream",
     "text": [
      "\u001b[32m\u001b[1mPrecompiling\u001b[22m\u001b[39m PerlaTonettiWaugh\n"
     ]
    },
    {
     "name": "stderr",
     "output_type": "stream",
     "text": [
      "┌ Info: Precompiling PerlaTonettiWaugh [d2cacc76-b06b-11e8-362b-f18d03a16405]\n",
      "└ @ Base loading.jl:1192\n",
      "┌ Warning: Module Compat with build ID 493985325652524 is missing from the cache.\n",
      "│ This may mean Compat [34da2185-b29b-5c13-b0c7-acf172513d20] does not support precompilation but is imported by a module that does.\n",
      "└ @ Base loading.jl:947\n",
      "┌ Warning: Module Compat with build ID 493985325652524 is missing from the cache.\n",
      "│ This may mean Compat [34da2185-b29b-5c13-b0c7-acf172513d20] does not support precompilation but is imported by a module that does.\n",
      "└ @ Base loading.jl:947\n",
      "┌ Warning: Module Compat with build ID 493985325652524 is missing from the cache.\n",
      "│ This may mean Compat [34da2185-b29b-5c13-b0c7-acf172513d20] does not support precompilation but is imported by a module that does.\n",
      "└ @ Base loading.jl:947\n",
      "┌ Warning: Module Compat with build ID 493985325652524 is missing from the cache.\n",
      "│ This may mean Compat [34da2185-b29b-5c13-b0c7-acf172513d20] does not support precompilation but is imported by a module that does.\n",
      "└ @ Base loading.jl:947\n"
     ]
    }
   ],
   "source": [
    "using Pkg\n",
    "pkg\"activate .\"\n",
    "pkg\"instantiate\"\n",
    "pkg\"precompile\""
   ]
  },
  {
   "cell_type": "code",
   "execution_count": 2,
   "metadata": {},
   "outputs": [
    {
     "name": "stderr",
     "output_type": "stream",
     "text": [
      "┌ Info: Precompiling PerlaTonettiWaugh [d2cacc76-b06b-11e8-362b-f18d03a16405]\n",
      "└ @ Base loading.jl:1192\n",
      "┌ Warning: Module Compat with build ID 493985325652524 is missing from the cache.\n",
      "│ This may mean Compat [34da2185-b29b-5c13-b0c7-acf172513d20] does not support precompilation but is imported by a module that does.\n",
      "└ @ Base loading.jl:947\n",
      "┌ Warning: Module Compat with build ID 493985325652524 is missing from the cache.\n",
      "│ This may mean Compat [34da2185-b29b-5c13-b0c7-acf172513d20] does not support precompilation but is imported by a module that does.\n",
      "└ @ Base loading.jl:947\n",
      "┌ Warning: Module Compat with build ID 493985325652524 is missing from the cache.\n",
      "│ This may mean Compat [34da2185-b29b-5c13-b0c7-acf172513d20] does not support precompilation but is imported by a module that does.\n",
      "└ @ Base loading.jl:947\n",
      "┌ Warning: Module Compat with build ID 493985325652524 is missing from the cache.\n",
      "│ This may mean Compat [34da2185-b29b-5c13-b0c7-acf172513d20] does not support precompilation but is imported by a module that does.\n",
      "└ @ Base loading.jl:947\n",
      "┌ Info: Precompiling DifferentialEquations [0c46a032-eb83-5123-abaf-570d42b7fbaa]\n",
      "└ @ Base loading.jl:1192\n",
      "┌ Warning: Module Compat with build ID 493985325652524 is missing from the cache.\n",
      "│ This may mean Compat [34da2185-b29b-5c13-b0c7-acf172513d20] does not support precompilation but is imported by a module that does.\n",
      "└ @ Base loading.jl:947\n",
      "┌ Warning: Module Compat with build ID 493985325652524 is missing from the cache.\n",
      "│ This may mean Compat [34da2185-b29b-5c13-b0c7-acf172513d20] does not support precompilation but is imported by a module that does.\n",
      "└ @ Base loading.jl:947\n",
      "┌ Info: Precompiling DiffEqBase [2b5f629d-d688-5b77-993f-72d75c75574e]\n",
      "└ @ Base loading.jl:1192\n",
      "┌ Warning: Module Compat with build ID 493985325652524 is missing from the cache.\n",
      "│ This may mean Compat [34da2185-b29b-5c13-b0c7-acf172513d20] does not support precompilation but is imported by a module that does.\n",
      "└ @ Base loading.jl:947\n",
      "┌ Info: Precompiling DiffEqPDEBase [34035eb4-37db-58ae-b003-a3202c898701]\n",
      "└ @ Base loading.jl:1192\n",
      "┌ Warning: Module DiffEqBase with build ID 125791842591260 is missing from the cache.\n",
      "│ This may mean DiffEqBase [2b5f629d-d688-5b77-993f-72d75c75574e] does not support precompilation but is imported by a module that does.\n",
      "└ @ Base loading.jl:947\n",
      "┌ Info: Precompiling DiffEqNoiseProcess [77a26b50-5914-5dd7-bc55-306e6241c503]\n",
      "└ @ Base loading.jl:1192\n",
      "┌ Warning: Module DiffEqBase with build ID 125791842591260 is missing from the cache.\n",
      "│ This may mean DiffEqBase [2b5f629d-d688-5b77-993f-72d75c75574e] does not support precompilation but is imported by a module that does.\n",
      "└ @ Base loading.jl:947\n",
      "┌ Info: Precompiling SteadyStateDiffEq [9672c7b4-1e72-59bd-8a11-6ac3964bc41f]\n",
      "└ @ Base loading.jl:1192\n",
      "┌ Warning: Module DiffEqBase with build ID 125791842591260 is missing from the cache.\n",
      "│ This may mean DiffEqBase [2b5f629d-d688-5b77-993f-72d75c75574e] does not support precompilation but is imported by a module that does.\n",
      "└ @ Base loading.jl:947\n",
      "┌ Info: Precompiling NLsolve [2774e3e8-f4cf-5e23-947b-6d7e65073b56]\n",
      "└ @ Base loading.jl:1192\n",
      "┌ Warning: Module Compat with build ID 493985325652524 is missing from the cache.\n",
      "│ This may mean Compat [34da2185-b29b-5c13-b0c7-acf172513d20] does not support precompilation but is imported by a module that does.\n",
      "└ @ Base loading.jl:947\n",
      "┌ Warning: Module Compat with build ID 493985325652524 is missing from the cache.\n",
      "│ This may mean Compat [34da2185-b29b-5c13-b0c7-acf172513d20] does not support precompilation but is imported by a module that does.\n",
      "└ @ Base loading.jl:947\n",
      "┌ Warning: Module Compat with build ID 493985325652524 is missing from the cache.\n",
      "│ This may mean Compat [34da2185-b29b-5c13-b0c7-acf172513d20] does not support precompilation but is imported by a module that does.\n",
      "└ @ Base loading.jl:947\n",
      "┌ Warning: Module Compat with build ID 493985325652524 is missing from the cache.\n",
      "│ This may mean Compat [34da2185-b29b-5c13-b0c7-acf172513d20] does not support precompilation but is imported by a module that does.\n",
      "└ @ Base loading.jl:947\n",
      "┌ Warning: Module Compat with build ID 493985325652524 is missing from the cache.\n",
      "│ This may mean Compat [34da2185-b29b-5c13-b0c7-acf172513d20] does not support precompilation but is imported by a module that does.\n",
      "└ @ Base loading.jl:947\n",
      "┌ Warning: Module Compat with build ID 493985325652524 is missing from the cache.\n",
      "│ This may mean Compat [34da2185-b29b-5c13-b0c7-acf172513d20] does not support precompilation but is imported by a module that does.\n",
      "└ @ Base loading.jl:947\n",
      "┌ Warning: Module Compat with build ID 493985325652524 is missing from the cache.\n",
      "│ This may mean Compat [34da2185-b29b-5c13-b0c7-acf172513d20] does not support precompilation but is imported by a module that does.\n",
      "└ @ Base loading.jl:947\n",
      "┌ Warning: Module Compat with build ID 493985325652524 is missing from the cache.\n",
      "│ This may mean Compat [34da2185-b29b-5c13-b0c7-acf172513d20] does not support precompilation but is imported by a module that does.\n",
      "└ @ Base loading.jl:947\n",
      "┌ Info: Precompiling NLSolversBase [d41bc354-129a-5804-8e4c-c37616107c6c]\n",
      "└ @ Base loading.jl:1192\n",
      "┌ Warning: Module Compat with build ID 493985325652524 is missing from the cache.\n",
      "│ This may mean Compat [34da2185-b29b-5c13-b0c7-acf172513d20] does not support precompilation but is imported by a module that does.\n",
      "└ @ Base loading.jl:947\n",
      "┌ Warning: Module Compat with build ID 493985325652524 is missing from the cache.\n",
      "│ This may mean Compat [34da2185-b29b-5c13-b0c7-acf172513d20] does not support precompilation but is imported by a module that does.\n",
      "└ @ Base loading.jl:947\n",
      "┌ Warning: Module Compat with build ID 493985325652524 is missing from the cache.\n",
      "│ This may mean Compat [34da2185-b29b-5c13-b0c7-acf172513d20] does not support precompilation but is imported by a module that does.\n",
      "└ @ Base loading.jl:947\n",
      "┌ Warning: Module Compat with build ID 493985325652524 is missing from the cache.\n",
      "│ This may mean Compat [34da2185-b29b-5c13-b0c7-acf172513d20] does not support precompilation but is imported by a module that does.\n",
      "└ @ Base loading.jl:947\n",
      "┌ Info: Precompiling ForwardDiff [f6369f11-7733-5829-9624-2563aa707210]\n",
      "└ @ Base loading.jl:1192\n",
      "┌ Warning: Module Compat with build ID 493985325652524 is missing from the cache.\n",
      "│ This may mean Compat [34da2185-b29b-5c13-b0c7-acf172513d20] does not support precompilation but is imported by a module that does.\n",
      "└ @ Base loading.jl:947\n",
      "┌ Warning: Module Compat with build ID 493985325652524 is missing from the cache.\n",
      "│ This may mean Compat [34da2185-b29b-5c13-b0c7-acf172513d20] does not support precompilation but is imported by a module that does.\n",
      "└ @ Base loading.jl:947\n",
      "┌ Info: Precompiling DiffResults [163ba53b-c6d8-5494-b064-1a9d43ac40c5]\n",
      "└ @ Base loading.jl:1192\n",
      "┌ Warning: Module Compat with build ID 493985325652524 is missing from the cache.\n",
      "│ This may mean Compat [34da2185-b29b-5c13-b0c7-acf172513d20] does not support precompilation but is imported by a module that does.\n",
      "└ @ Base loading.jl:947\n",
      "┌ Info: Precompiling Calculus [49dc2e85-a5d0-5ad3-a950-438e2897f1b9]\n",
      "└ @ Base loading.jl:1192\n",
      "┌ Warning: Module Compat with build ID 493985325652524 is missing from the cache.\n",
      "│ This may mean Compat [34da2185-b29b-5c13-b0c7-acf172513d20] does not support precompilation but is imported by a module that does.\n",
      "└ @ Base loading.jl:947\n",
      "┌ Info: Precompiling LineSearches [d3d80556-e9d4-5f37-9878-2ab0fcc64255]\n",
      "└ @ Base loading.jl:1192\n",
      "┌ Warning: Module NaNMath with build ID 125600817838161 is missing from the cache.\n",
      "│ This may mean NaNMath [77ba4419-2d1f-58cd-9bb1-8ffee604a2e3] does not support precompilation but is imported by a module that does.\n",
      "└ @ Base loading.jl:947\n",
      "┌ Info: Precompiling DiffEqCallbacks [459566f4-90b8-5000-8ac3-15dfb0a30def]\n",
      "└ @ Base loading.jl:1192\n",
      "┌ Warning: Module DiffEqBase with build ID 125791842591260 is missing from the cache.\n",
      "│ This may mean DiffEqBase [2b5f629d-d688-5b77-993f-72d75c75574e] does not support precompilation but is imported by a module that does.\n",
      "└ @ Base loading.jl:947\n",
      "┌ Info: Precompiling OrdinaryDiffEq [1dea7af3-3e70-54e6-95c3-0bf5283fa5ed]\n",
      "└ @ Base loading.jl:1192\n",
      "┌ Warning: Module DiffEqBase with build ID 125791842591260 is missing from the cache.\n",
      "│ This may mean DiffEqBase [2b5f629d-d688-5b77-993f-72d75c75574e] does not support precompilation but is imported by a module that does.\n",
      "└ @ Base loading.jl:947\n",
      "┌ Info: Precompiling MuladdMacro [46d2c3a1-f734-5fdb-9937-b9b9aeba4221]\n",
      "└ @ Base loading.jl:1192\n",
      "┌ Warning: Module Compat with build ID 493985325652524 is missing from the cache.\n",
      "│ This may mean Compat [34da2185-b29b-5c13-b0c7-acf172513d20] does not support precompilation but is imported by a module that does.\n",
      "└ @ Base loading.jl:947\n",
      "┌ Warning: Module Compat with build ID 493985325652524 is missing from the cache.\n",
      "│ This may mean Compat [34da2185-b29b-5c13-b0c7-acf172513d20] does not support precompilation but is imported by a module that does.\n",
      "└ @ Base loading.jl:947\n",
      "┌ Info: Precompiling MacroTools [1914dd2f-81c6-5fcd-8719-6d5c9610ff09]\n",
      "└ @ Base loading.jl:1192\n",
      "┌ Warning: Module Compat with build ID 493985325652524 is missing from the cache.\n",
      "│ This may mean Compat [34da2185-b29b-5c13-b0c7-acf172513d20] does not support precompilation but is imported by a module that does.\n",
      "└ @ Base loading.jl:947\n",
      "┌ Info: Precompiling DiffEqOperators [9fdde737-9c7f-55bf-ade8-46b3f136cc48]\n",
      "└ @ Base loading.jl:1192\n",
      "┌ Warning: Module DiffEqBase with build ID 125791842591260 is missing from the cache.\n",
      "│ This may mean DiffEqBase [2b5f629d-d688-5b77-993f-72d75c75574e] does not support precompilation but is imported by a module that does.\n",
      "└ @ Base loading.jl:947\n",
      "┌ Info: Precompiling StochasticDiffEq [789caeaf-c7a9-5a7d-9973-96adeb23e2a0]\n",
      "└ @ Base loading.jl:1192\n",
      "┌ Warning: Module DiffEqBase with build ID 125791842591260 is missing from the cache.\n",
      "│ This may mean DiffEqBase [2b5f629d-d688-5b77-993f-72d75c75574e] does not support precompilation but is imported by a module that does.\n",
      "└ @ Base loading.jl:947\n",
      "┌ Info: Recompiling stale cache file C:\\Users\\mwaugh\\.julia\\compiled\\v1.0\\Sundials\\j8Ppj.ji for Sundials [c3572dad-4567-51f8-b174-8c6c989267f4]\n",
      "└ @ Base loading.jl:1190\n",
      "┌ Warning: Module DiffEqBase with build ID 125791842591260 is missing from the cache.\n",
      "│ This may mean DiffEqBase [2b5f629d-d688-5b77-993f-72d75c75574e] does not support precompilation but is imported by a module that does.\n",
      "└ @ Base loading.jl:947\n",
      "┌ Info: Precompiling DelayDiffEq [bcd4f6db-9728-5f36-b5f7-82caef46ccdb]\n",
      "└ @ Base loading.jl:1192\n",
      "┌ Warning: Module OrdinaryDiffEq with build ID 125879341963383 is missing from the cache.\n",
      "│ This may mean OrdinaryDiffEq [1dea7af3-3e70-54e6-95c3-0bf5283fa5ed] does not support precompilation but is imported by a module that does.\n",
      "└ @ Base loading.jl:947\n",
      "┌ Info: Precompiling DiffEqMonteCarlo [78ddff82-25fc-5f2b-89aa-309469cbf16f]\n",
      "└ @ Base loading.jl:1192\n",
      "┌ Warning: Module DiffEqBase with build ID 125791842591260 is missing from the cache.\n",
      "│ This may mean DiffEqBase [2b5f629d-d688-5b77-993f-72d75c75574e] does not support precompilation but is imported by a module that does.\n",
      "└ @ Base loading.jl:947\n",
      "┌ Info: Precompiling DiffEqJump [c894b116-72e5-5b58-be3c-e6d8d4ac2b12]\n",
      "└ @ Base loading.jl:1192\n",
      "┌ Warning: Module DiffEqBase with build ID 125791842591260 is missing from the cache.\n",
      "│ This may mean DiffEqBase [2b5f629d-d688-5b77-993f-72d75c75574e] does not support precompilation but is imported by a module that does.\n",
      "└ @ Base loading.jl:947\n",
      "┌ Info: Precompiling FunctionWrappers [069b7b12-0de2-55c6-9aab-29f3d0a68a2e]\n",
      "└ @ Base loading.jl:1192\n",
      "┌ Warning: Module Compat with build ID 493985325652524 is missing from the cache.\n",
      "│ This may mean Compat [34da2185-b29b-5c13-b0c7-acf172513d20] does not support precompilation but is imported by a module that does.\n",
      "└ @ Base loading.jl:947\n",
      "┌ Info: Precompiling DiffEqFinancial [5a0ffddc-d203-54b0-88ba-2c03c0fc2e67]\n",
      "└ @ Base loading.jl:1192\n",
      "┌ Warning: Module DiffEqBase with build ID 125791842591260 is missing from the cache.\n",
      "│ This may mean DiffEqBase [2b5f629d-d688-5b77-993f-72d75c75574e] does not support precompilation but is imported by a module that does.\n",
      "└ @ Base loading.jl:947\n",
      "┌ Info: Precompiling MultiScaleArrays [f9640e96-87f6-5992-9c3b-0743c6a49ffa]\n",
      "└ @ Base loading.jl:1192\n",
      "┌ Warning: Module DiffEqBase with build ID 125791842591260 is missing from the cache.\n",
      "│ This may mean DiffEqBase [2b5f629d-d688-5b77-993f-72d75c75574e] does not support precompilation but is imported by a module that does.\n",
      "└ @ Base loading.jl:947\n",
      "┌ Info: Precompiling DiffEqPhysics [055956cb-9e8b-5191-98cc-73ae4a59e68a]\n",
      "└ @ Base loading.jl:1192\n",
      "┌ Warning: Module DiffEqBase with build ID 125791842591260 is missing from the cache.\n",
      "│ This may mean DiffEqBase [2b5f629d-d688-5b77-993f-72d75c75574e] does not support precompilation but is imported by a module that does.\n",
      "└ @ Base loading.jl:947\n",
      "┌ Info: Precompiling LeastSquaresOptim [0fc2ff8b-aaa3-5acd-a817-1944a5e08891]\n",
      "└ @ Base loading.jl:1192\n",
      "┌ Warning: Module ForwardDiff with build ID 125856939569793 is missing from the cache.\n",
      "│ This may mean ForwardDiff [f6369f11-7733-5829-9624-2563aa707210] does not support precompilation but is imported by a module that does.\n",
      "└ @ Base loading.jl:947\n",
      "┌ Info: Precompiling Optim [429524aa-4258-5aef-a3af-852621145aeb]\n",
      "└ @ Base loading.jl:1192\n",
      "┌ Warning: Module NLSolversBase with build ID 125850226097514 is missing from the cache.\n",
      "│ This may mean NLSolversBase [d41bc354-129a-5804-8e4c-c37616107c6c] does not support precompilation but is imported by a module that does.\n",
      "└ @ Base loading.jl:947\n",
      "┌ Info: Precompiling BlackBoxOptim [a134a8b2-14d6-55f6-9291-3336d3ab0209]\n",
      "└ @ Base loading.jl:1192\n",
      "┌ Warning: Module Compat with build ID 493985325652524 is missing from the cache.\n",
      "│ This may mean Compat [34da2185-b29b-5c13-b0c7-acf172513d20] does not support precompilation but is imported by a module that does.\n",
      "└ @ Base loading.jl:947\n",
      "┌ Info: Precompiling Plots [91a5bcdd-55d7-5caf-9e0b-520d859cae80]\n",
      "└ @ Base loading.jl:1192\n",
      "┌ Warning: Module Compat with build ID 493985325652524 is missing from the cache.\n",
      "│ This may mean Compat [34da2185-b29b-5c13-b0c7-acf172513d20] does not support precompilation but is imported by a module that does.\n",
      "└ @ Base loading.jl:947\n",
      "┌ Warning: Module Compat with build ID 493985325652524 is missing from the cache.\n",
      "│ This may mean Compat [34da2185-b29b-5c13-b0c7-acf172513d20] does not support precompilation but is imported by a module that does.\n",
      "└ @ Base loading.jl:947\n",
      "┌ Info: Precompiling Showoff [992d4aef-0814-514b-bc4d-f2e9a6c4116f]\n",
      "└ @ Base loading.jl:1192\n",
      "┌ Warning: Module Compat with build ID 493985325652524 is missing from the cache.\n",
      "│ This may mean Compat [34da2185-b29b-5c13-b0c7-acf172513d20] does not support precompilation but is imported by a module that does.\n",
      "└ @ Base loading.jl:947\n"
     ]
    }
   ],
   "source": [
    "using PerlaTonettiWaugh, Plots, BenchmarkTools, CSV"
   ]
  },
  {
   "cell_type": "markdown",
   "metadata": {},
   "source": [
    "# Understanding why stuff is \"big\"\n",
    "\n",
    "Here is the approach. I will walk through several different cases. The idea is to vary mu, varepsilon, sigma and delta to see what is going on. In each of the cases, these parameters will be fixed, the remaining four parameters (trade cost, theta, kappa, chi) are REcalibrated to match the four (updated) original moments that we used: trade, growth, mass of exporters, relative size."
   ]
  },
  {
   "cell_type": "markdown",
   "metadata": {},
   "source": [
    "## The Basline\n",
    "\n",
    "Just to see where our current calibration is at..."
   ]
  },
  {
   "cell_type": "code",
   "execution_count": 36,
   "metadata": {},
   "outputs": [
    {
     "name": "stdout",
     "output_type": "stream",
     "text": [
      "SS to SS welfare gain: 13.791679181400717\n",
      "Change in Trade: 0.02992176184777884\n",
      "Growth Rates across SS: 1.15750842226232   0.884073591826919\n"
     ]
    }
   ],
   "source": [
    "parameters = parameter_defaults()\n",
    "parameters = merge(parameters, (ρ = 0.0195, d = 5.0672, θ = 3.2941,  κ = 0.1152, χ = 1/4.7847, υ = 0.0819, μ = -0.0289, σ = 2.3664,))\n",
    "\n",
    "settings = settings_defaults()\n",
    "settings = merge(settings, (transition_penalty_coefficient = 1.0, ))\n",
    "z_grid = settings.z\n",
    "P = length(z_grid)\n",
    "\n",
    "d_0 = parameters.d # Here is the 10 percent tariff increase\n",
    "d_T = 1 + (parameters.d-1)*0.90\n",
    "\n",
    "#d_autarky = 1 + (parameters.d-1)*2.5 \n",
    "\n",
    "params_0 = merge(parameters, (d = d_0, )) # parameters to be used at t = 0\n",
    "params_T = merge(parameters, (d = d_T, )) # parameters to be used at t = T\n",
    "#params_autarky = merge(parameters, (d = d_autarky, )) # parameters to be used in autarky calc\n",
    "\n",
    "# initial value for numerical solver on (g, z_hat, Omega)\n",
    "initial_x = [0.02; 2; .57]\n",
    "\n",
    "# solve for stationary solution at t = 0\n",
    "stationary_sol_0 = stationary_algebraic(params_0, initial_x) # solution at t = 0\n",
    "stationary_sol = stationary_algebraic(params_T, initial_x) # solution at t = T\n",
    "#stationary_autarky = stationary_algebraic(params_autarky, initial_x) # solution at t = T\n",
    "\n",
    "lambda_ss = 100*(consumption_equivalent(stationary_sol.U_bar, stationary_sol_0.U_bar, parameters)-1)\n",
    "\n",
    "print(\"SS to SS welfare gain: \", lambda_ss,\"\\n\")\n",
    "print(\"Change in Trade: \", (1-stationary_sol.λ_ii) - (1-stationary_sol_0.λ_ii),\"\\n\")\n",
    "print(\"Growth Rates across SS: \", 100*stationary_sol.g,\"   \" ,100*stationary_sol_0.g, \"\\n\")"
   ]
  },
  {
   "cell_type": "markdown",
   "metadata": {},
   "source": [
    "## Case \\#1: Turn off drift, mu = 0\n",
    "\n",
    "Below are the resulting parameter values in the following order: Trade cost, theta, kappa, and chi\n",
    "\n",
    "``5.0623    3.2944    0.0633    3.3966``\n",
    "\n",
    "Note how the trade cost and theta are unchanged, kappa is lower, chi is lower. Chi makes sense in that the negative drift mechanichally forced people up to the threshold (just like the variance), so this is a mechanichal force to increase growth. Thus, with negative drift, to mute or tame growth, we need a larger cost of adoption. In constrast, when this is turned off we need a lower cost."
   ]
  },
  {
   "cell_type": "code",
   "execution_count": 37,
   "metadata": {},
   "outputs": [
    {
     "name": "stdout",
     "output_type": "stream",
     "text": [
      "SS to SS welfare gain: 12.13658952669805\n",
      "Change in Trade: 0.0328941312683908\n",
      "Growth Rates across SS: 1.1621573817197122   0.8794543976747428\n"
     ]
    }
   ],
   "source": [
    "parameters = merge(parameters, (ρ = 0.0195, d = 5.0623, θ = 3.2944,  κ = 0.0633, χ = 1/3.3966, υ = 0.0819, μ = 0.0, σ = 2.3664,))\n",
    "\n",
    "settings = settings_defaults()\n",
    "settings = merge(settings, (transition_penalty_coefficient = 1.0, ))\n",
    "z_grid = settings.z\n",
    "P = length(z_grid)\n",
    "\n",
    "d_0 = parameters.d # Here is the 10 percent tariff increase\n",
    "d_T = 1 + (parameters.d-1)*0.90\n",
    "\n",
    "#d_autarky = 1 + (parameters.d-1)*2.5 \n",
    "\n",
    "params_0 = merge(parameters, (d = d_0, )) # parameters to be used at t = 0\n",
    "params_T = merge(parameters, (d = d_T, )) # parameters to be used at t = T\n",
    "#params_autarky = merge(parameters, (d = d_autarky, )) # parameters to be used in autarky calc\n",
    "\n",
    "# initial value for numerical solver on (g, z_hat, Omega)\n",
    "initial_x = [0.02; 2; .57]\n",
    "\n",
    "# solve for stationary solution at t = 0\n",
    "stationary_sol_0 = stationary_algebraic(params_0, initial_x) # solution at t = 0\n",
    "stationary_sol = stationary_algebraic(params_T, initial_x) # solution at t = T\n",
    "#stationary_autarky = stationary_algebraic(params_autarky, initial_x) # solution at t = T\n",
    "\n",
    "lambda_ss = 100*(consumption_equivalent(stationary_sol.U_bar, stationary_sol_0.U_bar, parameters)-1)\n",
    "\n",
    "print(\"SS to SS welfare gain: \", lambda_ss,\"\\n\")\n",
    "print(\"Change in Trade: \", (1-stationary_sol.λ_ii) - (1-stationary_sol_0.λ_ii),\"\\n\")\n",
    "print(\"Growth Rates across SS: \", 100*stationary_sol.g,\"   \" ,100*stationary_sol_0.g, \"\\n\")"
   ]
  },
  {
   "cell_type": "markdown",
   "metadata": {},
   "source": [
    "### Discussion...\n",
    "\n",
    "- First, welfare gains are smaller, growth goes up by a bit less. Not dramatic.\n",
    "- Second, note that I had to comment out the autarky calculation. In the autarky setting it says that parameter restrictcions were violated. This was the orginal reason we let the negative drift into the calibration to give more \"scope for the thing to work\"\n",
    "\n",
    "---"
   ]
  },
  {
   "cell_type": "markdown",
   "metadata": {},
   "source": [
    "## Case \\#2: Turn off drift, mu = 0, lower variance\n",
    "\n",
    "As a first step, lets just do three things 0.06, 0.03, 0.005\n",
    "\n",
    "**Summary** Several things happen from this excercise\n",
    "\n",
    "1. **Welfare and growth systematically fall as GBM is reduced.** So the final calibration delivers a welfare gain of 4.6 percent. (1/3) of our baseline value. Much of this is because growth is not changing as much now aoubt 10 basis points. \n",
    "\n",
    "2. The only parameter changing across calibrations is Chi. Surprisingly, the trade costs, theta, and exporter fixed costs are virtually unchanged through out the excercise. This suggests strongly about how trade and the exporter facts basically pin down d, theta, kappa. Then the growth rate is all about chi.\n",
    "\n",
    "3. Change in trade. This is not a mechanichal function of theta and the counterfactuall. It is changing a bit, but not always 3.29. I think this is because the trade elasticity is always a PE elasticit, hold prices fixed, change tau by a small amount, the trade changes by theta. We are not in this world. \n",
    "\n",
    "Using logic from the non-GBM case, the issue seems to be about how Chi is feeding into the elasticity of growth. What we are finding is that as we decrease GBM variance, that Chi is increasing (about 0.20 in baseline, 0.50 in low GBM situation), this means that the adoption cost is ???\n",
    "\n",
    "**Below are the details and the code**\n",
    "\n",
    "---\n",
    "\n",
    "- The ``0.06`` calibration: ``5.0684    3.2941    0.0636    3.1965``"
   ]
  },
  {
   "cell_type": "code",
   "execution_count": 41,
   "metadata": {},
   "outputs": [
    {
     "name": "stdout",
     "output_type": "stream",
     "text": [
      "SS to SS welfare gain: 9.442911400018716\n",
      "Change in Trade: 0.03130280709432187\n",
      "Growth Rates across SS: 1.0962624677026016   0.8798988520797562\n"
     ]
    }
   ],
   "source": [
    "parameters = merge(parameters, (ρ = 0.0195, d = 5.0684, θ = 3.2941,  κ = 0.0636, χ = 1/3.1965, υ = 0.06, μ = 0.0, σ = 2.3664,))\n",
    "\n",
    "settings = settings_defaults()\n",
    "settings = merge(settings, (transition_penalty_coefficient = 1.0, ))\n",
    "z_grid = settings.z\n",
    "P = length(z_grid)\n",
    "\n",
    "d_0 = parameters.d # Here is the 10 percent tariff increase\n",
    "d_T = 1 + (parameters.d-1)*0.90\n",
    "\n",
    "#d_autarky = 1 + (parameters.d-1)*2.5 \n",
    "\n",
    "params_0 = merge(parameters, (d = d_0, )) # parameters to be used at t = 0\n",
    "params_T = merge(parameters, (d = d_T, )) # parameters to be used at t = T\n",
    "#params_autarky = merge(parameters, (d = d_autarky, )) # parameters to be used in autarky calc\n",
    "\n",
    "# initial value for numerical solver on (g, z_hat, Omega)\n",
    "initial_x = [0.02; 2; .57]\n",
    "\n",
    "# solve for stationary solution at t = 0\n",
    "stationary_sol_0 = stationary_algebraic(params_0, initial_x) # solution at t = 0\n",
    "stationary_sol = stationary_algebraic(params_T, initial_x) # solution at t = T\n",
    "#stationary_autarky = stationary_algebraic(params_autarky, initial_x) # solution at t = T\n",
    "\n",
    "lambda_ss = 100*(consumption_equivalent(stationary_sol.U_bar, stationary_sol_0.U_bar, parameters)-1)\n",
    "\n",
    "print(\"SS to SS welfare gain: \", lambda_ss,\"\\n\")\n",
    "print(\"Change in Trade: \", (1-stationary_sol.λ_ii) - (1-stationary_sol_0.λ_ii),\"\\n\")\n",
    "print(\"Growth Rates across SS: \", 100*stationary_sol.g,\"   \" ,100*stationary_sol_0.g, \"\\n\")"
   ]
  },
  {
   "cell_type": "markdown",
   "metadata": {},
   "source": [
    "---\n",
    "\n",
    "- The ``0.03`` calibration: ``5.0679    3.2943    0.0624    2.9368``"
   ]
  },
  {
   "cell_type": "code",
   "execution_count": 42,
   "metadata": {},
   "outputs": [
    {
     "name": "stdout",
     "output_type": "stream",
     "text": [
      "SS to SS welfare gain: 6.338555837685145\n",
      "Change in Trade: 0.029733638931248807\n",
      "Growth Rates across SS: 1.021932686302649   0.880534389558844\n"
     ]
    }
   ],
   "source": [
    "parameters = merge(parameters, (ρ = 0.0195, d = 5.0679, θ = 3.2943,  κ = 0.0624, χ = 1/2.9368, υ = 0.03, μ = 0.0, σ = 2.3664,))\n",
    "\n",
    "settings = settings_defaults()\n",
    "settings = merge(settings, (transition_penalty_coefficient = 1.0, ))\n",
    "z_grid = settings.z\n",
    "P = length(z_grid)\n",
    "\n",
    "d_0 = parameters.d # Here is the 10 percent tariff increase\n",
    "d_T = 1 + (parameters.d-1)*0.90\n",
    "\n",
    "#d_autarky = 1 + (parameters.d-1)*2.5 \n",
    "\n",
    "params_0 = merge(parameters, (d = d_0, )) # parameters to be used at t = 0\n",
    "params_T = merge(parameters, (d = d_T, )) # parameters to be used at t = T\n",
    "#params_autarky = merge(parameters, (d = d_autarky, )) # parameters to be used in autarky calc\n",
    "\n",
    "# initial value for numerical solver on (g, z_hat, Omega)\n",
    "initial_x = [0.02; 2; .57]\n",
    "\n",
    "# solve for stationary solution at t = 0\n",
    "stationary_sol_0 = stationary_algebraic(params_0, initial_x) # solution at t = 0\n",
    "stationary_sol = stationary_algebraic(params_T, initial_x) # solution at t = T\n",
    "#stationary_autarky = stationary_algebraic(params_autarky, initial_x) # solution at t = T\n",
    "\n",
    "lambda_ss = 100*(consumption_equivalent(stationary_sol.U_bar, stationary_sol_0.U_bar, parameters)-1)\n",
    "\n",
    "print(\"SS to SS welfare gain: \", lambda_ss,\"\\n\")\n",
    "print(\"Change in Trade: \", (1-stationary_sol.λ_ii) - (1-stationary_sol_0.λ_ii),\"\\n\")\n",
    "print(\"Growth Rates across SS: \", 100*stationary_sol.g,\"   \" ,100*stationary_sol_0.g, \"\\n\")"
   ]
  },
  {
   "cell_type": "markdown",
   "metadata": {},
   "source": [
    "---\n",
    "\n",
    "- The ``0.005`` calibration: ``5.0678    3.2943    0.0610    2.7949``"
   ]
  },
  {
   "cell_type": "code",
   "execution_count": 43,
   "metadata": {},
   "outputs": [
    {
     "name": "stdout",
     "output_type": "stream",
     "text": [
      "SS to SS welfare gain: 4.680882656562746\n",
      "Change in Trade: 0.028904694139664344\n",
      "Growth Rates across SS: 0.9814454529017481   0.8802138869895572\n"
     ]
    }
   ],
   "source": [
    "parameters = merge(parameters, (ρ = 0.0195, d = 5.0678, θ = 3.2943,  κ = 0.0610, χ = 1/2.7949, υ = 0.005, μ = 0.0, σ = 2.3664,))\n",
    "\n",
    "settings = settings_defaults()\n",
    "settings = merge(settings, (transition_penalty_coefficient = 1.0, ))\n",
    "z_grid = settings.z\n",
    "P = length(z_grid)\n",
    "\n",
    "d_0 = parameters.d # Here is the 10 percent tariff increase\n",
    "d_T = 1 + (parameters.d-1)*0.90\n",
    "\n",
    "#d_autarky = 1 + (parameters.d-1)*2.5 \n",
    "\n",
    "params_0 = merge(parameters, (d = d_0, )) # parameters to be used at t = 0\n",
    "params_T = merge(parameters, (d = d_T, )) # parameters to be used at t = T\n",
    "#params_autarky = merge(parameters, (d = d_autarky, )) # parameters to be used in autarky calc\n",
    "\n",
    "# initial value for numerical solver on (g, z_hat, Omega)\n",
    "initial_x = [0.02; 2; .57]\n",
    "\n",
    "# solve for stationary solution at t = 0\n",
    "stationary_sol_0 = stationary_algebraic(params_0, initial_x) # solution at t = 0\n",
    "stationary_sol = stationary_algebraic(params_T, initial_x) # solution at t = T\n",
    "#stationary_autarky = stationary_algebraic(params_autarky, initial_x) # solution at t = T\n",
    "\n",
    "lambda_ss = 100*(consumption_equivalent(stationary_sol.U_bar, stationary_sol_0.U_bar, parameters)-1)\n",
    "\n",
    "print(\"SS to SS welfare gain: \", lambda_ss,\"\\n\")\n",
    "print(\"Change in Trade: \", (1-stationary_sol.λ_ii) - (1-stationary_sol_0.λ_ii),\"\\n\")\n",
    "print(\"Growth Rates across SS: \", 100*stationary_sol.g,\"   \" ,100*stationary_sol_0.g, \"\\n\")"
   ]
  },
  {
   "cell_type": "markdown",
   "metadata": {},
   "source": [
    "---\n",
    "\n",
    "## Case \\#3 Vary Sigma, hold fixed GBM and drift\n",
    "\n",
    "We will do this for a plausible range of sigma's: 2, 3, 4, 5.\n",
    "\n",
    "**Summary** Several things happen from this excercise\n",
    "\n",
    "1. **Welfare and growth systematically rise as Sigma increases.** So the first calibration is simmilar to what we have in the baseline, but as sigma increases, the welfare gains and the change in the growth rate increase. \n",
    "\n",
    "2. The interpertation here is more complicated for several reasons. Now, all parameters are changing: theta, trade costs, etc. Also, the change in the volume of trade is chaniging as well. So to interpert the elasticity of a change in growth to a change in trade is harder to see as well. With that said, this is consistent with interpertation that sigma is influanceing the infered chi paramter and in turn how responsive economic growth is to a change in trade costs.\n",
    "\n",
    "3. This is also consistent with the experince of previous calibrations. We had a calibration with a fixed sigma of 3, but when we calibrated sigma, it pushed up to 2 something which is smaller giving a bit more modest gains....\n",
    "\n",
    "**Below are the details and the code**\n",
    "\n",
    "---"
   ]
  },
  {
   "cell_type": "markdown",
   "metadata": {},
   "source": [
    "- Sigma = 2, calibration is ``7.5097    2.4071    0.1165    4.0249``"
   ]
  },
  {
   "cell_type": "code",
   "execution_count": 51,
   "metadata": {},
   "outputs": [
    {
     "name": "stdout",
     "output_type": "stream",
     "text": [
      "SS to SS welfare gain: 13.526108076853305\n",
      "Change in Trade: 0.02682712298192802\n",
      "Growth Rates across SS: 1.1507886730405887   0.8791167529567099\n"
     ]
    }
   ],
   "source": [
    "parameters = parameter_defaults()\n",
    "parameters = merge(parameters, (ρ = 0.0195, d = 7.5097 , θ = 2.4071,  κ = 0.1165, χ = 1/4.0249, υ = 0.0819, μ = -0.0289, σ = 2.0,))\n",
    "\n",
    "settings = settings_defaults()\n",
    "settings = merge(settings, (transition_penalty_coefficient = 1.0, ))\n",
    "z_grid = settings.z\n",
    "P = length(z_grid)\n",
    "\n",
    "d_0 = parameters.d # Here is the 10 percent tariff increase\n",
    "d_T = 1 + (parameters.d-1)*0.90\n",
    "\n",
    "#d_autarky = 1 + (parameters.d-1)*2.5 \n",
    "\n",
    "params_0 = merge(parameters, (d = d_0, )) # parameters to be used at t = 0\n",
    "params_T = merge(parameters, (d = d_T, )) # parameters to be used at t = T\n",
    "#params_autarky = merge(parameters, (d = d_autarky, )) # parameters to be used in autarky calc\n",
    "\n",
    "# initial value for numerical solver on (g, z_hat, Omega)\n",
    "initial_x = [0.02; 2; .57]\n",
    "\n",
    "# solve for stationary solution at t = 0\n",
    "stationary_sol_0 = stationary_algebraic(params_0, initial_x) # solution at t = 0\n",
    "stationary_sol = stationary_algebraic(params_T, initial_x) # solution at t = T\n",
    "#stationary_autarky = stationary_algebraic(params_autarky, initial_x) # solution at t = T\n",
    "\n",
    "lambda_ss = 100*(consumption_equivalent(stationary_sol.U_bar, stationary_sol_0.U_bar, parameters)-1)\n",
    "\n",
    "print(\"SS to SS welfare gain: \", lambda_ss,\"\\n\")\n",
    "print(\"Change in Trade: \", (1-stationary_sol.λ_ii) - (1-stationary_sol_0.λ_ii),\"\\n\")\n",
    "print(\"Growth Rates across SS: \", 100*stationary_sol.g,\"   \" ,100*stationary_sol_0.g, \"\\n\")"
   ]
  },
  {
   "cell_type": "markdown",
   "metadata": {},
   "source": [
    "- Sigma = 3, calibration is ``3.0307    4.8219    0.1417    5.9260``"
   ]
  },
  {
   "cell_type": "code",
   "execution_count": 57,
   "metadata": {},
   "outputs": [
    {
     "name": "stdout",
     "output_type": "stream",
     "text": [
      "SS to SS welfare gain: 16.795300262589198\n",
      "Change in Trade: 0.037803341592960615\n",
      "Growth Rates across SS: 1.2046128659004034   0.8796975024932537\n"
     ]
    }
   ],
   "source": [
    "parameters = parameter_defaults()\n",
    "parameters = merge(parameters, (ρ = 0.0195, d = 3.0307, θ = 4.8219,  κ = 0.1417, χ = 1/5.9260, υ = 0.0819, μ = -0.0289, σ = 3.0,))\n",
    "\n",
    "settings = settings_defaults()\n",
    "settings = merge(settings, (transition_penalty_coefficient = 1.0, ))\n",
    "z_grid = settings.z\n",
    "P = length(z_grid)\n",
    "\n",
    "d_0 = parameters.d # Here is the 10 percent tariff increase\n",
    "d_T = 1 + (parameters.d-1)*0.90\n",
    "\n",
    "#d_autarky = 1 + (parameters.d-1)*2.5 \n",
    "\n",
    "params_0 = merge(parameters, (d = d_0, )) # parameters to be used at t = 0\n",
    "params_T = merge(parameters, (d = d_T, )) # parameters to be used at t = T\n",
    "#params_autarky = merge(parameters, (d = d_autarky, )) # parameters to be used in autarky calc\n",
    "\n",
    "# initial value for numerical solver on (g, z_hat, Omega)\n",
    "initial_x = [0.02; 2; .57]\n",
    "\n",
    "# solve for stationary solution at t = 0\n",
    "stationary_sol_0 = stationary_algebraic(params_0, initial_x) # solution at t = 0\n",
    "stationary_sol = stationary_algebraic(params_T, initial_x) # solution at t = T\n",
    "#stationary_autarky = stationary_algebraic(params_autarky, initial_x) # solution at t = T\n",
    "\n",
    "lambda_ss = 100*(consumption_equivalent(stationary_sol.U_bar, stationary_sol_0.U_bar, parameters)-1)\n",
    "\n",
    "print(\"SS to SS welfare gain: \", lambda_ss,\"\\n\")\n",
    "print(\"Change in Trade: \", (1-stationary_sol.λ_ii) - (1-stationary_sol_0.λ_ii),\"\\n\")\n",
    "print(\"Growth Rates across SS: \", 100*stationary_sol.g,\"   \" ,100*stationary_sol_0.g, \"\\n\")"
   ]
  },
  {
   "cell_type": "markdown",
   "metadata": {},
   "source": [
    "- Sigma = 4, calibration is ``2.0942    7.2329    0.1748    7.6963``"
   ]
  },
  {
   "cell_type": "code",
   "execution_count": 53,
   "metadata": {},
   "outputs": [
    {
     "name": "stdout",
     "output_type": "stream",
     "text": [
      "SS to SS welfare gain: 20.750348325929615\n",
      "Change in Trade: 0.046535123906249254\n",
      "Growth Rates across SS: 1.2721897851813733   0.8801454097769364\n"
     ]
    }
   ],
   "source": [
    "parameters = parameter_defaults()\n",
    "parameters = merge(parameters, (ρ = 0.0195, d = 2.0942, θ = 7.2329,  κ = 0.1748, χ = 1/7.6963, υ = 0.0819, μ = -0.0289, σ = 4.0,))\n",
    "\n",
    "settings = settings_defaults()\n",
    "settings = merge(settings, (transition_penalty_coefficient = 1.0, ))\n",
    "z_grid = settings.z\n",
    "P = length(z_grid)\n",
    "\n",
    "d_0 = parameters.d # Here is the 10 percent tariff increase\n",
    "d_T = 1 + (parameters.d-1)*0.90\n",
    "\n",
    "#d_autarky = 1 + (parameters.d-1)*2.5 \n",
    "\n",
    "params_0 = merge(parameters, (d = d_0, )) # parameters to be used at t = 0\n",
    "params_T = merge(parameters, (d = d_T, )) # parameters to be used at t = T\n",
    "#params_autarky = merge(parameters, (d = d_autarky, )) # parameters to be used in autarky calc\n",
    "\n",
    "# initial value for numerical solver on (g, z_hat, Omega)\n",
    "initial_x = [0.02; 2; .57]\n",
    "\n",
    "# solve for stationary solution at t = 0\n",
    "stationary_sol_0 = stationary_algebraic(params_0, initial_x) # solution at t = 0\n",
    "stationary_sol = stationary_algebraic(params_T, initial_x) # solution at t = T\n",
    "#stationary_autarky = stationary_algebraic(params_autarky, initial_x) # solution at t = T\n",
    "\n",
    "lambda_ss = 100*(consumption_equivalent(stationary_sol.U_bar, stationary_sol_0.U_bar, parameters)-1)\n",
    "\n",
    "print(\"SS to SS welfare gain: \", lambda_ss,\"\\n\")\n",
    "print(\"Change in Trade: \", (1-stationary_sol.λ_ii) - (1-stationary_sol_0.λ_ii),\"\\n\")\n",
    "print(\"Growth Rates across SS: \", 100*stationary_sol.g,\"   \" ,100*stationary_sol_0.g, \"\\n\")"
   ]
  },
  {
   "cell_type": "markdown",
   "metadata": {},
   "source": [
    "- Sigma = 5, calibration is ``1.7410    9.6431    0.1977    9.4262''"
   ]
  },
  {
   "cell_type": "code",
   "execution_count": 54,
   "metadata": {},
   "outputs": [
    {
     "name": "stdout",
     "output_type": "stream",
     "text": [
      "SS to SS welfare gain: 24.537216875081214\n",
      "Change in Trade: 0.05350073786219778\n",
      "Growth Rates across SS: 1.3355158764565083   0.8794855686362587\n"
     ]
    }
   ],
   "source": [
    "parameters = parameter_defaults()\n",
    "parameters = merge(parameters, (ρ = 0.0195, d = 1.7410 , θ = 9.6431,  κ = 0.1977, χ = 1/9.4262, υ = 0.0819, μ = -0.0289, σ = 5.0,))\n",
    "\n",
    "settings = settings_defaults()\n",
    "settings = merge(settings, (transition_penalty_coefficient = 1.0, ))\n",
    "z_grid = settings.z\n",
    "P = length(z_grid)\n",
    "\n",
    "d_0 = parameters.d # Here is the 10 percent tariff increase\n",
    "d_T = 1 + (parameters.d-1)*0.90\n",
    "\n",
    "#d_autarky = 1 + (parameters.d-1)*2.5 \n",
    "\n",
    "params_0 = merge(parameters, (d = d_0, )) # parameters to be used at t = 0\n",
    "params_T = merge(parameters, (d = d_T, )) # parameters to be used at t = T\n",
    "#params_autarky = merge(parameters, (d = d_autarky, )) # parameters to be used in autarky calc\n",
    "\n",
    "# initial value for numerical solver on (g, z_hat, Omega)\n",
    "initial_x = [0.02; 2; .57]\n",
    "\n",
    "# solve for stationary solution at t = 0\n",
    "stationary_sol_0 = stationary_algebraic(params_0, initial_x) # solution at t = 0\n",
    "stationary_sol = stationary_algebraic(params_T, initial_x) # solution at t = T\n",
    "#stationary_autarky = stationary_algebraic(params_autarky, initial_x) # solution at t = T\n",
    "\n",
    "lambda_ss = 100*(consumption_equivalent(stationary_sol.U_bar, stationary_sol_0.U_bar, parameters)-1)\n",
    "\n",
    "print(\"SS to SS welfare gain: \", lambda_ss,\"\\n\")\n",
    "print(\"Change in Trade: \", (1-stationary_sol.λ_ii) - (1-stationary_sol_0.λ_ii),\"\\n\")\n",
    "print(\"Growth Rates across SS: \", 100*stationary_sol.g,\"   \" ,100*stationary_sol_0.g, \"\\n\")"
   ]
  }
 ],
 "metadata": {
  "kernelspec": {
   "display_name": "Julia 1.0.2",
   "language": "julia",
   "name": "julia-1.0"
  },
  "language_info": {
   "file_extension": ".jl",
   "mimetype": "application/julia",
   "name": "julia",
   "version": "1.0.2"
  }
 },
 "nbformat": 4,
 "nbformat_minor": 2
}
