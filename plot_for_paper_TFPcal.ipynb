{
 "cells": [
  {
   "cell_type": "code",
   "execution_count": 1,
   "metadata": {},
   "outputs": [],
   "source": [
    "import pandas as pd\n",
    "import matplotlib.pyplot as plt\n",
    "import numpy as np\n",
    "\n",
    "fig_path = \"C:\\\\Users\\\\mwaugh\\\\github\\\\perla_tonetti_waugh\\\\Figures\"\n",
    "# Change this to reflect where the local repository is..."
   ]
  },
  {
   "cell_type": "code",
   "execution_count": null,
   "metadata": {},
   "outputs": [],
   "source": [
    "# If neccessary, code to insert into julia notebook to generate the \n",
    "# necessary dataframes...\n",
    "\n",
    "#using DataFrames\n",
    "\n",
    "#df_stationary = DataFrame(t = -1.00, g =stationary_sol_0.g, λ_ii = stationary_sol_0.λ_ii, c = stationary_sol_0.c, L_tilde = stationary_sol_0.L_tilde, Ω = stationary_sol_0.Ω,\n",
    " #   π_rat = stationary_sol_0.π_rat, L_tilde_a = stationary_sol_0.L_tilde_a, L_tilde_x = stationary_sol_0.L_tilde_x, L_tilde_E= stationary_sol_0.L_tilde_E);\n",
    "\n",
    "#df_transition = DataFrame(t = solved.t, g =solved.g, λ_ii = solved.λ_ii, c = solved.c, L_tilde = solved.L_tilde, Ω = solved.Ω,\n",
    "#    π_rat = solved.π_rat, L_tilde_a = solved.L_tilde_a, L_tilde_x = solved.L_tilde_x, L_tilde_E= solved.L_tilde_E);\n",
    "\n",
    "#df_welfare = DataFrame(steady_state = lambda_ss, transition_path = lambda_tpath);\n",
    "\n",
    "#CSV.write(\"welfare_results.csv\", df_welfare)\n",
    "\n",
    "#CSV.write(\"transition_results.csv\", df_transition)\n",
    "\n",
    "#CSV.write(\"stationary_results.csv\", df_stationary)\n",
    "    "
   ]
  },
  {
   "cell_type": "markdown",
   "metadata": {},
   "source": [
    "This reads in the data from the `julia` code. There should be two csv files, one of the transtion path, another for the stuff in the initial stationary eq."
   ]
  },
  {
   "cell_type": "code",
   "execution_count": 38,
   "metadata": {},
   "outputs": [],
   "source": [
    "df = pd.read_csv(\"transition_results.csv\")\n",
    "df_stationary = pd.read_csv(\"stationary_results.csv\")\n",
    "df_welfare = pd.read_csv(\"welfare_results.csv\")"
   ]
  },
  {
   "cell_type": "code",
   "execution_count": 39,
   "metadata": {},
   "outputs": [
    {
     "data": {
      "text/html": [
       "<div>\n",
       "<style scoped>\n",
       "    .dataframe tbody tr th:only-of-type {\n",
       "        vertical-align: middle;\n",
       "    }\n",
       "\n",
       "    .dataframe tbody tr th {\n",
       "        vertical-align: top;\n",
       "    }\n",
       "\n",
       "    .dataframe thead th {\n",
       "        text-align: right;\n",
       "    }\n",
       "</style>\n",
       "<table border=\"1\" class=\"dataframe\">\n",
       "  <thead>\n",
       "    <tr style=\"text-align: right;\">\n",
       "      <th></th>\n",
       "      <th>t</th>\n",
       "      <th>g</th>\n",
       "      <th>λ_ii</th>\n",
       "      <th>c</th>\n",
       "      <th>L_tilde</th>\n",
       "      <th>Ω</th>\n",
       "      <th>π_rat</th>\n",
       "      <th>L_tilde_a</th>\n",
       "      <th>L_tilde_x</th>\n",
       "      <th>L_tilde_E</th>\n",
       "    </tr>\n",
       "  </thead>\n",
       "  <tbody>\n",
       "    <tr>\n",
       "      <th>0</th>\n",
       "      <td>0.000000</td>\n",
       "      <td>0.010321</td>\n",
       "      <td>0.869171</td>\n",
       "      <td>1.074588</td>\n",
       "      <td>0.360130</td>\n",
       "      <td>1.032889</td>\n",
       "      <td>2.090520</td>\n",
       "      <td>0.095858</td>\n",
       "      <td>0.035853</td>\n",
       "      <td>0.228420</td>\n",
       "    </tr>\n",
       "    <tr>\n",
       "      <th>1</th>\n",
       "      <td>0.353922</td>\n",
       "      <td>0.010405</td>\n",
       "      <td>0.869006</td>\n",
       "      <td>1.073566</td>\n",
       "      <td>0.360205</td>\n",
       "      <td>1.031514</td>\n",
       "      <td>2.091112</td>\n",
       "      <td>0.096017</td>\n",
       "      <td>0.035894</td>\n",
       "      <td>0.228294</td>\n",
       "    </tr>\n",
       "    <tr>\n",
       "      <th>2</th>\n",
       "      <td>0.500000</td>\n",
       "      <td>0.010440</td>\n",
       "      <td>0.868941</td>\n",
       "      <td>1.073149</td>\n",
       "      <td>0.360233</td>\n",
       "      <td>1.030951</td>\n",
       "      <td>2.091346</td>\n",
       "      <td>0.096081</td>\n",
       "      <td>0.035909</td>\n",
       "      <td>0.228243</td>\n",
       "    </tr>\n",
       "    <tr>\n",
       "      <th>3</th>\n",
       "      <td>1.000000</td>\n",
       "      <td>0.010554</td>\n",
       "      <td>0.868711</td>\n",
       "      <td>1.071741</td>\n",
       "      <td>0.360329</td>\n",
       "      <td>1.029044</td>\n",
       "      <td>2.092171</td>\n",
       "      <td>0.096292</td>\n",
       "      <td>0.035967</td>\n",
       "      <td>0.228071</td>\n",
       "    </tr>\n",
       "    <tr>\n",
       "      <th>4</th>\n",
       "      <td>1.500000</td>\n",
       "      <td>0.010669</td>\n",
       "      <td>0.868480</td>\n",
       "      <td>1.070343</td>\n",
       "      <td>0.360433</td>\n",
       "      <td>1.027166</td>\n",
       "      <td>2.093003</td>\n",
       "      <td>0.096504</td>\n",
       "      <td>0.036025</td>\n",
       "      <td>0.227904</td>\n",
       "    </tr>\n",
       "    <tr>\n",
       "      <th>5</th>\n",
       "      <td>2.000000</td>\n",
       "      <td>0.010788</td>\n",
       "      <td>0.868259</td>\n",
       "      <td>1.068926</td>\n",
       "      <td>0.360557</td>\n",
       "      <td>1.025317</td>\n",
       "      <td>2.093800</td>\n",
       "      <td>0.096734</td>\n",
       "      <td>0.036079</td>\n",
       "      <td>0.227744</td>\n",
       "    </tr>\n",
       "    <tr>\n",
       "      <th>6</th>\n",
       "      <td>2.314511</td>\n",
       "      <td>0.010869</td>\n",
       "      <td>0.868130</td>\n",
       "      <td>1.068011</td>\n",
       "      <td>0.360650</td>\n",
       "      <td>1.024170</td>\n",
       "      <td>2.094264</td>\n",
       "      <td>0.096896</td>\n",
       "      <td>0.036108</td>\n",
       "      <td>0.227645</td>\n",
       "    </tr>\n",
       "    <tr>\n",
       "      <th>7</th>\n",
       "      <td>2.500000</td>\n",
       "      <td>0.010920</td>\n",
       "      <td>0.868054</td>\n",
       "      <td>1.067447</td>\n",
       "      <td>0.360721</td>\n",
       "      <td>1.023498</td>\n",
       "      <td>2.094540</td>\n",
       "      <td>0.097007</td>\n",
       "      <td>0.036126</td>\n",
       "      <td>0.227589</td>\n",
       "    </tr>\n",
       "    <tr>\n",
       "      <th>8</th>\n",
       "      <td>3.000000</td>\n",
       "      <td>0.011080</td>\n",
       "      <td>0.867833</td>\n",
       "      <td>1.065822</td>\n",
       "      <td>0.360996</td>\n",
       "      <td>1.021708</td>\n",
       "      <td>2.095373</td>\n",
       "      <td>0.097375</td>\n",
       "      <td>0.036182</td>\n",
       "      <td>0.227439</td>\n",
       "    </tr>\n",
       "    <tr>\n",
       "      <th>9</th>\n",
       "      <td>3.500000</td>\n",
       "      <td>0.011237</td>\n",
       "      <td>0.867614</td>\n",
       "      <td>1.064220</td>\n",
       "      <td>0.361269</td>\n",
       "      <td>1.019948</td>\n",
       "      <td>2.096202</td>\n",
       "      <td>0.097736</td>\n",
       "      <td>0.036237</td>\n",
       "      <td>0.227296</td>\n",
       "    </tr>\n",
       "  </tbody>\n",
       "</table>\n",
       "</div>"
      ],
      "text/plain": [
       "          t         g      λ_ii         c   L_tilde         Ω     π_rat  \\\n",
       "0  0.000000  0.010321  0.869171  1.074588  0.360130  1.032889  2.090520   \n",
       "1  0.353922  0.010405  0.869006  1.073566  0.360205  1.031514  2.091112   \n",
       "2  0.500000  0.010440  0.868941  1.073149  0.360233  1.030951  2.091346   \n",
       "3  1.000000  0.010554  0.868711  1.071741  0.360329  1.029044  2.092171   \n",
       "4  1.500000  0.010669  0.868480  1.070343  0.360433  1.027166  2.093003   \n",
       "5  2.000000  0.010788  0.868259  1.068926  0.360557  1.025317  2.093800   \n",
       "6  2.314511  0.010869  0.868130  1.068011  0.360650  1.024170  2.094264   \n",
       "7  2.500000  0.010920  0.868054  1.067447  0.360721  1.023498  2.094540   \n",
       "8  3.000000  0.011080  0.867833  1.065822  0.360996  1.021708  2.095373   \n",
       "9  3.500000  0.011237  0.867614  1.064220  0.361269  1.019948  2.096202   \n",
       "\n",
       "   L_tilde_a  L_tilde_x  L_tilde_E  \n",
       "0   0.095858   0.035853   0.228420  \n",
       "1   0.096017   0.035894   0.228294  \n",
       "2   0.096081   0.035909   0.228243  \n",
       "3   0.096292   0.035967   0.228071  \n",
       "4   0.096504   0.036025   0.227904  \n",
       "5   0.096734   0.036079   0.227744  \n",
       "6   0.096896   0.036108   0.227645  \n",
       "7   0.097007   0.036126   0.227589  \n",
       "8   0.097375   0.036182   0.227439  \n",
       "9   0.097736   0.036237   0.227296  "
      ]
     },
     "execution_count": 39,
     "metadata": {},
     "output_type": "execute_result"
    }
   ],
   "source": [
    "df.head(10)"
   ]
  },
  {
   "cell_type": "code",
   "execution_count": 40,
   "metadata": {},
   "outputs": [],
   "source": [
    "#df = df[[\"t\", \"g\", \"λ_ii\", \"c\", \"L_tilde\", \"Ω\", \"L_tilde_a\", \"L_tilde_x\", \"L_tilde_E\"]]\n",
    "\n",
    "#df.g = df.g - 0.0003\n",
    "\n",
    "#df.tail(10)"
   ]
  },
  {
   "cell_type": "markdown",
   "metadata": {},
   "source": [
    "Now we need to do a bit of pandas jujitsu to add the stationary part to the transition path...first replicate the one row data frame, create a new time period, replace the old time"
   ]
  },
  {
   "cell_type": "code",
   "execution_count": 41,
   "metadata": {},
   "outputs": [],
   "source": [
    "extra_periods = 5;\n",
    "\n",
    "df_stationary = pd.concat([df_stationary]*extra_periods, ignore_index=True)"
   ]
  },
  {
   "cell_type": "code",
   "execution_count": 42,
   "metadata": {},
   "outputs": [],
   "source": [
    "df_stationary[\"t_hat\"] = [-20, -15, -10, -5, -1]  "
   ]
  },
  {
   "cell_type": "code",
   "execution_count": 43,
   "metadata": {},
   "outputs": [],
   "source": [
    "df_stationary.drop([\"t\"],axis = 1, inplace = True)"
   ]
  },
  {
   "cell_type": "code",
   "execution_count": 44,
   "metadata": {},
   "outputs": [],
   "source": [
    "df_stationary.rename(columns={\"t_hat\": \"t\"},inplace = True)"
   ]
  },
  {
   "cell_type": "code",
   "execution_count": 45,
   "metadata": {},
   "outputs": [
    {
     "data": {
      "text/html": [
       "<div>\n",
       "<style scoped>\n",
       "    .dataframe tbody tr th:only-of-type {\n",
       "        vertical-align: middle;\n",
       "    }\n",
       "\n",
       "    .dataframe tbody tr th {\n",
       "        vertical-align: top;\n",
       "    }\n",
       "\n",
       "    .dataframe thead th {\n",
       "        text-align: right;\n",
       "    }\n",
       "</style>\n",
       "<table border=\"1\" class=\"dataframe\">\n",
       "  <thead>\n",
       "    <tr style=\"text-align: right;\">\n",
       "      <th></th>\n",
       "      <th>g</th>\n",
       "      <th>λ_ii</th>\n",
       "      <th>c</th>\n",
       "      <th>L_tilde</th>\n",
       "      <th>Ω</th>\n",
       "      <th>π_rat</th>\n",
       "      <th>L_tilde_a</th>\n",
       "      <th>L_tilde_x</th>\n",
       "      <th>L_tilde_E</th>\n",
       "      <th>t</th>\n",
       "    </tr>\n",
       "  </thead>\n",
       "  <tbody>\n",
       "    <tr>\n",
       "      <th>0</th>\n",
       "      <td>0.008841</td>\n",
       "      <td>0.894923</td>\n",
       "      <td>1.041504</td>\n",
       "      <td>0.366436</td>\n",
       "      <td>1.032889</td>\n",
       "      <td>1.725056</td>\n",
       "      <td>0.090821</td>\n",
       "      <td>0.028512</td>\n",
       "      <td>0.247103</td>\n",
       "      <td>-20</td>\n",
       "    </tr>\n",
       "    <tr>\n",
       "      <th>1</th>\n",
       "      <td>0.008841</td>\n",
       "      <td>0.894923</td>\n",
       "      <td>1.041504</td>\n",
       "      <td>0.366436</td>\n",
       "      <td>1.032889</td>\n",
       "      <td>1.725056</td>\n",
       "      <td>0.090821</td>\n",
       "      <td>0.028512</td>\n",
       "      <td>0.247103</td>\n",
       "      <td>-15</td>\n",
       "    </tr>\n",
       "    <tr>\n",
       "      <th>2</th>\n",
       "      <td>0.008841</td>\n",
       "      <td>0.894923</td>\n",
       "      <td>1.041504</td>\n",
       "      <td>0.366436</td>\n",
       "      <td>1.032889</td>\n",
       "      <td>1.725056</td>\n",
       "      <td>0.090821</td>\n",
       "      <td>0.028512</td>\n",
       "      <td>0.247103</td>\n",
       "      <td>-10</td>\n",
       "    </tr>\n",
       "    <tr>\n",
       "      <th>3</th>\n",
       "      <td>0.008841</td>\n",
       "      <td>0.894923</td>\n",
       "      <td>1.041504</td>\n",
       "      <td>0.366436</td>\n",
       "      <td>1.032889</td>\n",
       "      <td>1.725056</td>\n",
       "      <td>0.090821</td>\n",
       "      <td>0.028512</td>\n",
       "      <td>0.247103</td>\n",
       "      <td>-5</td>\n",
       "    </tr>\n",
       "    <tr>\n",
       "      <th>4</th>\n",
       "      <td>0.008841</td>\n",
       "      <td>0.894923</td>\n",
       "      <td>1.041504</td>\n",
       "      <td>0.366436</td>\n",
       "      <td>1.032889</td>\n",
       "      <td>1.725056</td>\n",
       "      <td>0.090821</td>\n",
       "      <td>0.028512</td>\n",
       "      <td>0.247103</td>\n",
       "      <td>-1</td>\n",
       "    </tr>\n",
       "  </tbody>\n",
       "</table>\n",
       "</div>"
      ],
      "text/plain": [
       "          g      λ_ii         c   L_tilde         Ω     π_rat  L_tilde_a  \\\n",
       "0  0.008841  0.894923  1.041504  0.366436  1.032889  1.725056   0.090821   \n",
       "1  0.008841  0.894923  1.041504  0.366436  1.032889  1.725056   0.090821   \n",
       "2  0.008841  0.894923  1.041504  0.366436  1.032889  1.725056   0.090821   \n",
       "3  0.008841  0.894923  1.041504  0.366436  1.032889  1.725056   0.090821   \n",
       "4  0.008841  0.894923  1.041504  0.366436  1.032889  1.725056   0.090821   \n",
       "\n",
       "   L_tilde_x  L_tilde_E   t  \n",
       "0   0.028512   0.247103 -20  \n",
       "1   0.028512   0.247103 -15  \n",
       "2   0.028512   0.247103 -10  \n",
       "3   0.028512   0.247103  -5  \n",
       "4   0.028512   0.247103  -1  "
      ]
     },
     "execution_count": 45,
     "metadata": {},
     "output_type": "execute_result"
    }
   ],
   "source": [
    "df_stationary"
   ]
  },
  {
   "cell_type": "markdown",
   "metadata": {},
   "source": [
    "Then append this to the transition path."
   ]
  },
  {
   "cell_type": "code",
   "execution_count": 46,
   "metadata": {},
   "outputs": [],
   "source": [
    "df = df.append(df_stationary, ignore_index=True, sort=True)\n"
   ]
  },
  {
   "cell_type": "code",
   "execution_count": 47,
   "metadata": {},
   "outputs": [],
   "source": [
    "df = df.sort_values(by=['t'])\n",
    "\n",
    "df.reset_index(inplace = True)\n",
    "\n",
    "df.drop([\"index\"], axis=1, inplace = True)"
   ]
  },
  {
   "cell_type": "code",
   "execution_count": 48,
   "metadata": {},
   "outputs": [
    {
     "data": {
      "text/html": [
       "<div>\n",
       "<style scoped>\n",
       "    .dataframe tbody tr th:only-of-type {\n",
       "        vertical-align: middle;\n",
       "    }\n",
       "\n",
       "    .dataframe tbody tr th {\n",
       "        vertical-align: top;\n",
       "    }\n",
       "\n",
       "    .dataframe thead th {\n",
       "        text-align: right;\n",
       "    }\n",
       "</style>\n",
       "<table border=\"1\" class=\"dataframe\">\n",
       "  <thead>\n",
       "    <tr style=\"text-align: right;\">\n",
       "      <th></th>\n",
       "      <th>L_tilde</th>\n",
       "      <th>L_tilde_E</th>\n",
       "      <th>L_tilde_a</th>\n",
       "      <th>L_tilde_x</th>\n",
       "      <th>c</th>\n",
       "      <th>g</th>\n",
       "      <th>t</th>\n",
       "      <th>Ω</th>\n",
       "      <th>λ_ii</th>\n",
       "      <th>π_rat</th>\n",
       "    </tr>\n",
       "  </thead>\n",
       "  <tbody>\n",
       "    <tr>\n",
       "      <th>0</th>\n",
       "      <td>0.366436</td>\n",
       "      <td>0.247103</td>\n",
       "      <td>0.090821</td>\n",
       "      <td>0.028512</td>\n",
       "      <td>1.041504</td>\n",
       "      <td>0.008841</td>\n",
       "      <td>-20.000000</td>\n",
       "      <td>1.032889</td>\n",
       "      <td>0.894923</td>\n",
       "      <td>1.725056</td>\n",
       "    </tr>\n",
       "    <tr>\n",
       "      <th>1</th>\n",
       "      <td>0.366436</td>\n",
       "      <td>0.247103</td>\n",
       "      <td>0.090821</td>\n",
       "      <td>0.028512</td>\n",
       "      <td>1.041504</td>\n",
       "      <td>0.008841</td>\n",
       "      <td>-15.000000</td>\n",
       "      <td>1.032889</td>\n",
       "      <td>0.894923</td>\n",
       "      <td>1.725056</td>\n",
       "    </tr>\n",
       "    <tr>\n",
       "      <th>2</th>\n",
       "      <td>0.366436</td>\n",
       "      <td>0.247103</td>\n",
       "      <td>0.090821</td>\n",
       "      <td>0.028512</td>\n",
       "      <td>1.041504</td>\n",
       "      <td>0.008841</td>\n",
       "      <td>-10.000000</td>\n",
       "      <td>1.032889</td>\n",
       "      <td>0.894923</td>\n",
       "      <td>1.725056</td>\n",
       "    </tr>\n",
       "    <tr>\n",
       "      <th>3</th>\n",
       "      <td>0.366436</td>\n",
       "      <td>0.247103</td>\n",
       "      <td>0.090821</td>\n",
       "      <td>0.028512</td>\n",
       "      <td>1.041504</td>\n",
       "      <td>0.008841</td>\n",
       "      <td>-5.000000</td>\n",
       "      <td>1.032889</td>\n",
       "      <td>0.894923</td>\n",
       "      <td>1.725056</td>\n",
       "    </tr>\n",
       "    <tr>\n",
       "      <th>4</th>\n",
       "      <td>0.366436</td>\n",
       "      <td>0.247103</td>\n",
       "      <td>0.090821</td>\n",
       "      <td>0.028512</td>\n",
       "      <td>1.041504</td>\n",
       "      <td>0.008841</td>\n",
       "      <td>-1.000000</td>\n",
       "      <td>1.032889</td>\n",
       "      <td>0.894923</td>\n",
       "      <td>1.725056</td>\n",
       "    </tr>\n",
       "    <tr>\n",
       "      <th>5</th>\n",
       "      <td>0.360130</td>\n",
       "      <td>0.228420</td>\n",
       "      <td>0.095858</td>\n",
       "      <td>0.035853</td>\n",
       "      <td>1.074588</td>\n",
       "      <td>0.010321</td>\n",
       "      <td>0.000000</td>\n",
       "      <td>1.032889</td>\n",
       "      <td>0.869171</td>\n",
       "      <td>2.090520</td>\n",
       "    </tr>\n",
       "    <tr>\n",
       "      <th>6</th>\n",
       "      <td>0.360205</td>\n",
       "      <td>0.228294</td>\n",
       "      <td>0.096017</td>\n",
       "      <td>0.035894</td>\n",
       "      <td>1.073566</td>\n",
       "      <td>0.010405</td>\n",
       "      <td>0.353922</td>\n",
       "      <td>1.031514</td>\n",
       "      <td>0.869006</td>\n",
       "      <td>2.091112</td>\n",
       "    </tr>\n",
       "    <tr>\n",
       "      <th>7</th>\n",
       "      <td>0.360233</td>\n",
       "      <td>0.228243</td>\n",
       "      <td>0.096081</td>\n",
       "      <td>0.035909</td>\n",
       "      <td>1.073149</td>\n",
       "      <td>0.010440</td>\n",
       "      <td>0.500000</td>\n",
       "      <td>1.030951</td>\n",
       "      <td>0.868941</td>\n",
       "      <td>2.091346</td>\n",
       "    </tr>\n",
       "    <tr>\n",
       "      <th>8</th>\n",
       "      <td>0.360329</td>\n",
       "      <td>0.228071</td>\n",
       "      <td>0.096292</td>\n",
       "      <td>0.035967</td>\n",
       "      <td>1.071741</td>\n",
       "      <td>0.010554</td>\n",
       "      <td>1.000000</td>\n",
       "      <td>1.029044</td>\n",
       "      <td>0.868711</td>\n",
       "      <td>2.092171</td>\n",
       "    </tr>\n",
       "    <tr>\n",
       "      <th>9</th>\n",
       "      <td>0.360433</td>\n",
       "      <td>0.227904</td>\n",
       "      <td>0.096504</td>\n",
       "      <td>0.036025</td>\n",
       "      <td>1.070343</td>\n",
       "      <td>0.010669</td>\n",
       "      <td>1.500000</td>\n",
       "      <td>1.027166</td>\n",
       "      <td>0.868480</td>\n",
       "      <td>2.093003</td>\n",
       "    </tr>\n",
       "  </tbody>\n",
       "</table>\n",
       "</div>"
      ],
      "text/plain": [
       "    L_tilde  L_tilde_E  L_tilde_a  L_tilde_x         c         g          t  \\\n",
       "0  0.366436   0.247103   0.090821   0.028512  1.041504  0.008841 -20.000000   \n",
       "1  0.366436   0.247103   0.090821   0.028512  1.041504  0.008841 -15.000000   \n",
       "2  0.366436   0.247103   0.090821   0.028512  1.041504  0.008841 -10.000000   \n",
       "3  0.366436   0.247103   0.090821   0.028512  1.041504  0.008841  -5.000000   \n",
       "4  0.366436   0.247103   0.090821   0.028512  1.041504  0.008841  -1.000000   \n",
       "5  0.360130   0.228420   0.095858   0.035853  1.074588  0.010321   0.000000   \n",
       "6  0.360205   0.228294   0.096017   0.035894  1.073566  0.010405   0.353922   \n",
       "7  0.360233   0.228243   0.096081   0.035909  1.073149  0.010440   0.500000   \n",
       "8  0.360329   0.228071   0.096292   0.035967  1.071741  0.010554   1.000000   \n",
       "9  0.360433   0.227904   0.096504   0.036025  1.070343  0.010669   1.500000   \n",
       "\n",
       "          Ω      λ_ii     π_rat  \n",
       "0  1.032889  0.894923  1.725056  \n",
       "1  1.032889  0.894923  1.725056  \n",
       "2  1.032889  0.894923  1.725056  \n",
       "3  1.032889  0.894923  1.725056  \n",
       "4  1.032889  0.894923  1.725056  \n",
       "5  1.032889  0.869171  2.090520  \n",
       "6  1.031514  0.869006  2.091112  \n",
       "7  1.030951  0.868941  2.091346  \n",
       "8  1.029044  0.868711  2.092171  \n",
       "9  1.027166  0.868480  2.093003  "
      ]
     },
     "execution_count": 48,
     "metadata": {},
     "output_type": "execute_result"
    }
   ],
   "source": [
    "df.head(10)"
   ]
  },
  {
   "cell_type": "markdown",
   "metadata": {},
   "source": [
    "# Welfare Gains from Trade"
   ]
  },
  {
   "cell_type": "code",
   "execution_count": 49,
   "metadata": {},
   "outputs": [
    {
     "data": {
      "text/html": [
       "<div>\n",
       "<style scoped>\n",
       "    .dataframe tbody tr th:only-of-type {\n",
       "        vertical-align: middle;\n",
       "    }\n",
       "\n",
       "    .dataframe tbody tr th {\n",
       "        vertical-align: top;\n",
       "    }\n",
       "\n",
       "    .dataframe thead th {\n",
       "        text-align: right;\n",
       "    }\n",
       "</style>\n",
       "<table border=\"1\" class=\"dataframe\">\n",
       "  <thead>\n",
       "    <tr style=\"text-align: right;\">\n",
       "      <th></th>\n",
       "      <th>steady_state</th>\n",
       "      <th>transition_path</th>\n",
       "      <th>theta</th>\n",
       "    </tr>\n",
       "  </thead>\n",
       "  <tbody>\n",
       "    <tr>\n",
       "      <th>0</th>\n",
       "      <td>13.791679</td>\n",
       "      <td>16.806643</td>\n",
       "      <td>3.2941</td>\n",
       "    </tr>\n",
       "  </tbody>\n",
       "</table>\n",
       "</div>"
      ],
      "text/plain": [
       "   steady_state  transition_path   theta\n",
       "0     13.791679        16.806643  3.2941"
      ]
     },
     "execution_count": 49,
     "metadata": {},
     "output_type": "execute_result"
    }
   ],
   "source": [
    "df_welfare.head()"
   ]
  },
  {
   "cell_type": "markdown",
   "metadata": {},
   "source": [
    "This reports the welfare gains. One to the left is the steady state, the one to the right is the transition path. Unlike our previous (wrong) stuff, the amplification is much more modest. Not hugly different."
   ]
  },
  {
   "cell_type": "code",
   "execution_count": 54,
   "metadata": {},
   "outputs": [
    {
     "name": "stdout",
     "output_type": "stream",
     "text": [
      "Change in Trade 0.10507678809714571 0.13517317655371153\n",
      "ACR Gains 1.0438929231668448\n"
     ]
    }
   ],
   "source": [
    "ACR_gains = 100*(((df.λ_ii.iloc[-1])/(df.λ_ii.iloc[0]))**(-1 / df_welfare.theta.iloc[0]) - 1)\n",
    "\n",
    "print(\"Change in Trade\", 1- df.λ_ii.iloc[0], 1- df.λ_ii.iloc[-1])\n",
    "\n",
    "print(\"ACR Gains\", ACR_gains)"
   ]
  },
  {
   "cell_type": "markdown",
   "metadata": {},
   "source": [
    "This reports the ACR implied gains. Need to verify the fomula, but I think this is correct. 0.2 percent increace in welfare. Our model is saying a 14 percentage point increase in welfare. One thing to think about is our consumption response strictly dwarfs just the ACR number. Then there is the growth effect. "
   ]
  },
  {
   "cell_type": "markdown",
   "metadata": {},
   "source": [
    "# Plotting the Results"
   ]
  },
  {
   "cell_type": "markdown",
   "metadata": {},
   "source": [
    "### Growth Rate of Productivity\n",
    "\n",
    "It's below, and we changed the excercise so we start from the calibrated value and then lower the trade cost by 10 percent."
   ]
  },
  {
   "cell_type": "code",
   "execution_count": 61,
   "metadata": {},
   "outputs": [
    {
     "data": {
      "image/png": "[encoded data removed]",
      "text/plain": [
       "<Figure size 720x504 with 1 Axes>"
      ]
     },
     "metadata": {
      "needs_background": "light"
     },
     "output_type": "display_data"
    }
   ],
   "source": [
    "fig, ax = plt.subplots(figsize = (10,7))\n",
    "\n",
    "ax.plot(df.t, 100*df.g, color = \"red\", lw = 5,\n",
    "        label = \"Growth Rate\", ls = \"-\")\n",
    "\n",
    "ax.spines[\"top\"].set_visible(False)\n",
    "ax.spines[\"right\"].set_visible(False)\n",
    "\n",
    "ax.set_ylabel(\"Total Factor Productivity Growth\", fontsize = 14) \n",
    "ax.set_xlim(-20,50)\n",
    "ax.set_ylim(0.75,1.30)\n",
    "\n",
    "plt.savefig(fig_path + \"\\\\growth.pdf\", bbox_inches = \"tight\", dip = 3600)\n",
    "\n",
    "plt.show()"
   ]
  },
  {
   "cell_type": "markdown",
   "metadata": {},
   "source": [
    "### The Volume of Trade"
   ]
  },
  {
   "cell_type": "code",
   "execution_count": 62,
   "metadata": {},
   "outputs": [
    {
     "data": {
      "image/png": "[encoded data removed]",
      "text/plain": [
       "<Figure size 720x504 with 1 Axes>"
      ]
     },
     "metadata": {
      "needs_background": "light"
     },
     "output_type": "display_data"
    }
   ],
   "source": [
    "fig, ax = plt.subplots(figsize = (10,7))\n",
    "\n",
    "ax.plot(df.t, 100*(1-df.λ_ii), color = \"blue\", lw = 5,\n",
    "        label = \"Growth Rate\", ls = \"-\")\n",
    "\n",
    "ax.spines[\"top\"].set_visible(False)\n",
    "ax.spines[\"right\"].set_visible(False)\n",
    "\n",
    "ax.set_ylabel(\"Imports/GDP\", fontsize = 14) \n",
    "ax.set_xlim(-20,50)\n",
    "ax.set_ylim(9,15)\n",
    "\n",
    "plt.savefig(fig_path + \"\\\\trade.pdf\", bbox_inches = \"tight\", dip = 3600)\n",
    "\n",
    "plt.show()"
   ]
  },
  {
   "cell_type": "markdown",
   "metadata": {},
   "source": [
    "### The Pi Ratio\n",
    "\n",
    "This is not as interesitng as I thought. So it jumps, this explains the jump in growth. But very little dynamics after this.\n",
    "\n",
    "**Thought** It may be about the cost of adoption. In the SS logic, the cost is stationary, so never comes into play. Not the cost is chaning as varieties exit, Is there a way to do a \"net benefit\" vs \"net costs\" calculation."
   ]
  },
  {
   "cell_type": "code",
   "execution_count": 63,
   "metadata": {},
   "outputs": [
    {
     "data": {
      "image/png": "[encoded data removed]",
      "text/plain": [
       "<Figure size 720x504 with 1 Axes>"
      ]
     },
     "metadata": {
      "needs_background": "light"
     },
     "output_type": "display_data"
    }
   ],
   "source": [
    "fig, ax = plt.subplots(figsize = (10,7))\n",
    "\n",
    "ax.plot(df.t, df.π_rat/df.π_rat.iloc[0], color = \"black\", lw = 5,\n",
    "        label = \"Growth Rate\", ls = \"-\")\n",
    "\n",
    "ax.spines[\"top\"].set_visible(False)\n",
    "ax.spines[\"right\"].set_visible(False)\n",
    "\n",
    "ax.set_ylim(0.95,1.30)\n",
    "ax.set_xlim(-20,50)\n",
    "\n",
    "ax.set_ylabel(\"π ratio \\n Normalized, Initial S.S. = 1\", fontsize = 14) \n",
    "\n",
    "plt.savefig(fig_path + \"\\\\pi_ratio.pdf\", bbox_inches = \"tight\", dip = 3600)\n",
    "\n",
    "plt.show()"
   ]
  },
  {
   "cell_type": "markdown",
   "metadata": {},
   "source": [
    "### Consumption\n",
    "\n",
    "This stuff is very clear, really striking"
   ]
  },
  {
   "cell_type": "code",
   "execution_count": 73,
   "metadata": {},
   "outputs": [
    {
     "data": {
      "image/png": "[encoded data removed]",
      "text/plain": [
       "<Figure size 720x504 with 1 Axes>"
      ]
     },
     "metadata": {
      "needs_background": "light"
     },
     "output_type": "display_data"
    }
   ],
   "source": [
    "fig, ax = plt.subplots(figsize = (10,7))\n",
    "\n",
    "ax.plot(df.t, df.c/df.c.iloc[0], color = \"black\", lw = 5,\n",
    "        label = \"Growth Rate\", ls = \"-\")\n",
    "\n",
    "ax.spines[\"top\"].set_visible(False)\n",
    "ax.spines[\"right\"].set_visible(False)\n",
    "\n",
    "ax.set_ylabel(\"Consumption \\n Normalized, Initial S.S. = 1\", fontsize = 14) \n",
    "\n",
    "ax.set_ylim(0.98,1.04)\n",
    "\n",
    "ax.set_xlim(-20,50)\n",
    "\n",
    "plt.savefig(fig_path + \"\\\\consumption.pdf\", bbox_inches = \"tight\", dip = 3600)\n",
    "\n",
    "plt.show()"
   ]
  },
  {
   "cell_type": "markdown",
   "metadata": {},
   "source": [
    "### Domestic Variety\n",
    "\n",
    "This falls"
   ]
  },
  {
   "cell_type": "code",
   "execution_count": 65,
   "metadata": {},
   "outputs": [
    {
     "data": {
      "image/png": "[encoded data removed]",
      "text/plain": [
       "<Figure size 720x504 with 1 Axes>"
      ]
     },
     "metadata": {
      "needs_background": "light"
     },
     "output_type": "display_data"
    }
   ],
   "source": [
    "fig, ax = plt.subplots(figsize = (10,7))\n",
    "\n",
    "ax.plot(df.t, df.Ω/df.Ω.iloc[0], color = \"red\", lw = 5,\n",
    "        label = \"\", ls = \"-\")\n",
    "\n",
    "ax.spines[\"top\"].set_visible(False)\n",
    "ax.spines[\"right\"].set_visible(False)\n",
    "\n",
    "ax.set_ylabel(\"Domestic Variety \\n Normalized, Initial S.S. = 1\", fontsize = 14) \n",
    "\n",
    "ax.set_ylim(0.94,1.04)\n",
    "\n",
    "ax.set_xlim(-20,50)\n",
    "\n",
    "plt.savefig(fig_path + \"\\\\omega.pdf\", bbox_inches = \"tight\", dip = 3600)\n",
    "\n",
    "plt.show()"
   ]
  },
  {
   "cell_type": "markdown",
   "metadata": {},
   "source": [
    "### Reallocation effects\n",
    "\n",
    "So this shows the total amount of labor used  for fixed costs and then breaks it down. So Adoption and Exporting go up, this is the first line. This is a force to lower consumption. However, entry falls, this is the blue line. The drop in labor going to entry is far larger than the increase initially. So, in total, a bunch of labor is allocated towards consumption amplifying the gains from trade."
   ]
  },
  {
   "cell_type": "code",
   "execution_count": 74,
   "metadata": {},
   "outputs": [
    {
     "data": {
      "image/png": "[encoded data removed]",
      "text/plain": [
       "<Figure size 720x504 with 1 Axes>"
      ]
     },
     "metadata": {
      "needs_background": "light"
     },
     "output_type": "display_data"
    }
   ],
   "source": [
    "fig, ax = plt.subplots(figsize = (10,7))\n",
    "\n",
    "ax.plot(df.t, 100*((df.L_tilde_x + df.L_tilde_a) - (df.L_tilde_a.iloc[0] + df.L_tilde_x.iloc[0])), color = \"red\", lw = 5, ls = \"-\", alpha = 0.80)\n",
    "\n",
    "ax.plot(df.t, 100*(df.L_tilde_E - df.L_tilde_E.iloc[0]) , color = \"blue\", lw = 5, ls = \"-\", alpha = 0.80)\n",
    "\n",
    "ax.plot(df.t, 100*(df.L_tilde - df.L_tilde.iloc[0]), color = \"black\", lw = 5, ls = \"--\", alpha = 0.70)\n",
    "\n",
    "ax.spines[\"top\"].set_visible(False)\n",
    "ax.spines[\"right\"].set_visible(False)\n",
    "\n",
    "ax.set_ylabel(\"Labor Outside of Production,\\n Percentage Point Change relative to SS\", fontsize = 14) \n",
    "\n",
    "ax.set_xlim(-20,50)\n",
    "ax.set_ylim(-2.05,2.05)\n",
    "\n",
    "ax.text(50, 1.15, \"Labor used in adoption and exporting\", horizontalalignment='right', fontsize = 12) \n",
    "\n",
    "ax.text(50, 0.05, \"Total labor used for fixed costs\", horizontalalignment='right', fontsize = 12) \n",
    "\n",
    "ax.text(50, -1.0, \"Labor used for entry\", horizontalalignment='right', fontsize = 12) \n",
    "\n",
    "plt.savefig(fig_path + \"\\\\fixed_costs.pdf\", bbox_inches = \"tight\", dip = 3600)\n",
    "\n",
    "plt.show()"
   ]
  },
  {
   "cell_type": "code",
   "execution_count": null,
   "metadata": {},
   "outputs": [],
   "source": []
  }
 ],
 "metadata": {
  "kernelspec": {
   "display_name": "Python 3",
   "language": "python",
   "name": "python3"
  },
  "language_info": {
   "codemirror_mode": {
    "name": "ipython",
    "version": 3
   },
   "file_extension": ".py",
   "mimetype": "text/x-python",
   "name": "python",
   "nbconvert_exporter": "python",
   "pygments_lexer": "ipython3",
   "version": "3.6.6"
  }
 },
 "nbformat": 4,
 "nbformat_minor": 2
}
