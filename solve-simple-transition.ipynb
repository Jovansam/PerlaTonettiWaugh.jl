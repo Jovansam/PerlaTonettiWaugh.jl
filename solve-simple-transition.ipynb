{
 "cells": [
  {
   "cell_type": "code",
   "execution_count": 7,
   "metadata": {
    "scrolled": true
   },
   "outputs": [
    {
     "name": "stdout",
     "output_type": "stream",
     "text": [
      "\u001b[32m\u001b[1m  Updating\u001b[22m\u001b[39m registry at `~/.julia/registries/General`\n",
      "\u001b[32m\u001b[1m  Updating\u001b[22m\u001b[39m git-repo `https://github.com/JuliaRegistries/General.git`\n",
      "\u001b[?25l\u001b[2K\u001b[?25h\u001b[32m\u001b[1mPrecompiling\u001b[22m\u001b[39m project...\n",
      "\u001b[32m\u001b[1mPrecompiling\u001b[22m\u001b[39m PerlaTonettiWaugh\n"
     ]
    },
    {
     "name": "stderr",
     "output_type": "stream",
     "text": [
      "┌ Info: Recompiling stale cache file /home/arnavsood/.julia/compiled/v1.1/PerlaTonettiWaugh/Zi3ee.ji for PerlaTonettiWaugh [d2cacc76-b06b-11e8-362b-f18d03a16405]\n",
      "└ @ Base loading.jl:1184\n"
     ]
    }
   ],
   "source": [
    "using Pkg, Plots\n",
    "gr(fmt = :png)\n",
    "pkg\"activate .\"\n",
    "pkg\"instantiate\"\n",
    "pkg\"precompile\"\n",
    "using PerlaTonettiWaugh, Parameters, Sundials"
   ]
  },
  {
   "cell_type": "markdown",
   "metadata": {},
   "source": [
    "# Steady states"
   ]
  },
  {
   "cell_type": "markdown",
   "metadata": {},
   "source": [
    "## Stationary Solution"
   ]
  },
  {
   "cell_type": "markdown",
   "metadata": {},
   "source": [
    "Set up parameters and find the corresponding stationary solution:"
   ]
  },
  {
   "cell_type": "code",
   "execution_count": 15,
   "metadata": {
    "scrolled": false
   },
   "outputs": [
    {
     "data": {
      "text/plain": [
       "(g = 0.01053208149710963, v = [25.4872, 25.3619, 25.2395, 25.1199, 25.0031, 24.8889, 24.7773, 24.6683, 24.5618, 24.4578  …  20.0199, 20.0198, 20.0195, 20.0189, 20.0178, 20.0153, 20.0101, 19.9993, 19.9766, 19.9291])"
      ]
     },
     "execution_count": 15,
     "metadata": {},
     "output_type": "execute_result"
    }
   ],
   "source": [
    "params = @with_kw (μ = 0.0, υ = 0.01, θ = 2.1, r = 0.05, ζ = 14.5, ξ = 1.0, π = x -> 1, x = t -> ζ)\n",
    "z_ex = range(0., stop = 5.0, length = 1000)\n",
    "stationary_sol = stationary_numerical_simple(params(), z_ex)"
   ]
  },
  {
   "cell_type": "markdown",
   "metadata": {},
   "source": [
    "# Transition dynamics"
   ]
  },
  {
   "cell_type": "markdown",
   "metadata": {},
   "source": [
    "Setup for optimizer:"
   ]
  },
  {
   "cell_type": "code",
   "execution_count": 16,
   "metadata": {},
   "outputs": [],
   "source": [
    "g_T = stationary_sol.g\n",
    "params_transition = params(r = t -> (0.05 - 1e-02 * (1 - t / 100.0)), π = (t, x) -> 1)\n",
    "settings = merge(settings, (g = t -> g_T, ))\n",
    "ω = ω_weights(settings.z_ex, params_transition.θ, params_transition.ξ);"
   ]
  },
  {
   "cell_type": "markdown",
   "metadata": {},
   "source": [
    "Find the corresponding solution:"
   ]
  },
  {
   "cell_type": "code",
   "execution_count": null,
   "metadata": {},
   "outputs": [],
   "source": [
    "daeprob = simpleDAE(params_transition, settings)\n",
    "residuals, v_ts, g_ts = solve_simple_dae(daeprob, params_transition.x, ω, IDA(), settings.t_grid);"
   ]
  },
  {
   "cell_type": "markdown",
   "metadata": {},
   "source": [
    "# Plots"
   ]
  },
  {
   "cell_type": "code",
   "execution_count": null,
   "metadata": {},
   "outputs": [],
   "source": [
    "ts = plot(settings.t_grid, v_ts[1,:], label = \"v_t0\", lw = 3, title = \"Values\")"
   ]
  },
  {
   "cell_type": "code",
   "execution_count": null,
   "metadata": {},
   "outputs": [],
   "source": [
    "ts = plot(settings.t_grid, g_ts[1,:], label = \"v_t0\", lw = 3, title = \"Growth Rates\")"
   ]
  },
  {
   "cell_type": "code",
   "execution_count": null,
   "metadata": {},
   "outputs": [],
   "source": [
    "ts = plot(settings.t_grid, residuals, label = \"residuals\", lw = 3, title = \"Residuals\")"
   ]
  }
 ],
 "metadata": {
  "kernelspec": {
   "display_name": "Julia 1.1.0",
   "language": "julia",
   "name": "julia-1.1"
  },
  "language_info": {
   "file_extension": ".jl",
   "mimetype": "application/julia",
   "name": "julia",
   "version": "1.1.0"
  }
 },
 "nbformat": 4,
 "nbformat_minor": 2
}
