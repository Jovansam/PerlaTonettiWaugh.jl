{
 "cells": [
  {
   "cell_type": "markdown",
   "metadata": {},
   "source": [
    "Read in baseline parameter values from  [``/parameters/calibration_params.csv``](/parameters/calibration_params.csv)"
   ]
  },
  {
   "cell_type": "code",
   "execution_count": 10,
   "metadata": {},
   "outputs": [],
   "source": [
    "using PerlaTonettiWaugh"
   ]
  },
  {
   "cell_type": "code",
   "execution_count": 11,
   "metadata": {},
   "outputs": [],
   "source": [
    "## common values\n",
    "params = load_parameters(\"parameters/calibration_params.csv\") \n",
    "d_baseline = params.d_0\n",
    "ϵ = 0.000001\n",
    "d_counterfactual = d_baseline + ϵ;"
   ]
  },
  {
   "cell_type": "markdown",
   "metadata": {},
   "source": [
    "# Local Welfare Change Decomposition"
   ]
  },
  {
   "cell_type": "markdown",
   "metadata": {},
   "source": [
    "### Baseline Steady State"
   ]
  },
  {
   "cell_type": "code",
   "execution_count": 12,
   "metadata": {},
   "outputs": [],
   "source": [
    "params_baseline_1 = merge(params, (d = params.d_0,))\n",
    "sol_baseline_1 = stationary_algebraic(params_baseline_1, settings_defaults());"
   ]
  },
  {
   "cell_type": "code",
   "execution_count": 13,
   "metadata": {},
   "outputs": [
    {
     "name": "stdout",
     "output_type": "stream",
     "text": [
      "g: 0.007913401963163308\n",
      "z_hat: 1.9813268967445312\n",
      "Omega: 0.6805904609927759\n",
      "c: 0.8706834939103555\n",
      "U_bar: 12.322561075850476\n",
      "lambda: 0.893708728294921\n",
      "y: 0.8706834939103555\n"
     ]
    }
   ],
   "source": [
    "println(\"g: $(sol_baseline_1.g)\")\n",
    "println(\"z_hat: $(sol_baseline_1.z_hat)\")\n",
    "println(\"Omega: $(sol_baseline_1.Ω)\")\n",
    "println(\"c: $(sol_baseline_1.c)\")\n",
    "println(\"U_bar: $(sol_baseline_1.U_bar)\")\n",
    "println(\"lambda: $(sol_baseline_1.λ_ii)\")\n",
    "println(\"y: $(sol_baseline_1.y)\");"
   ]
  },
  {
   "cell_type": "markdown",
   "metadata": {},
   "source": [
    "### Counterfactual Steady State"
   ]
  },
  {
   "cell_type": "code",
   "execution_count": 14,
   "metadata": {},
   "outputs": [],
   "source": [
    "params_counterfactual_1 = merge(params, (d = d_counterfactual,))\n",
    "sol_counterfactual_1 = stationary_algebraic(params_counterfactual_1, settings_defaults());"
   ]
  },
  {
   "cell_type": "code",
   "execution_count": 15,
   "metadata": {},
   "outputs": [
    {
     "name": "stdout",
     "output_type": "stream",
     "text": [
      "g: 0.007913392605707198\n",
      "z_hat: 1.981327566183414\n",
      "Omega: 0.6805906063613077\n",
      "c: 0.8706835265233939\n",
      "U_bar: 12.322540295124671\n",
      "lambda: 0.8937088869747696\n",
      "y: 0.8706835265233939\n"
     ]
    }
   ],
   "source": [
    "println(\"g: $(sol_counterfactual_1.g)\")\n",
    "println(\"z_hat: $(sol_counterfactual_1.z_hat)\")\n",
    "println(\"Omega: $(sol_counterfactual_1.Ω)\")\n",
    "println(\"c: $(sol_counterfactual_1.c)\")\n",
    "println(\"U_bar: $(sol_counterfactual_1.U_bar)\")\n",
    "println(\"lambda: $(sol_counterfactual_1.λ_ii)\")\n",
    "println(\"y: $(sol_counterfactual_1.y)\");"
   ]
  },
  {
   "cell_type": "markdown",
   "metadata": {},
   "source": [
    "### Total Derivative"
   ]
  },
  {
   "cell_type": "code",
   "execution_count": 16,
   "metadata": {},
   "outputs": [],
   "source": [
    "tot_der_1 = total_derivative(params_baseline_1, ϵ);"
   ]
  },
  {
   "cell_type": "code",
   "execution_count": 17,
   "metadata": {},
   "outputs": [
    {
     "name": "stdout",
     "output_type": "stream",
     "text": [
      "check = 1.0000003164242064\n",
      "d_U_d_total = -20.780725802120525\n",
      "U_1 = 56.47165189667045\n",
      "U_2 = 2417.5841867628105\n",
      "ACR = -3.558887611247415e-8\n",
      "∂_fc_d = -0.030619099584844357\n",
      "∂_fc_g = -3.894857607214616\n",
      "∂_fc_zhat = -3.9857006587322024e-8\n",
      "∂_fc_Omega = 0.18426332115154256\n",
      "∂_g_d = -0.00935745610900972\n",
      "∂_zhat_d = 0.6694388826785825\n",
      "∂_Omega_d = 0.14536853185831197\n",
      "total_decomp = -20.780732377645194\n",
      "decomp_fc_d = -0.030619099584844357\n",
      "decomp_fc_Omega_Omega_d = 0.026786088471136386\n",
      "decomp_fc_zhat_zhat_d = -2.668182995672976e-8\n",
      "decomp_fc_g_g_d = 0.036445959110353386\n",
      "decomp_g_d = -0.00935745610900972\n",
      "U1_partial_fc_d_frac = 0.08320742030270806\n",
      "U1_decomp_fc_Omega_Omega_d_frac = -0.07279121045043942\n",
      "U1_decomp_fc_zhat_zhat_d_frac = 7.25078878790382e-8\n",
      "U1_decomp_fc_g_g_d_frac = -0.09904191433282807\n",
      "U2_decomp_g_d_frac = 1.0886256319726715\n",
      "planner_0_g_CE = 44.695601719322546\n",
      "planner_0_Omega_CE = 0.21163065848875973\n",
      "planner_0_zhat_CE = -4.57766879309023e-8\n",
      "MU_g_CE = 49.16893518028238\n",
      "semi_elasticity_g_d = -0.028282843954063053\n",
      "U1_partial_fc_d_ACRfrac = 0.9881385225987269\n",
      "d_T = 2.82024354291634\n",
      "d_d = -0.20224928254625985\n",
      "CE_extrap10p = 0.08547852823646272\n",
      "g_extrap10p = 0.001892538784505332\n"
     ]
    }
   ],
   "source": [
    "for (key, value) in pairs(tot_der_1)\n",
    "    println(\"$key = $value\")\n",
    "end"
   ]
  }
 ],
 "metadata": {
  "kernelspec": {
   "display_name": "Julia 1.4.0",
   "language": "julia",
   "name": "julia-1.4"
  },
  "language_info": {
   "file_extension": ".jl",
   "mimetype": "application/julia",
   "name": "julia",
   "version": "1.4.0"
  }
 },
 "nbformat": 4,
 "nbformat_minor": 4
}
