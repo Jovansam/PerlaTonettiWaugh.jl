{
 "cells": [
  {
   "cell_type": "code",
   "execution_count": 1,
   "metadata": {},
   "outputs": [
    {
     "name": "stderr",
     "output_type": "stream",
     "text": [
      "┌ Info: Precompiling PerlaTonettiWaugh [d2cacc76-b06b-11e8-362b-f18d03a16405]\n",
      "└ @ Base loading.jl:1273\n"
     ]
    }
   ],
   "source": [
    "using PerlaTonettiWaugh"
   ]
  },
  {
   "cell_type": "code",
   "execution_count": 2,
   "metadata": {},
   "outputs": [],
   "source": [
    "## common values\n",
    "params = parameter_defaults() # without d \n",
    "d_baseline = params.d_0\n",
    "ϵ = 0.000001\n",
    "d_counterfactual = d_baseline + ϵ;"
   ]
  },
  {
   "cell_type": "markdown",
   "metadata": {},
   "source": [
    "# Local Welfare Change Decomposition"
   ]
  },
  {
   "cell_type": "code",
   "execution_count": 3,
   "metadata": {},
   "outputs": [],
   "source": [
    "params_1 = parameter_defaults(); # without d "
   ]
  },
  {
   "cell_type": "markdown",
   "metadata": {},
   "source": [
    "### Baseline Steady State"
   ]
  },
  {
   "cell_type": "code",
   "execution_count": 4,
   "metadata": {},
   "outputs": [],
   "source": [
    "params_baseline_1 = merge(params_1, (d = params.d_0,))\n",
    "sol_baseline_1 = stationary_algebraic(params_baseline_1, settings_defaults());"
   ]
  },
  {
   "cell_type": "code",
   "execution_count": 5,
   "metadata": {},
   "outputs": [
    {
     "name": "stdout",
     "output_type": "stream",
     "text": [
      "g: 0.007913401963163525\n",
      "z_hat: 1.9813268967445292\n",
      "Omega: 0.6805904609927736\n",
      "c: 0.8706834939103543\n",
      "U_bar: 12.322561075850931\n",
      "lambda: 0.893708728294921\n",
      "y: 0.8706834939103543\n"
     ]
    }
   ],
   "source": [
    "println(\"g: $(sol_baseline_1.g)\")\n",
    "println(\"z_hat: $(sol_baseline_1.z_hat)\")\n",
    "println(\"Omega: $(sol_baseline_1.Ω)\")\n",
    "println(\"c: $(sol_baseline_1.c)\")\n",
    "println(\"U_bar: $(sol_baseline_1.U_bar)\")\n",
    "println(\"lambda: $(sol_baseline_1.λ_ii)\")\n",
    "println(\"y: $(sol_baseline_1.y)\");"
   ]
  },
  {
   "cell_type": "markdown",
   "metadata": {},
   "source": [
    "### Counterfactual Steady State"
   ]
  },
  {
   "cell_type": "code",
   "execution_count": 6,
   "metadata": {},
   "outputs": [],
   "source": [
    "params_counterfactual_1 = merge(params_1, (d = d_counterfactual,))\n",
    "sol_counterfactual_1 = stationary_algebraic(params_counterfactual_1, settings_defaults());"
   ]
  },
  {
   "cell_type": "code",
   "execution_count": 7,
   "metadata": {},
   "outputs": [
    {
     "name": "stdout",
     "output_type": "stream",
     "text": [
      "g: 0.007913392605707404\n",
      "z_hat: 1.9813275661834124\n",
      "Omega: 0.6805906063613061\n",
      "c: 0.8706835265233925\n",
      "U_bar: 12.322540295125096\n",
      "lambda: 0.8937088869747696\n",
      "y: 0.8706835265233925\n"
     ]
    }
   ],
   "source": [
    "println(\"g: $(sol_counterfactual_1.g)\")\n",
    "println(\"z_hat: $(sol_counterfactual_1.z_hat)\")\n",
    "println(\"Omega: $(sol_counterfactual_1.Ω)\")\n",
    "println(\"c: $(sol_counterfactual_1.c)\")\n",
    "println(\"U_bar: $(sol_counterfactual_1.U_bar)\")\n",
    "println(\"lambda: $(sol_counterfactual_1.λ_ii)\")\n",
    "println(\"y: $(sol_counterfactual_1.y)\");"
   ]
  },
  {
   "cell_type": "markdown",
   "metadata": {},
   "source": [
    "### Total Derivative"
   ]
  },
  {
   "cell_type": "code",
   "execution_count": 8,
   "metadata": {},
   "outputs": [],
   "source": [
    "tot_der_1 = total_derivative(params_baseline_1, ϵ);"
   ]
  },
  {
   "cell_type": "code",
   "execution_count": 9,
   "metadata": {},
   "outputs": [
    {
     "name": "stdout",
     "output_type": "stream",
     "text": [
      "check = 1.000000316842169\n",
      "d_U_d_total = -20.78072583231859\n",
      "U_1 = 56.47165189667053\n",
      "U_2 = 2417.5841867628105\n",
      "ACR = -3.558887611247414e-8\n",
      "∂_fc_d = -0.030619099806888962\n",
      "∂_fc_g = -3.8948576073256382\n",
      "∂_fc_zhat = -4.007905119226532e-8\n",
      "∂_fc_Omega = 0.18426332104052026\n",
      "∂_g_d = -0.00935745611941806\n",
      "∂_zhat_d = 0.6694388831226717\n",
      "∂_Omega_d = 0.14536853241342348\n",
      "total_decomp = -20.78073241652884\n",
      "decomp_fc_d = -0.030619099806888962\n",
      "decomp_fc_Omega_Omega_d = 0.026786088557283927\n",
      "decomp_fc_zhat_zhat_d = -2.683047526676648e-8\n",
      "decomp_fc_g_g_d = 0.03644595915193128\n",
      "decomp_g_d = -0.00935745611941806\n",
      "U1_partial_fc_d_frac = 0.08320742075042184\n",
      "U1_decomp_fc_Omega_Omega_d_frac = -0.07279121054834302\n",
      "U1_decomp_fc_zhat_zhat_d_frac = 7.291183145604228e-8\n",
      "U1_decomp_fc_g_g_d_frac = -0.09904191426049493\n",
      "U2_decomp_g_d_frac = 1.0886256311465845\n",
      "planner_0_g_CE = 44.695601719195025\n",
      "planner_0_Omega_CE = 0.2116306583612484\n",
      "planner_0_zhat_CE = -4.603171126199375e-8\n",
      "MU_g_CE = 49.16893518028238\n",
      "semi_elasticity_g_d = -0.0282828439855222\n",
      "U1_partial_fc_d_ACRfrac = 0.9881385297645446\n",
      "d_T = 2.820243542916341\n",
      "d_d = -0.2022492825462603\n",
      "CE_extrap10p = 0.08547852839640514\n",
      "g_extrap10p = 0.0018925387866104157\n"
     ]
    }
   ],
   "source": [
    "for (key, value) in pairs(tot_der_1)\n",
    "    println(\"$key = $value\")\n",
    "end"
   ]
  }
 ],
 "metadata": {
  "kernelspec": {
   "display_name": "Julia 1.3.0",
   "language": "julia",
   "name": "julia-1.3"
  },
  "language_info": {
   "file_extension": ".jl",
   "mimetype": "application/julia",
   "name": "julia",
   "version": "1.3.0"
  }
 },
 "nbformat": 4,
 "nbformat_minor": 4
}
