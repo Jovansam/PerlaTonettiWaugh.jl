{
 "cells": [
  {
   "cell_type": "markdown",
   "metadata": {},
   "source": [
    "### 7.2. Calibration Results\n",
    "\n",
    "This is organized in the following way\n",
    "\n",
    "- [MATLAB calibration routine](#cal)"
   ]
  },
  {
   "cell_type": "markdown",
   "metadata": {},
   "source": [
    "---\n",
    "### <a name=\"cal\"></a> Calibration Routine\n",
    "\n",
    "The code below access the commandline/terminal and then directly executes the MATLAB code. It assumes that (i) you have a working installation of MATLAB and (ii) that it is in your path. Also verify that the directory change implemented below is correct.\n",
    "\n",
    "The resulting parameters are outputed to [``/src/calibration/output/main_results/calibration_params.csv``](/src/calibration/output/main_results/calibration_params.csv\n",
    "\n",
    "The underlying MATLAB code is completly described (with links to the appropriate ``.m`` files) in the [readme file in the calibraiton folder](/src/calibration/README.md)."
   ]
  },
  {
   "cell_type": "code",
   "execution_count": 7,
   "metadata": {},
   "outputs": [],
   "source": [
    "matlab_path = '''matlab'''\n",
    "# This assumes that Matlab is in your path. If not then direct it to\n",
    "# program files / matlab / version/ bin/ matlab.exe\n",
    "# needs to be in triple quotes\n",
    "\n",
    "\n",
    "matlab_cmd = '''\"cd('src\\calibration');calibrate_wrap;\"'''\n",
    "# then the way this works is you have to give the matlab command to change the working directory\n",
    "# this is the cd part; then call the function which in this case is calibrate_wrap\n",
    "# needs to be in triple quotes "
   ]
  },
  {
   "cell_type": "code",
   "execution_count": 10,
   "metadata": {},
   "outputs": [
    {
     "name": "stdout",
     "output_type": "stream",
     "text": [
      "   13-Apr-2020\n",
      "\n",
      "Calibration Targets...\n",
      "Real Rate and Productivity Growth\n",
      "    0.0283    0.0079\n",
      "\n",
      "BEJK Exporter Moments: Fraction of Exporters, Relative Size\n",
      "    0.0330    4.8000\n",
      "\n",
      "Home Trade Share\n",
      "    0.8937\n",
      "\n",
      "Entry Moment\n",
      "    0.0200\n",
      "\n",
      "Firm Moments (LHS Table 3)\n",
      "    0.5010    0.2700    0.1360    0.0940\n",
      "    0.1610    0.2850    0.2900    0.2600\n",
      "\n",
      "%%%%%%%%%%%%%%%%%%%%%%%%%%%%%%%%%%%%%%%%%%%%%%%%%%%%%%%%%%%%%%%%%%%%%%%%%%%\n",
      " \n",
      "Optimization terminated:\n",
      " the current x satisfies the termination criteria using OPTIONS.TolX of 1.000000e-04 \n",
      " and F(X) satisfies the convergence criteria using OPTIONS.TolFun of 1.000000e-04 \n",
      "\n",
      "Elapsed time is 39.314934 seconds.\n",
      "    0.0037\n",
      "\n",
      "%%%%%%%%%%%%%%%%%%%%%%%%%%%%%%%%%%%%%%%%%%%%%%%%%%%%%%%%%%%%%%%%%%%%%%%%%%%\n",
      "Calibration Results\n",
      "Parameter Values\n",
      "d, theta, kappa, 1/chi, mu, upsilon, sigma, delta, rho\n",
      "    3.0225    4.9890    0.1042    7.8835   -0.0311    0.0483    3.1669    0.0200    0.0203\n",
      "\n",
      "%%%%%%%%%%%%%%%%%%%%%%%%%%%%%%%%%%%%%%%%%%%%%%%%%%%%%%%%%%%%%%%%%%%%%%%%%%%\n",
      "Moments: Model\n",
      "Real Rate and Productivity Growth\n",
      "    0.0283    0.0079\n",
      "\n",
      "BEJK Exporter Moments: Fraction of Exporters, Relative Size\n",
      "    0.0330    4.7999\n",
      "\n",
      "Home Trade Share\n",
      "    0.8937\n",
      "\n",
      "Entry Moment\n",
      "    0.0200\n",
      "\n",
      "Firm Moments (RHS Table 3)\n",
      "    0.4573    0.3148    0.1418    0.0861\n",
      "    0.1706    0.2883    0.2823    0.2587\n",
      "\n",
      "%%%%%%%%%%%%%%%%%%%%%%%%%%%%%%%%%%%%%%%%%%%%%%%%%%%%%%%%%%%%%%%%%%%%%%%%%%%\n",
      "Correlation Model and Data Firm Moments\n",
      "    0.9831\n",
      "\n"
     ]
    }
   ],
   "source": [
    "!{matlab_path} -batch {matlab_cmd}\n",
    "\n",
    "# Then the ! command passes the stuff to the command prompt\n",
    "# or terminal. the {} remove the triple quotes\n",
    "# -batch runs this stuff in the background, i.e. no matlab\n",
    "# terminal is opend, it will autormatically exit and close matlab\n",
    "# then the next {} is function call to matlab"
   ]
  },
  {
   "cell_type": "markdown",
   "metadata": {},
   "source": [
    "### Brief Commentary (same as in paper)\n",
    "\n",
    "In terms of fit, the aggregate moments (real rate and productivity growth), the exporter facts, and the employment share of entrants match\n",
    "the data exactly. The model’s fit for the eight firm dynamic moments are the final outputs  While not perfect, the model\n",
    "replicates the dynamics of firms well. The correlation between the model and the data is extremely high at 0.98.\n"
   ]
  }
 ],
 "metadata": {
  "kernelspec": {
   "display_name": "Python 3",
   "language": "python",
   "name": "python3"
  },
  "language_info": {
   "codemirror_mode": {
    "name": "ipython",
    "version": 3
   },
   "file_extension": ".py",
   "mimetype": "text/x-python",
   "name": "python",
   "nbconvert_exporter": "python",
   "pygments_lexer": "ipython3",
   "version": "3.7.3"
  }
 },
 "nbformat": 4,
 "nbformat_minor": 4
}
