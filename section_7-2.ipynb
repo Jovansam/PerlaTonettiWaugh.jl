{
 "cells": [
  {
   "cell_type": "markdown",
   "metadata": {},
   "source": [
    "### 7.2. Calibration Results\n",
    "\n",
    "This is organized in the following way\n",
    "\n",
    "- [MATLAB calibration routine](#cal)\n",
    "\n",
    "- [Zeta normalization analysis](#zeta)"
   ]
  },
  {
   "cell_type": "markdown",
   "metadata": {},
   "source": [
    "---\n",
    "### <a name=\"cal\"></a> Calibration Routine\n",
    "\n",
    "The code below access the commandline/terminal and then directly executes the MATLAB code. It assumes that (i) you have a working installation of MATLAB and (ii) that it is in your path. Also verify that the directory change implemented below is correct.\n",
    "\n",
    "The resulting parameters are outputed to [``/src/calibration/output/main_results/calibration_params.csv``](/src/calibration/output/main_results/calibration_params.csv)\n",
    "\n",
    "The underlying MATLAB code is completly described (with links to the appropriate ``.m`` files) in the [readme file in the calibraiton folder](/src/calibration/README.md)."
   ]
  },
  {
   "cell_type": "code",
   "execution_count": 7,
   "metadata": {},
   "outputs": [],
   "source": [
    "matlab_path = '''matlab'''\n",
    "# This assumes that Matlab is in your path. If not then direct it to\n",
    "# program files / matlab / version/ bin/ matlab.exe\n",
    "# needs to be in triple quotes\n",
    "\n",
    "\n",
    "matlab_cmd = '''\"cd('src\\calibration');calibrate_wrap;\"'''\n",
    "# then the way this works is you have to give the matlab command to change the working directory\n",
    "# this is the cd part; then call the function which in this case is calibrate_wrap\n",
    "# needs to be in triple quotes "
   ]
  },
  {
   "cell_type": "code",
   "execution_count": 10,
   "metadata": {},
   "outputs": [
    {
     "name": "stdout",
     "output_type": "stream",
     "text": [
      "   13-Apr-2020\n",
      "\n",
      "Calibration Targets...\n",
      "Real Rate and Productivity Growth\n",
      "    0.0283    0.0079\n",
      "\n",
      "BEJK Exporter Moments: Fraction of Exporters, Relative Size\n",
      "    0.0330    4.8000\n",
      "\n",
      "Home Trade Share\n",
      "    0.8937\n",
      "\n",
      "Entry Moment\n",
      "    0.0200\n",
      "\n",
      "Firm Moments (LHS Table 3)\n",
      "    0.5010    0.2700    0.1360    0.0940\n",
      "    0.1610    0.2850    0.2900    0.2600\n",
      "\n",
      "%%%%%%%%%%%%%%%%%%%%%%%%%%%%%%%%%%%%%%%%%%%%%%%%%%%%%%%%%%%%%%%%%%%%%%%%%%%\n",
      " \n",
      "Optimization terminated:\n",
      " the current x satisfies the termination criteria using OPTIONS.TolX of 1.000000e-04 \n",
      " and F(X) satisfies the convergence criteria using OPTIONS.TolFun of 1.000000e-04 \n",
      "\n",
      "Elapsed time is 39.314934 seconds.\n",
      "    0.0037\n",
      "\n",
      "%%%%%%%%%%%%%%%%%%%%%%%%%%%%%%%%%%%%%%%%%%%%%%%%%%%%%%%%%%%%%%%%%%%%%%%%%%%\n",
      "Calibration Results\n",
      "Parameter Values\n",
      "d, theta, kappa, 1/chi, mu, upsilon, sigma, delta, rho\n",
      "    3.0225    4.9890    0.1042    7.8835   -0.0311    0.0483    3.1669    0.0200    0.0203\n",
      "\n",
      "%%%%%%%%%%%%%%%%%%%%%%%%%%%%%%%%%%%%%%%%%%%%%%%%%%%%%%%%%%%%%%%%%%%%%%%%%%%\n",
      "Moments: Model\n",
      "Real Rate and Productivity Growth\n",
      "    0.0283    0.0079\n",
      "\n",
      "BEJK Exporter Moments: Fraction of Exporters, Relative Size\n",
      "    0.0330    4.7999\n",
      "\n",
      "Home Trade Share\n",
      "    0.8937\n",
      "\n",
      "Entry Moment\n",
      "    0.0200\n",
      "\n",
      "Firm Moments (RHS Table 3)\n",
      "    0.4573    0.3148    0.1418    0.0861\n",
      "    0.1706    0.2883    0.2823    0.2587\n",
      "\n",
      "%%%%%%%%%%%%%%%%%%%%%%%%%%%%%%%%%%%%%%%%%%%%%%%%%%%%%%%%%%%%%%%%%%%%%%%%%%%\n",
      "Correlation Model and Data Firm Moments\n",
      "    0.9831\n",
      "\n"
     ]
    }
   ],
   "source": [
    "!{matlab_path} -batch {matlab_cmd}\n",
    "\n",
    "# Then the ! command passes the stuff to the command prompt\n",
    "# or terminal. the {} remove the triple quotes\n",
    "# -batch runs this stuff in the background, i.e. no matlab\n",
    "# terminal is opend, it will autormatically exit and close matlab\n",
    "# then the next {} is function call to matlab"
   ]
  },
  {
   "cell_type": "markdown",
   "metadata": {},
   "source": [
    "Again, output is at [``/src/calibration/output/main_results/calibration_params.csv``](/src/calibration/output/main_results/calibration_params.csv) which contains the parameter values in the following order: d, theta, kappa, 1/chi, mu, upsilon, sigma, delta, rho. \n",
    "\n",
    "#### Brief Commentary (same as in paper)\n",
    "\n",
    "In terms of fit, the aggregate moments (real rate and productivity growth), the exporter facts, and the employment share of entrants match\n",
    "the data exactly. The model’s fit for the eight firm dynamic moments are the final outputs  While not perfect, the model\n",
    "replicates the dynamics of firms well. The correlation between the model and the data is extremely high at 0.98."
   ]
  },
  {
   "cell_type": "markdown",
   "metadata": {},
   "source": [
    "---\n",
    "### <a name=\"zeta\"></a> Zeta Normalization Analysis\n",
    "\n",
    "In Section 7.2, we discuss our normalization of zeta and how our results do not depend on the particular normalization. The discussion is below...\n",
    "\n",
    "As stated earlier, we set ζ = 1 as a normalization. Several comments are in order regarding this normalization. First, calibrating the model with a different normalization results in identical parameter values for all parameters except κ. In the theoretical analysis, equations (33) and (35) show that ζ only appears in the form ζ/κ. Thus, a different choice of ζ results in a different κ to match the g and λii moments.\n",
    "Different normalizations do lead to a different amount of variety as equation (48) shows. However, as equation (53) shows, any combination of ζ and κ results in the same welfare gains from trade as long as λii and all other parameter values are equal. It is in this sense that ζ = 1 is a normalization. Numerical analysis of the quantitative model confirms these observations both for steady-state comparative statics\n",
    "and for the analysis of transition dynamics\n",
    "\n",
    "#### Calibration under alternative  ζ"
   ]
  },
  {
   "cell_type": "code",
   "execution_count": 11,
   "metadata": {},
   "outputs": [],
   "source": [
    "matlab_cmd = '''\"cd('src\\calibration');calibrate_wrap_zeta;\"'''\n",
    "# then the way this works is you have to give the matlab command to change the working directory\n",
    "# this is the cd part; then call the function which in this case is calibrate_wrap_zeta\n",
    "# needs to be in triple quotes "
   ]
  },
  {
   "cell_type": "code",
   "execution_count": 13,
   "metadata": {},
   "outputs": [
    {
     "name": "stdout",
     "output_type": "stream",
     "text": [
      "   13-Apr-2020\n",
      "\n",
      "Calibration with different zetas\n",
      "Zeta Value\n",
      "    0.7500\n",
      "\n",
      " \n",
      "Optimization terminated:\n",
      " the current x satisfies the termination criteria using OPTIONS.TolX of 1.000000e-04 \n",
      " and F(X) satisfies the convergence criteria using OPTIONS.TolFun of 1.000000e-04 \n",
      "\n",
      "Elapsed time is 40.031557 seconds.\n",
      "Parameter Values\n",
      "d, theta, kappa, 1/chi, mu, upsilon, sigma, delta, rho, zeta\n",
      "    3.0225    4.9890    0.0781    7.8835   -0.0311    0.0483    3.1669    0.0200    0.0203    0.7500\n",
      "\n",
      "zeta/kappa\n",
      "    9.5973\n",
      "\n",
      "%%%%%%%%%%%%%%%%%%%%%%%%%%%%%%%%%%%%%%%%%%%%%%%%%%%%%%%%%%%%%%%%%%%%%%%%%%%\n",
      "Moments: Model Alt Zetas\n",
      "Calibration Targets...\n",
      "Real Rate and Productivity Growth\n",
      "    0.0283    0.0079\n",
      "\n",
      "BEJK Exporter Moments: Fraction of Exporters, Relative Size\n",
      "    0.0330    4.7999\n",
      "\n",
      "Home Trade Share\n",
      "    0.8937\n",
      "\n",
      "Entry Moment\n",
      "    0.0200\n",
      "\n",
      "Firm Moments\n",
      "    0.2587    0.2883    0.0861    0.3148\n",
      "    0.2823    0.1706    0.1418    0.4573\n",
      "\n",
      "%%%%%%%%%%%%%%%%%%%%%%%%%%%%%%%%%%%%%%%%%%%%%%%%%%%%%%%%%%%%%%%%%%%%%%%%%%%\n",
      "Zeta Value\n",
      "    1.2500\n",
      "\n",
      " \n",
      "Optimization terminated:\n",
      " the current x satisfies the termination criteria using OPTIONS.TolX of 1.000000e-04 \n",
      " and F(X) satisfies the convergence criteria using OPTIONS.TolFun of 1.000000e-04 \n",
      "\n",
      "Elapsed time is 38.678579 seconds.\n",
      "Parameter Values\n",
      "d, theta, kappa, 1/chi, mu, upsilon, sigma, delta, rho, zeta\n",
      "    3.0225    4.9890    0.1302    7.8835   -0.0311    0.0483    3.1669    0.0200    0.0203    1.2500\n",
      "\n",
      "zeta/kappa\n",
      "    9.5973\n",
      "\n",
      "%%%%%%%%%%%%%%%%%%%%%%%%%%%%%%%%%%%%%%%%%%%%%%%%%%%%%%%%%%%%%%%%%%%%%%%%%%%\n",
      "Moments: Model Alt Zetas\n",
      "Calibration Targets...\n",
      "Real Rate and Productivity Growth\n",
      "    0.0283    0.0079\n",
      "\n",
      "BEJK Exporter Moments: Fraction of Exporters, Relative Size\n",
      "    0.0330    4.7999\n",
      "\n",
      "Home Trade Share\n",
      "    0.8937\n",
      "\n",
      "Entry Moment\n",
      "    0.0200\n",
      "\n",
      "Firm Moments\n",
      "    0.2587    0.2883    0.0861    0.3148\n",
      "    0.2823    0.1706    0.1418    0.4573\n",
      "\n",
      "%%%%%%%%%%%%%%%%%%%%%%%%%%%%%%%%%%%%%%%%%%%%%%%%%%%%%%%%%%%%%%%%%%%%%%%%%%%\n"
     ]
    }
   ],
   "source": [
    "!{matlab_path} -batch {matlab_cmd}"
   ]
  },
  {
   "cell_type": "markdown",
   "metadata": {},
   "source": [
    "Note the calibrated parameter values are all in [``src/calibration/output/robust/zeta``](src/calibration/output/robust/zeta) and each ``.csv`` has the final endings of XX which coresponds with the zeta value assumed. The csv file which contains the parameter values in the following order: d, theta, kappa, 1/chi, mu, upsilon, sigma, delta, rho, zeta.\n",
    "\n",
    "#### Brief Commentary\n",
    "\n",
    "Per our claim in the paper: The calibration results lead to (i) the same exact fit (ii) all parameter values are the same except for kappa and (iii) the ratio of zeta/kappa is always the same (9.5973)\n",
    "\n",
    "The next set of code confirms that this does not matter for counterfactualls or welfare.\n",
    "\n",
    "#### Alternative zetas: counterfactuals and welfare.\n",
    "\n",
    "**TO DO** \n",
    "\n",
    "1. Clean up julia notebook so it prints key issue\n",
    "\n",
    "2. Set up julia notebook so it inputs zeta calibrations from and be clearer about warnings if running through this notebook.\n",
    "\n",
    "**Warnings**\n",
    "\n",
    "1. If you want you can just run the notebook [``ZetaNormalization.ipynb``](ZetaNormalization.ipynb)\n",
    "\n",
    "2. An alternative is to just execute the code below (TO DO IS HAVE THE NBCONVERT CODE)\n",
    "\n",
    "3. If this is hte first time running the julia code, it may take awhile to run.\n",
    "\n",
    "4. Path needs to be correct"
   ]
  },
  {
   "cell_type": "code",
   "execution_count": 17,
   "metadata": {},
   "outputs": [
    {
     "name": "stderr",
     "output_type": "stream",
     "text": [
      "[NbConvertApp] Converting notebook ZetaNormalization.ipynb to script\n",
      "[NbConvertApp] Writing 4903 bytes to ZetaNormalization.jl\n"
     ]
    }
   ],
   "source": [
    "!jupyter nbconvert --to script ZetaNormalization.ipynb"
   ]
  },
  {
   "cell_type": "code",
   "execution_count": 18,
   "metadata": {},
   "outputs": [],
   "source": [
    "julia_path = '''C:\\\\Users\\\\mwaugh\\\\AppData\\\\Local\\\\Programs\\\\Julia\\\\Julia-1.4.0\\\\bin\\\\julia.exe'''\n",
    "julia_command = '''ZetaNormalization.jl'''"
   ]
  },
  {
   "cell_type": "code",
   "execution_count": 19,
   "metadata": {},
   "outputs": [
    {
     "name": "stdout",
     "output_type": "stream",
     "text": [
      "g = 0.007913401963163568\n",
      "Î© = 0.6805904609927731\n",
      "z_hat = 1.9813268967445283\n",
      "Î»_ii = 0.8937087282949208\n",
      "c = 0.870683493910354\n",
      "g = 0.010250822794505147\n",
      "Î© = 0.6459867736680399\n",
      "z_hat = 1.8456817342356466\n",
      "Î»_ii = 0.8555713586729671\n",
      "c = 0.8629419672035079\n",
      "solving without cache.\n",
      "492.982278 seconds (1.79 G allocations: 694.061 GiB, 14.02% gc time)\n",
      "ce_1_transition = 100 * consumption_equivalent(solved.U[1], stationary_0.U_bar, overall_parameters) = 10.802138416380114\n",
      "g = 0.007913401963163787\n",
      "Î© = 0.9074539479905925\n",
      "z_hat = 1.9813268967445021\n",
      "Î»_ii = 0.8937087282949173\n",
      "c = 0.9943001206514334\n",
      "g = 0.010250822798546106\n",
      "Î© = 0.8613156829790773\n",
      "z_hat = 1.845681734222669\n",
      "Î»_ii = 0.855571358670515\n",
      "c = 0.985459476381832\n",
      "solving without cache.\n",
      "499.394227 seconds (1.81 G allocations: 698.087 GiB, 14.21% gc time)\n",
      "ce_075_transition = 100 * consumption_equivalent(solved.U[1], stationary_0.U_bar, overall_parameters) = 10.964426594695208\n",
      "g = 0.00791340196314654\n",
      "Î© = 0.5444723687853111\n",
      "z_hat = 1.9813268967443167\n",
      "Î»_ii = 0.8937087282948921\n",
      "c = 0.7854850570129506\n",
      "g = 0.010250822798546064\n",
      "Î© = 0.5167894201216109\n",
      "z_hat = 1.8456817342226628\n",
      "Î»_ii = 0.8555713586705139\n",
      "c = 0.7785010572181686\n"
     ]
    }
   ],
   "source": [
    "!{julia_path} {julia_command}"
   ]
  },
  {
   "cell_type": "code",
   "execution_count": null,
   "metadata": {},
   "outputs": [],
   "source": []
  }
 ],
 "metadata": {
  "kernelspec": {
   "display_name": "Python 3",
   "language": "python",
   "name": "python3"
  },
  "language_info": {
   "codemirror_mode": {
    "name": "ipython",
    "version": 3
   },
   "file_extension": ".py",
   "mimetype": "text/x-python",
   "name": "python",
   "nbconvert_exporter": "python",
   "pygments_lexer": "ipython3",
   "version": "3.7.3"
  }
 },
 "nbformat": 4,
 "nbformat_minor": 4
}
