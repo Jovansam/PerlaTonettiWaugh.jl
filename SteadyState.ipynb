{
 "cells": [
  {
   "cell_type": "markdown",
   "metadata": {},
   "source": [
    "Read in baseline parameter values from  [``/parameters/calibration_params.csv``](/parameters/calibration_params.csv)"
   ]
  },
  {
   "cell_type": "code",
   "execution_count": 1,
   "metadata": {},
   "outputs": [
    {
     "name": "stdout",
     "output_type": "stream",
     "text": [
      "ρ = 0.020338044668517\n",
      "σ = 3.16692413583811\n",
      "θ = 4.98897658793826\n",
      "κ = 0.104196324793307\n",
      "χ = 0.126846612050694\n",
      "μ = -0.0310646242175711\n",
      "υ = 0.0483011406016648\n",
      "ζ = 1\n",
      "δ = 0.02\n",
      "N = 10\n",
      "γ = 1\n",
      "η = 0\n",
      "Theta = 1\n",
      "d_0 = 3.0224928254626\n",
      "d_T = 2.82024354291634\n"
     ]
    }
   ],
   "source": [
    "using PerlaTonettiWaugh\n",
    "params = load_parameters(\"parameters/calibration_params.csv\")\n",
    "for (k, v) in pairs(params)\n",
    "    println(\"$k = $v\")\n",
    "end"
   ]
  },
  {
   "cell_type": "markdown",
   "metadata": {},
   "source": [
    "# Baseline vs. 10% Lower Trade Cost"
   ]
  },
  {
   "cell_type": "code",
   "execution_count": 2,
   "metadata": {},
   "outputs": [],
   "source": [
    "baseline = merge(params, (d = params.d_0,))\n",
    "baseline_sol = stationary_algebraic(baseline, settings_defaults());"
   ]
  },
  {
   "cell_type": "code",
   "execution_count": 3,
   "metadata": {},
   "outputs": [],
   "source": [
    "new_params = merge(params, (d = params.d_T,))\n",
    "new_sol = stationary_algebraic(new_params, settings_defaults());"
   ]
  },
  {
   "cell_type": "code",
   "execution_count": 4,
   "metadata": {},
   "outputs": [
    {
     "name": "stdout",
     "output_type": "stream",
     "text": [
      "Growth in Baseline: 0.007913\n",
      "Growth in Baseline: 0.010251"
     ]
    }
   ],
   "source": [
    "print(\"Growth in Baseline: \", round(baseline_sol.g, digits=6))\n",
    "print(\"\\n\")\n",
    "print(\"Growth in Baseline: \", round(new_sol.g, digits=6))"
   ]
  },
  {
   "cell_type": "code",
   "execution_count": 5,
   "metadata": {},
   "outputs": [
    {
     "name": "stdout",
     "output_type": "stream",
     "text": [
      "(new_sol.g, baseline_sol.g) = (0.010250822794504864, 0.007913401963163308)\n"
     ]
    }
   ],
   "source": [
    "@show (new_sol.g, baseline_sol.g);"
   ]
  },
  {
   "cell_type": "code",
   "execution_count": 6,
   "metadata": {},
   "outputs": [
    {
     "name": "stdout",
     "output_type": "stream",
     "text": [
      "(1 - new_sol.λ_ii, 1 - baseline_sol.λ_ii) = (0.14442864132703293, 0.10629127170507902)\n"
     ]
    }
   ],
   "source": [
    "@show (1 - new_sol.λ_ii, 1 - baseline_sol.λ_ii);"
   ]
  },
  {
   "cell_type": "code",
   "execution_count": 7,
   "metadata": {},
   "outputs": [
    {
     "name": "stdout",
     "output_type": "stream",
     "text": [
      "(new_sol.U_bar, baseline_sol.U_bar) = (17.534340776669858, 12.322561075850476)\n"
     ]
    }
   ],
   "source": [
    "@show (new_sol.U_bar, baseline_sol.U_bar);"
   ]
  },
  {
   "cell_type": "code",
   "execution_count": 8,
   "metadata": {},
   "outputs": [
    {
     "name": "stdout",
     "output_type": "stream",
     "text": [
      "100 * consumption_equivalent(new_sol.U_bar, baseline_sol.U_bar, params) = 11.181899506569803\n"
     ]
    }
   ],
   "source": [
    "@show 100*consumption_equivalent(new_sol.U_bar, baseline_sol.U_bar, params);"
   ]
  },
  {
   "cell_type": "code",
   "execution_count": 9,
   "metadata": {},
   "outputs": [
    {
     "name": "stdout",
     "output_type": "stream",
     "text": [
      "100 * ACR(new_sol.λ_ii, baseline_sol.λ_ii, params) = 0.8741354570533096\n"
     ]
    }
   ],
   "source": [
    "@show 100*ACR(new_sol.λ_ii, baseline_sol.λ_ii, params);"
   ]
  },
  {
   "cell_type": "markdown",
   "metadata": {},
   "source": [
    "# Baseline vs. Autarky"
   ]
  },
  {
   "cell_type": "code",
   "execution_count": 10,
   "metadata": {},
   "outputs": [],
   "source": [
    "d_T_autarky = (baseline.d-1).*2.90 + 1\n",
    "autarky_params = merge(params, (d = d_T_autarky,))\n",
    "autarky_sol = stationary_numerical(autarky_params, settings_defaults());"
   ]
  },
  {
   "cell_type": "code",
   "execution_count": 11,
   "metadata": {},
   "outputs": [
    {
     "name": "stdout",
     "output_type": "stream",
     "text": [
      "(autarky_sol.g, baseline_sol.g) = (0.002306428334135862, 0.007913401963163308)\n"
     ]
    }
   ],
   "source": [
    "@show (autarky_sol.g, baseline_sol.g);"
   ]
  },
  {
   "cell_type": "code",
   "execution_count": 12,
   "metadata": {},
   "outputs": [
    {
     "name": "stdout",
     "output_type": "stream",
     "text": [
      "(1 - autarky_sol.λ_ii, 1 - baseline_sol.λ_ii) = (0.001936709141296733, 0.10629127170507902)\n"
     ]
    }
   ],
   "source": [
    "@show (1 - autarky_sol.λ_ii, 1 - baseline_sol.λ_ii);"
   ]
  },
  {
   "cell_type": "code",
   "execution_count": 13,
   "metadata": {},
   "outputs": [
    {
     "name": "stdout",
     "output_type": "stream",
     "text": [
      "(autarky_sol.U_bar, baseline_sol.U_bar) = (0.05354249102244727, 12.322561075850476)\n"
     ]
    }
   ],
   "source": [
    "@show (autarky_sol.U_bar, baseline_sol.U_bar);"
   ]
  },
  {
   "cell_type": "code",
   "execution_count": 14,
   "metadata": {},
   "outputs": [
    {
     "name": "stdout",
     "output_type": "stream",
     "text": [
      "100 * consumption_equivalent(autarky_sol.U_bar, baseline_sol.U_bar, params) = -22.083141777286443\n"
     ]
    }
   ],
   "source": [
    "@show 100*consumption_equivalent(autarky_sol.U_bar, baseline_sol.U_bar, params);"
   ]
  },
  {
   "cell_type": "code",
   "execution_count": 15,
   "metadata": {},
   "outputs": [
    {
     "name": "stdout",
     "output_type": "stream",
     "text": [
      "100 * ACR(autarky_sol.λ_ii, baseline_sol.λ_ii, params) = -2.213615863648697\n"
     ]
    }
   ],
   "source": [
    "@show 100*ACR(autarky_sol.λ_ii, baseline_sol.λ_ii, params);"
   ]
  },
  {
   "cell_type": "markdown",
   "metadata": {},
   "source": [
    "# Sampson Comparison"
   ]
  },
  {
   "cell_type": "markdown",
   "metadata": {},
   "source": [
    "Read in parameter values from [``/parameters/calibration_params.csv``](/parameters/calibration_sampson.csv)"
   ]
  },
  {
   "cell_type": "code",
   "execution_count": 16,
   "metadata": {},
   "outputs": [],
   "source": [
    "sampson_params = load_parameters(\"parameters/calibration_sampson.csv\")\n",
    "sampson_d = 3.4709\n",
    "sampson_baseline = merge(sampson_params, (d = sampson_d,))\n",
    "sampson_baseline_sol = stationary_algebraic(sampson_baseline, settings_defaults());"
   ]
  },
  {
   "cell_type": "code",
   "execution_count": 17,
   "metadata": {},
   "outputs": [],
   "source": [
    "sampson_autarky = merge(sampson_params, (d =  (sampson_baseline.d-1).*2.90 + 1,))\n",
    "sampson_autarky_sol = stationary_numerical(sampson_autarky, settings_defaults());"
   ]
  },
  {
   "cell_type": "code",
   "execution_count": 18,
   "metadata": {},
   "outputs": [
    {
     "name": "stdout",
     "output_type": "stream",
     "text": [
      "(sampson_autarky_sol.g, sampson_baseline_sol.g) = (0.00897291957967218, 0.009915082008967218)\n"
     ]
    }
   ],
   "source": [
    "@show (sampson_autarky_sol.g, sampson_baseline_sol.g);"
   ]
  },
  {
   "cell_type": "code",
   "execution_count": 19,
   "metadata": {},
   "outputs": [
    {
     "name": "stdout",
     "output_type": "stream",
     "text": [
      "(1 - sampson_autarky_sol.λ_ii, 1 - sampson_baseline_sol.λ_ii) = (0.0007321288559219985, 0.04992385468557714)\n"
     ]
    }
   ],
   "source": [
    "@show (1 - sampson_autarky_sol.λ_ii, 1 - sampson_baseline_sol.λ_ii);"
   ]
  },
  {
   "cell_type": "code",
   "execution_count": 20,
   "metadata": {},
   "outputs": [
    {
     "name": "stdout",
     "output_type": "stream",
     "text": [
      "(sampson_autarky_sol.U_bar, sampson_baseline_sol.U_bar) = (36.34488861407261, 38.06381823982093)\n"
     ]
    }
   ],
   "source": [
    "@show (sampson_autarky_sol.U_bar, sampson_baseline_sol.U_bar);"
   ]
  },
  {
   "cell_type": "code",
   "execution_count": 21,
   "metadata": {},
   "outputs": [
    {
     "name": "stdout",
     "output_type": "stream",
     "text": [
      "100 * consumption_equivalent(sampson_autarky_sol.U_bar, sampson_baseline_sol.U_bar, sampson_params) = -3.4355637686737106\n"
     ]
    }
   ],
   "source": [
    "@show 100*consumption_equivalent(sampson_autarky_sol.U_bar, sampson_baseline_sol.U_bar, sampson_params);"
   ]
  },
  {
   "cell_type": "code",
   "execution_count": 22,
   "metadata": {},
   "outputs": [
    {
     "name": "stdout",
     "output_type": "stream",
     "text": [
      "100 * ACR(sampson_autarky_sol.λ_ii, sampson_baseline_sol.λ_ii, sampson_params) = -1.0118621171239643\n"
     ]
    }
   ],
   "source": [
    "@show 100*ACR(sampson_autarky_sol.λ_ii, sampson_baseline_sol.λ_ii, sampson_params);"
   ]
  },
  {
   "cell_type": "markdown",
   "metadata": {},
   "source": [
    "# No GBM Firm Dynamics"
   ]
  },
  {
   "cell_type": "markdown",
   "metadata": {},
   "source": [
    "Read in parameter values from [``/parameters/calibration_params.csv``](/parameters/calibration_no_firm_dynamics.csv)"
   ]
  },
  {
   "cell_type": "code",
   "execution_count": 30,
   "metadata": {},
   "outputs": [],
   "source": [
    "nogbm_params = load_parameters(\"parameters/calibration_no_firm_dynamics.csv\")\n",
    "nogbm_d = 3.0228\n",
    "nogbm_baseline = merge(nogbm_params, (d = nogbm_d,))\n",
    "nogbm_baseline_sol = stationary_algebraic(nogbm_baseline, settings_defaults());"
   ]
  },
  {
   "cell_type": "code",
   "execution_count": 31,
   "metadata": {},
   "outputs": [],
   "source": [
    "nogbm_autarky = merge(nogbm_params, (d = (nogbm_baseline.d-1).*2.90 + 1,))\n",
    "nogbm_autarky_sol = stationary_algebraic(nogbm_autarky, settings_defaults());"
   ]
  },
  {
   "cell_type": "code",
   "execution_count": 32,
   "metadata": {},
   "outputs": [
    {
     "name": "stdout",
     "output_type": "stream",
     "text": [
      "(nogbm_autarky_sol.g, nogbm_baseline_sol.g) = (0.006252530106390247, 0.007913977370439458)\n"
     ]
    }
   ],
   "source": [
    "@show (nogbm_autarky_sol.g, nogbm_baseline_sol.g);"
   ]
  },
  {
   "cell_type": "code",
   "execution_count": 33,
   "metadata": {},
   "outputs": [
    {
     "name": "stdout",
     "output_type": "stream",
     "text": [
      "(1 - nogbm_autarky_sol.λ_ii, 1 - nogbm_baseline_sol.λ_ii) = (0.0019805534346437614, 0.10626936733992842)\n"
     ]
    }
   ],
   "source": [
    "@show (1 - nogbm_autarky_sol.λ_ii, 1 - nogbm_baseline_sol.λ_ii);"
   ]
  },
  {
   "cell_type": "code",
   "execution_count": 34,
   "metadata": {},
   "outputs": [
    {
     "name": "stdout",
     "output_type": "stream",
     "text": [
      "(nogbm_autarky_sol.U_bar, nogbm_baseline_sol.U_bar) = (34.29854431711172, 37.21019102277248)\n"
     ]
    }
   ],
   "source": [
    "@show (nogbm_autarky_sol.U_bar, nogbm_baseline_sol.U_bar);"
   ]
  },
  {
   "cell_type": "code",
   "execution_count": 35,
   "metadata": {},
   "outputs": [
    {
     "name": "stdout",
     "output_type": "stream",
     "text": [
      "100 * consumption_equivalent(nogbm_autarky_sol.U_bar, nogbm_baseline_sol.U_bar, nogbm_params) = -5.7497965233326065\n"
     ]
    }
   ],
   "source": [
    "@show 100*consumption_equivalent(nogbm_autarky_sol.U_bar, nogbm_baseline_sol.U_bar, nogbm_params);"
   ]
  },
  {
   "cell_type": "code",
   "execution_count": 36,
   "metadata": {},
   "outputs": [
    {
     "name": "stdout",
     "output_type": "stream",
     "text": [
      "100 * ACR(nogbm_autarky_sol.λ_ii, nogbm_baseline_sol.λ_ii, nogbm_params) = -2.212279562982755\n"
     ]
    }
   ],
   "source": [
    "@show 100*ACR(nogbm_autarky_sol.λ_ii, nogbm_baseline_sol.λ_ii, nogbm_params);"
   ]
  }
 ],
 "metadata": {
  "kernelspec": {
   "display_name": "Julia 1.4.0",
   "language": "julia",
   "name": "julia-1.4"
  },
  "language_info": {
   "file_extension": ".jl",
   "mimetype": "application/julia",
   "name": "julia",
   "version": "1.4.0"
  }
 },
 "nbformat": 4,
 "nbformat_minor": 4
}
