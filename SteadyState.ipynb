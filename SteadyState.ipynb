{
 "cells": [
  {
   "cell_type": "markdown",
   "metadata": {},
   "source": [
    "Read in baseline parameter values from  [``/parameters/calibration_params.csv``](/parameters/calibration_params.csv)"
   ]
  },
  {
   "cell_type": "code",
   "execution_count": 3,
   "metadata": {},
   "outputs": [
    {
     "name": "stdout",
     "output_type": "stream",
     "text": [
      "θ = 4.988976587938262\n",
      "κ = 0.104196324793307\n",
      "χ = 0.1268466120506935\n",
      "μ = -0.031064624217571\n",
      "υ = 0.048301140601665\n",
      "σ = 3.16692413583811\n",
      "ζ = 1\n",
      "δ = 0.02\n",
      "ρ = 0.020338044668517\n",
      "N = 10\n",
      "γ = 1.0\n",
      "η = 0.0\n",
      "Theta = 1\n",
      "d_0 = 3.022492825462601\n",
      "d_T = 2.820243542916341\n"
     ]
    }
   ],
   "source": [
    "using PerlaTonettiWaugh\n",
    "params = parameter_defaults()\n",
    "for (k, v) in pairs(params)\n",
    "    println(\"$k = $v\")\n",
    "end"
   ]
  },
  {
   "cell_type": "markdown",
   "metadata": {},
   "source": [
    "# Baseline vs. 10% Lower Trade Cost"
   ]
  },
  {
   "cell_type": "code",
   "execution_count": 4,
   "metadata": {},
   "outputs": [],
   "source": [
    "baseline = merge(params, (d = params.d_0,))\n",
    "baseline_sol = stationary_algebraic(baseline, settings_defaults());"
   ]
  },
  {
   "cell_type": "code",
   "execution_count": 5,
   "metadata": {},
   "outputs": [],
   "source": [
    "new_params = merge(params, (d = params.d_T,))\n",
    "new_sol = stationary_algebraic(new_params, settings_defaults());"
   ]
  },
  {
   "cell_type": "code",
   "execution_count": 16,
   "metadata": {},
   "outputs": [
    {
     "name": "stdout",
     "output_type": "stream",
     "text": [
      "Growth in Baseline: 0.007913\n",
      "Growth in Baseline: 0.010251"
     ]
    }
   ],
   "source": [
    "print(\"Growth in Baseline: \", round(baseline_sol.g, digits=6))\n",
    "print(\"\\n\")\n",
    "print(\"Growth in Baseline: \", round(new_sol.g, digits=6))"
   ]
  },
  {
   "cell_type": "code",
   "execution_count": 4,
   "metadata": {},
   "outputs": [
    {
     "name": "stdout",
     "output_type": "stream",
     "text": [
      "(new_sol.g, baseline_sol.g) = (0.010250822794505147, 0.007913401963163525)\n"
     ]
    }
   ],
   "source": [
    "@show (new_sol.g, baseline_sol.g);"
   ]
  },
  {
   "cell_type": "code",
   "execution_count": 5,
   "metadata": {},
   "outputs": [
    {
     "name": "stdout",
     "output_type": "stream",
     "text": [
      "(1 - new_sol.λ_ii, 1 - baseline_sol.λ_ii) = (0.14442864132703293, 0.10629127170507902)\n"
     ]
    }
   ],
   "source": [
    "@show (1 - new_sol.λ_ii, 1 - baseline_sol.λ_ii);"
   ]
  },
  {
   "cell_type": "code",
   "execution_count": 6,
   "metadata": {},
   "outputs": [
    {
     "name": "stdout",
     "output_type": "stream",
     "text": [
      "(new_sol.U_bar, baseline_sol.U_bar) = (17.534340776670454, 12.322561075850931)\n"
     ]
    }
   ],
   "source": [
    "@show (new_sol.U_bar, baseline_sol.U_bar);"
   ]
  },
  {
   "cell_type": "code",
   "execution_count": 7,
   "metadata": {},
   "outputs": [
    {
     "name": "stdout",
     "output_type": "stream",
     "text": [
      "100 * consumption_equivalent(new_sol.U_bar, baseline_sol.U_bar, params) = 11.181899506570137\n"
     ]
    }
   ],
   "source": [
    "@show 100*consumption_equivalent(new_sol.U_bar, baseline_sol.U_bar, params);"
   ]
  },
  {
   "cell_type": "code",
   "execution_count": 8,
   "metadata": {},
   "outputs": [
    {
     "name": "stdout",
     "output_type": "stream",
     "text": [
      "100 * ACR(new_sol.λ_ii, baseline_sol.λ_ii, params) = 0.8741354570533093\n"
     ]
    }
   ],
   "source": [
    "@show 100*ACR(new_sol.λ_ii, baseline_sol.λ_ii, params);"
   ]
  },
  {
   "cell_type": "markdown",
   "metadata": {},
   "source": [
    "# Baseline vs. Autarky"
   ]
  },
  {
   "cell_type": "code",
   "execution_count": 9,
   "metadata": {},
   "outputs": [],
   "source": [
    "d_T_autarky = (baseline.d-1).*2.90 + 1\n",
    "autarky_params = merge(params, (d = d_T_autarky,))\n",
    "autarky_sol = stationary_numerical(autarky_params, settings_defaults());"
   ]
  },
  {
   "cell_type": "code",
   "execution_count": 10,
   "metadata": {},
   "outputs": [
    {
     "name": "stdout",
     "output_type": "stream",
     "text": [
      "(autarky_sol.g, baseline_sol.g) = (0.002306428334150842, 0.007913401963163525)\n"
     ]
    }
   ],
   "source": [
    "@show (autarky_sol.g, baseline_sol.g);"
   ]
  },
  {
   "cell_type": "code",
   "execution_count": 11,
   "metadata": {},
   "outputs": [
    {
     "name": "stdout",
     "output_type": "stream",
     "text": [
      "(1 - autarky_sol.λ_ii, 1 - baseline_sol.λ_ii) = (0.0019367091412947346, 0.10629127170507902)\n"
     ]
    }
   ],
   "source": [
    "@show (1 - autarky_sol.λ_ii, 1 - baseline_sol.λ_ii);"
   ]
  },
  {
   "cell_type": "code",
   "execution_count": 12,
   "metadata": {},
   "outputs": [
    {
     "name": "stdout",
     "output_type": "stream",
     "text": [
      "(autarky_sol.U_bar, baseline_sol.U_bar) = (0.053542491058870774, 12.322561075850931)\n"
     ]
    }
   ],
   "source": [
    "@show (autarky_sol.U_bar, baseline_sol.U_bar);"
   ]
  },
  {
   "cell_type": "code",
   "execution_count": 13,
   "metadata": {},
   "outputs": [
    {
     "name": "stdout",
     "output_type": "stream",
     "text": [
      "100 * consumption_equivalent(autarky_sol.U_bar, baseline_sol.U_bar, params) = -22.083141777229454\n"
     ]
    }
   ],
   "source": [
    "@show 100*consumption_equivalent(autarky_sol.U_bar, baseline_sol.U_bar, params);"
   ]
  },
  {
   "cell_type": "code",
   "execution_count": 14,
   "metadata": {},
   "outputs": [
    {
     "name": "stdout",
     "output_type": "stream",
     "text": [
      "100 * ACR(autarky_sol.λ_ii, baseline_sol.λ_ii, params) = -2.2136158636487355\n"
     ]
    }
   ],
   "source": [
    "@show 100*ACR(autarky_sol.λ_ii, baseline_sol.λ_ii, params);"
   ]
  },
  {
   "cell_type": "markdown",
   "metadata": {},
   "source": [
    "# Sampson Comparison"
   ]
  },
  {
   "cell_type": "markdown",
   "metadata": {},
   "source": [
    "Read in parameter values from [``/parameters/calibration_params.csv``](/parameters/calibration_sampson.csv)"
   ]
  },
  {
   "cell_type": "code",
   "execution_count": 15,
   "metadata": {},
   "outputs": [],
   "source": [
    "sampson_params = parameter_defaults(θ = 4.9889, κ = 0.0488, χ = 1/3.7392, μ = 0.0001, υ = 0.0001, ρ = 0.04);\n",
    "sampson_d = 3.4709\n",
    "sampson_baseline = merge(sampson_params, (d = sampson_d,))\n",
    "sampson_baseline_sol = stationary_algebraic(sampson_baseline, settings_defaults());"
   ]
  },
  {
   "cell_type": "code",
   "execution_count": 16,
   "metadata": {},
   "outputs": [],
   "source": [
    "sampson_autarky = merge(sampson_params, (d =  (sampson_baseline.d-1).*2.90 + 1,))\n",
    "sampson_autarky_sol = stationary_numerical(sampson_autarky, settings_defaults());"
   ]
  },
  {
   "cell_type": "code",
   "execution_count": 17,
   "metadata": {},
   "outputs": [
    {
     "name": "stdout",
     "output_type": "stream",
     "text": [
      "(sampson_autarky_sol.g, sampson_baseline_sol.g) = (0.013310347483066117, 0.015597527953080179)\n"
     ]
    }
   ],
   "source": [
    "@show (sampson_autarky_sol.g, sampson_baseline_sol.g);"
   ]
  },
  {
   "cell_type": "code",
   "execution_count": 18,
   "metadata": {},
   "outputs": [
    {
     "name": "stdout",
     "output_type": "stream",
     "text": [
      "(1 - sampson_autarky_sol.λ_ii, 1 - sampson_baseline_sol.λ_ii) = (0.001226376076698621, 0.08093717757428653)\n"
     ]
    }
   ],
   "source": [
    "@show (1 - sampson_autarky_sol.λ_ii, 1 - sampson_baseline_sol.λ_ii);"
   ]
  },
  {
   "cell_type": "code",
   "execution_count": 19,
   "metadata": {},
   "outputs": [
    {
     "name": "stdout",
     "output_type": "stream",
     "text": [
      "(sampson_autarky_sol.U_bar, sampson_baseline_sol.U_bar) = (12.877667855998943, 13.707431467854175)\n"
     ]
    }
   ],
   "source": [
    "@show (sampson_autarky_sol.U_bar, sampson_baseline_sol.U_bar);"
   ]
  },
  {
   "cell_type": "code",
   "execution_count": 20,
   "metadata": {},
   "outputs": [
    {
     "name": "stdout",
     "output_type": "stream",
     "text": [
      "100 * consumption_equivalent(sampson_autarky_sol.U_bar, sampson_baseline_sol.U_bar, sampson_params) = -3.264578197389123\n"
     ]
    }
   ],
   "source": [
    "@show 100*consumption_equivalent(sampson_autarky_sol.U_bar, sampson_baseline_sol.U_bar, sampson_params);"
   ]
  },
  {
   "cell_type": "code",
   "execution_count": 21,
   "metadata": {},
   "outputs": [
    {
     "name": "stdout",
     "output_type": "stream",
     "text": [
      "100 * ACR(sampson_autarky_sol.λ_ii, sampson_baseline_sol.λ_ii, sampson_params) = -1.66717454193171\n"
     ]
    }
   ],
   "source": [
    "@show 100*ACR(sampson_autarky_sol.λ_ii, sampson_baseline_sol.λ_ii, sampson_params);"
   ]
  },
  {
   "cell_type": "markdown",
   "metadata": {},
   "source": [
    "# No GBM Firm Dynamics"
   ]
  },
  {
   "cell_type": "markdown",
   "metadata": {},
   "source": [
    "Read in parameter values from [``/parameters/calibration_params.csv``](/parameters/calibration_no_firm_dynamics.csv)"
   ]
  },
  {
   "cell_type": "code",
   "execution_count": 22,
   "metadata": {},
   "outputs": [],
   "source": [
    "nogbm_params = parameter_defaults(θ = 4.9889, κ = 0.0370, χ = 1/3.2887, μ = 0.0, υ = 0.0001);\n",
    "nogbm_d = 3.0228\n",
    "nogbm_baseline = merge(nogbm_params, (d = nogbm_d,))\n",
    "nogbm_baseline_sol = stationary_algebraic(nogbm_baseline, settings_defaults());"
   ]
  },
  {
   "cell_type": "code",
   "execution_count": 23,
   "metadata": {},
   "outputs": [],
   "source": [
    "nogbm_autarky = merge(nogbm_params, (d = (nogbm_baseline.d-1).*2.90 + 1,))\n",
    "nogbm_autarky_sol = stationary_algebraic(nogbm_autarky, settings_defaults());"
   ]
  },
  {
   "cell_type": "code",
   "execution_count": 24,
   "metadata": {},
   "outputs": [
    {
     "name": "stdout",
     "output_type": "stream",
     "text": [
      "(nogbm_autarky_sol.g, nogbm_baseline_sol.g) = (0.006152417632414605, 0.007811828654983925)\n"
     ]
    }
   ],
   "source": [
    "@show (nogbm_autarky_sol.g, nogbm_baseline_sol.g);"
   ]
  },
  {
   "cell_type": "code",
   "execution_count": 25,
   "metadata": {},
   "outputs": [
    {
     "name": "stdout",
     "output_type": "stream",
     "text": [
      "(1 - nogbm_autarky_sol.λ_ii, 1 - nogbm_baseline_sol.λ_ii) = (0.0019781367339108957, 0.10615350378854871)\n"
     ]
    }
   ],
   "source": [
    "@show (1 - nogbm_autarky_sol.λ_ii, 1 - nogbm_baseline_sol.λ_ii);"
   ]
  },
  {
   "cell_type": "code",
   "execution_count": 26,
   "metadata": {},
   "outputs": [
    {
     "name": "stdout",
     "output_type": "stream",
     "text": [
      "(nogbm_autarky_sol.U_bar, nogbm_baseline_sol.U_bar) = (34.056647534042924, 36.96456177102928)\n"
     ]
    }
   ],
   "source": [
    "@show (nogbm_autarky_sol.U_bar, nogbm_baseline_sol.U_bar);"
   ]
  },
  {
   "cell_type": "code",
   "execution_count": 27,
   "metadata": {},
   "outputs": [
    {
     "name": "stdout",
     "output_type": "stream",
     "text": [
      "100 * consumption_equivalent(nogbm_autarky_sol.U_bar, nogbm_baseline_sol.U_bar, nogbm_params) = -5.742641613768029\n"
     ]
    }
   ],
   "source": [
    "@show 100*consumption_equivalent(nogbm_autarky_sol.U_bar, nogbm_baseline_sol.U_bar, nogbm_params);"
   ]
  },
  {
   "cell_type": "code",
   "execution_count": 28,
   "metadata": {},
   "outputs": [
    {
     "name": "stdout",
     "output_type": "stream",
     "text": [
      "100 * ACR(nogbm_autarky_sol.λ_ii, nogbm_baseline_sol.λ_ii, nogbm_params) = -2.2097281401231816\n"
     ]
    }
   ],
   "source": [
    "@show 100*ACR(nogbm_autarky_sol.λ_ii, nogbm_baseline_sol.λ_ii, nogbm_params);"
   ]
  }
 ],
 "metadata": {
  "kernelspec": {
   "display_name": "Julia 1.4.0",
   "language": "julia",
   "name": "julia-1.4"
  },
  "language_info": {
   "file_extension": ".jl",
   "mimetype": "application/julia",
   "name": "julia",
   "version": "1.4.0"
  }
 },
 "nbformat": 4,
 "nbformat_minor": 4
}
