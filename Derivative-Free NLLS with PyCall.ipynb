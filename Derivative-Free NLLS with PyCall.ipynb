{
 "cells": [
  {
   "cell_type": "markdown",
   "metadata": {},
   "source": [
    "### Installation and Setup"
   ]
  },
  {
   "cell_type": "markdown",
   "metadata": {},
   "source": [
    "First, we need to intall the package"
   ]
  },
  {
   "cell_type": "code",
   "execution_count": 1,
   "metadata": {},
   "outputs": [
    {
     "name": "stdout",
     "output_type": "stream",
     "text": [
      "\u001b[32m\u001b[1m  Updating\u001b[22m\u001b[39m registry at `~/.julia/registries/General`\n",
      "\u001b[32m\u001b[1m  Updating\u001b[22m\u001b[39m git-repo `https://github.com/JuliaRegistries/General.git`\n",
      "\u001b[2K\u001b[?25h\u001b[32m\u001b[1m Resolving\u001b[22m\u001b[39m package versions...\n",
      "\u001b[32m\u001b[1m  Updating\u001b[22m\u001b[39m `~/.julia/environments/v1.0/Project.toml`\n",
      "\u001b[90m [no changes]\u001b[39m\n",
      "\u001b[32m\u001b[1m  Updating\u001b[22m\u001b[39m `~/.julia/environments/v1.0/Manifest.toml`\n",
      "\u001b[90m [no changes]\u001b[39m\n"
     ]
    }
   ],
   "source": [
    "] add PyCall"
   ]
  },
  {
   "cell_type": "code",
   "execution_count": 2,
   "metadata": {},
   "outputs": [
    {
     "name": "stdout",
     "output_type": "stream",
     "text": [
      "\u001b[32m\u001b[1m Resolving\u001b[22m\u001b[39m package versions...\n",
      "\u001b[32m\u001b[1m  Updating\u001b[22m\u001b[39m `~/.julia/environments/v1.0/Project.toml`\n",
      "\u001b[90m [no changes]\u001b[39m\n",
      "\u001b[32m\u001b[1m  Updating\u001b[22m\u001b[39m `~/.julia/environments/v1.0/Manifest.toml`\n",
      "\u001b[90m [no changes]\u001b[39m\n"
     ]
    }
   ],
   "source": [
    "] add Conda"
   ]
  },
  {
   "cell_type": "markdown",
   "metadata": {},
   "source": [
    "This installs a Conda installation in the user depot, which we can see as follows"
   ]
  },
  {
   "cell_type": "code",
   "execution_count": 3,
   "metadata": {},
   "outputs": [
    {
     "name": "stdout",
     "output_type": "stream",
     "text": [
      "Conda.PYTHONDIR = \"/Users/arnavsood/.julia/conda/3/bin\"\n"
     ]
    },
    {
     "data": {
      "text/plain": [
       "\"/Users/arnavsood/.julia/conda/3/bin\""
      ]
     },
     "execution_count": 3,
     "metadata": {},
     "output_type": "execute_result"
    }
   ],
   "source": [
    "using PyCall, Conda \n",
    "@show Conda.PYTHONDIR # this is also Conda.ROOTENV"
   ]
  },
  {
   "cell_type": "markdown",
   "metadata": {},
   "source": [
    "Next, we need to install the actual solver package"
   ]
  },
  {
   "cell_type": "code",
   "execution_count": 4,
   "metadata": {},
   "outputs": [
    {
     "name": "stderr",
     "output_type": "stream",
     "text": [
      "┌ Info: Running `conda install -y pip` in root environment\n",
      "└ @ Conda /Users/arnavsood/.julia/packages/Conda/uQitS/src/Conda.jl:112\n"
     ]
    },
    {
     "name": "stdout",
     "output_type": "stream",
     "text": [
      "Solving environment: ...working... done\n",
      "\n",
      "# All requested packages already installed.\n",
      "\n",
      "Requirement already satisfied: dfogn in /Users/arnavsood/.julia/conda/3/lib/python3.7/site-packages (1.0)\n",
      "Requirement already satisfied: scipy>=0.18 in /Users/arnavsood/.julia/conda/3/lib/python3.7/site-packages (from dfogn) (1.2.0rc1)\n",
      "Requirement already satisfied: numpy>=1.11 in /Users/arnavsood/.julia/conda/3/lib/python3.7/site-packages (from dfogn) (1.15.4)\n"
     ]
    },
    {
     "data": {
      "text/plain": [
       "Process(`\u001b[4m/Users/arnavsood/.julia/conda/3/bin/python\u001b[24m \u001b[4m-m\u001b[24m \u001b[4mpip\u001b[24m \u001b[4minstall\u001b[24m \u001b[4m--pre\u001b[24m \u001b[4mdfogn\u001b[24m`, ProcessExited(0))"
      ]
     },
     "execution_count": 4,
     "metadata": {},
     "output_type": "execute_result"
    }
   ],
   "source": [
    "Conda.add(\"pip\") # Adds the pip installer to Julia's Python\n",
    "run(`$(PyCall.pyprogramname) -m pip install --pre dfogn`) # add dfogn to ..."
   ]
  },
  {
   "cell_type": "markdown",
   "metadata": {},
   "source": [
    "We can see the package from Julia now"
   ]
  },
  {
   "cell_type": "code",
   "execution_count": 5,
   "metadata": {},
   "outputs": [],
   "source": [
    "@pyimport dfogn"
   ]
  },
  {
   "cell_type": "markdown",
   "metadata": {},
   "source": [
    "### Toy Example"
   ]
  },
  {
   "cell_type": "markdown",
   "metadata": {},
   "source": [
    "Here's a simple, vanilla example"
   ]
  },
  {
   "cell_type": "code",
   "execution_count": 6,
   "metadata": {},
   "outputs": [
    {
     "data": {
      "text/plain": [
       "PyObject <dfogn.dfogn.OptimResults object at 0x12a8301d0>"
      ]
     },
     "execution_count": 6,
     "metadata": {},
     "output_type": "execute_result"
    }
   ],
   "source": [
    "# Rosenbrock\n",
    "rosenbrock(x) = [10. *(x[2]-x[1])^2, 1. - x[1]]\n",
    "x0 = [-1.2, 1.]\n",
    "soln = dfogn.solve(rosenbrock, x0)"
   ]
  },
  {
   "cell_type": "code",
   "execution_count": 7,
   "metadata": {},
   "outputs": [
    {
     "name": "stdout",
     "output_type": "stream",
     "text": [
      "soln[:x] = [1.0, 1.0002]\n",
      "soln[:resid] = [3.98096e-7, 0.0]\n",
      "soln[:f] = 1.5848034648780586e-13\n",
      "soln[:msg] = \"Success: Objective is sufficiently small\"\n",
      "soln[:jacobian] = [-0.00836832 0.00836814; -1.0 -4.86754e-14]\n"
     ]
    },
    {
     "data": {
      "text/plain": [
       "2×2 Array{Float64,2}:\n",
       " -0.00836832   0.00836814 \n",
       " -1.0         -4.86754e-14"
      ]
     },
     "execution_count": 7,
     "metadata": {},
     "output_type": "execute_result"
    }
   ],
   "source": [
    "# Unpack the results\n",
    "@show soln[:x] # optimum\n",
    "@show soln[:resid] # residual at optimum\n",
    "@show soln[:f] # value of objective at optimum \n",
    "@show soln[:msg] # halting reason \n",
    "@show soln[:jacobian] # empirical jacobian \n",
    "\n",
    "# etc. \n",
    "\n",
    "# The key is to unpack with symbols soln[:fieldname] as opposed to soln.fieldname"
   ]
  },
  {
   "cell_type": "markdown",
   "metadata": {},
   "source": [
    "### PTW Dynamics"
   ]
  },
  {
   "cell_type": "markdown",
   "metadata": {},
   "source": [
    "First, define our helper functions, structs, etc. (eventually these will be upstreamed into QuantEcon/DFOGN.jl)"
   ]
  },
  {
   "cell_type": "code",
   "execution_count": 8,
   "metadata": {},
   "outputs": [
    {
     "data": {
      "text/plain": [
       "msg (generic function with 1 method)"
      ]
     },
     "execution_count": 8,
     "metadata": {},
     "output_type": "execute_result"
    }
   ],
   "source": [
    "# Key objects\n",
    "struct DFOGNResults{TI <: Integer, TF <: AbstractFloat}\n",
    "    x::Array{TF, 1}\n",
    "    resid::Array{TF, 1}\n",
    "    f::TF\n",
    "    jacobian::Matrix{TF}\n",
    "    nf::TI\n",
    "    flag::TI\n",
    "    msg::String\n",
    "end\n",
    "\n",
    "function solve(objfun, x0;\n",
    "                lower = fill(-10e20, size(x0)), # vector of lower bounds (DFOGN defaults)\n",
    "                upper = fill(10e20, size(x0)), # vector of upper bounds\n",
    "                maxfun = 1000, # max # of function calls\n",
    "                rhoend = 1e-8) # minimum allowed ρ\n",
    "\n",
    "    soln = dfogn.solve(objfun, x0, lower = lower, upper = upper, maxfun = maxfun, rhoend = rhoend)\n",
    "    soln[:flag] == 0 || error(soln[:msg])\n",
    "    return DFOGNResults(soln[:x], soln[:resid], soln[:f], soln[:jacobian], soln[:nf], soln[:flag], soln[:msg])\n",
    "end\n",
    "\n",
    "# Helper functions\n",
    "converged(d::DFOGNResults) = (d.flag == 0)\n",
    "optimizer(d::DFOGNResults) = d.x\n",
    "optimum(d::DFOGNResults) = d.f\n",
    "residuals(d::DFOGNResults) = d.resid\n",
    "jacobian(d::DFOGNResults) = d.jacobian\n",
    "numcalls(d::DFOGNResults) = d.nf\n",
    "flag(d::DFOGNResults) = d.flag\n",
    "msg(d::DFOGNResults) = d.msg"
   ]
  },
  {
   "cell_type": "markdown",
   "metadata": {},
   "source": [
    "Load PTW and other Julia dependencies"
   ]
  },
  {
   "cell_type": "code",
   "execution_count": 9,
   "metadata": {},
   "outputs": [],
   "source": [
    "using PerlaTonettiWaugh\n",
    "using LinearAlgebra, Parameters, Interpolations, Statistics, Compat"
   ]
  },
  {
   "cell_type": "markdown",
   "metadata": {},
   "source": [
    "Write a modified simple dynamics problem to give to the solver"
   ]
  },
  {
   "cell_type": "code",
   "execution_count": 56,
   "metadata": {},
   "outputs": [
    {
     "data": {
      "text/plain": [
       "1.0"
      ]
     },
     "execution_count": 56,
     "metadata": {},
     "output_type": "execute_result"
    }
   ],
   "source": [
    "x = t -> 14.5\n",
    "θ = 0.1\n",
    "ξ = 1.0"
   ]
  },
  {
   "cell_type": "code",
   "execution_count": 57,
   "metadata": {},
   "outputs": [
    {
     "data": {
      "text/plain": [
       "0.0:0.050505050505050504:5.0"
      ]
     },
     "execution_count": 57,
     "metadata": {},
     "output_type": "execute_result"
    }
   ],
   "source": [
    "z_min = 0.0\n",
    "z_max = 5.0\n",
    "M = 100\n",
    "z_grid = range(z_min, z_max, length = M) "
   ]
  },
  {
   "cell_type": "code",
   "execution_count": 58,
   "metadata": {},
   "outputs": [
    {
     "data": {
      "text/plain": [
       "100-element Array{Float64,1}:\n",
       " 0.006417914349840399\n",
       " 0.013432738827788861\n",
       " 0.014057407327356565\n",
       " 0.014711125058012186\n",
       " 0.01539524290879109 \n",
       " 0.016111174589709343\n",
       " 0.01686039955315513 \n",
       " 0.017644466051134903\n",
       " 0.018464994334691943\n",
       " 0.01932368000210895 \n",
       " 0.020222297502813437\n",
       " 0.0211627038042269  \n",
       " 0.022146842229135   \n",
       " ⋮                   \n",
       " 0.7008125011449126  \n",
       " 0.7334026898756603  \n",
       " 0.7675084343360362  \n",
       " 0.8032002130736917  \n",
       " 0.8405517821308772  \n",
       " 0.8796403274591338  \n",
       " 0.9205466244219158  \n",
       " 0.9633552047145856  \n",
       " 1.008154531046671   \n",
       " 1.0550371799476153  \n",
       " 1.1041000330734885  \n",
       " 0.5777222387050824  "
      ]
     },
     "execution_count": 58,
     "metadata": {},
     "output_type": "execute_result"
    }
   ],
   "source": [
    "ω = ω_weights(z_grid, θ, ξ)"
   ]
  },
  {
   "cell_type": "code",
   "execution_count": 59,
   "metadata": {},
   "outputs": [
    {
     "data": {
      "text/plain": [
       "#32 (generic function with 1 method)"
      ]
     },
     "execution_count": 59,
     "metadata": {},
     "output_type": "execute_result"
    }
   ],
   "source": [
    "# takes a value function guess at a time point t \n",
    "f = v -> [v[1] + x(v[end]) - dot(ω, v[1:end-1])]"
   ]
  },
  {
   "cell_type": "code",
   "execution_count": 60,
   "metadata": {},
   "outputs": [],
   "source": [
    "# solve with NLLS\n",
    "T = 10. \n",
    "valuefunctions = []\n",
    "x0 = fill(1., size(z_grid));"
   ]
  },
  {
   "cell_type": "code",
   "execution_count": 61,
   "metadata": {},
   "outputs": [],
   "source": [
    "for t in 0:0.1:T\n",
    "    sol = solve(f, [x0; t])\n",
    "    converged(sol) || throw(msg(sol))\n",
    "    push!(valuefunctions, optimizer(sol)[1:end-1])\n",
    "end"
   ]
  },
  {
   "cell_type": "code",
   "execution_count": 63,
   "metadata": {},
   "outputs": [
    {
     "data": {
      "text/plain": [
       "DFOGNResults{Int64,Float64}([2.55988, 0.992431, 0.992079, 0.99171, 0.991325, 0.990921, 0.990499, 0.990057, 0.989595, 0.989111  …  0.547398, 0.526351, 0.504324, 0.481274, 0.457151, 0.431907, 0.405488, 0.377842, 0.674455, 10.0], [1.42109e-14], 2.0194839173657902e-28, [0.993582 -0.0134327 … -0.577722 2.00755e-15], 104, 0, \"Success: Objective is sufficiently small\")"
      ]
     },
     "execution_count": 63,
     "metadata": {},
     "output_type": "execute_result"
    }
   ],
   "source": [
    "sol = solve(f, [x0; 10.])"
   ]
  },
  {
   "cell_type": "code",
   "execution_count": 64,
   "metadata": {},
   "outputs": [
    {
     "data": {
      "text/plain": [
       "2.0194839173657902e-28"
      ]
     },
     "execution_count": 64,
     "metadata": {},
     "output_type": "execute_result"
    }
   ],
   "source": [
    "optimum(sol)"
   ]
  },
  {
   "cell_type": "code",
   "execution_count": 69,
   "metadata": {},
   "outputs": [
    {
     "data": {
      "image/svg+xml": [
       "<?xml version=\"1.0\" encoding=\"utf-8\"?>\n",
       "<svg xmlns=\"http://www.w3.org/2000/svg\" xmlns:xlink=\"http://www.w3.org/1999/xlink\" width=\"600\" height=\"400\" viewBox=\"0 0 2400 1600\">\n",
       "<defs>\n",
       "  <clipPath id=\"clip5900\">\n",
       "    <rect x=\"0\" y=\"0\" width=\"2000\" height=\"2000\"/>\n",
       "  </clipPath>\n",
       "</defs>\n",
       "<defs>\n",
       "  <clipPath id=\"clip5901\">\n",
       "    <rect x=\"0\" y=\"0\" width=\"2400\" height=\"1600\"/>\n",
       "  </clipPath>\n",
       "</defs>\n",
       "<polygon clip-path=\"url(#clip5901)\" points=\"\n",
       "0,1600 2400,1600 2400,0 0,0 \n",
       "  \" fill=\"#ffffff\" fill-rule=\"evenodd\" fill-opacity=\"1\"/>\n",
       "<defs>\n",
       "  <clipPath id=\"clip5902\">\n",
       "    <rect x=\"480\" y=\"0\" width=\"1681\" height=\"1600\"/>\n",
       "  </clipPath>\n",
       "</defs>\n",
       "<polygon clip-path=\"url(#clip5901)\" points=\"\n",
       "161.394,1503.47 2321.26,1503.47 2321.26,47.2441 161.394,47.2441 \n",
       "  \" fill=\"#ffffff\" fill-rule=\"evenodd\" fill-opacity=\"1\"/>\n",
       "<defs>\n",
       "  <clipPath id=\"clip5903\">\n",
       "    <rect x=\"161\" y=\"47\" width=\"2161\" height=\"1457\"/>\n",
       "  </clipPath>\n",
       "</defs>\n",
       "<polyline clip-path=\"url(#clip5903)\" style=\"stroke:#000000; stroke-width:2; stroke-opacity:0.1; fill:none\" points=\"\n",
       "  201.94,1503.47 201.94,47.2441 \n",
       "  \"/>\n",
       "<polyline clip-path=\"url(#clip5903)\" style=\"stroke:#000000; stroke-width:2; stroke-opacity:0.1; fill:none\" points=\"\n",
       "  716.488,1503.47 716.488,47.2441 \n",
       "  \"/>\n",
       "<polyline clip-path=\"url(#clip5903)\" style=\"stroke:#000000; stroke-width:2; stroke-opacity:0.1; fill:none\" points=\"\n",
       "  1231.04,1503.47 1231.04,47.2441 \n",
       "  \"/>\n",
       "<polyline clip-path=\"url(#clip5903)\" style=\"stroke:#000000; stroke-width:2; stroke-opacity:0.1; fill:none\" points=\"\n",
       "  1745.58,1503.47 1745.58,47.2441 \n",
       "  \"/>\n",
       "<polyline clip-path=\"url(#clip5903)\" style=\"stroke:#000000; stroke-width:2; stroke-opacity:0.1; fill:none\" points=\"\n",
       "  2260.13,1503.47 2260.13,47.2441 \n",
       "  \"/>\n",
       "<polyline clip-path=\"url(#clip5903)\" style=\"stroke:#000000; stroke-width:2; stroke-opacity:0.1; fill:none\" points=\"\n",
       "  161.394,1385.35 2321.26,1385.35 \n",
       "  \"/>\n",
       "<polyline clip-path=\"url(#clip5903)\" style=\"stroke:#000000; stroke-width:2; stroke-opacity:0.1; fill:none\" points=\"\n",
       "  161.394,1070.55 2321.26,1070.55 \n",
       "  \"/>\n",
       "<polyline clip-path=\"url(#clip5903)\" style=\"stroke:#000000; stroke-width:2; stroke-opacity:0.1; fill:none\" points=\"\n",
       "  161.394,755.755 2321.26,755.755 \n",
       "  \"/>\n",
       "<polyline clip-path=\"url(#clip5903)\" style=\"stroke:#000000; stroke-width:2; stroke-opacity:0.1; fill:none\" points=\"\n",
       "  161.394,440.957 2321.26,440.957 \n",
       "  \"/>\n",
       "<polyline clip-path=\"url(#clip5903)\" style=\"stroke:#000000; stroke-width:2; stroke-opacity:0.1; fill:none\" points=\"\n",
       "  161.394,126.159 2321.26,126.159 \n",
       "  \"/>\n",
       "<polyline clip-path=\"url(#clip5901)\" style=\"stroke:#000000; stroke-width:4; stroke-opacity:1; fill:none\" points=\"\n",
       "  161.394,1503.47 2321.26,1503.47 \n",
       "  \"/>\n",
       "<polyline clip-path=\"url(#clip5901)\" style=\"stroke:#000000; stroke-width:4; stroke-opacity:1; fill:none\" points=\"\n",
       "  161.394,1503.47 161.394,47.2441 \n",
       "  \"/>\n",
       "<polyline clip-path=\"url(#clip5901)\" style=\"stroke:#000000; stroke-width:4; stroke-opacity:1; fill:none\" points=\"\n",
       "  201.94,1503.47 201.94,1481.63 \n",
       "  \"/>\n",
       "<polyline clip-path=\"url(#clip5901)\" style=\"stroke:#000000; stroke-width:4; stroke-opacity:1; fill:none\" points=\"\n",
       "  716.488,1503.47 716.488,1481.63 \n",
       "  \"/>\n",
       "<polyline clip-path=\"url(#clip5901)\" style=\"stroke:#000000; stroke-width:4; stroke-opacity:1; fill:none\" points=\"\n",
       "  1231.04,1503.47 1231.04,1481.63 \n",
       "  \"/>\n",
       "<polyline clip-path=\"url(#clip5901)\" style=\"stroke:#000000; stroke-width:4; stroke-opacity:1; fill:none\" points=\"\n",
       "  1745.58,1503.47 1745.58,1481.63 \n",
       "  \"/>\n",
       "<polyline clip-path=\"url(#clip5901)\" style=\"stroke:#000000; stroke-width:4; stroke-opacity:1; fill:none\" points=\"\n",
       "  2260.13,1503.47 2260.13,1481.63 \n",
       "  \"/>\n",
       "<polyline clip-path=\"url(#clip5901)\" style=\"stroke:#000000; stroke-width:4; stroke-opacity:1; fill:none\" points=\"\n",
       "  161.394,1385.35 193.792,1385.35 \n",
       "  \"/>\n",
       "<polyline clip-path=\"url(#clip5901)\" style=\"stroke:#000000; stroke-width:4; stroke-opacity:1; fill:none\" points=\"\n",
       "  161.394,1070.55 193.792,1070.55 \n",
       "  \"/>\n",
       "<polyline clip-path=\"url(#clip5901)\" style=\"stroke:#000000; stroke-width:4; stroke-opacity:1; fill:none\" points=\"\n",
       "  161.394,755.755 193.792,755.755 \n",
       "  \"/>\n",
       "<polyline clip-path=\"url(#clip5901)\" style=\"stroke:#000000; stroke-width:4; stroke-opacity:1; fill:none\" points=\"\n",
       "  161.394,440.957 193.792,440.957 \n",
       "  \"/>\n",
       "<polyline clip-path=\"url(#clip5901)\" style=\"stroke:#000000; stroke-width:4; stroke-opacity:1; fill:none\" points=\"\n",
       "  161.394,126.159 193.792,126.159 \n",
       "  \"/>\n",
       "<g clip-path=\"url(#clip5901)\">\n",
       "<text style=\"fill:#000000; fill-opacity:1; font-family:Arial,Helvetica Neue,Helvetica,sans-serif; font-size:48px; text-anchor:middle;\" transform=\"rotate(0, 201.94, 1557.47)\" x=\"201.94\" y=\"1557.47\">0</text>\n",
       "</g>\n",
       "<g clip-path=\"url(#clip5901)\">\n",
       "<text style=\"fill:#000000; fill-opacity:1; font-family:Arial,Helvetica Neue,Helvetica,sans-serif; font-size:48px; text-anchor:middle;\" transform=\"rotate(0, 716.488, 1557.47)\" x=\"716.488\" y=\"1557.47\">25</text>\n",
       "</g>\n",
       "<g clip-path=\"url(#clip5901)\">\n",
       "<text style=\"fill:#000000; fill-opacity:1; font-family:Arial,Helvetica Neue,Helvetica,sans-serif; font-size:48px; text-anchor:middle;\" transform=\"rotate(0, 1231.04, 1557.47)\" x=\"1231.04\" y=\"1557.47\">50</text>\n",
       "</g>\n",
       "<g clip-path=\"url(#clip5901)\">\n",
       "<text style=\"fill:#000000; fill-opacity:1; font-family:Arial,Helvetica Neue,Helvetica,sans-serif; font-size:48px; text-anchor:middle;\" transform=\"rotate(0, 1745.58, 1557.47)\" x=\"1745.58\" y=\"1557.47\">75</text>\n",
       "</g>\n",
       "<g clip-path=\"url(#clip5901)\">\n",
       "<text style=\"fill:#000000; fill-opacity:1; font-family:Arial,Helvetica Neue,Helvetica,sans-serif; font-size:48px; text-anchor:middle;\" transform=\"rotate(0, 2260.13, 1557.47)\" x=\"2260.13\" y=\"1557.47\">100</text>\n",
       "</g>\n",
       "<g clip-path=\"url(#clip5901)\">\n",
       "<text style=\"fill:#000000; fill-opacity:1; font-family:Arial,Helvetica Neue,Helvetica,sans-serif; font-size:48px; text-anchor:end;\" transform=\"rotate(0, 137.394, 1402.85)\" x=\"137.394\" y=\"1402.85\">0.5</text>\n",
       "</g>\n",
       "<g clip-path=\"url(#clip5901)\">\n",
       "<text style=\"fill:#000000; fill-opacity:1; font-family:Arial,Helvetica Neue,Helvetica,sans-serif; font-size:48px; text-anchor:end;\" transform=\"rotate(0, 137.394, 1088.05)\" x=\"137.394\" y=\"1088.05\">1.0</text>\n",
       "</g>\n",
       "<g clip-path=\"url(#clip5901)\">\n",
       "<text style=\"fill:#000000; fill-opacity:1; font-family:Arial,Helvetica Neue,Helvetica,sans-serif; font-size:48px; text-anchor:end;\" transform=\"rotate(0, 137.394, 773.255)\" x=\"137.394\" y=\"773.255\">1.5</text>\n",
       "</g>\n",
       "<g clip-path=\"url(#clip5901)\">\n",
       "<text style=\"fill:#000000; fill-opacity:1; font-family:Arial,Helvetica Neue,Helvetica,sans-serif; font-size:48px; text-anchor:end;\" transform=\"rotate(0, 137.394, 458.457)\" x=\"137.394\" y=\"458.457\">2.0</text>\n",
       "</g>\n",
       "<g clip-path=\"url(#clip5901)\">\n",
       "<text style=\"fill:#000000; fill-opacity:1; font-family:Arial,Helvetica Neue,Helvetica,sans-serif; font-size:48px; text-anchor:end;\" transform=\"rotate(0, 137.394, 143.659)\" x=\"137.394\" y=\"143.659\">2.5</text>\n",
       "</g>\n",
       "<polyline clip-path=\"url(#clip5903)\" style=\"stroke:#009af9; stroke-width:4; stroke-opacity:1; fill:none\" points=\"\n",
       "  222.522,88.4582 243.104,1075.32 263.686,1075.54 284.268,1075.77 304.85,1076.01 325.432,1076.27 346.014,1076.53 366.596,1076.81 387.178,1077.1 407.76,1077.41 \n",
       "  428.341,1077.73 448.923,1078.06 469.505,1078.41 490.087,1078.78 510.669,1079.16 531.251,1079.56 551.833,1079.98 572.415,1080.41 592.997,1080.87 613.579,1081.35 \n",
       "  634.161,1081.86 654.742,1082.38 675.324,1082.93 695.906,1083.51 716.488,1084.11 737.07,1084.74 757.652,1085.4 778.234,1086.09 798.816,1086.81 819.398,1087.57 \n",
       "  839.98,1088.36 860.562,1089.19 881.143,1090.05 901.725,1090.96 922.307,1091.91 942.889,1092.9 963.471,1093.94 984.053,1095.03 1004.63,1096.17 1025.22,1097.36 \n",
       "  1045.8,1098.61 1066.38,1099.91 1086.96,1101.28 1107.54,1102.71 1128.13,1104.2 1148.71,1105.77 1169.29,1107.4 1189.87,1109.12 1210.45,1110.91 1231.04,1112.79 \n",
       "  1251.62,1114.75 1272.2,1116.81 1292.78,1118.96 1313.36,1121.21 1333.95,1123.56 1354.53,1126.03 1375.11,1128.61 1395.69,1131.31 1416.27,1134.13 1436.86,1137.09 \n",
       "  1457.44,1140.19 1478.02,1143.42 1498.6,1146.81 1519.18,1150.36 1539.76,1154.07 1560.35,1157.95 1580.93,1162.02 1601.51,1166.27 1622.09,1170.72 1642.67,1175.38 \n",
       "  1663.26,1180.26 1683.84,1185.36 1704.42,1190.7 1725,1196.28 1745.58,1202.13 1766.17,1208.25 1786.75,1214.65 1807.33,1221.36 1827.91,1228.37 1848.49,1235.71 \n",
       "  1869.08,1243.39 1889.66,1251.42 1910.24,1259.84 1930.82,1268.64 1951.4,1277.85 1971.98,1287.49 1992.57,1297.58 2013.15,1308.14 2033.73,1319.18 2054.31,1330.75 \n",
       "  2074.89,1342.85 2095.48,1355.51 2116.06,1368.76 2136.64,1382.63 2157.22,1397.14 2177.8,1412.33 2198.39,1428.22 2218.97,1444.85 2239.55,1462.26 2260.13,1275.51 \n",
       "  \n",
       "  \"/>\n",
       "<polygon clip-path=\"url(#clip5901)\" points=\"\n",
       "1958.43,251.724 2249.26,251.724 2249.26,130.764 1958.43,130.764 \n",
       "  \" fill=\"#ffffff\" fill-rule=\"evenodd\" fill-opacity=\"1\"/>\n",
       "<polyline clip-path=\"url(#clip5901)\" style=\"stroke:#000000; stroke-width:4; stroke-opacity:1; fill:none\" points=\"\n",
       "  1958.43,251.724 2249.26,251.724 2249.26,130.764 1958.43,130.764 1958.43,251.724 \n",
       "  \"/>\n",
       "<polyline clip-path=\"url(#clip5901)\" style=\"stroke:#009af9; stroke-width:4; stroke-opacity:1; fill:none\" points=\"\n",
       "  1982.43,191.244 2126.43,191.244 \n",
       "  \"/>\n",
       "<g clip-path=\"url(#clip5901)\">\n",
       "<text style=\"fill:#000000; fill-opacity:1; font-family:Arial,Helvetica Neue,Helvetica,sans-serif; font-size:48px; text-anchor:start;\" transform=\"rotate(0, 2150.43, 208.744)\" x=\"2150.43\" y=\"208.744\">y1</text>\n",
       "</g>\n",
       "</svg>\n"
      ]
     },
     "execution_count": 69,
     "metadata": {},
     "output_type": "execute_result"
    }
   ],
   "source": [
    "plot(sol.x[1:end-1])"
   ]
  },
  {
   "cell_type": "code",
   "execution_count": null,
   "metadata": {},
   "outputs": [],
   "source": []
  }
 ],
 "metadata": {
  "kernelspec": {
   "display_name": "Julia 1.0.2",
   "language": "julia",
   "name": "julia-1.0"
  },
  "language_info": {
   "file_extension": ".jl",
   "mimetype": "application/julia",
   "name": "julia",
   "version": "1.0.2"
  }
 },
 "nbformat": 4,
 "nbformat_minor": 2
}
