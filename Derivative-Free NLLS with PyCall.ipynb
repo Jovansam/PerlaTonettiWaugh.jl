{
 "cells": [
  {
   "cell_type": "markdown",
   "metadata": {},
   "source": [
    "### Installation and Setup"
   ]
  },
  {
   "cell_type": "markdown",
   "metadata": {},
   "source": [
    "First, we need to intall the package"
   ]
  },
  {
   "cell_type": "code",
   "execution_count": 4,
   "metadata": {},
   "outputs": [
    {
     "name": "stdout",
     "output_type": "stream",
     "text": [
      "\u001b[32m\u001b[1m  Updating\u001b[22m\u001b[39m registry at `C:\\Users\\Arnav Sood\\.julia\\registries\\General`\n",
      "\u001b[32m\u001b[1m  Updating\u001b[22m\u001b[39m git-repo `https://github.com/JuliaRegistries/General.git`\n",
      "\u001b[?25l\u001b[2K\u001b[?25h\u001b[32m\u001b[1m Resolving\u001b[22m\u001b[39m package versions...\n",
      "\u001b[32m\u001b[1m  Updating\u001b[22m\u001b[39m `C:\\Users\\Arnav Sood\\.julia\\environments\\v1.0\\Project.toml`\n",
      "\u001b[90m [no changes]\u001b[39m\n",
      "\u001b[32m\u001b[1m  Updating\u001b[22m\u001b[39m `C:\\Users\\Arnav Sood\\.julia\\environments\\v1.0\\Manifest.toml`\n",
      "\u001b[90m [no changes]\u001b[39m\n"
     ]
    }
   ],
   "source": [
    "] add PyCall"
   ]
  },
  {
   "cell_type": "code",
   "execution_count": 5,
   "metadata": {},
   "outputs": [
    {
     "name": "stdout",
     "output_type": "stream",
     "text": [
      "\u001b[32m\u001b[1m Resolving\u001b[22m\u001b[39m package versions...\n",
      "\u001b[32m\u001b[1m  Updating\u001b[22m\u001b[39m `C:\\Users\\Arnav Sood\\.julia\\environments\\v1.0\\Project.toml`\n",
      "\u001b[90m [no changes]\u001b[39m\n",
      "\u001b[32m\u001b[1m  Updating\u001b[22m\u001b[39m `C:\\Users\\Arnav Sood\\.julia\\environments\\v1.0\\Manifest.toml`\n",
      "\u001b[90m [no changes]\u001b[39m\n"
     ]
    }
   ],
   "source": [
    "] add Conda"
   ]
  },
  {
   "cell_type": "markdown",
   "metadata": {},
   "source": [
    "This installs a Conda installation in the user depot, which we can see as follows"
   ]
  },
  {
   "cell_type": "code",
   "execution_count": 6,
   "metadata": {},
   "outputs": [
    {
     "data": {
      "text/plain": [
       "\"C:\\\\Users\\\\Arnav Sood\\\\.julia\\\\conda\\\\3\""
      ]
     },
     "execution_count": 6,
     "metadata": {},
     "output_type": "execute_result"
    }
   ],
   "source": [
    "using PyCall, Conda \n",
    "Conda.ROOTENV \n",
    "Conda.PYTHONDIR "
   ]
  },
  {
   "cell_type": "markdown",
   "metadata": {},
   "source": [
    "Next, we need to install the actual solver package"
   ]
  },
  {
   "cell_type": "code",
   "execution_count": 7,
   "metadata": {},
   "outputs": [
    {
     "name": "stderr",
     "output_type": "stream",
     "text": [
      "┌ Info: Running `conda install -y pip` in root environment\n",
      "└ @ Conda C:\\Users\\Arnav Sood\\.julia\\packages\\Conda\\uQitS\\src\\Conda.jl:112\n"
     ]
    },
    {
     "name": "stdout",
     "output_type": "stream",
     "text": [
      "Solving environment: ...working... done\n",
      "\n",
      "# All requested packages already installed.\n",
      "\n"
     ]
    }
   ],
   "source": [
    "Conda.add(\"pip\") # Adds the pip installer"
   ]
  },
  {
   "cell_type": "markdown",
   "metadata": {},
   "source": [
    "For now, we need to use the actual Python executable in the path above to install the solver."
   ]
  },
  {
   "cell_type": "code",
   "execution_count": null,
   "metadata": {},
   "outputs": [],
   "source": [
    "from pip._internal import main \n",
    "main(['install', '--pre', 'dfogn'])"
   ]
  },
  {
   "cell_type": "markdown",
   "metadata": {},
   "source": [
    "We can see the package from Julia now"
   ]
  },
  {
   "cell_type": "code",
   "execution_count": 8,
   "metadata": {},
   "outputs": [],
   "source": [
    "@pyimport dfogn"
   ]
  },
  {
   "cell_type": "markdown",
   "metadata": {},
   "source": [
    "### Usage"
   ]
  },
  {
   "cell_type": "markdown",
   "metadata": {},
   "source": [
    "Here's a simple, vanilla example"
   ]
  },
  {
   "cell_type": "code",
   "execution_count": 9,
   "metadata": {},
   "outputs": [
    {
     "data": {
      "text/plain": [
       "PyObject <dfogn.dfogn.OptimResults object at 0x00000000011CB588>"
      ]
     },
     "execution_count": 9,
     "metadata": {},
     "output_type": "execute_result"
    }
   ],
   "source": [
    "# Rosenbrock\n",
    "rosenbrock(x) = [10. *(x[2]-x[1])^2, 1. - x[1]]\n",
    "x0 = [-1.2, 1.]\n",
    "soln = dfogn.solve(rosenbrock, x0)"
   ]
  },
  {
   "cell_type": "code",
   "execution_count": 11,
   "metadata": {},
   "outputs": [
    {
     "name": "stdout",
     "output_type": "stream",
     "text": [
      "soln[:x] = [1.0, 1.0002]\n",
      "soln[:resid] = [3.98096e-7, 0.0]\n",
      "soln[:f] = 1.5848034648780586e-13\n",
      "soln[:msg] = \"Success: Objective is sufficiently small\"\n",
      "soln[:jacobian] = [-0.00836832 0.00836814; -1.0 -4.86754e-14]\n"
     ]
    },
    {
     "data": {
      "text/plain": [
       "2×2 Array{Float64,2}:\n",
       " -0.00836832   0.00836814 \n",
       " -1.0         -4.86754e-14"
      ]
     },
     "execution_count": 11,
     "metadata": {},
     "output_type": "execute_result"
    }
   ],
   "source": [
    "# Unpack the results\n",
    "@show soln[:x] # optimum\n",
    "@show soln[:resid] # residual at optimum\n",
    "@show soln[:f] # value of objective at optimum \n",
    "@show soln[:msg] # halting reason \n",
    "@show soln[:jacobian] # empirical jacobian \n",
    "\n",
    "# etc. \n",
    "\n",
    "# The key is to unpack with symbols soln[:fieldname] as opposed to soln.fieldname"
   ]
  },
  {
   "cell_type": "markdown",
   "metadata": {},
   "source": [
    "Now, let's try this with a more relevant example."
   ]
  },
  {
   "cell_type": "code",
   "execution_count": 12,
   "metadata": {},
   "outputs": [
    {
     "name": "stdout",
     "output_type": "stream",
     "text": [
      "vals = Any[[-1.2, 1.0], [-1.08, 1.0], [-1.2, 1.12], [-0.997443, 0.912912], [-0.682055, 0.551069], [1.0, 1.14167], [1.07289, 0.934084], [1.0, 1.21455], [1.0, 1.08533], [1.0, 1.06105], [1.0, 0.966903], [1.0, 0.86672], [0.999508, 0.972883], [0.997946, 0.978676], [1.0, 0.983149], [1.0, 0.988834], [1.0, 1.01358], [1.00243, 0.988343], [0.999779, 0.991642], [1.0, 0.994337], [1.0, 1.00122], [1.00223, 1.00164], [0.999757, 1.00251], [1.0, 1.00089], [1.0, 1.00069], [1.0, 1.00039], [1.0, 0.999434], [0.99988, 1.00039], [1.0, 1.00051], [1.0, 1.00033], [1.0, 1.0002]]\n"
     ]
    },
    {
     "data": {
      "text/plain": [
       "31-element Array{Any,1}:\n",
       " [-1.2, 1.0]          \n",
       " [-1.08, 1.0]         \n",
       " [-1.2, 1.12]         \n",
       " [-0.997443, 0.912912]\n",
       " [-0.682055, 0.551069]\n",
       " [1.0, 1.14167]       \n",
       " [1.07289, 0.934084]  \n",
       " [1.0, 1.21455]       \n",
       " [1.0, 1.08533]       \n",
       " [1.0, 1.06105]       \n",
       " [1.0, 0.966903]      \n",
       " [1.0, 0.86672]       \n",
       " [0.999508, 0.972883] \n",
       " ⋮                    \n",
       " [1.0, 0.994337]      \n",
       " [1.0, 1.00122]       \n",
       " [1.00223, 1.00164]   \n",
       " [0.999757, 1.00251]  \n",
       " [1.0, 1.00089]       \n",
       " [1.0, 1.00069]       \n",
       " [1.0, 1.00039]       \n",
       " [1.0, 0.999434]      \n",
       " [0.99988, 1.00039]   \n",
       " [1.0, 1.00051]       \n",
       " [1.0, 1.00033]       \n",
       " [1.0, 1.0002]        "
      ]
     },
     "execution_count": 12,
     "metadata": {},
     "output_type": "execute_result"
    }
   ],
   "source": [
    "# Setup and solve the version with callbacks to Julia objects.\n",
    "vals = []\n",
    "function callbackprob(x)\n",
    "    push!(vals, x) # analogous to pushing to a dataframe, etc.\n",
    "    return [10. *(x[2]-x[1])^2, 1. - x[1]]\n",
    "end\n",
    "dfogn.solve(callbackprob, x0)\n",
    "\n",
    "# Show callbacks.\n",
    "@show vals"
   ]
  },
  {
   "cell_type": "markdown",
   "metadata": {},
   "source": [
    "There is also functionality in DFOGN to impose bounds"
   ]
  }
 ],
 "metadata": {
  "kernelspec": {
   "display_name": "Julia 1.0.2",
   "language": "julia",
   "name": "julia-1.0"
  },
  "language_info": {
   "file_extension": ".jl",
   "mimetype": "application/julia",
   "name": "julia",
   "version": "1.0.2"
  }
 },
 "nbformat": 4,
 "nbformat_minor": 2
}
