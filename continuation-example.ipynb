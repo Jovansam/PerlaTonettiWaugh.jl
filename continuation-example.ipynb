{
 "cells": [
  {
   "cell_type": "code",
   "execution_count": 1,
   "metadata": {},
   "outputs": [
    {
     "name": "stdout",
     "output_type": "stream",
     "text": [
      "\u001b[32m\u001b[1m  Updating\u001b[22m\u001b[39m registry at `~/.julia/registries/General`\n",
      "\u001b[32m\u001b[1m  Updating\u001b[22m\u001b[39m git-repo `https://github.com/JuliaRegistries/General.git`\n",
      "\u001b[2K\u001b[?25h\u001b[32m\u001b[1mPrecompiling\u001b[22m\u001b[39m project...\n"
     ]
    }
   ],
   "source": [
    "using Pkg\n",
    "pkg\"activate .\"\n",
    "pkg\"instantiate\"\n",
    "pkg\"precompile\""
   ]
  },
  {
   "cell_type": "code",
   "execution_count": 2,
   "metadata": {},
   "outputs": [
    {
     "name": "stdout",
     "output_type": "stream",
     "text": [
      "\u001b[36m\u001b[1mProject \u001b[22m\u001b[39mPerlaTonettiWaugh v0.1.0\n",
      "\u001b[32m\u001b[1m    Status\u001b[22m\u001b[39m `~/Desktop/PerlaTonettiWaugh.jl/Project.toml`\n",
      " \u001b[90m [6e4b80f9]\u001b[39m\u001b[37m BenchmarkTools v0.4.1\u001b[39m\n",
      " \u001b[90m [a134a8b2]\u001b[39m\u001b[37m BlackBoxOptim v0.4.0\u001b[39m\n",
      " \u001b[90m [34da2185]\u001b[39m\u001b[37m Compat v1.4.0\u001b[39m\n",
      " \u001b[90m [d38edb08]\u001b[39m\u001b[37m DFOLS v0.1.0 [`~/.julia/dev/DFOLS`]\u001b[39m\n",
      " \u001b[90m [a93c6f00]\u001b[39m\u001b[37m DataFrames v0.15.1\u001b[39m\n",
      " \u001b[90m [1313f7d8]\u001b[39m\u001b[37m DataFramesMeta v0.4.0\u001b[39m\n",
      " \u001b[90m [459566f4]\u001b[39m\u001b[37m DiffEqCallbacks v2.4.0\u001b[39m\n",
      " \u001b[90m [0c46a032]\u001b[39m\u001b[37m DifferentialEquations v5.3.1\u001b[39m\n",
      " \u001b[90m [f6369f11]\u001b[39m\u001b[37m ForwardDiff v0.10.1\u001b[39m\n",
      " \u001b[90m [a98d9a8b]\u001b[39m\u001b[37m Interpolations v0.11.0\u001b[39m\n",
      " \u001b[90m [0fc2ff8b]\u001b[39m\u001b[37m LeastSquaresOptim v0.7.1\u001b[39m\n",
      " \u001b[90m [d41bc354]\u001b[39m\u001b[37m NLSolversBase v7.1.1\u001b[39m\n",
      " \u001b[90m [76087f3c]\u001b[39m\u001b[37m NLopt v0.5.1\u001b[39m\n",
      " \u001b[90m [d96e819e]\u001b[39m\u001b[37m Parameters v0.10.2\u001b[39m\n",
      " \u001b[90m [91a5bcdd]\u001b[39m\u001b[37m Plots v0.22.0\u001b[39m\n",
      " \u001b[90m [438e738f]\u001b[39m\u001b[37m PyCall v1.18.5\u001b[39m\n",
      " \u001b[90m [1fd47b50]\u001b[39m\u001b[37m QuadGK v2.0.2\u001b[39m\n",
      " \u001b[90m [c3572dad]\u001b[39m\u001b[37m Sundials v2.6.0\u001b[39m\n",
      " \u001b[90m [37e2e46d]\u001b[39m\u001b[37m LinearAlgebra \u001b[39m\n",
      " \u001b[90m [10745b16]\u001b[39m\u001b[37m Statistics \u001b[39m\n"
     ]
    }
   ],
   "source": [
    "] st"
   ]
  },
  {
   "cell_type": "code",
   "execution_count": 3,
   "metadata": {},
   "outputs": [],
   "source": [
    "using PerlaTonettiWaugh"
   ]
  },
  {
   "cell_type": "markdown",
   "metadata": {},
   "source": [
    "#### Vanilla (Old) Experiment "
   ]
  },
  {
   "cell_type": "code",
   "execution_count": 4,
   "metadata": {},
   "outputs": [],
   "source": [
    "# Define common objects. \n",
    "parameters = parameter_defaults()\n",
    "\n",
    "settings = settings_defaults()\n",
    "settings = merge(settings, (transition_penalty_coefficient = 1.0, ))\n",
    "z_grid = settings.z\n",
    "M = length(z_grid)\n",
    "\n",
    "d_T = parameters.d_T\n",
    "d_0 = d_T + 0.005\n",
    "\n",
    "params_0 = merge(parameters, (d = d_0,)) # parameters to be used at t = 0\n",
    "params_T = merge(parameters, (d = d_T,)) # parameters to be used at t = T\n",
    "\n",
    "# initial value\n",
    "initial_x = [0.02; 2; .57] # Play with this if it is kicking back errors\n",
    "\n",
    "# solve for stationary solution at t = 0\n",
    "stationary_sol_0 = stationary_algebraic(params_0, initial_x) # solution at t = 0\n",
    "stationary_sol_T = stationary_algebraic(params_T, initial_x) # solution at t = T\n",
    "\n",
    "Ω_0 = stationary_sol_0.Ω;\n",
    "Ω_T = stationary_sol_T.Ω;"
   ]
  },
  {
   "cell_type": "code",
   "execution_count": 5,
   "metadata": {},
   "outputs": [],
   "source": [
    "settings = merge(settings, (params_T = params_T, stationary_sol_T = stationary_numerical(params_T, z_grid), Ω_0 = Ω_0, transition_iterations = 1000, T = 75.0));"
   ]
  },
  {
   "cell_type": "code",
   "execution_count": 6,
   "metadata": {},
   "outputs": [
    {
     "name": "stderr",
     "output_type": "stream",
     "text": [
      "┌ Warning: `binary_maxheap(xs::AbstractVector{T}) where T` is deprecated, use `BinaryMaxHeap(xs)` instead.\n",
      "│   caller = #FunctionCallingCallback#24(::Array{Float64,1}, ::Bool, ::Bool, ::Int64, ::Function, ::Function) at function_caller.jl:75\n",
      "└ @ DiffEqCallbacks /home/arnavsood/.julia/packages/DiffEqCallbacks/WQXZl/src/function_caller.jl:75\n",
      "┌ Warning: `binary_maxheap(xs::AbstractVector{T}) where T` is deprecated, use `BinaryMaxHeap(xs)` instead.\n",
      "│   caller = tstop_saveat_disc_handling at solve.jl:514 [inlined]\n",
      "└ @ Core /home/arnavsood/.julia/packages/Sundials/AL2Km/src/common_interface/solve.jl:514\n",
      "┌ Warning: `binary_maxheap(xs::AbstractVector{T}) where T` is deprecated, use `BinaryMaxHeap(xs)` instead.\n",
      "│   caller = #__init#58(::Bool, ::Nothing, ::Float64, ::Bool, ::Bool, ::DiffEqBase.DiscreteCallback{getfield(DiffEqCallbacks, Symbol(\"##25#26\")),DiffEqCallbacks.FunctionCallingAffect{getfield(PerlaTonettiWaugh, Symbol(\"#cb_aux#81\")){getfield(PerlaTonettiWaugh, Symbol(\"#Ω#125\")){Float64,OrdinaryDiffEq.ODECompositeSolution{Float64,1,Array{Float64,1},Nothing,Nothing,Array{Float64,1},Array{Array{Float64,1},1},DiffEqBase.ODEProblem{Float64,Tuple{Float64,Float64},false,Nothing,DiffEqBase.ODEFunction{false,getfield(PerlaTonettiWaugh, Symbol(\"#Ω_derivative#124\")){getfield(PerlaTonettiWaugh, Symbol(\"#E_hat#123\")){Interpolations.Extrapolation{Float64,1,Interpolations.ScaledInterpolation{Float64,1,Interpolations.BSplineInterpolation{Float64,1,Array{Float64,1},Interpolations.BSpline{Interpolations.Linear},Tuple{Base.OneTo{Int64}}},Interpolations.BSpline{Interpolations.Linear},Tuple{StepRangeLen{Float64,Base.TwicePrecision{Float64},Base.TwicePrecision{Float64}}}},Interpolations.BSpline{Interpolations.Linear},Interpolations.Throw{Nothing}}},Float64},LinearAlgebra.UniformScaling{Bool},Nothing,Nothing,Nothing,Nothing,Nothing,Nothing,Nothing,Nothing},Nothing,DiffEqBase.StandardODEProblem},OrdinaryDiffEq.CompositeAlgorithm{Tuple{OrdinaryDiffEq.Vern9,OrdinaryDiffEq.Rodas5{0,false,DiffEqBase.LinSolveFactorize{typeof(LinearAlgebra.lu!)},DataType}},OrdinaryDiffEq.AutoSwitch{OrdinaryDiffEq.Vern9,OrdinaryDiffEq.Rodas5{0,false,DiffEqBase.LinSolveFactorize{typeof(LinearAlgebra.lu!)},DataType},Rational{Int64},Float64}},OrdinaryDiffEq.CompositeInterpolationData{DiffEqBase.ODEFunction{false,getfield(PerlaTonettiWaugh, Symbol(\"#Ω_derivative#124\")){getfield(PerlaTonettiWaugh, Symbol(\"#E_hat#123\")){Interpolations.Extrapolation{Float64,1,Interpolations.ScaledInterpolation{Float64,1,Interpolations.BSplineInterpolation{Float64,1,Array{Float64,1},Interpolations.BSpline{Interpolations.Linear},Tuple{Base.OneTo{Int64}}},Interpolations.BSpline{Interpolations.Linear},Tuple{StepRangeLen{Float64,Base.TwicePrecision{Float64},Base.TwicePrecision{Float64}}}},Interpolations.BSpline{Interpolations.Linear},Interpolations.Throw{Nothing}}},Float64},LinearAlgebra.UniformScaling{Bool},Nothing,Nothing,Nothing,Nothing,Nothing,Nothing,Nothing,Nothing},Array{Float64,1},Array{Float64,1},Array{Array{Float64,1},1},OrdinaryDiffEq.CompositeCache{Tuple{OrdinaryDiffEq.Vern9ConstantCache{Float64,Float64},OrdinaryDiffEq.Rosenbrock5ConstantCache{DiffEqDiffTools.TimeDerivativeWrapper{DiffEqBase.ODEFunction{false,getfield(PerlaTonettiWaugh, Symbol(\"#Ω_derivative#124\")){getfield(PerlaTonettiWaugh, Symbol(\"#E_hat#123\")){Interpolations.Extrapolation{Float64,1,Interpolations.ScaledInterpolation{Float64,1,Interpolations.BSplineInterpolation{Float64,1,Array{Float64,1},Interpolations.BSpline{Interpolations.Linear},Tuple{Base.OneTo{Int64}}},Interpolations.BSpline{Interpolations.Linear},Tuple{StepRangeLen{Float64,Base.TwicePrecision{Float64},Base.TwicePrecision{Float64}}}},Interpolations.BSpline{Interpolations.Linear},Interpolations.Throw{Nothing}}},Float64},LinearAlgebra.UniformScaling{Bool},Nothing,Nothing,Nothing,Nothing,Nothing,Nothing,Nothing,Nothing},Float64,Nothing},DiffEqDiffTools.UDerivativeWrapper{DiffEqBase.ODEFunction{false,getfield(PerlaTonettiWaugh, Symbol(\"#Ω_derivative#124\")){getfield(PerlaTonettiWaugh, Symbol(\"#E_hat#123\")){Interpolations.Extrapolation{Float64,1,Interpolations.ScaledInterpolation{Float64,1,Interpolations.BSplineInterpolation{Float64,1,Array{Float64,1},Interpolations.BSpline{Interpolations.Linear},Tuple{Base.OneTo{Int64}}},Interpolations.BSpline{Interpolations.Linear},Tuple{StepRangeLen{Float64,Base.TwicePrecision{Float64},Base.TwicePrecision{Float64}}}},Interpolations.BSpline{Interpolations.Linear},Interpolations.Throw{Nothing}}},Float64},LinearAlgebra.UniformScaling{Bool},Nothing,Nothing,Nothing,Nothing,Nothing,Nothing,Nothing,Nothing},Float64,Nothing},OrdinaryDiffEq.Rodas5ConstantCache{Float64,Float64}}},OrdinaryDiffEq.AutoSwitch{OrdinaryDiffEq.Vern9,OrdinaryDiffEq.Rodas5{0,false,DiffEqBase.LinSolveFactorize{typeof(LinearAlgebra.lu!)},DataType},Rational{Int64},Float64}}}}},getfield(PerlaTonettiWaugh, Symbol(\"#E#126\")){Float64,getfield(PerlaTonettiWaugh, Symbol(\"#E_hat#123\")){Interpolations.Extrapolation{Float64,1,Interpolations.ScaledInterpolation{Float64,1,Interpolations.BSplineInterpolation{Float64,1,Array{Float64,1},Interpolations.BSpline{Interpolations.Linear},Tuple{Base.OneTo{Int64}}},Interpolations.BSpline{Interpolations.Linear},Tuple{StepRangeLen{Float64,Base.TwicePrecision{Float64},Base.TwicePrecision{Float64}}}},Interpolations.BSpline{Interpolations.Linear},Interpolations.Throw{Nothing}}},Float64},Int64},DataStructures.BinaryHeap{Float64,DataStructures.GreaterThan},Array{Float64,1}},typeof(DiffEqCallbacks.functioncalling_initialize)}, ::Float64, ::Float64, ::Array{Float64,1}, ::Array{Float64,1}, ::Int64, ::Bool, ::Bool, ::Bool, ::Bool, ::Nothing, ::Bool, ::Bool, ::Bool, ::Nothing, ::Base.Iterators.Pairs{Symbol,Bool,Tuple{Symbol},NamedTuple{(:default_set,),Tuple{Bool}}}, ::typeof(DiffEqBase.__init), ::DiffEqBase.DAEProblem{Array{Float64,1},Array{Float64,1},Tuple{Float64,Float64},true,NamedTuple{(:ζ, :Ω, :E, :static_equilibrium, :T, :results, :ρ, :δ, :σ, :μ, :υ, :L_1, :L_2, :ω, :κ, :d),Tuple{Float64,getfield(PerlaTonettiWaugh, Symbol(\"#Ω#125\")){Float64,OrdinaryDiffEq.ODECompositeSolution{Float64,1,Array{Float64,1},Nothing,Nothing,Array{Float64,1},Array{Array{Float64,1},1},DiffEqBase.ODEProblem{Float64,Tuple{Float64,Float64},false,Nothing,DiffEqBase.ODEFunction{false,getfield(PerlaTonettiWaugh, Symbol(\"#Ω_derivative#124\")){getfield(PerlaTonettiWaugh, Symbol(\"#E_hat#123\")){Interpolations.Extrapolation{Float64,1,Interpolations.ScaledInterpolation{Float64,1,Interpolations.BSplineInterpolation{Float64,1,Array{Float64,1},Interpolations.BSpline{Interpolations.Linear},Tuple{Base.OneTo{Int64}}},Interpolations.BSpline{Interpolations.Linear},Tuple{StepRangeLen{Float64,Base.TwicePrecision{Float64},Base.TwicePrecision{Float64}}}},Interpolations.BSpline{Interpolations.Linear},Interpolations.Throw{Nothing}}},Float64},LinearAlgebra.UniformScaling{Bool},Nothing,Nothing,Nothing,Nothing,Nothing,Nothing,Nothing,Nothing},Nothing,DiffEqBase.StandardODEProblem},OrdinaryDiffEq.CompositeAlgorithm{Tuple{OrdinaryDiffEq.Vern9,OrdinaryDiffEq.Rodas5{0,false,DiffEqBase.LinSolveFactorize{typeof(LinearAlgebra.lu!)},DataType}},OrdinaryDiffEq.AutoSwitch{OrdinaryDiffEq.Vern9,OrdinaryDiffEq.Rodas5{0,false,DiffEqBase.LinSolveFactorize{typeof(LinearAlgebra.lu!)},DataType},Rational{Int64},Float64}},OrdinaryDiffEq.CompositeInterpolationData{DiffEqBase.ODEFunction{false,getfield(PerlaTonettiWaugh, Symbol(\"#Ω_derivative#124\")){getfield(PerlaTonettiWaugh, Symbol(\"#E_hat#123\")){Interpolations.Extrapolation{Float64,1,Interpolations.ScaledInterpolation{Float64,1,Interpolations.BSplineInterpolation{Float64,1,Array{Float64,1},Interpolations.BSpline{Interpolations.Linear},Tuple{Base.OneTo{Int64}}},Interpolations.BSpline{Interpolations.Linear},Tuple{StepRangeLen{Float64,Base.TwicePrecision{Float64},Base.TwicePrecision{Float64}}}},Interpolations.BSpline{Interpolations.Linear},Interpolations.Throw{Nothing}}},Float64},LinearAlgebra.UniformScaling{Bool},Nothing,Nothing,Nothing,Nothing,Nothing,Nothing,Nothing,Nothing},Array{Float64,1},Array{Float64,1},Array{Array{Float64,1},1},OrdinaryDiffEq.CompositeCache{Tuple{OrdinaryDiffEq.Vern9ConstantCache{Float64,Float64},OrdinaryDiffEq.Rosenbrock5ConstantCache{DiffEqDiffTools.TimeDerivativeWrapper{DiffEqBase.ODEFunction{false,getfield(PerlaTonettiWaugh, Symbol(\"#Ω_derivative#124\")){getfield(PerlaTonettiWaugh, Symbol(\"#E_hat#123\")){Interpolations.Extrapolation{Float64,1,Interpolations.ScaledInterpolation{Float64,1,Interpolations.BSplineInterpolation{Float64,1,Array{Float64,1},Interpolations.BSpline{Interpolations.Linear},Tuple{Base.OneTo{Int64}}},Interpolations.BSpline{Interpolations.Linear},Tuple{StepRangeLen{Float64,Base.TwicePrecision{Float64},Base.TwicePrecision{Float64}}}},Interpolations.BSpline{Interpolations.Linear},Interpolations.Throw{Nothing}}},Float64},LinearAlgebra.UniformScaling{Bool},Nothing,Nothing,Nothing,Nothing,Nothing,Nothing,Nothing,Nothing},Float64,Nothing},DiffEqDiffTools.UDerivativeWrapper{DiffEqBase.ODEFunction{false,getfield(PerlaTonettiWaugh, Symbol(\"#Ω_derivative#124\")){getfield(PerlaTonettiWaugh, Symbol(\"#E_hat#123\")){Interpolations.Extrapolation{Float64,1,Interpolations.ScaledInterpolation{Float64,1,Interpolations.BSplineInterpolation{Float64,1,Array{Float64,1},Interpolations.BSpline{Interpolations.Linear},Tuple{Base.OneTo{Int64}}},Interpolations.BSpline{Interpolations.Linear},Tuple{StepRangeLen{Float64,Base.TwicePrecision{Float64},Base.TwicePrecision{Float64}}}},Interpolations.BSpline{Interpolations.Linear},Interpolations.Throw{Nothing}}},Float64},LinearAlgebra.UniformScaling{Bool},Nothing,Nothing,Nothing,Nothing,Nothing,Nothing,Nothing,Nothing},Float64,Nothing},OrdinaryDiffEq.Rodas5ConstantCache{Float64,Float64}}},OrdinaryDiffEq.AutoSwitch{OrdinaryDiffEq.Vern9,OrdinaryDiffEq.Rodas5{0,false,DiffEqBase.LinSolveFactorize{typeof(LinearAlgebra.lu!)},DataType},Rational{Int64},Float64}}}}},getfield(PerlaTonettiWaugh, Symbol(\"#E#126\")){Float64,getfield(PerlaTonettiWaugh, Symbol(\"#E_hat#123\")){Interpolations.Extrapolation{Float64,1,Interpolations.ScaledInterpolation{Float64,1,Interpolations.BSplineInterpolation{Float64,1,Array{Float64,1},Interpolations.BSpline{Interpolations.Linear},Tuple{Base.OneTo{Int64}}},Interpolations.BSpline{Interpolations.Linear},Tuple{StepRangeLen{Float64,Base.TwicePrecision{Float64},Base.TwicePrecision{Float64}}}},Interpolations.BSpline{Interpolations.Linear},Interpolations.Throw{Nothing}}},Float64},getfield(PerlaTonettiWaugh, Symbol(\"#static_equilibrium#80\")){Float64,Int64,Float64,Float64,Float64,Float64,Float64},Float64,DataFrames.DataFrame,Float64,Float64,Float64,Float64,Float64,LinearAlgebra.Tridiagonal{Float64,Array{Float64,1}},LinearAlgebra.Tridiagonal{Float64,Array{Float64,1}},Array{Float64,1},Float64,Float64}},DiffEqBase.DAEFunction{true,typeof(f!),Nothing,Nothing,Nothing,Nothing,Nothing,Nothing,Nothing,Nothing},Nothing,BitArray{1}}, ::Sundials.IDA{:Dense}, ::Array{Any,1}, ::Array{Any,1}, ::Array{Any,1}) at solve.jl:532\n",
      "└ @ Sundials /home/arnavsood/.julia/packages/Sundials/AL2Km/src/common_interface/solve.jl:532\n"
     ]
    },
    {
     "name": "stdout",
     "output_type": "stream",
     "text": [
      "121.892363 seconds (241.34 M allocations: 132.189 GiB, 16.80% gc time)\n"
     ]
    },
    {
     "data": {
      "text/plain": [
       "((z_max = 5, z = [0.0, 0.000250627, 0.000501253, 0.00075188, 0.00100251, 0.00125313, 0.00150376, 0.00175439, 0.00200501, 0.00225564  …  4.63636, 4.67677, 4.71717, 4.75758, 4.79798, 4.83838, 4.87879, 4.91919, 4.9596, 5.0], Δ_E = 1.0e-6, ode_solve_algorithm = Sundials.CVODE_BDF{:Newton,:Dense}(0, 0, 0, 0, false, 10, 5, 7, 3, 10), T = 75.0, t = 0.0:4.444444444444445:40.0, g = [0.0306157, 0.0406157, 0.0506157, 0.0606157, 0.0706157, 0.0806157, 0.0906157, 0.100616, 0.110616, 0.120616], E_node_count = 15, entry_residuals_nodes_count = 15, transition_x0 = [0.00135141, -0.0338596, -0.11708, -0.0474246, -0.0770259, -0.0492545, -0.0334085, 0.0134308, -0.0936348, 0.0420866, 0.00823068, 0.0124328, -7.48119e-5, 2.11492e-5], fifty_node_iv = [-1.00157, -0.848157, -0.821211, -0.821211, -0.821211, -0.748497, -0.633587, -0.527711, -0.498239, -0.498239  …  -0.0713765, -0.0343871, -0.0334064, -0.0334064, -0.029373, -0.029373, -0.029373, -0.029373, -0.029373, -0.029373], continuation_x0 = [0.0, 0.0, 0.0, 0.0, 0.0, 0.0, 0.0, 0.0, 0.0, 0.0, 0.0, 0.0, 0.0, 0.0], transition_lb = [-1.0, -1.0, -1.0, -1.0, -1.0, -1.0, -1.0, -1.0, -1.0, -1.0, -1.0, -1.0, -1.0, -1.0], transition_ub = [0.0, 0.0, 0.0, 0.0, 0.0, 0.0, 0.0, 0.0, 0.0, 0.0, 0.0, 0.0, 0.0, 0.0], transition_iterations = 1000, transition_penalty_coefficient = 1.0, tstops = nothing, params_T = (ρ = 0.02, σ = 3.9896, N = 10, θ = 4.706, γ = 1.0, κ = 0.0103, ζ = 1.0, η = 0.0, Theta = 1, χ = 0.4631, υ = 0.0755, μ = 0.0, δ = 0.053, d_0 = 2.8, d_T = 2.5019, d = 2.5019), stationary_sol_T = (F = getfield(PerlaTonettiWaugh, Symbol(\"#F#48\")){Float64}(4.706), r = 0.09361571022163528, ν = 2.603732570578429, a = 9.160936806822816, b = 0.1424454938335876, S = 0.03389742139851562, L_tilde = 0.2099540512300403, z_bar = 1.661287303922642, w = 0.41640447762247895, x = 1.0, π_min = 0.05794255714339016, g = 0.02061571022163528, z_hat = 1.4039337093174584, Ω = 1.256289914815114, v_tilde = [1.15936, 1.15849, 1.15763, 1.15676, 1.1559, 1.15504, 1.15417, 1.15331, 1.15246, 1.1516  …  0.818636, 0.812331, 0.804054, 0.793186, 0.778917, 0.760181, 0.735582, 0.703284, 0.660878, 0.6052], y = 1.3124933042070521, c = 1.3124933042070521, λ_ii = 0.7552342507764566, U_bar = getfield(PerlaTonettiWaugh, Symbol(\"##46#47\")){Float64,Float64,Float64,Float64}(0.02061571022163528, 0.02, 1.0, 1.3124933042070521)), Ω_0 = 1.2669608880354684), (solution = (results = 12×15 DataFrames.DataFrame. Omitted printing of 9 columns\n",
       "│ Row │ t       │ g         │ z_hat   │ Ω       │ E         │ v_0     │\n",
       "│     │ \u001b[90mFloat64\u001b[39m │ \u001b[90mFloat64\u001b[39m   │ \u001b[90mFloat64\u001b[39m │ \u001b[90mFloat64\u001b[39m │ \u001b[90mFloat64\u001b[39m   │ \u001b[90mFloat64\u001b[39m │\n",
       "├─────┼─────────┼───────────┼─────────┼─────────┼───────────┼─────────┤\n",
       "│ 1   │ 0.0     │ 0.0205466 │ 1.40532 │ 1.26696 │ 0.051065  │ 1.15936 │\n",
       "│ 2   │ 36.6    │ 0.0206123 │ 1.404   │ 1.25661 │ 0.0529644 │ 1.15936 │\n",
       "│ 3   │ 55.8    │ 0.0206178 │ 1.40389 │ 1.25611 │ 0.0530172 │ 1.15936 │\n",
       "│ 4   │ 65.4    │ 0.0206157 │ 1.40393 │ 1.25629 │ 0.0529999 │ 1.15936 │\n",
       "│ 5   │ 70.2    │ 0.0206157 │ 1.40393 │ 1.25629 │ 0.053     │ 1.15936 │\n",
       "│ 6   │ 72.6    │ 0.0206157 │ 1.40393 │ 1.25629 │ 0.053     │ 1.15936 │\n",
       "│ 7   │ 73.8    │ 0.0206157 │ 1.40393 │ 1.25629 │ 0.053     │ 1.15936 │\n",
       "│ 8   │ 74.4    │ 0.0206157 │ 1.40393 │ 1.25629 │ 0.053     │ 1.15936 │\n",
       "│ 9   │ 74.7    │ 0.0206157 │ 1.40393 │ 1.25629 │ 0.053     │ 1.15936 │\n",
       "│ 10  │ 74.85   │ 0.0206157 │ 1.40393 │ 1.25629 │ 0.053     │ 1.15936 │\n",
       "│ 11  │ 74.925  │ 0.0206157 │ 1.40393 │ 1.25629 │ 0.053     │ 1.15936 │\n",
       "│ 12  │ 75.0    │ 0.0206157 │ 1.40393 │ 1.25629 │ 0.053     │ 1.15936 │, sol = retcode: Success\n",
       "Interpolation: 3rd order Hermite\n",
       "t: [75.0, 74.925, 74.85, 74.7, 74.4, 73.8, 72.6, 70.2, 65.4, 55.8, 36.6, 0.0]\n",
       "u: Array{Float64,1}[[1.15936, 1.15849, 1.15763, 1.15676, 1.1559, 1.15504, 1.15417, 1.15331, 1.15246, 1.1516  …  0.804054, 0.793186, 0.778917, 0.760181, 0.735582, 0.703284, 0.660878, 0.6052, 0.0206157, 1.40393], [1.15936, 1.15849, 1.15763, 1.15676, 1.1559, 1.15504, 1.15417, 1.15331, 1.15246, 1.1516  …  0.804054, 0.793186, 0.778917, 0.760181, 0.735582, 0.703284, 0.660878, 0.6052, 0.0206157, 1.40393], [1.15936, 1.15849, 1.15763, 1.15676, 1.1559, 1.15504, 1.15417, 1.15331, 1.15246, 1.1516  …  0.804054, 0.793186, 0.778916, 0.760181, 0.735582, 0.703284, 0.660878, 0.6052, 0.0206157, 1.40393], [1.15936, 1.15849, 1.15763, 1.15676, 1.1559, 1.15504, 1.15417, 1.15331, 1.15246, 1.1516  …  0.804054, 0.793186, 0.778917, 0.760181, 0.735582, 0.703284, 0.660878, 0.6052, 0.0206157, 1.40393], [1.15936, 1.15849, 1.15763, 1.15676, 1.1559, 1.15504, 1.15417, 1.15331, 1.15246, 1.1516  …  0.804054, 0.793186, 0.778917, 0.760181, 0.735582, 0.703284, 0.660878, 0.6052, 0.0206157, 1.40393], [1.15936, 1.15849, 1.15763, 1.15676, 1.1559, 1.15504, 1.15417, 1.15331, 1.15246, 1.1516  …  0.804054, 0.793186, 0.778917, 0.760181, 0.735582, 0.703284, 0.660878, 0.6052, 0.0206157, 1.40393], [1.15936, 1.15849, 1.15763, 1.15676, 1.1559, 1.15504, 1.15417, 1.15331, 1.15246, 1.1516  …  0.804054, 0.793186, 0.778917, 0.760181, 0.735582, 0.703284, 0.660878, 0.6052, 0.0206157, 1.40393], [1.15936, 1.15849, 1.15763, 1.15676, 1.1559, 1.15504, 1.15417, 1.15331, 1.15246, 1.1516  …  0.804054, 0.793186, 0.778916, 0.760181, 0.735582, 0.703284, 0.660878, 0.6052, 0.0206157, 1.40393], [1.15936, 1.15849, 1.15763, 1.15676, 1.1559, 1.15504, 1.15417, 1.15331, 1.15246, 1.1516  …  0.804054, 0.793186, 0.778916, 0.760181, 0.735582, 0.703284, 0.660878, 0.6052, 0.0206157, 1.40393], [1.15936, 1.15849, 1.15763, 1.15676, 1.1559, 1.15504, 1.15417, 1.15331, 1.15246, 1.1516  …  0.804056, 0.793189, 0.778921, 0.760187, 0.73559, 0.703293, 0.660888, 0.605211, 0.0206178, 1.40389], [1.15936, 1.15849, 1.15763, 1.15676, 1.1559, 1.15504, 1.15417, 1.15331, 1.15246, 1.1516  …  0.80405, 0.79318, 0.778909, 0.760171, 0.735569, 0.703269, 0.660861, 0.605183, 0.0206123, 1.404], [1.15936, 1.15849, 1.15763, 1.15676, 1.1559, 1.15504, 1.15417, 1.15331, 1.15246, 1.1516  …  0.803942, 0.793026, 0.778702, 0.759909, 0.735251, 0.702901, 0.660457, 0.604774, 0.0205466, 1.40532]], p = (ζ = 1.0, Ω = getfield(PerlaTonettiWaugh, Symbol(\"#Ω#125\")){Float64,OrdinaryDiffEq.ODECompositeSolution{Float64,1,Array{Float64,1},Nothing,Nothing,Array{Float64,1},Array{Array{Float64,1},1},DiffEqBase.ODEProblem{Float64,Tuple{Float64,Float64},false,Nothing,DiffEqBase.ODEFunction{false,getfield(PerlaTonettiWaugh, Symbol(\"#Ω_derivative#124\")){getfield(PerlaTonettiWaugh, Symbol(\"#E_hat#123\")){Interpolations.Extrapolation{Float64,1,Interpolations.ScaledInterpolation{Float64,1,Interpolations.BSplineInterpolation{Float64,1,Array{Float64,1},Interpolations.BSpline{Interpolations.Linear},Tuple{Base.OneTo{Int64}}},Interpolations.BSpline{Interpolations.Linear},Tuple{StepRangeLen{Float64,Base.TwicePrecision{Float64},Base.TwicePrecision{Float64}}}},Interpolations.BSpline{Interpolations.Linear},Interpolations.Throw{Nothing}}},Float64},LinearAlgebra.UniformScaling{Bool},Nothing,Nothing,Nothing,Nothing,Nothing,Nothing,Nothing,Nothing},Nothing,DiffEqBase.StandardODEProblem},OrdinaryDiffEq.CompositeAlgorithm{Tuple{OrdinaryDiffEq.Vern9,OrdinaryDiffEq.Rodas5{0,false,DiffEqBase.LinSolveFactorize{typeof(LinearAlgebra.lu!)},DataType}},OrdinaryDiffEq.AutoSwitch{OrdinaryDiffEq.Vern9,OrdinaryDiffEq.Rodas5{0,false,DiffEqBase.LinSolveFactorize{typeof(LinearAlgebra.lu!)},DataType},Rational{Int64},Float64}},OrdinaryDiffEq.CompositeInterpolationData{DiffEqBase.ODEFunction{false,getfield(PerlaTonettiWaugh, Symbol(\"#Ω_derivative#124\")){getfield(PerlaTonettiWaugh, Symbol(\"#E_hat#123\")){Interpolations.Extrapolation{Float64,1,Interpolations.ScaledInterpolation{Float64,1,Interpolations.BSplineInterpolation{Float64,1,Array{Float64,1},Interpolations.BSpline{Interpolations.Linear},Tuple{Base.OneTo{Int64}}},Interpolations.BSpline{Interpolations.Linear},Tuple{StepRangeLen{Float64,Base.TwicePrecision{Float64},Base.TwicePrecision{Float64}}}},Interpolations.BSpline{Interpolations.Linear},Interpolations.Throw{Nothing}}},Float64},LinearAlgebra.UniformScaling{Bool},Nothing,Nothing,Nothing,Nothing,Nothing,Nothing,Nothing,Nothing},Array{Float64,1},Array{Float64,1},Array{Array{Float64,1},1},OrdinaryDiffEq.CompositeCache{Tuple{OrdinaryDiffEq.Vern9ConstantCache{Float64,Float64},OrdinaryDiffEq.Rosenbrock5ConstantCache{DiffEqDiffTools.TimeDerivativeWrapper{DiffEqBase.ODEFunction{false,getfield(PerlaTonettiWaugh, Symbol(\"#Ω_derivative#124\")){getfield(PerlaTonettiWaugh, Symbol(\"#E_hat#123\")){Interpolations.Extrapolation{Float64,1,Interpolations.ScaledInterpolation{Float64,1,Interpolations.BSplineInterpolation{Float64,1,Array{Float64,1},Interpolations.BSpline{Interpolations.Linear},Tuple{Base.OneTo{Int64}}},Interpolations.BSpline{Interpolations.Linear},Tuple{StepRangeLen{Float64,Base.TwicePrecision{Float64},Base.TwicePrecision{Float64}}}},Interpolations.BSpline{Interpolations.Linear},Interpolations.Throw{Nothing}}},Float64},LinearAlgebra.UniformScaling{Bool},Nothing,Nothing,Nothing,Nothing,Nothing,Nothing,Nothing,Nothing},Float64,Nothing},DiffEqDiffTools.UDerivativeWrapper{DiffEqBase.ODEFunction{false,getfield(PerlaTonettiWaugh, Symbol(\"#Ω_derivative#124\")){getfield(PerlaTonettiWaugh, Symbol(\"#E_hat#123\")){Interpolations.Extrapolation{Float64,1,Interpolations.ScaledInterpolation{Float64,1,Interpolations.BSplineInterpolation{Float64,1,Array{Float64,1},Interpolations.BSpline{Interpolations.Linear},Tuple{Base.OneTo{Int64}}},Interpolations.BSpline{Interpolations.Linear},Tuple{StepRangeLen{Float64,Base.TwicePrecision{Float64},Base.TwicePrecision{Float64}}}},Interpolations.BSpline{Interpolations.Linear},Interpolations.Throw{Nothing}}},Float64},LinearAlgebra.UniformScaling{Bool},Nothing,Nothing,Nothing,Nothing,Nothing,Nothing,Nothing,Nothing},Float64,Nothing},OrdinaryDiffEq.Rodas5ConstantCache{Float64,Float64}}},OrdinaryDiffEq.AutoSwitch{OrdinaryDiffEq.Vern9,OrdinaryDiffEq.Rodas5{0,false,DiffEqBase.LinSolveFactorize{typeof(LinearAlgebra.lu!)},DataType},Rational{Int64},Float64}}}}}(75.0, retcode: Success\n",
       "Interpolation: 3rd order Hermite\n",
       "t: [0.0, 0.251867, 1.68139, 4.78381, 7.26447, 8.80032, 14.5848, 18.1826, 21.774, 24.6103  …  38.9237, 42.6599, 45.0894, 47.3045, 49.8876, 55.6578, 59.4299, 65.8195, 69.8516, 75.0]\n",
       "u: [1.26696, 1.26636, 1.26354, 1.26087, 1.26082, 1.26074, 1.25985, 1.259, 1.25851, 1.25805  …  1.25656, 1.25649, 1.25608, 1.25575, 1.25578, 1.2561, 1.2562, 1.25629, 1.25629, 1.25629]), E = getfield(PerlaTonettiWaugh, Symbol(\"#E#126\")){Float64,getfield(PerlaTonettiWaugh, Symbol(\"#E_hat#123\")){Interpolations.Extrapolation{Float64,1,Interpolations.ScaledInterpolation{Float64,1,Interpolations.BSplineInterpolation{Float64,1,Array{Float64,1},Interpolations.BSpline{Interpolations.Linear},Tuple{Base.OneTo{Int64}}},Interpolations.BSpline{Interpolations.Linear},Tuple{StepRangeLen{Float64,Base.TwicePrecision{Float64},Base.TwicePrecision{Float64}}}},Interpolations.BSpline{Interpolations.Linear},Interpolations.Throw{Nothing}}},Float64}(0.053, getfield(PerlaTonettiWaugh, Symbol(\"#E_hat#123\")){Interpolations.Extrapolation{Float64,1,Interpolations.ScaledInterpolation{Float64,1,Interpolations.BSplineInterpolation{Float64,1,Array{Float64,1},Interpolations.BSpline{Interpolations.Linear},Tuple{Base.OneTo{Int64}}},Interpolations.BSpline{Interpolations.Linear},Tuple{StepRangeLen{Float64,Base.TwicePrecision{Float64},Base.TwicePrecision{Float64}}}},Interpolations.BSpline{Interpolations.Linear},Interpolations.Throw{Nothing}}}([-0.79973, -0.599459, -0.399189, -0.198919, 0.00135141, -0.00569079, -0.012733, -0.0197752, -0.0268174, -0.0338596, -0.0505037, -0.0671479, -0.083792, -0.100436, -0.11708, -0.103149]), 0.001935043268912681), static_equilibrium = getfield(PerlaTonettiWaugh, Symbol(\"#static_equilibrium#80\")){Float64,Int64,Float64,Float64,Float64,Float64,Float64}(3.9896, 10, 4.706, 2.5019, 0.0103, 1.0, 0.4631, Core.Box([0.0, 0.000250627, 0.000501253, 0.00075188, 0.00100251, 0.00125313, 0.00150376, 0.00175439, 0.00200501, 0.00225564  …  4.63636, 4.67677, 4.71717, 4.75758, 4.79798, 4.83838, 4.87879, 4.91919, 4.9596, 5.0]), Core.Box(getfield(PerlaTonettiWaugh, Symbol(\"#S#78\")){Float64,Float64,Float64}(4.706, 0.0755, 0.0)), Core.Box(getfield(PerlaTonettiWaugh, Symbol(\"#L_tilde#79\")){Int64,Float64,Float64,Float64,Float64}(10, 4.706, 0.0103, 1.0, 0.4631))), T = 75.0, results = 12×7 DataFrames.DataFrame. Omitted printing of 1 columns\n",
       "│ Row │ t       │ g         │ z_hat   │ Ω       │ E         │ v_0     │\n",
       "│     │ \u001b[90mFloat64\u001b[39m │ \u001b[90mFloat64\u001b[39m   │ \u001b[90mFloat64\u001b[39m │ \u001b[90mFloat64\u001b[39m │ \u001b[90mFloat64\u001b[39m   │ \u001b[90mFloat64\u001b[39m │\n",
       "├─────┼─────────┼───────────┼─────────┼─────────┼───────────┼─────────┤\n",
       "│ 1   │ 0.0     │ 0.0205466 │ 1.40532 │ 1.26696 │ 0.051065  │ 1.15936 │\n",
       "│ 2   │ 36.6    │ 0.0206123 │ 1.404   │ 1.25661 │ 0.0529644 │ 1.15936 │\n",
       "│ 3   │ 55.8    │ 0.0206178 │ 1.40389 │ 1.25611 │ 0.0530172 │ 1.15936 │\n",
       "│ 4   │ 65.4    │ 0.0206157 │ 1.40393 │ 1.25629 │ 0.0529999 │ 1.15936 │\n",
       "│ 5   │ 70.2    │ 0.0206157 │ 1.40393 │ 1.25629 │ 0.053     │ 1.15936 │\n",
       "│ 6   │ 72.6    │ 0.0206157 │ 1.40393 │ 1.25629 │ 0.053     │ 1.15936 │\n",
       "│ 7   │ 73.8    │ 0.0206157 │ 1.40393 │ 1.25629 │ 0.053     │ 1.15936 │\n",
       "│ 8   │ 74.4    │ 0.0206157 │ 1.40393 │ 1.25629 │ 0.053     │ 1.15936 │\n",
       "│ 9   │ 74.7    │ 0.0206157 │ 1.40393 │ 1.25629 │ 0.053     │ 1.15936 │\n",
       "│ 10  │ 74.85   │ 0.0206157 │ 1.40393 │ 1.25629 │ 0.053     │ 1.15936 │\n",
       "│ 11  │ 74.925  │ 0.0206157 │ 1.40393 │ 1.25629 │ 0.053     │ 1.15936 │\n",
       "│ 12  │ 75.0    │ 0.0206157 │ 1.40393 │ 1.25629 │ 0.053     │ 1.15936 │, ρ = 0.02, δ = 0.053, σ = 3.9896, μ = 0.0, υ = 0.0755, L_1 = [-2.9896 0.0 … 0.0 0.0; -3990.0 3990.0 … 0.0 0.0; … ; 0.0 0.0 … 24.75 0.0; 0.0 0.0 … -24.75 24.75], L_2 = [-1.59082e7 1.59201e7 … 0.0 0.0; 1.59201e7 -3.18402e7 … 0.0 0.0; … ; 0.0 0.0 … -1225.13 612.562; 0.0 0.0 … 612.562 -686.555], ω = [0.000589724, 0.00117894, 0.00117843, 0.00117793, 0.00117742, 0.00117691, 0.00117641, 0.0011759, 0.0011754, 0.00117489  …  6.65311e-5, 6.20735e-5, 5.79146e-5, 5.40344e-5, 5.04141e-5, 4.70364e-5, 4.3885e-5, 4.09447e-5, 3.82014e-5, 1.7821e-5], κ = 0.0103, d = 2.5019), static_equilibrium = getfield(PerlaTonettiWaugh, Symbol(\"#static_equilibrium#80\")){Float64,Int64,Float64,Float64,Float64,Float64,Float64}(3.9896, 10, 4.706, 2.5019, 0.0103, 1.0, 0.4631, Core.Box([0.0, 0.000250627, 0.000501253, 0.00075188, 0.00100251, 0.00125313, 0.00150376, 0.00175439, 0.00200501, 0.00225564  …  4.63636, 4.67677, 4.71717, 4.75758, 4.79798, 4.83838, 4.87879, 4.91919, 4.9596, 5.0]), Core.Box(getfield(PerlaTonettiWaugh, Symbol(\"#S#78\")){Float64,Float64,Float64}(4.706, 0.0755, 0.0)), Core.Box(getfield(PerlaTonettiWaugh, Symbol(\"#L_tilde#79\")){Int64,Float64,Float64,Float64,Float64}(10, 4.706, 0.0103, 1.0, 0.4631)))), E_nodes = [0.00135141, -0.0338596, -0.11708, -0.0474246, -0.0770259, -0.0492545, -0.0334085, 0.0134308, -0.0936348, 0.0420866, 0.00823068, 0.0124328, -7.48119e-5, 2.11492e-5], solobj =  * Results of Optimization Algorithm\n",
       " * Solution: [0.0013514103241926813,-0.033859593277511965,-0.11708025127423606,-0.047424648684215594,-0.07702588770244248,-0.04925447425118707,-0.03340849777646543,0.013430780872147838,-0.09363477503451476,0.042086621248189376,0.008230676373605911,0.012432825624317185,-7.481193222015441e-5,2.1149229532106806e-5]\n",
       " * f(x) at Optimum: 0.000000\n",
       " * Convergence: true\n",
       " * Exit Message: Success: Objective is sufficiently small\n",
       " * Exit Flag: 0\n",
       " * Function Calls: 32\n",
       " * Solver Runs: 1\n",
       " * Point Evaluations: 32\n",
       "))"
      ]
     },
     "execution_count": 6,
     "metadata": {},
     "output_type": "execute_result"
    }
   ],
   "source": [
    "@time settings, result = solve_continuation(d_0, d_T, settings = settings)"
   ]
  },
  {
   "cell_type": "code",
   "execution_count": 7,
   "metadata": {},
   "outputs": [
    {
     "data": {
      "text/plain": [
       "14-element Array{Float64,1}:\n",
       "  0.0013514103241926813\n",
       " -0.033859593277511965 \n",
       " -0.11708025127423606  \n",
       " -0.047424648684215594 \n",
       " -0.07702588770244248  \n",
       " -0.04925447425118707  \n",
       " -0.03340849777646543  \n",
       "  0.013430780872147838 \n",
       " -0.09363477503451476  \n",
       "  0.042086621248189376 \n",
       "  0.008230676373605911 \n",
       "  0.012432825624317185 \n",
       " -7.481193222015441e-5 \n",
       "  2.1149229532106806e-5"
      ]
     },
     "execution_count": 7,
     "metadata": {},
     "output_type": "execute_result"
    }
   ],
   "source": [
    "result.E_nodes"
   ]
  },
  {
   "cell_type": "code",
   "execution_count": 8,
   "metadata": {},
   "outputs": [],
   "source": [
    "solved = result.solution;\n",
    "E_nodes = result.E_nodes;\n",
    "solved = solved.results;"
   ]
  },
  {
   "cell_type": "code",
   "execution_count": 9,
   "metadata": {},
   "outputs": [],
   "source": [
    "using Plots"
   ]
  },
  {
   "cell_type": "markdown",
   "metadata": {},
   "source": [
    "#### New Calibration"
   ]
  },
  {
   "cell_type": "code",
   "execution_count": 10,
   "metadata": {},
   "outputs": [],
   "source": [
    "cal_old_paper = (d = 4.0 , θ = 3.1878, κ = 0.006 , χ = 1.00/2.80, υ = 0.001, σ =3.0, ζ = 1.00, δ = 0.001)\n",
    "cal = cal_old_paper\n",
    "\n",
    "# Define common objects. \n",
    "parameters = parameter_defaults()\n",
    "\n",
    "settings = settings_defaults()\n",
    "settings = merge(settings, (transition_penalty_coefficient = 1.0, ))\n",
    "z_grid = settings.z\n",
    "M = length(z_grid)\n",
    "\n",
    "d_0 = 4.1 # This will get us near autarky.\n",
    "d_T = cal.d\n",
    "\n",
    "params_0 = merge(parameters, (d = d_0, θ = cal.θ, κ = cal.κ, χ = cal.χ, υ = cal.υ, σ = cal.σ, ζ = cal.ζ , δ  = cal.δ, )) # parameters to be used at t = 0\n",
    "params_T = merge(parameters, (d = d_T, θ = cal.θ, κ = cal.κ, χ = cal.χ, υ = cal.υ, σ = cal.σ, ζ = cal.ζ , δ  = cal.δ, )) # parameters to be used at t = T\n",
    "\n",
    "# initial value\n",
    "initial_x = [0.02; 2; .57] # Play with this if it is kicking back errors\n",
    "\n",
    "# solve for stationary solution at t = 0\n",
    "stationary_sol_atuk = stationary_algebraic(params_0, initial_x) # solution at t = 0\n",
    "stationary_sol = stationary_algebraic(params_T, initial_x) # solution at t = T\n",
    "\n",
    "Ω_0 = stationary_sol_atuk.Ω;\n",
    "Ω_T = stationary_sol.Ω;"
   ]
  },
  {
   "cell_type": "code",
   "execution_count": 11,
   "metadata": {},
   "outputs": [
    {
     "data": {
      "text/plain": [
       "14-element Array{Float64,1}:\n",
       " -0.954599693387771  \n",
       " -0.796617297961165  \n",
       " -0.6520035274409136 \n",
       " -0.562827801831672  \n",
       " -0.3741843672976072 \n",
       " -0.20122165962908825\n",
       " -0.18898395633321843\n",
       " -0.10592161148366938\n",
       " -0.0964005813640459 \n",
       " -0.07711546225956174\n",
       " -0.04343512879570261\n",
       " -0.0414551240014235 \n",
       " -0.04109747436876819\n",
       " -0.01733076740558217"
      ]
     },
     "execution_count": 11,
     "metadata": {},
     "output_type": "execute_result"
    }
   ],
   "source": [
    "continuation_x0 = transition_x0 = [-0.954599693387771, -0.796617297961165, -0.6520035274409136, -0.562827801831672, -0.3741843672976072, -0.20122165962908825, -0.18898395633321843, -0.10592161148366938, -0.0964005813640459, -0.07711546225956174, -0.04343512879570261, -0.0414551240014235, -0.04109747436876819, -0.01733076740558217]"
   ]
  },
  {
   "cell_type": "code",
   "execution_count": 12,
   "metadata": {},
   "outputs": [
    {
     "name": "stderr",
     "output_type": "stream",
     "text": [
      "┌ Warning: `binary_maxheap(xs::AbstractVector{T}) where T` is deprecated, use `BinaryMaxHeap(xs)` instead.\n",
      "│   caller = #FunctionCallingCallback#24(::Array{Float64,1}, ::Bool, ::Bool, ::Int64, ::Function, ::Function) at function_caller.jl:75\n",
      "└ @ DiffEqCallbacks /home/arnavsood/.julia/packages/DiffEqCallbacks/WQXZl/src/function_caller.jl:75\n",
      "┌ Warning: `binary_maxheap(xs::AbstractVector{T}) where T` is deprecated, use `BinaryMaxHeap(xs)` instead.\n",
      "│   caller = tstop_saveat_disc_handling at solve.jl:514 [inlined]\n",
      "└ @ Core /home/arnavsood/.julia/packages/Sundials/AL2Km/src/common_interface/solve.jl:514\n",
      "┌ Warning: `binary_maxheap(xs::AbstractVector{T}) where T` is deprecated, use `BinaryMaxHeap(xs)` instead.\n",
      "│   caller = #__init#58(::Bool, ::Nothing, ::Float64, ::Bool, ::Bool, ::DiffEqBase.DiscreteCallback{getfield(DiffEqCallbacks, Symbol(\"##25#26\")),DiffEqCallbacks.FunctionCallingAffect{getfield(PerlaTonettiWaugh, Symbol(\"#cb_aux#81\")){getfield(PerlaTonettiWaugh, Symbol(\"#Ω#125\")){Float64,OrdinaryDiffEq.ODECompositeSolution{Float64,1,Array{Float64,1},Nothing,Nothing,Array{Float64,1},Array{Array{Float64,1},1},DiffEqBase.ODEProblem{Float64,Tuple{Float64,Float64},false,Nothing,DiffEqBase.ODEFunction{false,getfield(PerlaTonettiWaugh, Symbol(\"#Ω_derivative#124\")){getfield(PerlaTonettiWaugh, Symbol(\"#E_hat#123\")){Interpolations.Extrapolation{Float64,1,Interpolations.ScaledInterpolation{Float64,1,Interpolations.BSplineInterpolation{Float64,1,Array{Float64,1},Interpolations.BSpline{Interpolations.Linear},Tuple{Base.OneTo{Int64}}},Interpolations.BSpline{Interpolations.Linear},Tuple{StepRangeLen{Float64,Base.TwicePrecision{Float64},Base.TwicePrecision{Float64}}}},Interpolations.BSpline{Interpolations.Linear},Interpolations.Throw{Nothing}}},Float64},LinearAlgebra.UniformScaling{Bool},Nothing,Nothing,Nothing,Nothing,Nothing,Nothing,Nothing,Nothing},Nothing,DiffEqBase.StandardODEProblem},OrdinaryDiffEq.CompositeAlgorithm{Tuple{OrdinaryDiffEq.Vern9,OrdinaryDiffEq.Rodas5{0,false,DiffEqBase.LinSolveFactorize{typeof(LinearAlgebra.lu!)},DataType}},OrdinaryDiffEq.AutoSwitch{OrdinaryDiffEq.Vern9,OrdinaryDiffEq.Rodas5{0,false,DiffEqBase.LinSolveFactorize{typeof(LinearAlgebra.lu!)},DataType},Rational{Int64},Float64}},OrdinaryDiffEq.CompositeInterpolationData{DiffEqBase.ODEFunction{false,getfield(PerlaTonettiWaugh, Symbol(\"#Ω_derivative#124\")){getfield(PerlaTonettiWaugh, Symbol(\"#E_hat#123\")){Interpolations.Extrapolation{Float64,1,Interpolations.ScaledInterpolation{Float64,1,Interpolations.BSplineInterpolation{Float64,1,Array{Float64,1},Interpolations.BSpline{Interpolations.Linear},Tuple{Base.OneTo{Int64}}},Interpolations.BSpline{Interpolations.Linear},Tuple{StepRangeLen{Float64,Base.TwicePrecision{Float64},Base.TwicePrecision{Float64}}}},Interpolations.BSpline{Interpolations.Linear},Interpolations.Throw{Nothing}}},Float64},LinearAlgebra.UniformScaling{Bool},Nothing,Nothing,Nothing,Nothing,Nothing,Nothing,Nothing,Nothing},Array{Float64,1},Array{Float64,1},Array{Array{Float64,1},1},OrdinaryDiffEq.CompositeCache{Tuple{OrdinaryDiffEq.Vern9ConstantCache{Float64,Float64},OrdinaryDiffEq.Rosenbrock5ConstantCache{DiffEqDiffTools.TimeDerivativeWrapper{DiffEqBase.ODEFunction{false,getfield(PerlaTonettiWaugh, Symbol(\"#Ω_derivative#124\")){getfield(PerlaTonettiWaugh, Symbol(\"#E_hat#123\")){Interpolations.Extrapolation{Float64,1,Interpolations.ScaledInterpolation{Float64,1,Interpolations.BSplineInterpolation{Float64,1,Array{Float64,1},Interpolations.BSpline{Interpolations.Linear},Tuple{Base.OneTo{Int64}}},Interpolations.BSpline{Interpolations.Linear},Tuple{StepRangeLen{Float64,Base.TwicePrecision{Float64},Base.TwicePrecision{Float64}}}},Interpolations.BSpline{Interpolations.Linear},Interpolations.Throw{Nothing}}},Float64},LinearAlgebra.UniformScaling{Bool},Nothing,Nothing,Nothing,Nothing,Nothing,Nothing,Nothing,Nothing},Float64,Nothing},DiffEqDiffTools.UDerivativeWrapper{DiffEqBase.ODEFunction{false,getfield(PerlaTonettiWaugh, Symbol(\"#Ω_derivative#124\")){getfield(PerlaTonettiWaugh, Symbol(\"#E_hat#123\")){Interpolations.Extrapolation{Float64,1,Interpolations.ScaledInterpolation{Float64,1,Interpolations.BSplineInterpolation{Float64,1,Array{Float64,1},Interpolations.BSpline{Interpolations.Linear},Tuple{Base.OneTo{Int64}}},Interpolations.BSpline{Interpolations.Linear},Tuple{StepRangeLen{Float64,Base.TwicePrecision{Float64},Base.TwicePrecision{Float64}}}},Interpolations.BSpline{Interpolations.Linear},Interpolations.Throw{Nothing}}},Float64},LinearAlgebra.UniformScaling{Bool},Nothing,Nothing,Nothing,Nothing,Nothing,Nothing,Nothing,Nothing},Float64,Nothing},OrdinaryDiffEq.Rodas5ConstantCache{Float64,Float64}}},OrdinaryDiffEq.AutoSwitch{OrdinaryDiffEq.Vern9,OrdinaryDiffEq.Rodas5{0,false,DiffEqBase.LinSolveFactorize{typeof(LinearAlgebra.lu!)},DataType},Rational{Int64},Float64}}}}},getfield(PerlaTonettiWaugh, Symbol(\"#E#126\")){Float64,getfield(PerlaTonettiWaugh, Symbol(\"#E_hat#123\")){Interpolations.Extrapolation{Float64,1,Interpolations.ScaledInterpolation{Float64,1,Interpolations.BSplineInterpolation{Float64,1,Array{Float64,1},Interpolations.BSpline{Interpolations.Linear},Tuple{Base.OneTo{Int64}}},Interpolations.BSpline{Interpolations.Linear},Tuple{StepRangeLen{Float64,Base.TwicePrecision{Float64},Base.TwicePrecision{Float64}}}},Interpolations.BSpline{Interpolations.Linear},Interpolations.Throw{Nothing}}},Float64},Int64},DataStructures.BinaryHeap{Float64,DataStructures.GreaterThan},Array{Float64,1}},typeof(DiffEqCallbacks.functioncalling_initialize)}, ::Float64, ::Float64, ::Array{Float64,1}, ::Array{Float64,1}, ::Int64, ::Bool, ::Bool, ::Bool, ::Bool, ::Nothing, ::Bool, ::Bool, ::Bool, ::Nothing, ::Base.Iterators.Pairs{Symbol,Bool,Tuple{Symbol},NamedTuple{(:default_set,),Tuple{Bool}}}, ::typeof(DiffEqBase.__init), ::DiffEqBase.DAEProblem{Array{Float64,1},Array{Float64,1},Tuple{Float64,Float64},true,NamedTuple{(:ζ, :Ω, :E, :static_equilibrium, :T, :results, :ρ, :δ, :σ, :μ, :υ, :L_1, :L_2, :ω, :κ, :d),Tuple{Float64,getfield(PerlaTonettiWaugh, Symbol(\"#Ω#125\")){Float64,OrdinaryDiffEq.ODECompositeSolution{Float64,1,Array{Float64,1},Nothing,Nothing,Array{Float64,1},Array{Array{Float64,1},1},DiffEqBase.ODEProblem{Float64,Tuple{Float64,Float64},false,Nothing,DiffEqBase.ODEFunction{false,getfield(PerlaTonettiWaugh, Symbol(\"#Ω_derivative#124\")){getfield(PerlaTonettiWaugh, Symbol(\"#E_hat#123\")){Interpolations.Extrapolation{Float64,1,Interpolations.ScaledInterpolation{Float64,1,Interpolations.BSplineInterpolation{Float64,1,Array{Float64,1},Interpolations.BSpline{Interpolations.Linear},Tuple{Base.OneTo{Int64}}},Interpolations.BSpline{Interpolations.Linear},Tuple{StepRangeLen{Float64,Base.TwicePrecision{Float64},Base.TwicePrecision{Float64}}}},Interpolations.BSpline{Interpolations.Linear},Interpolations.Throw{Nothing}}},Float64},LinearAlgebra.UniformScaling{Bool},Nothing,Nothing,Nothing,Nothing,Nothing,Nothing,Nothing,Nothing},Nothing,DiffEqBase.StandardODEProblem},OrdinaryDiffEq.CompositeAlgorithm{Tuple{OrdinaryDiffEq.Vern9,OrdinaryDiffEq.Rodas5{0,false,DiffEqBase.LinSolveFactorize{typeof(LinearAlgebra.lu!)},DataType}},OrdinaryDiffEq.AutoSwitch{OrdinaryDiffEq.Vern9,OrdinaryDiffEq.Rodas5{0,false,DiffEqBase.LinSolveFactorize{typeof(LinearAlgebra.lu!)},DataType},Rational{Int64},Float64}},OrdinaryDiffEq.CompositeInterpolationData{DiffEqBase.ODEFunction{false,getfield(PerlaTonettiWaugh, Symbol(\"#Ω_derivative#124\")){getfield(PerlaTonettiWaugh, Symbol(\"#E_hat#123\")){Interpolations.Extrapolation{Float64,1,Interpolations.ScaledInterpolation{Float64,1,Interpolations.BSplineInterpolation{Float64,1,Array{Float64,1},Interpolations.BSpline{Interpolations.Linear},Tuple{Base.OneTo{Int64}}},Interpolations.BSpline{Interpolations.Linear},Tuple{StepRangeLen{Float64,Base.TwicePrecision{Float64},Base.TwicePrecision{Float64}}}},Interpolations.BSpline{Interpolations.Linear},Interpolations.Throw{Nothing}}},Float64},LinearAlgebra.UniformScaling{Bool},Nothing,Nothing,Nothing,Nothing,Nothing,Nothing,Nothing,Nothing},Array{Float64,1},Array{Float64,1},Array{Array{Float64,1},1},OrdinaryDiffEq.CompositeCache{Tuple{OrdinaryDiffEq.Vern9ConstantCache{Float64,Float64},OrdinaryDiffEq.Rosenbrock5ConstantCache{DiffEqDiffTools.TimeDerivativeWrapper{DiffEqBase.ODEFunction{false,getfield(PerlaTonettiWaugh, Symbol(\"#Ω_derivative#124\")){getfield(PerlaTonettiWaugh, Symbol(\"#E_hat#123\")){Interpolations.Extrapolation{Float64,1,Interpolations.ScaledInterpolation{Float64,1,Interpolations.BSplineInterpolation{Float64,1,Array{Float64,1},Interpolations.BSpline{Interpolations.Linear},Tuple{Base.OneTo{Int64}}},Interpolations.BSpline{Interpolations.Linear},Tuple{StepRangeLen{Float64,Base.TwicePrecision{Float64},Base.TwicePrecision{Float64}}}},Interpolations.BSpline{Interpolations.Linear},Interpolations.Throw{Nothing}}},Float64},LinearAlgebra.UniformScaling{Bool},Nothing,Nothing,Nothing,Nothing,Nothing,Nothing,Nothing,Nothing},Float64,Nothing},DiffEqDiffTools.UDerivativeWrapper{DiffEqBase.ODEFunction{false,getfield(PerlaTonettiWaugh, Symbol(\"#Ω_derivative#124\")){getfield(PerlaTonettiWaugh, Symbol(\"#E_hat#123\")){Interpolations.Extrapolation{Float64,1,Interpolations.ScaledInterpolation{Float64,1,Interpolations.BSplineInterpolation{Float64,1,Array{Float64,1},Interpolations.BSpline{Interpolations.Linear},Tuple{Base.OneTo{Int64}}},Interpolations.BSpline{Interpolations.Linear},Tuple{StepRangeLen{Float64,Base.TwicePrecision{Float64},Base.TwicePrecision{Float64}}}},Interpolations.BSpline{Interpolations.Linear},Interpolations.Throw{Nothing}}},Float64},LinearAlgebra.UniformScaling{Bool},Nothing,Nothing,Nothing,Nothing,Nothing,Nothing,Nothing,Nothing},Float64,Nothing},OrdinaryDiffEq.Rodas5ConstantCache{Float64,Float64}}},OrdinaryDiffEq.AutoSwitch{OrdinaryDiffEq.Vern9,OrdinaryDiffEq.Rodas5{0,false,DiffEqBase.LinSolveFactorize{typeof(LinearAlgebra.lu!)},DataType},Rational{Int64},Float64}}}}},getfield(PerlaTonettiWaugh, Symbol(\"#E#126\")){Float64,getfield(PerlaTonettiWaugh, Symbol(\"#E_hat#123\")){Interpolations.Extrapolation{Float64,1,Interpolations.ScaledInterpolation{Float64,1,Interpolations.BSplineInterpolation{Float64,1,Array{Float64,1},Interpolations.BSpline{Interpolations.Linear},Tuple{Base.OneTo{Int64}}},Interpolations.BSpline{Interpolations.Linear},Tuple{StepRangeLen{Float64,Base.TwicePrecision{Float64},Base.TwicePrecision{Float64}}}},Interpolations.BSpline{Interpolations.Linear},Interpolations.Throw{Nothing}}},Float64},getfield(PerlaTonettiWaugh, Symbol(\"#static_equilibrium#80\")){Float64,Int64,Float64,Float64,Float64,Float64,Float64},Float64,DataFrames.DataFrame,Float64,Float64,Float64,Float64,Float64,LinearAlgebra.Tridiagonal{Float64,Array{Float64,1}},LinearAlgebra.Tridiagonal{Float64,Array{Float64,1}},Array{Float64,1},Float64,Float64}},DiffEqBase.DAEFunction{true,typeof(f!),Nothing,Nothing,Nothing,Nothing,Nothing,Nothing,Nothing,Nothing},Nothing,BitArray{1}}, ::Sundials.IDA{:Dense}, ::Array{Any,1}, ::Array{Any,1}, ::Array{Any,1}) at solve.jl:532\n",
      "└ @ Sundials /home/arnavsood/.julia/packages/Sundials/AL2Km/src/common_interface/solve.jl:532\n"
     ]
    },
    {
     "name": "stdout",
     "output_type": "stream",
     "text": [
      "1955.585730 seconds (3.03 G allocations: 4.019 TiB, 25.62% gc time)\n"
     ]
    },
    {
     "data": {
      "text/plain": [
       "((z_max = 5, z = [0.0, 0.000250627, 0.000501253, 0.00075188, 0.00100251, 0.00125313, 0.00150376, 0.00175439, 0.00200501, 0.00225564  …  4.63636, 4.67677, 4.71717, 4.75758, 4.79798, 4.83838, 4.87879, 4.91919, 4.9596, 5.0], Δ_E = 1.0e-6, ode_solve_algorithm = Sundials.CVODE_BDF{:Newton,:Dense}(0, 0, 0, 0, false, 10, 5, 7, 3, 10), T = 40.0, t = 0.0:4.444444444444445:40.0, g = [0.0306157, 0.0406157, 0.0506157, 0.0606157, 0.0706157, 0.0806157, 0.0906157, 0.100616, 0.110616, 0.120616], E_node_count = 15, entry_residuals_nodes_count = 15, transition_x0 = [0.00882396, -0.00544158, -0.0113935, -0.022497, 0.0230127, -0.0254746, -0.00204344, 0.00417766, -0.017211, -0.00707004, -0.00247299, 0.0151258, 2.00229e-6, 5.01207e-6], fifty_node_iv = [-1.00157, -0.848157, -0.821211, -0.821211, -0.821211, -0.748497, -0.633587, -0.527711, -0.498239, -0.498239  …  -0.0713765, -0.0343871, -0.0334064, -0.0334064, -0.029373, -0.029373, -0.029373, -0.029373, -0.029373, -0.029373], continuation_x0 = [0.0, 0.0, 0.0, 0.0, 0.0, 0.0, 0.0, 0.0, 0.0, 0.0, 0.0, 0.0, 0.0, 0.0], transition_lb = [-1.0, -1.0, -1.0, -1.0, -1.0, -1.0, -1.0, -1.0, -1.0, -1.0, -1.0, -1.0, -1.0, -1.0], transition_ub = [0.0, 0.0, 0.0, 0.0, 0.0, 0.0, 0.0, 0.0, 0.0, 0.0, 0.0, 0.0, 0.0, 0.0], transition_iterations = 1000, transition_penalty_coefficient = 1.0, tstops = nothing, params_T = (ρ = 0.02, σ = 3.0, N = 10, θ = 3.1878, γ = 1.0, κ = 0.006, ζ = 1.0, η = 0.0, Theta = 1, χ = 0.35714285714285715, υ = 0.001, μ = 0.0, δ = 0.001, d_0 = 2.8, d_T = 2.5019, d = 4.0), stationary_sol_T = (F = getfield(PerlaTonettiWaugh, Symbol(\"#F#48\")){Float64}(3.1878), r = 0.040694139121222626, ν = 1.066278215876082, a = 16.560053527145584, b = 0.17017807679666527, S = 0.06277589565621348, L_tilde = 0.22466351473096008, z_bar = 3.2025448051393925, w = 1.067514935046464, x = 1.0, π_min = 0.037798084938026874, g = 0.019694139121222625, z_hat = 1.5936785165699487, Ω = 2.8877437656152627, v_tilde = [1.8, 1.7991, 1.7982, 1.7973, 1.7964, 1.7955, 1.7946, 1.7937, 1.79281, 1.79191  …  0.977772, 0.977792, 0.97781, 0.977827, 0.977843, 0.977857, 0.97787, 0.977882, 0.977894, 0.97786], y = 2.483049833133399, c = 2.483049833133399, λ_ii = 0.7556417956598278, U_bar = getfield(PerlaTonettiWaugh, Symbol(\"##46#47\")){Float64,Float64,Float64,Float64}(0.019694139121222625, 0.02, 1.0, 2.483049833133399)), Ω_0 = 2.9542367066996307), (solution = (results = 24×15 DataFrames.DataFrame. Omitted printing of 9 columns\n",
       "│ Row │ t        │ g         │ z_hat   │ Ω       │ E            │ v_0     │\n",
       "│     │ \u001b[90mFloat64\u001b[39m  │ \u001b[90mFloat64\u001b[39m   │ \u001b[90mFloat64\u001b[39m │ \u001b[90mFloat64\u001b[39m │ \u001b[90mFloat64\u001b[39m      │ \u001b[90mFloat64\u001b[39m │\n",
       "├─────┼──────────┼───────────┼─────────┼─────────┼──────────────┼─────────┤\n",
       "│ 1   │ 0.0      │ 0.0288401 │ 1.57666 │ 2.95424 │ -0.0147373   │ 1.87629 │\n",
       "│ 2   │ 0.244909 │ 0.0282214 │ 1.57869 │ 2.9434  │ -0.0132792   │ 1.86448 │\n",
       "│ 3   │ 1.07827  │ 0.025945  │ 1.58649 │ 2.9146  │ -0.00831774  │ 1.831   │\n",
       "│ 4   │ 1.49495  │ 0.0245741 │ 1.58991 │ 2.90481 │ -0.005837    │ 1.81814 │\n",
       "│ 5   │ 1.91164  │ 0.0229993 │ 1.59263 │ 2.89804 │ -0.00335625  │ 1.80828 │\n",
       "│ 6   │ 2.11998  │ 0.0221191 │ 1.59361 │ 2.89578 │ -0.00211588  │ 1.80439 │\n",
       "│ 7   │ 2.32832  │ 0.0211836 │ 1.59433 │ 2.89428 │ -0.000875513 │ 1.8015  │\n",
       "│ 8   │ 2.53666  │ 0.0201875 │ 1.59486 │ 2.89352 │ 0.000364857  │ 1.79968 │\n",
       "│ 9   │ 2.745    │ 0.0195458 │ 1.5951  │ 2.89346 │ 0.00113227   │ 1.79905 │\n",
       "│ 10  │ 3.05     │ 0.0195594 │ 1.59506 │ 2.89357 │ 0.00110659   │ 1.79923 │\n",
       "⋮\n",
       "│ 14  │ 19.52    │ 0.0196874 │ 1.59391 │ 2.88873 │ 0.000999171  │ 1.8     │\n",
       "│ 15  │ 29.76    │ 0.0197052 │ 1.5933  │ 2.88604 │ 0.00100539   │ 1.8     │\n",
       "│ 16  │ 34.88    │ 0.0196941 │ 1.59368 │ 2.88775 │ 0.00100004   │ 1.8     │\n",
       "│ 17  │ 37.44    │ 0.0196941 │ 1.59368 │ 2.88775 │ 0.00100008   │ 1.8     │\n",
       "│ 18  │ 38.72    │ 0.0196941 │ 1.59368 │ 2.88775 │ 0.00100004   │ 1.8     │\n",
       "│ 19  │ 39.36    │ 0.0196941 │ 1.59368 │ 2.88775 │ 0.00100002   │ 1.8     │\n",
       "│ 20  │ 39.68    │ 0.0196941 │ 1.59368 │ 2.88775 │ 0.00100001   │ 1.8     │\n",
       "│ 21  │ 39.84    │ 0.0196941 │ 1.59368 │ 2.88775 │ 0.001        │ 1.8     │\n",
       "│ 22  │ 39.92    │ 0.0196941 │ 1.59368 │ 2.88775 │ 0.001        │ 1.8     │\n",
       "│ 23  │ 39.96    │ 0.0196941 │ 1.59368 │ 2.88775 │ 0.001        │ 1.8     │\n",
       "│ 24  │ 40.0     │ 0.0196941 │ 1.59368 │ 2.88774 │ 0.001        │ 1.8     │, sol = retcode: Success\n",
       "Interpolation: 3rd order Hermite\n",
       "t: [40.0, 39.96, 39.92, 39.84, 39.68, 39.36, 38.72, 37.44, 34.88, 29.76  …  3.05, 2.745, 2.53666, 2.32832, 2.11998, 1.91164, 1.49495, 1.07827, 0.244909, 0.0]\n",
       "u: Array{Float64,1}[[1.8, 1.7991, 1.7982, 1.7973, 1.7964, 1.7955, 1.7946, 1.7937, 1.79281, 1.79191  …  0.97781, 0.977827, 0.977843, 0.977857, 0.97787, 0.977882, 0.977894, 0.97786, 0.0196941, 1.59368], [1.8, 1.7991, 1.7982, 1.7973, 1.7964, 1.7955, 1.7946, 1.7937, 1.79281, 1.79191  …  0.97781, 0.977827, 0.977843, 0.977857, 0.97787, 0.977882, 0.977894, 0.97786, 0.0196941, 1.59368], [1.8, 1.7991, 1.7982, 1.7973, 1.7964, 1.7955, 1.7946, 1.7937, 1.79281, 1.79191  …  0.97781, 0.977827, 0.977843, 0.977857, 0.97787, 0.977882, 0.977894, 0.97786, 0.0196941, 1.59368], [1.8, 1.7991, 1.7982, 1.7973, 1.7964, 1.7955, 1.7946, 1.7937, 1.79281, 1.79191  …  0.97781, 0.977827, 0.977843, 0.977857, 0.97787, 0.977882, 0.977894, 0.97786, 0.0196941, 1.59368], [1.8, 1.7991, 1.7982, 1.7973, 1.7964, 1.7955, 1.7946, 1.7937, 1.79281, 1.79191  …  0.97781, 0.977827, 0.977843, 0.977857, 0.97787, 0.977882, 0.977894, 0.97786, 0.0196941, 1.59368], [1.8, 1.7991, 1.7982, 1.7973, 1.7964, 1.7955, 1.7946, 1.7937, 1.79281, 1.79191  …  0.97781, 0.977827, 0.977843, 0.977857, 0.97787, 0.977882, 0.977894, 0.97786, 0.0196941, 1.59368], [1.8, 1.7991, 1.7982, 1.7973, 1.7964, 1.7955, 1.7946, 1.7937, 1.79281, 1.79191  …  0.97781, 0.977827, 0.977843, 0.977857, 0.97787, 0.977882, 0.977894, 0.97786, 0.0196941, 1.59368], [1.8, 1.7991, 1.7982, 1.7973, 1.7964, 1.7955, 1.7946, 1.7937, 1.79281, 1.79191  …  0.97781, 0.977827, 0.977843, 0.977857, 0.97787, 0.977882, 0.977894, 0.97786, 0.0196941, 1.59368], [1.8, 1.7991, 1.7982, 1.7973, 1.7964, 1.7955, 1.7946, 1.7937, 1.79281, 1.79191  …  0.97781, 0.977827, 0.977843, 0.977857, 0.97787, 0.977882, 0.977894, 0.97786, 0.0196941, 1.59368], [1.8, 1.7991, 1.7982, 1.7973, 1.7964, 1.7955, 1.7946, 1.7937, 1.79281, 1.79191  …  0.977797, 0.977813, 0.977829, 0.977843, 0.977856, 0.977869, 0.97788, 0.977846, 0.0197052, 1.5933]  …  [1.79923, 1.79833, 1.79743, 1.79653, 1.79563, 1.79473, 1.79383, 1.79293, 1.79204, 1.79114  …  0.97776, 0.977777, 0.977793, 0.977807, 0.97782, 0.977832, 0.977844, 0.97781, 0.0195594, 1.59506], [1.79905, 1.79815, 1.79725, 1.79635, 1.79545, 1.79455, 1.79365, 1.79275, 1.79186, 1.79096  …  0.977728, 0.977745, 0.977761, 0.977775, 0.977788, 0.9778, 0.977812, 0.977778, 0.0195458, 1.5951], [1.79968, 1.79878, 1.79788, 1.79698, 1.79608, 1.79518, 1.79428, 1.79339, 1.79249, 1.79159  …  0.977858, 0.977875, 0.97789, 0.977905, 0.977918, 0.97793, 0.977941, 0.977907, 0.0201875, 1.59486], [1.8015, 1.80059, 1.79969, 1.79879, 1.79789, 1.79699, 1.79609, 1.79519, 1.7943, 1.7934  …  0.978223, 0.97824, 0.978255, 0.97827, 0.978283, 0.978295, 0.978306, 0.978273, 0.0211836, 1.59433], [1.80439, 1.80348, 1.80258, 1.80168, 1.80077, 1.79987, 1.79897, 1.79807, 1.79717, 1.79628  …  0.978799, 0.978816, 0.978831, 0.978845, 0.978859, 0.978871, 0.978882, 0.978849, 0.0221191, 1.59361], [1.80828, 1.80738, 1.80647, 1.80557, 1.80466, 1.80376, 1.80286, 1.80196, 1.80106, 1.80016  …  0.979569, 0.979586, 0.979602, 0.979616, 0.979629, 0.979642, 0.979653, 0.97962, 0.0229993, 1.59263], [1.81814, 1.81723, 1.81632, 1.81541, 1.8145, 1.81359, 1.81269, 1.81178, 1.81087, 1.80997  …  0.981495, 0.981512, 0.981528, 0.981542, 0.981556, 0.981568, 0.981579, 0.981548, 0.0245741, 1.58991], [1.831, 1.83008, 1.82917, 1.82825, 1.82734, 1.82642, 1.82551, 1.82459, 1.82368, 1.82277  …  0.983971, 0.983988, 0.984003, 0.984018, 0.984031, 0.984044, 0.984055, 0.984026, 0.025945, 1.58649], [1.86448, 1.86355, 1.86262, 1.86168, 1.86075, 1.85982, 1.85889, 1.85796, 1.85703, 1.8561  …  0.990211, 0.990229, 0.990245, 0.99026, 0.990273, 0.990286, 0.990298, 0.990271, 0.0282214, 1.57869], [1.87629, 1.87535, 1.87441, 1.87347, 1.87253, 1.8716, 1.87066, 1.86972, 1.86879, 1.86785  …  0.99237, 0.992387, 0.992404, 0.992419, 0.992432, 0.992445, 0.992457, 0.992431, 0.0288401, 1.57666]], p = (ζ = 1.0, Ω = getfield(PerlaTonettiWaugh, Symbol(\"#Ω#125\")){Float64,OrdinaryDiffEq.ODECompositeSolution{Float64,1,Array{Float64,1},Nothing,Nothing,Array{Float64,1},Array{Array{Float64,1},1},DiffEqBase.ODEProblem{Float64,Tuple{Float64,Float64},false,Nothing,DiffEqBase.ODEFunction{false,getfield(PerlaTonettiWaugh, Symbol(\"#Ω_derivative#124\")){getfield(PerlaTonettiWaugh, Symbol(\"#E_hat#123\")){Interpolations.Extrapolation{Float64,1,Interpolations.ScaledInterpolation{Float64,1,Interpolations.BSplineInterpolation{Float64,1,Array{Float64,1},Interpolations.BSpline{Interpolations.Linear},Tuple{Base.OneTo{Int64}}},Interpolations.BSpline{Interpolations.Linear},Tuple{StepRangeLen{Float64,Base.TwicePrecision{Float64},Base.TwicePrecision{Float64}}}},Interpolations.BSpline{Interpolations.Linear},Interpolations.Throw{Nothing}}},Float64},LinearAlgebra.UniformScaling{Bool},Nothing,Nothing,Nothing,Nothing,Nothing,Nothing,Nothing,Nothing},Nothing,DiffEqBase.StandardODEProblem},OrdinaryDiffEq.CompositeAlgorithm{Tuple{OrdinaryDiffEq.Vern9,OrdinaryDiffEq.Rodas5{0,false,DiffEqBase.LinSolveFactorize{typeof(LinearAlgebra.lu!)},DataType}},OrdinaryDiffEq.AutoSwitch{OrdinaryDiffEq.Vern9,OrdinaryDiffEq.Rodas5{0,false,DiffEqBase.LinSolveFactorize{typeof(LinearAlgebra.lu!)},DataType},Rational{Int64},Float64}},OrdinaryDiffEq.CompositeInterpolationData{DiffEqBase.ODEFunction{false,getfield(PerlaTonettiWaugh, Symbol(\"#Ω_derivative#124\")){getfield(PerlaTonettiWaugh, Symbol(\"#E_hat#123\")){Interpolations.Extrapolation{Float64,1,Interpolations.ScaledInterpolation{Float64,1,Interpolations.BSplineInterpolation{Float64,1,Array{Float64,1},Interpolations.BSpline{Interpolations.Linear},Tuple{Base.OneTo{Int64}}},Interpolations.BSpline{Interpolations.Linear},Tuple{StepRangeLen{Float64,Base.TwicePrecision{Float64},Base.TwicePrecision{Float64}}}},Interpolations.BSpline{Interpolations.Linear},Interpolations.Throw{Nothing}}},Float64},LinearAlgebra.UniformScaling{Bool},Nothing,Nothing,Nothing,Nothing,Nothing,Nothing,Nothing,Nothing},Array{Float64,1},Array{Float64,1},Array{Array{Float64,1},1},OrdinaryDiffEq.CompositeCache{Tuple{OrdinaryDiffEq.Vern9ConstantCache{Float64,Float64},OrdinaryDiffEq.Rosenbrock5ConstantCache{DiffEqDiffTools.TimeDerivativeWrapper{DiffEqBase.ODEFunction{false,getfield(PerlaTonettiWaugh, Symbol(\"#Ω_derivative#124\")){getfield(PerlaTonettiWaugh, Symbol(\"#E_hat#123\")){Interpolations.Extrapolation{Float64,1,Interpolations.ScaledInterpolation{Float64,1,Interpolations.BSplineInterpolation{Float64,1,Array{Float64,1},Interpolations.BSpline{Interpolations.Linear},Tuple{Base.OneTo{Int64}}},Interpolations.BSpline{Interpolations.Linear},Tuple{StepRangeLen{Float64,Base.TwicePrecision{Float64},Base.TwicePrecision{Float64}}}},Interpolations.BSpline{Interpolations.Linear},Interpolations.Throw{Nothing}}},Float64},LinearAlgebra.UniformScaling{Bool},Nothing,Nothing,Nothing,Nothing,Nothing,Nothing,Nothing,Nothing},Float64,Nothing},DiffEqDiffTools.UDerivativeWrapper{DiffEqBase.ODEFunction{false,getfield(PerlaTonettiWaugh, Symbol(\"#Ω_derivative#124\")){getfield(PerlaTonettiWaugh, Symbol(\"#E_hat#123\")){Interpolations.Extrapolation{Float64,1,Interpolations.ScaledInterpolation{Float64,1,Interpolations.BSplineInterpolation{Float64,1,Array{Float64,1},Interpolations.BSpline{Interpolations.Linear},Tuple{Base.OneTo{Int64}}},Interpolations.BSpline{Interpolations.Linear},Tuple{StepRangeLen{Float64,Base.TwicePrecision{Float64},Base.TwicePrecision{Float64}}}},Interpolations.BSpline{Interpolations.Linear},Interpolations.Throw{Nothing}}},Float64},LinearAlgebra.UniformScaling{Bool},Nothing,Nothing,Nothing,Nothing,Nothing,Nothing,Nothing,Nothing},Float64,Nothing},OrdinaryDiffEq.Rodas5ConstantCache{Float64,Float64}}},OrdinaryDiffEq.AutoSwitch{OrdinaryDiffEq.Vern9,OrdinaryDiffEq.Rodas5{0,false,DiffEqBase.LinSolveFactorize{typeof(LinearAlgebra.lu!)},DataType},Rational{Int64},Float64}}}}}(40.0, retcode: Success\n",
       "Interpolation: 3rd order Hermite\n",
       "t: [0.0, 0.181627, 1.18134, 2.33785, 2.63453, 3.0561, 3.30998, 5.22595, 8.1201, 10.0162  …  24.8385, 26.8522, 28.1003, 29.3716, 30.2357, 32.0347, 33.1508, 34.7048, 35.7327, 40.0]\n",
       "u: [2.95424, 2.94609, 2.91189, 2.89423, 2.89343, 2.89357, 2.89364, 2.89366, 2.89255, 2.89118  …  2.88752, 2.88658, 2.88626, 2.88606, 2.88608, 2.88685, 2.88745, 2.88775, 2.88775, 2.88775]), E = getfield(PerlaTonettiWaugh, Symbol(\"#E#126\")){Float64,getfield(PerlaTonettiWaugh, Symbol(\"#E_hat#123\")){Interpolations.Extrapolation{Float64,1,Interpolations.ScaledInterpolation{Float64,1,Interpolations.BSplineInterpolation{Float64,1,Array{Float64,1},Interpolations.BSpline{Interpolations.Linear},Tuple{Base.OneTo{Int64}}},Interpolations.BSpline{Interpolations.Linear},Tuple{StepRangeLen{Float64,Base.TwicePrecision{Float64},Base.TwicePrecision{Float64}}}},Interpolations.BSpline{Interpolations.Linear},Interpolations.Throw{Nothing}}},Float64}(0.001, getfield(PerlaTonettiWaugh, Symbol(\"#E_hat#123\")){Interpolations.Extrapolation{Float64,1,Interpolations.ScaledInterpolation{Float64,1,Interpolations.BSplineInterpolation{Float64,1,Array{Float64,1},Interpolations.BSpline{Interpolations.Linear},Tuple{Base.OneTo{Int64}}},Interpolations.BSpline{Interpolations.Linear},Tuple{StepRangeLen{Float64,Base.TwicePrecision{Float64},Base.TwicePrecision{Float64}}}},Interpolations.BSpline{Interpolations.Linear},Interpolations.Throw{Nothing}}}([-0.621691, -0.243382, 0.00704077, 0.00169119, -0.00365839, -0.00692955, -0.00916151, -0.0113935, -0.0155573, -0.0197211, -0.0168083, 0.000257848, 0.017324, 0.0108909, -0.00729186, -0.0254746]), 0.01573729713017832), static_equilibrium = getfield(PerlaTonettiWaugh, Symbol(\"#static_equilibrium#80\")){Float64,Int64,Float64,Float64,Float64,Float64,Float64}(3.0, 10, 3.1878, 4.0, 0.006, 1.0, 0.35714285714285715, Core.Box([0.0, 0.000250627, 0.000501253, 0.00075188, 0.00100251, 0.00125313, 0.00150376, 0.00175439, 0.00200501, 0.00225564  …  4.63636, 4.67677, 4.71717, 4.75758, 4.79798, 4.83838, 4.87879, 4.91919, 4.9596, 5.0]), Core.Box(getfield(PerlaTonettiWaugh, Symbol(\"#S#78\")){Float64,Float64,Float64}(3.1878, 0.001, 0.0)), Core.Box(getfield(PerlaTonettiWaugh, Symbol(\"#L_tilde#79\")){Int64,Float64,Float64,Float64,Float64}(10, 3.1878, 0.006, 1.0, 0.35714285714285715))), T = 40.0, results = 24×7 DataFrames.DataFrame. Omitted printing of 1 columns\n",
       "│ Row │ t        │ g         │ z_hat   │ Ω       │ E            │ v_0     │\n",
       "│     │ \u001b[90mFloat64\u001b[39m  │ \u001b[90mFloat64\u001b[39m   │ \u001b[90mFloat64\u001b[39m │ \u001b[90mFloat64\u001b[39m │ \u001b[90mFloat64\u001b[39m      │ \u001b[90mFloat64\u001b[39m │\n",
       "├─────┼──────────┼───────────┼─────────┼─────────┼──────────────┼─────────┤\n",
       "│ 1   │ 0.0      │ 0.0288401 │ 1.57666 │ 2.95424 │ -0.0147373   │ 1.87629 │\n",
       "│ 2   │ 0.244909 │ 0.0282214 │ 1.57869 │ 2.9434  │ -0.0132792   │ 1.86448 │\n",
       "│ 3   │ 1.07827  │ 0.025945  │ 1.58649 │ 2.9146  │ -0.00831774  │ 1.831   │\n",
       "│ 4   │ 1.49495  │ 0.0245741 │ 1.58991 │ 2.90481 │ -0.005837    │ 1.81814 │\n",
       "│ 5   │ 1.91164  │ 0.0229993 │ 1.59263 │ 2.89804 │ -0.00335625  │ 1.80828 │\n",
       "│ 6   │ 2.11998  │ 0.0221191 │ 1.59361 │ 2.89578 │ -0.00211588  │ 1.80439 │\n",
       "│ 7   │ 2.32832  │ 0.0211836 │ 1.59433 │ 2.89428 │ -0.000875513 │ 1.8015  │\n",
       "│ 8   │ 2.53666  │ 0.0201875 │ 1.59486 │ 2.89352 │ 0.000364857  │ 1.79968 │\n",
       "│ 9   │ 2.745    │ 0.0195458 │ 1.5951  │ 2.89346 │ 0.00113227   │ 1.79905 │\n",
       "│ 10  │ 3.05     │ 0.0195594 │ 1.59506 │ 2.89357 │ 0.00110659   │ 1.79923 │\n",
       "⋮\n",
       "│ 14  │ 19.52    │ 0.0196874 │ 1.59391 │ 2.88873 │ 0.000999171  │ 1.8     │\n",
       "│ 15  │ 29.76    │ 0.0197052 │ 1.5933  │ 2.88604 │ 0.00100539   │ 1.8     │\n",
       "│ 16  │ 34.88    │ 0.0196941 │ 1.59368 │ 2.88775 │ 0.00100004   │ 1.8     │\n",
       "│ 17  │ 37.44    │ 0.0196941 │ 1.59368 │ 2.88775 │ 0.00100008   │ 1.8     │\n",
       "│ 18  │ 38.72    │ 0.0196941 │ 1.59368 │ 2.88775 │ 0.00100004   │ 1.8     │\n",
       "│ 19  │ 39.36    │ 0.0196941 │ 1.59368 │ 2.88775 │ 0.00100002   │ 1.8     │\n",
       "│ 20  │ 39.68    │ 0.0196941 │ 1.59368 │ 2.88775 │ 0.00100001   │ 1.8     │\n",
       "│ 21  │ 39.84    │ 0.0196941 │ 1.59368 │ 2.88775 │ 0.001        │ 1.8     │\n",
       "│ 22  │ 39.92    │ 0.0196941 │ 1.59368 │ 2.88775 │ 0.001        │ 1.8     │\n",
       "│ 23  │ 39.96    │ 0.0196941 │ 1.59368 │ 2.88775 │ 0.001        │ 1.8     │\n",
       "│ 24  │ 40.0     │ 0.0196941 │ 1.59368 │ 2.88774 │ 0.001        │ 1.8     │, ρ = 0.02, δ = 0.001, σ = 3.0, μ = 0.0, υ = 0.001, L_1 = [-2.0 0.0 … 0.0 0.0; -3990.0 3990.0 … 0.0 0.0; … ; 0.0 0.0 … 24.75 0.0; 0.0 0.0 … -24.75 24.75], L_2 = [-1.59121e7 1.59201e7 … 0.0 0.0; 1.59201e7 -3.18402e7 … 0.0 0.0; … ; 0.0 0.0 … -1225.13 612.562; 0.0 0.0 … 612.562 -662.062], ω = [0.000399474, 0.00079871, 0.000798472, 0.000798234, 0.000797997, 0.000797759, 0.000797522, 0.000797284, 0.000797047, 0.00079681  …  0.000522666, 0.000498175, 0.000474831, 0.000452581, 0.000431374, 0.000411161, 0.000391894, 0.000373531, 0.000356028, 0.000169672], κ = 0.006, d = 4.0), static_equilibrium = getfield(PerlaTonettiWaugh, Symbol(\"#static_equilibrium#80\")){Float64,Int64,Float64,Float64,Float64,Float64,Float64}(3.0, 10, 3.1878, 4.0, 0.006, 1.0, 0.35714285714285715, Core.Box([0.0, 0.000250627, 0.000501253, 0.00075188, 0.00100251, 0.00125313, 0.00150376, 0.00175439, 0.00200501, 0.00225564  …  4.63636, 4.67677, 4.71717, 4.75758, 4.79798, 4.83838, 4.87879, 4.91919, 4.9596, 5.0]), Core.Box(getfield(PerlaTonettiWaugh, Symbol(\"#S#78\")){Float64,Float64,Float64}(3.1878, 0.001, 0.0)), Core.Box(getfield(PerlaTonettiWaugh, Symbol(\"#L_tilde#79\")){Int64,Float64,Float64,Float64,Float64}(10, 3.1878, 0.006, 1.0, 0.35714285714285715)))), E_nodes = [0.00882396, -0.00544158, -0.0113935, -0.022497, 0.0230127, -0.0254746, -0.00204344, 0.00417766, -0.017211, -0.00707004, -0.00247299, 0.0151258, 2.00229e-6, 5.01207e-6], solobj =  * Results of Optimization Algorithm\n",
       " * Solution: [0.008823960597091321,-0.005441580263879739,-0.011393466274511497,-0.022497010966110204,0.023012707862103517,-0.025474600525569078,-0.002043440221741783,0.004177659628794805,-0.01721096545878855,-0.007070040340805936,-0.002472992134476545,0.015125757802188434,2.0022944895308517e-6,5.0120656943388895e-6]\n",
       " * f(x) at Optimum: 0.000000\n",
       " * Convergence: true\n",
       " * Exit Message: Success: Objective is sufficiently small\n",
       " * Exit Flag: 0\n",
       " * Function Calls: 47\n",
       " * Solver Runs: 1\n",
       " * Point Evaluations: 47\n",
       "))"
      ]
     },
     "execution_count": 12,
     "metadata": {},
     "output_type": "execute_result"
    }
   ],
   "source": [
    "@time results, settings = solve_continuation(d_0, d_T, settings = settings, params = params_0)"
   ]
  },
  {
   "cell_type": "code",
   "execution_count": 13,
   "metadata": {},
   "outputs": [],
   "source": [
    "solved = result.solution;\n",
    "E_nodes = result.E_nodes;\n",
    "solved = solved.results;"
   ]
  },
  {
   "cell_type": "code",
   "execution_count": null,
   "metadata": {},
   "outputs": [],
   "source": [
    "plot_Ω = plot(solved.t, solved.Ω, label = \"Omega\", lw = 3)\n",
    "plot_residual = plot(solved.t, solved.entry_residual, label = \"entry_residual\", lw = 3)\n",
    "plot(plot_Ω, plot_residual, layout = (2,1))"
   ]
  },
  {
   "cell_type": "code",
   "execution_count": null,
   "metadata": {},
   "outputs": [],
   "source": []
  }
 ],
 "metadata": {
  "kernelspec": {
   "display_name": "Julia 1.0.2",
   "language": "julia",
   "name": "julia-1.0"
  },
  "language_info": {
   "file_extension": ".jl",
   "mimetype": "application/julia",
   "name": "julia",
   "version": "1.0.2"
  }
 },
 "nbformat": 4,
 "nbformat_minor": 2
}
