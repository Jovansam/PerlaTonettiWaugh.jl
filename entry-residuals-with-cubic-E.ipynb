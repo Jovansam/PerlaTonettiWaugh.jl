{
 "cells": [
  {
   "cell_type": "code",
   "execution_count": null,
   "metadata": {},
   "outputs": [],
   "source": [
    "using PerlaTonettiWaugh, LinearAlgebra, Plots, BenchmarkTools, Interpolations"
   ]
  },
  {
   "cell_type": "markdown",
   "metadata": {},
   "source": [
    "Set up parameters and find the corresponding stationary solution:"
   ]
  },
  {
   "cell_type": "code",
   "execution_count": null,
   "metadata": {},
   "outputs": [],
   "source": [
    "z_min = 0.0 \n",
    "z_max = 5.0\n",
    "M = 1000\n",
    "z_grid = range(z_min, stop = z_max, length = M) # Since we only care about the grid. \n",
    "\n",
    "# Define common objects. \n",
    "d_0 = 5\n",
    "d_T = 2.3701\n",
    "params = (ρ = 0.02, σ = 4.2508, N = 10, θ = 5.1269, γ = 1.00, κ = 0.013, ζ = 1, η = 0, Theta = 1, χ = 1/(2.1868), υ = 0.0593, μ = 0, δ = 0.053) # Baselines per Jesse. \n",
    "\n",
    "# solve for stationary solution at t = 0\n",
    "params_0 = merge(params, (d = d_0,)) # parameters to be used at t = 0\n",
    "params_T = merge(params, (d = d_T,)) # parameters to be used at t = T\n",
    "\n",
    "stationary_sol_0 = stationary_numerical(params_0, z_grid) # solution at t = 0\n",
    "stationary_sol = stationary_numerical(params_T, z_grid) # solution at t = T\n",
    "\n",
    "Ω_0 = stationary_sol_0.Ω\n",
    "Ω_T = stationary_sol.Ω\n",
    "\n",
    "println(\"g = $(stationary_sol.g), z_hat = $(stationary_sol.z_hat), Ω = $(stationary_sol.Ω)\")"
   ]
  },
  {
   "cell_type": "markdown",
   "metadata": {},
   "source": [
    "Choose `T` and `Ω_vec0` with its corresponding nodes `Ω_nodes`:"
   ]
  },
  {
   "cell_type": "code",
   "execution_count": null,
   "metadata": {},
   "outputs": [],
   "source": [
    "# control parameter(s) for Ω and E\n",
    "T = 25.0\n",
    "c_1 = 0.0\n",
    "c_2 = 0.0"
   ]
  },
  {
   "cell_type": "code",
   "execution_count": null,
   "metadata": {},
   "outputs": [],
   "source": [
    "# quadratic E\n",
    "δ = params.δ\n",
    "a = (c_1*T^3 + 3*T*δ - 6*log(Ω_0) + 6*log(Ω_T)) / (3*T)\n",
    "b = 2*(2*c_1*T^3 - 3*log(Ω_0) + 3*log(Ω_T)) / (3*T*T)\n",
    "\n",
    "Ω = t -> exp( t*((t-T)^2)*(4*c_1+3*c_2*(t+2*T)) /12 ) * Ω_0 * (Ω_0/Ω_T)^(t*(t-2.0*T)/(T*T))\n",
    "E = t -> (12*t*log(Ω_0/Ω_T) + T*( (t-T)*T*(6*t*(c_1+c_2*t) - 2*(c_1-3*c_2*t)*T - 3*c_2*T*T)  + 12*log(Ω_T/Ω_0) ) ) / (6*T*T) + δ"
   ]
  },
  {
   "cell_type": "code",
   "execution_count": null,
   "metadata": {},
   "outputs": [],
   "source": [
    "# check if Ω and E make sense\n",
    "@assert Ω(0) ≈ Ω_0\n",
    "@assert Ω(T) ≈ Ω_T\n",
    "@assert E(T) ≈ δ\n",
    "\n",
    "settings = (z = z_grid, tstops = 0:1e-3:T, Δ_E = 1e-06)\n",
    "entry_residuals_nodes = 1e-1:1e-1:(T-1e-1)"
   ]
  },
  {
   "cell_type": "markdown",
   "metadata": {
    "scrolled": true
   },
   "source": [
    "Return the entry residuals:"
   ]
  },
  {
   "cell_type": "code",
   "execution_count": null,
   "metadata": {},
   "outputs": [],
   "source": [
    "# solve the dynamics!\n",
    "@time solved_tuple = solve_dynamics(params_T, stationary_sol, settings, T, Ω, E)\n",
    "solved = solved_tuple.results\n",
    "v_t0 = solved_tuple.sol.u[1][1:M]\n",
    "v0 = solved[:v_0]\n",
    "\n",
    "# save v0 and v_hat_t0\n",
    "v_hat_t0 = map(z -> exp((params.σ-1)*z), z_grid) .* v_t0;"
   ]
  },
  {
   "cell_type": "markdown",
   "metadata": {},
   "source": [
    "## Plots for Ω and `entry_residuals`"
   ]
  },
  {
   "cell_type": "code",
   "execution_count": null,
   "metadata": {},
   "outputs": [],
   "source": [
    "plot_Ω = plot(solved.t, Ω.(solved.t), label = \"Omega\", lw = 3)\n",
    "plot_residual = plot(solved.t, solved.entry_residual, label = \"entry_residual\", lw = 3)\n",
    "plot(plot_Ω, plot_residual, layout = (2,1))"
   ]
  },
  {
   "cell_type": "code",
   "execution_count": null,
   "metadata": {},
   "outputs": [],
   "source": [
    "norm(solved.entry_residual)"
   ]
  },
  {
   "cell_type": "markdown",
   "metadata": {},
   "source": [
    "## Primary Plots"
   ]
  },
  {
   "cell_type": "code",
   "execution_count": null,
   "metadata": {},
   "outputs": [],
   "source": [
    "plot1 = plot(solved.t, solved.g, label = \"g\", lw = 3)\n",
    "plot2 = plot(solved.t, solved.z_hat, label = \"z_hat\", lw = 3)\n",
    "plot3 = plot(solved.t, solved.S, label = \"S\", lw = 3)\n",
    "plot4 = plot(solved.t, solved.entry_residual, label = \"entry_residual\", lw = 3)\n",
    "plot(plot1, plot2, plot3, plot4, layout=(2,2))"
   ]
  },
  {
   "cell_type": "markdown",
   "metadata": {},
   "source": [
    "## Static Equations"
   ]
  },
  {
   "cell_type": "code",
   "execution_count": null,
   "metadata": {},
   "outputs": [],
   "source": [
    "plot1 = plot(solved.t, solved.L_tilde, label = \"L_tilde\", lw = 3)\n",
    "plot2 = plot(solved.t, solved.z_bar, label = \"z_bar\", lw = 3)\n",
    "plot3 = plot(solved.t, solved.π_min, label = \"pi_min\", lw = 3)\n",
    "plot4 = plot(solved.t, solved.λ_ii, label = \"lambda_ii\", lw = 3)\n",
    "plot5 = plot(solved.t, solved.c, label = \"c\", lw = 3)\n",
    "plot6 = plot(solved.t, solved.E, label = \"E\", lw = 3)\n",
    "plot7 = plot(z_grid, v_hat_t0, label = \"v_hat at t = 0\", lw = 3)\n",
    "plot(plot1, plot2, plot3, plot4, plot5, plot6, layout=(3,2))"
   ]
  },
  {
   "cell_type": "code",
   "execution_count": null,
   "metadata": {},
   "outputs": [],
   "source": [
    "# Can examine the returned data with the Voyager and/or Vegalite\n",
    "using DataVoyager, VegaLite\n",
    "solved |> Voyager()\n",
    "#solved |> @vlplot(:line, x = :t, y = :g, width=400, height=400)"
   ]
  }
 ],
 "metadata": {
  "kernelspec": {
   "display_name": "Julia 1.0.0",
   "language": "julia",
   "name": "julia-1.0"
  },
  "language_info": {
   "file_extension": ".jl",
   "mimetype": "application/julia",
   "name": "julia",
   "version": "1.0.0"
  }
 },
 "nbformat": 4,
 "nbformat_minor": 2
}
