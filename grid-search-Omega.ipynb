{
 "cells": [
  {
   "cell_type": "code",
   "execution_count": null,
   "metadata": {},
   "outputs": [],
   "source": [
    "using PerlaTonettiWaugh, LinearAlgebra, Plots, BenchmarkTools, Interpolations, Roots, Test, Base.Iterators"
   ]
  },
  {
   "cell_type": "markdown",
   "metadata": {},
   "source": [
    "Set up parameters and find the corresponding stationary solution:"
   ]
  },
  {
   "cell_type": "code",
   "execution_count": null,
   "metadata": {},
   "outputs": [],
   "source": [
    "z_min = 0.0 \n",
    "z_max = 5.0\n",
    "M = 1000\n",
    "z_grid = range(z_min, stop = z_max, length = M) # Since we only care about the grid. \n",
    "\n",
    "# Define common objects. \n",
    "d_0 = 5\n",
    "d_T = 2.3701\n",
    "params = (ρ = 0.02, σ = 4.2508, N = 10, θ = 5.1269, γ = 1.00, κ = 0.013, ζ = 1, η = 0, Theta = 1, χ = 1/(2.1868), υ = 0.0593, μ = 0, δ = 0.053) # Baselines per Jesse. \n",
    "\n",
    "# solve for stationary solution at t = 0\n",
    "params_0 = merge(params, (d = d_0,)) # parameters to be used at t = 0\n",
    "params_T = merge(params, (d = d_T,)) # parameters to be used at t = T\n",
    "\n",
    "stationary_sol_0 = stationary_numerical(params_0, z_grid) # solution at t = 0\n",
    "stationary_sol = stationary_numerical(params_T, z_grid) # solution at t = T\n",
    "\n",
    "Ω_0 = stationary_sol_0.Ω\n",
    "Ω_T = stationary_sol.Ω\n",
    "settings = (z = z_grid, tstops = nothing, Δ_E = 1e-06)\n",
    "\n",
    "println(\"g = $(stationary_sol.g), z_hat = $(stationary_sol.z_hat), Ω = $(stationary_sol.Ω)\")"
   ]
  },
  {
   "cell_type": "markdown",
   "metadata": {
    "scrolled": true
   },
   "source": [
    "Define the objective function:"
   ]
  },
  {
   "cell_type": "code",
   "execution_count": null,
   "metadata": {},
   "outputs": [],
   "source": [
    "function solve_with_candidate(candidate)\n",
    "    candidate = [candidate...] # if candidate is a tuple, convert it to an array\n",
    "    T = candidate[end]\n",
    "    \n",
    "    \n",
    "    # construct Ω and E\n",
    "    Ω = PolynomialΩ(candidate, Ω_0, Ω_T, params.δ)\n",
    "    E = Ω.E\n",
    "\n",
    "    # check if E is increasing in the intervals (if not, it means it is malfunctioning i.e. return Inf)\n",
    "    if (!is_positive_in_interval(Ω.E_derivative, 0.0, T)) throw(\"E is not increasing in [0,T].\") end\n",
    "\n",
    "    # solve the dynamics and get the resulting entry_residual vector; if solution is not valid, return Inf\n",
    "    return solve_dynamics(params_T, stationary_sol, settings, T, Ω, E)\n",
    "end\n",
    "\n",
    "function evaluate_candidate(candidate)\n",
    "    candidate = [candidate...] # if candidate is a tuple, convert it to an array\n",
    "    T = candidate[end]\n",
    "    \n",
    "    # construct Ω and E\n",
    "    Ω = PolynomialΩ(candidate, Ω_0, Ω_T, params.δ)\n",
    "    E = Ω.E\n",
    "\n",
    "    # check if E is increasing in the intervals (if not, it means it is malfunctioning i.e. return Inf)\n",
    "    if (!is_positive_in_interval(Ω.E_derivative, 0.0, T)) return Inf end\n",
    "\n",
    "    # solve the dynamics and get the resulting entry_residual vector; if solution is not valid, return Inf\n",
    "    solved = try solve_dynamics(params_T, stationary_sol, settings, T, Ω, E).results catch; return Inf end\n",
    "    \n",
    "    t = solved.t\n",
    "    entry_residual = solved.entry_residual\n",
    "\n",
    "    # interpolate on returned entry_residual\n",
    "    entry_residual_interpolated = LinearInterpolation(t, entry_residual)\n",
    "\n",
    "    # evaluate entry_residual on entry_residual_nodes, return the norm\n",
    "    entry_residuals_nodes = range(0, stop = T, length = entry_residuals_nodes_count + 2)\n",
    "    return (norm(entry_residual_interpolated.(entry_residuals_nodes[2:(end-1)])))\n",
    "end"
   ]
  },
  {
   "cell_type": "markdown",
   "metadata": {},
   "source": [
    "Define candidates:"
   ]
  },
  {
   "cell_type": "code",
   "execution_count": null,
   "metadata": {},
   "outputs": [],
   "source": [
    "c1_candidates = range(-2e-6, stop = -1e-6, length = 5)\n",
    "c2_candidates = range(-3e-6, stop = 0.0, length = 5)\n",
    "T_candidates = range(20.0, stop = 30.0, length = 5)\n",
    "entry_residuals_nodes_count = 10\n",
    "\n",
    "# generate an array of candidates where the last element of each candidate is a candidate for T\n",
    "candidates = product(c1_candidates, c2_candidates, T_candidates)"
   ]
  },
  {
   "cell_type": "markdown",
   "metadata": {},
   "source": [
    "Show solution per each candidate:"
   ]
  },
  {
   "cell_type": "code",
   "execution_count": null,
   "metadata": {},
   "outputs": [],
   "source": [
    "performances = evaluate_candidate.(candidates)"
   ]
  },
  {
   "cell_type": "markdown",
   "metadata": {},
   "source": [
    "Find the corresponding solution"
   ]
  },
  {
   "cell_type": "code",
   "execution_count": null,
   "metadata": {},
   "outputs": [],
   "source": [
    "solution = (x->x).(candidates)[argmin(performances)]"
   ]
  },
  {
   "cell_type": "code",
   "execution_count": null,
   "metadata": {},
   "outputs": [],
   "source": [
    "solved = solve_with_candidate(solution)\n",
    "\n",
    "v_t0 = solved.sol.u[1][1:M]\n",
    "v0 = solved.results[:v_0]\n",
    "# save v0 and v_hat_t0\n",
    "v_hat_t0 = map(z -> exp((params.σ-1)*z), z_grid) .* v_t0;\n",
    "\n",
    "solved = solved.results"
   ]
  },
  {
   "cell_type": "markdown",
   "metadata": {},
   "source": [
    "## Plots for Ω and `entry_residuals`"
   ]
  },
  {
   "cell_type": "code",
   "execution_count": null,
   "metadata": {},
   "outputs": [],
   "source": [
    "plot_Ω = plot(solved.t, solved.Ω, label = \"Omega\", lw = 3)\n",
    "plot_residual = plot(solved.t, solved.entry_residual, label = \"entry_residual\", lw = 3)\n",
    "plot(plot_Ω, plot_residual, layout = (2,1))"
   ]
  },
  {
   "cell_type": "code",
   "execution_count": null,
   "metadata": {},
   "outputs": [],
   "source": [
    "norm(solved.entry_residual)"
   ]
  },
  {
   "cell_type": "markdown",
   "metadata": {},
   "source": [
    "## Primary Plots"
   ]
  },
  {
   "cell_type": "code",
   "execution_count": null,
   "metadata": {},
   "outputs": [],
   "source": [
    "plot1 = plot(solved.t, solved.g, label = \"g\", lw = 3)\n",
    "plot2 = plot(solved.t, solved.z_hat, label = \"z_hat\", lw = 3)\n",
    "plot3 = plot(solved.t, solved.S, label = \"S\", lw = 3)\n",
    "plot4 = plot(solved.t, solved.entry_residual, label = \"entry_residual\", lw = 3)\n",
    "plot(plot1, plot2, plot3, plot4, layout=(2,2))"
   ]
  },
  {
   "cell_type": "markdown",
   "metadata": {},
   "source": [
    "## Static Equations"
   ]
  },
  {
   "cell_type": "code",
   "execution_count": null,
   "metadata": {},
   "outputs": [],
   "source": [
    "plot1 = plot(solved.t, solved.L_tilde, label = \"L_tilde\", lw = 3)\n",
    "plot2 = plot(solved.t, solved.z_bar, label = \"z_bar\", lw = 3)\n",
    "plot3 = plot(solved.t, solved.π_min, label = \"pi_min\", lw = 3)\n",
    "plot4 = plot(solved.t, solved.λ_ii, label = \"lambda_ii\", lw = 3)\n",
    "plot5 = plot(solved.t, solved.c, label = \"c\", lw = 3)\n",
    "plot6 = plot(solved.t, solved.E, label = \"E\", lw = 3)\n",
    "plot7 = plot(solved.t, solved.log_M, label = \"log_M\", lw = 3)\n",
    "plot8 = plot(solved.t, solved.U, label = \"U\", lw = 3)\n",
    "plot9 = plot(z_grid, v_hat_t0, label = \"v_hat at t = 0\", lw = 3)\n",
    "plot(plot1, plot2, plot3, plot4, plot5, plot6, plot7, plot8, layout=(4,2))"
   ]
  },
  {
   "cell_type": "code",
   "execution_count": null,
   "metadata": {},
   "outputs": [],
   "source": [
    "# Can examine the returned data with the Voyager and/or Vegalite\n",
    "using DataVoyager, VegaLite\n",
    "solved |> Voyager()\n",
    "#solved |> @vlplot(:line, x = :t, y = :g, width=400, height=400)"
   ]
  }
 ],
 "metadata": {
  "kernelspec": {
   "display_name": "Julia 1.0.0",
   "language": "julia",
   "name": "julia-1.0"
  },
  "language_info": {
   "file_extension": ".jl",
   "mimetype": "application/julia",
   "name": "julia",
   "version": "1.0.0"
  }
 },
 "nbformat": 4,
 "nbformat_minor": 2
}
