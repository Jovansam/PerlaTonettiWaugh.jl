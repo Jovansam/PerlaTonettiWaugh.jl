{
 "cells": [
  {
   "cell_type": "code",
   "execution_count": 1,
   "metadata": {
    "scrolled": true
   },
   "outputs": [],
   "source": [
    "using Pkg, PerlaTonettiWaugh, Plots\n",
    "pkg\"activate .\""
   ]
  },
  {
   "cell_type": "markdown",
   "metadata": {},
   "source": [
    "# Steady states"
   ]
  },
  {
   "cell_type": "markdown",
   "metadata": {},
   "source": [
    "## Solving steady state solutions"
   ]
  },
  {
   "cell_type": "markdown",
   "metadata": {},
   "source": [
    "Set up parameters and find the corresponding stationary solution:"
   ]
  },
  {
   "cell_type": "code",
   "execution_count": 2,
   "metadata": {
    "scrolled": false
   },
   "outputs": [
    {
     "data": {
      "text/plain": [
       "898"
      ]
     },
     "execution_count": 2,
     "metadata": {},
     "output_type": "execute_result"
    }
   ],
   "source": [
    "# Define common objects. \n",
    "params = parameter_defaults()\n",
    "\n",
    "settings = settings_defaults()\n",
    "settings = merge(settings, (global_transition_penalty_coefficient = 1.0, ))\n",
    "z_grid = settings.z\n",
    "M = length(z_grid)"
   ]
  },
  {
   "cell_type": "code",
   "execution_count": 3,
   "metadata": {},
   "outputs": [],
   "source": [
    "d_0 = params.d_0\n",
    "d_T = params.d_T\n",
    "params_0 = merge(params, (d = d_0,)) # parameters to be used at t = 0\n",
    "params_T = merge(params, (d = d_0,)) # parameters to be used at t = T\n",
    "\n",
    "# solve for stationary solution at t = 0\n",
    "stationary_sol_0 = stationary_numerical(params_0, z_grid) # solution at t = 0\n",
    "stationary_sol = stationary_numerical(params_T, z_grid) # solution at t = T\n",
    "\n",
    "Ω_0 = stationary_sol_0.Ω;\n",
    "Ω_T = stationary_sol.Ω;"
   ]
  },
  {
   "cell_type": "code",
   "execution_count": 4,
   "metadata": {},
   "outputs": [],
   "source": [
    "# use E_nodes of length 50\n",
    "L = 50\n",
    "\n",
    "settings = merge(settings, (global_transition_x0 = fill(0.0, length(settings.global_transition_x0)), \n",
    "                            global_transition_lb = fill(0.0, L-1),\n",
    "                            global_transition_ub = fill(0.0, L-1),\n",
    "                            E_node_count = L,\n",
    "                            entry_residuals_nodes_count = L,\n",
    "                            global_transition_weights = [fill(15, 3); fill(1, L-3)]));"
   ]
  },
  {
   "cell_type": "markdown",
   "metadata": {},
   "source": [
    "## Welfare in steady states"
   ]
  },
  {
   "cell_type": "markdown",
   "metadata": {},
   "source": [
    "### Steady state at `T`"
   ]
  },
  {
   "cell_type": "code",
   "execution_count": 5,
   "metadata": {
    "scrolled": false
   },
   "outputs": [
    {
     "name": "stdout",
     "output_type": "stream",
     "text": [
      "g = 0.010930652403331097\n",
      "z_hat = 1.813536131626652\n",
      "Ω = 1.7797899977898557\n",
      "y = 1.4215794009183362\n",
      "c = 1.4215794009183362\n",
      "U_bar = getfield(PerlaTonettiWaugh, Symbol(\"##21#22\")){Float64,Float64,Float64,Float64}(0.010930652403331097, 0.02, 1.0, 1.4215794009183362)\n",
      "λ_ii = 0.8982453618545706\n",
      "L_tilde = 0.19292029410354766\n",
      "z_bar = 1.7613866270362195\n",
      "w = 0.44149454256973625\n",
      "x = 1.0\n",
      "π_min = 0.04969310649379504\n",
      "r = 0.0839306524033311\n",
      "a = 12.468098351241073\n",
      "b = 0.1490608571684243\n",
      "S = -0.011680460694423862\n"
     ]
    }
   ],
   "source": [
    "display_stationary_sol(stationary_sol);"
   ]
  },
  {
   "cell_type": "markdown",
   "metadata": {},
   "source": [
    "### Steady state at `0`"
   ]
  },
  {
   "cell_type": "code",
   "execution_count": 6,
   "metadata": {
    "scrolled": false
   },
   "outputs": [
    {
     "name": "stdout",
     "output_type": "stream",
     "text": [
      "g = 0.010930652403331097\n",
      "z_hat = 1.813536131626652\n",
      "Ω = 1.7797899977898557\n",
      "y = 1.4215794009183362\n",
      "c = 1.4215794009183362\n",
      "U_bar = getfield(PerlaTonettiWaugh, Symbol(\"##21#22\")){Float64,Float64,Float64,Float64}(0.010930652403331097, 0.02, 1.0, 1.4215794009183362)\n",
      "λ_ii = 0.8982453618545706\n",
      "L_tilde = 0.19292029410354766\n",
      "z_bar = 1.7613866270362195\n",
      "w = 0.44149454256973625\n",
      "x = 1.0\n",
      "π_min = 0.04969310649379504\n",
      "r = 0.0839306524033311\n",
      "a = 12.468098351241073\n",
      "b = 0.1490608571684243\n",
      "S = -0.011680460694423862\n"
     ]
    }
   ],
   "source": [
    "display_stationary_sol(stationary_sol_0);"
   ]
  },
  {
   "cell_type": "markdown",
   "metadata": {},
   "source": [
    "# Transition dynamics"
   ]
  },
  {
   "cell_type": "markdown",
   "metadata": {},
   "source": [
    "Setup for optimizer:"
   ]
  },
  {
   "cell_type": "code",
   "execution_count": 7,
   "metadata": {},
   "outputs": [],
   "source": [
    "settings = merge(settings, (params_T = params_T, stationary_sol_T = stationary_sol, Ω_0 = Ω_0));"
   ]
  },
  {
   "cell_type": "markdown",
   "metadata": {},
   "source": [
    "Find the corresponding solution:"
   ]
  },
  {
   "cell_type": "code",
   "execution_count": null,
   "metadata": {
    "scrolled": true
   },
   "outputs": [],
   "source": [
    "# result = solve_full_model_global(settings);\n",
    "using BenchmarkTools\n",
    "result = @time solve_full_model_nlopt(settings)\n",
    "solved = result.solution;\n",
    "E_nodes = result.E_nodes;"
   ]
  },
  {
   "cell_type": "code",
   "execution_count": null,
   "metadata": {
    "scrolled": true
   },
   "outputs": [],
   "source": [
    "println(\"E_nodes (sorted) : \")\n",
    "sort(E_nodes)"
   ]
  },
  {
   "cell_type": "markdown",
   "metadata": {},
   "source": [
    "## Plots for Ω and `entry_residuals`"
   ]
  },
  {
   "cell_type": "code",
   "execution_count": null,
   "metadata": {},
   "outputs": [],
   "source": [
    "solved = solved.results;\n",
    "plot_Ω = plot(solved.t, solved.Ω, label = \"Omega\", lw = 3)\n",
    "plot_residual = plot(solved.t, solved.entry_residual, label = \"entry_residual\", lw = 3)\n",
    "plot(plot_Ω, plot_residual, layout = (2,1))"
   ]
  },
  {
   "cell_type": "markdown",
   "metadata": {},
   "source": [
    "## Primary Plots"
   ]
  },
  {
   "cell_type": "code",
   "execution_count": null,
   "metadata": {
    "scrolled": true
   },
   "outputs": [],
   "source": [
    "plot1 = plot(solved.t, solved.g, label = \"g\", lw = 3)\n",
    "plot2 = plot(solved.t, solved.z_hat, label = \"z_hat\", lw = 3)\n",
    "plot3 = plot(solved.t, solved.S, label = \"S\", lw = 3)\n",
    "plot4 = plot(solved.t, solved.entry_residual, label = \"entry_residual\", lw = 3)\n",
    "plot(plot1, plot2, plot3, plot4, layout=(2,2))"
   ]
  },
  {
   "cell_type": "markdown",
   "metadata": {},
   "source": [
    "## Static Equations"
   ]
  },
  {
   "cell_type": "code",
   "execution_count": null,
   "metadata": {},
   "outputs": [],
   "source": [
    "plot1 = plot(solved.t, solved.L_tilde, label = \"L_tilde\", lw = 3)\n",
    "plot2 = plot(solved.t, solved.z_bar, label = \"z_bar\", lw = 3)\n",
    "plot3 = plot(solved.t, solved.π_min, label = \"pi_min\", lw = 3)\n",
    "plot4 = plot(solved.t, solved.λ_ii, label = \"lambda_ii\", lw = 3)\n",
    "plot5 = plot(solved.t, solved.c, label = \"c\", lw = 3)\n",
    "plot6 = plot(solved.t, solved.E, label = \"E\", lw = 3)\n",
    "plot7 = plot(solved.t, solved.log_M, label = \"log_M\", lw = 3)\n",
    "plot8 = plot(solved.t, solved.U, label = \"U\", lw = 3)\n",
    "plot(plot1, plot2, plot3, plot4, plot5, plot6, plot7, plot8, layout=(4,2))"
   ]
  },
  {
   "cell_type": "markdown",
   "metadata": {},
   "source": [
    "# Welfare analysis"
   ]
  },
  {
   "cell_type": "markdown",
   "metadata": {},
   "source": [
    "### `log_M(t)`"
   ]
  },
  {
   "cell_type": "code",
   "execution_count": null,
   "metadata": {
    "scrolled": true
   },
   "outputs": [],
   "source": [
    "# define log_M with steady state g\n",
    "log_M_steady_0(t) = stationary_sol_0.g * t\n",
    "log_M_steady_T(t) = stationary_sol.g * t\n",
    "\n",
    "# generate the plot!\n",
    "plot(solved.t, \n",
    "    [solved.log_M, log_M_steady_0, log_M_steady_T], \n",
    "    label = [\"log_M_transition_0\", \"log_M_steady_0\", \"log_M_steady_T\"] ,\n",
    "    title = \"log_M(t)\", linestyle = :auto, lw = 3)"
   ]
  },
  {
   "cell_type": "markdown",
   "metadata": {},
   "source": [
    "### `Ω(t)`"
   ]
  },
  {
   "cell_type": "code",
   "execution_count": null,
   "metadata": {},
   "outputs": [],
   "source": [
    "# define Ω function (constant)\n",
    "Ω_steady_0(t) = stationary_sol_0.Ω\n",
    "Ω_steady_T(t) = stationary_sol.Ω\n",
    "\n",
    "# generate the plot!\n",
    "plot(solved.t, \n",
    "    [solved.Ω, Ω_steady_0, Ω_steady_T], \n",
    "    label = [\"Omega_transition_0\", \"Omega_steady_0\", \"Omega_steady_T\"] ,\n",
    "    title = \"Omega(t)\", linestyle = :auto, lw = 3)"
   ]
  },
  {
   "cell_type": "markdown",
   "metadata": {},
   "source": [
    "### `c(t)`"
   ]
  },
  {
   "cell_type": "code",
   "execution_count": null,
   "metadata": {},
   "outputs": [],
   "source": [
    "# define c function (constant)\n",
    "c_steady_0(t) = stationary_sol_0.c\n",
    "c_steady_T(t) = stationary_sol.c\n",
    "\n",
    "# generate the plot!\n",
    "plot(solved.t, \n",
    "    [solved.c, c_steady_0, c_steady_T], \n",
    "    label = [\"c_transition_0\", \"c_steady_0\", \"c_steady_T\"] ,\n",
    "    title = \"c(t)\", linestyle = :auto, lw = 3)"
   ]
  },
  {
   "cell_type": "markdown",
   "metadata": {},
   "source": [
    "### `U(t)`"
   ]
  },
  {
   "cell_type": "code",
   "execution_count": null,
   "metadata": {
    "scrolled": true
   },
   "outputs": [],
   "source": [
    "# generate the plot!\n",
    "plot(solved.t, \n",
    "    [solved.U, stationary_sol_0.U_bar, stationary_sol.U_bar], \n",
    "    label = [\"U_transition_0\", \"U_steady_0\", \"U_steady_T\"] ,\n",
    "    title = \"U(t)\", linestyle = :auto, lw = 3)"
   ]
  },
  {
   "cell_type": "markdown",
   "metadata": {},
   "source": [
    "## Consumption equivalent for search threshold (`M(0)`)\n",
    "See computational appendix for details."
   ]
  },
  {
   "cell_type": "markdown",
   "metadata": {},
   "source": [
    "### `M(0)` by two steady states (autarky and steady state at `T`)"
   ]
  },
  {
   "cell_type": "code",
   "execution_count": null,
   "metadata": {
    "scrolled": true
   },
   "outputs": [],
   "source": [
    "T = solved.t[end]\n",
    "consumption_equivalent(solved.U[end], stationary_sol_0.U_bar(T), params)"
   ]
  },
  {
   "cell_type": "markdown",
   "metadata": {},
   "source": [
    "### `M(0)` by autarky and transition from `t=0`"
   ]
  },
  {
   "cell_type": "code",
   "execution_count": null,
   "metadata": {
    "scrolled": true
   },
   "outputs": [],
   "source": [
    "T = solved.t[end]\n",
    "consumption_equivalent(solved.U[1], stationary_sol_0.U_bar(T), params)"
   ]
  }
 ],
 "metadata": {
  "kernelspec": {
   "display_name": "Julia 1.0.0",
   "language": "julia",
   "name": "julia-1.0"
  },
  "language_info": {
   "file_extension": ".jl",
   "mimetype": "application/julia",
   "name": "julia",
   "version": "1.0.0"
  }
 },
 "nbformat": 4,
 "nbformat_minor": 2
}
