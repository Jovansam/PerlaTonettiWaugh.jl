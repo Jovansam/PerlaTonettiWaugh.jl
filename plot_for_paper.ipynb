{
 "cells": [
  {
   "cell_type": "code",
   "execution_count": 48,
   "metadata": {},
   "outputs": [],
   "source": [
    "import pandas as pd\n",
    "import matplotlib.pyplot as plt\n",
    "import numpy as np\n",
    "\n",
    "fig_path = \"C:\\\\Users\\\\mwaugh\\\\github\\\\perla_tonetti_waugh\\\\Figures\"\n",
    "# Change this to reflect where the local repository is..."
   ]
  },
  {
   "cell_type": "markdown",
   "metadata": {},
   "source": [
    "This reads in the data from the `julia` code. There should be two csv files, one of the transtion path, another for the stuff in the initial stationary eq."
   ]
  },
  {
   "cell_type": "code",
   "execution_count": 145,
   "metadata": {},
   "outputs": [],
   "source": [
    "df = pd.read_csv(\"solve-transition-results.csv\")\n",
    "df_stationary = pd.read_csv(\"stationary_results.csv\")"
   ]
  },
  {
   "cell_type": "code",
   "execution_count": 146,
   "metadata": {},
   "outputs": [
    {
     "data": {
      "text/html": [
       "<div>\n",
       "<style scoped>\n",
       "    .dataframe tbody tr th:only-of-type {\n",
       "        vertical-align: middle;\n",
       "    }\n",
       "\n",
       "    .dataframe tbody tr th {\n",
       "        vertical-align: top;\n",
       "    }\n",
       "\n",
       "    .dataframe thead th {\n",
       "        text-align: right;\n",
       "    }\n",
       "</style>\n",
       "<table border=\"1\" class=\"dataframe\">\n",
       "  <thead>\n",
       "    <tr style=\"text-align: right;\">\n",
       "      <th></th>\n",
       "      <th>t</th>\n",
       "      <th>g</th>\n",
       "      <th>z_hat</th>\n",
       "      <th>Ω</th>\n",
       "      <th>E</th>\n",
       "      <th>v_0</th>\n",
       "      <th>L_tilde</th>\n",
       "      <th>entry_residual</th>\n",
       "      <th>λ_ii</th>\n",
       "      <th>S</th>\n",
       "      <th>z_bar</th>\n",
       "      <th>c</th>\n",
       "      <th>π_min</th>\n",
       "      <th>log_M</th>\n",
       "      <th>U</th>\n",
       "    </tr>\n",
       "  </thead>\n",
       "  <tbody>\n",
       "    <tr>\n",
       "      <th>0</th>\n",
       "      <td>0.000000</td>\n",
       "      <td>0.017337</td>\n",
       "      <td>1.705751</td>\n",
       "      <td>1.434682</td>\n",
       "      <td>0.007239</td>\n",
       "      <td>2.963191</td>\n",
       "      <td>0.249257</td>\n",
       "      <td>-0.013009</td>\n",
       "      <td>0.772752</td>\n",
       "      <td>0.123218</td>\n",
       "      <td>2.253724</td>\n",
       "      <td>1.691968</td>\n",
       "      <td>0.166556</td>\n",
       "      <td>0.000000</td>\n",
       "      <td>89.510594</td>\n",
       "    </tr>\n",
       "    <tr>\n",
       "      <th>1</th>\n",
       "      <td>4.577083</td>\n",
       "      <td>0.017999</td>\n",
       "      <td>1.697513</td>\n",
       "      <td>1.417039</td>\n",
       "      <td>0.007354</td>\n",
       "      <td>2.971494</td>\n",
       "      <td>0.250267</td>\n",
       "      <td>-0.004706</td>\n",
       "      <td>0.771771</td>\n",
       "      <td>0.125304</td>\n",
       "      <td>2.241247</td>\n",
       "      <td>1.680336</td>\n",
       "      <td>0.167258</td>\n",
       "      <td>0.080867</td>\n",
       "      <td>94.285742</td>\n",
       "    </tr>\n",
       "    <tr>\n",
       "      <th>2</th>\n",
       "      <td>10.540026</td>\n",
       "      <td>0.018594</td>\n",
       "      <td>1.688997</td>\n",
       "      <td>1.396808</td>\n",
       "      <td>0.007844</td>\n",
       "      <td>2.976075</td>\n",
       "      <td>0.252527</td>\n",
       "      <td>-0.000125</td>\n",
       "      <td>0.770749</td>\n",
       "      <td>0.127179</td>\n",
       "      <td>2.226665</td>\n",
       "      <td>1.664371</td>\n",
       "      <td>0.167846</td>\n",
       "      <td>0.189965</td>\n",
       "      <td>100.491209</td>\n",
       "    </tr>\n",
       "    <tr>\n",
       "      <th>3</th>\n",
       "      <td>16.502969</td>\n",
       "      <td>0.019078</td>\n",
       "      <td>1.682422</td>\n",
       "      <td>1.380875</td>\n",
       "      <td>0.008274</td>\n",
       "      <td>2.978264</td>\n",
       "      <td>0.254499</td>\n",
       "      <td>0.002064</td>\n",
       "      <td>0.769954</td>\n",
       "      <td>0.128705</td>\n",
       "      <td>2.215071</td>\n",
       "      <td>1.651339</td>\n",
       "      <td>0.168279</td>\n",
       "      <td>0.302281</td>\n",
       "      <td>106.629860</td>\n",
       "    </tr>\n",
       "    <tr>\n",
       "      <th>4</th>\n",
       "      <td>27.000000</td>\n",
       "      <td>0.019504</td>\n",
       "      <td>1.675443</td>\n",
       "      <td>1.361572</td>\n",
       "      <td>0.009158</td>\n",
       "      <td>2.976808</td>\n",
       "      <td>0.257964</td>\n",
       "      <td>0.000608</td>\n",
       "      <td>0.769104</td>\n",
       "      <td>0.130049</td>\n",
       "      <td>2.200749</td>\n",
       "      <td>1.633034</td>\n",
       "      <td>0.168587</td>\n",
       "      <td>0.504777</td>\n",
       "      <td>117.088284</td>\n",
       "    </tr>\n",
       "    <tr>\n",
       "      <th>5</th>\n",
       "      <td>46.200000</td>\n",
       "      <td>0.019771</td>\n",
       "      <td>1.671476</td>\n",
       "      <td>1.350007</td>\n",
       "      <td>0.009747</td>\n",
       "      <td>2.977282</td>\n",
       "      <td>0.260304</td>\n",
       "      <td>0.001082</td>\n",
       "      <td>0.768619</td>\n",
       "      <td>0.130892</td>\n",
       "      <td>2.192075</td>\n",
       "      <td>1.621470</td>\n",
       "      <td>0.168721</td>\n",
       "      <td>0.881820</td>\n",
       "      <td>133.853545</td>\n",
       "    </tr>\n",
       "    <tr>\n",
       "      <th>6</th>\n",
       "      <td>55.800000</td>\n",
       "      <td>0.019817</td>\n",
       "      <td>1.670631</td>\n",
       "      <td>1.347561</td>\n",
       "      <td>0.009881</td>\n",
       "      <td>2.976964</td>\n",
       "      <td>0.260797</td>\n",
       "      <td>0.000764</td>\n",
       "      <td>0.768515</td>\n",
       "      <td>0.131037</td>\n",
       "      <td>2.190236</td>\n",
       "      <td>1.619030</td>\n",
       "      <td>0.168750</td>\n",
       "      <td>1.071845</td>\n",
       "      <td>140.278821</td>\n",
       "    </tr>\n",
       "    <tr>\n",
       "      <th>7</th>\n",
       "      <td>65.400000</td>\n",
       "      <td>0.019887</td>\n",
       "      <td>1.669925</td>\n",
       "      <td>1.346074</td>\n",
       "      <td>0.009892</td>\n",
       "      <td>2.977356</td>\n",
       "      <td>0.260905</td>\n",
       "      <td>0.001156</td>\n",
       "      <td>0.768429</td>\n",
       "      <td>0.131257</td>\n",
       "      <td>2.189150</td>\n",
       "      <td>1.617990</td>\n",
       "      <td>0.168809</td>\n",
       "      <td>1.262427</td>\n",
       "      <td>144.686523</td>\n",
       "    </tr>\n",
       "    <tr>\n",
       "      <th>8</th>\n",
       "      <td>70.200000</td>\n",
       "      <td>0.019884</td>\n",
       "      <td>1.669881</td>\n",
       "      <td>1.345578</td>\n",
       "      <td>0.009954</td>\n",
       "      <td>2.976622</td>\n",
       "      <td>0.261133</td>\n",
       "      <td>0.000422</td>\n",
       "      <td>0.768423</td>\n",
       "      <td>0.131248</td>\n",
       "      <td>2.188755</td>\n",
       "      <td>1.617199</td>\n",
       "      <td>0.168787</td>\n",
       "      <td>1.357878</td>\n",
       "      <td>145.914229</td>\n",
       "    </tr>\n",
       "    <tr>\n",
       "      <th>9</th>\n",
       "      <td>72.600000</td>\n",
       "      <td>0.019880</td>\n",
       "      <td>1.669901</td>\n",
       "      <td>1.345467</td>\n",
       "      <td>0.009977</td>\n",
       "      <td>2.976363</td>\n",
       "      <td>0.261214</td>\n",
       "      <td>0.000163</td>\n",
       "      <td>0.768426</td>\n",
       "      <td>0.131234</td>\n",
       "      <td>2.188661</td>\n",
       "      <td>1.616951</td>\n",
       "      <td>0.168776</td>\n",
       "      <td>1.405595</td>\n",
       "      <td>146.238644</td>\n",
       "    </tr>\n",
       "  </tbody>\n",
       "</table>\n",
       "</div>"
      ],
      "text/plain": [
       "           t         g     z_hat         Ω         E       v_0   L_tilde  \\\n",
       "0   0.000000  0.017337  1.705751  1.434682  0.007239  2.963191  0.249257   \n",
       "1   4.577083  0.017999  1.697513  1.417039  0.007354  2.971494  0.250267   \n",
       "2  10.540026  0.018594  1.688997  1.396808  0.007844  2.976075  0.252527   \n",
       "3  16.502969  0.019078  1.682422  1.380875  0.008274  2.978264  0.254499   \n",
       "4  27.000000  0.019504  1.675443  1.361572  0.009158  2.976808  0.257964   \n",
       "5  46.200000  0.019771  1.671476  1.350007  0.009747  2.977282  0.260304   \n",
       "6  55.800000  0.019817  1.670631  1.347561  0.009881  2.976964  0.260797   \n",
       "7  65.400000  0.019887  1.669925  1.346074  0.009892  2.977356  0.260905   \n",
       "8  70.200000  0.019884  1.669881  1.345578  0.009954  2.976622  0.261133   \n",
       "9  72.600000  0.019880  1.669901  1.345467  0.009977  2.976363  0.261214   \n",
       "\n",
       "   entry_residual      λ_ii         S     z_bar         c     π_min     log_M  \\\n",
       "0       -0.013009  0.772752  0.123218  2.253724  1.691968  0.166556  0.000000   \n",
       "1       -0.004706  0.771771  0.125304  2.241247  1.680336  0.167258  0.080867   \n",
       "2       -0.000125  0.770749  0.127179  2.226665  1.664371  0.167846  0.189965   \n",
       "3        0.002064  0.769954  0.128705  2.215071  1.651339  0.168279  0.302281   \n",
       "4        0.000608  0.769104  0.130049  2.200749  1.633034  0.168587  0.504777   \n",
       "5        0.001082  0.768619  0.130892  2.192075  1.621470  0.168721  0.881820   \n",
       "6        0.000764  0.768515  0.131037  2.190236  1.619030  0.168750  1.071845   \n",
       "7        0.001156  0.768429  0.131257  2.189150  1.617990  0.168809  1.262427   \n",
       "8        0.000422  0.768423  0.131248  2.188755  1.617199  0.168787  1.357878   \n",
       "9        0.000163  0.768426  0.131234  2.188661  1.616951  0.168776  1.405595   \n",
       "\n",
       "            U  \n",
       "0   89.510594  \n",
       "1   94.285742  \n",
       "2  100.491209  \n",
       "3  106.629860  \n",
       "4  117.088284  \n",
       "5  133.853545  \n",
       "6  140.278821  \n",
       "7  144.686523  \n",
       "8  145.914229  \n",
       "9  146.238644  "
      ]
     },
     "execution_count": 146,
     "metadata": {},
     "output_type": "execute_result"
    }
   ],
   "source": [
    "df.head(10)"
   ]
  },
  {
   "cell_type": "code",
   "execution_count": 147,
   "metadata": {},
   "outputs": [],
   "source": [
    "df = df[[\"t\", \"g\", \"λ_ii\", \"c\", \"L_tilde\", \"Ω\"]]"
   ]
  },
  {
   "cell_type": "markdown",
   "metadata": {},
   "source": [
    "Now we need to do a bit of pandas jujitsu to add the stationary part to the transition path...first replicate the one row data frame, create a new time period, replace the old time"
   ]
  },
  {
   "cell_type": "code",
   "execution_count": 148,
   "metadata": {},
   "outputs": [],
   "source": [
    "extra_periods = 5;\n",
    "\n",
    "df_stationary = pd.concat([df_stationary]*extra_periods, ignore_index=True)"
   ]
  },
  {
   "cell_type": "code",
   "execution_count": 149,
   "metadata": {},
   "outputs": [],
   "source": [
    "df_stationary[\"t_hat\"] = [-20, -15, -10, -5, -1]  "
   ]
  },
  {
   "cell_type": "code",
   "execution_count": 150,
   "metadata": {},
   "outputs": [],
   "source": [
    "df_stationary.drop([\"t\"],axis = 1, inplace = True)"
   ]
  },
  {
   "cell_type": "code",
   "execution_count": 151,
   "metadata": {},
   "outputs": [],
   "source": [
    "df_stationary.rename(columns={\"t_hat\": \"t\"},inplace = True)"
   ]
  },
  {
   "cell_type": "code",
   "execution_count": 152,
   "metadata": {},
   "outputs": [
    {
     "data": {
      "text/html": [
       "<div>\n",
       "<style scoped>\n",
       "    .dataframe tbody tr th:only-of-type {\n",
       "        vertical-align: middle;\n",
       "    }\n",
       "\n",
       "    .dataframe tbody tr th {\n",
       "        vertical-align: top;\n",
       "    }\n",
       "\n",
       "    .dataframe thead th {\n",
       "        text-align: right;\n",
       "    }\n",
       "</style>\n",
       "<table border=\"1\" class=\"dataframe\">\n",
       "  <thead>\n",
       "    <tr style=\"text-align: right;\">\n",
       "      <th></th>\n",
       "      <th>g</th>\n",
       "      <th>λ_ii</th>\n",
       "      <th>c</th>\n",
       "      <th>L_tilde</th>\n",
       "      <th>Ω</th>\n",
       "      <th>t</th>\n",
       "    </tr>\n",
       "  </thead>\n",
       "  <tbody>\n",
       "    <tr>\n",
       "      <th>0</th>\n",
       "      <td>0.016591</td>\n",
       "      <td>0.807445</td>\n",
       "      <td>1.639007</td>\n",
       "      <td>0.25661</td>\n",
       "      <td>1.434682</td>\n",
       "      <td>-20</td>\n",
       "    </tr>\n",
       "    <tr>\n",
       "      <th>1</th>\n",
       "      <td>0.016591</td>\n",
       "      <td>0.807445</td>\n",
       "      <td>1.639007</td>\n",
       "      <td>0.25661</td>\n",
       "      <td>1.434682</td>\n",
       "      <td>-15</td>\n",
       "    </tr>\n",
       "    <tr>\n",
       "      <th>2</th>\n",
       "      <td>0.016591</td>\n",
       "      <td>0.807445</td>\n",
       "      <td>1.639007</td>\n",
       "      <td>0.25661</td>\n",
       "      <td>1.434682</td>\n",
       "      <td>-10</td>\n",
       "    </tr>\n",
       "    <tr>\n",
       "      <th>3</th>\n",
       "      <td>0.016591</td>\n",
       "      <td>0.807445</td>\n",
       "      <td>1.639007</td>\n",
       "      <td>0.25661</td>\n",
       "      <td>1.434682</td>\n",
       "      <td>-5</td>\n",
       "    </tr>\n",
       "    <tr>\n",
       "      <th>4</th>\n",
       "      <td>0.016591</td>\n",
       "      <td>0.807445</td>\n",
       "      <td>1.639007</td>\n",
       "      <td>0.25661</td>\n",
       "      <td>1.434682</td>\n",
       "      <td>-1</td>\n",
       "    </tr>\n",
       "  </tbody>\n",
       "</table>\n",
       "</div>"
      ],
      "text/plain": [
       "          g      λ_ii         c  L_tilde         Ω   t\n",
       "0  0.016591  0.807445  1.639007  0.25661  1.434682 -20\n",
       "1  0.016591  0.807445  1.639007  0.25661  1.434682 -15\n",
       "2  0.016591  0.807445  1.639007  0.25661  1.434682 -10\n",
       "3  0.016591  0.807445  1.639007  0.25661  1.434682  -5\n",
       "4  0.016591  0.807445  1.639007  0.25661  1.434682  -1"
      ]
     },
     "execution_count": 152,
     "metadata": {},
     "output_type": "execute_result"
    }
   ],
   "source": [
    "df_stationary"
   ]
  },
  {
   "cell_type": "markdown",
   "metadata": {},
   "source": [
    "Then append this to the transition path."
   ]
  },
  {
   "cell_type": "code",
   "execution_count": 153,
   "metadata": {},
   "outputs": [],
   "source": [
    "df = df.append(df_stationary, ignore_index=True, sort=True)\n"
   ]
  },
  {
   "cell_type": "code",
   "execution_count": 154,
   "metadata": {},
   "outputs": [],
   "source": [
    "df = df.sort_values(by=['t'])\n",
    "\n",
    "df.reset_index(inplace = True)\n",
    "\n",
    "df.drop([\"index\"], axis=1, inplace = True)"
   ]
  },
  {
   "cell_type": "code",
   "execution_count": 155,
   "metadata": {},
   "outputs": [
    {
     "data": {
      "text/html": [
       "<div>\n",
       "<style scoped>\n",
       "    .dataframe tbody tr th:only-of-type {\n",
       "        vertical-align: middle;\n",
       "    }\n",
       "\n",
       "    .dataframe tbody tr th {\n",
       "        vertical-align: top;\n",
       "    }\n",
       "\n",
       "    .dataframe thead th {\n",
       "        text-align: right;\n",
       "    }\n",
       "</style>\n",
       "<table border=\"1\" class=\"dataframe\">\n",
       "  <thead>\n",
       "    <tr style=\"text-align: right;\">\n",
       "      <th></th>\n",
       "      <th>L_tilde</th>\n",
       "      <th>c</th>\n",
       "      <th>g</th>\n",
       "      <th>t</th>\n",
       "      <th>Ω</th>\n",
       "      <th>λ_ii</th>\n",
       "    </tr>\n",
       "  </thead>\n",
       "  <tbody>\n",
       "    <tr>\n",
       "      <th>0</th>\n",
       "      <td>0.256610</td>\n",
       "      <td>1.639007</td>\n",
       "      <td>0.016591</td>\n",
       "      <td>-20.000000</td>\n",
       "      <td>1.434682</td>\n",
       "      <td>0.807445</td>\n",
       "    </tr>\n",
       "    <tr>\n",
       "      <th>1</th>\n",
       "      <td>0.256610</td>\n",
       "      <td>1.639007</td>\n",
       "      <td>0.016591</td>\n",
       "      <td>-15.000000</td>\n",
       "      <td>1.434682</td>\n",
       "      <td>0.807445</td>\n",
       "    </tr>\n",
       "    <tr>\n",
       "      <th>2</th>\n",
       "      <td>0.256610</td>\n",
       "      <td>1.639007</td>\n",
       "      <td>0.016591</td>\n",
       "      <td>-10.000000</td>\n",
       "      <td>1.434682</td>\n",
       "      <td>0.807445</td>\n",
       "    </tr>\n",
       "    <tr>\n",
       "      <th>3</th>\n",
       "      <td>0.256610</td>\n",
       "      <td>1.639007</td>\n",
       "      <td>0.016591</td>\n",
       "      <td>-5.000000</td>\n",
       "      <td>1.434682</td>\n",
       "      <td>0.807445</td>\n",
       "    </tr>\n",
       "    <tr>\n",
       "      <th>4</th>\n",
       "      <td>0.256610</td>\n",
       "      <td>1.639007</td>\n",
       "      <td>0.016591</td>\n",
       "      <td>-1.000000</td>\n",
       "      <td>1.434682</td>\n",
       "      <td>0.807445</td>\n",
       "    </tr>\n",
       "    <tr>\n",
       "      <th>5</th>\n",
       "      <td>0.249257</td>\n",
       "      <td>1.691968</td>\n",
       "      <td>0.017337</td>\n",
       "      <td>0.000000</td>\n",
       "      <td>1.434682</td>\n",
       "      <td>0.772752</td>\n",
       "    </tr>\n",
       "    <tr>\n",
       "      <th>6</th>\n",
       "      <td>0.250267</td>\n",
       "      <td>1.680336</td>\n",
       "      <td>0.017999</td>\n",
       "      <td>4.577083</td>\n",
       "      <td>1.417039</td>\n",
       "      <td>0.771771</td>\n",
       "    </tr>\n",
       "    <tr>\n",
       "      <th>7</th>\n",
       "      <td>0.252527</td>\n",
       "      <td>1.664371</td>\n",
       "      <td>0.018594</td>\n",
       "      <td>10.540026</td>\n",
       "      <td>1.396808</td>\n",
       "      <td>0.770749</td>\n",
       "    </tr>\n",
       "    <tr>\n",
       "      <th>8</th>\n",
       "      <td>0.254499</td>\n",
       "      <td>1.651339</td>\n",
       "      <td>0.019078</td>\n",
       "      <td>16.502969</td>\n",
       "      <td>1.380875</td>\n",
       "      <td>0.769954</td>\n",
       "    </tr>\n",
       "    <tr>\n",
       "      <th>9</th>\n",
       "      <td>0.257964</td>\n",
       "      <td>1.633034</td>\n",
       "      <td>0.019504</td>\n",
       "      <td>27.000000</td>\n",
       "      <td>1.361572</td>\n",
       "      <td>0.769104</td>\n",
       "    </tr>\n",
       "  </tbody>\n",
       "</table>\n",
       "</div>"
      ],
      "text/plain": [
       "    L_tilde         c         g          t         Ω      λ_ii\n",
       "0  0.256610  1.639007  0.016591 -20.000000  1.434682  0.807445\n",
       "1  0.256610  1.639007  0.016591 -15.000000  1.434682  0.807445\n",
       "2  0.256610  1.639007  0.016591 -10.000000  1.434682  0.807445\n",
       "3  0.256610  1.639007  0.016591  -5.000000  1.434682  0.807445\n",
       "4  0.256610  1.639007  0.016591  -1.000000  1.434682  0.807445\n",
       "5  0.249257  1.691968  0.017337   0.000000  1.434682  0.772752\n",
       "6  0.250267  1.680336  0.017999   4.577083  1.417039  0.771771\n",
       "7  0.252527  1.664371  0.018594  10.540026  1.396808  0.770749\n",
       "8  0.254499  1.651339  0.019078  16.502969  1.380875  0.769954\n",
       "9  0.257964  1.633034  0.019504  27.000000  1.361572  0.769104"
      ]
     },
     "execution_count": 155,
     "metadata": {},
     "output_type": "execute_result"
    }
   ],
   "source": [
    "df.head(10)"
   ]
  },
  {
   "cell_type": "markdown",
   "metadata": {},
   "source": [
    "Then we can plot stuff now..."
   ]
  },
  {
   "cell_type": "code",
   "execution_count": 174,
   "metadata": {},
   "outputs": [
    {
     "data": {
      "image/png": "[encoded data removed]",
      "text/plain": [
       "<Figure size 720x504 with 1 Axes>"
      ]
     },
     "metadata": {
      "needs_background": "light"
     },
     "output_type": "display_data"
    }
   ],
   "source": [
    "fig, ax = plt.subplots(figsize = (10,7))\n",
    "\n",
    "ax.plot(df.t, 100*df.g, color = \"red\", lw = 5,\n",
    "        label = \"Growth Rate\", ls = \"-\")\n",
    "\n",
    "ax.spines[\"top\"].set_visible(False)\n",
    "ax.spines[\"right\"].set_visible(False)\n",
    "\n",
    "ax.set_ylabel(\"GDP Growth\", fontsize = 14) \n",
    "ax.set_xlim(-20,50)\n",
    "ax.set_ylim(1.50,2.05)\n",
    "\n",
    "plt.savefig(fig_path + \"\\\\growth.pdf\", bbox_inches = \"tight\", dip = 3600)\n",
    "\n",
    "plt.show()"
   ]
  },
  {
   "cell_type": "code",
   "execution_count": 175,
   "metadata": {},
   "outputs": [
    {
     "data": {
      "image/png": "[encoded data removed]",
      "text/plain": [
       "<Figure size 720x504 with 1 Axes>"
      ]
     },
     "metadata": {
      "needs_background": "light"
     },
     "output_type": "display_data"
    }
   ],
   "source": [
    "fig, ax = plt.subplots(figsize = (10,7))\n",
    "\n",
    "ax.plot(df.t, 100*(1-df.λ_ii), color = \"blue\", lw = 5,\n",
    "        label = \"Growth Rate\", ls = \"-\")\n",
    "\n",
    "ax.spines[\"top\"].set_visible(False)\n",
    "ax.spines[\"right\"].set_visible(False)\n",
    "\n",
    "ax.set_ylabel(\"Imports/GDP\", fontsize = 14) \n",
    "ax.set_xlim(-20,50)\n",
    "\n",
    "plt.savefig(fig_path + \"\\\\trade.pdf\", bbox_inches = \"tight\", dip = 3600)\n",
    "\n",
    "plt.show()"
   ]
  },
  {
   "cell_type": "code",
   "execution_count": 53,
   "metadata": {},
   "outputs": [
    {
     "data": {
      "image/png": "[encoded data removed]",
      "text/plain": [
       "<Figure size 720x504 with 1 Axes>"
      ]
     },
     "metadata": {
      "needs_background": "light"
     },
     "output_type": "display_data"
    }
   ],
   "source": [
    "fig, ax = plt.subplots(figsize = (10,7))\n",
    "\n",
    "ax.plot(df.t, df.g + np.log(df.c).diff(), color = \"black\", lw = 5,\n",
    "        label = \"Growth Rate\", ls = \"-\")\n",
    "\n",
    "ax.spines[\"top\"].set_visible(False)\n",
    "ax.spines[\"right\"].set_visible(False)\n",
    "\n",
    "ax.set_ylabel(\"Consumption \\n Normalized, Initial S.S. = 1\", fontsize = 14) \n",
    "\n",
    "#ax.set_ylim(0.98,1.04)\n",
    "\n",
    "#ax.set_xlim(-20,75)\n",
    "\n",
    "plt.savefig(fig_path + \"\\\\consumption.pdf\", bbox_inches = \"tight\", dip = 3600)\n",
    "\n",
    "plt.show()"
   ]
  },
  {
   "cell_type": "code",
   "execution_count": 179,
   "metadata": {},
   "outputs": [
    {
     "data": {
      "image/png": "[encoded data removed]",
      "text/plain": [
       "<Figure size 720x504 with 1 Axes>"
      ]
     },
     "metadata": {
      "needs_background": "light"
     },
     "output_type": "display_data"
    }
   ],
   "source": [
    "fig, ax = plt.subplots(figsize = (10,7))\n",
    "\n",
    "ax.plot(df.t, df.L_tilde/df.L_tilde.iloc[0], color = \"black\", lw = 5,\n",
    "        label = \"Growth Rate\", ls = \"--\")\n",
    "\n",
    "ax.spines[\"top\"].set_visible(False)\n",
    "ax.spines[\"right\"].set_visible(False)\n",
    "\n",
    "ax.set_ylabel(\"Labor in Entry and Immitation \\n Normalized, Initial S.S. = 1\", fontsize = 14) \n",
    "\n",
    "ax.set_ylim(0.96,1.04)\n",
    "\n",
    "ax.set_xlim(-20,50)\n",
    "\n",
    "plt.savefig(fig_path + \"\\\\labor.pdf\", bbox_inches = \"tight\", dip = 3600)\n",
    "\n",
    "plt.show()"
   ]
  },
  {
   "cell_type": "code",
   "execution_count": 180,
   "metadata": {},
   "outputs": [
    {
     "data": {
      "image/png": "[encoded data removed]",
      "text/plain": [
       "<Figure size 720x504 with 1 Axes>"
      ]
     },
     "metadata": {
      "needs_background": "light"
     },
     "output_type": "display_data"
    }
   ],
   "source": [
    "fig, ax = plt.subplots(figsize = (10,7))\n",
    "\n",
    "ax.plot(df.t, df.Ω/df.Ω.iloc[0], color = \"red\", lw = 5,\n",
    "        label = \"\", ls = \"-\")\n",
    "\n",
    "ax.plot(df.t, df.c/df.c.iloc[0], color = \"blue\", lw = 5, ls = \"-\")\n",
    "\n",
    "ax.spines[\"top\"].set_visible(False)\n",
    "ax.spines[\"right\"].set_visible(False)\n",
    "\n",
    "ax.set_ylabel(\"Domestic Variety; \\n Normalized, S.S. = 1\", fontsize = 14) \n",
    "\n",
    "ax.set_ylim(0.92,1.05)\n",
    "\n",
    "ax.set_xlim(-20,50)\n",
    "\n",
    "#plt.savefig(fig_path + \"\\\\us_trade_deficit.pdf\", bbox_inches = \"tight\", dip = 3600)\n",
    "\n",
    "plt.show()"
   ]
  },
  {
   "cell_type": "code",
   "execution_count": 55,
   "metadata": {},
   "outputs": [
    {
     "data": {
      "image/png": "[encoded data removed]",
      "text/plain": [
       "<Figure size 720x504 with 1 Axes>"
      ]
     },
     "metadata": {
      "needs_background": "light"
     },
     "output_type": "display_data"
    }
   ],
   "source": [
    "fig, ax = plt.subplots(figsize = (10,7))\n",
    "\n",
    "ax.plot(df.t, df.L_tilde_a/df.L_tilde_a.iloc[0], color = \"blue\", lw = 5, ls = \"-\")\n",
    "\n",
    "#ax.plot(df.t, df.L_tilde_E/df.L_tilde_E.iloc[0], color = \"red\", lw = 5, ls = \"-\")\n",
    "\n",
    "#\n",
    "#ax.plot(df.t, df.L_tilde/df.L_tilde.iloc[0], color = \"black\", lw = 5, ls = \"--\", alpha = 0.20)\n",
    "\n",
    "ax.spines[\"top\"].set_visible(False)\n",
    "ax.spines[\"right\"].set_visible(False)\n",
    "\n",
    "ax.set_ylabel(\"Labor Used in Adoption \\n Normalized, S.S. = 1\", fontsize = 14) \n",
    "\n",
    "ax.set_ylim(0.97,1.04)\n",
    "\n",
    "ax.set_xlim(-20,75)\n",
    "\n",
    "#ax2 = ax.twinx() \n",
    "\n",
    "#ax2.plot(df.t, df.L_tilde_E/df.L_tilde_E.iloc[0], color = \"black\", lw = 5, ls = \"-\")\n",
    "\n",
    "#ax2.set_ylim(0.65,1.47)\n",
    "\n",
    "#plt.savefig(fig_path + \"\\\\adoption_only.pdf\", bbox_inches = \"tight\", dip = 3600)\n",
    "\n",
    "plt.show()"
   ]
  },
  {
   "cell_type": "markdown",
   "metadata": {},
   "source": [
    "This is an interesting figure. It is showing the amount of labor allocated to adoption. The issue here is that it jumps: So"
   ]
  },
  {
   "cell_type": "code",
   "execution_count": null,
   "metadata": {},
   "outputs": [],
   "source": []
  }
 ],
 "metadata": {
  "kernelspec": {
   "display_name": "Python 3",
   "language": "python",
   "name": "python3"
  },
  "language_info": {
   "codemirror_mode": {
    "name": "ipython",
    "version": 3
   },
   "file_extension": ".py",
   "mimetype": "text/x-python",
   "name": "python",
   "nbconvert_exporter": "python",
   "pygments_lexer": "ipython3",
   "version": "3.6.7"
  }
 },
 "nbformat": 4,
 "nbformat_minor": 2
}
