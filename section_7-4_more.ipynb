{
 "cells": [
  {
   "cell_type": "markdown",
   "metadata": {},
   "source": [
    "### Further Analysis: 7.4. The Welfare Effects of a Reduction in Trade Costs\n",
    "\n",
    "This is organized in the following way\n",
    "\n",
    "- [MATLAB calibration routines (Sampson, no firm dynamics, Atkenson and Burstein(](#cal)\n",
    "\n",
    "- [Welfare analysis](#welfare)"
   ]
  },
  {
   "cell_type": "markdown",
   "metadata": {},
   "source": [
    "#### Be sure to have correct paths..."
   ]
  },
  {
   "cell_type": "code",
   "execution_count": 12,
   "metadata": {},
   "outputs": [],
   "source": [
    "julia_path = '''C:\\\\Users\\\\mwaugh\\\\AppData\\\\Local\\\\Programs\\\\Julia\\\\Julia-1.4.0\\\\bin\\\\julia.exe'''\n",
    "\n",
    "matlab_path = '''matlab'''\n",
    "# This assumes that Matlab is in your path (this occurs under standard install) If not then direct it to\n",
    "# program files / matlab / version/ bin/ matlab.exe\n",
    "# needs to be in triple quotes"
   ]
  },
  {
   "cell_type": "markdown",
   "metadata": {},
   "source": [
    "---\n",
    "### <a name=\"cal\"></a> Matlab calibration routines\n",
    "\n",
    "The code below executes the calibration routines for several excercises to contrast our main welfare results. The excercises are (i) a calibration simmilar to Sampson (2016) (ii) a model with the GBM turned off or \"no firm dynamics\" and (iii) the comparison to Atkenson and Burstein."
   ]
  },
  {
   "cell_type": "markdown",
   "metadata": {},
   "source": [
    "#### Sampson (2016)"
   ]
  },
  {
   "cell_type": "code",
   "execution_count": 13,
   "metadata": {},
   "outputs": [
    {
     "name": "stdout",
     "output_type": "stream",
     "text": [
      " \n",
      "Optimization terminated:\n",
      " the current x satisfies the termination criteria using OPTIONS.TolX of 1.000000e-04 \n",
      " and F(X) satisfies the convergence criteria using OPTIONS.TolFun of 1.000000e-04 \n",
      "\n",
      "Elapsed time is 25.583638 seconds.\n",
      "   7.0623e-10\n",
      "\n",
      "Parameter Values\n",
      "d, theta, kappa, 1/chi\n",
      "    3.4709    4.9889    0.0488    3.7392\n",
      "\n",
      "Moments: Sampson Targets and Model\n",
      "    0.0156    0.0156\n",
      "    0.9190    0.9190\n",
      "    0.0330    0.0330\n",
      "    4.8000    4.8000\n",
      "\n"
     ]
    }
   ],
   "source": [
    "matlab_cmd = '''\"cd('src\\calibration');calibrate_wrap_sampson;\"'''\n",
    "\n",
    "!{matlab_path} -batch {matlab_cmd}"
   ]
  },
  {
   "cell_type": "markdown",
   "metadata": {},
   "source": [
    "#### No firm dynamics"
   ]
  },
  {
   "cell_type": "code",
   "execution_count": 14,
   "metadata": {},
   "outputs": [
    {
     "name": "stdout",
     "output_type": "stream",
     "text": [
      " \n",
      "Optimization terminated:\n",
      " the current x satisfies the termination criteria using OPTIONS.TolX of 1.000000e-04 \n",
      " and F(X) satisfies the convergence criteria using OPTIONS.TolFun of 1.000000e-04 \n",
      "\n",
      "Elapsed time is 25.130225 seconds.\n",
      "   2.7574e-09\n",
      "\n",
      "Parameter Values\n",
      "d, theta, kappa, 1/chi\n",
      "    3.0228    4.9889    0.0370    3.2887\n",
      "\n",
      "Moments: Targets and Model\n",
      "    0.0079    0.0079\n",
      "    0.8937    0.8937\n",
      "    0.0330    0.0330\n",
      "    4.8000    4.8000\n",
      "\n"
     ]
    }
   ],
   "source": [
    "matlab_cmd = '''\"cd('src\\calibration');calibrate_wrap_no_firm_dynamics;\"'''\n",
    "\n",
    "!{matlab_path} -batch {matlab_cmd}"
   ]
  },
  {
   "cell_type": "markdown",
   "metadata": {},
   "source": [
    "---\n",
    "### <a name=\"welfare\"></a> Steady State Welfare Analysis\n",
    "\n",
    "Julia notebook is called which computes welfare across steady states for the baseline and then different alternative calibraitons"
   ]
  },
  {
   "cell_type": "code",
   "execution_count": 15,
   "metadata": {},
   "outputs": [
    {
     "name": "stderr",
     "output_type": "stream",
     "text": [
      "[NbConvertApp] Converting notebook SteadyState.ipynb to script\n",
      "[NbConvertApp] Writing 4263 bytes to SteadyState.jl\n"
     ]
    }
   ],
   "source": [
    "!jupyter nbconvert --to script SteadyState.ipynb"
   ]
  },
  {
   "cell_type": "code",
   "execution_count": 16,
   "metadata": {},
   "outputs": [
    {
     "name": "stdout",
     "output_type": "stream",
     "text": [
      "\n",
      "-------------------------------------------------------------------------\n",
      "Baselin vs. 10% Lower Trade Costs\n",
      "Table 4\n",
      "\n",
      "\n",
      "Change in Growth, Steady State to Steady State\n",
      "Growth in Baseline: 0.79\n",
      "Growth in New SS: 1.03\n",
      "\n",
      "\n",
      "Imports/GDP, Steady State to Steady State\n",
      "Imports/GDP in Baseline: 10.6\n",
      "Imports/GDP in New SS: 14.4\n",
      "\n",
      "\n",
      "Consumption Equivalent Welfare Gain, Steady State to Steady State\n",
      "CE gains: 11.2\n",
      "\n",
      "\n",
      "ACR Formula Consumption Equivalent Welfare Gain\n",
      "ACR gains: 0.87\n",
      "\n",
      "\n",
      "-------------------------------------------------------------------------\n",
      "Autarky Calculations\n",
      "\n",
      "\n",
      "Autarky Consumption Equivalent Welfare Gain, Steady State to Steady State\n",
      "Autarky CE gains: -22.1\n",
      "\n",
      "Autarky ACR Formula Consumption Equivalent Welfare Gain\n",
      "Autarky ACR gains: -2.21\n",
      "\n",
      "\n",
      "-------------------------------------------------------------------------\n",
      "Sampson Calibration\n",
      "\n",
      "\n",
      "Sampson Calibration, Change in Growth, Steady State to Steady State\n",
      "Growth in Baseline: 1.56\n",
      "Growth in New SS (Autarky): 1.33\n",
      "\n",
      "Sampson Calibration Consumption Equivalent Welfare Gain, Steady State to Steady State  (Autarky)\n",
      "CE gains: -3.3\n",
      "\n",
      "\n",
      "-------------------------------------------------------------------------\n",
      "No GBM Calibration\n",
      "\n",
      "No GBM Calibration, Change in Growth, Steady State to Steady State\n",
      "Growth in Baseline: 0.79\n",
      "Growth in New SS (Autarky): 0.63\n",
      "\n",
      "No GBM Calibration Consumption Equivalent Welfare Gain, Steady State to Steady State (Autarky)\n",
      "CE gains: -5.8\n"
     ]
    }
   ],
   "source": [
    "julia_command = '''SteadyState.jl'''\n",
    "\n",
    "!{julia_path} {julia_command}"
   ]
  },
  {
   "cell_type": "code",
   "execution_count": null,
   "metadata": {},
   "outputs": [],
   "source": []
  }
 ],
 "metadata": {
  "kernelspec": {
   "display_name": "Python 3",
   "language": "python",
   "name": "python3"
  },
  "language_info": {
   "codemirror_mode": {
    "name": "ipython",
    "version": 3
   },
   "file_extension": ".py",
   "mimetype": "text/x-python",
   "name": "python",
   "nbconvert_exporter": "python",
   "pygments_lexer": "ipython3",
   "version": "3.7.3"
  }
 },
 "nbformat": 4,
 "nbformat_minor": 4
}
