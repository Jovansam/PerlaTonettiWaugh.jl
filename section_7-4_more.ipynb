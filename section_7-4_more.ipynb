{
 "cells": [
  {
   "cell_type": "markdown",
   "metadata": {},
   "source": [
    "### Further Analysis: 7.4. The Welfare Effects of a Reduction in Trade Costs\n",
    "\n",
    "This is organized in the following way\n",
    "\n",
    "- [MATLAB calibration routines (Sampson, no firm dynamics, Atkenson and Burstein(](#cal)\n",
    "\n",
    "- [Welfare analysis](#welfare)"
   ]
  },
  {
   "cell_type": "markdown",
   "metadata": {},
   "source": [
    "---\n",
    "### <a name=\"cal\"></a> Matlab calibration routines\n",
    "\n",
    "The code below executes the calibration routines for several excercises to contrast our main welfare results. The excercises are (i) a calibration simmilar to Sampson (2016) (ii) a model with the GBM turned off or \"no firm dynamics\" and (iii) the comparison to Atkenson and Burstein."
   ]
  },
  {
   "cell_type": "code",
   "execution_count": 2,
   "metadata": {},
   "outputs": [],
   "source": [
    "matlab_path = '''matlab'''\n",
    "# This assumes that Matlab is in your path. If not then direct it to\n",
    "# program files / matlab / version/ bin/ matlab.exe\n",
    "# needs to be in triple quotes"
   ]
  },
  {
   "cell_type": "markdown",
   "metadata": {},
   "source": [
    "#### Sampson (2016)"
   ]
  },
  {
   "cell_type": "code",
   "execution_count": 3,
   "metadata": {},
   "outputs": [
    {
     "name": "stdout",
     "output_type": "stream",
     "text": [
      " \n",
      "Optimization terminated:\n",
      " the current x satisfies the termination criteria using OPTIONS.TolX of 1.000000e-04 \n",
      " and F(X) satisfies the convergence criteria using OPTIONS.TolFun of 1.000000e-04 \n",
      "\n",
      "Elapsed time is 24.031028 seconds.\n",
      "   7.0621e-10\n",
      "\n",
      "Parameter Values\n",
      "d, theta, kappa, 1/chi\n",
      "    3.4709    4.9889    0.0488    3.7392\n",
      "\n",
      "Moments: Sampson Targets and Model\n",
      "    0.0156    0.0156\n",
      "    0.9190    0.9190\n",
      "    0.0330    0.0330\n",
      "    4.8000    4.8000\n",
      "\n"
     ]
    }
   ],
   "source": [
    "matlab_cmd = '''\"cd('src\\calibration');calibrate_wrap_sampson;\"'''\n",
    "\n",
    "!{matlab_path} -batch {matlab_cmd}"
   ]
  },
  {
   "cell_type": "markdown",
   "metadata": {},
   "source": [
    "#### No firm dynamics"
   ]
  },
  {
   "cell_type": "code",
   "execution_count": 5,
   "metadata": {},
   "outputs": [
    {
     "name": "stdout",
     "output_type": "stream",
     "text": [
      " \n",
      "Optimization terminated:\n",
      " the current x satisfies the termination criteria using OPTIONS.TolX of 1.000000e-04 \n",
      " and F(X) satisfies the convergence criteria using OPTIONS.TolFun of 1.000000e-04 \n",
      "\n",
      "Elapsed time is 30.190825 seconds.\n",
      "   2.7574e-09\n",
      "\n",
      "Parameter Values\n",
      "d, theta, kappa, 1/chi\n",
      "    3.0228    4.9889    0.0370    3.2887\n",
      "\n",
      "Moments: Targets and Model\n",
      "    0.0079    0.0079\n",
      "    0.8937    0.8937\n",
      "    0.0330    0.0330\n",
      "    4.8000    4.8000\n",
      "\n"
     ]
    }
   ],
   "source": [
    "matlab_cmd = '''\"cd('src\\calibration');calibrate_wrap_no_firm_dynamics;\"'''\n",
    "\n",
    "!{matlab_path} -batch {matlab_cmd}"
   ]
  },
  {
   "cell_type": "markdown",
   "metadata": {},
   "source": [
    "---\n",
    "### <a name=\"welfare\"></a> Steady State Welfare Analysis\n",
    "\n",
    "Julia notebook is called which computes welfare across steady states for the baseline and then different alternative calibraitons"
   ]
  },
  {
   "cell_type": "code",
   "execution_count": 10,
   "metadata": {},
   "outputs": [
    {
     "name": "stderr",
     "output_type": "stream",
     "text": [
      "[NbConvertApp] Converting notebook SteadyState.ipynb to script\n",
      "[NbConvertApp] Writing 2668 bytes to SteadyState.jl\n"
     ]
    }
   ],
   "source": [
    "!jupyter nbconvert --to script SteadyState.ipynb"
   ]
  },
  {
   "cell_type": "code",
   "execution_count": 11,
   "metadata": {},
   "outputs": [
    {
     "name": "stdout",
     "output_type": "stream",
     "text": [
      "Î¸ = 4.988976587938262\n",
      "Îº = 0.104196324793307\n",
      "Ï‡ = 0.1268466120506935\n",
      "Î¼ = -0.031064624217571\n",
      "Ï… = 0.048301140601665\n",
      "Ïƒ = 3.16692413583811\n",
      "Î¶ = 1\n",
      "Î´ = 0.02\n",
      "Ï� = 0.020338044668517\n",
      "N = 10\n",
      "Î³ = 1.0\n",
      "Î· = 0.0\n",
      "Theta = 1\n",
      "d_0 = 3.022492825462601\n",
      "d_T = 2.820243542916341\n",
      "Growth in Baseline0.007913401963163568(new_sol.g, baseline_sol.g) = (0.010250822794505147, 0.007913401963163568)\n",
      "(1 - new_sol.Î»_ii, 1 - baseline_sol.Î»_ii) = (0.14442864132703293, 0.10629127170507924)\n",
      "(new_sol.U_bar, baseline_sol.U_bar) = (17.53434077667045, 12.322561075851024)\n",
      "100 * consumption_equivalent(new_sol.U_bar, baseline_sol.U_bar, params) = 11.181899506569914\n",
      "100 * ACR(new_sol.Î»_ii, baseline_sol.Î»_ii, params) = 0.8741354570533046\n",
      "(autarky_sol.g, baseline_sol.g) = (0.002306428334207917, 0.007913401963163568)\n",
      "(1 - autarky_sol.Î»_ii, 1 - baseline_sol.Î»_ii) = (0.0019367091412996196, 0.10629127170507924)\n",
      "(autarky_sol.U_bar, baseline_sol.U_bar) = (0.0535424911692474, 12.322561075851024)\n",
      "100 * consumption_equivalent(autarky_sol.U_bar, baseline_sol.U_bar, params) = -22.08314177705468\n",
      "100 * ACR(autarky_sol.Î»_ii, baseline_sol.Î»_ii, params) = -2.213615863648644\n",
      "(sampson_autarky_sol.g, sampson_baseline_sol.g) = (0.013310347483065137, 0.015597527953080179)\n",
      "(1 - sampson_autarky_sol.Î»_ii, 1 - sampson_baseline_sol.Î»_ii) = (0.0012263760766983989, 0.08093717757428653)\n",
      "(sampson_autarky_sol.U_bar, sampson_baseline_sol.U_bar) = (12.877667855998643, 13.707431467854175)\n",
      "100 * consumption_equivalent(sampson_autarky_sol.U_bar, sampson_baseline_sol.U_bar, sampson_params) = -3.2645781973902888\n",
      "100 * ACR(sampson_autarky_sol.Î»_ii, sampson_baseline_sol.Î»_ii, sampson_params) = -1.667174541931714\n",
      "(nogbm_autarky_sol.g, nogbm_baseline_sol.g) = (0.006152417632416587, 0.007811828654984608)\n",
      "(1 - nogbm_autarky_sol.Î»_ii, 1 - nogbm_baseline_sol.Î»_ii) = (0.0019781367339111178, 0.1061535037885517)\n",
      "(nogbm_autarky_sol.U_bar, nogbm_baseline_sol.U_bar) = (34.05664753404556, 36.96456177103026)\n",
      "100 * consumption_equivalent(nogbm_autarky_sol.U_bar, nogbm_baseline_sol.U_bar, nogbm_params) = -5.742641613764854\n",
      "100 * ACR(nogbm_autarky_sol.Î»_ii, nogbm_baseline_sol.Î»_ii, nogbm_params) = -2.209728140123245\n"
     ]
    }
   ],
   "source": [
    "julia_path = '''C:\\\\Users\\\\mwaugh\\\\AppData\\\\Local\\\\Programs\\\\Julia\\\\Julia-1.4.0\\\\bin\\\\julia.exe'''\n",
    "julia_command = '''SteadyState.jl'''\n",
    "\n",
    "!{julia_path} {julia_command}"
   ]
  },
  {
   "cell_type": "code",
   "execution_count": null,
   "metadata": {},
   "outputs": [],
   "source": []
  }
 ],
 "metadata": {
  "kernelspec": {
   "display_name": "Python 3",
   "language": "python",
   "name": "python3"
  },
  "language_info": {
   "codemirror_mode": {
    "name": "ipython",
    "version": 3
   },
   "file_extension": ".py",
   "mimetype": "text/x-python",
   "name": "python",
   "nbconvert_exporter": "python",
   "pygments_lexer": "ipython3",
   "version": "3.7.3"
  }
 },
 "nbformat": 4,
 "nbformat_minor": 4
}
