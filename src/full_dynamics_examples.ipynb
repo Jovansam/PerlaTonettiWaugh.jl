{
 "cells": [
  {
   "cell_type": "code",
   "execution_count": null,
   "metadata": {},
   "outputs": [],
   "source": [
    "using PerlaTonettiWaugh, Plots, BenchmarkTools"
   ]
  },
  {
   "cell_type": "code",
   "execution_count": null,
   "metadata": {},
   "outputs": [],
   "source": [
    "z_min = 0.0 \n",
    "z_max = 5.0\n",
    "M = 1000\n",
    "z_grid = range(z_min, stop = z_max, length = M) # Since we only care about the grid. \n",
    "\n",
    "# Time\n",
    "tstops_min_Δ_val = 1e-3 # minimum distance between tstops to be used for DE solvers.\n",
    "# Define common objects. \n",
    "d_0 = 5\n",
    "d_T = 2.3701\n",
    "params = (ρ = 0.02, σ = 4.2508, N = 10, θ = 5.1269, γ = 1.00, κ = 0.013, ζ = 1, η = 0, Theta = 1, χ = 1/(2.1868), υ = 0.0593, μ = 0, δ = 0.053, d = 2.3701) # Baselines per Jesse. \n",
    "stationary_sol = stationary_numerical(params, z_grid) # solution at t = T\n",
    "println(\"g = $(stationary_sol.g), z_hat = $(stationary_sol.z_hat), Ω = $(stationary_sol.Ω)\")"
   ]
  },
  {
   "cell_type": "code",
   "execution_count": null,
   "metadata": {},
   "outputs": [],
   "source": [
    "T = 5.0\n",
    "settings = (z = z_grid, tstops = 0:T)\n",
    "Ω(t) = stationary_sol.Ω\n",
    "stationary_sol.Ω\n",
    "Δ_E = 1e-4\n",
    "E(t) = (log(Ω(t+Δ_E)) - log(Ω(t-Δ_E)))/(2*Δ_E) + params.δ\n",
    "p = PerlaTonettiWaugh.get_p(params, stationary_sol, settings, Ω, T)\n",
    "dae = PerlaTonettiWaugh.PTW_DAEProblem(params, stationary_sol, settings, E, Ω, T, p)"
   ]
  },
  {
   "cell_type": "code",
   "execution_count": 6,
   "metadata": {
    "scrolled": true
   },
   "outputs": [
    {
     "name": "stdout",
     "output_type": "stream",
     "text": [
      "  137.945 μs (138 allocations: 228.75 KiB)\n"
     ]
    },
    {
     "data": {
      "text/plain": [
       "1000-element view(::Array{Float64,1}, 1:1000) with eltype Float64:\n",
       " -9.016777602344206e-11 \n",
       " -9.016067059608446e-11 \n",
       " -9.0108712158532e-11   \n",
       " -9.012425528087675e-11 \n",
       " -9.013580160033285e-11 \n",
       " -9.011714985351915e-11 \n",
       " -9.015534152556626e-11 \n",
       " -9.012958435139495e-11 \n",
       " -9.015001245504806e-11 \n",
       " -9.013646773414763e-11 \n",
       " -9.011559554128468e-11 \n",
       " -9.012669777153093e-11 \n",
       " -9.014135271545598e-11 \n",
       "  ⋮                     \n",
       " -1.3921148955819973e-10\n",
       " -1.392155002388762e-10 \n",
       " -1.3922039909797235e-10\n",
       " -1.3920428698632747e-10\n",
       " -1.3921387653770267e-10\n",
       " -1.392089638008187e-10 \n",
       " -1.3921823416307433e-10\n",
       " -1.392134046929172e-10 \n",
       " -1.3921583330578358e-10\n",
       " -1.3920969932357252e-10\n",
       " -1.3921971908636976e-10\n",
       " -1.3921680475093012e-10"
      ]
     },
     "execution_count": 6,
     "metadata": {},
     "output_type": "execute_result"
    }
   ],
   "source": [
    "#Testing the f!\n",
    "du = zeros(M)\n",
    "u = [stationary_sol.v_tilde; stationary_sol.g; stationary_sol.z_hat]\n",
    "resid = similar(u)\n",
    "du = zeros(M+2)\n",
    "t = 0.0\n",
    "@btime dae.f!($resid,$du,$u,$p,$t)"
   ]
  },
  {
   "cell_type": "code",
   "execution_count": 7,
   "metadata": {},
   "outputs": [
    {
     "data": {
      "text/plain": [
       "1002-element Array{Float64,1}:\n",
       " -9.016777602344206e-11 \n",
       " -9.016067059608446e-11 \n",
       " -9.0108712158532e-11   \n",
       " -9.012425528087675e-11 \n",
       " -9.013580160033285e-11 \n",
       " -9.011714985351915e-11 \n",
       " -9.015534152556626e-11 \n",
       " -9.012958435139495e-11 \n",
       " -9.015001245504806e-11 \n",
       " -9.013646773414763e-11 \n",
       " -9.011559554128468e-11 \n",
       " -9.012669777153093e-11 \n",
       " -9.014135271545598e-11 \n",
       "  ⋮                     \n",
       " -1.3922039909797235e-10\n",
       " -1.3920428698632747e-10\n",
       " -1.3921387653770267e-10\n",
       " -1.392089638008187e-10 \n",
       " -1.3921823416307433e-10\n",
       " -1.392134046929172e-10 \n",
       " -1.3921583330578358e-10\n",
       " -1.3920969932357252e-10\n",
       " -1.3921971908636976e-10\n",
       " -1.3921680475093012e-10\n",
       " -2.7400304247748863e-13\n",
       "  4.208980275421936e-9  "
      ]
     },
     "execution_count": 7,
     "metadata": {},
     "output_type": "execute_result"
    }
   ],
   "source": [
    "resid"
   ]
  },
  {
   "cell_type": "code",
   "execution_count": null,
   "metadata": {},
   "outputs": [],
   "source": []
  }
 ],
 "metadata": {
  "kernelspec": {
   "display_name": "Julia 1.0.0",
   "language": "julia",
   "name": "julia-1.0"
  },
  "language_info": {
   "file_extension": ".jl",
   "mimetype": "application/julia",
   "name": "julia",
   "version": "1.0.0"
  }
 },
 "nbformat": 4,
 "nbformat_minor": 2
}
