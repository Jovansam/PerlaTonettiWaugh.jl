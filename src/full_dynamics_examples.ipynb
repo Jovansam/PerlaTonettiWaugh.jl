{
 "cells": [
  {
   "cell_type": "code",
   "execution_count": 21,
   "metadata": {},
   "outputs": [],
   "source": [
    "using PerlaTonettiWaugh, Plots, BenchmarkTools"
   ]
  },
  {
   "cell_type": "code",
   "execution_count": 17,
   "metadata": {},
   "outputs": [
    {
     "name": "stdout",
     "output_type": "stream",
     "text": [
      "g = 0.020419880554626162, z_hat = 1.425712535487968, Ω = 1.0365494651388318\n"
     ]
    }
   ],
   "source": [
    "z_min = 0.0 \n",
    "z_max = 5.0\n",
    "M = 1000\n",
    "z_grid = range(z_min, stop = z_max, length = M) # Since we only care about the grid. \n",
    "\n",
    "# Time\n",
    "tstops_min_Δ_val = 1e-3 # minimum distance between tstops to be used for DE solvers.\n",
    "# Define common objects. \n",
    "d_0 = 5\n",
    "d_T = 2.3701\n",
    "params = (ρ = 0.02, σ = 4.2508, N = 10, θ = 5.1269, γ = 1.00, κ = 0.013, ζ = 1, η = 0, Theta = 1, χ = 1/(2.1868), υ = 0.0593, μ = 0, δ = 0.053, d = 2.3701) # Baselines per Jesse. \n",
    "stationary_sol = stationary_numerical(params, z_grid) # solution at t = T\n",
    "println(\"g = $(stationary_sol.g), z_hat = $(stationary_sol.z_hat), Ω = $(stationary_sol.Ω)\")"
   ]
  },
  {
   "cell_type": "code",
   "execution_count": 22,
   "metadata": {},
   "outputs": [
    {
     "data": {
      "text/plain": [
       "(dae_prob = \u001b[36mDAEProblem\u001b[0m with uType \u001b[36mArray{Float64,1}\u001b[0m and tType \u001b[36mFloat64\u001b[0m. In-place: \u001b[36mtrue\u001b[0m\n",
       "timespan: (5.0, 0.0)\n",
       "u0: [1.1868, 1.16807, 1.14991, 1.13229, 1.11521, 1.09864, 1.08257, 1.06699, 1.05188, 1.03723  …  0.737586, 0.730145, 0.722277, 0.713959, 0.705163, 0.695863, 0.68603, 0.675633, 0.0204199, 1.42571]\n",
       "du0: [0.0, 0.0, 0.0, 0.0, 0.0, 0.0, 0.0, 0.0, 0.0, 0.0  …  0.0, 0.0, 0.0, 0.0, 0.0, 0.0, 0.0, 0.0, 0.0, 0.0], callback = DiffEqBase.DiscreteCallback{getfield(DiffEqCallbacks, Symbol(\"##28#29\")),DiffEqCallbacks.SavingAffect{getfield(PerlaTonettiWaugh, Symbol(\"##57#63\")){typeof(E),typeof(Ω),getfield(PerlaTonettiWaugh, Symbol(\"#get_S#58\")){Int64,Float64,Float64},getfield(PerlaTonettiWaugh, Symbol(\"#get_L_tilde#59\")){Float64,Float64,Float64,Int64,Int64}},Float64,Tuple{Float64,Float64},DataStructures.BinaryHeap{Float64,DataStructures.GreaterThan},Array{Float64,1}},typeof(DiffEqCallbacks.saving_initialize)}(getfield(DiffEqCallbacks, Symbol(\"##28#29\"))(), DiffEqCallbacks.SavingAffect{getfield(PerlaTonettiWaugh, Symbol(\"##57#63\")){typeof(E),typeof(Ω),getfield(PerlaTonettiWaugh, Symbol(\"#get_S#58\")){Int64,Float64,Float64},getfield(PerlaTonettiWaugh, Symbol(\"#get_L_tilde#59\")){Float64,Float64,Float64,Int64,Int64}},Float64,Tuple{Float64,Float64},DataStructures.BinaryHeap{Float64,DataStructures.GreaterThan},Array{Float64,1}}(getfield(PerlaTonettiWaugh, Symbol(\"##57#63\")){typeof(E),typeof(Ω),getfield(PerlaTonettiWaugh, Symbol(\"#get_S#58\")){Int64,Float64,Float64},getfield(PerlaTonettiWaugh, Symbol(\"#get_L_tilde#59\")){Float64,Float64,Float64,Int64,Int64}}(E, Ω, Core.Box(1000), getfield(PerlaTonettiWaugh, Symbol(\"#get_S#58\")){Int64,Float64,Float64}(0, 0.0593, 5.1269), getfield(PerlaTonettiWaugh, Symbol(\"#get_L_tilde#59\")){Float64,Float64,Float64,Int64,Int64}(0.013, 5.1269, 0.4572891896835559, 10, 1)), SavedValues{tType=Float64, savevalType=Tuple{Float64,Float64}}\n",
       "t:\n",
       "Float64[]\n",
       "saveval:\n",
       "Tuple{Float64,Float64}[], DataStructures.BinaryHeap{Float64,DataStructures.GreaterThan}(DataStructures.GreaterThan(), Float64[]), Float64[], true, true, 0), DiffEqCallbacks.saving_initialize, (false, false)), stationary_equilibrium = getfield(PerlaTonettiWaugh, Symbol(\"#stationary_equilibrium#62\")){Float64,Float64,Float64,Float64,Float64,Int64,Int64,getfield(PerlaTonettiWaugh, Symbol(\"#get_S#58\")){Int64,Float64,Float64},getfield(PerlaTonettiWaugh, Symbol(\"#get_L_tilde#59\")){Float64,Float64,Float64,Int64,Int64}}(Core.Box(0.0:0.005005005005005005:5.0), 4.2508, 2.3701, 0.013, 5.1269, 0.4572891896835559, 10, 1, getfield(PerlaTonettiWaugh, Symbol(\"#get_S#58\")){Int64,Float64,Float64}(0, 0.0593, 5.1269), getfield(PerlaTonettiWaugh, Symbol(\"#get_L_tilde#59\")){Float64,Float64,Float64,Int64,Int64}(0.013, 5.1269, 0.4572891896835559, 10, 1)), f! = getfield(PerlaTonettiWaugh, Symbol(\"#f!#64\")){typeof(E),typeof(Ω),BandedMatrices.BandedMatrix{Float64,Array{Float64,2}},BandedMatrices.BandedMatrix{Float64,Array{Float64,2}},Int64,Float64,Float64,Float64,Float64,Array{Float64,1},Float64,Float64,Int64,Int64,Float64,getfield(PerlaTonettiWaugh, Symbol(\"#get_S#58\")){Int64,Float64,Float64},getfield(PerlaTonettiWaugh, Symbol(\"#get_L_tilde#59\")){Float64,Float64,Float64,Int64,Int64},getfield(PerlaTonettiWaugh, Symbol(\"#get_L_tilde_derivative_term#60\")){NamedTuple{(:ρ, :σ, :N, :θ, :γ, :κ, :ζ, :η, :Theta, :χ, :υ, :μ, :δ, :d),Tuple{Float64,Float64,Int64,Float64,Float64,Float64,Int64,Int64,Int64,Float64,Float64,Int64,Float64,Float64}},Float64}}(E, Ω, Core.Box(0.0:0.005005005005005005:5.0), Core.Box(1000), [-3.2508 0.0 … 0.0 0.0; -199.8 199.8 … 0.0 0.0; … ; 0.0 0.0 … 199.8 0.0; 0.0 0.0 … -199.8 199.8], [-39270.5 39920.0 … 0.0 0.0; 39920.0 -79840.1 … 0.0 0.0; … ; 0.0 0.0 … -79840.1 39920.0; 0.0 0.0 … 39920.0 -40569.5], 0, 0.0593, 4.2508, 2.3701, 0.013, [0.0128301, 0.0254203, 0.0251828, 0.0249474, 0.0247143, 0.0244833, 0.0242545, 0.0240278, 0.0238032, 0.0235807  …  2.35538e-6, 2.33337e-6, 2.31156e-6, 2.28996e-6, 2.26856e-6, 2.24736e-6, 2.22635e-6, 2.20555e-6, 2.18493e-6, 1.08226e-6], 5.1269, 0.053, 10, 1, 0.02, getfield(PerlaTonettiWaugh, Symbol(\"#get_S#58\")){Int64,Float64,Float64}(0, 0.0593, 5.1269), getfield(PerlaTonettiWaugh, Symbol(\"#get_L_tilde#59\")){Float64,Float64,Float64,Int64,Int64}(0.013, 5.1269, 0.4572891896835559, 10, 1), getfield(PerlaTonettiWaugh, Symbol(\"#get_L_tilde_derivative_term#60\")){NamedTuple{(:ρ, :σ, :N, :θ, :γ, :κ, :ζ, :η, :Theta, :χ, :υ, :μ, :δ, :d),Tuple{Float64,Float64,Int64,Float64,Float64,Float64,Int64,Int64,Int64,Float64,Float64,Int64,Float64,Float64}},Float64}((ρ = 0.02, σ = 4.2508, N = 10, θ = 5.1269, γ = 1.0, κ = 0.013, ζ = 1, η = 0, Theta = 1, χ = 0.4572891896835559, υ = 0.0593, μ = 0, δ = 0.053, d = 2.3701), 5.0)))"
      ]
     },
     "execution_count": 22,
     "metadata": {},
     "output_type": "execute_result"
    }
   ],
   "source": [
    "T = 5.0\n",
    "settings = (z = z_grid, tstops = 0:T)\n",
    "Ω(t) = stationary_sol.Ω\n",
    "stationary_sol.Ω\n",
    "Δ_E = 1e-4\n",
    "E(t) = (log(Ω(t+Δ_E)) - log(Ω(t-Δ_E)))/(2*Δ_E) + params.δ\n",
    "p = PerlaTonettiWaugh.get_p(params, stationary_sol, settings, Ω, T)\n",
    "dae = PerlaTonettiWaugh.PTW_DAEProblem(params, stationary_sol, settings, E, Ω, T, p)"
   ]
  },
  {
   "cell_type": "code",
   "execution_count": 20,
   "metadata": {},
   "outputs": [
    {
     "name": "stdout",
     "output_type": "stream",
     "text": [
      "  6.239 ms (126 allocations: 7.81 MiB)\n"
     ]
    },
    {
     "data": {
      "text/plain": [
       "1000-element view(::Array{Float64,1}, 1:1000) with eltype Float64:\n",
       " -9.016466739897311e-11 \n",
       " -9.016466739897311e-11 \n",
       " -9.016466739897311e-11 \n",
       " -9.01504565442579e-11  \n",
       " -9.01504565442579e-11  \n",
       " -9.01362456895427e-11  \n",
       " -9.016466739897311e-11 \n",
       " -9.01362456895427e-11  \n",
       " -9.01504565442579e-11  \n",
       " -9.01362456895427e-11  \n",
       " -9.01362456895427e-11  \n",
       " -9.01504565442579e-11  \n",
       " -9.01504565442579e-11  \n",
       "  ⋮                     \n",
       " -1.3922836494817403e-10\n",
       " -1.3923437403029482e-10\n",
       " -1.392208431871822e-10 \n",
       " -1.392249371345855e-10 \n",
       " -1.3922608899097355e-10\n",
       " -1.3921717945120093e-10\n",
       " -1.3921867825228418e-10\n",
       " -1.3922184238790436e-10\n",
       " -1.3922427100077073e-10\n",
       " -1.392370108099783e-10 \n",
       " -1.3922771269214707e-10\n",
       " -1.39220135420004e-10  "
      ]
     },
     "execution_count": 20,
     "metadata": {},
     "output_type": "execute_result"
    }
   ],
   "source": [
    "#Testing the f!\n",
    "du = zeros(M)\n",
    "u = [stationary_sol.v_tilde; stationary_sol.g; stationary_sol.z_hat]\n",
    "resid = similar(u)\n",
    "du = zeros(M+2)\n",
    "t = 0.0\n",
    "@btime dae.f!($resid,$du,$u,$p,$t)"
   ]
  },
  {
   "cell_type": "code",
   "execution_count": 8,
   "metadata": {},
   "outputs": [
    {
     "data": {
      "text/plain": [
       "1000-element Array{Float64,1}:\n",
       " 1.186800000000357 \n",
       " 1.168072362393182 \n",
       " 1.1499093016976925\n",
       " 1.1322940036233045\n",
       " 1.115210166396562 \n",
       " 1.098641985818218 \n",
       " 1.0825741407943366\n",
       " 1.0669917793286445\n",
       " 1.051880504963822 \n",
       " 1.0372263636598893\n",
       " 1.0230158310982842\n",
       " 1.009235800400677 \n",
       " 0.9958735702519935\n",
       " ⋮                 \n",
       " 0.7635286699344704\n",
       " 0.7575748485995273\n",
       " 0.7512797025406552\n",
       " 0.7446236640762685\n",
       " 0.7375860437360083\n",
       " 0.7301449659501112\n",
       " 0.7222773010519343\n",
       " 0.7139585933822786\n",
       " 0.7051629852720296\n",
       " 0.6958631366668258\n",
       " 0.6860301401439184\n",
       " 0.675633431057062 "
      ]
     },
     "execution_count": 8,
     "metadata": {},
     "output_type": "execute_result"
    }
   ],
   "source": []
  },
  {
   "cell_type": "code",
   "execution_count": null,
   "metadata": {},
   "outputs": [],
   "source": []
  }
 ],
 "metadata": {
  "kernelspec": {
   "display_name": "Julia 1.0.0",
   "language": "julia",
   "name": "julia-1.0"
  },
  "language_info": {
   "file_extension": ".jl",
   "mimetype": "application/julia",
   "name": "julia",
   "version": "1.0.0"
  }
 },
 "nbformat": 4,
 "nbformat_minor": 2
}
