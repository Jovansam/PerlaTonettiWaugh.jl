{
 "cells": [
  {
   "cell_type": "code",
   "execution_count": 1,
   "metadata": {},
   "outputs": [],
   "source": [
    "using PerlaTonettiWaugh"
   ]
  },
  {
   "cell_type": "markdown",
   "metadata": {},
   "source": [
    "# Steady-State Comparison"
   ]
  },
  {
   "cell_type": "code",
   "execution_count": 2,
   "metadata": {},
   "outputs": [],
   "source": [
    "params = load_parameters(\"parameters/calibration_params.csv\")\n",
    "baseline = merge(params, (d = params.d_0,))\n",
    "baseline_sol = stationary_algebraic(baseline, settings_defaults());"
   ]
  },
  {
   "cell_type": "code",
   "execution_count": 3,
   "metadata": {},
   "outputs": [],
   "source": [
    "new_params = merge(params, (d = params.d_T,))\n",
    "new_sol = stationary_algebraic(new_params, settings_defaults());"
   ]
  },
  {
   "cell_type": "code",
   "execution_count": 4,
   "metadata": {},
   "outputs": [
    {
     "name": "stdout",
     "output_type": "stream",
     "text": [
      "(new_sol.g, baseline_sol.g) = (0.010250822794504864, 0.007913401963163308)\n"
     ]
    }
   ],
   "source": [
    "@show (new_sol.g, baseline_sol.g);"
   ]
  },
  {
   "cell_type": "code",
   "execution_count": 5,
   "metadata": {},
   "outputs": [
    {
     "name": "stdout",
     "output_type": "stream",
     "text": [
      "(1 - new_sol.λ_ii, 1 - baseline_sol.λ_ii) = (0.14442864132703293, 0.10629127170507902)\n"
     ]
    }
   ],
   "source": [
    "@show (1 - new_sol.λ_ii, 1 - baseline_sol.λ_ii);"
   ]
  },
  {
   "cell_type": "code",
   "execution_count": 6,
   "metadata": {},
   "outputs": [
    {
     "name": "stdout",
     "output_type": "stream",
     "text": [
      "(new_sol.U_bar, baseline_sol.U_bar) = (17.534340776669858, 12.322561075850476)\n"
     ]
    }
   ],
   "source": [
    "@show (new_sol.U_bar, baseline_sol.U_bar);"
   ]
  },
  {
   "cell_type": "code",
   "execution_count": 7,
   "metadata": {},
   "outputs": [
    {
     "name": "stdout",
     "output_type": "stream",
     "text": [
      "100 * consumption_equivalent(new_sol.U_bar, baseline_sol.U_bar, params) = 11.181899506569803\n"
     ]
    }
   ],
   "source": [
    "@show 100*consumption_equivalent(new_sol.U_bar, baseline_sol.U_bar, params);"
   ]
  },
  {
   "cell_type": "markdown",
   "metadata": {},
   "source": [
    "# Transition Dynamics"
   ]
  },
  {
   "cell_type": "code",
   "execution_count": 8,
   "metadata": {},
   "outputs": [
    {
     "name": "stderr",
     "output_type": "stream",
     "text": [
      "┌ Info: Precompiling Plots [91a5bcdd-55d7-5caf-9e0b-520d859cae80]\n",
      "└ @ Base loading.jl:1260\n",
      "WARNING: using BenchmarkTools.params in module Main conflicts with an existing identifier.\n"
     ]
    },
    {
     "data": {
      "text/plain": [
       "Plots.GRBackend()"
      ]
     },
     "execution_count": 8,
     "metadata": {},
     "output_type": "execute_result"
    }
   ],
   "source": [
    "using CSV, Plots, JSON, BenchmarkTools, Parameters, DataFrames, Suppressor\n",
    "gr(fmt = :png)"
   ]
  },
  {
   "cell_type": "code",
   "execution_count": 9,
   "metadata": {},
   "outputs": [
    {
     "data": {
      "text/plain": [
       "(ρ = 0.020338044668517, σ = 3.16692413583811, θ = 4.98897658793826, κ = 0.104196324793307, χ = 0.126846612050694, μ = -0.0310646242175711, υ = 0.0483011406016648, ζ = 1, δ = 0.02, N = 10, γ = 1, η = 0, Theta = 1, d_0 = 3.0224928254626, d_T = 2.82024354291634)"
      ]
     },
     "execution_count": 9,
     "metadata": {},
     "output_type": "execute_result"
    }
   ],
   "source": [
    "overall_parameters = load_parameters(\"parameters/calibration_params.csv\")"
   ]
  },
  {
   "cell_type": "code",
   "execution_count": 10,
   "metadata": {},
   "outputs": [],
   "source": [
    "settings = settings_defaults(); # numerical solution settings\n",
    "@unpack stationary_T, stationary_0, change_welfare, change_trade = compare_steady_states(overall_parameters, settings);"
   ]
  },
  {
   "cell_type": "markdown",
   "metadata": {},
   "source": [
    "Note that everything from here on out is using the **numerical** solution, so the values might be slightly different than the algebraic one. \n",
    "\n",
    "We do this so that the endpoints are valid targets for the dynamical experiment. \n",
    "\n",
    "To use the algebraic one, simply add `algebraic = true` to the `compare_steady_states` function above. "
   ]
  },
  {
   "cell_type": "code",
   "execution_count": 11,
   "metadata": {},
   "outputs": [
    {
     "name": "stdout",
     "output_type": "stream",
     "text": [
      "(stationary_T.g, stationary_T.z_hat, stationary_T.Ω, stationary_T.L_tilde) = (0.010256161538647203, 1.8523062408854238, 0.6508139010470979, 0.24606267582490407)\n"
     ]
    }
   ],
   "source": [
    "@show (stationary_T.g, stationary_T.z_hat, stationary_T.Ω, stationary_T.L_tilde); # inspect time T solution"
   ]
  },
  {
   "cell_type": "code",
   "execution_count": 12,
   "metadata": {},
   "outputs": [
    {
     "name": "stdout",
     "output_type": "stream",
     "text": [
      "(stationary_0.g, stationary_0.z_hat, stationary_0.Ω, stationary_0.L_tilde) = (0.007920170474471236, 1.988197541033372, 0.6852422606330657, 0.24226457898689088)\n"
     ]
    }
   ],
   "source": [
    "@show (stationary_0.g, stationary_0.z_hat, stationary_0.Ω, stationary_0.L_tilde); # inspect time 0 solution"
   ]
  },
  {
   "cell_type": "code",
   "execution_count": 13,
   "metadata": {},
   "outputs": [
    {
     "data": {
      "text/plain": [
       "true"
      ]
     },
     "execution_count": 13,
     "metadata": {},
     "output_type": "execute_result"
    }
   ],
   "source": [
    "cachename = model_cachename(overall_parameters, settings) # uniquely identify the run by parameters + settings\n",
    "cachepath = joinpath(pwd(), \"data\", cachename * \".csv\")\n",
    "use_cache = true # change this to false if you don't want to use the cache for a run\n",
    "write_cache = true # change this to false if you don't want to generate *any* cache files for a run"
   ]
  },
  {
   "cell_type": "code",
   "execution_count": 14,
   "metadata": {},
   "outputs": [
    {
     "data": {
      "text/plain": [
       "\"1921969888308317018\""
      ]
     },
     "execution_count": 14,
     "metadata": {},
     "output_type": "execute_result"
    }
   ],
   "source": [
    "cachename # this is the hash for this run"
   ]
  },
  {
   "cell_type": "code",
   "execution_count": 15,
   "metadata": {},
   "outputs": [
    {
     "name": "stdout",
     "output_type": "stream",
     "text": [
      "solving without cache.\n",
      "618.985817 seconds (2.11 G allocations: 720.198 GiB, 28.47% gc time)\n"
     ]
    },
    {
     "data": {
      "text/html": [
       "<table class=\"data-frame\"><thead><tr><th></th><th>t</th><th>g</th><th>z_hat</th><th>Ω</th><th>E</th><th>v_1</th><th>L_tilde</th><th>entry_residual</th></tr><tr><th></th><th>Float64</th><th>Float64</th><th>Float64</th><th>Float64</th><th>Float64</th><th>Float64</th><th>Float64</th><th>Float64</th></tr></thead><tbody><p>176 rows × 21 columns (omitted printing of 13 columns)</p><tr><th>1</th><td>-20.0</td><td>0.00792017</td><td>1.9882</td><td>0.685242</td><td>0.02</td><td>6.86678</td><td>0.242265</td><td>2.08367e-12</td></tr><tr><th>2</th><td>-15.0</td><td>0.00792017</td><td>1.9882</td><td>0.685242</td><td>0.02</td><td>6.86678</td><td>0.242265</td><td>2.08367e-12</td></tr><tr><th>3</th><td>-10.0</td><td>0.00792017</td><td>1.9882</td><td>0.685242</td><td>0.02</td><td>6.86678</td><td>0.242265</td><td>2.08367e-12</td></tr><tr><th>4</th><td>-5.0</td><td>0.00792017</td><td>1.9882</td><td>0.685242</td><td>0.02</td><td>6.86678</td><td>0.242265</td><td>2.08367e-12</td></tr><tr><th>5</th><td>-1.0</td><td>0.00792017</td><td>1.9882</td><td>0.685242</td><td>0.02</td><td>6.86678</td><td>0.242265</td><td>2.08367e-12</td></tr><tr><th>6</th><td>0.0</td><td>0.00903988</td><td>1.87401</td><td>0.685242</td><td>0.0156134</td><td>6.86678</td><td>0.229549</td><td>0.0</td></tr><tr><th>7</th><td>0.25</td><td>0.00904654</td><td>1.87389</td><td>0.684969</td><td>0.0156577</td><td>6.86678</td><td>0.229729</td><td>0.0</td></tr><tr><th>8</th><td>0.5</td><td>0.0090532</td><td>1.87377</td><td>0.684697</td><td>0.0157018</td><td>6.86678</td><td>0.229908</td><td>0.0</td></tr><tr><th>9</th><td>0.75</td><td>0.00905986</td><td>1.87364</td><td>0.684425</td><td>0.0157457</td><td>6.86678</td><td>0.230085</td><td>0.0</td></tr><tr><th>10</th><td>1.0</td><td>0.00906652</td><td>1.87352</td><td>0.684155</td><td>0.0157894</td><td>6.86678</td><td>0.230262</td><td>0.0</td></tr><tr><th>11</th><td>1.25</td><td>0.00907318</td><td>1.8734</td><td>0.683886</td><td>0.0158329</td><td>6.86678</td><td>0.230437</td><td>0.0</td></tr><tr><th>12</th><td>1.5</td><td>0.00907984</td><td>1.87328</td><td>0.683617</td><td>0.0158762</td><td>6.86678</td><td>0.230612</td><td>0.0</td></tr><tr><th>13</th><td>1.75</td><td>0.0090865</td><td>1.87316</td><td>0.68335</td><td>0.0159192</td><td>6.86678</td><td>0.230785</td><td>0.0</td></tr><tr><th>14</th><td>2.0</td><td>0.00909317</td><td>1.87304</td><td>0.683083</td><td>0.0159621</td><td>6.86678</td><td>0.230958</td><td>0.0</td></tr><tr><th>15</th><td>2.25</td><td>0.00909983</td><td>1.87292</td><td>0.682818</td><td>0.0160047</td><td>6.86678</td><td>0.231129</td><td>0.0</td></tr><tr><th>16</th><td>2.5</td><td>0.0091065</td><td>1.8728</td><td>0.682554</td><td>0.0160471</td><td>6.86678</td><td>0.231299</td><td>0.0</td></tr><tr><th>17</th><td>2.75</td><td>0.00911317</td><td>1.87267</td><td>0.68229</td><td>0.0160893</td><td>6.86678</td><td>0.231469</td><td>0.0</td></tr><tr><th>18</th><td>3.0</td><td>0.00911984</td><td>1.87255</td><td>0.682027</td><td>0.0161313</td><td>6.86678</td><td>0.231637</td><td>0.0</td></tr><tr><th>19</th><td>3.25</td><td>0.00912651</td><td>1.87243</td><td>0.681766</td><td>0.016173</td><td>6.86678</td><td>0.231804</td><td>0.0</td></tr><tr><th>20</th><td>3.5</td><td>0.00913318</td><td>1.87231</td><td>0.681505</td><td>0.0162146</td><td>6.86678</td><td>0.231971</td><td>0.0</td></tr><tr><th>21</th><td>3.75</td><td>0.00913985</td><td>1.87219</td><td>0.681245</td><td>0.0162559</td><td>6.86678</td><td>0.232136</td><td>0.0</td></tr><tr><th>22</th><td>4.0</td><td>0.00914653</td><td>1.87207</td><td>0.680987</td><td>0.016297</td><td>6.86678</td><td>0.2323</td><td>0.0</td></tr><tr><th>23</th><td>4.25</td><td>0.00915321</td><td>1.87195</td><td>0.680729</td><td>0.0163379</td><td>6.86678</td><td>0.232464</td><td>0.0</td></tr><tr><th>24</th><td>4.5</td><td>0.00915989</td><td>1.87183</td><td>0.680472</td><td>0.0163786</td><td>6.86678</td><td>0.232626</td><td>0.0</td></tr><tr><th>25</th><td>4.75</td><td>0.00916657</td><td>1.8717</td><td>0.680216</td><td>0.0164191</td><td>6.86678</td><td>0.232787</td><td>0.0</td></tr><tr><th>26</th><td>5.0</td><td>0.00917325</td><td>1.87158</td><td>0.679961</td><td>0.0164593</td><td>6.86678</td><td>0.232947</td><td>0.0</td></tr><tr><th>27</th><td>5.25</td><td>0.00917994</td><td>1.87146</td><td>0.679707</td><td>0.0164993</td><td>6.86678</td><td>0.233106</td><td>0.0</td></tr><tr><th>28</th><td>5.5</td><td>0.00918663</td><td>1.87134</td><td>0.679454</td><td>0.0165391</td><td>6.86678</td><td>0.233265</td><td>0.0</td></tr><tr><th>29</th><td>5.75</td><td>0.00919332</td><td>1.87122</td><td>0.679202</td><td>0.0165787</td><td>6.86678</td><td>0.233422</td><td>0.0</td></tr><tr><th>30</th><td>6.0</td><td>0.00920001</td><td>1.8711</td><td>0.678951</td><td>0.0166181</td><td>6.86678</td><td>0.233578</td><td>0.0</td></tr><tr><th>&vellip;</th><td>&vellip;</td><td>&vellip;</td><td>&vellip;</td><td>&vellip;</td><td>&vellip;</td><td>&vellip;</td><td>&vellip;</td><td>&vellip;</td></tr></tbody></table>"
      ],
      "text/latex": [
       "\\begin{tabular}{r|ccccccccc}\n",
       "\t& t & g & z\\_hat & Ω & E & v\\_1 & L\\_tilde & entry\\_residual & \\\\\n",
       "\t\\hline\n",
       "\t& Float64 & Float64 & Float64 & Float64 & Float64 & Float64 & Float64 & Float64 & \\\\\n",
       "\t\\hline\n",
       "\t1 & -20.0 & 0.00792017 & 1.9882 & 0.685242 & 0.02 & 6.86678 & 0.242265 & 2.08367e-12 & $\\dots$ \\\\\n",
       "\t2 & -15.0 & 0.00792017 & 1.9882 & 0.685242 & 0.02 & 6.86678 & 0.242265 & 2.08367e-12 & $\\dots$ \\\\\n",
       "\t3 & -10.0 & 0.00792017 & 1.9882 & 0.685242 & 0.02 & 6.86678 & 0.242265 & 2.08367e-12 & $\\dots$ \\\\\n",
       "\t4 & -5.0 & 0.00792017 & 1.9882 & 0.685242 & 0.02 & 6.86678 & 0.242265 & 2.08367e-12 & $\\dots$ \\\\\n",
       "\t5 & -1.0 & 0.00792017 & 1.9882 & 0.685242 & 0.02 & 6.86678 & 0.242265 & 2.08367e-12 & $\\dots$ \\\\\n",
       "\t6 & 0.0 & 0.00903988 & 1.87401 & 0.685242 & 0.0156134 & 6.86678 & 0.229549 & 0.0 & $\\dots$ \\\\\n",
       "\t7 & 0.25 & 0.00904654 & 1.87389 & 0.684969 & 0.0156577 & 6.86678 & 0.229729 & 0.0 & $\\dots$ \\\\\n",
       "\t8 & 0.5 & 0.0090532 & 1.87377 & 0.684697 & 0.0157018 & 6.86678 & 0.229908 & 0.0 & $\\dots$ \\\\\n",
       "\t9 & 0.75 & 0.00905986 & 1.87364 & 0.684425 & 0.0157457 & 6.86678 & 0.230085 & 0.0 & $\\dots$ \\\\\n",
       "\t10 & 1.0 & 0.00906652 & 1.87352 & 0.684155 & 0.0157894 & 6.86678 & 0.230262 & 0.0 & $\\dots$ \\\\\n",
       "\t11 & 1.25 & 0.00907318 & 1.8734 & 0.683886 & 0.0158329 & 6.86678 & 0.230437 & 0.0 & $\\dots$ \\\\\n",
       "\t12 & 1.5 & 0.00907984 & 1.87328 & 0.683617 & 0.0158762 & 6.86678 & 0.230612 & 0.0 & $\\dots$ \\\\\n",
       "\t13 & 1.75 & 0.0090865 & 1.87316 & 0.68335 & 0.0159192 & 6.86678 & 0.230785 & 0.0 & $\\dots$ \\\\\n",
       "\t14 & 2.0 & 0.00909317 & 1.87304 & 0.683083 & 0.0159621 & 6.86678 & 0.230958 & 0.0 & $\\dots$ \\\\\n",
       "\t15 & 2.25 & 0.00909983 & 1.87292 & 0.682818 & 0.0160047 & 6.86678 & 0.231129 & 0.0 & $\\dots$ \\\\\n",
       "\t16 & 2.5 & 0.0091065 & 1.8728 & 0.682554 & 0.0160471 & 6.86678 & 0.231299 & 0.0 & $\\dots$ \\\\\n",
       "\t17 & 2.75 & 0.00911317 & 1.87267 & 0.68229 & 0.0160893 & 6.86678 & 0.231469 & 0.0 & $\\dots$ \\\\\n",
       "\t18 & 3.0 & 0.00911984 & 1.87255 & 0.682027 & 0.0161313 & 6.86678 & 0.231637 & 0.0 & $\\dots$ \\\\\n",
       "\t19 & 3.25 & 0.00912651 & 1.87243 & 0.681766 & 0.016173 & 6.86678 & 0.231804 & 0.0 & $\\dots$ \\\\\n",
       "\t20 & 3.5 & 0.00913318 & 1.87231 & 0.681505 & 0.0162146 & 6.86678 & 0.231971 & 0.0 & $\\dots$ \\\\\n",
       "\t21 & 3.75 & 0.00913985 & 1.87219 & 0.681245 & 0.0162559 & 6.86678 & 0.232136 & 0.0 & $\\dots$ \\\\\n",
       "\t22 & 4.0 & 0.00914653 & 1.87207 & 0.680987 & 0.016297 & 6.86678 & 0.2323 & 0.0 & $\\dots$ \\\\\n",
       "\t23 & 4.25 & 0.00915321 & 1.87195 & 0.680729 & 0.0163379 & 6.86678 & 0.232464 & 0.0 & $\\dots$ \\\\\n",
       "\t24 & 4.5 & 0.00915989 & 1.87183 & 0.680472 & 0.0163786 & 6.86678 & 0.232626 & 0.0 & $\\dots$ \\\\\n",
       "\t25 & 4.75 & 0.00916657 & 1.8717 & 0.680216 & 0.0164191 & 6.86678 & 0.232787 & 0.0 & $\\dots$ \\\\\n",
       "\t26 & 5.0 & 0.00917325 & 1.87158 & 0.679961 & 0.0164593 & 6.86678 & 0.232947 & 0.0 & $\\dots$ \\\\\n",
       "\t27 & 5.25 & 0.00917994 & 1.87146 & 0.679707 & 0.0164993 & 6.86678 & 0.233106 & 0.0 & $\\dots$ \\\\\n",
       "\t28 & 5.5 & 0.00918663 & 1.87134 & 0.679454 & 0.0165391 & 6.86678 & 0.233265 & 0.0 & $\\dots$ \\\\\n",
       "\t29 & 5.75 & 0.00919332 & 1.87122 & 0.679202 & 0.0165787 & 6.86678 & 0.233422 & 0.0 & $\\dots$ \\\\\n",
       "\t30 & 6.0 & 0.00920001 & 1.8711 & 0.678951 & 0.0166181 & 6.86678 & 0.233578 & 0.0 & $\\dots$ \\\\\n",
       "\t$\\dots$ & $\\dots$ & $\\dots$ & $\\dots$ & $\\dots$ & $\\dots$ & $\\dots$ & $\\dots$ & $\\dots$ &  \\\\\n",
       "\\end{tabular}\n"
      ],
      "text/plain": [
       "176×21 DataFrame. Omitted printing of 15 columns\n",
       "│ Row │ t       │ g          │ z_hat   │ Ω        │ E         │ v_1     │\n",
       "│     │ \u001b[90mFloat64\u001b[39m │ \u001b[90mFloat64\u001b[39m    │ \u001b[90mFloat64\u001b[39m │ \u001b[90mFloat64\u001b[39m  │ \u001b[90mFloat64\u001b[39m   │ \u001b[90mFloat64\u001b[39m │\n",
       "├─────┼─────────┼────────────┼─────────┼──────────┼───────────┼─────────┤\n",
       "│ 1   │ -20.0   │ 0.00792017 │ 1.9882  │ 0.685242 │ 0.02      │ 6.86678 │\n",
       "│ 2   │ -15.0   │ 0.00792017 │ 1.9882  │ 0.685242 │ 0.02      │ 6.86678 │\n",
       "│ 3   │ -10.0   │ 0.00792017 │ 1.9882  │ 0.685242 │ 0.02      │ 6.86678 │\n",
       "│ 4   │ -5.0    │ 0.00792017 │ 1.9882  │ 0.685242 │ 0.02      │ 6.86678 │\n",
       "│ 5   │ -1.0    │ 0.00792017 │ 1.9882  │ 0.685242 │ 0.02      │ 6.86678 │\n",
       "│ 6   │ 0.0     │ 0.00903988 │ 1.87401 │ 0.685242 │ 0.0156134 │ 6.86678 │\n",
       "│ 7   │ 0.25    │ 0.00904654 │ 1.87389 │ 0.684969 │ 0.0156577 │ 6.86678 │\n",
       "│ 8   │ 0.5     │ 0.0090532  │ 1.87377 │ 0.684697 │ 0.0157018 │ 6.86678 │\n",
       "│ 9   │ 0.75    │ 0.00905986 │ 1.87364 │ 0.684425 │ 0.0157457 │ 6.86678 │\n",
       "│ 10  │ 1.0     │ 0.00906652 │ 1.87352 │ 0.684155 │ 0.0157894 │ 6.86678 │\n",
       "⋮\n",
       "│ 166 │ 74.488  │ 0.0102562  │ 1.85231 │ 0.650814 │ 0.02      │ 6.86678 │\n",
       "│ 167 │ 74.744  │ 0.0102562  │ 1.85231 │ 0.650814 │ 0.02      │ 6.86678 │\n",
       "│ 168 │ 74.872  │ 0.0102562  │ 1.85231 │ 0.650814 │ 0.02      │ 6.86678 │\n",
       "│ 169 │ 74.936  │ 0.0102562  │ 1.85231 │ 0.650814 │ 0.02      │ 6.86678 │\n",
       "│ 170 │ 74.968  │ 0.0102562  │ 1.85231 │ 0.650814 │ 0.02      │ 6.86678 │\n",
       "│ 171 │ 74.984  │ 0.0102562  │ 1.85231 │ 0.650814 │ 0.02      │ 6.86678 │\n",
       "│ 172 │ 74.992  │ 0.0102562  │ 1.85231 │ 0.650814 │ 0.02      │ 6.86678 │\n",
       "│ 173 │ 74.996  │ 0.0102562  │ 1.85231 │ 0.650814 │ 0.02      │ 6.86678 │\n",
       "│ 174 │ 74.998  │ 0.0102562  │ 1.85231 │ 0.650814 │ 0.02      │ 6.86678 │\n",
       "│ 175 │ 74.999  │ 0.0102562  │ 1.85231 │ 0.650814 │ 0.02      │ 6.86678 │\n",
       "│ 176 │ 75.0    │ 0.0102562  │ 1.85231 │ 0.650814 │ 0.02      │ 6.86678 │"
      ]
     },
     "execution_count": 15,
     "metadata": {},
     "output_type": "execute_result"
    }
   ],
   "source": [
    "if isfile(cachepath) && use_cache # read if possible\n",
    "    println(\"using cache.\")\n",
    "    solved = CSV.read(cachepath);\n",
    "else\n",
    "    println(\"solving without cache.\")\n",
    "    @time solution = @suppress solve_transition(overall_parameters, settings);\n",
    "    solved = solution.results \n",
    "end"
   ]
  },
  {
   "cell_type": "code",
   "execution_count": 16,
   "metadata": {},
   "outputs": [
    {
     "data": {
      "text/plain": [
       "6322"
      ]
     },
     "execution_count": 16,
     "metadata": {},
     "output_type": "execute_result"
    }
   ],
   "source": [
    "if write_cache\n",
    "    mkpath(joinpath(pwd(), \"data\")); # if this doesn't eist for whatever reason\n",
    "    CSV.write(cachepath, solved); # write DataFrame\n",
    "    write(joinpath(pwd(), \"data\", cachename * \".json\"), JSON.json((parameters = overall_parameters, settings = merge(settings, (interp = typeof(settings.interp), stationary_x0 = typeof(settings.stationary_x0), fixedpoint_x0 = typeof(settings.fixedpoint_x0) ))))); # write parameters\n",
    "else\n",
    "    # nothing\n",
    "end"
   ]
  },
  {
   "cell_type": "markdown",
   "metadata": {},
   "source": [
    "## Welfare\n",
    "\n",
    "Here's welfare inclusive of the transition path:"
   ]
  },
  {
   "cell_type": "code",
   "execution_count": 17,
   "metadata": {},
   "outputs": [
    {
     "name": "stdout",
     "output_type": "stream",
     "text": [
      "ce_transition = 0.0\n"
     ]
    }
   ],
   "source": [
    "ce_transition = 100*consumption_equivalent(solved.U[1], stationary_0.U_bar, load_parameters(\"parameters/calibration_params.csv\"));\n",
    "@show ce_transition;"
   ]
  },
  {
   "cell_type": "markdown",
   "metadata": {},
   "source": [
    "Plots for the transition path can be found in the notebook [TransitionDynamicsFigures.ipynb](https://github.com/jlperla/PerlaTonettiWaugh.jl/blob/master/TransitionDynamicsFigures.ipynb)"
   ]
  }
 ],
 "metadata": {
  "kernelspec": {
   "display_name": "Julia 1.4.0",
   "language": "julia",
   "name": "julia-1.4"
  },
  "language_info": {
   "file_extension": ".jl",
   "mimetype": "application/julia",
   "name": "julia",
   "version": "1.4.0"
  }
 },
 "nbformat": 4,
 "nbformat_minor": 4
}
