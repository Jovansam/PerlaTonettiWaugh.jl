{
 "cells": [
  {
   "cell_type": "code",
   "execution_count": 5,
   "metadata": {},
   "outputs": [],
   "source": [
    "using PerlaTonettiWaugh"
   ]
  },
  {
   "cell_type": "markdown",
   "metadata": {},
   "source": [
    "# Steady-State Comparison"
   ]
  },
  {
   "cell_type": "code",
   "execution_count": 6,
   "metadata": {},
   "outputs": [],
   "source": [
    "params = parameter_defaults()\n",
    "baseline = merge(params, (d = params.d_0,))\n",
    "baseline_sol = stationary_algebraic(baseline, settings_defaults());"
   ]
  },
  {
   "cell_type": "code",
   "execution_count": 7,
   "metadata": {},
   "outputs": [],
   "source": [
    "new_params = merge(params, (d = params.d_T,))\n",
    "new_sol = stationary_algebraic(new_params, settings_defaults());"
   ]
  },
  {
   "cell_type": "code",
   "execution_count": 8,
   "metadata": {},
   "outputs": [
    {
     "name": "stdout",
     "output_type": "stream",
     "text": [
      "(new_sol.g, baseline_sol.g) = (0.010250822794505147, 0.007913401963163525)\n"
     ]
    }
   ],
   "source": [
    "@show (new_sol.g, baseline_sol.g);"
   ]
  },
  {
   "cell_type": "code",
   "execution_count": 9,
   "metadata": {},
   "outputs": [
    {
     "name": "stdout",
     "output_type": "stream",
     "text": [
      "(1 - new_sol.λ_ii, 1 - baseline_sol.λ_ii) = (0.14442864132703293, 0.10629127170507902)\n"
     ]
    }
   ],
   "source": [
    "@show (1 - new_sol.λ_ii, 1 - baseline_sol.λ_ii);"
   ]
  },
  {
   "cell_type": "code",
   "execution_count": 10,
   "metadata": {},
   "outputs": [
    {
     "name": "stdout",
     "output_type": "stream",
     "text": [
      "(new_sol.U_bar, baseline_sol.U_bar) = (17.534340776670454, 12.322561075850931)\n"
     ]
    }
   ],
   "source": [
    "@show (new_sol.U_bar, baseline_sol.U_bar);"
   ]
  },
  {
   "cell_type": "code",
   "execution_count": 11,
   "metadata": {},
   "outputs": [
    {
     "name": "stdout",
     "output_type": "stream",
     "text": [
      "100 * consumption_equivalent(new_sol.U_bar, baseline_sol.U_bar, params) = 11.181899506570137\n"
     ]
    }
   ],
   "source": [
    "@show 100*consumption_equivalent(new_sol.U_bar, baseline_sol.U_bar, params);"
   ]
  },
  {
   "cell_type": "markdown",
   "metadata": {},
   "source": [
    "# Transition Dynamics"
   ]
  },
  {
   "cell_type": "code",
   "execution_count": 12,
   "metadata": {},
   "outputs": [
    {
     "name": "stderr",
     "output_type": "stream",
     "text": [
      "WARNING: using BenchmarkTools.params in module Main conflicts with an existing identifier.\n"
     ]
    },
    {
     "data": {
      "text/plain": [
       "Plots.GRBackend()"
      ]
     },
     "execution_count": 12,
     "metadata": {},
     "output_type": "execute_result"
    }
   ],
   "source": [
    "using CSV, Plots, JSON, BenchmarkTools, Parameters, DataFrames, Suppressor\n",
    "gr(fmt = :png)"
   ]
  },
  {
   "cell_type": "code",
   "execution_count": 13,
   "metadata": {},
   "outputs": [],
   "source": [
    "overall_parameters = parameter_defaults();"
   ]
  },
  {
   "cell_type": "code",
   "execution_count": 14,
   "metadata": {},
   "outputs": [],
   "source": [
    "settings = settings_defaults(); # numerical solution settings\n",
    "@unpack stationary_T, stationary_0, change_welfare, change_trade = compare_steady_states(overall_parameters, settings);"
   ]
  },
  {
   "cell_type": "markdown",
   "metadata": {},
   "source": [
    "Note that everything from here on out is using the **numerical** solution, so the values might be slightly different than the algebraic one. \n",
    "\n",
    "We do this so that the endpoints are valid targets for the dynamical experiment. \n",
    "\n",
    "To use the algebraic one, simply add `algebraic = true` to the `compare_steady_states` function above. "
   ]
  },
  {
   "cell_type": "code",
   "execution_count": 15,
   "metadata": {},
   "outputs": [
    {
     "name": "stdout",
     "output_type": "stream",
     "text": [
      "(stationary_T.g, stationary_T.z_hat, stationary_T.Ω, stationary_T.L_tilde) = (0.01025616153886866, 1.8523062408835727, 0.6508139010452779, 0.24606267582507552)\n"
     ]
    }
   ],
   "source": [
    "@show (stationary_T.g, stationary_T.z_hat, stationary_T.Ω, stationary_T.L_tilde); # inspect time T solution"
   ]
  },
  {
   "cell_type": "code",
   "execution_count": 16,
   "metadata": {},
   "outputs": [
    {
     "name": "stdout",
     "output_type": "stream",
     "text": [
      "(stationary_0.g, stationary_0.z_hat, stationary_0.Ω, stationary_0.L_tilde) = (0.00792017047430068, 1.9881975410345563, 0.6852422606342697, 0.24226457898667145)\n"
     ]
    }
   ],
   "source": [
    "@show (stationary_0.g, stationary_0.z_hat, stationary_0.Ω, stationary_0.L_tilde); # inspect time 0 solution"
   ]
  },
  {
   "cell_type": "code",
   "execution_count": 17,
   "metadata": {},
   "outputs": [
    {
     "data": {
      "text/plain": [
       "true"
      ]
     },
     "execution_count": 17,
     "metadata": {},
     "output_type": "execute_result"
    }
   ],
   "source": [
    "cachename = model_cachename(overall_parameters, settings) # uniquely identify the run by parameters + settings\n",
    "cachepath = joinpath(pwd(), \"data\", cachename * \".csv\")\n",
    "use_cache = true # change this to false if you don't want to use the cache for a run\n",
    "write_cache = true # change this to false if you don't want to generate *any* cache files for a run"
   ]
  },
  {
   "cell_type": "code",
   "execution_count": 18,
   "metadata": {},
   "outputs": [
    {
     "data": {
      "text/plain": [
       "\"2357024147638739296\""
      ]
     },
     "execution_count": 18,
     "metadata": {},
     "output_type": "execute_result"
    }
   ],
   "source": [
    "cachename # this is the hash for this run"
   ]
  },
  {
   "cell_type": "code",
   "execution_count": null,
   "metadata": {},
   "outputs": [],
   "source": [
    "if isfile(cachepath) && use_cache # read if possible\n",
    "    println(\"using cache.\")\n",
    "    solved = CSV.read(cachepath);\n",
    "else\n",
    "    println(\"solving without cache.\")\n",
    "    @time solution = @suppress solve_transition(overall_parameters, settings);\n",
    "    solved = solution.results \n",
    "end"
   ]
  },
  {
   "cell_type": "code",
   "execution_count": null,
   "metadata": {},
   "outputs": [],
   "source": [
    "if write_cache\n",
    "    mkpath(joinpath(pwd(), \"data\")); # if this doesn't eist for whatever reason\n",
    "    CSV.write(cachepath, solved); # write DataFrame\n",
    "    write(joinpath(pwd(), \"data\", cachename * \".json\"), JSON.json((parameters = overall_parameters, settings = merge(settings, (interp = typeof(settings.interp), stationary_x0 = typeof(settings.stationary_x0), fixedpoint_x0 = typeof(settings.fixedpoint_x0) ))))); # write parameters\n",
    "else\n",
    "    # nothing\n",
    "end"
   ]
  },
  {
   "cell_type": "markdown",
   "metadata": {},
   "source": [
    "## Welfare\n",
    "\n",
    "Here's welfare inclusive of the transition path:"
   ]
  },
  {
   "cell_type": "code",
   "execution_count": 35,
   "metadata": {},
   "outputs": [
    {
     "name": "stdout",
     "output_type": "stream",
     "text": [
      "ce_transition = 10.802117356508889\n"
     ]
    }
   ],
   "source": [
    "ce_transition = 100*consumption_equivalent(solved.U[1], stationary_0.U_bar, parameter_defaults());\n",
    "@show ce_transition;"
   ]
  },
  {
   "cell_type": "markdown",
   "metadata": {},
   "source": [
    "Plots for the transition path can be found in the notebook [TransitionDynamicsFigures.ipynb](https://github.com/jlperla/PerlaTonettiWaugh.jl/blob/master/TransitionDynamicsFigures.ipynb)"
   ]
  },
  {
   "cell_type": "code",
   "execution_count": null,
   "metadata": {},
   "outputs": [],
   "source": []
  }
 ],
 "metadata": {
  "kernelspec": {
   "display_name": "Julia 1.3.0",
   "language": "julia",
   "name": "julia-1.3"
  },
  "language_info": {
   "file_extension": ".jl",
   "mimetype": "application/julia",
   "name": "julia",
   "version": "1.3.0"
  }
 },
 "nbformat": 4,
 "nbformat_minor": 4
}
