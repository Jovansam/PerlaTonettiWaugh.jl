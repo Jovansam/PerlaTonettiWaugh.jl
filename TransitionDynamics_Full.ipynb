{
 "cells": [
  {
   "cell_type": "code",
   "execution_count": 1,
   "metadata": {},
   "outputs": [],
   "source": [
    "using PerlaTonettiWaugh"
   ]
  },
  {
   "cell_type": "markdown",
   "metadata": {},
   "source": [
    "# Steady-State Comparison"
   ]
  },
  {
   "cell_type": "code",
   "execution_count": 2,
   "metadata": {},
   "outputs": [],
   "source": [
    "params = load_parameters(\"parameters/calibration_params.csv\")\n",
    "baseline = merge(params, (d = params.d_0,))\n",
    "baseline_sol = stationary_algebraic(baseline, settings_defaults());"
   ]
  },
  {
   "cell_type": "code",
   "execution_count": 3,
   "metadata": {},
   "outputs": [],
   "source": [
    "new_params = merge(params, (d = params.d_T,))\n",
    "new_sol = stationary_algebraic(new_params, settings_defaults());"
   ]
  },
  {
   "cell_type": "code",
   "execution_count": 4,
   "metadata": {},
   "outputs": [
    {
     "name": "stdout",
     "output_type": "stream",
     "text": [
      "(new_sol.g, baseline_sol.g) = (0.010250822794504864, 0.007913401963163308)\n"
     ]
    }
   ],
   "source": [
    "@show (new_sol.g, baseline_sol.g);"
   ]
  },
  {
   "cell_type": "code",
   "execution_count": 5,
   "metadata": {},
   "outputs": [
    {
     "name": "stdout",
     "output_type": "stream",
     "text": [
      "(1 - new_sol.λ_ii, 1 - baseline_sol.λ_ii) = (0.14442864132703293, 0.10629127170507902)\n"
     ]
    }
   ],
   "source": [
    "@show (1 - new_sol.λ_ii, 1 - baseline_sol.λ_ii);"
   ]
  },
  {
   "cell_type": "code",
   "execution_count": 6,
   "metadata": {},
   "outputs": [
    {
     "name": "stdout",
     "output_type": "stream",
     "text": [
      "(new_sol.U_bar, baseline_sol.U_bar) = (17.534340776669858, 12.322561075850476)\n"
     ]
    }
   ],
   "source": [
    "@show (new_sol.U_bar, baseline_sol.U_bar);"
   ]
  },
  {
   "cell_type": "code",
   "execution_count": 7,
   "metadata": {},
   "outputs": [
    {
     "name": "stdout",
     "output_type": "stream",
     "text": [
      "consumption_equivalent(new_sol.U_bar, baseline_sol.U_bar, params) = 0.11181899506569803\n"
     ]
    }
   ],
   "source": [
    "@show consumption_equivalent(new_sol.U_bar, baseline_sol.U_bar, params);"
   ]
  },
  {
   "cell_type": "markdown",
   "metadata": {},
   "source": [
    "# Transition Dynamics"
   ]
  },
  {
   "cell_type": "code",
   "execution_count": 8,
   "metadata": {},
   "outputs": [
    {
     "name": "stderr",
     "output_type": "stream",
     "text": [
      "WARNING: using BenchmarkTools.params in module Main conflicts with an existing identifier.\n"
     ]
    },
    {
     "data": {
      "text/plain": [
       "Plots.GRBackend()"
      ]
     },
     "execution_count": 8,
     "metadata": {},
     "output_type": "execute_result"
    }
   ],
   "source": [
    "using CSV, Plots, JSON, BenchmarkTools, Parameters, DataFrames, Suppressor\n",
    "gr(fmt = :png)"
   ]
  },
  {
   "cell_type": "code",
   "execution_count": 9,
   "metadata": {},
   "outputs": [],
   "source": [
    "overall_parameters = load_parameters(\"parameters/calibration_params.csv\");"
   ]
  },
  {
   "cell_type": "code",
   "execution_count": 10,
   "metadata": {},
   "outputs": [],
   "source": [
    "settings = settings_defaults(); # numerical solution settings\n",
    "@unpack stationary_T, stationary_0, change_welfare, change_trade = compare_steady_states(overall_parameters, settings);"
   ]
  },
  {
   "cell_type": "markdown",
   "metadata": {},
   "source": [
    "Note that everything from here on out is using the **numerical** solution, so the values might be slightly different than the algebraic one. \n",
    "\n",
    "We do this so that the endpoints are valid targets for the dynamical experiment. \n",
    "\n",
    "To use the algebraic one, simply add `algebraic = true` to the `compare_steady_states` function above. "
   ]
  },
  {
   "cell_type": "code",
   "execution_count": 11,
   "metadata": {},
   "outputs": [
    {
     "name": "stdout",
     "output_type": "stream",
     "text": [
      "(stationary_T.g, stationary_T.z_hat, stationary_T.Ω, stationary_T.L_tilde) = (0.010256161538647203, 1.8523062408854238, 0.6508139010470979, 0.24606267582490407)\n"
     ]
    }
   ],
   "source": [
    "@show (stationary_T.g, stationary_T.z_hat, stationary_T.Ω, stationary_T.L_tilde); # inspect time T solution"
   ]
  },
  {
   "cell_type": "code",
   "execution_count": 12,
   "metadata": {},
   "outputs": [
    {
     "name": "stdout",
     "output_type": "stream",
     "text": [
      "(stationary_0.g, stationary_0.z_hat, stationary_0.Ω, stationary_0.L_tilde) = (0.007920170474471236, 1.988197541033372, 0.6852422606330657, 0.24226457898689088)\n"
     ]
    }
   ],
   "source": [
    "@show (stationary_0.g, stationary_0.z_hat, stationary_0.Ω, stationary_0.L_tilde); # inspect time 0 solution"
   ]
  },
  {
   "cell_type": "code",
   "execution_count": 13,
   "metadata": {},
   "outputs": [
    {
     "data": {
      "text/plain": [
       "true"
      ]
     },
     "execution_count": 13,
     "metadata": {},
     "output_type": "execute_result"
    }
   ],
   "source": [
    "cachename = model_cachename(overall_parameters, settings) # uniquely identify the run by parameters + settings\n",
    "cachepath = joinpath(pwd(), \"data\", cachename * \".csv\")\n",
    "use_cache = true # change this to false if you don't want to use the cache for a run\n",
    "write_cache = true # change this to false if you don't want to generate *any* cache files for a run"
   ]
  },
  {
   "cell_type": "code",
   "execution_count": 14,
   "metadata": {},
   "outputs": [
    {
     "data": {
      "text/plain": [
       "\"1921969888308317018\""
      ]
     },
     "execution_count": 14,
     "metadata": {},
     "output_type": "execute_result"
    }
   ],
   "source": [
    "cachename # this is the hash for this run"
   ]
  },
  {
   "cell_type": "code",
   "execution_count": null,
   "metadata": {},
   "outputs": [
    {
     "name": "stdout",
     "output_type": "stream",
     "text": [
      "solving without cache.\n"
     ]
    }
   ],
   "source": [
    "if isfile(cachepath) && use_cache # read if possible\n",
    "    println(\"using cache.\")\n",
    "    solved = CSV.read(cachepath);\n",
    "else\n",
    "    println(\"solving without cache.\")\n",
    "    @time solution = @suppress solve_transition(overall_parameters, settings);\n",
    "    solved = solution.results \n",
    "end"
   ]
  },
  {
   "cell_type": "code",
   "execution_count": null,
   "metadata": {},
   "outputs": [],
   "source": [
    "if write_cache\n",
    "    mkpath(joinpath(pwd(), \"data\")) # if this doesn't eist for whatever reason\n",
    "    CSV.write(cachepath, solved) # write DataFrame\n",
    "    write(joinpath(pwd(), \"data\", cachename * \".json\"), JSON.json((parameters = overall_parameters, settings = merge(settings, (interp = typeof(settings.interp), stationary_x0 = typeof(settings.stationary_x0), fixedpoint_x0 = typeof(settings.fixedpoint_x0) ))))) # write parameters\n",
    "else\n",
    "    # nothing\n",
    "end"
   ]
  },
  {
   "cell_type": "code",
   "execution_count": null,
   "metadata": {},
   "outputs": [],
   "source": [
    "filter!(row -> row.t >= 0, solved) # don't plot pre-shock values"
   ]
  },
  {
   "cell_type": "markdown",
   "metadata": {},
   "source": [
    "## Welfare\n",
    "\n",
    "Here's welfare inclusive of the transition path:"
   ]
  },
  {
   "cell_type": "code",
   "execution_count": null,
   "metadata": {},
   "outputs": [],
   "source": [
    "lambda_tpath = 100*(consumption_equivalent(solved.U[1], stationary_0.U_bar, load_parameters(\"parameters/calibration_chi_0.13.csv\"))-1);\n",
    "@show lambda_tpath;"
   ]
  },
  {
   "cell_type": "markdown",
   "metadata": {},
   "source": [
    "## Plots"
   ]
  },
  {
   "cell_type": "code",
   "execution_count": null,
   "metadata": {},
   "outputs": [],
   "source": [
    "U_steady_0(t) = stationary_0.U_bar\n",
    "U_steady_T(t) = stationary_T.U_bar\n",
    "\n",
    "plot(solved.t,\n",
    "   [solved.U, U_steady_0, U_steady_T],\n",
    "   label = [\"U_transition\", \"U_steady_0\", \"U_steady_T\"] ,\n",
    "   title = \"U(t)\", linestyle = :auto, lw = 3,\n",
    "   legend = :topleft)"
   ]
  },
  {
   "cell_type": "code",
   "execution_count": null,
   "metadata": {},
   "outputs": [],
   "source": [
    "plot_Ω = plot(solved.t, solved.Ω, label = \"Omega\", lw = 3)\n",
    "plot_residual = plot(solved.t, solved.entry_residual, label = \"entry_residual\", lw = 3)\n",
    "plot(plot_Ω, plot_residual, layout = (2,1))"
   ]
  },
  {
   "cell_type": "markdown",
   "metadata": {},
   "source": [
    "Here are the static equations."
   ]
  },
  {
   "cell_type": "code",
   "execution_count": null,
   "metadata": {},
   "outputs": [],
   "source": [
    "plot1 = plot(solved.t, solved.L_tilde, label = \"L_tilde\", lw = 3)\n",
    "plot2 = plot(solved.t, solved.z_bar, label = \"z_bar\", lw = 3)\n",
    "plot3 = plot(solved.t, solved.π_min, label = \"pi_min\", lw = 3)\n",
    "plot4 = plot(solved.t, solved.λ_ii, label = \"lambda_ii\", lw = 3)\n",
    "plot5 = plot(solved.t, solved.c, label = \"c\", lw = 3)\n",
    "plot6 = plot(solved.t, solved.E, label = \"E\", lw = 3)\n",
    "plot7 = plot(solved.t, solved.log_M, label = \"log_M\", lw = 3)\n",
    "plot8 = plot(solved.t, solved.U, label = \"U\", lw = 3)\n",
    "plot9 = plot(solved.t, solved.π_rat, label = \"pi_rat\", lw = 3)\n",
    "plot(plot1, plot2, plot3, plot4, plot5, plot6, plot7, plot8, plot9, layout=(3,3), size = (1000, 1000))"
   ]
  },
  {
   "cell_type": "code",
   "execution_count": null,
   "metadata": {},
   "outputs": [],
   "source": [
    "log_M_steady_0(t) = stationary_0.g * t\n",
    "log_M_steady_T(t) = stationary_T.g * t\n",
    "\n",
    "plot(solved.t,\n",
    "    [solved.log_M, log_M_steady_0, log_M_steady_T],\n",
    "    label = [\"log_M_transition_0\", \"log_M_steady_0\", \"log_M_steady_T\"] ,\n",
    "    title = \"log_M(t)\", linestyle = :auto, lw = 3, legend = :topleft)"
   ]
  },
  {
   "cell_type": "code",
   "execution_count": null,
   "metadata": {},
   "outputs": [],
   "source": [
    "Ω_steady_0(t) = stationary_0.Ω\n",
    "Ω_steady_T(t) = stationary_T.Ω\n",
    "\n",
    "plot(solved.t,\n",
    "    [solved.Ω, Ω_steady_0, Ω_steady_T],\n",
    "    label = [\"Omega_transition_0\", \"Omega_steady_0\", \"Omega_steady_T\"] ,\n",
    "    title = \"Omega(t)\", linestyle = :auto, lw = 3, legend = :bottom)"
   ]
  },
  {
   "cell_type": "code",
   "execution_count": null,
   "metadata": {},
   "outputs": [],
   "source": [
    "c_steady_0(t) = stationary_0.c\n",
    "c_steady_T(t) = stationary_T.c\n",
    "\n",
    "plot(solved.t,\n",
    "    [solved.c, c_steady_0, c_steady_T],\n",
    "    label = [\"c_transition_0\", \"c_steady_0\", \"c_steady_T\"] ,\n",
    "    title = \"c(t)\", linestyle = :auto, lw = 3, legend = :bottomright)"
   ]
  },
  {
   "cell_type": "code",
   "execution_count": null,
   "metadata": {},
   "outputs": [],
   "source": [
    "plot(solved.r, legend = false, title = \"r over time\", xlabel = \"T\", ylabel = \"r\", lw = 3)"
   ]
  },
  {
   "cell_type": "code",
   "execution_count": null,
   "metadata": {},
   "outputs": [],
   "source": [
    "plot(solved.w, legend = false, title = \"w over time\", xlabel = \"T\", ylabel = \"w\", lw = 3)"
   ]
  },
  {
   "cell_type": "code",
   "execution_count": null,
   "metadata": {},
   "outputs": [],
   "source": [
    "plot(solved.L_tilde_a, legend = false, xlabel = \"T\", title = \"Labor Share: Adoption\", lw = 3)"
   ]
  },
  {
   "cell_type": "code",
   "execution_count": null,
   "metadata": {},
   "outputs": [],
   "source": [
    "plot(solved.L_tilde_E, legend = false, xlabel = \"T\", title = \"Labor Share: Entrycosts\", lw = 3)"
   ]
  },
  {
   "cell_type": "code",
   "execution_count": null,
   "metadata": {},
   "outputs": [],
   "source": [
    "plot(solved.L_tilde_x, legend = false, xlabel = \"T\", title = \"Labor Share: Export\", lw = 3)"
   ]
  },
  {
   "cell_type": "code",
   "execution_count": null,
   "metadata": {},
   "outputs": [],
   "source": [
    "T = solved.t[end]\n",
    "consumption_equivalent(solved.U[1], stationary_0.U_bar, load_parameters(\"parameters/calibration_params.csv\"))"
   ]
  }
 ],
 "metadata": {
  "kernelspec": {
   "display_name": "Julia 1.4.0",
   "language": "julia",
   "name": "julia-1.4"
  },
  "language_info": {
   "file_extension": ".jl",
   "mimetype": "application/julia",
   "name": "julia",
   "version": "1.3.0"
  }
 },
 "nbformat": 4,
 "nbformat_minor": 4
}
