{
 "cells": [
  {
   "cell_type": "markdown",
   "metadata": {},
   "source": [
    "The parameters used here come from `closest_chi_params.mat`.\n",
    "\n",
    "Figures for this analysis are in [ChiUpsilonDeltaFigures.ipynb](https://github.com/jlperla/PerlaTonettiWaugh.jl/blob/master/ChiUpsilonDeltaFigures.ipynb)"
   ]
  },
  {
   "cell_type": "code",
   "execution_count": 1,
   "metadata": {},
   "outputs": [
    {
     "name": "stderr",
     "output_type": "stream",
     "text": [
      "┌ Info: Precompiling PerlaTonettiWaugh [d2cacc76-b06b-11e8-362b-f18d03a16405]\n",
      "└ @ Base loading.jl:1273\n"
     ]
    }
   ],
   "source": [
    "using PerlaTonettiWaugh"
   ]
  },
  {
   "cell_type": "code",
   "execution_count": 2,
   "metadata": {},
   "outputs": [],
   "source": [
    "## common values\n",
    "params = parameter_defaults() # without d \n",
    "d_baseline = params.d_0\n",
    "ϵ = 0.000001\n",
    "d_counterfactual = d_baseline + ϵ;"
   ]
  },
  {
   "cell_type": "markdown",
   "metadata": {},
   "source": [
    "# Experiment 1: Baseline Values"
   ]
  },
  {
   "cell_type": "code",
   "execution_count": 3,
   "metadata": {},
   "outputs": [],
   "source": [
    "params_1 = parameter_defaults(); # without d "
   ]
  },
  {
   "cell_type": "markdown",
   "metadata": {},
   "source": [
    "### Baseline Steady State"
   ]
  },
  {
   "cell_type": "code",
   "execution_count": 4,
   "metadata": {},
   "outputs": [],
   "source": [
    "params_baseline_1 = merge(params_1, (d = params.d_0,))\n",
    "sol_baseline_1 = stationary_algebraic(params_baseline_1, settings_defaults());"
   ]
  },
  {
   "cell_type": "code",
   "execution_count": 5,
   "metadata": {},
   "outputs": [
    {
     "name": "stdout",
     "output_type": "stream",
     "text": [
      "g: 0.007913401963163525\n",
      "z_hat: 1.9813268967445292\n",
      "Omega: 0.6805904609927736\n",
      "c: 0.8706834939103543\n",
      "U_bar: 12.322561075850931\n",
      "lambda: 0.893708728294921\n",
      "y: 0.8706834939103543\n"
     ]
    }
   ],
   "source": [
    "println(\"g: $(sol_baseline_1.g)\")\n",
    "println(\"z_hat: $(sol_baseline_1.z_hat)\")\n",
    "println(\"Omega: $(sol_baseline_1.Ω)\")\n",
    "println(\"c: $(sol_baseline_1.c)\")\n",
    "println(\"U_bar: $(sol_baseline_1.U_bar)\")\n",
    "println(\"lambda: $(sol_baseline_1.λ_ii)\")\n",
    "println(\"y: $(sol_baseline_1.y)\");"
   ]
  },
  {
   "cell_type": "markdown",
   "metadata": {},
   "source": [
    "### Counterfactual Steady State"
   ]
  },
  {
   "cell_type": "code",
   "execution_count": 6,
   "metadata": {},
   "outputs": [],
   "source": [
    "params_counterfactual_1 = merge(params_1, (d = d_counterfactual,))\n",
    "sol_counterfactual_1 = stationary_algebraic(params_counterfactual_1, settings_defaults());"
   ]
  },
  {
   "cell_type": "code",
   "execution_count": 7,
   "metadata": {},
   "outputs": [
    {
     "name": "stdout",
     "output_type": "stream",
     "text": [
      "g: 0.007913392605707404\n",
      "z_hat: 1.9813275661834124\n",
      "Omega: 0.6805906063613061\n",
      "c: 0.8706835265233925\n",
      "U_bar: 12.322540295125096\n",
      "lambda: 0.8937088869747696\n",
      "y: 0.8706835265233925\n"
     ]
    }
   ],
   "source": [
    "println(\"g: $(sol_counterfactual_1.g)\")\n",
    "println(\"z_hat: $(sol_counterfactual_1.z_hat)\")\n",
    "println(\"Omega: $(sol_counterfactual_1.Ω)\")\n",
    "println(\"c: $(sol_counterfactual_1.c)\")\n",
    "println(\"U_bar: $(sol_counterfactual_1.U_bar)\")\n",
    "println(\"lambda: $(sol_counterfactual_1.λ_ii)\")\n",
    "println(\"y: $(sol_counterfactual_1.y)\");"
   ]
  },
  {
   "cell_type": "markdown",
   "metadata": {},
   "source": [
    "### Total Derivative"
   ]
  },
  {
   "cell_type": "code",
   "execution_count": 8,
   "metadata": {},
   "outputs": [],
   "source": [
    "tot_der_1 = total_derivative(params_baseline_1, ϵ);"
   ]
  },
  {
   "cell_type": "code",
   "execution_count": 9,
   "metadata": {},
   "outputs": [
    {
     "name": "stdout",
     "output_type": "stream",
     "text": [
      "check = 1.000000316842169\n",
      "d_U_d_total = -20.78072583231859\n",
      "U_1 = 56.47165189667053\n",
      "U_2 = 2417.5841867628105\n",
      "ACR = -3.558887611247414e-8\n",
      "∂_fc_d = -0.030619099806888962\n",
      "∂_fc_g = -3.8948576073256382\n",
      "∂_fc_zhat = -4.007905119226532e-8\n",
      "∂_fc_Omega = 0.18426332104052026\n",
      "∂_g_d = -0.00935745611941806\n",
      "∂_zhat_d = 0.6694388831226717\n",
      "∂_Omega_d = 0.14536853241342348\n",
      "total_decomp = -20.78073241652884\n",
      "decomp_fc_d = -0.030619099806888962\n",
      "decomp_fc_Omega_Omega_d = 0.026786088557283927\n",
      "decomp_fc_zhat_zhat_d = -2.683047526676648e-8\n",
      "decomp_fc_g_g_d = 0.03644595915193128\n",
      "decomp_g_d = -0.00935745611941806\n",
      "U1_partial_fc_d_frac = 0.08320742075042184\n",
      "U1_decomp_fc_Omega_Omega_d_frac = -0.07279121054834302\n",
      "U1_decomp_fc_zhat_zhat_d_frac = 7.291183145604228e-8\n",
      "U1_decomp_fc_g_g_d_frac = -0.09904191426049493\n",
      "U2_decomp_g_d_frac = 1.0886256311465845\n",
      "planner_0_g_CE = 44.695601719195025\n",
      "planner_0_Omega_CE = 0.2116306583612484\n",
      "planner_0_zhat_CE = -4.603171126199375e-8\n",
      "MU_g_CE = 49.16893518028238\n",
      "semi_elasticity_g_d = -0.0282828439855222\n",
      "U1_partial_fc_d_ACRfrac = 0.9881385297645446\n",
      "d_T = 2.820243542916341\n",
      "d_d = -0.2022492825462603\n",
      "CE_extrap10p = 0.08547852839640514\n",
      "g_extrap10p = 0.0018925387866104157\n"
     ]
    }
   ],
   "source": [
    "for (key, value) in pairs(tot_der_1)\n",
    "    println(\"$key = $value\")\n",
    "end"
   ]
  },
  {
   "cell_type": "markdown",
   "metadata": {},
   "source": [
    "# Experiment 2: Large Chi, Small Upsilon"
   ]
  },
  {
   "cell_type": "code",
   "execution_count": 10,
   "metadata": {},
   "outputs": [
    {
     "data": {
      "text/plain": [
       "(θ = 4.988976587938262, κ = 0.104196324793307, χ = 0.140940680056326, μ = -0.0250546341051264, υ = 0.0389564475706895, σ = 3.16692413583811, ζ = 1, δ = 0.02, ρ = 0.020338044668517, N = 10, γ = 1.0, η = 0.0, Theta = 1, d_0 = 3.022492825462601, d_T = 2.820243542916341)"
      ]
     },
     "execution_count": 10,
     "metadata": {},
     "output_type": "execute_result"
    }
   ],
   "source": [
    "params_2 = parameter_defaults(υ=0.0389564475706895, χ=1/7.09518358787794, μ=-0.0250546341051264) # without d "
   ]
  },
  {
   "cell_type": "markdown",
   "metadata": {},
   "source": [
    "### Baseline Steady State"
   ]
  },
  {
   "cell_type": "code",
   "execution_count": 11,
   "metadata": {},
   "outputs": [],
   "source": [
    "params_baseline_2 = merge(params_2, (d = params.d_0,))\n",
    "sol_baseline_2 = stationary_algebraic(params_baseline_2, settings_defaults());"
   ]
  },
  {
   "cell_type": "code",
   "execution_count": 12,
   "metadata": {},
   "outputs": [
    {
     "name": "stdout",
     "output_type": "stream",
     "text": [
      "g: 0.007965315131367811\n",
      "z_hat: 2.080939602549648\n",
      "Omega: 0.7686347134904628\n",
      "c: 0.9164986591049902\n",
      "U_bar: 14.969550592639711\n",
      "lambda: 0.9061601275365084\n",
      "y: 0.9164986591049902\n"
     ]
    }
   ],
   "source": [
    "println(\"g: $(sol_baseline_2.g)\")\n",
    "println(\"z_hat: $(sol_baseline_2.z_hat)\")\n",
    "println(\"Omega: $(sol_baseline_2.Ω)\")\n",
    "println(\"c: $(sol_baseline_2.c)\")\n",
    "println(\"U_bar: $(sol_baseline_2.U_bar)\")\n",
    "println(\"lambda: $(sol_baseline_2.λ_ii)\")\n",
    "println(\"y: $(sol_baseline_2.y)\");"
   ]
  },
  {
   "cell_type": "markdown",
   "metadata": {},
   "source": [
    "### Counterfactual Steady State"
   ]
  },
  {
   "cell_type": "code",
   "execution_count": 13,
   "metadata": {},
   "outputs": [],
   "source": [
    "params_counterfactual_2 = merge(params_2, (d = d_counterfactual,))\n",
    "sol_counterfactual_2 = stationary_algebraic(params_counterfactual_2, settings_defaults());"
   ]
  },
  {
   "cell_type": "code",
   "execution_count": 14,
   "metadata": {},
   "outputs": [
    {
     "name": "stdout",
     "output_type": "stream",
     "text": [
      "g: 0.007965308065679922\n",
      "z_hat: 2.0809403009596483\n",
      "Omega: 0.7686348555673733\n",
      "c: 0.9164986880566296\n",
      "U_bar: 14.969535063961361\n",
      "lambda: 0.9061602690394188\n",
      "y: 0.9164986880566296\n"
     ]
    }
   ],
   "source": [
    "println(\"g: $(sol_counterfactual_2.g)\")\n",
    "println(\"z_hat: $(sol_counterfactual_2.z_hat)\")\n",
    "println(\"Omega: $(sol_counterfactual_2.Ω)\")\n",
    "println(\"c: $(sol_counterfactual_2.c)\")\n",
    "println(\"U_bar: $(sol_counterfactual_2.U_bar)\")\n",
    "println(\"lambda: $(sol_counterfactual_2.λ_ii)\")\n",
    "println(\"y: $(sol_counterfactual_2.y)\");"
   ]
  },
  {
   "cell_type": "markdown",
   "metadata": {},
   "source": [
    "### Total Derivative"
   ]
  },
  {
   "cell_type": "code",
   "execution_count": 15,
   "metadata": {},
   "outputs": [],
   "source": [
    "tot_der_2 = total_derivative(params_baseline_2, ϵ);"
   ]
  },
  {
   "cell_type": "code",
   "execution_count": 16,
   "metadata": {},
   "outputs": [
    {
     "name": "stdout",
     "output_type": "stream",
     "text": [
      "check = 1.0000003335765373\n",
      "d_U_d_total = -15.528678348136678\n",
      "U_1 = 53.64867115932115\n",
      "U_2 = 2417.5841867628105\n",
      "ACR = -3.1300330553155814e-8\n",
      "∂_fc_d = -0.02845468238412422\n",
      "∂_fc_g = -4.623115871574889\n",
      "∂_fc_zhat = -3.286260152431117e-8\n",
      "∂_fc_Omega = 0.1741363451163044\n",
      "∂_g_d = -0.0070656878879531695\n",
      "∂_zhat_d = 0.6984100004015721\n",
      "∂_Omega_d = 0.142076910549918\n",
      "total_decomp = -15.528683528139428\n",
      "decomp_fc_d = -0.02845468238412422\n",
      "decomp_fc_Omega_Omega_d = 0.024740753928578833\n",
      "decomp_fc_zhat_zhat_d = -2.2951569543790865e-8\n",
      "decomp_fc_g_g_d = 0.032665493818390755\n",
      "decomp_g_d = -0.0070656878879531695\n",
      "U1_partial_fc_d_frac = 0.09830555793107293\n",
      "U1_decomp_fc_Omega_Omega_d_frac = -0.08547463597559969\n",
      "U1_decomp_fc_zhat_zhat_d_frac = 7.929334156458642e-8\n",
      "U1_decomp_fc_g_g_d_frac = -0.11285311681083983\n",
      "U2_decomp_g_d_frac = 1.1000221155620251\n",
      "planner_0_g_CE = 44.124611519089456\n",
      "planner_0_Omega_CE = 0.19000174565051506\n",
      "planner_0_zhat_CE = -3.585668260159077e-8\n",
      "MU_g_CE = 49.16893518028238\n",
      "semi_elasticity_g_d = -0.021355990948296454\n",
      "U1_partial_fc_d_ACRfrac = 0.9919116347100375\n",
      "d_T = 2.820243542916341\n",
      "d_d = -0.2022492825462603\n",
      "CE_extrap10p = 0.06387498714256461\n",
      "g_extrap10p = 0.0014290303060343298\n"
     ]
    }
   ],
   "source": [
    "for (key, value) in pairs(tot_der_2)\n",
    "    println(\"$key = $value\")\n",
    "end"
   ]
  },
  {
   "cell_type": "markdown",
   "metadata": {},
   "source": [
    "# Experiment 3: Small Chi, Large Upsilon"
   ]
  },
  {
   "cell_type": "code",
   "execution_count": 17,
   "metadata": {},
   "outputs": [],
   "source": [
    "params_3 = parameter_defaults(υ=0.0578642810021954, χ=1/8.67189105185081, μ=-0.0372151076053716); # without d "
   ]
  },
  {
   "cell_type": "markdown",
   "metadata": {},
   "source": [
    "### Baseline Steady State"
   ]
  },
  {
   "cell_type": "code",
   "execution_count": 18,
   "metadata": {},
   "outputs": [],
   "source": [
    "params_baseline_3 = merge(params_3, (d = d_baseline,))\n",
    "sol_baseline_3 = stationary_algebraic(params_baseline_3, settings_defaults());"
   ]
  },
  {
   "cell_type": "code",
   "execution_count": 19,
   "metadata": {},
   "outputs": [
    {
     "name": "stdout",
     "output_type": "stream",
     "text": [
      "g: 0.00791717188324888\n",
      "z_hat: 1.8986359034111397\n",
      "Omega: 0.6116062637689332\n",
      "c: 0.8331310571483044\n",
      "U_bar: 10.163936446583804\n",
      "lambda: 0.8817272717168025\n",
      "y: 0.8331310571483044\n"
     ]
    }
   ],
   "source": [
    "println(\"g: $(sol_baseline_3.g)\")\n",
    "println(\"z_hat: $(sol_baseline_3.z_hat)\")\n",
    "println(\"Omega: $(sol_baseline_3.Ω)\")\n",
    "println(\"c: $(sol_baseline_3.c)\")\n",
    "println(\"U_bar: $(sol_baseline_3.U_bar)\")\n",
    "println(\"lambda: $(sol_baseline_3.λ_ii)\")\n",
    "println(\"y: $(sol_baseline_3.y)\");"
   ]
  },
  {
   "cell_type": "markdown",
   "metadata": {},
   "source": [
    "### Counterfactual Steady State"
   ]
  },
  {
   "cell_type": "code",
   "execution_count": 20,
   "metadata": {},
   "outputs": [],
   "source": [
    "params_counterfactual_3 = merge(params_3, (d = d_counterfactual,))\n",
    "sol_counterfactual_3 = stationary_algebraic(params_counterfactual_3, settings_defaults());"
   ]
  },
  {
   "cell_type": "code",
   "execution_count": 21,
   "metadata": {},
   "outputs": [
    {
     "name": "stdout",
     "output_type": "stream",
     "text": [
      "g: 0.007917159873851005\n",
      "z_hat: 1.8986365500820455\n",
      "Omega: 0.6116064123520074\n",
      "c: 0.8331310936948889\n",
      "U_bar: 10.163909569724881\n",
      "lambda: 0.8817274467179184\n",
      "y: 0.8331310936948889\n"
     ]
    }
   ],
   "source": [
    "println(\"g: $(sol_counterfactual_3.g)\")\n",
    "println(\"z_hat: $(sol_counterfactual_3.z_hat)\")\n",
    "println(\"Omega: $(sol_counterfactual_3.Ω)\")\n",
    "println(\"c: $(sol_counterfactual_3.c)\")\n",
    "println(\"U_bar: $(sol_counterfactual_3.U_bar)\")\n",
    "println(\"lambda: $(sol_counterfactual_3.λ_ii)\")\n",
    "println(\"y: $(sol_counterfactual_3.y)\");"
   ]
  },
  {
   "cell_type": "markdown",
   "metadata": {},
   "source": [
    "### Total Derivative"
   ]
  },
  {
   "cell_type": "code",
   "execution_count": 22,
   "metadata": {},
   "outputs": [],
   "source": [
    "tot_der_3 = total_derivative(params_baseline_3, ϵ);"
   ]
  },
  {
   "cell_type": "code",
   "execution_count": 23,
   "metadata": {},
   "outputs": [
    {
     "name": "stdout",
     "output_type": "stream",
     "text": [
      "check = 1.0000003015228787\n",
      "d_U_d_total = -26.876858919573568\n",
      "U_1 = 59.01704750820482\n",
      "U_2 = 2417.5841867628105\n",
      "ACR = -3.978277149296921e-8\n",
      "∂_fc_d = -0.03260111413704913\n",
      "∂_fc_g = -3.352458975316684\n",
      "∂_fc_zhat = -4.729550085292251e-8\n",
      "∂_fc_Omega = 0.19441364784152318\n",
      "∂_g_d = -0.012009397872048697\n",
      "∂_zhat_d = 0.646670905622519\n",
      "∂_Omega_d = 0.1485830741568753\n",
      "total_decomp = -26.87686702356144\n",
      "decomp_fc_d = -0.03260111413704913\n",
      "decomp_fc_Omega_Omega_d = 0.02888657745434568\n",
      "decomp_fc_zhat_zhat_d = -3.058462436843002e-8\n",
      "decomp_fc_g_g_d = 0.040261013684298734\n",
      "decomp_g_d = -0.012009397872048697\n",
      "U1_partial_fc_d_frac = 0.07158652458115577\n",
      "U1_decomp_fc_Omega_Omega_d_frac = -0.06343003120408544\n",
      "U1_decomp_fc_zhat_zhat_d_frac = 6.715865460769213e-8\n",
      "U1_decomp_fc_g_g_d_frac = -0.0884063665326677\n",
      "U2_decomp_g_d_frac = 1.0802498059969428\n",
      "planner_0_g_CE = 45.145007676257144\n",
      "planner_0_Omega_CE = 0.23335301952009205\n",
      "planner_0_zhat_CE = -5.6768380493230744e-8\n",
      "MU_g_CE = 49.16893518028238\n",
      "semi_elasticity_g_d = -0.03629831890639301\n",
      "U1_partial_fc_d_ACRfrac = 0.9836125986008698\n",
      "d_T = 2.820243542916341\n",
      "d_d = -0.2022492825462603\n",
      "CE_extrap10p = 0.11055409381300588\n",
      "g_extrap10p = 0.002428892103434434\n"
     ]
    }
   ],
   "source": [
    "for (key, value) in pairs(tot_der_3)\n",
    "    println(\"$key = $value\")\n",
    "end"
   ]
  },
  {
   "cell_type": "markdown",
   "metadata": {},
   "source": [
    "# Additional Values"
   ]
  },
  {
   "cell_type": "code",
   "execution_count": 28,
   "metadata": {},
   "outputs": [
    {
     "name": "stdout",
     "output_type": "stream",
     "text": [
      "partial_g_d_ChiLargeRatio = tot_der_2.∂_g_d / tot_der_1.∂_g_d = 0.7550864035889899\n",
      "planner_0_g_ChiLargeRatio = tot_der_2.planner_0_g_CE / tot_der_1.planner_0_g_CE = 0.9872249130083788\n",
      "Inefficiency_ChiLargeRatio = (tot_der_2.∂_g_d * (tot_der_2.U_1 * tot_der_2.∂_fc_g + tot_der_2.U_2)) / (tot_der_1.∂_g_d * (tot_der_1.U_1 * tot_der_1.∂_fc_g + tot_der_1.U_2)) = 0.7454401090969501\n"
     ]
    }
   ],
   "source": [
    "# chi large \n",
    "@show partial_g_d_ChiLargeRatio = tot_der_2.∂_g_d/tot_der_1.∂_g_d\n",
    "@show planner_0_g_ChiLargeRatio = tot_der_2.planner_0_g_CE/tot_der_1.planner_0_g_CE\n",
    "@show Inefficiency_ChiLargeRatio = tot_der_2.∂_g_d*(tot_der_2.U_1*tot_der_2.∂_fc_g + tot_der_2.U_2)/(tot_der_1.∂_g_d*(tot_der_1.U_1*tot_der_1.∂_fc_g + tot_der_1.U_2));"
   ]
  },
  {
   "cell_type": "code",
   "execution_count": 29,
   "metadata": {},
   "outputs": [
    {
     "name": "stdout",
     "output_type": "stream",
     "text": [
      "partial_g_d_ChiSmallRatio = tot_der_3.∂_g_d / tot_der_1.∂_g_d = 1.2834041344984217\n",
      "planner_0_g_ChiSmallRatio = tot_der_3.planner_0_g_CE / tot_der_1.planner_0_g_CE = 1.0100548138916567\n",
      "Inefficiency_ChiSmallRatio = (tot_der_3.∂_g_d * (tot_der_3.U_1 * tot_der_3.∂_fc_g + tot_der_3.U_2)) / (tot_der_1.∂_g_d * (tot_der_1.U_1 * tot_der_1.∂_fc_g + tot_der_1.U_2)) = 1.2963085242185861\n"
     ]
    }
   ],
   "source": [
    "# chi small \n",
    "@show partial_g_d_ChiSmallRatio = tot_der_3.∂_g_d/tot_der_1.∂_g_d\n",
    "@show planner_0_g_ChiSmallRatio = tot_der_3.planner_0_g_CE/tot_der_1.planner_0_g_CE\n",
    "@show Inefficiency_ChiSmallRatio = tot_der_3.∂_g_d*(tot_der_3.U_1*tot_der_3.∂_fc_g + tot_der_3.U_2)/(tot_der_1.∂_g_d*(tot_der_1.U_1*tot_der_1.∂_fc_g + tot_der_1.U_2));"
   ]
  }
 ],
 "metadata": {
  "kernelspec": {
   "display_name": "Julia 1.3.0",
   "language": "julia",
   "name": "julia-1.3"
  },
  "language_info": {
   "file_extension": ".jl",
   "mimetype": "application/julia",
   "name": "julia",
   "version": "1.3.0"
  }
 },
 "nbformat": 4,
 "nbformat_minor": 4
}
