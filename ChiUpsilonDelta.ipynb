{
 "cells": [
  {
   "cell_type": "markdown",
   "metadata": {},
   "source": [
    "Read in baseline parameter values from  [``/parameters/calibration_params.csv``](/parameters/calibration_params.csv)\n",
    "\n",
    "Read in baseline parameter values from  [``/parameters/calibration_chi_0.14.csv.csv``](/parameters/calibration_chi_0.14.csv) for **large** chi values\n",
    "\n",
    "Read in baseline parameter values from  [``/parameters/calibration_chi_0.12.csv.csv``](/parameters/calibration_chi_0.12.csv) for **small** chi values"
   ]
  },
  {
   "cell_type": "code",
   "execution_count": 1,
   "metadata": {},
   "outputs": [],
   "source": [
    "using PerlaTonettiWaugh"
   ]
  },
  {
   "cell_type": "code",
   "execution_count": 2,
   "metadata": {},
   "outputs": [],
   "source": [
    "## common values\n",
    "params = load_parameters(\"parameters/calibration_params.csv\") # without d \n",
    "d_baseline = params.d_0\n",
    "ϵ = 0.000001\n",
    "d_counterfactual = d_baseline + ϵ;"
   ]
  },
  {
   "cell_type": "markdown",
   "metadata": {},
   "source": [
    "# Experiment 1: Baseline Values"
   ]
  },
  {
   "cell_type": "code",
   "execution_count": 3,
   "metadata": {},
   "outputs": [],
   "source": [
    "params_1 = load_parameters(\"parameters/calibration_chi_0.13.csv\"); "
   ]
  },
  {
   "cell_type": "markdown",
   "metadata": {},
   "source": [
    "### Baseline Steady State"
   ]
  },
  {
   "cell_type": "code",
   "execution_count": 4,
   "metadata": {},
   "outputs": [],
   "source": [
    "params_baseline_1 = merge(params_1, (d = params.d_0,))\n",
    "sol_baseline_1 = stationary_algebraic(params_baseline_1, settings_defaults());"
   ]
  },
  {
   "cell_type": "code",
   "execution_count": 5,
   "metadata": {},
   "outputs": [
    {
     "name": "stdout",
     "output_type": "stream",
     "text": [
      "g: 0.007913401963163308\n",
      "z_hat: 1.9813268967445312\n",
      "Omega: 0.6805904609927759\n",
      "c: 0.8706834939103555\n",
      "U_bar: 12.322561075850476\n",
      "lambda: 0.893708728294921\n",
      "y: 0.8706834939103555\n"
     ]
    }
   ],
   "source": [
    "println(\"g: $(sol_baseline_1.g)\")\n",
    "println(\"z_hat: $(sol_baseline_1.z_hat)\")\n",
    "println(\"Omega: $(sol_baseline_1.Ω)\")\n",
    "println(\"c: $(sol_baseline_1.c)\")\n",
    "println(\"U_bar: $(sol_baseline_1.U_bar)\")\n",
    "println(\"lambda: $(sol_baseline_1.λ_ii)\")\n",
    "println(\"y: $(sol_baseline_1.y)\");"
   ]
  },
  {
   "cell_type": "markdown",
   "metadata": {},
   "source": [
    "### Counterfactual Steady State"
   ]
  },
  {
   "cell_type": "code",
   "execution_count": 6,
   "metadata": {},
   "outputs": [],
   "source": [
    "params_counterfactual_1 = merge(params_1, (d = d_counterfactual,))\n",
    "sol_counterfactual_1 = stationary_algebraic(params_counterfactual_1, settings_defaults());"
   ]
  },
  {
   "cell_type": "code",
   "execution_count": 7,
   "metadata": {},
   "outputs": [
    {
     "name": "stdout",
     "output_type": "stream",
     "text": [
      "g: 0.007913392605707198\n",
      "z_hat: 1.981327566183414\n",
      "Omega: 0.6805906063613077\n",
      "c: 0.8706835265233939\n",
      "U_bar: 12.322540295124671\n",
      "lambda: 0.8937088869747696\n",
      "y: 0.8706835265233939\n"
     ]
    }
   ],
   "source": [
    "println(\"g: $(sol_counterfactual_1.g)\")\n",
    "println(\"z_hat: $(sol_counterfactual_1.z_hat)\")\n",
    "println(\"Omega: $(sol_counterfactual_1.Ω)\")\n",
    "println(\"c: $(sol_counterfactual_1.c)\")\n",
    "println(\"U_bar: $(sol_counterfactual_1.U_bar)\")\n",
    "println(\"lambda: $(sol_counterfactual_1.λ_ii)\")\n",
    "println(\"y: $(sol_counterfactual_1.y)\");"
   ]
  },
  {
   "cell_type": "markdown",
   "metadata": {},
   "source": [
    "### Total Derivative"
   ]
  },
  {
   "cell_type": "code",
   "execution_count": 8,
   "metadata": {},
   "outputs": [],
   "source": [
    "tot_der_1 = total_derivative(params_baseline_1, ϵ);"
   ]
  },
  {
   "cell_type": "code",
   "execution_count": 9,
   "metadata": {},
   "outputs": [
    {
     "name": "stdout",
     "output_type": "stream",
     "text": [
      "check = 1.0000003164242064\n",
      "d_U_d_total = -20.780725802120525\n",
      "U_1 = 56.47165189667045\n",
      "U_2 = 2417.5841867628105\n",
      "ACR = -3.558887611247415e-8\n",
      "∂_fc_d = -0.030619099584844357\n",
      "∂_fc_g = -3.894857607214616\n",
      "∂_fc_zhat = -3.9857006587322024e-8\n",
      "∂_fc_Omega = 0.18426332115154256\n",
      "∂_g_d = -0.00935745610900972\n",
      "∂_zhat_d = 0.6694388826785825\n",
      "∂_Omega_d = 0.14536853185831197\n",
      "total_decomp = -20.780732377645194\n",
      "decomp_fc_d = -0.030619099584844357\n",
      "decomp_fc_Omega_Omega_d = 0.026786088471136386\n",
      "decomp_fc_zhat_zhat_d = -2.668182995672976e-8\n",
      "decomp_fc_g_g_d = 0.036445959110353386\n",
      "decomp_g_d = -0.00935745610900972\n",
      "U1_partial_fc_d_frac = 0.08320742030270806\n",
      "U1_decomp_fc_Omega_Omega_d_frac = -0.07279121045043942\n",
      "U1_decomp_fc_zhat_zhat_d_frac = 7.25078878790382e-8\n",
      "U1_decomp_fc_g_g_d_frac = -0.09904191433282807\n",
      "U2_decomp_g_d_frac = 1.0886256319726715\n",
      "planner_0_g_CE = 44.695601719322546\n",
      "planner_0_Omega_CE = 0.21163065848875973\n",
      "planner_0_zhat_CE = -4.57766879309023e-8\n",
      "MU_g_CE = 49.16893518028238\n",
      "semi_elasticity_g_d = -0.028282843954063053\n",
      "U1_partial_fc_d_ACRfrac = 0.9881385225987269\n",
      "d_T = 2.82024354291634\n",
      "d_d = -0.20224928254625985\n",
      "CE_extrap10p = 0.08547852823646272\n",
      "g_extrap10p = 0.001892538784505332\n"
     ]
    }
   ],
   "source": [
    "for (key, value) in pairs(tot_der_1)\n",
    "    println(\"$key = $value\")\n",
    "end"
   ]
  },
  {
   "cell_type": "markdown",
   "metadata": {},
   "source": [
    "# Experiment 2: Large Chi, Small Upsilon"
   ]
  },
  {
   "cell_type": "code",
   "execution_count": 26,
   "metadata": {},
   "outputs": [
    {
     "data": {
      "text/plain": [
       "(ρ = 0.020338044668517, σ = 3.16692413583811, θ = 4.98897658793826, κ = 0.104196324793307, χ = 0.140940680056326, μ = -0.0250546341051264, υ = 0.0389564475706895, ζ = 1, δ = 0.02, N = 10, γ = 1, η = 0, Theta = 1, d_0 = 3.0224928254626, d_T = 2.82024354291634)"
      ]
     },
     "execution_count": 26,
     "metadata": {},
     "output_type": "execute_result"
    }
   ],
   "source": [
    "params_2 = load_parameters(\"parameters/calibration_chi_0.14.csv\") # without d "
   ]
  },
  {
   "cell_type": "markdown",
   "metadata": {},
   "source": [
    "### Baseline Steady State"
   ]
  },
  {
   "cell_type": "code",
   "execution_count": 27,
   "metadata": {},
   "outputs": [],
   "source": [
    "params_baseline_2 = merge(params_2, (d = params.d_0,))\n",
    "sol_baseline_2 = stationary_algebraic(params_baseline_2, settings_defaults());"
   ]
  },
  {
   "cell_type": "code",
   "execution_count": 28,
   "metadata": {},
   "outputs": [
    {
     "name": "stdout",
     "output_type": "stream",
     "text": [
      "g: 0.007965315131367867\n",
      "z_hat: 2.080939602549647\n",
      "Omega: 0.7686347134904623\n",
      "c: 0.9164986591049902\n",
      "U_bar: 14.969550592639846\n",
      "lambda: 0.906160127536508\n",
      "y: 0.9164986591049902\n"
     ]
    }
   ],
   "source": [
    "println(\"g: $(sol_baseline_2.g)\")\n",
    "println(\"z_hat: $(sol_baseline_2.z_hat)\")\n",
    "println(\"Omega: $(sol_baseline_2.Ω)\")\n",
    "println(\"c: $(sol_baseline_2.c)\")\n",
    "println(\"U_bar: $(sol_baseline_2.U_bar)\")\n",
    "println(\"lambda: $(sol_baseline_2.λ_ii)\")\n",
    "println(\"y: $(sol_baseline_2.y)\");"
   ]
  },
  {
   "cell_type": "markdown",
   "metadata": {},
   "source": [
    "### Counterfactual Steady State"
   ]
  },
  {
   "cell_type": "code",
   "execution_count": 29,
   "metadata": {},
   "outputs": [],
   "source": [
    "params_counterfactual_2 = merge(params_2, (d = d_counterfactual,))\n",
    "sol_counterfactual_2 = stationary_algebraic(params_counterfactual_2, settings_defaults());"
   ]
  },
  {
   "cell_type": "code",
   "execution_count": 30,
   "metadata": {},
   "outputs": [
    {
     "name": "stdout",
     "output_type": "stream",
     "text": [
      "g: 0.007965308065680007\n",
      "z_hat: 2.080940300959646\n",
      "Omega: 0.7686348555673722\n",
      "c: 0.9164986880566293\n",
      "U_bar: 14.969535063961548\n",
      "lambda: 0.9061602690394183\n",
      "y: 0.9164986880566293\n"
     ]
    }
   ],
   "source": [
    "println(\"g: $(sol_counterfactual_2.g)\")\n",
    "println(\"z_hat: $(sol_counterfactual_2.z_hat)\")\n",
    "println(\"Omega: $(sol_counterfactual_2.Ω)\")\n",
    "println(\"c: $(sol_counterfactual_2.c)\")\n",
    "println(\"U_bar: $(sol_counterfactual_2.U_bar)\")\n",
    "println(\"lambda: $(sol_counterfactual_2.λ_ii)\")\n",
    "println(\"y: $(sol_counterfactual_2.y)\");"
   ]
  },
  {
   "cell_type": "markdown",
   "metadata": {},
   "source": [
    "### Total Derivative"
   ]
  },
  {
   "cell_type": "code",
   "execution_count": 31,
   "metadata": {},
   "outputs": [],
   "source": [
    "tot_der_2 = total_derivative(params_baseline_2, ϵ);"
   ]
  },
  {
   "cell_type": "code",
   "execution_count": 32,
   "metadata": {},
   "outputs": [
    {
     "name": "stdout",
     "output_type": "stream",
     "text": [
      "check = 1.0000003334914345\n",
      "d_U_d_total = -15.52867829662233\n",
      "U_1 = 53.64867115932115\n",
      "U_2 = 2417.5841867628105\n",
      "ACR = -3.130033050864879e-8\n",
      "∂_fc_d = -0.02845468238412422\n",
      "∂_fc_g = -4.623115871796934\n",
      "∂_fc_zhat = -3.2973623826758165e-8\n",
      "∂_fc_Omega = 0.1741363450052821\n",
      "∂_g_d = -0.00706568785846287\n",
      "∂_zhat_d = 0.6984099990693045\n",
      "∂_Omega_d = 0.14207690988378419\n",
      "total_decomp = -15.528683475303529\n",
      "decomp_fc_d = -0.02845468238412422\n",
      "decomp_fc_Omega_Omega_d = 0.024740753796807017\n",
      "decomp_fc_zhat_zhat_d = -2.3029108586157767e-8\n",
      "decomp_fc_g_g_d = 0.03266549368362258\n",
      "decomp_g_d = -0.00706568785846287\n",
      "U1_partial_fc_d_frac = 0.09830555826555476\n",
      "U1_decomp_fc_Omega_Omega_d_frac = -0.08547463581117792\n",
      "U1_decomp_fc_zhat_zhat_d_frac = 7.956122459421358e-8\n",
      "U1_decomp_fc_g_g_d_frac = -0.1128531167292207\n",
      "U2_decomp_g_d_frac = 1.1000221147136193\n",
      "planner_0_g_CE = 44.12461151884718\n",
      "planner_0_Omega_CE = 0.1900017455293776\n",
      "planner_0_zhat_CE = -3.597782004281236e-8\n",
      "MU_g_CE = 49.16893518028238\n",
      "semi_elasticity_g_d = -0.021355990859162226\n",
      "U1_partial_fc_d_ACRfrac = 0.991911636120471\n",
      "d_T = 2.82024354291634\n",
      "d_d = -0.20224928254625985\n",
      "CE_extrap10p = 0.06387498692523165\n",
      "g_extrap10p = 0.0014290303000699348\n"
     ]
    }
   ],
   "source": [
    "for (key, value) in pairs(tot_der_2)\n",
    "    println(\"$key = $value\")\n",
    "end"
   ]
  },
  {
   "cell_type": "markdown",
   "metadata": {},
   "source": [
    "# Experiment 3: Small Chi, Large Upsilon"
   ]
  },
  {
   "cell_type": "code",
   "execution_count": 42,
   "metadata": {},
   "outputs": [
    {
     "data": {
      "text/plain": [
       "(ρ = 0.020338044668517, σ = 3.16692413583811, θ = 4.98897658793826, κ = 0.104196324793307, χ = 0.115315101864267, μ = -0.0372151076053716, υ = 0.0578642810021954, ζ = 1, δ = 0.02, N = 10, γ = 1, η = 0, Theta = 1, d_0 = 3.0224928254626, d_T = 2.82024354291634)"
      ]
     },
     "execution_count": 42,
     "metadata": {},
     "output_type": "execute_result"
    }
   ],
   "source": [
    "params_3 = load_parameters(\"parameters/calibration_chi_0.12.csv\") # without d "
   ]
  },
  {
   "cell_type": "markdown",
   "metadata": {},
   "source": [
    "### Baseline Steady State"
   ]
  },
  {
   "cell_type": "code",
   "execution_count": 43,
   "metadata": {},
   "outputs": [],
   "source": [
    "params_baseline_3 = merge(params_3, (d = d_baseline,))\n",
    "sol_baseline_3 = stationary_algebraic(params_baseline_3, settings_defaults());"
   ]
  },
  {
   "cell_type": "code",
   "execution_count": 44,
   "metadata": {},
   "outputs": [
    {
     "name": "stdout",
     "output_type": "stream",
     "text": [
      "g: 0.007917171883248942\n",
      "z_hat: 1.898635903411141\n",
      "Omega: 0.6116062637689342\n",
      "c: 0.8331310571483047\n",
      "U_bar: 10.163936446583977\n",
      "lambda: 0.8817272717168025\n",
      "y: 0.8331310571483047\n"
     ]
    }
   ],
   "source": [
    "println(\"g: $(sol_baseline_3.g)\")\n",
    "println(\"z_hat: $(sol_baseline_3.z_hat)\")\n",
    "println(\"Omega: $(sol_baseline_3.Ω)\")\n",
    "println(\"c: $(sol_baseline_3.c)\")\n",
    "println(\"U_bar: $(sol_baseline_3.U_bar)\")\n",
    "println(\"lambda: $(sol_baseline_3.λ_ii)\")\n",
    "println(\"y: $(sol_baseline_3.y)\");"
   ]
  },
  {
   "cell_type": "markdown",
   "metadata": {},
   "source": [
    "### Counterfactual Steady State"
   ]
  },
  {
   "cell_type": "code",
   "execution_count": 45,
   "metadata": {},
   "outputs": [],
   "source": [
    "params_counterfactual_3 = merge(params_3, (d = d_counterfactual,))\n",
    "sol_counterfactual_3 = stationary_algebraic(params_counterfactual_3, settings_defaults());"
   ]
  },
  {
   "cell_type": "code",
   "execution_count": 46,
   "metadata": {},
   "outputs": [
    {
     "name": "stdout",
     "output_type": "stream",
     "text": [
      "g: 0.007917159873850993\n",
      "z_hat: 1.8986365500820463\n",
      "Omega: 0.611606412352008\n",
      "c: 0.8331310936948896\n",
      "U_bar: 10.16390956972489\n",
      "lambda: 0.8817274467179183\n",
      "y: 0.8331310936948896\n"
     ]
    }
   ],
   "source": [
    "println(\"g: $(sol_counterfactual_3.g)\")\n",
    "println(\"z_hat: $(sol_counterfactual_3.z_hat)\")\n",
    "println(\"Omega: $(sol_counterfactual_3.Ω)\")\n",
    "println(\"c: $(sol_counterfactual_3.c)\")\n",
    "println(\"U_bar: $(sol_counterfactual_3.U_bar)\")\n",
    "println(\"lambda: $(sol_counterfactual_3.λ_ii)\")\n",
    "println(\"y: $(sol_counterfactual_3.y)\");"
   ]
  },
  {
   "cell_type": "markdown",
   "metadata": {},
   "source": [
    "### Total Derivative"
   ]
  },
  {
   "cell_type": "code",
   "execution_count": 47,
   "metadata": {},
   "outputs": [],
   "source": [
    "tot_der_3 = total_derivative(params_baseline_3, ϵ);"
   ]
  },
  {
   "cell_type": "code",
   "execution_count": 48,
   "metadata": {},
   "outputs": [
    {
     "name": "stdout",
     "output_type": "stream",
     "text": [
      "check = 1.0000003023878306\n",
      "d_U_d_total = -26.876859082998397\n",
      "U_1 = 59.0170475082048\n",
      "U_2 = 2417.5841867628105\n",
      "ACR = -3.9782771448462186e-8\n",
      "∂_fc_d = -0.03260111424807143\n",
      "∂_fc_g = -3.352458975316684\n",
      "∂_fc_zhat = -4.751754545786581e-8\n",
      "∂_fc_Omega = 0.19441364773050088\n",
      "∂_g_d = -0.012009397946641806\n",
      "∂_zhat_d = 0.6466709051784298\n",
      "∂_Omega_d = 0.1485830737127861\n",
      "total_decomp = -26.87686721023351\n",
      "decomp_fc_d = -0.03260111424807143\n",
      "decomp_fc_Omega_Omega_d = 0.02888657735151264\n",
      "decomp_fc_zhat_zhat_d = -3.072821413309527e-8\n",
      "decomp_fc_g_g_d = 0.04026101393436907\n",
      "decomp_g_d = -0.012009397946641806\n",
      "U1_partial_fc_d_frac = 0.07158652432774094\n",
      "U1_decomp_fc_Omega_Omega_d_frac = -0.06343003053773107\n",
      "U1_decomp_fc_zhat_zhat_d_frac = 6.747395294064177e-8\n",
      "U1_decomp_fc_g_g_d_frac = -0.08840636646775735\n",
      "U2_decomp_g_d_frac = 1.0802498052037945\n",
      "planner_0_g_CE = 45.145007676257144\n",
      "planner_0_Omega_CE = 0.23335301938683284\n",
      "planner_0_zhat_CE = -5.703489871150881e-8\n",
      "MU_g_CE = 49.16893518028238\n",
      "semi_elasticity_g_d = -0.03629831913185014\n",
      "U1_partial_fc_d_ACRfrac = 0.9836126030509561\n",
      "d_T = 2.82024354291634\n",
      "d_d = -0.20224928254625985\n",
      "CE_extrap10p = 0.1105540945808541\n",
      "g_extrap10p = 0.0024288921185208314\n"
     ]
    }
   ],
   "source": [
    "for (key, value) in pairs(tot_der_3)\n",
    "    println(\"$key = $value\")\n",
    "end"
   ]
  },
  {
   "cell_type": "markdown",
   "metadata": {},
   "source": [
    "# Additional Values"
   ]
  },
  {
   "cell_type": "code",
   "execution_count": 49,
   "metadata": {},
   "outputs": [
    {
     "name": "stdout",
     "output_type": "stream",
     "text": [
      "partial_g_d_ChiLargeRatio = tot_der_2.∂_g_d / tot_der_1.∂_g_d = 0.7550864012773465\n",
      "planner_0_g_ChiLargeRatio = tot_der_2.planner_0_g_CE / tot_der_1.planner_0_g_CE = 0.9872249130001416\n",
      "Inefficiency_ChiLargeRatio = (tot_der_2.∂_g_d * (tot_der_2.U_1 * tot_der_2.∂_fc_g + tot_der_2.U_2)) / (tot_der_1.∂_g_d * (tot_der_1.U_1 * tot_der_1.∂_fc_g + tot_der_1.U_2)) = 0.7454401068086185\n"
     ]
    }
   ],
   "source": [
    "# chi large \n",
    "@show partial_g_d_ChiLargeRatio = tot_der_2.∂_g_d/tot_der_1.∂_g_d\n",
    "@show planner_0_g_ChiLargeRatio = tot_der_2.planner_0_g_CE/tot_der_1.planner_0_g_CE\n",
    "@show Inefficiency_ChiLargeRatio = tot_der_2.∂_g_d*(tot_der_2.U_1*tot_der_2.∂_fc_g + tot_der_2.U_2)/(tot_der_1.∂_g_d*(tot_der_1.U_1*tot_der_1.∂_fc_g + tot_der_1.U_2));"
   ]
  },
  {
   "cell_type": "code",
   "execution_count": 50,
   "metadata": {},
   "outputs": [
    {
     "name": "stdout",
     "output_type": "stream",
     "text": [
      "partial_g_d_ChiSmallRatio = tot_der_3.∂_g_d / tot_der_1.∂_g_d = 1.283404143897474\n",
      "planner_0_g_ChiSmallRatio = tot_der_3.planner_0_g_CE / tot_der_1.planner_0_g_CE = 1.010054813888775\n",
      "Inefficiency_ChiSmallRatio = (tot_der_3.∂_g_d * (tot_der_3.U_1 * tot_der_3.∂_fc_g + tot_der_3.U_2)) / (tot_der_1.∂_g_d * (tot_der_1.U_1 * tot_der_1.∂_fc_g + tot_der_1.U_2)) = 1.2963085337084457\n"
     ]
    }
   ],
   "source": [
    "# chi small \n",
    "@show partial_g_d_ChiSmallRatio = tot_der_3.∂_g_d/tot_der_1.∂_g_d\n",
    "@show planner_0_g_ChiSmallRatio = tot_der_3.planner_0_g_CE/tot_der_1.planner_0_g_CE\n",
    "@show Inefficiency_ChiSmallRatio = tot_der_3.∂_g_d*(tot_der_3.U_1*tot_der_3.∂_fc_g + tot_der_3.U_2)/(tot_der_1.∂_g_d*(tot_der_1.U_1*tot_der_1.∂_fc_g + tot_der_1.U_2));"
   ]
  }
 ],
 "metadata": {
  "kernelspec": {
   "display_name": "Julia 1.4.0",
   "language": "julia",
   "name": "julia-1.4"
  },
  "language_info": {
   "file_extension": ".jl",
   "mimetype": "application/julia",
   "name": "julia",
   "version": "1.4.0"
  }
 },
 "nbformat": 4,
 "nbformat_minor": 4
}
